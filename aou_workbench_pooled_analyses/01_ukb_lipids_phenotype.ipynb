{
 "cells": [
  {
   "cell_type": "markdown",
   "metadata": {},
   "source": [
    "# Prepare a lipids phenotype\n",
    "\n",
    "In this notebook, we use the UK Biobank data to prepare a lipids phenotype adjusted for statin use.\n",
    "\n",
    "Note that this work is part of a larger project to [Demonstrate the Potential for Pooled Analysis of All of Us and UK Biobank Genomic Data](https://github.com/all-of-us/ukb-cross-analysis-demo-project). Specifically this is for the portion of the project that is the **pooled** analysis since this data will be combined with *All of Us* data in the next notebook, `aou_workbench_pooled_analyses/02_merge_lipids_phenotypes.ipynb`.\n",
    "\n",
    "Also note that the UK Biobank data we read from BigQuery is not the raw data from UK Biobank. Instead it has had some previous processing performed on it by the Nataranjan lab, such as determining whether or not each UKB participant uses statin medication. If you want to see what the UKB phenotype wrangle looks like when starting from the raw data from UKB Biobank, see notebook `ukb_rap_siloed_analyses/5_ukb_lipids_gwas_phenotype.ipynb`.\n"
   ]
  },
  {
   "cell_type": "markdown",
   "metadata": {},
   "source": [
    "<div class=\"alert alert-block alert-warning\">\n",
    "    <b>Cloud Environment</b>: This notebook was written for use on the <i>All of Us</i> Workbench.\n",
    "    <ul>\n",
    "        <li>Use \"Recommended Environment\" <kbd><b>General Analysis</b></kbd> which creates compute type <kbd><b>Standard VM</b></kbd> with reasonable defaults for CPU, RAM, and disk.</li>\n",
    "        <li>This notebook only takes a few minutes to run interactively. You can also it in the background via <kbd>run_notebook_in_the_background</kbd> for the sake of provenance and reproducibility.</li>\n",
    "    </ul>\n",
    "</div>"
   ]
  },
  {
   "cell_type": "code",
   "execution_count": null,
   "metadata": {},
   "outputs": [],
   "source": [
    "lapply(c('skimr'), function(pkg_name) { if(! pkg_name %in% installed.packages()) { install.packages(pkg_name)} } )"
   ]
  },
  {
   "cell_type": "code",
   "execution_count": null,
   "metadata": {},
   "outputs": [],
   "source": [
    "library(bigrquery)\n",
    "library(lubridate)\n",
    "library(skimr)\n",
    "library(tidyverse)"
   ]
  },
  {
   "cell_type": "markdown",
   "metadata": {},
   "source": [
    "<div class=\"alert alert-block alert-info\">\n",
    "<b>Note:</b> The <a href='https://cloud.google.com/bigquery/docs/reference/standard-sql/query-syntax#with_clause'>WITH clause</a> allows you to logically sequence your code. It does this by allowing you to emulate temporary table names that are usable by your main SQL statement so that you can break your code into smaller and easier to understand queries that refer to one another.\n",
    "</div>"
   ]
  },
  {
   "cell_type": "code",
   "execution_count": null,
   "metadata": {},
   "outputs": [],
   "source": [
    "formulate_and_run_multipart_query <- function(subqueries, final_tbl) {\n",
    "    query <- str_c('WITH\\n', str_c(subqueries, collapse = ',\\n\\n'), str_glue('\\n\\n\\nSELECT * FROM {final_tbl}'))\n",
    "    message(query)               \n",
    "    results <- bq_table_download(bq_dataset_query(Sys.getenv('WORKSPACE_CDR'),\n",
    "                                                  query,\n",
    "                                                  billing = Sys.getenv('GOOGLE_PROJECT')))\n",
    "    message(str_glue('Dimensions of result: num_rows={nrow(results)} num_cols={ncol(results)}'))\n",
    "    return(results)\n",
    "}          "
   ]
  },
  {
   "cell_type": "markdown",
   "metadata": {},
   "source": [
    "## Define constants"
   ]
  },
  {
   "cell_type": "code",
   "execution_count": null,
   "metadata": {
    "tags": [
     "parameters"
    ]
   },
   "outputs": [],
   "source": [
    "# Papermill parameters. See https://papermill.readthedocs.io/en/latest/usage-parameterize.html\n",
    "\n",
    "#---[ Inputs ]---\n",
    "# Provided by UKB.\n",
    "UKB_EID_TO_SAMPLE_ID <- 'gs://uk-biobank-sek-data-us-east1/sample-info/bridge_7089_31063.tsv'\n",
    "# Provided by UKB.\n",
    "WITHDRAWN_PARTICIPANTS <- 'uk-biobank-sek-data.exclusions.w7089_20220222'\n",
    "# Created via notebook aou_workbench_pooled_analyses/matrix_table_creation/get_sample_list_from_matrix_table.ipynb\n",
    "UKB_200K_EXOME_SAMPLE_IDS <- 'gs://fc-secure-e53e4a44-7fe2-42b7-89b7-01aae1e399f7/data/ukb/ukb_200k_exome_sample_ids.tsv'\n",
    "# A BigQuery table of raw UKB application 7089 data.\n",
    "UKB_INSTANCED_DATA <- 'uk-biobank-sek-data.pivoted_phenotypes.instance_values_table_ukb9222_20210111'\n",
    "# A BigQuery table of data prepared by the Natarajan lab.\n",
    "NATARAJAN_DEMOGRAPHICS <- 'uk-biobank-sek-data.raw_phenotypes.lipids_pheno_raw'\n",
    "# A BigQuery table of data prepared by the Natarajan lab.\n",
    "NATARAJAN_LIPIDS <- 'uk-biobank-sek-data.phenotypes.lipids'\n",
    "# Data from https://biobank.ndph.ox.ac.uk/ukb/schema.cgi?id=11\n",
    "UKB_HIERARCHICAL_INT_CODINGS <- 'uk-biobank-sek-data.metadata.ehierint'\n",
    "\n",
    "#---[ Outputs ]---\n",
    "# Create a timestamp for a folder of results generated today.\n",
    "DATESTAMP <- strftime(now(), '%Y%m%d')\n",
    "DESTINATION <- str_glue('{Sys.getenv(\"WORKSPACE_BUCKET\")}/data/ukb/pheno/{DATESTAMP}/')\n",
    "UKB_PHENOTYPE_FILENAME <- 'ukb_lipids_phenotype.csv'"
   ]
  },
  {
   "cell_type": "markdown",
   "metadata": {},
   "source": [
    "# UKB 200k exome sample ids"
   ]
  },
  {
   "cell_type": "code",
   "execution_count": null,
   "metadata": {},
   "outputs": [],
   "source": [
    "ukb_exome_sample_ids <- read_tsv(pipe(str_glue('gsutil cat {UKB_200K_EXOME_SAMPLE_IDS}')))\n",
    "\n",
    "dim(ukb_exome_sample_ids)\n",
    "head(ukb_exome_sample_ids)"
   ]
  },
  {
   "cell_type": "markdown",
   "metadata": {},
   "source": [
    "# eid to sample id mapping"
   ]
  },
  {
   "cell_type": "code",
   "execution_count": null,
   "metadata": {},
   "outputs": [],
   "source": [
    "ukb_eid_to_sample_id <- read_delim(\n",
    "    pipe(str_glue('gsutil cat {UKB_EID_TO_SAMPLE_ID}')),\n",
    "    delim = '\\t'\n",
    ")\n",
    "\n",
    "dim(ukb_eid_to_sample_id)\n",
    "head(ukb_eid_to_sample_id)"
   ]
  },
  {
   "cell_type": "markdown",
   "metadata": {},
   "source": [
    "## Limit the mapping to participants with genomic data"
   ]
  },
  {
   "cell_type": "code",
   "execution_count": null,
   "metadata": {},
   "outputs": [],
   "source": [
    "ukb_eid_to_sample_id <- ukb_eid_to_sample_id %>%\n",
    "    filter(eid_31063 %in% ukb_exome_sample_ids$s)\n",
    "\n",
    "dim(ukb_eid_to_sample_id)"
   ]
  },
  {
   "cell_type": "markdown",
   "metadata": {},
   "source": [
    "# Demographics"
   ]
  },
  {
   "cell_type": "markdown",
   "metadata": {},
   "source": [
    "See also:\n",
    "* https://biobank.ctsu.ox.ac.uk/crystal/field.cgi?id=21000\n",
    "* https://biobank.ctsu.ox.ac.uk/crystal/coding.cgi?id=1001"
   ]
  },
  {
   "cell_type": "code",
   "execution_count": null,
   "metadata": {},
   "outputs": [],
   "source": [
    "ETHNIC_BACKGROUND_CODING_QUERY <- str_glue ('\n",
    "--- Return the base level code meanings for ethnic background\n",
    "base_ethnic_background_coding_tbl AS (\n",
    "    SELECT\n",
    "      value,\n",
    "      meaning,\n",
    "      if(parent_id != 0, parent_id, value) AS top_level_value\n",
    "    FROM\n",
    "        `{UKB_HIERARCHICAL_INT_CODINGS}`\n",
    "    WHERE\n",
    "        encoding_id = 1001\n",
    "),\n",
    "\n",
    "--- And get the meaning for the top_level_value too.\n",
    "ethnic_background_coding_tbl AS (\n",
    "    SELECT\n",
    "        base.value,\n",
    "        base.meaning,\n",
    "        base.top_level_value,\n",
    "        top_level.meaning AS top_level_meaning\n",
    "    FROM base_ethnic_background_coding_tbl AS base\n",
    "    LEFT JOIN base_ethnic_background_coding_tbl AS top_level\n",
    "    ON base.top_level_value = top_level.value\n",
    ")')"
   ]
  },
  {
   "cell_type": "code",
   "execution_count": null,
   "metadata": {},
   "outputs": [],
   "source": [
    "DEMOGRAPHICS_QUERY <- str_glue('\n",
    "-- Return row level demographics data for UKB participants.\n",
    "demographics_tbl AS (\n",
    "    SELECT\n",
    "        id AS eid,\n",
    "        f_21000_Ethnic_background,\n",
    "        meaning AS ethnic_background,\n",
    "        top_level_meaning AS top_level_ethnic_background,\n",
    "        age,\n",
    "        sex AS sex_at_birth\n",
    "    FROM\n",
    "        `{NATARAJAN_DEMOGRAPHICS}`\n",
    "    LEFT JOIN (\n",
    "        SELECT\n",
    "            eid,\n",
    "            f_21000_Ethnic_background\n",
    "        FROM\n",
    "          `{UKB_INSTANCED_DATA}`\n",
    "        WHERE\n",
    "          instanceId = 0\n",
    "    ) ON id = eid\n",
    "    LEFT JOIN ethnic_background_coding_tbl\n",
    "    ON f_21000_Ethnic_background = value\n",
    "    WHERE\n",
    "        id NOT IN (SELECT * FROM {WITHDRAWN_PARTICIPANTS})\n",
    ")')"
   ]
  },
  {
   "cell_type": "code",
   "execution_count": null,
   "metadata": {},
   "outputs": [],
   "source": [
    "demographics <- formulate_and_run_multipart_query(c(ETHNIC_BACKGROUND_CODING_QUERY, DEMOGRAPHICS_QUERY), 'demographics_tbl')\n",
    "head(demographics)\n",
    "dim(demographics)"
   ]
  },
  {
   "cell_type": "code",
   "execution_count": null,
   "metadata": {},
   "outputs": [],
   "source": [
    "skim(demographics)"
   ]
  },
  {
   "cell_type": "code",
   "execution_count": null,
   "metadata": {},
   "outputs": [],
   "source": [
    "table(demographics$age, useNA = 'always')"
   ]
  },
  {
   "cell_type": "code",
   "execution_count": null,
   "metadata": {},
   "outputs": [],
   "source": [
    "table(demographics$sex_at_birth, useNA = 'always')"
   ]
  },
  {
   "cell_type": "code",
   "execution_count": null,
   "metadata": {},
   "outputs": [],
   "source": [
    "table(demographics$f_21000_Ethnic_background, useNA = 'always')"
   ]
  },
  {
   "cell_type": "code",
   "execution_count": null,
   "metadata": {},
   "outputs": [],
   "source": [
    "table(demographics$ethnic_background, useNA = 'always')"
   ]
  },
  {
   "cell_type": "code",
   "execution_count": null,
   "metadata": {},
   "outputs": [],
   "source": [
    "table(demographics$top_level_ethnic_background, useNA = 'always')"
   ]
  },
  {
   "cell_type": "markdown",
   "metadata": {},
   "source": [
    "# Lipids and statin use data"
   ]
  },
  {
   "cell_type": "code",
   "execution_count": null,
   "metadata": {},
   "outputs": [],
   "source": [
    "LIPIDS_QUERY <- str_glue('\n",
    "lipids_tbl AS (\n",
    "-- Return row level data for lipids and statin use from the initial study visit for UKB participants.\n",
    "-- Limit to the participants with non-null values for all four lipids\n",
    "    SELECT\n",
    "        eid,\n",
    "        ldl AS LDL,\n",
    "        hdl AS HDL,\n",
    "        chol AS TC,\n",
    "        trig AS TG,\n",
    "        statin0 AS statin_use\n",
    "    FROM\n",
    "        `{NATARAJAN_LIPIDS}`\n",
    "    WHERE\n",
    "        eid NOT IN (SELECT * FROM {WITHDRAWN_PARTICIPANTS})\n",
    "        -- At least one non-null lipid\n",
    "        AND (ldl IS NOT NULL\n",
    "          OR hdl IS NOT NULL\n",
    "          OR chol IS NOT NULL\n",
    "          OR trig IS NOT NULL)\n",
    ")')"
   ]
  },
  {
   "cell_type": "code",
   "execution_count": null,
   "metadata": {},
   "outputs": [],
   "source": [
    "wide_lipids_and_statin_use <- formulate_and_run_multipart_query(c(LIPIDS_QUERY), 'lipids_tbl')"
   ]
  },
  {
   "cell_type": "code",
   "execution_count": null,
   "metadata": {},
   "outputs": [],
   "source": [
    "dim(wide_lipids_and_statin_use)\n",
    "head(wide_lipids_and_statin_use)"
   ]
  },
  {
   "cell_type": "code",
   "execution_count": null,
   "metadata": {},
   "outputs": [],
   "source": [
    "skim(wide_lipids_and_statin_use)"
   ]
  },
  {
   "cell_type": "code",
   "execution_count": null,
   "metadata": {},
   "outputs": [],
   "source": [
    "table(wide_lipids_and_statin_use$statin_use, useNA = 'always')"
   ]
  },
  {
   "cell_type": "markdown",
   "metadata": {},
   "source": [
    "## Pivot lipids measurements"
   ]
  },
  {
   "cell_type": "code",
   "execution_count": null,
   "metadata": {},
   "outputs": [],
   "source": [
    "lipids_and_statin_use <- wide_lipids_and_statin_use %>%\n",
    "    pivot_longer(\n",
    "        cols = c('LDL', 'HDL', 'TC', 'TG'),\n",
    "        names_to = 'lipid_type',\n",
    "        values_to = 'mg_dl')"
   ]
  },
  {
   "cell_type": "code",
   "execution_count": null,
   "metadata": {},
   "outputs": [],
   "source": [
    "lipids_and_statin_use %>%\n",
    "    group_by(lipid_type) %>%\n",
    "    summarize(\n",
    "        num_persons = n_distinct(eid),\n",
    "        num_measures = n(),\n",
    "        missing = sum(is.na(mg_dl)),\n",
    "        median = median(mg_dl, na.rm = TRUE),\n",
    "        mean = mean(mg_dl, na.rm = TRUE),\n",
    "        stddev = sd(mg_dl, na.rm = TRUE)\n",
    "    ) %>%\n",
    "    arrange(desc(num_persons))    "
   ]
  },
  {
   "cell_type": "markdown",
   "metadata": {},
   "source": [
    "# Join all the data together\n",
    "\n",
    "Inner join demographics with lipids and statin use data. Note that the demographics dataframe was filtered to remove participants withdrawn from the study.\n",
    "\n",
    "Then inner join the eid to sample id map. Note that the mapping was filtered to just those participants with exome data."
   ]
  },
  {
   "cell_type": "code",
   "execution_count": null,
   "metadata": {},
   "outputs": [],
   "source": [
    "lipid_phenotype <- inner_join(demographics, lipids_and_statin_use, by = c('eid' = 'eid')) %>%\n",
    "    inner_join(ukb_eid_to_sample_id, by = c('eid' = 'eid_7089'))"
   ]
  },
  {
   "cell_type": "code",
   "execution_count": null,
   "metadata": {},
   "outputs": [],
   "source": [
    "dim(lipid_phenotype)\n",
    "head(lipid_phenotype)"
   ]
  },
  {
   "cell_type": "markdown",
   "metadata": {},
   "source": [
    "# Add age^2 covariate"
   ]
  },
  {
   "cell_type": "code",
   "execution_count": null,
   "metadata": {},
   "outputs": [],
   "source": [
    "lipid_phenotype <- lipid_phenotype %>%\n",
    "    mutate(\n",
    "        # Age at time of measurement.\n",
    "        age2 = age^2\n",
    "    )"
   ]
  },
  {
   "cell_type": "markdown",
   "metadata": {},
   "source": [
    "# Adjust lipids for statin use"
   ]
  },
  {
   "cell_type": "markdown",
   "metadata": {},
   "source": [
    "## Adjust LDL for statin use"
   ]
  },
  {
   "cell_type": "code",
   "execution_count": null,
   "metadata": {},
   "outputs": [],
   "source": [
    "# LDL adjustment based on TG and LDL values\n",
    "# If TG > 400, then LDL = NA\n",
    "# If LDL < 10, then LDL = NA\n",
    "# If STATIN is used, LDL_ADJ = LDL/0.7\n",
    "\n",
    "ldl_adjusted_phenotype <- lipid_phenotype %>%\n",
    "    filter(lipid_type == 'LDL') %>%\n",
    "    left_join(\n",
    "        lipid_phenotype %>%\n",
    "        filter(lipid_type == 'TG') %>%\n",
    "        select(eid, TG=mg_dl)\n",
    "    ) %>%\n",
    "    mutate(\n",
    "        lipid_type = 'LDL_adjusted',\n",
    "        mg_dl = case_when(\n",
    "            mg_dl < 10 ~ NA_real_,\n",
    "            TG > 400 ~ NA_real_,\n",
    "            TRUE ~ mg_dl\n",
    "        )\n",
    "    ) %>%\n",
    "    mutate(\n",
    "        mg_dl = case_when(\n",
    "            statin_use == 1 ~ mg_dl / 0.7,\n",
    "            TRUE ~ mg_dl\n",
    "        )\n",
    "    )"
   ]
  },
  {
   "cell_type": "code",
   "execution_count": null,
   "metadata": {},
   "outputs": [],
   "source": [
    "# Add this new lipid type to our lipid phenotype.\n",
    "lipid_phenotype <- rbind(\n",
    "    lipid_phenotype,\n",
    "    ldl_adjusted_phenotype %>% select(-TG)\n",
    ")"
   ]
  },
  {
   "cell_type": "markdown",
   "metadata": {},
   "source": [
    "## Adjust total cholesterol for statin use"
   ]
  },
  {
   "cell_type": "code",
   "execution_count": null,
   "metadata": {},
   "outputs": [],
   "source": [
    "# TC adjustment\n",
    "# If STATIN is used, TC_ADJ = TC/0.8\n",
    "\n",
    "tc_adjusted_phenotype <- lipid_phenotype %>%\n",
    "    filter(lipid_type == 'TC') %>%\n",
    "    mutate(\n",
    "        lipid_type = 'TC_adjusted',\n",
    "        mg_dl = case_when(\n",
    "            statin_use == 1 ~ mg_dl / 0.8,\n",
    "            TRUE ~ mg_dl\n",
    "        )\n",
    "    )"
   ]
  },
  {
   "cell_type": "code",
   "execution_count": null,
   "metadata": {},
   "outputs": [],
   "source": [
    "# Add this new lipid type to our lipid phenotype.\n",
    "lipid_phenotype <- rbind(\n",
    "    lipid_phenotype,\n",
    "    tc_adjusted_phenotype\n",
    ")"
   ]
  },
  {
   "cell_type": "markdown",
   "metadata": {},
   "source": [
    "## Adjust triglycerides"
   ]
  },
  {
   "cell_type": "code",
   "execution_count": null,
   "metadata": {},
   "outputs": [],
   "source": [
    "# Triglyceride adjustment\n",
    "# TG_ADJ = log(TG)\n",
    "\n",
    "tg_adjusted_phenotype <- lipid_phenotype %>%\n",
    "    filter(lipid_type == 'TG') %>%\n",
    "    mutate(\n",
    "        lipid_type = 'TG_adjusted',\n",
    "        mg_dl = log(mg_dl)\n",
    "    )"
   ]
  },
  {
   "cell_type": "code",
   "execution_count": null,
   "metadata": {},
   "outputs": [],
   "source": [
    "# Add this new lipid type to our lipid phenotype.\n",
    "lipid_phenotype <- rbind(\n",
    "    lipid_phenotype,\n",
    "    tg_adjusted_phenotype\n",
    ")"
   ]
  },
  {
   "cell_type": "markdown",
   "metadata": {},
   "source": [
    "## Check adjusted lipids values"
   ]
  },
  {
   "cell_type": "code",
   "execution_count": null,
   "metadata": {},
   "outputs": [],
   "source": [
    "lipid_phenotype %>%\n",
    "    group_by(lipid_type) %>%\n",
    "    summarize(\n",
    "        num_persons = n_distinct(eid),\n",
    "        num_measures = n(),\n",
    "        missing = sum(is.na(mg_dl)),\n",
    "        median = median(mg_dl, na.rm = TRUE),\n",
    "        mean = mean(mg_dl, na.rm = TRUE),\n",
    "        stddev = sd(mg_dl, na.rm = TRUE)\n",
    "    ) %>%\n",
    "    arrange(desc(lipid_type))    "
   ]
  },
  {
   "cell_type": "markdown",
   "metadata": {},
   "source": [
    "# Write phenotypes to workspace bucket"
   ]
  },
  {
   "cell_type": "code",
   "execution_count": null,
   "metadata": {},
   "outputs": [],
   "source": [
    "length(unique(lipid_phenotype$eid))"
   ]
  },
  {
   "cell_type": "code",
   "execution_count": null,
   "metadata": {},
   "outputs": [],
   "source": [
    "# Write the dataframe to a file.\n",
    "write_csv(lipid_phenotype, UKB_PHENOTYPE_FILENAME)"
   ]
  },
  {
   "cell_type": "code",
   "execution_count": null,
   "metadata": {},
   "outputs": [],
   "source": [
    "# Copy the file to the workspace bucket.\n",
    "system(str_glue('gsutil cp {UKB_PHENOTYPE_FILENAME} {DESTINATION}'), intern = T)"
   ]
  },
  {
   "cell_type": "code",
   "execution_count": null,
   "metadata": {},
   "outputs": [],
   "source": [
    "# Check the destination.\n",
    "system(str_glue('gsutil ls -lh {DESTINATION}'), intern = T)"
   ]
  },
  {
   "cell_type": "markdown",
   "metadata": {},
   "source": [
    "# Provenance"
   ]
  },
  {
   "cell_type": "code",
   "execution_count": null,
   "metadata": {},
   "outputs": [],
   "source": [
    "devtools::session_info()"
   ]
  }
 ],
 "metadata": {
  "kernelspec": {
   "display_name": "R",
   "language": "R",
   "name": "ir"
  },
  "language_info": {
   "codemirror_mode": "r",
   "file_extension": ".r",
   "mimetype": "text/x-r-source",
   "name": "R",
   "pygments_lexer": "r",
   "version": "4.1.2"
  },
  "toc": {
   "base_numbering": 1,
   "nav_menu": {},
   "number_sections": true,
   "sideBar": true,
   "skip_h1_title": false,
   "title_cell": "Table of Contents",
   "title_sidebar": "Contents",
   "toc_cell": false,
   "toc_position": {
    "height": "calc(100% - 180px)",
    "left": "10px",
    "top": "150px",
    "width": "352px"
   },
   "toc_section_display": true,
   "toc_window_display": true
  }
 },
 "nbformat": 4,
 "nbformat_minor": 2
}

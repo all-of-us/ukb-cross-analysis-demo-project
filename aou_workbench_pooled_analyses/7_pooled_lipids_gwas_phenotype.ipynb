{
 "cells": [
  {
   "cell_type": "markdown",
   "metadata": {},
   "source": [
    "# Prepare a lipids phenotype for a GWAS study\n",
    "\n",
    "In this notebook we combine the _All of Us_ lipids phenotype with the UK Biobank lipids phenotype to prepare a pooled lipids phenotype for a GWAS study.\n",
    "\n",
    "Note that this work is part of a larger project to [Demonstrate the Potential for Pooled Analysis of All of Us and UK Biobank Genomic Data](https://docs.google.com/document/d/19ZS0z_-7FEM37pNDAXaWaqBSLnqyd9MZEkiOmtF3n_0/edit#). Specifically, this notebook combines the results from `aou_workbench_siloed_analyses/3_aou_lipids_gwas_phenotype.ipynb` and `aou_workbench_pooled_analyses/6_ukb_lipids_gwas_phenotype.ipynb`.\n",
    "\n",
    "TODO update project description link to biorxiv paper after it is posted."
   ]
  },
  {
   "cell_type": "markdown",
   "metadata": {},
   "source": [
    "# Setup "
   ]
  },
  {
   "cell_type": "markdown",
   "metadata": {},
   "source": [
    "<div class=\"alert alert-block alert-warning\">\n",
    "    <b>Cloud Environment</b>: This notebook was written for use on the All of Us Workbench. It runs fine on the default Cloud Environment for type <i>Standard VM</i>. \n",
    "</div>"
   ]
  },
  {
   "cell_type": "code",
   "execution_count": null,
   "metadata": {},
   "outputs": [],
   "source": [
    "lapply(c('skimr'), function(pkg_name) { if(! pkg_name %in% installed.packages()) { install.packages(pkg_name)} } )"
   ]
  },
  {
   "cell_type": "code",
   "execution_count": null,
   "metadata": {},
   "outputs": [],
   "source": [
    "library(lubridate)\n",
    "library(skimr)\n",
    "library(tidyverse)"
   ]
  },
  {
   "cell_type": "markdown",
   "metadata": {},
   "source": [
    "## Define constants"
   ]
  },
  {
   "cell_type": "code",
   "execution_count": null,
   "metadata": {},
   "outputs": [],
   "source": [
    "# Inputs\n",
    "# Created via aou_workbench_pooled_analyses/5_plink_ld_and_pca.ipynb\n",
    "PCS <- 'gs://fc-secure-fd6786bf-6c28-4f33-ac30-3860fbeee5bb/data/plink/20210907/aou_alpha2_ukb_lipids_plink_pca.eigenvec'\n",
    "# Created via aou_workbench_siloed_analyses/3_aou_lipids_gwas_phenotype.ipynb\n",
    "AOU_PHENO <- 'gs://fc-secure-440c511e-7fff-417c-9c86-f8ab51bfc618/data/phenotypes/20211006/AOU_lipids_phenotype.csv'\n",
    "# Created via aou_workbench_pooled_analyses/6_ukb_lipids_gwas_phenotype.ipynb\n",
    "UKB_PHENO <- 'gs://fc-secure-fd6786bf-6c28-4f33-ac30-3860fbeee5bb/data/ukb/phenotypes/20211221/UKB_lipids_phenotype.csv'\n",
    "\n",
    "# Outputs\n",
    "# Create a timestamp for a folder of results generated today.\n",
    "DATESTAMP <- strftime(now(), '%Y%m%d')\n",
    "FILENAME <- 'alpha2_pooled_lipids_phenotype.tsv'\n",
    "DESTINATION <- str_glue('{Sys.getenv(\"WORKSPACE_BUCKET\")}/data/pooled/phenotypes/{DATESTAMP}/')"
   ]
  },
  {
   "cell_type": "markdown",
   "metadata": {},
   "source": [
    "# Load data"
   ]
  },
  {
   "cell_type": "markdown",
   "metadata": {},
   "source": [
    "## Retrieve PCs"
   ]
  },
  {
   "cell_type": "code",
   "execution_count": null,
   "metadata": {},
   "outputs": [],
   "source": [
    "pcs <- read_tsv(pipe(str_glue('gsutil cat {PCS}')))\n",
    "\n",
    "dim(pcs)\n",
    "head(pcs)"
   ]
  },
  {
   "cell_type": "markdown",
   "metadata": {},
   "source": [
    "## Retrieve AoU lipids phenotype"
   ]
  },
  {
   "cell_type": "code",
   "execution_count": null,
   "metadata": {},
   "outputs": [],
   "source": [
    "aou_pheno <- read_csv(pipe(str_glue('gsutil cat {AOU_PHENO}')))\n",
    "\n",
    "dim(aou_pheno)\n",
    "head(aou_pheno)"
   ]
  },
  {
   "cell_type": "code",
   "execution_count": null,
   "metadata": {},
   "outputs": [],
   "source": [
    "skim(aou_pheno)"
   ]
  },
  {
   "cell_type": "markdown",
   "metadata": {},
   "source": [
    "# TODO: move this section to the AoU notebook"
   ]
  },
  {
   "cell_type": "markdown",
   "metadata": {},
   "source": [
    "Note: for the AoU participants, their lipids were not necessarily measured on the same day (at the same age).\n",
    "\n",
    "For the GWAS age covariate, use the age of their most recent individual lipid measurement, but also discard any lipids measurements older than five years prior to their most recent individual lipid measurement."
   ]
  },
  {
   "cell_type": "code",
   "execution_count": null,
   "metadata": {},
   "outputs": [],
   "source": [
    "aou_pheno %>%\n",
    "    group_by(person_id) %>%\n",
    "    summarize(\n",
    "        min_age = min(age),\n",
    "        max_age = max(age),\n",
    "        age_diff = max_age - min_age\n",
    "    ) %>%\n",
    "    group_by(age_diff) %>%\n",
    "    summarize(\n",
    "        num_participants_with_this_age_diff = n()\n",
    "    )"
   ]
  },
  {
   "cell_type": "code",
   "execution_count": null,
   "metadata": {},
   "outputs": [],
   "source": [
    "# Print out a few person_ids to manually check in the measurements data.\n",
    "aou_pheno %>%\n",
    "    group_by(person_id) %>%\n",
    "    summarize(\n",
    "        min_age = min(age),\n",
    "        max_age = max(age),\n",
    "        age_diff = max_age - min_age\n",
    "    ) %>%\n",
    "    filter(age_diff > 12)"
   ]
  },
  {
   "cell_type": "markdown",
   "metadata": {},
   "source": [
    "Remove the individual measurements lipids that are older than 5 years from the most recent measurement."
   ]
  },
  {
   "cell_type": "code",
   "execution_count": null,
   "metadata": {},
   "outputs": [],
   "source": [
    "aou_pheno <- aou_pheno %>%\n",
    "    inner_join(aou_pheno %>%\n",
    "                   group_by(person_id) %>%\n",
    "                   summarize(max_age = max(age)), by = c('person_id' = 'person_id')) %>%\n",
    "    filter(max_age - age <= 5) %>%\n",
    "    mutate(\n",
    "        age = max_age,\n",
    "        age2 = max_age ^ 2\n",
    "    )\n",
    "\n",
    "dim(aou_pheno)"
   ]
  },
  {
   "cell_type": "markdown",
   "metadata": {},
   "source": [
    "## Retrieve UKB lipids phenotype"
   ]
  },
  {
   "cell_type": "code",
   "execution_count": null,
   "metadata": {},
   "outputs": [],
   "source": [
    "ukb_pheno <- read_csv(pipe(str_glue('gsutil cat {UKB_PHENO}')))\n",
    "\n",
    "dim(ukb_pheno)\n",
    "head(ukb_pheno)"
   ]
  },
  {
   "cell_type": "code",
   "execution_count": null,
   "metadata": {},
   "outputs": [],
   "source": [
    "skim(ukb_pheno)"
   ]
  },
  {
   "cell_type": "markdown",
   "metadata": {},
   "source": [
    "# Pool the phenotypes\n",
    "\n",
    "Add the `IID` and `FID` columns needed by regenie and the cohort covariate. Also keep in mind that UKB data has a sample id that is different than the eid."
   ]
  },
  {
   "cell_type": "code",
   "execution_count": null,
   "metadata": {},
   "outputs": [],
   "source": [
    "long_pooled_pheno <- bind_rows(\n",
    "    aou_pheno %>%\n",
    "        mutate(\n",
    "            sample_id = person_id,\n",
    "            cohort = 'AOU',            \n",
    "        ) %>%\n",
    "        select(id=person_id, sample_id, cohort, age, age2, sex_at_birth, lipid_type, mg_dl = value_as_number),\n",
    "    ukb_pheno %>%\n",
    "        mutate(\n",
    "            sample_id = eid_31063,\n",
    "            cohort = 'UKB',\n",
    "        ) %>%\n",
    "        select(id=eid, sample_id, cohort, age, age2, sex_at_birth, lipid_type, mg_dl)\n",
    "    ) %>%\n",
    "    mutate(\n",
    "        IID = str_glue('{sample_id}_{cohort}'),\n",
    "        FID = IID\n",
    "    ) %>%\n",
    "    select(IID, FID, everything())\n",
    "\n",
    "dim(long_pooled_pheno)\n",
    "head(long_pooled_pheno)"
   ]
  },
  {
   "cell_type": "code",
   "execution_count": null,
   "metadata": {},
   "outputs": [],
   "source": [
    "skim(long_pooled_pheno)"
   ]
  },
  {
   "cell_type": "markdown",
   "metadata": {},
   "source": [
    "## Pivot from long to wide"
   ]
  },
  {
   "cell_type": "code",
   "execution_count": null,
   "metadata": {},
   "outputs": [],
   "source": [
    "pooled_pheno <- long_pooled_pheno %>%\n",
    "    pivot_wider(\n",
    "        id_cols = c(id, sample_id, cohort, age, age2, sex_at_birth, IID, FID),\n",
    "        names_from = lipid_type,\n",
    "        values_from = mg_dl\n",
    "    )\n",
    "\n",
    "dim(pooled_pheno)\n",
    "head(pooled_pheno)"
   ]
  },
  {
   "cell_type": "markdown",
   "metadata": {},
   "source": [
    "## Confirm that we have one row per participant"
   ]
  },
  {
   "cell_type": "code",
   "execution_count": null,
   "metadata": {},
   "outputs": [],
   "source": [
    "nrow(pooled_pheno)\n",
    "length(unique(pooled_pheno$IID))\n",
    "stopifnot(nrow(pooled_pheno) == length(unique(pooled_pheno$IID)))"
   ]
  },
  {
   "cell_type": "markdown",
   "metadata": {},
   "source": [
    "## Add the ancestry covariates"
   ]
  },
  {
   "cell_type": "code",
   "execution_count": null,
   "metadata": {},
   "outputs": [],
   "source": [
    "pooled_pheno <- inner_join(pooled_pheno, pcs, by = c('IID' = '#IID'))\n",
    "\n",
    "dim(pooled_pheno)\n",
    "head(pooled_pheno)"
   ]
  },
  {
   "cell_type": "code",
   "execution_count": null,
   "metadata": {},
   "outputs": [],
   "source": [
    "table(pooled_pheno$cohort)"
   ]
  },
  {
   "cell_type": "markdown",
   "metadata": {},
   "source": [
    "## Normalize lipids values"
   ]
  },
  {
   "cell_type": "code",
   "execution_count": null,
   "metadata": {},
   "outputs": [],
   "source": [
    "pooled_pheno$TC_adjusted_resid = resid(lm(TC_adjusted ~ sex_at_birth+age+age2+PC1+PC2+PC3+PC4+PC5+PC6+PC7+PC8+PC9+PC10,\n",
    "                                          data=pooled_pheno, na.action=na.exclude))\n",
    "pooled_pheno$LDL_adjusted_resid = resid(lm(LDL_adjusted ~ sex_at_birth+age+age2+PC1+PC2+PC3+PC4+PC5+PC6+PC7+PC8+PC9+PC10,\n",
    "                                           data=pooled_pheno, na.action=na.exclude))\n",
    "pooled_pheno$HDL_resid = resid(lm(HDL ~ sex_at_birth+age+age2+PC1+PC2+PC3+PC4+PC5+PC6+PC7+PC8+PC9+PC10,\n",
    "                                  data=pooled_pheno, na.action=na.exclude))\n",
    "pooled_pheno$TG_adjusted_resid = resid(lm(TG_adjusted ~ sex_at_birth+age+age2+PC1+PC2+PC3+PC4+PC5+PC6+PC7+PC8+PC9+PC10,\n",
    "                                          data=pooled_pheno, na.action=na.exclude))"
   ]
  },
  {
   "cell_type": "code",
   "execution_count": null,
   "metadata": {},
   "outputs": [],
   "source": [
    "pooled_pheno$TC_adjusted_norm <- sd(pooled_pheno$TC_adjusted_resid, na.rm = TRUE) * scale(qnorm(\n",
    "    (rank(pooled_pheno$TC_adjusted_resid, na.last = 'keep') - 0.5) / sum(!is.na(pooled_pheno$TC_adjusted_resid)) ))\n",
    "pooled_pheno$LDL_adjusted_norm <- sd(pooled_pheno$LDL_adjusted_resid, na.rm = TRUE) * scale(qnorm(\n",
    "    (rank(pooled_pheno$LDL_adjusted_resid, na.last = 'keep') - 0.5) / sum(!is.na(pooled_pheno$LDL_adjusted_resid)) ))\n",
    "pooled_pheno$HDL_norm <- sd(pooled_pheno$HDL_resid, na.rm = TRUE) * scale(qnorm(\n",
    "    (rank(pooled_pheno$HDL_resid, na.last = 'keep') - 0.5) / sum(!is.na(pooled_pheno$HDL_resid)) ))\n",
    "pooled_pheno$TG_adjusted_norm <- sd(pooled_pheno$TG_adjusted_resid, na.rm = TRUE) * scale(qnorm(\n",
    "    (rank(pooled_pheno$TG_adjusted_resid, na.last = 'keep') - 0.5) / sum(!is.na(pooled_pheno$TG_adjusted_resid)) ))"
   ]
  },
  {
   "cell_type": "markdown",
   "metadata": {},
   "source": [
    "### Check that NAs were handled correctly"
   ]
  },
  {
   "cell_type": "code",
   "execution_count": null,
   "metadata": {},
   "outputs": [],
   "source": [
    "head(pooled_pheno %>% filter(!is.na(LDL_adjusted)) %>% select(starts_with('LDL'), starts_with('TG')))"
   ]
  },
  {
   "cell_type": "code",
   "execution_count": null,
   "metadata": {},
   "outputs": [],
   "source": [
    "head(pooled_pheno %>% filter(is.na(LDL_adjusted)) %>% select(starts_with('LDL'), starts_with('TG')))"
   ]
  },
  {
   "cell_type": "markdown",
   "metadata": {},
   "source": [
    "### Convert matrix columns to vectors"
   ]
  },
  {
   "cell_type": "code",
   "execution_count": null,
   "metadata": {},
   "outputs": [],
   "source": [
    "head(pooled_pheno %>% select(contains('norm')))"
   ]
  },
  {
   "cell_type": "code",
   "execution_count": null,
   "metadata": {},
   "outputs": [],
   "source": [
    "class(pooled_pheno$TC_adjusted_norm)\n",
    "dim(pooled_pheno$TC_adjusted_norm)\n",
    "length((pooled_pheno$TC_adjusted_norm))"
   ]
  },
  {
   "cell_type": "code",
   "execution_count": null,
   "metadata": {},
   "outputs": [],
   "source": [
    "class(pooled_pheno$TC_adjusted_norm[,1])\n",
    "dim(pooled_pheno$TC_adjusted_norm[,1])\n",
    "length((pooled_pheno$TC_adjusted_norm[,1]))"
   ]
  },
  {
   "cell_type": "code",
   "execution_count": null,
   "metadata": {},
   "outputs": [],
   "source": [
    "pooled_pheno <- pooled_pheno %>%\n",
    "    mutate(\n",
    "        TC_adjusted_norm = TC_adjusted_norm[,1],\n",
    "        LDL_adjusted_norm = LDL_adjusted_norm[,1],\n",
    "        HDL_norm = HDL_norm[,1],\n",
    "        TG_adjusted_norm = TG_adjusted_norm[,1]\n",
    "    )\n",
    "\n",
    "head(pooled_pheno)"
   ]
  },
  {
   "cell_type": "markdown",
   "metadata": {},
   "source": [
    "# Write phenotypes to workspace bucket"
   ]
  },
  {
   "cell_type": "code",
   "execution_count": null,
   "metadata": {},
   "outputs": [],
   "source": [
    "table(pooled_pheno$cohort)"
   ]
  },
  {
   "cell_type": "code",
   "execution_count": null,
   "metadata": {},
   "outputs": [],
   "source": [
    "write_phenotype_to_bucket <- function(my_dataframe, destination_filename) {\n",
    "    message(str_glue('Phenotype files will be written to folder {DESTINATION}.'))\n",
    "    \n",
    "    # Store the dataframe in current workspace.\n",
    "    if (str_ends(destination_filename, 'tsv')) {\n",
    "        write_tsv(my_dataframe, destination_filename)\n",
    "    } else {\n",
    "        write_csv(my_dataframe, destination_filename)        \n",
    "    }\n",
    "\n",
    "    # Copy the file from current workspace to the bucket.\n",
    "    system(str_glue('gsutil cp -v ./ {destination_filename} {DESTINATION}'), intern = T)\n",
    "\n",
    "    # Check if file is in the bucket.\n",
    "    system(str_glue('gsutil ls {DESTINATION}'), intern = T)\n",
    "}"
   ]
  },
  {
   "cell_type": "code",
   "execution_count": null,
   "metadata": {},
   "outputs": [],
   "source": [
    "write_phenotype_to_bucket(pooled_pheno, FILENAME)"
   ]
  },
  {
   "cell_type": "markdown",
   "metadata": {},
   "source": [
    "# TODO: compare this to the prior pooled phenotype"
   ]
  },
  {
   "cell_type": "markdown",
   "metadata": {},
   "source": [
    "# Provenance"
   ]
  },
  {
   "cell_type": "code",
   "execution_count": null,
   "metadata": {},
   "outputs": [],
   "source": [
    "devtools::session_info()"
   ]
  }
 ],
 "metadata": {
  "kernelspec": {
   "display_name": "R",
   "language": "R",
   "name": "ir"
  },
  "language_info": {
   "codemirror_mode": "r",
   "file_extension": ".r",
   "mimetype": "text/x-r-source",
   "name": "R",
   "pygments_lexer": "r",
   "version": "4.1.1"
  },
  "toc": {
   "base_numbering": 1,
   "nav_menu": {},
   "number_sections": true,
   "sideBar": true,
   "skip_h1_title": false,
   "title_cell": "Table of Contents",
   "title_sidebar": "Contents",
   "toc_cell": false,
   "toc_position": {
    "height": "calc(100% - 180px)",
    "left": "10px",
    "top": "150px",
    "width": "392.997px"
   },
   "toc_section_display": true,
   "toc_window_display": true
  }
 },
 "nbformat": 4,
 "nbformat_minor": 2
}

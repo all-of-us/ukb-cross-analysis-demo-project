{
 "cells": [
  {
   "cell_type": "markdown",
   "metadata": {},
   "source": [
    "# Compare GWAS results\n",
    "\n",
    "In this notebook we review and explore the differences and similarities between the pooled and METAL meta-analysis *All of Us* and UK Biobank data GWAS results.\n",
    "\n",
    "Note that this work is part of a larger project to [Demonstrate the Potential for Pooled Analysis of All of Us and UK Biobank Genomic Data](https://github.com/all-of-us/ukb-cross-analysis-demo-project)."
   ]
  },
  {
   "cell_type": "markdown",
   "metadata": {},
   "source": [
    "# Setup"
   ]
  },
  {
   "cell_type": "markdown",
   "metadata": {},
   "source": [
    "<div class=\"alert alert-block alert-warning\">\n",
    "    <b>Cloud Environment</b>: This notebook was written for use on the <i>All of Us</i> Workbench.\n",
    "    <ul>\n",
    "        <li>Use \"Recommended Environment\" <kbd><b>General Analysis</b></kbd> which creates compute type <kbd><b>Standard VM</b></kbd> with reasonable defaults for CPU, RAM, and disk.</li>\n",
    "        <li>This notebook takes several minutes to run interactively. You can also it in the background via <kbd>run_notebook_in_the_background</kbd> for the sake of provenance and reproducibility.</li>\n",
    "    </ul>\n",
    "</div>"
   ]
  },
  {
   "cell_type": "code",
   "execution_count": null,
   "metadata": {},
   "outputs": [],
   "source": [
    "lapply(c('ggExtra', 'hexbin', 'hrbrthemes', 'skimr', 'qqman', 'viridis'),\n",
    "       function(pkg) { if(! pkg %in% installed.packages()) { install.packages(pkg)} } )"
   ]
  },
  {
   "cell_type": "code",
   "execution_count": null,
   "metadata": {},
   "outputs": [],
   "source": [
    "library(ggExtra)\n",
    "library(grid)\n",
    "library(gridExtra)\n",
    "library(hrbrthemes)\n",
    "library(lubridate)\n",
    "library(qqman)\n",
    "library(readxl)\n",
    "library(scales)\n",
    "library(skimr)\n",
    "library(tidyverse)\n",
    "library(viridis)"
   ]
  },
  {
   "cell_type": "code",
   "execution_count": null,
   "metadata": {},
   "outputs": [],
   "source": [
    "# Set some visualiation defaults.\n",
    "theme_set(theme_ipsum(base_size = 16)) # Default theme for plots.\n",
    "\n",
    "#' Returns a data frame with a y position and a label, for use annotating ggplot boxplots.\n",
    "#'\n",
    "#' @param d A data frame.\n",
    "#' @return A data frame with column y as max and column label as length.\n",
    "get_boxplot_fun_data <- function(df) {\n",
    "  return(data.frame(y = max(df), label = stringr::str_c('N = ', length(df))))\n",
    "}"
   ]
  },
  {
   "cell_type": "markdown",
   "metadata": {},
   "source": [
    "## Define constants"
   ]
  },
  {
   "cell_type": "code",
   "execution_count": null,
   "metadata": {
    "tags": [
     "parameters"
    ]
   },
   "outputs": [],
   "source": [
    "# Papermill parameters. See https://papermill.readthedocs.io/en/latest/usage-parameterize.html\n",
    "\n",
    "#---[ Inputs ]---\n",
    "# Created via notebook aou_workbench_pooled_analyses/09_pooled_regenie_gwas.ipynb\n",
    "POOLED_LIPIDS_REGENIE_RESULTS <- c(\n",
    "    HDL='gs://fc-secure-814555c0-7d23-4cf6-bab9-3782e1dcb32f/data/pooled/regenie/20230403/aou_alpha3_ukb_lipids_regenie_step2_HDL_norm.regenie',\n",
    "    LDL='gs://fc-secure-814555c0-7d23-4cf6-bab9-3782e1dcb32f/data/pooled/regenie/20230403/aou_alpha3_ukb_lipids_regenie_step2_LDL_adjusted_norm.regenie',\n",
    "    TC='gs://fc-secure-814555c0-7d23-4cf6-bab9-3782e1dcb32f/data/pooled/regenie/20230403/aou_alpha3_ukb_lipids_regenie_step2_TC_adjusted_norm.regenie',\n",
    "    TG='gs://fc-secure-814555c0-7d23-4cf6-bab9-3782e1dcb32f/data/pooled/regenie/20230403/aou_alpha3_ukb_lipids_regenie_step2_TG_adjusted_norm.regenie'\n",
    ")\n",
    "LIPIDS <- names(POOLED_LIPIDS_REGENIE_RESULTS)\n",
    "\n",
    "# Created via notebook aou_workbench_siloed_analyses/09_metal_meta_analysis.ipynb\n",
    "METAL_META_ANALYSIS_RESULTS <- c(\n",
    "    HDL='gs://fc-secure-e5c31994-13bb-4e3e-b7d7-db6effadc54f/data/metaanalysis/20230410/METAANALYSIS_HDL_1.tbl',\n",
    "    LDL='gs://fc-secure-e5c31994-13bb-4e3e-b7d7-db6effadc54f/data/metaanalysis/20230410/METAANALYSIS_LDL_1.tbl',\n",
    "    TC='gs://fc-secure-e5c31994-13bb-4e3e-b7d7-db6effadc54f/data/metaanalysis/20230410/METAANALYSIS_TC_1.tbl',\n",
    "    TG='gs://fc-secure-e5c31994-13bb-4e3e-b7d7-db6effadc54f/data/metaanalysis/20230410/METAANALYSIS_TG_1.tbl'\n",
    ")\n",
    "\n",
    "PLOT_SUBTITLE <- 'Source: All of Us v5 alpha3 and UK Biobank data'\n",
    "\n",
    "#---[ Outputs ]---\n",
    "# Create a timestamp for a folder of results generated today.\n",
    "DATESTAMP <- strftime(now(), '%Y%m%d')\n",
    "DESTINATION <- str_glue('{Sys.getenv(\"WORKSPACE_BUCKET\")}/data/results-ac-6/{DATESTAMP}/')\n",
    "GWAS_RESULT_SUMMARY_FILENAME <- 'gwas_result_summary.tsv'\n",
    "SIGNIFICANT_LIPIDS_GWAS_RESULTS_FILENAME <- 'CONTAINS_AC_6_significant_lipids_gwas_results.tsv'"
   ]
  },
  {
   "cell_type": "markdown",
   "metadata": {},
   "source": [
    "# Load pooled lipids GWAS results"
   ]
  },
  {
   "cell_type": "code",
   "execution_count": null,
   "metadata": {},
   "outputs": [],
   "source": [
    "pooled_lipids_regenie_results <- bind_rows(\n",
    "    lapply(LIPIDS, function(lipid) {\n",
    "        file <- POOLED_LIPIDS_REGENIE_RESULTS[lipid]\n",
    "        read_delim(pipe(str_glue('gsutil cat {file}')), delim = ' ') %>%\n",
    "        mutate(lipid_type = lipid)\n",
    "    })) %>%\n",
    "    mutate(\n",
    "        is_flipped = ID != str_glue('chr{CHROM}_{GENPOS}_{ALLELE0}_{ALLELE1}'),\n",
    "        AN = 2 * N,\n",
    "        AC_alt = round(A1FREQ * AN),\n",
    "        AC_ref = round((1 - A1FREQ) * AN),\n",
    "        significant = LOG10P > -log10(5e-08),\n",
    "        p_value = 10 ^ (-1 * LOG10P)\n",
    "    ) %>%\n",
    "    rename_at(vars(-lipid_type, -ID, -CHROM, -GENPOS), ~ paste0(., '_pooled'))\n",
    "\n",
    "dim(pooled_lipids_regenie_results)"
   ]
  },
  {
   "cell_type": "code",
   "execution_count": null,
   "metadata": {},
   "outputs": [],
   "source": [
    "head(pooled_lipids_regenie_results)"
   ]
  },
  {
   "cell_type": "markdown",
   "metadata": {},
   "source": [
    "# Load meta-analysis lipids GWAS results"
   ]
  },
  {
   "cell_type": "code",
   "execution_count": null,
   "metadata": {},
   "outputs": [],
   "source": [
    "metal_meta_analysis_results <- bind_rows(\n",
    "    lapply(LIPIDS, function(lipid) {\n",
    "        file <- METAL_META_ANALYSIS_RESULTS[lipid]\n",
    "        read_table(pipe(str_glue('gsutil cat {file}'))) %>%\n",
    "        mutate(lipid_type = lipid)\n",
    "    })) %>%\n",
    "    separate(MarkerName, sep = '_', into = c('CHROM_ID', 'GENPOS', NA, NA), convert = TRUE, remove = FALSE) %>%\n",
    "    mutate(\n",
    "        ID = MarkerName,\n",
    "        CHROM = parse_number(CHROM_ID),\n",
    "        # Fix values when Allele2 is the reference allele.\n",
    "        is_flipped = MarkerName != str_c(CHROM_ID, GENPOS, str_to_upper(Allele1), str_to_upper(Allele2), sep='_'),\n",
    "        fixed_beta = ifelse(is_flipped, -Effect, Effect),\n",
    "        fixed_freq1 =  ifelse(is_flipped, 1 - Freq1, Freq1),\n",
    "        LOG10P = -log10(`P-value`),\n",
    "        significant = `P-value` <= 5e-08,\n",
    "        single_cohort_result = str_detect(Direction, '\\\\?'),\n",
    "        cohorts = case_when(\n",
    "            Direction %in% c('++', '--') ~ 'both cohorts', \n",
    "            Direction %in% c('+-', '-+') ~ 'both cohorts with conflicting direction of effect', \n",
    "            Direction %in% c('+?', '-?') ~ 'AoU only', \n",
    "            Direction %in% c('?+', '?-') ~ 'UKB only'\n",
    "        )\n",
    "    ) %>%\n",
    "    rename_at(vars(-lipid_type, -ID, -CHROM, -GENPOS), ~ paste0(., '_metal'))\n",
    "\n",
    "dim(metal_meta_analysis_results)"
   ]
  },
  {
   "cell_type": "code",
   "execution_count": null,
   "metadata": {},
   "outputs": [],
   "source": [
    "head(metal_meta_analysis_results)"
   ]
  },
  {
   "cell_type": "code",
   "execution_count": null,
   "metadata": {},
   "outputs": [],
   "source": [
    "colnames(metal_meta_analysis_results)"
   ]
  },
  {
   "cell_type": "code",
   "execution_count": null,
   "metadata": {},
   "outputs": [],
   "source": [
    "metal_meta_analysis_results %>% group_by(Direction_metal) %>% summarize(count = n())"
   ]
  },
  {
   "cell_type": "markdown",
   "metadata": {},
   "source": [
    "# Check pooled vs. meta analysis lipids results"
   ]
  },
  {
   "cell_type": "markdown",
   "metadata": {},
   "source": [
    "## Pooled versus Metal - '?' results flagged"
   ]
  },
  {
   "cell_type": "code",
   "execution_count": null,
   "metadata": {},
   "outputs": [],
   "source": [
    "joined_pooled_and_all_metal_results <- metal_meta_analysis_results %>%\n",
    "    full_join(pooled_lipids_regenie_results, by = c('lipid_type', 'ID', 'CHROM', 'GENPOS'))\n",
    "\n",
    "dim(joined_pooled_and_all_metal_results)"
   ]
  },
  {
   "cell_type": "code",
   "execution_count": null,
   "metadata": {},
   "outputs": [],
   "source": [
    "colnames(joined_pooled_and_all_metal_results)"
   ]
  },
  {
   "cell_type": "markdown",
   "metadata": {},
   "source": [
    "### Check the join"
   ]
  },
  {
   "cell_type": "code",
   "execution_count": null,
   "metadata": {},
   "outputs": [],
   "source": [
    "length(unique(joined_pooled_and_all_metal_results$ID))\n",
    "length(unique(c(metal_meta_analysis_results$ID, pooled_lipids_regenie_results$ID)))\n",
    "stopifnot(length(unique(joined_pooled_and_all_metal_results$ID))\n",
    "          == length(unique(c(metal_meta_analysis_results$ID,\n",
    "                             pooled_lipids_regenie_results$ID))))"
   ]
  },
  {
   "cell_type": "code",
   "execution_count": null,
   "metadata": {},
   "outputs": [],
   "source": [
    "joined_pooled_and_all_metal_results %>%\n",
    "    filter(lipid_type == 'LDL') %>%\n",
    "    group_by(is_flipped_pooled, is_flipped_metal) %>%\n",
    "    summarize(count = n())"
   ]
  },
  {
   "cell_type": "markdown",
   "metadata": {},
   "source": [
    "### Compare LOG10P values"
   ]
  },
  {
   "cell_type": "code",
   "execution_count": null,
   "metadata": {},
   "outputs": [],
   "source": [
    "joined_pooled_and_all_metal_results %>%\n",
    "    filter(lipid_type == 'LDL') %>%\n",
    "    group_by(lipid_type, significant_pooled, significant_metal) %>%\n",
    "    summarize(\n",
    "        count = n(),\n",
    "        min_LOG10P_pooled = round(min(LOG10P_pooled, na.rm = TRUE), 3),\n",
    "        min_LOG10P_metal = round(min(LOG10P_metal, na.rm = TRUE), 3),\n",
    "        median_LOG10P_pooled = round(median(LOG10P_pooled, na.rm = TRUE), 3),\n",
    "        median_LOG10P_metal = round(median(LOG10P_metal, na.rm = TRUE), 3),\n",
    "        max_LOG10P_pooled = round(max(LOG10P_pooled, na.rm = TRUE), 3),\n",
    "        max_LOG10P_metal = round(max(LOG10P_metal, na.rm = TRUE), 3),\n",
    "        mean_LOG10P_pooled = round(mean(LOG10P_pooled, na.rm = TRUE), 3),\n",
    "        mean_LOG10P_metal = round(mean(LOG10P_metal, na.rm = TRUE), 3),\n",
    "        sd_LOG10P_pooled = sd(LOG10P_pooled, na.rm = TRUE),\n",
    "        sd_LOG10P_metal = sd(LOG10P_metal, na.rm = TRUE),\n",
    "        )"
   ]
  },
  {
   "cell_type": "code",
   "execution_count": null,
   "metadata": {},
   "outputs": [],
   "source": [
    "joined_pooled_and_all_metal_results %>%\n",
    "    filter(lipid_type == 'LDL') %>%\n",
    "    group_by(lipid_type, significant_pooled, significant_metal, cohorts_metal) %>%\n",
    "    summarize(\n",
    "        count = n(),\n",
    "        min_LOG10P_pooled = round(min(LOG10P_pooled, na.rm = TRUE), 3),\n",
    "        min_LOG10P_metal = round(min(LOG10P_metal, na.rm = TRUE), 3),\n",
    "        median_LOG10P_pooled = round(median(LOG10P_pooled, na.rm = TRUE), 3),\n",
    "        median_LOG10P_metal = round(median(LOG10P_metal, na.rm = TRUE), 3),\n",
    "        max_LOG10P_pooled = round(max(LOG10P_pooled, na.rm = TRUE), 3),\n",
    "        max_LOG10P_metal = round(max(LOG10P_metal, na.rm = TRUE), 3),\n",
    "        mean_LOG10P_pooled = round(mean(LOG10P_pooled, na.rm = TRUE), 3),\n",
    "        mean_LOG10P_metal = round(mean(LOG10P_metal, na.rm = TRUE), 3),\n",
    "        sd_LOG10P_pooled = sd(LOG10P_pooled, na.rm = TRUE),\n",
    "        sd_LOG10P_metal = sd(LOG10P_metal, na.rm = TRUE),\n",
    ")"
   ]
  },
  {
   "cell_type": "markdown",
   "metadata": {},
   "source": [
    "### Check summary counts"
   ]
  },
  {
   "cell_type": "code",
   "execution_count": null,
   "metadata": {},
   "outputs": [],
   "source": [
    "joined_pooled_and_all_metal_results %>%\n",
    "    filter(lipid_type == 'LDL') %>%\n",
    "    group_by(lipid_type, significant_pooled, significant_metal, single_cohort_result_metal) %>%\n",
    "    summarize(count = n())"
   ]
  },
  {
   "cell_type": "code",
   "execution_count": null,
   "metadata": {},
   "outputs": [],
   "source": [
    "gwas_result_summary <- joined_pooled_and_all_metal_results %>%\n",
    "    group_by(lipid_type,\n",
    "             significant_pooled,\n",
    "             significant_metal,\n",
    "             single_cohort_result_metal) %>%\n",
    "    summarize(count = n())"
   ]
  },
  {
   "cell_type": "code",
   "execution_count": null,
   "metadata": {},
   "outputs": [],
   "source": [
    "gwas_result_summary %>%\n",
    "    filter(lipid_type == 'LDL')"
   ]
  },
  {
   "cell_type": "markdown",
   "metadata": {},
   "source": [
    "#### Create a TSV with the summary counts for all lipids."
   ]
  },
  {
   "cell_type": "code",
   "execution_count": null,
   "metadata": {},
   "outputs": [],
   "source": [
    "write_tsv(gwas_result_summary, GWAS_RESULT_SUMMARY_FILENAME)"
   ]
  },
  {
   "cell_type": "code",
   "execution_count": null,
   "metadata": {},
   "outputs": [],
   "source": [
    "# Copy the file to the workspace bucket.\n",
    "#system(str_glue('gsutil cp {GWAS_RESULT_SUMMARY_FILENAME} {DESTINATION}'), intern = T)"
   ]
  },
  {
   "cell_type": "markdown",
   "metadata": {},
   "source": [
    "### Create a TSV with the significant results for all lipids."
   ]
  },
  {
   "cell_type": "code",
   "execution_count": null,
   "metadata": {},
   "outputs": [],
   "source": [
    "significant_lipids_gwas_results <- joined_pooled_and_all_metal_results %>%\n",
    "    filter(significant_pooled == TRUE\n",
    "           | significant_metal == TRUE) %>%\n",
    "    # Prevent GoogleSheets from interpreting this as a formula.\n",
    "    mutate(Direction_metal = paste0(\"'\", Direction_metal, \"'\")) %>%\n",
    "    select(\n",
    "        lipid_type, ID,\n",
    "        significant_pooled, significant_metal, single_cohort_result_metal, cohorts_metal,\n",
    "        p_value_pooled, `P-value_metal`,\n",
    "        BETA_pooled, Effect_metal, \n",
    "        SE_pooled, StdErr_metal,\n",
    "        LOG10P_pooled, CHISQ_pooled,\n",
    "        A1FREQ_pooled, N_pooled, Freq1_metal, FreqSE_metal, MinFreq_metal, MaxFreq_metal,\n",
    "        CHROM, GENPOS,\n",
    "        ALLELE0_pooled, ALLELE1_pooled, Allele1_metal, Allele2_metal\n",
    "    ) %>%\n",
    "    arrange(lipid_type, CHROM, GENPOS)"
   ]
  },
  {
   "cell_type": "code",
   "execution_count": null,
   "metadata": {},
   "outputs": [],
   "source": [
    "head(significant_lipids_gwas_results)"
   ]
  },
  {
   "cell_type": "code",
   "execution_count": null,
   "metadata": {},
   "outputs": [],
   "source": [
    "significant_lipids_gwas_results %>%\n",
    "    filter(lipid_type == 'LDL') %>%\n",
    "    group_by(significant_pooled, significant_metal) %>%\n",
    "    summarize(count = n())"
   ]
  },
  {
   "cell_type": "code",
   "execution_count": null,
   "metadata": {},
   "outputs": [],
   "source": [
    "write_tsv(significant_lipids_gwas_results, SIGNIFICANT_LIPIDS_GWAS_RESULTS_FILENAME)"
   ]
  },
  {
   "cell_type": "code",
   "execution_count": null,
   "metadata": {},
   "outputs": [],
   "source": [
    "# Copy the file to the workspace bucket.\n",
    "#system(str_glue('gsutil cp {SIGNIFICANT_LIPIDS_GWAS_RESULTS_FILENAME} {DESTINATION}'), intern = T)"
   ]
  },
  {
   "cell_type": "markdown",
   "metadata": {},
   "source": [
    "### Examine Metal direction"
   ]
  },
  {
   "cell_type": "code",
   "execution_count": null,
   "metadata": {},
   "outputs": [],
   "source": [
    "joined_pooled_and_all_metal_results %>%\n",
    "    filter(lipid_type == 'LDL') %>%\n",
    "    filter(significant_pooled == TRUE\n",
    "           | significant_metal == TRUE) %>%\n",
    "    group_by(significant_pooled, significant_metal, Direction_metal) %>%\n",
    "    summarize(count = n())"
   ]
  },
  {
   "cell_type": "code",
   "execution_count": null,
   "metadata": {},
   "outputs": [],
   "source": [
    "joined_pooled_and_all_metal_results %>%\n",
    "    filter(lipid_type == 'LDL') %>%\n",
    "    filter(significant_pooled == TRUE\n",
    "           | significant_metal == TRUE) %>%\n",
    "    filter(!is.na(Direction_metal)) %>%\n",
    "    mutate(\n",
    "        direction = case_when(\n",
    "            Direction_metal %in% c('--', '++') ~ 'agreement',\n",
    "            Direction_metal %in% c('?-', '-?', '?+', '+?') ~ 'single cohort',\n",
    "            Direction_metal %in% c('-+', '+-') ~ 'conflicting',            \n",
    "        )\n",
    "    ) %>%\n",
    "    group_by(significant_pooled, significant_metal, direction) %>%\n",
    "    summarize(count = n())"
   ]
  },
  {
   "cell_type": "code",
   "execution_count": null,
   "metadata": {},
   "outputs": [],
   "source": [
    "joined_pooled_and_all_metal_results %>%\n",
    "    filter(lipid_type == 'LDL') %>%\n",
    "    filter(significant_pooled == TRUE\n",
    "           | significant_metal == TRUE) %>%\n",
    "    filter(!is.na(Direction_metal)) %>%\n",
    "    mutate(\n",
    "        direction = case_when(\n",
    "            Direction_metal %in% c('--', '++') ~ 'agreement',\n",
    "            Direction_metal %in% c('?-', '-?', '?+', '+?') ~ 'single cohort',\n",
    "            Direction_metal %in% c('-+', '+-') ~ 'conflicting',            \n",
    "        )\n",
    "    ) %>%\n",
    "    group_by(direction) %>%\n",
    "    summarize(count = n())"
   ]
  },
  {
   "cell_type": "code",
   "execution_count": null,
   "metadata": {},
   "outputs": [],
   "source": [
    "joined_pooled_and_all_metal_results %>%\n",
    "    filter(lipid_type == 'LDL') %>%\n",
    "    filter(significant_pooled == TRUE\n",
    "           | significant_metal == TRUE) %>%\n",
    "    filter(!is.na(Direction_metal)) %>%\n",
    "    mutate(\n",
    "        direction = case_when(\n",
    "            Direction_metal %in% c('--', '++') ~ 'agreement',\n",
    "            Direction_metal %in% c('?-', '-?', '?+', '+?') ~ 'single cohort',\n",
    "            Direction_metal %in% c('-+', '+-') ~ 'conflicting',            \n",
    "        )\n",
    "    ) %>%\n",
    "    group_by(direction) %>%\n",
    "    summarize(\n",
    "        count = n(),\n",
    "        median_pooled_se = median(SE_pooled, na.rm = TRUE),\n",
    "        median_metal_se = median(StdErr_metal, na.rm = TRUE),\n",
    "        mean_pooled_se = mean(SE_pooled, na.rm = TRUE),\n",
    "        mean_metal_se = mean(StdErr_metal, na.rm = TRUE),\n",
    "        sd_pooled_se = sd(SE_pooled, na.rm = TRUE),\n",
    "        sd_metal_se = sd(StdErr_metal, na.rm = TRUE)\n",
    "    )"
   ]
  },
  {
   "cell_type": "code",
   "execution_count": null,
   "metadata": {},
   "outputs": [],
   "source": [
    "options(repr.plot.width = 16, repr.plot.height = 8)\n",
    "\n",
    "joined_pooled_and_all_metal_results %>%\n",
    "    filter(lipid_type == 'LDL') %>%\n",
    "    filter(significant_pooled == TRUE\n",
    "           | significant_metal == TRUE) %>%\n",
    "    mutate(\n",
    "        direction = case_when(\n",
    "            Direction_metal %in% c('--', '++') ~ 'agreement [++, --]',\n",
    "            Direction_metal %in% c('?-', '-?', '?+', '+?') ~ 'single cohort [+?, ?+, -?, ?-]',\n",
    "            Direction_metal %in% c('-+', '+-') ~ 'conflicting [+_, _+]',\n",
    "            TRUE ~ 'pooled-only result'\n",
    "        ),\n",
    "        direction = fct_relevel(direction, 'pooled-only result', after = Inf)\n",
    "    ) %>%\n",
    "    pivot_longer(\n",
    "        cols = c(SE_pooled, StdErr_metal),\n",
    "        names_to = 'approach',\n",
    "        names_pattern = '.*_(.*)',\n",
    "        values_to = 'stderr'\n",
    "    ) %>%\n",
    "    ggplot(aes(x=approach, y=stderr)) +\n",
    "        geom_boxplot() +\n",
    "        stat_summary(fun.data = get_boxplot_fun_data, geom = 'text', size = 5,\n",
    "                     position = position_dodge(width = 0.9), vjust = -0.8) +\n",
    "        facet_wrap(~ direction, ncol = 4) +\n",
    "        scale_y_log10() +\n",
    "        theme(\n",
    "            axis.title.x = element_text(size=14),\n",
    "            axis.title.y = element_text(size=14),\n",
    "        ) +\n",
    "        xlab('analysis approach') +\n",
    "        ylab('standard error [log scale]') +\n",
    "        labs(title = str_glue('Standard error values for significant LDL results by cohort \"direction\" from METAL.'),\n",
    "             caption = PLOT_SUBTITLE)"
   ]
  },
  {
   "cell_type": "code",
   "execution_count": null,
   "metadata": {},
   "outputs": [],
   "source": [
    "options(repr.plot.width = 16, repr.plot.height = 8)\n",
    "\n",
    "joined_pooled_and_all_metal_results %>%\n",
    "    filter(lipid_type == 'LDL') %>%\n",
    "    filter(significant_pooled == TRUE\n",
    "           | significant_metal == TRUE) %>%\n",
    "    mutate(\n",
    "        direction = case_when(\n",
    "            Direction_metal %in% c('--', '++') ~ 'agreement [++, --]',\n",
    "            Direction_metal %in% c('?-', '-?', '?+', '+?') ~ 'single cohort [+?, ?+, -?, ?-]',\n",
    "            Direction_metal %in% c('-+', '+-') ~ 'conflicting [+_, _+]',\n",
    "            TRUE ~ 'pooled-only result'\n",
    "        ),\n",
    "        direction = fct_relevel(direction, 'pooled-only result', after = Inf)\n",
    "    ) %>%\n",
    "    pivot_longer(\n",
    "        cols = c(p_value_pooled, `P-value_metal`),\n",
    "        names_to = 'approach',\n",
    "        names_pattern = '.*_(.*)$',\n",
    "        values_to = 'p_value'\n",
    "    ) %>%\n",
    "    ggplot(aes(x=approach, y=p_value)) +\n",
    "        geom_boxplot() +\n",
    "        stat_summary(fun.data = get_boxplot_fun_data, geom = 'text', size = 5,\n",
    "                     position = position_dodge(width = 0.9), vjust = -0.8) +\n",
    "        facet_wrap(~ direction, ncol = 4) +\n",
    "        scale_y_log10() +\n",
    "        theme(\n",
    "            axis.title.x = element_text(size=14),\n",
    "            axis.title.y = element_text(size=14),\n",
    "        ) +\n",
    "        xlab('analysis approach') +\n",
    "        ylab('p-value [log scale]') +\n",
    "        labs(title = str_glue('p-values for significant LDL results by cohort \"direction\" from METAL.'),\n",
    "             caption = PLOT_SUBTITLE)"
   ]
  },
  {
   "cell_type": "markdown",
   "metadata": {},
   "source": [
    "## Pooled versus Metal - ‘?’ Metal results removed"
   ]
  },
  {
   "cell_type": "code",
   "execution_count": null,
   "metadata": {},
   "outputs": [],
   "source": [
    "joined_pooled_and_metal_results <- metal_meta_analysis_results %>%\n",
    "    filter(str_detect(Direction_metal, '\\\\?', negate = TRUE)) %>%\n",
    "    full_join(pooled_lipids_regenie_results, by = c('ID', 'lipid_type'))\n",
    "\n",
    "dim(joined_pooled_and_metal_results)"
   ]
  },
  {
   "cell_type": "code",
   "execution_count": null,
   "metadata": {},
   "outputs": [],
   "source": [
    "joined_pooled_and_metal_results %>%\n",
    "    filter(lipid_type == 'LDL') %>%\n",
    "    group_by(lipid_type, significant_pooled, significant_metal) %>%\n",
    "    summarize(count = n())"
   ]
  },
  {
   "cell_type": "code",
   "execution_count": null,
   "metadata": {},
   "outputs": [],
   "source": [
    "categorized_ldl_pooled_and_metal_results <- joined_pooled_and_metal_results %>%\n",
    "    filter(lipid_type == 'LDL') %>%\n",
    "    mutate(\n",
    "        `meets genome-wide\\nsignificance level` = case_when(\n",
    "            significant_metal == TRUE & significant_pooled == TRUE ~ 'both',\n",
    "            significant_metal == FALSE & significant_pooled == TRUE ~ 'pooled',\n",
    "            is.na(significant_metal) & significant_pooled == TRUE ~ 'pooled only',\n",
    "            significant_metal == TRUE & is.na(significant_pooled) ~ 'meta-analysis only',\n",
    "            significant_metal == TRUE & significant_pooled == FALSE ~ 'meta-analysis',\n",
    "            TRUE ~ 'not significant'\n",
    "        ),\n",
    "        `Meta-analysis` = case_when(\n",
    "            significant_metal == TRUE ~ 'significant in meta-analysis',\n",
    "            significant_metal == FALSE ~ 'not significant in meta-analysis',\n",
    "            is.na(significant_metal) ~ 'not in meta-analysis\\n(single-cohort variant due to AC<6\\nor filtered during variant QC)'\n",
    "        ),\n",
    "        `Pooled analysis` = case_when(\n",
    "            significant_pooled == TRUE ~ 'significant in pooled',\n",
    "            significant_pooled == FALSE ~ 'not significant in pooled',\n",
    "            is.na(significant_pooled) ~ 'not in pooled\\n(filtered during variant QC)'\n",
    "        ),\n",
    "        `Pooled analysis` = fct_rev(`Pooled analysis`)\n",
    "    )\n",
    "\n",
    "categorized_ldl_pooled_and_metal_results %>%\n",
    "    group_by(`meets genome-wide\\nsignificance level`) %>%\n",
    "    summarize(count = n())"
   ]
  },
  {
   "cell_type": "code",
   "execution_count": null,
   "metadata": {},
   "outputs": [],
   "source": [
    "options(repr.plot.width = 10, repr.plot.height = 8)\n",
    "\n",
    "categorized_ldl_pooled_and_metal_results %>%\n",
    "    filter(`meets genome-wide\\nsignificance level` %in% c('pooled', 'meta-analysis')) %>%\n",
    "    ggplot(aes(x = LOG10P_pooled, y = LOG10P_metal, color = `meets genome-wide\\nsignificance level`)) +\n",
    "    geom_point(size = 3) +\n",
    "    theme(\n",
    "        axis.title.x = element_text(size=14),\n",
    "        axis.title.y = element_text(size=14),\n",
    "    ) +\n",
    "    labs(title = 'LDL results in both the meta-analysis and the pooled analysis,\\nbut found to be genome-wide significant in only one approach',\n",
    "         caption = PLOT_SUBTITLE)"
   ]
  },
  {
   "cell_type": "code",
   "execution_count": null,
   "metadata": {},
   "outputs": [],
   "source": [
    "categorized_ldl_pooled_and_metal_results %>%\n",
    "    group_by(`Meta-analysis`, `Pooled analysis`) %>%\n",
    "    summarize(count = n())"
   ]
  },
  {
   "cell_type": "code",
   "execution_count": null,
   "metadata": {},
   "outputs": [],
   "source": [
    "options(repr.plot.width = 16, repr.plot.height = 8)\n",
    "\n",
    "categorized_ldl_pooled_and_metal_results %>%\n",
    "    group_by(`Meta-analysis`, `Pooled analysis`) %>%\n",
    "    summarize(count = n()) %>%\n",
    "    ggplot(aes(x = `Pooled analysis`, y = `Meta-analysis`, fill = count, label = count)) +\n",
    "    geom_tile() +\n",
    "    geom_text(color = 'white', size = 8) +\n",
    "    scale_fill_continuous(trans = 'reverse', guide = 'none') +\n",
    "    theme(\n",
    "        axis.title.x = element_text(size = 22),\n",
    "        axis.title.y = element_text(size = 22),\n",
    "        axis.text.x = element_text(angle = 45, hjust = 1, vjust = 1, size = 18),\n",
    "        axis.text.y = element_text(size = 18)\n",
    "    ) +\n",
    "    labs(title = 'Counts of LDL GWAS results categorized by significance and presence\\nin each approach',\n",
    "         caption = PLOT_SUBTITLE)"
   ]
  },
  {
   "cell_type": "code",
   "execution_count": null,
   "metadata": {},
   "outputs": [],
   "source": [
    "joined_pooled_and_all_metal_results %>%\n",
    "    mutate(\n",
    "        significant_metal = ifelse(single_cohort_result_metal == TRUE, NA, significant_metal)\n",
    "    )  %>%\n",
    "    filter(lipid_type == 'LDL') %>%\n",
    "    group_by(lipid_type, significant_pooled, significant_metal, single_cohort_result_metal) %>%\n",
    "    summarize(count = n())"
   ]
  },
  {
   "cell_type": "code",
   "execution_count": null,
   "metadata": {},
   "outputs": [],
   "source": [
    "joined_pooled_and_metal_results %>%\n",
    "    filter(lipid_type == 'LDL') %>%\n",
    "    group_by(lipid_type, significant_pooled, significant_metal, Direction_metal) %>%\n",
    "    summarize(count = n())"
   ]
  },
  {
   "cell_type": "markdown",
   "metadata": {},
   "source": [
    "# Provenance "
   ]
  },
  {
   "cell_type": "code",
   "execution_count": null,
   "metadata": {},
   "outputs": [],
   "source": [
    "devtools::session_info()"
   ]
  }
 ],
 "metadata": {
  "kernelspec": {
   "display_name": "R",
   "language": "R",
   "name": "ir"
  },
  "language_info": {
   "codemirror_mode": "r",
   "file_extension": ".r",
   "mimetype": "text/x-r-source",
   "name": "R",
   "pygments_lexer": "r",
   "version": "4.2.2"
  },
  "toc": {
   "base_numbering": 1,
   "nav_menu": {},
   "number_sections": true,
   "sideBar": true,
   "skip_h1_title": false,
   "title_cell": "Table of Contents",
   "title_sidebar": "Contents",
   "toc_cell": false,
   "toc_position": {
    "height": "793px",
    "left": "22px",
    "top": "111.925px",
    "width": "359px"
   },
   "toc_section_display": true,
   "toc_window_display": false
  }
 },
 "nbformat": 4,
 "nbformat_minor": 4
}

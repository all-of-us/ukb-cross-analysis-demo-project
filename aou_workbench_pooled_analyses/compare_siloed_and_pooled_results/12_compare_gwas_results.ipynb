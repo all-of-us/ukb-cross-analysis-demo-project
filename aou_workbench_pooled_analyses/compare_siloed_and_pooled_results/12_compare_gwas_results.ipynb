{
 "cells": [
  {
   "cell_type": "markdown",
   "metadata": {},
   "source": [
    "# Compare GWAS results\n",
    "\n",
    "In this notebook we review and explore the differences and similarities between the pooled, METAL, and batch *All of Us* and UK Biobank data GWAS results.\n",
    "\n",
    "Note that this work is part of a larger project to [Demonstrate the Potential for Pooled Analysis of All of Us and UK Biobank Genomic Data](https://github.com/all-of-us/ukb-cross-analysis-demo-project)."
   ]
  },
  {
   "cell_type": "markdown",
   "metadata": {},
   "source": [
    "# Setup"
   ]
  },
  {
   "cell_type": "markdown",
   "metadata": {},
   "source": [
    "<div class=\"alert alert-block alert-warning\">\n",
    "    <b>Cloud Environment</b>: This notebook was written for use on the <i>All of Us</i> Workbench.\n",
    "    <ul>\n",
    "        <li>Use \"Recommended Environment\" <kbd><b>General Analysis</b></kbd> which creates compute type <kbd><b>Standard VM</b></kbd> with reasonable defaults for CPU, RAM, and disk.</li>\n",
    "        <li>This notebook takes several minutes to run interactively. You can also it in the background via <kbd>run_notebook_in_the_background</kbd> for the sake of provenance and reproducibility.</li>\n",
    "    </ul>\n",
    "</div>"
   ]
  },
  {
   "cell_type": "markdown",
   "metadata": {},
   "source": [
    "<div class=\"alert alert-block alert-warning\">\n",
    "    <b>Note</b>: This notebook assumes you've already used a plink notebook, such as <kbd>06_pooled_variant_qc.ipynb</kbd>, to install plink2 and transfer the bgen and sample files locally.\n",
    "</div>"
   ]
  },
  {
   "cell_type": "code",
   "execution_count": null,
   "metadata": {},
   "outputs": [],
   "source": [
    "lapply(c('ggExtra', 'hexbin', 'hrbrthemes', 'skimr', 'qqman', 'viridis'),\n",
    "       function(pkg) { if(! pkg %in% installed.packages()) { install.packages(pkg)} } )"
   ]
  },
  {
   "cell_type": "code",
   "execution_count": null,
   "metadata": {},
   "outputs": [],
   "source": [
    "library(ggExtra)\n",
    "library(grid)\n",
    "library(gridExtra)\n",
    "library(hrbrthemes)\n",
    "library(lubridate)\n",
    "library(qqman)\n",
    "library(readxl)\n",
    "library(scales)\n",
    "library(skimr)\n",
    "library(tidyverse)\n",
    "library(viridis)"
   ]
  },
  {
   "cell_type": "code",
   "execution_count": null,
   "metadata": {},
   "outputs": [],
   "source": [
    "# Set some visualiation defaults.\n",
    "theme_set(theme_ipsum(base_size = 16)) # Default theme for plots.\n",
    "\n",
    "#' Returns a data frame with a y position and a label, for use annotating ggplot boxplots.\n",
    "#'\n",
    "#' @param d A data frame.\n",
    "#' @return A data frame with column y as max and column label as length.\n",
    "get_boxplot_fun_data <- function(df) {\n",
    "  return(data.frame(y = max(df), label = stringr::str_c('N = ', length(df))))\n",
    "}"
   ]
  },
  {
   "cell_type": "markdown",
   "metadata": {},
   "source": [
    "## Define constants"
   ]
  },
  {
   "cell_type": "code",
   "execution_count": null,
   "metadata": {
    "tags": [
     "parameters"
    ]
   },
   "outputs": [],
   "source": [
    "# Papermill parameters. See https://papermill.readthedocs.io/en/latest/usage-parameterize.html\n",
    "\n",
    "#---[ Inputs ]---\n",
    "# Created via notebook aou_workbench_pooled_analyses/compare_siloed_and_pooled_results/11a_batch_regenie_gwas.ipynb\n",
    "BATCH_REGENIE_RESULTS <- c(\n",
    "    IS_AOU='gs://fc-secure-e53e4a44-7fe2-42b7-89b7-01aae1e399f7/data/pooled/regenie/20220531/aou_alpha3_ukb_batch_regenie_step2_is_aou.regenie',\n",
    "    IS_UKB='gs://fc-secure-e53e4a44-7fe2-42b7-89b7-01aae1e399f7/data/pooled/regenie/20220531/aou_alpha3_ukb_batch_regenie_step2_is_ukb.regenie'\n",
    ")\n",
    "BATCHES <- names(BATCH_REGENIE_RESULTS)\n",
    "\n",
    "# Created via notebook aou_workbench_pooled_analyses/09_pooled_regenie_gwas.ipynb\n",
    "POOLED_LIPIDS_REGENIE_RESULTS <- c(\n",
    "    HDL='gs://fc-secure-e53e4a44-7fe2-42b7-89b7-01aae1e399f7/data/pooled/regenie/20220315/aou_alpha3_ukb_lipids_regenie_step2_HDL_norm.regenie',\n",
    "    LDL='gs://fc-secure-e53e4a44-7fe2-42b7-89b7-01aae1e399f7/data/pooled/regenie/20220315/aou_alpha3_ukb_lipids_regenie_step2_LDL_adjusted_norm.regenie',\n",
    "    TC='gs://fc-secure-e53e4a44-7fe2-42b7-89b7-01aae1e399f7/data/pooled/regenie/20220315/aou_alpha3_ukb_lipids_regenie_step2_TC_adjusted_norm.regenie',\n",
    "    TG='gs://fc-secure-e53e4a44-7fe2-42b7-89b7-01aae1e399f7/data/pooled/regenie/20220315/aou_alpha3_ukb_lipids_regenie_step2_TG_adjusted_norm.regenie'\n",
    ")\n",
    "LIPIDS <- names(POOLED_LIPIDS_REGENIE_RESULTS)\n",
    "\n",
    "# Created via notebook aou_workbench_siloed_analyses/09_metal_meta_analysis.ipynb\n",
    "METAL_META_ANALYSIS_RESULTS <- c(\n",
    "    HDL='gs://fc-secure-471c1068-cd3d-4b43-9b5d-a618c85ceea5/data/aou/regenie/20220323/METAANALYSIS_HDL_1.tbl',\n",
    "    LDL='gs://fc-secure-471c1068-cd3d-4b43-9b5d-a618c85ceea5/data/aou/regenie/20220323/METAANALYSIS_LDL_1.tbl',\n",
    "    TC='gs://fc-secure-471c1068-cd3d-4b43-9b5d-a618c85ceea5/data/aou/regenie/20220323/METAANALYSIS_TC_1.tbl',\n",
    "    TG='gs://fc-secure-471c1068-cd3d-4b43-9b5d-a618c85ceea5/data/aou/regenie/20220323/METAANALYSIS_TG_1.tbl'\n",
    ")\n",
    "\n",
    "# Created via aou_workbench_siloed_analyses/08_aggregate_gwas_results.ipynb\n",
    "AOU_LDL_GWAS_RESULTS <- 'gs://fc-secure-471c1068-cd3d-4b43-9b5d-a618c85ceea5/data/aou/pheno/20220323/fc-secure-471c1068-cd3d-4b43-9b5d-a618c85ceea5_data_aou_regenie_20220318_aou_alpha3_lipids_regenie_step2_LDL_adjusted_norm_aggregated.tsv'\n",
    "# Created via ukb_rap_siloed_analyses/11_aggregate_gwas_results.ipynb\n",
    "UKB_LDL_GWAS_RESULTS <- 'gs://fc-secure-471c1068-cd3d-4b43-9b5d-a618c85ceea5/data/aou/pheno/20220323/ukb_lipids_regenie_step2_LDL_adjusted_norm_aggregated.tsv'\n",
    "\n",
    "# Created via notebook aou_workbench_pooled_analyses/06_pooled_variant_qc.ipynb\n",
    "STEP2_VARIANT_QC_ID <- 'gs://fc-secure-e53e4a44-7fe2-42b7-89b7-01aae1e399f7/data/pooled/variant-qc/20220311/aou_alpha3_ukb_lipids_step2QC_plink.id'\n",
    "STEP2_VARIANT_QC_SNPLIST <- 'gs://fc-secure-e53e4a44-7fe2-42b7-89b7-01aae1e399f7/data/pooled/variant-qc/20220311/aou_alpha3_ukb_lipids_step2QC_plink.snplist'\n",
    "\n",
    "PLOT_SUBTITLE <- 'Source: All of Us v5 alpha3 and UK Biobank data'\n",
    "\n",
    "#---[ Outputs ]---\n",
    "# Create a timestamp for a folder of results generated today.\n",
    "DATESTAMP <- strftime(now(), '%Y%m%d')\n",
    "DESTINATION <- str_glue('{Sys.getenv(\"WORKSPACE_BUCKET\")}/data/results/{DATESTAMP}/')\n",
    "SIGNIFICANT_BATCH_VARIANTS_FILENAME <- 'significant_regenie_batch_variants.tsv'\n",
    "OVERLAPPING_SIGNIFICANT_BATCH_VARIANTS_FILENAME <- 'significant_regenie_batch_variants_overlapping_lipids.tsv'\n",
    "GWAS_RESULT_SUMMARY_FILENAME <- 'gwas_result_summary.tsv'\n",
    "SIGNIFICANT_LIPIDS_GWAS_RESULTS_FILENAME <- 'significant_lipids_gwas_results.tsv'"
   ]
  },
  {
   "cell_type": "markdown",
   "metadata": {},
   "source": [
    "# Load the regenie batch GWAS results"
   ]
  },
  {
   "cell_type": "markdown",
   "metadata": {},
   "source": [
    "Bring our results into a single dataframe with a cohort_indicator type column."
   ]
  },
  {
   "cell_type": "code",
   "execution_count": null,
   "metadata": {},
   "outputs": [],
   "source": [
    "batch_regenie_results <- bind_rows(\n",
    "    lapply(BATCHES, function(cohort_indicator) {\n",
    "        file <- BATCH_REGENIE_RESULTS[cohort_indicator]\n",
    "        read_delim(pipe(str_glue('gsutil cat {file}')), delim = ' ') %>%\n",
    "        mutate(phenotype = cohort_indicator)\n",
    "    })) %>%\n",
    "    mutate(\n",
    "        AN = 2 * N,\n",
    "        AC_alt = round(A1FREQ * AN),\n",
    "        AC_ref = round((1 - A1FREQ) * AN),\n",
    "        significant = LOG10P > -log10(5e-08),\n",
    "        group_size_threshold = ifelse(AC_alt < 40 | AC_ref < 40,\n",
    "                                      'below minimum group size threshold',\n",
    "                                      'meets group size threshold'),\n",
    "        p_value = 10 ^ (-1 * LOG10P),\n",
    "    ) %>%\n",
    "    rename_at(vars(-ID, -CHROM, -GENPOS), ~ paste0(., '_batch'))\n",
    "\n",
    "dim(batch_regenie_results)"
   ]
  },
  {
   "cell_type": "code",
   "execution_count": null,
   "metadata": {},
   "outputs": [],
   "source": [
    "head(batch_regenie_results)"
   ]
  },
  {
   "cell_type": "code",
   "execution_count": null,
   "metadata": {},
   "outputs": [],
   "source": [
    "batch_regenie_results %>%\n",
    "    group_by(phenotype_batch) %>%\n",
    "    summarize(\n",
    "        mum_results = n(),\n",
    "        num_significant_batch_results = sum(significant_batch),\n",
    "        min_p_value = min(p_value_batch),\n",
    "        max_p_value = max(p_value_batch),\n",
    "        min_LOG10P = min(LOG10P_batch),\n",
    "        max_LOG10P = max(LOG10P_batch),\n",
    "        min_A1FREQ = min(A1FREQ_batch),\n",
    "        max_A1FREQ = max(A1FREQ_batch),\n",
    "        min_N = min(N_batch),\n",
    "        max_N = max(N_batch),\n",
    "    )"
   ]
  },
  {
   "cell_type": "code",
   "execution_count": null,
   "metadata": {},
   "outputs": [],
   "source": [
    "batch_regenie_results %>%\n",
    "    group_by(phenotype_batch, significant_batch, group_size_threshold_batch) %>%\n",
    "    summarize(count = n())"
   ]
  },
  {
   "cell_type": "code",
   "execution_count": null,
   "metadata": {},
   "outputs": [],
   "source": [
    "batch_regenie_results %>%\n",
    "    filter(phenotype_batch == 'IS_AOU') %>%\n",
    "    group_by(CHROM) %>%\n",
    "    summarize(count = n()) %>%\n",
    "    arrange(CHROM, count)"
   ]
  },
  {
   "cell_type": "code",
   "execution_count": null,
   "metadata": {},
   "outputs": [],
   "source": [
    "batch_regenie_results %>%\n",
    "    filter(phenotype_batch == 'IS_AOU') %>%\n",
    "    filter(significant_batch == 'TRUE') %>%\n",
    "    group_by(CHROM, group_size_threshold_batch) %>%\n",
    "    summarize(count = n()) %>%\n",
    "    arrange(CHROM, count)"
   ]
  },
  {
   "cell_type": "markdown",
   "metadata": {},
   "source": [
    "## Plot regenie results"
   ]
  },
  {
   "cell_type": "code",
   "execution_count": null,
   "metadata": {},
   "outputs": [],
   "source": [
    "plot_manhattan_and_qq <- function(regenie_results, manhattan_title, qq_title) {\n",
    "    options(repr.plot.width = 10, repr.plot.height = 10)\n",
    "    manhattan(regenie_results,\n",
    "              chr='CHROM',\n",
    "              bp='GENPOS',\n",
    "              snp='ID',\n",
    "              p='p_value_batch',\n",
    "              logp=TRUE,\n",
    "              annotateTop = FALSE,\n",
    "              ylim = c(0, 20),\n",
    "              cex = 1.25,\n",
    "              cex.axis = 1.25,\n",
    "              cex.lab = 1.25,\n",
    "              main = manhattan_title,\n",
    "              sub = PLOT_SUBTITLE\n",
    "             )\n",
    "\n",
    "    qq(regenie_results$p_value_batch,\n",
    "       cex = 1.25,\n",
    "       cex.axis = 1.25,\n",
    "       cex.lab = 1.25,\n",
    "       main = qq_title,\n",
    "       sub = PLOT_SUBTITLE)\n",
    "}"
   ]
  },
  {
   "cell_type": "raw",
   "metadata": {},
   "source": [
    "map(BATCHES, function(cohort_indicator) {\n",
    "    regenie_results <- batch_regenie_results %>% filter(phenotype_batch == cohort_indicator)\n",
    "    file = BATCH_REGENIE_RESULTS[cohort_indicator]\n",
    "\n",
    "    gc_score <- median(regenie_results$CHISQ_batch) / qchisq(0.5, 1, lower.tail=FALSE)\n",
    "\n",
    "    message(str_glue('nrow: {nrow(regenie_results)} ncol: {ncol(regenie_results)} in {file}'))\n",
    "    message(str_glue('GC: {round(gc_score, 3)}'))\n",
    "\n",
    "    plot_manhattan_and_qq(\n",
    "        regenie_results,\n",
    "        manhattan_title = str_glue('{basename(file)} results from\\n{dirname(file)}'),\n",
    "        qq_title = str_glue('{basename(file)} results\\nfrom {dirname(file)}\\n GC: {round(gc_score, 3)}')\n",
    "    )\n",
    "})"
   ]
  },
  {
   "cell_type": "code",
   "execution_count": null,
   "metadata": {},
   "outputs": [],
   "source": [
    "map(BATCHES, function(cohort_indicator) {\n",
    "    regenie_results <- batch_regenie_results %>%\n",
    "        filter(phenotype_batch == cohort_indicator) %>%\n",
    "        filter(group_size_threshold_batch == 'meets group size threshold')\n",
    "\n",
    "    file = BATCH_REGENIE_RESULTS[cohort_indicator]\n",
    "\n",
    "    gc_score <- median(regenie_results$CHISQ_batch) / qchisq(0.5, 1, lower.tail=FALSE)\n",
    "\n",
    "    message(str_glue('nrow: {nrow(regenie_results)} ncol: {ncol(regenie_results)} in {file}'))\n",
    "    message(str_glue('GC: {round(gc_score, 3)}'))\n",
    "\n",
    "    plot_manhattan_and_qq(\n",
    "        regenie_results,\n",
    "        manhattan_title = str_glue('{basename(file)} results from\\n{dirname(file)}'),\n",
    "        qq_title = str_glue('{basename(file)} results\\nfrom {dirname(file)}\\n GC: {round(gc_score, 3)}')\n",
    "    )\n",
    "})"
   ]
  },
  {
   "cell_type": "markdown",
   "metadata": {},
   "source": [
    "# Check the intersection with pooled lipids GWAS results"
   ]
  },
  {
   "cell_type": "code",
   "execution_count": null,
   "metadata": {},
   "outputs": [],
   "source": [
    "pooled_lipids_regenie_results <- bind_rows(\n",
    "    lapply(LIPIDS, function(lipid) {\n",
    "        file <- POOLED_LIPIDS_REGENIE_RESULTS[lipid]\n",
    "        read_delim(pipe(str_glue('gsutil cat {file}')), delim = ' ') %>%\n",
    "        mutate(lipid_type = lipid)\n",
    "    })) %>%\n",
    "    mutate(\n",
    "        is_flipped = ID != str_glue('chr{CHROM}_{GENPOS}_{ALLELE0}_{ALLELE1}'),\n",
    "        AN = 2 * N,\n",
    "        AC_alt = round(A1FREQ * AN),\n",
    "        AC_ref = round((1 - A1FREQ) * AN),\n",
    "        significant = LOG10P > -log10(5e-08),\n",
    "        group_size_threshold = ifelse(AC_alt < 40 | AC_ref < 40,\n",
    "                                      'below minimum group size threshold',\n",
    "                                      'meets group size threshold'),\n",
    "        p_value = 10 ^ (-1 * LOG10P)\n",
    "    ) %>%\n",
    "    rename_at(vars(-lipid_type, -ID, -CHROM, -GENPOS), ~ paste0(., '_pooled'))\n",
    "\n",
    "dim(pooled_lipids_regenie_results)"
   ]
  },
  {
   "cell_type": "code",
   "execution_count": null,
   "metadata": {},
   "outputs": [],
   "source": [
    "head(pooled_lipids_regenie_results)"
   ]
  },
  {
   "cell_type": "code",
   "execution_count": null,
   "metadata": {},
   "outputs": [],
   "source": [
    "batch_overlap_pooled <- batch_regenie_results %>%\n",
    "    filter(phenotype_batch == 'IS_AOU') %>%\n",
    "    filter(significant_batch) %>%\n",
    "    inner_join(pooled_lipids_regenie_results,\n",
    "               by = c('ID', 'CHROM', 'GENPOS'),\n",
    "               suffix = c('_batch', '_pooled')\n",
    "              )"
   ]
  },
  {
   "cell_type": "code",
   "execution_count": null,
   "metadata": {},
   "outputs": [],
   "source": [
    "# Check the join. These values should be similar.\n",
    "nrow(batch_overlap_pooled)\n",
    "4 * nrow(batch_regenie_results %>% filter(phenotype_batch == 'IS_AOU') %>% filter(significant_batch))"
   ]
  },
  {
   "cell_type": "code",
   "execution_count": null,
   "metadata": {},
   "outputs": [],
   "source": [
    "batch_overlap_pooled %>%\n",
    "    group_by(lipid_type, significant_batch, significant_pooled) %>%\n",
    "    summarize(\n",
    "        count = n(),\n",
    "        max_LOG10P_batch = max(LOG10P_batch),\n",
    "        max_LOG10P_pooled = max(LOG10P_pooled),\n",
    "        max_BETA_batch = max(BETA_batch),\n",
    "        max_BETA_pooled = max(BETA_pooled),\n",
    "    )"
   ]
  },
  {
   "cell_type": "code",
   "execution_count": null,
   "metadata": {},
   "outputs": [],
   "source": [
    "batch_overlap_pooled %>%\n",
    "    group_by(lipid_type, CHROM, significant_batch, significant_pooled) %>%\n",
    "    summarize(\n",
    "        count = n(),\n",
    "        max_LOG10P_batch = max(LOG10P_batch),\n",
    "        max_LOG10P_pooled = max(LOG10P_pooled),\n",
    "        max_BETA_batch = max(BETA_batch),\n",
    "        max_BETA_pooled = max(BETA_pooled),\n",
    "    )"
   ]
  },
  {
   "cell_type": "markdown",
   "metadata": {},
   "source": [
    "# Check the intersection with meta analysis lipids GWAS results"
   ]
  },
  {
   "cell_type": "code",
   "execution_count": null,
   "metadata": {},
   "outputs": [],
   "source": [
    "metal_meta_analysis_results <- bind_rows(\n",
    "    lapply(LIPIDS, function(lipid) {\n",
    "        file <- METAL_META_ANALYSIS_RESULTS[lipid]\n",
    "        read_table(pipe(str_glue('gsutil cat {file}'))) %>%\n",
    "        mutate(lipid_type = lipid)\n",
    "    })) %>%\n",
    "    separate(MarkerName, sep = ':', into = c('CHROM', 'GENPOS', NA, NA), convert = TRUE, remove = FALSE) %>%\n",
    "    mutate(\n",
    "        ID = str_c('chr', str_replace_all(MarkerName, ':', '_')),\n",
    "        # Fix values when Allele2 is the reference allele.\n",
    "        is_flipped = MarkerName != str_c(CHROM, GENPOS, str_to_upper(Allele1), str_to_upper(Allele2), sep=':'),\n",
    "        fixed_beta = ifelse(is_flipped, -Effect, Effect),\n",
    "        fixed_freq1 =  ifelse(is_flipped, 1 - Freq1, Freq1),\n",
    "        LOG10P = -log10(`P-value`),\n",
    "        significant = `P-value` <= 5e-08,\n",
    "        single_cohort_result = str_detect(Direction, '\\\\?'),\n",
    "        cohorts = case_when(\n",
    "            Direction %in% c('++', '--') ~ 'both cohorts', \n",
    "            Direction %in% c('+-', '-+') ~ 'both cohorts with conflicting direction of effect', \n",
    "            Direction %in% c('+?', '-?') ~ 'AoU only', \n",
    "            Direction %in% c('?+', '?-') ~ 'UKB only'\n",
    "        )\n",
    "    ) %>%\n",
    "    rename_at(vars(-lipid_type, -ID, -CHROM, -GENPOS), ~ paste0(., '_metal'))\n",
    "\n",
    "dim(metal_meta_analysis_results)"
   ]
  },
  {
   "cell_type": "code",
   "execution_count": null,
   "metadata": {},
   "outputs": [],
   "source": [
    "head(metal_meta_analysis_results)"
   ]
  },
  {
   "cell_type": "code",
   "execution_count": null,
   "metadata": {},
   "outputs": [],
   "source": [
    "batch_overlap_both <- batch_overlap_pooled %>%\n",
    "    left_join(\n",
    "        metal_meta_analysis_results, by = c('lipid_type', 'ID', 'CHROM', 'GENPOS'))\n",
    "\n",
    "dim(batch_overlap_both)"
   ]
  },
  {
   "cell_type": "code",
   "execution_count": null,
   "metadata": {},
   "outputs": [],
   "source": [
    "# Check the join. These numbers should be similar.\n",
    "length(unique(batch_overlap_both$ID))\n",
    "nrow(batch_regenie_results %>% filter(significant_batch) %>% select(ID) %>% distinct)\n",
    "stopifnot(length(unique(batch_overlap_both$ID)) < nrow(batch_regenie_results %>% filter(significant_batch) %>% select(ID) %>% distinct))"
   ]
  },
  {
   "cell_type": "code",
   "execution_count": null,
   "metadata": {},
   "outputs": [],
   "source": [
    "colnames(batch_overlap_both)"
   ]
  },
  {
   "cell_type": "code",
   "execution_count": null,
   "metadata": {},
   "outputs": [],
   "source": [
    "batch_overlap_both %>%\n",
    "    group_by(lipid_type, significant_batch, significant_pooled, significant_metal) %>%\n",
    "    summarize(\n",
    "        count = n(),\n",
    "        max_LOG10P_batch = max(LOG10P_batch),\n",
    "        max_LOG10P_pooled = max(LOG10P_pooled),\n",
    "        max_BETA_batch = max(BETA_batch),\n",
    "        max_BETA_pooled = max(BETA_pooled),\n",
    "    )"
   ]
  },
  {
   "cell_type": "markdown",
   "metadata": {},
   "source": [
    "## Create a TSV with the significant batch variants that overlap significant lipids results"
   ]
  },
  {
   "cell_type": "code",
   "execution_count": null,
   "metadata": {},
   "outputs": [],
   "source": [
    "batch_overlap_both %>%\n",
    "    filter(phenotype_batch == 'IS_AOU') %>%\n",
    "    filter(group_size_threshold_batch == 'meets group size threshold') %>%\n",
    "    filter(significant_pooled | significant_metal) %>%\n",
    "    select(lipid_type, ID,\n",
    "           significant_batch, significant_pooled, significant_metal,\n",
    "           LOG10P_batch, LOG10P_pooled, LOG10P_metal,\n",
    "           BETA_batch, BETA_pooled, Effect_metal,\n",
    "           SE_batch, SE_pooled, StdErr_metal,\n",
    "           CHROM, GENPOS,\n",
    "           ALLELE0_batch, ALLELE1_batch, ALLELE0_pooled, ALLELE1_pooled, Allele1_metal, Allele2_metal\n",
    "          ) %T>%\n",
    "    write_tsv(OVERLAPPING_SIGNIFICANT_BATCH_VARIANTS_FILENAME) %>% \n",
    "    arrange(lipid_type, CHROM, GENPOS)"
   ]
  },
  {
   "cell_type": "code",
   "execution_count": null,
   "metadata": {},
   "outputs": [],
   "source": [
    "# Copy the file to the workspace bucket.\n",
    "system(str_glue('gsutil cp {OVERLAPPING_SIGNIFICANT_BATCH_VARIANTS_FILENAME} {DESTINATION}'), intern = T)"
   ]
  },
  {
   "cell_type": "markdown",
   "metadata": {},
   "source": [
    "## Create a TSV with the significant batch variants"
   ]
  },
  {
   "cell_type": "code",
   "execution_count": null,
   "metadata": {},
   "outputs": [],
   "source": [
    "batch_overlap_both %>%\n",
    "    filter(phenotype_batch == 'IS_AOU') %>%\n",
    "    filter(group_size_threshold_batch == 'meets group size threshold') %>%\n",
    "    select(lipid_type, ID,\n",
    "           significant_batch, significant_pooled, significant_metal,\n",
    "           LOG10P_batch, LOG10P_pooled, LOG10P_metal,\n",
    "           BETA_batch, BETA_pooled, Effect_metal,\n",
    "           SE_batch, SE_pooled, StdErr_metal,\n",
    "           CHROM, GENPOS,\n",
    "           ALLELE0_batch, ALLELE1_batch, ALLELE0_pooled, ALLELE1_pooled, Allele1_metal, Allele2_metal\n",
    "          ) %T>%\n",
    "    write_tsv(SIGNIFICANT_BATCH_VARIANTS_FILENAME) %>%\n",
    "    nrow()"
   ]
  },
  {
   "cell_type": "code",
   "execution_count": null,
   "metadata": {},
   "outputs": [],
   "source": [
    "# Copy the file to the workspace bucket.\n",
    "system(str_glue('gsutil cp {SIGNIFICANT_BATCH_VARIANTS_FILENAME} {DESTINATION}'), intern = T)"
   ]
  },
  {
   "cell_type": "markdown",
   "metadata": {},
   "source": [
    "# Check pooled vs. meta analysis lipids results"
   ]
  },
  {
   "cell_type": "markdown",
   "metadata": {},
   "source": [
    "## Pooled versus Metal - '?' results flagged"
   ]
  },
  {
   "cell_type": "code",
   "execution_count": null,
   "metadata": {},
   "outputs": [],
   "source": [
    "joined_pooled_and_all_metal_results <- metal_meta_analysis_results %>%\n",
    "    full_join(pooled_lipids_regenie_results, by = c('lipid_type', 'ID', 'CHROM', 'GENPOS'))\n",
    "\n",
    "dim(joined_pooled_and_all_metal_results)"
   ]
  },
  {
   "cell_type": "code",
   "execution_count": null,
   "metadata": {},
   "outputs": [],
   "source": [
    "colnames(joined_pooled_and_all_metal_results)"
   ]
  },
  {
   "cell_type": "markdown",
   "metadata": {},
   "source": [
    "### Check the join"
   ]
  },
  {
   "cell_type": "code",
   "execution_count": null,
   "metadata": {},
   "outputs": [],
   "source": [
    "length(unique(joined_pooled_and_all_metal_results$ID))\n",
    "length(unique(c(metal_meta_analysis_results$ID, pooled_lipids_regenie_results$ID)))\n",
    "stopifnot(length(unique(joined_pooled_and_all_metal_results$ID))\n",
    "          == length(unique(c(metal_meta_analysis_results$ID,\n",
    "                             pooled_lipids_regenie_results$ID))))"
   ]
  },
  {
   "cell_type": "code",
   "execution_count": null,
   "metadata": {},
   "outputs": [],
   "source": [
    "joined_pooled_and_all_metal_results %>%\n",
    "    filter(lipid_type == 'LDL') %>%\n",
    "    group_by(is_flipped_pooled, is_flipped_metal) %>%\n",
    "    summarize(count = n())"
   ]
  },
  {
   "cell_type": "markdown",
   "metadata": {},
   "source": [
    "### Compare LOG10P values"
   ]
  },
  {
   "cell_type": "code",
   "execution_count": null,
   "metadata": {},
   "outputs": [],
   "source": [
    "joined_pooled_and_all_metal_results %>%\n",
    "    filter(lipid_type == 'LDL') %>%\n",
    "    group_by(lipid_type, significant_pooled, significant_metal) %>%\n",
    "    summarize(\n",
    "        count = n(),\n",
    "        min_LOG10P_pooled = round(min(LOG10P_pooled, na.rm = TRUE), 3),\n",
    "        min_LOG10P_metal = round(min(LOG10P_metal, na.rm = TRUE), 3),\n",
    "        median_LOG10P_pooled = round(median(LOG10P_pooled, na.rm = TRUE), 3),\n",
    "        median_LOG10P_metal = round(median(LOG10P_metal, na.rm = TRUE), 3),\n",
    "        max_LOG10P_pooled = round(max(LOG10P_pooled, na.rm = TRUE), 3),\n",
    "        max_LOG10P_metal = round(max(LOG10P_metal, na.rm = TRUE), 3),\n",
    "        mean_LOG10P_pooled = round(mean(LOG10P_pooled, na.rm = TRUE), 3),\n",
    "        mean_LOG10P_metal = round(mean(LOG10P_metal, na.rm = TRUE), 3),\n",
    "        sd_LOG10P_pooled = sd(LOG10P_pooled, na.rm = TRUE),\n",
    "        sd_LOG10P_metal = sd(LOG10P_metal, na.rm = TRUE),\n",
    "        )"
   ]
  },
  {
   "cell_type": "code",
   "execution_count": null,
   "metadata": {},
   "outputs": [],
   "source": [
    "joined_pooled_and_all_metal_results %>%\n",
    "    filter(lipid_type == 'LDL') %>%\n",
    "    group_by(lipid_type, significant_pooled, significant_metal, cohorts_metal) %>%\n",
    "    summarize(\n",
    "        count = n(),\n",
    "        min_LOG10P_pooled = round(min(LOG10P_pooled, na.rm = TRUE), 3),\n",
    "        min_LOG10P_metal = round(min(LOG10P_metal, na.rm = TRUE), 3),\n",
    "        median_LOG10P_pooled = round(median(LOG10P_pooled, na.rm = TRUE), 3),\n",
    "        median_LOG10P_metal = round(median(LOG10P_metal, na.rm = TRUE), 3),\n",
    "        max_LOG10P_pooled = round(max(LOG10P_pooled, na.rm = TRUE), 3),\n",
    "        max_LOG10P_metal = round(max(LOG10P_metal, na.rm = TRUE), 3),\n",
    "        mean_LOG10P_pooled = round(mean(LOG10P_pooled, na.rm = TRUE), 3),\n",
    "        mean_LOG10P_metal = round(mean(LOG10P_metal, na.rm = TRUE), 3),\n",
    "        sd_LOG10P_pooled = sd(LOG10P_pooled, na.rm = TRUE),\n",
    "        sd_LOG10P_metal = sd(LOG10P_metal, na.rm = TRUE),\n",
    ")"
   ]
  },
  {
   "cell_type": "code",
   "execution_count": null,
   "metadata": {},
   "outputs": [],
   "source": [
    "joined_pooled_and_all_metal_results %>%\n",
    "    filter(lipid_type == 'LDL') %>%\n",
    "    filter(significant_metal == TRUE) %>%\n",
    "    ggplot(aes(y = p_value_pooled, x = significant_pooled)) +\n",
    "    scale_y_log10() +\n",
    "    geom_boxplot()"
   ]
  },
  {
   "cell_type": "code",
   "execution_count": null,
   "metadata": {},
   "outputs": [],
   "source": [
    "gwas_result_summary <- joined_pooled_and_all_metal_results %>%\n",
    "    group_by(lipid_type, significant_pooled, significant_metal,\n",
    "             group_size_threshold_pooled, single_cohort_result_metal) %>%\n",
    "    summarize(count = n())"
   ]
  },
  {
   "cell_type": "code",
   "execution_count": null,
   "metadata": {},
   "outputs": [],
   "source": [
    "gwas_result_summary %>%\n",
    "    filter(lipid_type == 'LDL')"
   ]
  },
  {
   "cell_type": "markdown",
   "metadata": {},
   "source": [
    "### Create a TSV with the summary counts for all lipids."
   ]
  },
  {
   "cell_type": "code",
   "execution_count": null,
   "metadata": {},
   "outputs": [],
   "source": [
    "write_tsv(gwas_result_summary, GWAS_RESULT_SUMMARY_FILENAME)"
   ]
  },
  {
   "cell_type": "code",
   "execution_count": null,
   "metadata": {},
   "outputs": [],
   "source": [
    "# Copy the file to the workspace bucket.\n",
    "system(str_glue('gsutil cp {GWAS_RESULT_SUMMARY_FILENAME} {DESTINATION}'), intern = T)"
   ]
  },
  {
   "cell_type": "markdown",
   "metadata": {},
   "source": [
    "### Create a TSV with the significant results for all lipids."
   ]
  },
  {
   "cell_type": "code",
   "execution_count": null,
   "metadata": {},
   "outputs": [],
   "source": [
    "significant_lipids_gwas_results <- joined_pooled_and_all_metal_results %>%\n",
    "    filter(significant_pooled == TRUE\n",
    "           | significant_metal == TRUE) %>%\n",
    "    filter(is.na(group_size_threshold_pooled)\n",
    "           | group_size_threshold_pooled != 'below minimum group size threshold') %>%\n",
    "    # Prevent GoogleSheets from interpreting this as a formula.\n",
    "    mutate(Direction_metal = paste0(\"'\", Direction_metal, \"'\")) %>%\n",
    "    select(\n",
    "        lipid_type, ID,\n",
    "        significant_pooled, significant_metal, single_cohort_result_metal, cohorts_metal,\n",
    "        p_value_pooled, `P-value_metal`,\n",
    "        BETA_pooled, Effect_metal, \n",
    "        SE_pooled, StdErr_metal,\n",
    "        LOG10P_pooled, CHISQ_pooled,\n",
    "        A1FREQ_pooled, N_pooled, Freq1_metal, FreqSE_metal, MinFreq_metal, MaxFreq_metal,\n",
    "        CHROM, GENPOS,\n",
    "        ALLELE0_pooled, ALLELE1_pooled, Allele1_metal, Allele2_metal\n",
    "    ) %>%\n",
    "    arrange(lipid_type, CHROM, GENPOS)"
   ]
  },
  {
   "cell_type": "code",
   "execution_count": null,
   "metadata": {},
   "outputs": [],
   "source": [
    "head(significant_lipids_gwas_results)"
   ]
  },
  {
   "cell_type": "code",
   "execution_count": null,
   "metadata": {},
   "outputs": [],
   "source": [
    "significant_lipids_gwas_results %>%\n",
    "    filter(lipid_type == 'LDL') %>%\n",
    "    group_by(significant_pooled, significant_metal) %>%\n",
    "    summarize(count = n())"
   ]
  },
  {
   "cell_type": "code",
   "execution_count": null,
   "metadata": {},
   "outputs": [],
   "source": [
    "write_tsv(significant_lipids_gwas_results, SIGNIFICANT_LIPIDS_GWAS_RESULTS_FILENAME)"
   ]
  },
  {
   "cell_type": "code",
   "execution_count": null,
   "metadata": {},
   "outputs": [],
   "source": [
    "# Copy the file to the workspace bucket.\n",
    "system(str_glue('gsutil cp {SIGNIFICANT_LIPIDS_GWAS_RESULTS_FILENAME} {DESTINATION}'), intern = T)"
   ]
  },
  {
   "cell_type": "markdown",
   "metadata": {},
   "source": [
    "### Examine Metal direction"
   ]
  },
  {
   "cell_type": "code",
   "execution_count": null,
   "metadata": {},
   "outputs": [],
   "source": [
    "joined_pooled_and_all_metal_results %>%\n",
    "    filter(lipid_type == 'LDL') %>%\n",
    "    filter(significant_pooled == TRUE\n",
    "           | significant_metal == TRUE) %>%\n",
    "    group_by(significant_pooled, significant_metal, Direction_metal) %>%\n",
    "    summarize(count = n())"
   ]
  },
  {
   "cell_type": "code",
   "execution_count": null,
   "metadata": {},
   "outputs": [],
   "source": [
    "joined_pooled_and_all_metal_results %>%\n",
    "    filter(lipid_type == 'LDL') %>%\n",
    "    filter(significant_pooled == TRUE\n",
    "           | significant_metal == TRUE) %>%\n",
    "    filter(!is.na(Direction_metal)) %>%\n",
    "    mutate(\n",
    "        direction = case_when(\n",
    "            Direction_metal %in% c('--', '++') ~ 'agreement',\n",
    "            Direction_metal %in% c('?-', '-?', '?+', '+?') ~ 'single cohort',\n",
    "            Direction_metal %in% c('-+', '+-') ~ 'conflicting',            \n",
    "        )\n",
    "    ) %>%\n",
    "    group_by(significant_pooled, significant_metal, direction) %>%\n",
    "    summarize(count = n())"
   ]
  },
  {
   "cell_type": "code",
   "execution_count": null,
   "metadata": {},
   "outputs": [],
   "source": [
    "joined_pooled_and_all_metal_results %>%\n",
    "    filter(lipid_type == 'LDL') %>%\n",
    "    filter(significant_pooled == TRUE\n",
    "           | significant_metal == TRUE) %>%\n",
    "    filter(!is.na(Direction_metal)) %>%\n",
    "    mutate(\n",
    "        direction = case_when(\n",
    "            Direction_metal %in% c('--', '++') ~ 'agreement',\n",
    "            Direction_metal %in% c('?-', '-?', '?+', '+?') ~ 'single cohort',\n",
    "            Direction_metal %in% c('-+', '+-') ~ 'conflicting',            \n",
    "        )\n",
    "    ) %>%\n",
    "    group_by(direction) %>%\n",
    "    summarize(count = n())"
   ]
  },
  {
   "cell_type": "code",
   "execution_count": null,
   "metadata": {},
   "outputs": [],
   "source": [
    "joined_pooled_and_all_metal_results %>%\n",
    "    filter(lipid_type == 'LDL') %>%\n",
    "    filter(significant_pooled == TRUE\n",
    "           | significant_metal == TRUE) %>%\n",
    "    filter(!is.na(Direction_metal)) %>%\n",
    "    mutate(\n",
    "        direction = case_when(\n",
    "            Direction_metal %in% c('--', '++') ~ 'agreement',\n",
    "            Direction_metal %in% c('?-', '-?', '?+', '+?') ~ 'single cohort',\n",
    "            Direction_metal %in% c('-+', '+-') ~ 'conflicting',            \n",
    "        )\n",
    "    ) %>%\n",
    "    group_by(direction) %>%\n",
    "    summarize(\n",
    "        count = n(),\n",
    "        median_pooled_se = median(SE_pooled, na.rm = TRUE),\n",
    "        median_metal_se = median(StdErr_metal, na.rm = TRUE),\n",
    "        mean_pooled_se = mean(SE_pooled, na.rm = TRUE),\n",
    "        mean_metal_se = mean(StdErr_metal, na.rm = TRUE),\n",
    "        sd_pooled_se = sd(SE_pooled, na.rm = TRUE),\n",
    "        sd_metal_se = sd(StdErr_metal, na.rm = TRUE)\n",
    "    )"
   ]
  },
  {
   "cell_type": "code",
   "execution_count": null,
   "metadata": {},
   "outputs": [],
   "source": [
    "options(repr.plot.width = 16, repr.plot.height = 8)\n",
    "\n",
    "joined_pooled_and_all_metal_results %>%\n",
    "    filter(lipid_type == 'LDL') %>%\n",
    "    filter(significant_pooled == TRUE\n",
    "           | significant_metal == TRUE) %>%\n",
    "    mutate(\n",
    "        direction = case_when(\n",
    "            Direction_metal %in% c('--', '++') ~ 'agreement [++, --]',\n",
    "            Direction_metal %in% c('?-', '-?', '?+', '+?') ~ 'single cohort [+?, ?+, -?, ?-]',\n",
    "            Direction_metal %in% c('-+', '+-') ~ 'conflicting [+_, _+]',\n",
    "            TRUE ~ 'pooled-only result'\n",
    "        ),\n",
    "        direction = fct_relevel(direction, 'pooled-only result', after = Inf)\n",
    "    ) %>%\n",
    "    pivot_longer(\n",
    "        cols = c(SE_pooled, StdErr_metal),\n",
    "        names_to = 'approach',\n",
    "        names_pattern = '.*_(.*)',\n",
    "        values_to = 'stderr'\n",
    "    ) %>%\n",
    "    ggplot(aes(x=approach, y=stderr)) +\n",
    "        geom_boxplot() +\n",
    "        stat_summary(fun.data = get_boxplot_fun_data, geom = 'text', size = 5,\n",
    "                     position = position_dodge(width = 0.9), vjust = -0.8) +\n",
    "        facet_wrap(~ direction, ncol = 4) +\n",
    "        scale_y_log10() +\n",
    "        theme(\n",
    "            axis.title.x=element_text(size=14),\n",
    "            axis.title.y=element_text(size=14),\n",
    "        ) +\n",
    "        xlab('analysis approach') +\n",
    "        ylab('standard error [log scale]') +\n",
    "        labs(title = str_glue('Standard error values for significant LDL results by cohort \"direction\" from METAL.'),\n",
    "             caption = PLOT_SUBTITLE)"
   ]
  },
  {
   "cell_type": "code",
   "execution_count": null,
   "metadata": {},
   "outputs": [],
   "source": [
    "options(repr.plot.width = 16, repr.plot.height = 8)\n",
    "\n",
    "joined_pooled_and_all_metal_results %>%\n",
    "    filter(lipid_type == 'LDL') %>%\n",
    "    filter(significant_pooled == TRUE\n",
    "           | significant_metal == TRUE) %>%\n",
    "    mutate(\n",
    "        direction = case_when(\n",
    "            Direction_metal %in% c('--', '++') ~ 'agreement [++, --]',\n",
    "            Direction_metal %in% c('?-', '-?', '?+', '+?') ~ 'single cohort [+?, ?+, -?, ?-]',\n",
    "            Direction_metal %in% c('-+', '+-') ~ 'conflicting [+_, _+]',\n",
    "            TRUE ~ 'pooled-only result'\n",
    "        ),\n",
    "        direction = fct_relevel(direction, 'pooled-only result', after = Inf)\n",
    "    ) %>%\n",
    "    pivot_longer(\n",
    "        cols = c(p_value_pooled, `P-value_metal`),\n",
    "        names_to = 'approach',\n",
    "        names_pattern = '.*_(.*)$',\n",
    "        values_to = 'p_value'\n",
    "    ) %>%\n",
    "    ggplot(aes(x=approach, y=p_value)) +\n",
    "        geom_boxplot() +\n",
    "        stat_summary(fun.data = get_boxplot_fun_data, geom = 'text', size = 5,\n",
    "                     position = position_dodge(width = 0.9), vjust = -0.8) +\n",
    "        facet_wrap(~ direction, ncol = 4) +\n",
    "        scale_y_log10() +\n",
    "        theme(\n",
    "            axis.title.x=element_text(size=14),\n",
    "            axis.title.y=element_text(size=14),\n",
    "        ) +\n",
    "        xlab('analysis approach') +\n",
    "        ylab('p-value [log scale]') +\n",
    "        labs(title = str_glue('p-values for significant LDL results by cohort \"direction\" from METAL.'),\n",
    "             caption = PLOT_SUBTITLE)"
   ]
  },
  {
   "cell_type": "markdown",
   "metadata": {},
   "source": [
    "## Pooled versus Metal - ‘?’ Metal results removed"
   ]
  },
  {
   "cell_type": "code",
   "execution_count": null,
   "metadata": {},
   "outputs": [],
   "source": [
    "joined_pooled_and_metal_results <- metal_meta_analysis_results %>%\n",
    "    filter(str_detect(Direction_metal, '\\\\?', negate = TRUE)) %>%\n",
    "    full_join(pooled_lipids_regenie_results, by = c('ID', 'lipid_type'))\n",
    "\n",
    "dim(joined_pooled_and_metal_results)"
   ]
  },
  {
   "cell_type": "code",
   "execution_count": null,
   "metadata": {},
   "outputs": [],
   "source": [
    "joined_pooled_and_metal_results %>%\n",
    "    filter(lipid_type == 'LDL') %>%\n",
    "    group_by(lipid_type, significant_pooled, significant_metal, group_size_threshold_pooled) %>%\n",
    "    summarize(count = n())"
   ]
  },
  {
   "cell_type": "code",
   "execution_count": null,
   "metadata": {},
   "outputs": [],
   "source": [
    "joined_pooled_and_metal_results %>%\n",
    "    filter(lipid_type == 'LDL') %>%\n",
    "    group_by(lipid_type, significant_pooled, significant_metal, group_size_threshold_pooled, Direction_metal) %>%\n",
    "    summarize(count = n())"
   ]
  },
  {
   "cell_type": "markdown",
   "metadata": {},
   "source": [
    "# Examine mysteries regarding '?' METAL results"
   ]
  },
  {
   "cell_type": "code",
   "execution_count": null,
   "metadata": {},
   "outputs": [],
   "source": [
    "pooled_variants_passing_QC <- read_tsv(pipe('gsutil cat {STEP2_VARIANT_QC_SNPLIST}'), col_names = c('ID'))\n",
    "\n",
    "dim(pooled_variants_passing_QC)"
   ]
  },
  {
   "cell_type": "code",
   "execution_count": null,
   "metadata": {},
   "outputs": [],
   "source": [
    "head(pooled_variants_passing_QC)"
   ]
  },
  {
   "cell_type": "code",
   "execution_count": null,
   "metadata": {},
   "outputs": [],
   "source": [
    "system(paste('/tmp/plink2/plink2 --pfile plink2 --write-snplist --out all_aou_ukb_variants'), intern = TRUE)"
   ]
  },
  {
   "cell_type": "code",
   "execution_count": null,
   "metadata": {},
   "outputs": [],
   "source": [
    "all_pooled_variants <- read_tsv('all_aou_ukb_variants.snplist', col_names = c('ID'))\n",
    "\n",
    "dim(all_pooled_variants)"
   ]
  },
  {
   "cell_type": "code",
   "execution_count": null,
   "metadata": {},
   "outputs": [],
   "source": [
    "head(all_pooled_variants)"
   ]
  },
  {
   "cell_type": "code",
   "execution_count": null,
   "metadata": {},
   "outputs": [],
   "source": [
    "aou_siloed_ldl_gwas_results <- read_tsv(pipe(str_glue('gsutil cat {AOU_LDL_GWAS_RESULTS}'))) %>%\n",
    "    mutate (\n",
    "        ID = str_c('chr', str_replace_all(ID, ':', '_')),\n",
    "    ) %>%\n",
    "    rename_at(vars(-ID, -CHROM, -GENPOS), ~ paste0(., '_aou_siloed'))\n",
    "\n",
    "dim(aou_siloed_ldl_gwas_results)"
   ]
  },
  {
   "cell_type": "code",
   "execution_count": null,
   "metadata": {},
   "outputs": [],
   "source": [
    "head(aou_siloed_ldl_gwas_results)"
   ]
  },
  {
   "cell_type": "code",
   "execution_count": null,
   "metadata": {},
   "outputs": [],
   "source": [
    "ukb_siloed_ldl_gwas_results <- read_tsv(pipe(str_glue('gsutil cat {UKB_LDL_GWAS_RESULTS}'))) %>%\n",
    "    mutate (\n",
    "        ID = str_c('chr', str_replace_all(ID, ':', '_')),    ) %>%\n",
    "    rename_at(vars(-ID, -CHROM, -GENPOS), ~ paste0(., '_ukb_siloed'))\n",
    "\n",
    "dim(ukb_siloed_ldl_gwas_results)"
   ]
  },
  {
   "cell_type": "code",
   "execution_count": null,
   "metadata": {},
   "outputs": [],
   "source": [
    "head(ukb_siloed_ldl_gwas_results)"
   ]
  },
  {
   "cell_type": "markdown",
   "metadata": {},
   "source": [
    "## Why does metal report results for variants found in both cohorts, but those variants are not in pooled? \n",
    "\n",
    "hypothesis: when the alleles were pooled, they no longer met the variant QC thresholds"
   ]
  },
  {
   "cell_type": "code",
   "execution_count": null,
   "metadata": {},
   "outputs": [],
   "source": [
    "gwas_result_summary %>%\n",
    "    filter(lipid_type == 'LDL') %>%\n",
    "    filter(is.na(significant_pooled)) %>%\n",
    "    filter(single_cohort_result_metal == FALSE)"
   ]
  },
  {
   "cell_type": "code",
   "execution_count": null,
   "metadata": {},
   "outputs": [],
   "source": [
    "metal_two_cohort_na_pooled <- joined_pooled_and_all_metal_results %>%\n",
    "    filter(lipid_type == 'LDL') %>%\n",
    "    filter(is.na(significant_pooled)) %>%\n",
    "    filter(single_cohort_result_metal == FALSE) %>%\n",
    "    select(ID)\n",
    "\n",
    "dim(metal_two_cohort_na_pooled)"
   ]
  },
  {
   "cell_type": "code",
   "execution_count": null,
   "metadata": {},
   "outputs": [],
   "source": [
    "head(metal_two_cohort_na_pooled)"
   ]
  },
  {
   "cell_type": "code",
   "execution_count": null,
   "metadata": {},
   "outputs": [],
   "source": [
    "length(intersect(metal_two_cohort_na_pooled$ID, all_pooled_variants$ID))"
   ]
  },
  {
   "cell_type": "code",
   "execution_count": null,
   "metadata": {},
   "outputs": [],
   "source": [
    "length(intersect(metal_two_cohort_na_pooled$ID, pooled_variants_passing_QC$ID))"
   ]
  },
  {
   "cell_type": "code",
   "execution_count": null,
   "metadata": {},
   "outputs": [],
   "source": [
    "length(setdiff(metal_two_cohort_na_pooled$ID, all_pooled_variants$ID))"
   ]
  },
  {
   "cell_type": "code",
   "execution_count": null,
   "metadata": {},
   "outputs": [],
   "source": [
    "unexplained <- setdiff(metal_two_cohort_na_pooled$ID, all_pooled_variants$ID)\n",
    "\n",
    "unexplained"
   ]
  },
  {
   "cell_type": "code",
   "execution_count": null,
   "metadata": {},
   "outputs": [],
   "source": [
    "length(intersect(aou_siloed_ldl_gwas_results$ID, unexplained))"
   ]
  },
  {
   "cell_type": "code",
   "execution_count": null,
   "metadata": {},
   "outputs": [],
   "source": [
    "length(intersect(ukb_siloed_ldl_gwas_results$ID, unexplained))"
   ]
  },
  {
   "cell_type": "code",
   "execution_count": null,
   "metadata": {},
   "outputs": [],
   "source": [
    "metal_two_cohort_na_pooled %>% \n",
    "    filter(str_starts(ID, 'chr19_49406888')) %>%\n",
    "    select(ID)           "
   ]
  },
  {
   "cell_type": "code",
   "execution_count": null,
   "metadata": {},
   "outputs": [],
   "source": [
    "all_pooled_variants %>% \n",
    "    filter(str_starts(ID, 'chr19_49406888')) %>%\n",
    "    select(ID)           "
   ]
  },
  {
   "cell_type": "code",
   "execution_count": null,
   "metadata": {},
   "outputs": [],
   "source": [
    "metal_two_cohort_na_pooled %>% \n",
    "    filter(str_starts(ID, 'chr2_241809208')) %>%\n",
    "    select(ID)           "
   ]
  },
  {
   "cell_type": "code",
   "execution_count": null,
   "metadata": {},
   "outputs": [],
   "source": [
    "all_pooled_variants %>% \n",
    "    filter(str_starts(ID, 'chr2_241809208')) %>%\n",
    "    select(ID)           "
   ]
  },
  {
   "cell_type": "markdown",
   "metadata": {},
   "source": [
    "## Why does metal return '?' for so many variants also found in pooled?\n",
    "\n",
    "hypothesis: they are present in both cohorts, but only AC >= 40 in one cohort."
   ]
  },
  {
   "cell_type": "code",
   "execution_count": null,
   "metadata": {},
   "outputs": [],
   "source": [
    "gwas_result_summary %>%\n",
    "    filter(lipid_type == 'LDL') %>%\n",
    "    filter(!is.na(significant_pooled)) %>%\n",
    "    filter(single_cohort_result_metal == TRUE)"
   ]
  },
  {
   "cell_type": "code",
   "execution_count": null,
   "metadata": {},
   "outputs": [],
   "source": [
    "metal_single_cohort_also_in_pooled <- joined_pooled_and_all_metal_results %>%\n",
    "    filter(lipid_type == 'LDL') %>%\n",
    "    filter(!is.na(significant_pooled)) %>%\n",
    "    filter(single_cohort_result_metal == TRUE) %>%\n",
    "    select(ID)\n",
    "\n",
    "dim(metal_single_cohort_also_in_pooled)"
   ]
  },
  {
   "cell_type": "code",
   "execution_count": null,
   "metadata": {},
   "outputs": [],
   "source": [
    "length(intersect(aou_siloed_ldl_gwas_results$ID, metal_single_cohort_also_in_pooled$ID))"
   ]
  },
  {
   "cell_type": "code",
   "execution_count": null,
   "metadata": {},
   "outputs": [],
   "source": [
    "length(intersect(ukb_siloed_ldl_gwas_results$ID, metal_single_cohort_also_in_pooled$ID))"
   ]
  },
  {
   "cell_type": "code",
   "execution_count": null,
   "metadata": {},
   "outputs": [],
   "source": [
    "length(intersect(aou_siloed_ldl_gwas_results$ID, metal_single_cohort_also_in_pooled$ID)) +\n",
    "length(intersect(ukb_siloed_ldl_gwas_results$ID, metal_single_cohort_also_in_pooled$ID))"
   ]
  },
  {
   "cell_type": "code",
   "execution_count": null,
   "metadata": {},
   "outputs": [],
   "source": [
    "length(unique(c(intersect(aou_siloed_ldl_gwas_results$ID, metal_single_cohort_also_in_pooled$ID),\n",
    "                intersect(ukb_siloed_ldl_gwas_results$ID, metal_single_cohort_also_in_pooled$ID))))"
   ]
  },
  {
   "cell_type": "code",
   "execution_count": null,
   "metadata": {},
   "outputs": [],
   "source": [
    "length(union(intersect(aou_siloed_ldl_gwas_results$ID, metal_single_cohort_also_in_pooled$ID),\n",
    "             intersect(ukb_siloed_ldl_gwas_results$ID, metal_single_cohort_also_in_pooled$ID)))"
   ]
  },
  {
   "cell_type": "code",
   "execution_count": null,
   "metadata": {},
   "outputs": [],
   "source": [
    "metal_single_cohort_also_in_pooled %>%\n",
    "    filter(ID %in% aou_siloed_ldl_gwas_results$ID) %>%\n",
    "    filter(ID %in% ukb_siloed_ldl_gwas_results$ID) %>%\n",
    "    nrow()"
   ]
  },
  {
   "cell_type": "markdown",
   "metadata": {},
   "source": [
    "## Why do we have some metal results that are '+-' or '-+'?\n",
    "\n",
    "hypothesis: stderrs are high for those"
   ]
  },
  {
   "cell_type": "code",
   "execution_count": null,
   "metadata": {},
   "outputs": [],
   "source": [
    "joined_pooled_and_all_metal_results %>%\n",
    "    filter(lipid_type == 'LDL') %>%\n",
    "    filter(cohorts_metal == 'both cohorts with conflicting direction of effect') %>%\n",
    "    group_by(lipid_type, significant_pooled, significant_metal, cohorts_metal, group_size_threshold_pooled) %>%\n",
    "    summarize(count = n())"
   ]
  },
  {
   "cell_type": "code",
   "execution_count": null,
   "metadata": {},
   "outputs": [],
   "source": [
    "metal_with_silos <- joined_pooled_and_all_metal_results %>%\n",
    "    filter(lipid_type == 'LDL') %>%\n",
    "    filter(cohorts_metal == 'both cohorts with conflicting direction of effect') %>%\n",
    "    left_join(aou_siloed_ldl_gwas_results, by = c('CHROM', 'GENPOS', 'ID')) %>%\n",
    "    left_join(ukb_siloed_ldl_gwas_results, by = c('CHROM', 'GENPOS', 'ID'))\n",
    "\n",
    "dim(metal_with_silos)"
   ]
  },
  {
   "cell_type": "code",
   "execution_count": null,
   "metadata": {},
   "outputs": [],
   "source": [
    "colnames(metal_with_silos)"
   ]
  },
  {
   "cell_type": "code",
   "execution_count": null,
   "metadata": {},
   "outputs": [],
   "source": [
    "options(repr.plot.width = 16, repr.plot.height = 8)\n",
    "\n",
    "metal_with_silos %>%\n",
    "    filter(lipid_type == 'LDL') %>%\n",
    "    filter(significant_pooled == TRUE\n",
    "           | significant_metal == TRUE) %>%\n",
    "    pivot_longer(\n",
    "        cols = c(SE_pooled, StdErr_metal, SE_aou_siloed, SE_ukb_siloed),\n",
    "        names_to = 'approach',\n",
    "        names_pattern = '[^_]?_(.*)',\n",
    "        values_to = 'stderr'\n",
    "    ) %>%\n",
    "    mutate(approach = fct_relevel(approach, c('pooled', 'metal', 'aou_siloed', 'ukb_siloed'))) %>%\n",
    "    ggplot(aes(x=approach, y=stderr)) +\n",
    "        geom_boxplot() +\n",
    "        stat_summary(fun.data = get_boxplot_fun_data, geom = 'text', size = 5,\n",
    "                     position = position_dodge(width = 0.9), vjust = -0.8) +\n",
    "        scale_y_log10() +\n",
    "        theme(\n",
    "            axis.title.x=element_text(size=14),\n",
    "            axis.title.y=element_text(size=14),\n",
    "        ) +\n",
    "        xlab('analysis approach') +\n",
    "        ylab('standard error [log scale]') +\n",
    "        labs(title = str_glue('Standard error values for significant LDL results with METAL \"conflicting cohorts\".'),\n",
    "             caption = PLOT_SUBTITLE)"
   ]
  },
  {
   "cell_type": "code",
   "execution_count": null,
   "metadata": {},
   "outputs": [],
   "source": [
    "options(repr.plot.width = 16, repr.plot.height = 8)\n",
    "\n",
    "metal_with_silos %>%\n",
    "    filter(lipid_type == 'LDL') %>%\n",
    "    filter(significant_metal == FALSE) %>%\n",
    "    pivot_longer(\n",
    "        cols = c(SE_pooled, StdErr_metal, SE_aou_siloed, SE_ukb_siloed),\n",
    "        names_to = 'approach',\n",
    "        names_pattern = '[^_]?_(.*)',\n",
    "        values_to = 'stderr'\n",
    "    ) %>%\n",
    "    mutate(approach = fct_relevel(approach, c('pooled', 'metal', 'aou_siloed', 'ukb_siloed'))) %>%\n",
    "    ggplot(aes(x=approach, y=stderr)) +\n",
    "        geom_boxplot() +\n",
    "        stat_summary(fun.data = get_boxplot_fun_data, geom = 'text', size = 5,\n",
    "                     position = position_dodge(width = 0.9), vjust = -0.8) +\n",
    "        scale_y_log10() +\n",
    "        theme(\n",
    "            axis.title.x=element_text(size=14),\n",
    "            axis.title.y=element_text(size=14),\n",
    "        ) +\n",
    "        xlab('analysis approach') +\n",
    "        ylab('standard error [log scale]') +\n",
    "        labs(title = str_glue('Standard error values for non-significant LDL results with METAL \"conflicting cohorts\".'),\n",
    "             caption = PLOT_SUBTITLE)"
   ]
  },
  {
   "cell_type": "markdown",
   "metadata": {},
   "source": [
    "# Appendix"
   ]
  },
  {
   "cell_type": "markdown",
   "metadata": {},
   "source": [
    "## Check the significant batch variants with PLINK"
   ]
  },
  {
   "cell_type": "code",
   "execution_count": null,
   "metadata": {},
   "outputs": [],
   "source": [
    "batch_regenie_results %>%\n",
    "    filter(phenotype_batch == 'IS_AOU') %>%\n",
    "    filter(significant_batch) %>%\n",
    "    select(ID) %>%\n",
    "    write_tsv('batch.snplist')"
   ]
  },
  {
   "cell_type": "code",
   "execution_count": null,
   "metadata": {},
   "outputs": [],
   "source": [
    "system(str_glue('gsutil cat {STEP2_VARIANT_QC_ID} | grep AOU > aou.ids'), intern = TRUE)"
   ]
  },
  {
   "cell_type": "code",
   "execution_count": null,
   "metadata": {},
   "outputs": [],
   "source": [
    "system(str_glue('gsutil cat {STEP2_VARIANT_QC_ID} | grep UKB > ukb.ids'), intern = TRUE)"
   ]
  },
  {
   "cell_type": "markdown",
   "metadata": {},
   "source": [
    "Use the regenie notebook to install plink2 and transfer the bgen and sample files locally."
   ]
  },
  {
   "cell_type": "code",
   "execution_count": null,
   "metadata": {},
   "outputs": [],
   "source": [
    "if (!file.exists('plink2.pgen')) {\n",
    "    system('/tmp/plink2/plink2 --bgen aou-alpha3-ukb-chr1-chr22.bgen ref-first --sample aou-alpha3-ukb-chr1-chr22.sample --make-pgen',\n",
    "           intern = TRUE)\n",
    "}"
   ]
  },
  {
   "cell_type": "code",
   "execution_count": null,
   "metadata": {},
   "outputs": [],
   "source": [
    "system(paste('/tmp/plink2/plink2 --pfile plink2 --keep aou.ids --extract batch.snplist ',\n",
    "             '--freq --missing --geno-counts --sample-counts --out aou_counts 2>&1'),\n",
    "       intern = TRUE)"
   ]
  },
  {
   "cell_type": "code",
   "execution_count": null,
   "metadata": {},
   "outputs": [],
   "source": [
    "system(paste('/tmp/plink2/plink2 --pfile plink2 --keep ukb.ids --extract batch.snplist ',\n",
    "             '--freq --missing --geno-counts --sample-counts --out ukb_counts 2>&1'),\n",
    "       intern = TRUE)"
   ]
  },
  {
   "cell_type": "code",
   "execution_count": null,
   "metadata": {},
   "outputs": [],
   "source": [
    "gcounts <- inner_join(\n",
    "    read_tsv('ukb_counts.gcount'),\n",
    "    read_tsv('aou_counts.gcount'),\n",
    "    by = c('#CHROM', 'ID', 'REF', 'ALT'),\n",
    "    suffix = c('_ukb', '_aou'))\n",
    "\n",
    "gcounts"
   ]
  },
  {
   "cell_type": "code",
   "execution_count": null,
   "metadata": {},
   "outputs": [],
   "source": [
    "gcounts %>%\n",
    "    select(ID,\n",
    "           HOM_REF_CT_aou, HOM_REF_CT_ukb,\n",
    "           HET_REF_ALT_CTS_aou, HET_REF_ALT_CTS_ukb,\n",
    "           TWO_ALT_GENO_CTS_aou, TWO_ALT_GENO_CTS_ukb,\n",
    "           HAP_REF_CT_aou, HAP_REF_CT_ukb,\n",
    "           HAP_ALT_CTS_aou, HAP_ALT_CTS_ukb,\n",
    "           MISSING_CT_aou, MISSING_CT_ukb)"
   ]
  },
  {
   "cell_type": "code",
   "execution_count": null,
   "metadata": {},
   "outputs": [],
   "source": [
    "afreq <- inner_join(\n",
    "    read_tsv('ukb_counts.afreq'),\n",
    "    read_tsv('aou_counts.afreq'),\n",
    "    by = c('#CHROM', 'ID', 'REF', 'ALT'),\n",
    "    suffix = c('_ukb', '_aou'))\n",
    "\n",
    "afreq"
   ]
  },
  {
   "cell_type": "code",
   "execution_count": null,
   "metadata": {},
   "outputs": [],
   "source": [
    "vmiss <- inner_join(\n",
    "    read_tsv('ukb_counts.vmiss'),\n",
    "    read_tsv('aou_counts.vmiss'),\n",
    "    by = c('#CHROM', 'ID'),\n",
    "    suffix = c('_ukb', '_aou'))\n",
    "\n",
    "vmiss"
   ]
  },
  {
   "cell_type": "code",
   "execution_count": null,
   "metadata": {},
   "outputs": [],
   "source": [
    "colnames(gcounts)"
   ]
  },
  {
   "cell_type": "code",
   "execution_count": null,
   "metadata": {},
   "outputs": [],
   "source": [
    "colnames(afreq)"
   ]
  },
  {
   "cell_type": "code",
   "execution_count": null,
   "metadata": {},
   "outputs": [],
   "source": [
    "colnames(vmiss)"
   ]
  },
  {
   "cell_type": "code",
   "execution_count": null,
   "metadata": {},
   "outputs": [],
   "source": [
    "afreq %>%\n",
    "    inner_join(gcounts) %>%\n",
    "    inner_join(vmiss %>% select(-OBS_CT_aou, -OBS_CT_ukb)) %>%\n",
    "    select(ID,\n",
    "           ALT_FREQS_aou, ALT_FREQS_ukb,\n",
    "           F_MISS_aou, F_MISS_ukb,\n",
    "#           OBS_CT_aou, OBS_CT_ukb,\n",
    "           TWO_ALT_GENO_CTS_aou, TWO_ALT_GENO_CTS_ukb,\n",
    "           HET_REF_ALT_CTS_aou, HET_REF_ALT_CTS_ukb,\n",
    "           HOM_REF_CT_aou, HOM_REF_CT_ukb,\n",
    "#           HAP_REF_CT_aou, HAP_REF_CT_ukb,\n",
    "#           HAP_ALT_CTS_aou, HAP_ALT_CTS_ukb,\n",
    "           MISSING_CT_aou, MISSING_CT_ukb,\n",
    "          )"
   ]
  },
  {
   "cell_type": "markdown",
   "metadata": {},
   "source": [
    "# Provenance "
   ]
  },
  {
   "cell_type": "code",
   "execution_count": null,
   "metadata": {},
   "outputs": [],
   "source": [
    "devtools::session_info()"
   ]
  }
 ],
 "metadata": {
  "kernelspec": {
   "display_name": "R",
   "language": "R",
   "name": "ir"
  },
  "language_info": {
   "codemirror_mode": "r",
   "file_extension": ".r",
   "mimetype": "text/x-r-source",
   "name": "R",
   "pygments_lexer": "r",
   "version": "4.1.2"
  },
  "toc": {
   "base_numbering": 1,
   "nav_menu": {},
   "number_sections": true,
   "sideBar": true,
   "skip_h1_title": false,
   "title_cell": "Table of Contents",
   "title_sidebar": "Contents",
   "toc_cell": false,
   "toc_position": {
    "height": "793px",
    "left": "22px",
    "top": "111.925px",
    "width": "273px"
   },
   "toc_section_display": true,
   "toc_window_display": true
  }
 },
 "nbformat": 4,
 "nbformat_minor": 4
}

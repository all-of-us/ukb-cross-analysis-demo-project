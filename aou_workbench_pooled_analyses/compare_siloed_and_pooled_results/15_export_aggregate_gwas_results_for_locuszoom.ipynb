{
 "cells": [
  {
   "cell_type": "markdown",
   "metadata": {},
   "source": [
    "# Aggregate GWAS results\n",
    "\n",
    "In this notebook we modify our GWAS results such that they become okay to leave the *All of Us* Researcher workbench per the data dissemination rules.\n",
    "\n",
    "Note that this work is part of a larger project to [Demonstrate the Potential for Pooled Analysis of All of Us and UK Biobank Genomic Data](https://docs.google.com/document/d/19ZS0z_-7FEM37pNDAXaWaqBSLnqyd9MZEkiOmtF3n_0/edit#)."
   ]
  },
  {
   "cell_type": "markdown",
   "metadata": {},
   "source": [
    "# Setup\n",
    "\n",
    "<div class=\"alert alert-block alert-warning\">\n",
    "    <b>Cloud Environment</b>: This notebook was written for use on the <i>All of Us</i> Workbench.\n",
    "    <ul>\n",
    "        <li>Use \"Recommended Environment\" <kbd><b>General Analysis</b></kbd> which creates compute type <kbd><b>Standard VM</b></kbd> with reasonable defaults for CPU, RAM, and disk.</li>\n",
    "        <li>This notebook only takes a few minutes to run interactively. You can also it in the background via <kbd>run_notebook_in_the_background</kbd> for the sake of provenance and reproducibility.</li>\n",
    "    </ul>\n",
    "</div>"
   ]
  },
  {
   "cell_type": "code",
   "execution_count": null,
   "metadata": {},
   "outputs": [],
   "source": [
    "library(tidyverse)"
   ]
  },
  {
   "cell_type": "markdown",
   "metadata": {},
   "source": [
    "## Constants"
   ]
  },
  {
   "cell_type": "code",
   "execution_count": null,
   "metadata": {
    "tags": [
     "parameters"
    ]
   },
   "outputs": [],
   "source": [
    "# Papermill parameters. See https://papermill.readthedocs.io/en/latest/usage-parameterize.html\n",
    "\n",
    "# Created via notebook aou_workbench_siloed_analyses/06_aou_regenie_gwas.ipynb\n",
    "REGENIE_RESULTS <- c(\n",
    "    HDL='gs://fc-secure-e53e4a44-7fe2-42b7-89b7-01aae1e399f7/data/pooled/regenie/20220315/aou_alpha3_ukb_lipids_regenie_step2_HDL_norm.regenie',\n",
    "    LDL='gs://fc-secure-e53e4a44-7fe2-42b7-89b7-01aae1e399f7/data/pooled/regenie/20220315/aou_alpha3_ukb_lipids_regenie_step2_LDL_adjusted_norm.regenie',\n",
    "    TC='gs://fc-secure-e53e4a44-7fe2-42b7-89b7-01aae1e399f7/data/pooled/regenie/20220315/aou_alpha3_ukb_lipids_regenie_step2_TC_adjusted_norm.regenie',\n",
    "    TG='gs://fc-secure-e53e4a44-7fe2-42b7-89b7-01aae1e399f7/data/pooled/regenie/20220315/aou_alpha3_ukb_lipids_regenie_step2_TG_adjusted_norm.regenie',\n",
    "    BATCH='gs://fc-secure-e53e4a44-7fe2-42b7-89b7-01aae1e399f7/data/pooled/regenie/20220507/aou_alpha3_ukb_batch_regenie_step2_is_aou.regenie'\n",
    ")\n",
    "\n",
    "LIPIDS <- names(REGENIE_RESULTS)\n",
    "\n",
    "RAW_FILE_SUFFIX <- '.regenie'\n",
    "AGGREGATE_FILE_SUFFIX <- '_aggregated.tsv'"
   ]
  },
  {
   "cell_type": "markdown",
   "metadata": {},
   "source": [
    "# Load the regenie GWAS results"
   ]
  },
  {
   "cell_type": "markdown",
   "metadata": {},
   "source": [
    "Bring our results into a single dataframe with a lipid type column."
   ]
  },
  {
   "cell_type": "code",
   "execution_count": null,
   "metadata": {},
   "outputs": [],
   "source": [
    "combined_regenie_results <- bind_rows(\n",
    "    lapply(LIPIDS, function(lipid) {\n",
    "        file = REGENIE_RESULTS[lipid]\n",
    "        read_delim(pipe(str_glue('gsutil cat {file}')), delim = ' ') %>%\n",
    "        mutate(lipid_type = lipid)\n",
    "    })) %>%\n",
    "    mutate(\n",
    "        AN = 2 * N,\n",
    "        AC_alt = round(A1FREQ * AN),\n",
    "        AC_ref = round((1 - A1FREQ) * AN)\n",
    "    )\n",
    "\n",
    "dim(combined_regenie_results)"
   ]
  },
  {
   "cell_type": "code",
   "execution_count": null,
   "metadata": {},
   "outputs": [],
   "source": [
    "head(combined_regenie_results)"
   ]
  },
  {
   "cell_type": "code",
   "execution_count": null,
   "metadata": {},
   "outputs": [],
   "source": [
    "combined_regenie_results %>%\n",
    "    group_by(lipid_type) %>%\n",
    "    summarize(\n",
    "        count = n(),\n",
    "        min_LOG10P = min(LOG10P),\n",
    "        max_LOG10P = max(LOG10P),\n",
    "        min_A1FREQ = min(A1FREQ),\n",
    "        max_A1FREQ = max(A1FREQ),\n",
    "        min_N = min(N),\n",
    "        max_N = max(N),\n",
    "        min_AC_alt = min(AC_alt),\n",
    "        max_AC_alt = max(AC_alt),\n",
    "        min_AC_ref = min(AC_ref),\n",
    "        max_AC_ref = max(AC_ref),\n",
    "    )"
   ]
  },
  {
   "cell_type": "markdown",
   "metadata": {},
   "source": [
    "## How many significant results will be removed from the aggregate?"
   ]
  },
  {
   "cell_type": "code",
   "execution_count": null,
   "metadata": {},
   "outputs": [],
   "source": [
    "combined_regenie_results %>%\n",
    "    mutate(\n",
    "        significant = LOG10P > -log10(5e-08),\n",
    "        group_size_threshold = ifelse(AC_alt < 40 | AC_ref < 40,\n",
    "                                      'below minimum group size threshold',\n",
    "                                      'meets group size threshold'),\n",
    "    ) %>%\n",
    "    group_by(lipid_type, significant, group_size_threshold) %>%\n",
    "    summarize(count = n())"
   ]
  },
  {
   "cell_type": "markdown",
   "metadata": {},
   "source": [
    "# Filter to ensure at least 20 individuals have the variant"
   ]
  },
  {
   "cell_type": "code",
   "execution_count": null,
   "metadata": {},
   "outputs": [],
   "source": [
    "aggregate_regenie_results <- combined_regenie_results %>%\n",
    "    filter(AC_alt >= 40 & AC_ref >= 40)"
   ]
  },
  {
   "cell_type": "code",
   "execution_count": null,
   "metadata": {},
   "outputs": [],
   "source": [
    "aggregate_regenie_results %>%\n",
    "    group_by(lipid_type) %>%\n",
    "    summarize(\n",
    "        count = n(),\n",
    "        min_LOG10P = min(LOG10P),\n",
    "        max_LOG10P = max(LOG10P),\n",
    "        min_A1FREQ = min(A1FREQ),\n",
    "        max_A1FREQ = max(A1FREQ),\n",
    "        min_N = min(N),\n",
    "        max_N = max(N),\n",
    "        min_AC_alt = min(AC_alt),\n",
    "        max_AC_alt = max(AC_alt),\n",
    "        min_AC_ref = min(AC_ref),\n",
    "        max_AC_ref = max(AC_ref),\n",
    "    )"
   ]
  },
  {
   "cell_type": "markdown",
   "metadata": {},
   "source": [
    "# Write out the aggregate data to local disk"
   ]
  },
  {
   "cell_type": "code",
   "execution_count": null,
   "metadata": {},
   "outputs": [],
   "source": [
    "for (lipid in LIPIDS) {\n",
    "    input_file <- REGENIE_RESULTS[lipid]\n",
    "    output_file <- input_file %>%\n",
    "        str_replace('gs://', '') %>%\n",
    "        str_replace_all('/', '_') %>%\n",
    "        str_replace(str_glue('{RAW_FILE_SUFFIX}$'), AGGREGATE_FILE_SUFFIX)\n",
    "    message(str_glue('Aggregating results from {input_file} to {output_file}'))\n",
    "    stopifnot('output filename must be different from input filename' =\n",
    "              output_file != input_file)\n",
    "    write_tsv(aggregate_regenie_results %>% filter(lipid_type == lipid), output_file)\n",
    "}"
   ]
  },
  {
   "cell_type": "markdown",
   "metadata": {},
   "source": [
    "# Now you can download these files!\n",
    "\n",
    "**Be sure to download the aggregated TSV files**, not the .regenie files with the raw results."
   ]
  },
  {
   "cell_type": "markdown",
   "metadata": {},
   "source": [
    "# Provenance "
   ]
  },
  {
   "cell_type": "code",
   "execution_count": null,
   "metadata": {},
   "outputs": [],
   "source": [
    "devtools::session_info()"
   ]
  }
 ],
 "metadata": {
  "kernelspec": {
   "display_name": "R",
   "language": "R",
   "name": "ir"
  },
  "language_info": {
   "codemirror_mode": "r",
   "file_extension": ".r",
   "mimetype": "text/x-r-source",
   "name": "R",
   "pygments_lexer": "r",
   "version": "4.2.0"
  },
  "toc": {
   "base_numbering": 1,
   "nav_menu": {},
   "number_sections": true,
   "sideBar": true,
   "skip_h1_title": false,
   "title_cell": "Table of Contents",
   "title_sidebar": "Contents",
   "toc_cell": false,
   "toc_position": {
    "height": "calc(100% - 180px)",
    "left": "10px",
    "top": "150px",
    "width": "301.989px"
   },
   "toc_section_display": true,
   "toc_window_display": true
  }
 },
 "nbformat": 4,
 "nbformat_minor": 4
}

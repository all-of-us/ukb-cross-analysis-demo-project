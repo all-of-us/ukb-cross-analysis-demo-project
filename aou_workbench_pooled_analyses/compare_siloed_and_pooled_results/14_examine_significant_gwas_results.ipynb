{
 "cells": [
  {
   "cell_type": "markdown",
   "metadata": {},
   "source": [
    "# Examine significant GWAS results\n",
    "\n",
    "In this notebook we review and explore the significant lipids *All of Us* and UK Biobank data GWAS results.\n",
    "\n",
    "Note that this work is part of a larger project to [Demonstrate the Potential for Pooled Analysis of All of Us and UK Biobank Genomic Data](https://github.com/all-of-us/ukb-cross-analysis-demo-project)."
   ]
  },
  {
   "cell_type": "markdown",
   "metadata": {},
   "source": [
    "# Setup"
   ]
  },
  {
   "cell_type": "markdown",
   "metadata": {},
   "source": [
    "<div class=\"alert alert-block alert-warning\">\n",
    "    <b>Cloud Environment</b>: This notebook was written for use on the <i>All of Us</i> Workbench.\n",
    "    <ul>\n",
    "        <li>Use \"Recommended Environment\" <kbd><b>General Analysis</b></kbd> which creates compute type <kbd><b>Standard VM</b></kbd> with reasonable defaults for CPU, RAM, and disk.</li>\n",
    "        <li>This notebook takes several minutes to run interactively. You can also it in the background via <kbd>run_notebook_in_the_background</kbd> for the sake of provenance and reproducibility.</li>\n",
    "    </ul>\n",
    "</div>"
   ]
  },
  {
   "cell_type": "code",
   "execution_count": null,
   "metadata": {},
   "outputs": [],
   "source": [
    "lapply(c('ggExtra', 'hexbin', 'hrbrthemes', 'skimr', 'qqman', 'tidyjson', 'viridis'),\n",
    "       function(pkg) { if(! pkg %in% installed.packages()) { install.packages(pkg)} } )"
   ]
  },
  {
   "cell_type": "code",
   "execution_count": null,
   "metadata": {},
   "outputs": [],
   "source": [
    "library(ggExtra)\n",
    "library(grid)\n",
    "library(gridExtra)\n",
    "library(hrbrthemes)\n",
    "library(lubridate)\n",
    "library(qqman)\n",
    "library(readxl)\n",
    "library(scales)\n",
    "library(skimr)\n",
    "library(tidyjson)\n",
    "library(tidyverse)\n",
    "library(viridis)"
   ]
  },
  {
   "cell_type": "code",
   "execution_count": null,
   "metadata": {},
   "outputs": [],
   "source": [
    "# Set some visualiation defaults.\n",
    "theme_set(theme_ipsum(base_size = 16)) # Default theme for plots.\n",
    "\n",
    "#' Returns a data frame with a y position and a label, for use annotating ggplot boxplots.\n",
    "#'\n",
    "#' @param d A data frame.\n",
    "#' @return A data frame with column y as max and column label as length.\n",
    "get_boxplot_fun_data <- function(df) {\n",
    "  return(data.frame(y = max(df), label = stringr::str_c('N = ', length(df))))\n",
    "}"
   ]
  },
  {
   "cell_type": "markdown",
   "metadata": {},
   "source": [
    "## Define constants"
   ]
  },
  {
   "cell_type": "code",
   "execution_count": null,
   "metadata": {
    "tags": [
     "parameters"
    ]
   },
   "outputs": [],
   "source": [
    "# Papermill parameters. See https://papermill.readthedocs.io/en/latest/usage-parameterize.html\n",
    "\n",
    "#---[ Inputs ]---\n",
    "# Created via notebook aou_workbench_pooled_analyses/13_annotate_significant_gwas_results.ipynb\n",
    "ANNOTATED_SIGNIFICANT_LIPIDS_GWAS_RESULTS <- 'gs://fc-secure-e53e4a44-7fe2-42b7-89b7-01aae1e399f7/data/results/20220603/significant_lipids_gwas_results_gnomad_annotated-chr1-chr22.tsv'\n",
    "ANNOTATED_SIGNIFICANT_BATCH_GWAS_RESULTS <- 'gs://fc-secure-e53e4a44-7fe2-42b7-89b7-01aae1e399f7/data/results/20220603/significant_batch_gwas_results_gnomad_annotated-chr1-chr22.tsv'\n",
    "\n",
    "PLOT_SUBTITLE <- 'Source: All of Us v5 alpha3 and UK Biobank data'\n",
    "\n",
    "AUTOSOMES <- c(paste('chr', c(as.character(seq(1, 22))), sep = ''),\n",
    "               as.character(seq(1, 22)))\n",
    "\n",
    "#---[ Outputs ]---\n",
    "# Create a timestamp for a folder of results generated today.\n",
    "DATESTAMP <- strftime(now(), '%Y%m%d')\n",
    "DESTINATION <- str_glue('{Sys.getenv(\"WORKSPACE_BUCKET\")}/data/results/{DATESTAMP}/')"
   ]
  },
  {
   "cell_type": "markdown",
   "metadata": {},
   "source": [
    "# Read in annotated significant lipids GWAS results"
   ]
  },
  {
   "cell_type": "code",
   "execution_count": null,
   "metadata": {},
   "outputs": [],
   "source": [
    "annotated_significant_lipids_gwas_results <- read_tsv(\n",
    "    pipe(str_glue('gsutil cat {ANNOTATED_SIGNIFICANT_LIPIDS_GWAS_RESULTS}')))"
   ]
  },
  {
   "cell_type": "code",
   "execution_count": null,
   "metadata": {},
   "outputs": [],
   "source": [
    "skim(annotated_significant_lipids_gwas_results)"
   ]
  },
  {
   "cell_type": "code",
   "execution_count": null,
   "metadata": {},
   "outputs": [],
   "source": [
    "head(annotated_significant_lipids_gwas_results)"
   ]
  },
  {
   "cell_type": "code",
   "execution_count": null,
   "metadata": {},
   "outputs": [],
   "source": [
    "colnames(annotated_significant_lipids_gwas_results)"
   ]
  },
  {
   "cell_type": "code",
   "execution_count": null,
   "metadata": {},
   "outputs": [],
   "source": [
    "head(annotated_significant_lipids_gwas_results$popmax)"
   ]
  },
  {
   "cell_type": "code",
   "execution_count": null,
   "metadata": {},
   "outputs": [],
   "source": [
    "annotated_significant_lipids_gwas_results <- annotated_significant_lipids_gwas_results %>%\n",
    "    mutate(\n",
    "        popmax = ifelse(is.na(popmax), '{}', popmax)\n",
    "    ) %>%\n",
    "    as.tbl_json(json.column = 'popmax') %>%\n",
    "    spread_all() %>%\n",
    "    rename_at(vars(AC, AF, AN, homozygote_count, pop, faf95), ~ paste0('gnomad_popmax_', .))\n",
    "\n",
    "colnames(annotated_significant_lipids_gwas_results)"
   ]
  },
  {
   "cell_type": "markdown",
   "metadata": {},
   "source": [
    "# Plot pooled and gnomAD popmax"
   ]
  },
  {
   "cell_type": "code",
   "execution_count": null,
   "metadata": {},
   "outputs": [],
   "source": [
    "options(repr.plot.width = 16, repr.plot.height = 8)\n",
    "\n",
    "annotated_significant_lipids_gwas_results %>%\n",
    "filter(significant_pooled == TRUE) %>%\n",
    "ggplot(aes(x = A1FREQ_pooled, y = gnomad_popmax_AF, color = gnomad_popmax_pop)) +\n",
    "    geom_point() +\n",
    "    theme(\n",
    "        axis.title.x = element_text(size=14),\n",
    "        axis.title.y = element_text(size=14),\n",
    "        strip.text.x = element_text(size=16),\n",
    "    ) +\n",
    "    geom_abline(intercept = 0, slope = 1) +\n",
    "#    xlab('') +\n",
    "#    ylab('') +\n",
    "    ggtitle('gnomAD popmax allele frequencies for significant pooled GWAS results')\n"
   ]
  },
  {
   "cell_type": "markdown",
   "metadata": {},
   "source": [
    "# Plot metal and gnomAD popmax"
   ]
  },
  {
   "cell_type": "code",
   "execution_count": null,
   "metadata": {},
   "outputs": [],
   "source": [
    "options(repr.plot.width = 16, repr.plot.height = 8)\n",
    "\n",
    "annotated_significant_lipids_gwas_results %>%\n",
    "filter(significant_metal == TRUE) %>%\n",
    "ggplot(aes(x = Freq1_metal, y = gnomad_popmax_AF, color = gnomad_popmax_pop)) +\n",
    "    geom_point() +\n",
    "    theme(\n",
    "        axis.title.x = element_text(size=14),\n",
    "        axis.title.y = element_text(size=14),\n",
    "        strip.text.x = element_text(size=16),\n",
    "    ) +\n",
    "    geom_abline(intercept = 0, slope = 1) +\n",
    "    ggtitle('gnomAD popmax allele frequencies for significant METAL GWAS results')\n"
   ]
  },
  {
   "cell_type": "markdown",
   "metadata": {},
   "source": [
    "## Flip METAL results"
   ]
  },
  {
   "cell_type": "code",
   "execution_count": null,
   "metadata": {},
   "outputs": [],
   "source": [
    "colnames(annotated_significant_lipids_gwas_results)"
   ]
  },
  {
   "cell_type": "code",
   "execution_count": null,
   "metadata": {},
   "outputs": [],
   "source": [
    "annotated_significant_lipids_gwas_results <- annotated_significant_lipids_gwas_results %>%\n",
    "    mutate(\n",
    "        is_flipped_metal = ref == str_to_upper(Allele2_metal),\n",
    "        flipped_Effect_metal = ifelse(is_flipped_metal, -Effect_metal, Effect_metal),\n",
    "        flipped_Freq1_metal =  ifelse(is_flipped_metal, 1 - Freq1_metal, Freq1_metal),\n",
    "    )\n",
    "\n",
    "dim(annotated_significant_lipids_gwas_results)"
   ]
  },
  {
   "cell_type": "code",
   "execution_count": null,
   "metadata": {},
   "outputs": [],
   "source": [
    "options(repr.plot.width = 16, repr.plot.height = 8)\n",
    "\n",
    "annotated_significant_lipids_gwas_results %>%\n",
    "filter(significant_metal == TRUE) %>%\n",
    "ggplot(aes(x = flipped_Freq1_metal, y = gnomad_popmax_AF, color = gnomad_popmax_pop)) +\n",
    "    geom_point() +\n",
    "    theme(\n",
    "        axis.title.x = element_text(size=14),\n",
    "        axis.title.y = element_text(size=14),\n",
    "        strip.text.x = element_text(size=16),\n",
    "    ) +\n",
    "    geom_abline(intercept = 0, slope = 1) +\n",
    "#    xlab('') +\n",
    "#    ylab('') +\n",
    "    ggtitle('gnomAD popmax allele frequencies for significant METAL GWAS results')\n"
   ]
  },
  {
   "cell_type": "markdown",
   "metadata": {},
   "source": [
    "# Summarize by popmax"
   ]
  },
  {
   "cell_type": "code",
   "execution_count": null,
   "metadata": {},
   "outputs": [],
   "source": [
    "annotated_significant_lipids_gwas_result_summary <- annotated_significant_lipids_gwas_results %>%\n",
    "    group_by(lipid_type, significant_pooled, significant_metal, single_cohort_result_metal, gnomad_popmax_pop) %>%\n",
    "    summarize(\n",
    "        count = n()\n",
    "    )\n",
    "\n",
    "dim(annotated_significant_lipids_gwas_result_summary)"
   ]
  },
  {
   "cell_type": "code",
   "execution_count": null,
   "metadata": {},
   "outputs": [],
   "source": [
    "head(annotated_significant_lipids_gwas_result_summary)"
   ]
  },
  {
   "cell_type": "code",
   "execution_count": null,
   "metadata": {},
   "outputs": [],
   "source": [
    "annotated_significant_lipids_gwas_result_summary %>%\n",
    "    filter(lipid_type == 'LDL') %>%\n",
    "    filter(significant_pooled == TRUE && (is.na(significant_metal) | significant_metal == FALSE))"
   ]
  },
  {
   "cell_type": "code",
   "execution_count": null,
   "metadata": {},
   "outputs": [],
   "source": [
    "annotated_significant_lipids_gwas_result_summary %>%\n",
    "    filter(lipid_type == 'LDL') %>%\n",
    "    filter((is.na(significant_pooled) | significant_pooled == FALSE) && significant_metal == TRUE)"
   ]
  },
  {
   "cell_type": "markdown",
   "metadata": {},
   "source": [
    "# Read in annotated significant batch GWAS results"
   ]
  },
  {
   "cell_type": "code",
   "execution_count": null,
   "metadata": {},
   "outputs": [],
   "source": [
    "annotated_significant_batch_gwas_results <- read_tsv(\n",
    "    pipe(str_glue('gsutil cat {ANNOTATED_SIGNIFICANT_BATCH_GWAS_RESULTS}')))"
   ]
  },
  {
   "cell_type": "code",
   "execution_count": null,
   "metadata": {},
   "outputs": [],
   "source": [
    "skim(annotated_significant_batch_gwas_results)"
   ]
  },
  {
   "cell_type": "code",
   "execution_count": null,
   "metadata": {},
   "outputs": [],
   "source": [
    "colnames(annotated_significant_batch_gwas_results)"
   ]
  },
  {
   "cell_type": "code",
   "execution_count": null,
   "metadata": {},
   "outputs": [],
   "source": [
    "head(annotated_significant_batch_gwas_results$info)"
   ]
  },
  {
   "cell_type": "code",
   "execution_count": null,
   "metadata": {},
   "outputs": [],
   "source": [
    "annotated_significant_batch_gwas_results %>%\n",
    "    mutate(\n",
    "        info = ifelse(is.na(info), '{}', info)\n",
    "    ) %>%\n",
    "    as.tbl_json(json.column = 'info') %>%\n",
    "    gather_object %>%\n",
    "    json_types %>%\n",
    "    count(name, type)"
   ]
  },
  {
   "cell_type": "raw",
   "metadata": {},
   "source": [
    "# Something about this JSON field is incomptible with tidyjson. Parse the string instead.\n",
    "annotated_significant_batch_gwas_results %>%\n",
    "    filter(!is.na(info)) %>%\n",
    "    as.tbl_json(json.column = 'info') %>%\n",
    "    filter(is_json_object(.)) %>%\n",
    "    spread_all() %>%\n",
    "    head()"
   ]
  },
  {
   "cell_type": "code",
   "execution_count": null,
   "metadata": {},
   "outputs": [],
   "source": [
    "annotated_significant_batch_gwas_results <- annotated_significant_batch_gwas_results %>%\n",
    "    mutate(\n",
    "        info = ifelse(is.na(info), '{}', info),\n",
    "        Chromosome = parse_factor(chr, levels = c(AUTOSOMES))\n",
    "    ) %>%\n",
    "    extract(info, 'AS_FS', regex = ',\"AS_FS\":([^,]+)', remove = FALSE, convert = TRUE) %>%\n",
    "    extract(info, 'AS_MQ', regex = ',\"AS_MQ\":([^,]+)', remove = FALSE, convert = TRUE) %>%\n",
    "    extract(info, 'AS_QD', regex = ',\"AS_QD\":([^,]+)', remove = FALSE, convert = TRUE) %>%\n",
    "    extract(info, 'AS_VarDP', regex = ',\"AS_VarDP\":([^,]+)', remove = FALSE, convert = TRUE) %>%\n",
    "    extract(info, 'AS_VQSLOD', regex = ',\"AS_VQSLOD\":([^,]+)', remove = FALSE, convert = TRUE) %>%\n",
    "    # The VEP field has many rows, just extract the gene symbol from the first row.\n",
    "    extract(vep, 'gene', regex = ',\"gene_symbol\":\"([^\"]+)\",', remove = FALSE, convert = TRUE) %>%\n",
    "    mutate(\n",
    "        AS_FS = case_when(\n",
    "                AS_FS == 'NaN' ~ NA_real_,\n",
    "            TRUE ~ as.numeric(AS_FS)\n",
    "        )\n",
    "    )\n",
    "\n",
    "dim(annotated_significant_batch_gwas_results)"
   ]
  },
  {
   "cell_type": "code",
   "execution_count": null,
   "metadata": {},
   "outputs": [],
   "source": [
    "skim(annotated_significant_batch_gwas_results %>% select(starts_with('AS_')))"
   ]
  },
  {
   "cell_type": "code",
   "execution_count": null,
   "metadata": {},
   "outputs": [],
   "source": [
    "options(repr.plot.width = 16, repr.plot.height = 8)\n",
    "\n",
    "annotated_significant_batch_gwas_results %>%\n",
    "    filter(lipid_type == 'LDL') %>%\n",
    "    ggplot(aes(x = Chromosome, y = AS_MQ)) +\n",
    "    geom_boxplot() +\n",
    "    stat_summary(fun.data = get_boxplot_fun_data, geom = 'text', size = 5,\n",
    "                 position = position_dodge(width = 0.9), vjust = -0.8) +\n",
    "    theme(\n",
    "        axis.title.x=element_text(size=14),\n",
    "        axis.title.y=element_text(size=14),\n",
    "    ) +\n",
    "    labs(title = str_glue('gnomAD AS_MQ scores for significant batch variants'),\n",
    "         caption = PLOT_SUBTITLE)\n",
    "\n",
    "ggsave(str_glue('gnomAD_AS_MQ_scores_for_significant_batch_variants.png'), device = 'png',\n",
    "       width = 18, height = 8, units = 'in')"
   ]
  },
  {
   "cell_type": "code",
   "execution_count": null,
   "metadata": {},
   "outputs": [],
   "source": [
    "options(repr.plot.width = 16, repr.plot.height = 8)\n",
    "\n",
    "annotated_significant_batch_gwas_results %>%\n",
    "    filter(lipid_type == 'LDL') %>%\n",
    "    ggplot(aes(x = Chromosome, y = AS_FS)) +\n",
    "    geom_boxplot() +\n",
    "    stat_summary(fun.data = get_boxplot_fun_data, geom = 'text', size = 5,\n",
    "                 position = position_dodge(width = 0.9), vjust = -0.8) +\n",
    "    theme(\n",
    "        axis.title.x=element_text(size=14),\n",
    "        axis.title.y=element_text(size=14),\n",
    "    ) +\n",
    "    labs(title = str_glue('gnomAD AS_FS scores for significant batch variants'),\n",
    "         caption = PLOT_SUBTITLE)\n",
    "\n",
    "ggsave(str_glue('gnomAD_AS_FS_scores_for_significant_batch_variants.png'), device = 'png',\n",
    "       width = 18, height = 8, units = 'in')"
   ]
  },
  {
   "cell_type": "code",
   "execution_count": null,
   "metadata": {},
   "outputs": [],
   "source": [
    "options(repr.plot.width = 16, repr.plot.height = 8)\n",
    "\n",
    "annotated_significant_batch_gwas_results %>%\n",
    "    filter(lipid_type == 'LDL') %>%\n",
    "    ggplot(aes(x = Chromosome, y = AS_QD)) +\n",
    "    geom_boxplot() +\n",
    "    stat_summary(fun.data = get_boxplot_fun_data, geom = 'text', size = 5,\n",
    "                 position = position_dodge(width = 0.9), vjust = -0.8) +\n",
    "    theme(\n",
    "        axis.title.x=element_text(size=14),\n",
    "        axis.title.y=element_text(size=14),\n",
    "    ) +\n",
    "    labs(title = str_glue('gnomAD AS_QD scores for significant batch variants'),\n",
    "         caption = PLOT_SUBTITLE)\n",
    "\n",
    "ggsave(str_glue('gnomAD_AS_QD_scores_for_significant_batch_variants.png'), device = 'png',\n",
    "       width = 18, height = 8, units = 'in')"
   ]
  },
  {
   "cell_type": "code",
   "execution_count": null,
   "metadata": {},
   "outputs": [],
   "source": [
    "options(repr.plot.width = 16, repr.plot.height = 8)\n",
    "\n",
    "annotated_significant_batch_gwas_results %>%\n",
    "    filter(lipid_type == 'LDL') %>%\n",
    "    ggplot(aes(x = Chromosome, y = AS_VarDP)) +\n",
    "    geom_boxplot() +\n",
    "    stat_summary(fun.data = get_boxplot_fun_data, geom = 'text', size = 5,\n",
    "                 position = position_dodge(width = 0.9), vjust = -0.8) +\n",
    "    theme(\n",
    "        axis.title.x=element_text(size=14),\n",
    "        axis.title.y=element_text(size=14),\n",
    "    ) +\n",
    "    labs(title = str_glue('gnomAD AS_VarDP scores for significant batch variants'),\n",
    "         caption = PLOT_SUBTITLE)\n",
    "\n",
    "ggsave(str_glue('gnomAD_AS_VarDP_scores_for_significant_batch_variants.png'), device = 'png',\n",
    "       width = 18, height = 8, units = 'in')"
   ]
  },
  {
   "cell_type": "code",
   "execution_count": null,
   "metadata": {},
   "outputs": [],
   "source": [
    "options(repr.plot.width = 16, repr.plot.height = 8)\n",
    "\n",
    "annotated_significant_batch_gwas_results %>%\n",
    "    filter(lipid_type == 'LDL') %>%\n",
    "    ggplot(aes(x = Chromosome, y = AS_VQSLOD)) +\n",
    "    geom_boxplot() +\n",
    "    stat_summary(fun.data = get_boxplot_fun_data, geom = 'text', size = 5,\n",
    "                 position = position_dodge(width = 0.9), vjust = -0.8) +\n",
    "    theme(\n",
    "        axis.title.x=element_text(size=14),\n",
    "        axis.title.y=element_text(size=14),\n",
    "    ) +\n",
    "    labs(title = str_glue('gnomAD AS_VQSLOD scores for significant batch variants'),\n",
    "         caption = PLOT_SUBTITLE)\n",
    "\n",
    "ggsave(str_glue('gnomAD_AS_VQSLOD_scores_for_significant_batch_variants.png'), device = 'png',\n",
    "       width = 18, height = 8, units = 'in')"
   ]
  },
  {
   "cell_type": "code",
   "execution_count": null,
   "metadata": {},
   "outputs": [],
   "source": [
    "annotated_significant_batch_gwas_results %>%\n",
    "    filter(lipid_type == 'LDL') %>%\n",
    "    group_by(Chromosome, gene) %>%\n",
    "    summarize(count = n()) %>%\n",
    "    arrange(count)"
   ]
  },
  {
   "cell_type": "markdown",
   "metadata": {},
   "source": [
    "# Provenance "
   ]
  },
  {
   "cell_type": "code",
   "execution_count": null,
   "metadata": {},
   "outputs": [],
   "source": [
    "devtools::session_info()"
   ]
  }
 ],
 "metadata": {
  "kernelspec": {
   "display_name": "R",
   "language": "R",
   "name": "ir"
  },
  "language_info": {
   "codemirror_mode": "r",
   "file_extension": ".r",
   "mimetype": "text/x-r-source",
   "name": "R",
   "pygments_lexer": "r",
   "version": "4.2.0"
  },
  "toc": {
   "base_numbering": 1,
   "nav_menu": {},
   "number_sections": true,
   "sideBar": true,
   "skip_h1_title": false,
   "title_cell": "Table of Contents",
   "title_sidebar": "Contents",
   "toc_cell": false,
   "toc_position": {
    "height": "793px",
    "left": "28px",
    "top": "111.051px",
    "width": "323px"
   },
   "toc_section_display": true,
   "toc_window_display": true
  }
 },
 "nbformat": 4,
 "nbformat_minor": 4
}

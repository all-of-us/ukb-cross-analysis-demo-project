{
 "cells": [
  {
   "cell_type": "code",
   "execution_count": null,
   "metadata": {},
   "outputs": [],
   "source": [
    "lapply(c('viridis', 'ggthemes', 'skimr', 'fuzzyjoin', 'pryr'),\n",
    "       function(pkg_name) { if(! pkg_name %in% installed.packages()) { install.packages(pkg_name)} } )\n",
    "lapply(c('IRanges'),\n",
    "       function(pkg_name) { if(! pkg_name %in% installed.packages()) { BiocManager::install(pkg_name)} } )\n",
    "\n",
    "library(viridis)    # A nice color scheme for plots.\n",
    "library(ggthemes)   # Common themes to change the look and feel of plots.\n",
    "library(scales)     # Graphical scales map data to aesthetics in plots.\n",
    "library(skimr)      # Better summaries of data.\n",
    "library(lubridate)  # Date library from the tidyverse.\n",
    "library(bigrquery)  # BigQuery R client.\n",
    "library(tidyverse)  # Data wrangling packages.\n",
    "library(fuzzyjoin)\n",
    "library(lubridate)\n",
    "library(pryr)       # For memory profiling."
   ]
  },
  {
   "cell_type": "code",
   "execution_count": null,
   "metadata": {},
   "outputs": [],
   "source": [
    "## BigQuery setup.\n",
    "BILLING_PROJECT_ID <- Sys.getenv('GOOGLE_PROJECT')\n",
    "# Get the BigQuery curated dataset for the current workspace context.\n",
    "CDR <- Sys.getenv('WORKSPACE_CDR')\n",
    "\n",
    "WORKSPACE_BUCKET <- Sys.getenv('WORKSPACE_BUCKET', unset = 'gs://fc-secure-fd6786bf-6c28-4f33-ac30-3860fbeee5bb')\n",
    "\n",
    "## Plot setup.\n",
    "theme_set(theme_bw(base_size = 16)) # Default theme for plots.\n",
    "\n",
    "#' Returns a data frame with a y position and a label, for use annotating ggplot boxplots.\n",
    "#'\n",
    "#' @param d A data frame.\n",
    "#' @return A data frame with column y as max and column label as length.\n",
    "get_boxplot_fun_data <- function(df) {\n",
    "  return(data.frame(y = max(df), label = stringr::str_c('N = ', length(df))))\n",
    "}"
   ]
  },
  {
   "cell_type": "markdown",
   "metadata": {},
   "source": [
    "# AOU Data"
   ]
  },
  {
   "cell_type": "markdown",
   "metadata": {},
   "source": [
    "## Retrieve Datasets"
   ]
  },
  {
   "cell_type": "markdown",
   "metadata": {},
   "source": [
    "### Retrieve Alpha 2 Release data"
   ]
  },
  {
   "cell_type": "code",
   "execution_count": null,
   "metadata": {},
   "outputs": [],
   "source": [
    "participants_with_genomic_data <- read_csv(\n",
    "    pipe(str_glue('gsutil cat {WORKSPACE_BUCKET}/data/researchIDsAlpha2Release_04272021.txt')),\n",
    "    col_names = c('person_id')\n",
    ")\n",
    "\n",
    "dim(participants_with_genomic_data)"
   ]
  },
  {
   "cell_type": "markdown",
   "metadata": {},
   "source": [
    "### Retrieve most recent lipids measurements"
   ]
  },
  {
   "cell_type": "code",
   "execution_count": null,
   "metadata": {},
   "outputs": [],
   "source": [
    "most_recent_lipids_measurements_df <- read_csv(\n",
    "    pipe(str_glue('gsutil cat {WORKSPACE_BUCKET}/data/most_recent_lipids_measurements.csv')))\n",
    "dim(most_recent_lipids_measurements_df)"
   ]
  },
  {
   "cell_type": "code",
   "execution_count": null,
   "metadata": {},
   "outputs": [],
   "source": [
    "head(most_recent_lipids_measurements_df)\n",
    "length(grep(\"HDL\", most_recent_lipids_measurements_df$title))"
   ]
  },
  {
   "cell_type": "markdown",
   "metadata": {},
   "source": [
    "### Retrieve statin drug exposures summarized per person"
   ]
  },
  {
   "cell_type": "code",
   "execution_count": null,
   "metadata": {},
   "outputs": [],
   "source": [
    "statin_use_summary_df <- read_csv(\n",
    "    pipe(str_glue('gsutil cat {WORKSPACE_BUCKET}/data/participants_with_statin_use_summary.csv')),\n",
    "    col_types = cols(\n",
    "        statin_first_use = col_datetime(format = '%Y/%m/%d %H:%M:%S'),\n",
    "        statin_last_use = col_datetime(format = '%Y/%m/%d %H:%M:%S')),\n",
    "    guess_max = 25000\n",
    ")\n",
    "\n",
    "dim(statin_use_summary_df)"
   ]
  },
  {
   "cell_type": "code",
   "execution_count": null,
   "metadata": {},
   "outputs": [],
   "source": [
    "dim(statin_use_summary_df)\n",
    "head(statin_use_summary_df)"
   ]
  },
  {
   "cell_type": "markdown",
   "metadata": {},
   "source": [
    "## Lipid Adjustment"
   ]
  },
  {
   "cell_type": "markdown",
   "metadata": {},
   "source": [
    "### Create grouped dataframe"
   ]
  },
  {
   "cell_type": "code",
   "execution_count": null,
   "metadata": {},
   "outputs": [],
   "source": [
    "most_recent_lipids_measurements_df %>%\n",
    "    # Limit the input data frames to hold only the AoU participants with genomic data.\n",
    "    filter(person_id %in% participants_with_genomic_data$person_id) %>%\n",
    "    group_by(title) %>%\n",
    "    summarize(\n",
    "        num_alpha2_participants = n_distinct(person_id),\n",
    "        num_measures = n(),\n",
    "        missing = sum(is.na(value_as_number)),\n",
    "        median = median(value_as_number, na.rm = TRUE),\n",
    "        mean = mean(value_as_number, na.rm = TRUE),\n",
    "        stddev = sd(value_as_number, na.rm = TRUE)\n",
    "    ) %>%\n",
    "    arrange(desc(num_alpha2_participants))"
   ]
  },
  {
   "cell_type": "code",
   "execution_count": null,
   "metadata": {},
   "outputs": [],
   "source": [
    "most_recent_lipids_measurements_df_grouped <- most_recent_lipids_measurements_df \n",
    "dim(most_recent_lipids_measurements_df_grouped)\n",
    "head(most_recent_lipids_measurements_df_grouped)"
   ]
  },
  {
   "cell_type": "code",
   "execution_count": null,
   "metadata": {},
   "outputs": [],
   "source": [
    "most_recent_lipids_measurements_df_grouped <- most_recent_lipids_measurements_df \n",
    "\n",
    "temp <- grep(\"HDL\", most_recent_lipids_measurements_df_grouped$title)\n",
    "most_recent_lipids_measurements_df_grouped$title[temp] <- \"HDL\"\n",
    "temp <- grep(\"LDL\", most_recent_lipids_measurements_df_grouped$title)\n",
    "most_recent_lipids_measurements_df_grouped$title[temp] <- \"LDL\"\n",
    "temp <- grep(\"Triglyceride\", most_recent_lipids_measurements_df_grouped$title)\n",
    "most_recent_lipids_measurements_df_grouped$title[temp] <- \"TG\"\n",
    "temp <- grep(\"Cholesterol\", most_recent_lipids_measurements_df_grouped$title)\n",
    "most_recent_lipids_measurements_df_grouped$title[temp] <- \"TC\"\n",
    "\n",
    "head(most_recent_lipids_measurements_df_grouped)"
   ]
  },
  {
   "cell_type": "code",
   "execution_count": null,
   "metadata": {},
   "outputs": [],
   "source": [
    "Lipid_data <- most_recent_lipids_measurements_df_grouped %>%\n",
    "    group_by(person_id, title) %>%\n",
    "    arrange(desc(measurement_date)) %>%\n",
    "    filter(row_number()==1)\n",
    "most_recent_lipids_measurements_df_grouped <- Lipid_data"
   ]
  },
  {
   "cell_type": "code",
   "execution_count": null,
   "metadata": {},
   "outputs": [],
   "source": [
    "most_recent_lipids_measurements_df_grouped %>%\n",
    "    # Limit the input data frames to hold only the AoU participants with genomic data.\n",
    "    filter(person_id %in% participants_with_genomic_data$person_id) %>%\n",
    "    group_by(title) %>%\n",
    "    summarize(\n",
    "        num_alpha2_participants = n_distinct(person_id),\n",
    "        num_measures = n(),\n",
    "        missing = sum(is.na(value_as_number)),\n",
    "        median = median(value_as_number, na.rm = TRUE),\n",
    "        mean = mean(value_as_number, na.rm = TRUE),\n",
    "        stddev = sd(value_as_number, na.rm = TRUE)\n",
    "    ) %>%\n",
    "    arrange(desc(num_alpha2_participants))"
   ]
  },
  {
   "cell_type": "code",
   "execution_count": null,
   "metadata": {},
   "outputs": [],
   "source": [
    "head(most_recent_lipids_measurements_df_grouped)\n",
    "table(most_recent_lipids_measurements_df_grouped$sex_at_birth)"
   ]
  },
  {
   "cell_type": "markdown",
   "metadata": {},
   "source": [
    "### Functions to individual dataframe for each lipid class and write file"
   ]
  },
  {
   "cell_type": "code",
   "execution_count": null,
   "metadata": {},
   "outputs": [],
   "source": [
    "writeFile <- function(FileToSave, FileName) {\n",
    "    # This code saves your dataframe into a csv file in a \"data\" folder in Google Bucket\n",
    "    my_dataframe <- FileToSave\n",
    "    destination_filename <- FileName\n",
    "\n",
    "    # store the dataframe in current workspace\n",
    "    write_excel_csv(my_dataframe, destination_filename)\n",
    "\n",
    "    # Get the bucket name\n",
    "    my_bucket <- Sys.getenv('WORKSPACE_BUCKET')\n",
    "\n",
    "    # Copy the file from current workspace to the bucket\n",
    "    system(paste0(\"gsutil cp ./\", destination_filename, \" \", my_bucket, \"/data/\"), intern=T)\n",
    "\n",
    "    # Check if file is in the bucket\n",
    "    system(paste0(\"gsutil ls \", my_bucket, \"/data/*.csv\"), intern=T)\n",
    "}"
   ]
  },
  {
   "cell_type": "code",
   "execution_count": null,
   "metadata": {},
   "outputs": [],
   "source": [
    "# http://adv-r.had.co.nz/memory.html\n",
    "mem_used()"
   ]
  },
  {
   "cell_type": "code",
   "execution_count": null,
   "metadata": {},
   "outputs": [],
   "source": [
    "# CHANGED function\n",
    "#  Some of the transformations in the original function only need to be \n",
    "#  performed once on the input data. I moved that code out of your function.\n",
    "\n",
    "\n",
    "most_recent_lipids_measurements_df_grouped <- most_recent_lipids_measurements_df_grouped %>%\n",
    "    # Limit the input data frames to hold only the AoU participants with genomic data.\n",
    "    filter(person_id %in% participants_with_genomic_data$person_id) %>%\n",
    "    mutate(\n",
    "        # Also convert datetimes to dates so that the join is faster.\n",
    "        date = as_date(measurement_date),\n",
    "        birthDate = as_date(birth_datetime),\n",
    "        # TODO(margaret) I would think you want age at time of measurement, not age as of today?\n",
    "        # If so, use field 'measurement_date' instead of 'Sys.Date()'. --- Done(margaret)\n",
    "        age_birth = as.numeric(difftime(Sys.Date(), birthDate, units = \"weeks\")) / 52.25,\n",
    "        age_date = as.numeric(difftime(Sys.Date(), date, units = \"weeks\")) / 52.25,\n",
    "        age = age_birth-age_date,\n",
    "        age2 = age^2\n",
    "   )\n",
    "\n",
    "statin_use_summary_df <- statin_use_summary_df %>%\n",
    "    # Limit the input data frames to hold only the AoU participants with genomic data.\n",
    "    filter(PERSON_ID %in% participants_with_genomic_data$person_id) %>%\n",
    "    mutate(\n",
    "        # Also convert datetimes to dates so that the join is faster.\n",
    "        statin_first_use_date = as_date(statin_first_use),\n",
    "        statin_last_use_date = as_date(statin_last_use),\n",
    "        # Add an indicator for statin use.\n",
    "        statin_use = !is.na(statin_first_use)\n",
    "    )\n",
    "\n",
    "# Create a function to get individual dataframe for each lipid class\n",
    "SummariseLipids <- function(TitleUsed) {\n",
    "    start_time <- Sys.time()\n",
    "\n",
    "    exposure_summary <- most_recent_lipids_measurements_df_grouped %>%\n",
    "    filter(title == TitleUsed) %>%\n",
    "    fuzzy_left_join(\n",
    "        statin_use_summary_df,\n",
    "        by = c('person_id' = 'PERSON_ID',\n",
    "               'date' = 'statin_first_use_date',\n",
    "               'date' = 'statin_last_use_date'),\n",
    "        match_fun = list(`==`, `>=`, `<=`)\n",
    "    )\n",
    "\n",
    "    print(dim(exposure_summary))\n",
    "     \n",
    "    end_time <- Sys.time()\n",
    "    print(end_time - start_time)\n",
    "    \n",
    "    writeFile(exposure_summary, paste0(TitleUsed,\"_ForAdjNor.20210714.csv\"))\n",
    "    \n",
    "    return(exposure_summary)\n",
    "}"
   ]
  },
  {
   "cell_type": "code",
   "execution_count": null,
   "metadata": {},
   "outputs": [],
   "source": [
    "mem_used()"
   ]
  },
  {
   "cell_type": "code",
   "execution_count": null,
   "metadata": {},
   "outputs": [],
   "source": [
    "head(most_recent_lipids_measurements_df_grouped)"
   ]
  },
  {
   "cell_type": "markdown",
   "metadata": {},
   "source": [
    "### Get each Lipid data separately and write it as .csv for furture use"
   ]
  },
  {
   "cell_type": "code",
   "execution_count": null,
   "metadata": {},
   "outputs": [],
   "source": [
    "# Carry out this step once so that the file is saved as .csv\n",
    "mem_used()\n",
    "LDL <- SummariseLipids('LDL')\n",
    "mem_used()"
   ]
  },
  {
   "cell_type": "code",
   "execution_count": null,
   "metadata": {},
   "outputs": [],
   "source": [
    "dim(LDL)\n",
    "head(LDL)"
   ]
  },
  {
   "cell_type": "code",
   "execution_count": null,
   "metadata": {},
   "outputs": [],
   "source": [
    "mem_used()\n",
    "HDL <- SummariseLipids('HDL')\n",
    "mem_used()"
   ]
  },
  {
   "cell_type": "code",
   "execution_count": null,
   "metadata": {},
   "outputs": [],
   "source": [
    "mem_used()\n",
    "TC <- SummariseLipids('TC')\n",
    "mem_used()"
   ]
  },
  {
   "cell_type": "code",
   "execution_count": null,
   "metadata": {},
   "outputs": [],
   "source": [
    "mem_used()\n",
    "TG <- SummariseLipids('TG')\n",
    "mem_used()"
   ]
  },
  {
   "cell_type": "markdown",
   "metadata": {},
   "source": [
    "# UKB data"
   ]
  },
  {
   "cell_type": "markdown",
   "metadata": {},
   "source": [
    "## Retrieve Datasets"
   ]
  },
  {
   "cell_type": "markdown",
   "metadata": {},
   "source": [
    "### Retrieve eid to sample id mapping"
   ]
  },
  {
   "cell_type": "code",
   "execution_count": null,
   "metadata": {},
   "outputs": [],
   "source": [
    "# TODO(margaret) replace this path with the path to the correct file for the WES data. --- Done (margaret)\n",
    "UKB_EID_TO_SAMPLE_ID <- 'gs://uk-biobank-sek-data-us-east1/sample-info/bridge_7089_31063.tsv'"
   ]
  },
  {
   "cell_type": "code",
   "execution_count": null,
   "metadata": {},
   "outputs": [],
   "source": [
    "system(str_glue('gsutil cat {UKB_EID_TO_SAMPLE_ID} | head'), intern = TRUE)"
   ]
  },
  {
   "cell_type": "code",
   "execution_count": null,
   "metadata": {},
   "outputs": [],
   "source": [
    "ukb_eid_to_sample_id <- read_delim(\n",
    "    pipe(str_glue('gsutil cat {UKB_EID_TO_SAMPLE_ID}')),\n",
    "    delim = '\\t'\n",
    ")\n",
    "\n",
    "dim(ukb_eid_to_sample_id)\n",
    "head(ukb_eid_to_sample_id)"
   ]
  },
  {
   "cell_type": "markdown",
   "metadata": {},
   "source": [
    "### Retrieve Raw data with multiple phenotype related columns"
   ]
  },
  {
   "cell_type": "code",
   "execution_count": null,
   "metadata": {},
   "outputs": [],
   "source": [
    "# Create a 'virtual dataframe' backed by a BigQuery table.\n",
    "natarajan_pheno_raw_tbl <- dplyr::tbl(\n",
    "    bigrquery::src_bigquery(project = 'uk-biobank-sek-data',\n",
    "                            dataset = 'raw_phenotypes',\n",
    "                            billing = BILLING_PROJECT_ID),\n",
    "    'lipids_pheno_raw')\n",
    "dim(natarajan_pheno_raw_tbl)\n",
    "head(colnames(natarajan_pheno_raw_tbl))"
   ]
  },
  {
   "cell_type": "markdown",
   "metadata": {},
   "source": [
    "### Retrieve Lipid data with adjustment and medication related columns"
   ]
  },
  {
   "cell_type": "code",
   "execution_count": null,
   "metadata": {},
   "outputs": [],
   "source": [
    "# Create a 'virtual dataframe' backed by a BigQuery table.\n",
    "natarajan_lipids_tbl <- dplyr::tbl(\n",
    "    bigrquery::src_bigquery(project = 'uk-biobank-sek-data',\n",
    "                            dataset = 'phenotypes',\n",
    "                            billing = BILLING_PROJECT_ID),\n",
    "    'lipids')\n",
    "dim(natarajan_lipids_tbl)\n",
    "head(colnames(natarajan_lipids_tbl))"
   ]
  },
  {
   "cell_type": "code",
   "execution_count": null,
   "metadata": {},
   "outputs": [],
   "source": [
    "colnames(natarajan_lipids_tbl)"
   ]
  },
  {
   "cell_type": "markdown",
   "metadata": {},
   "source": [
    "### Curate only needed columns"
   ]
  },
  {
   "cell_type": "code",
   "execution_count": null,
   "metadata": {},
   "outputs": [],
   "source": [
    "# Curate Raw table with required columns\n",
    "colnames(natarajan_pheno_raw_tbl)[c(1,3,4,43,64)]\n",
    "pheno_Raw <- natarajan_pheno_raw_tbl %>%\n",
    "    select(id, Sex_numeric, age, genotyping_array, in_white_British_ancestry_subset) %>%\n",
    "    collect()\n",
    "\n",
    "dim(pheno_Raw)\n",
    "head(as.data.frame(pheno_Raw))"
   ]
  },
  {
   "cell_type": "code",
   "execution_count": null,
   "metadata": {},
   "outputs": [],
   "source": [
    "# Curate Lipids table with required columns\n",
    "\n",
    "colnames(natarajan_lipids_tbl)[c(1,2,3,4,5,10,37,38,39,40,41)]\n",
    "pheno_Lipid <- natarajan_lipids_tbl %>%\n",
    "    select(eid, ldl, hdl, trig, chol, statin0, ldladj, choladj, trigadj, hdladj, TG_LOG) %>%\n",
    "    collect()\n",
    "\n",
    "dim(pheno_Lipid)\n",
    "head(as.data.frame(pheno_Lipid))"
   ]
  },
  {
   "cell_type": "code",
   "execution_count": null,
   "metadata": {},
   "outputs": [],
   "source": [
    "table(pheno_Lipid$statin0)"
   ]
  },
  {
   "cell_type": "code",
   "execution_count": null,
   "metadata": {},
   "outputs": [],
   "source": [
    "# Match the Raw table\n",
    "Raw500K <- pheno_Raw[match(pheno_Lipid$eid, pheno_Raw$id),]\n",
    "Raw500K$age2 <- Raw500K$age^2\n",
    "dim(Raw500K)\n",
    "head(Raw500K)"
   ]
  },
  {
   "cell_type": "code",
   "execution_count": null,
   "metadata": {},
   "outputs": [],
   "source": [
    "# Combine Raw and Lpids table\n",
    "Lipids500K <- as.data.frame(cbind(pheno_Lipid, Raw500K))\n",
    "dim(Lipids500K)\n",
    "head(Lipids500K)\n",
    "\n",
    "summary(Lipids500K$hdl)\n",
    "summary(Lipids500K$trigadj)\n",
    "summary(Lipids500K$TG_LOG)\n",
    "\n",
    "\n",
    "Lipids500K_NAomitted <- na.omit(Lipids500K)\n",
    "dim(Lipids500K_NAomitted)"
   ]
  },
  {
   "cell_type": "markdown",
   "metadata": {},
   "source": [
    "### Match it to the linker file"
   ]
  },
  {
   "cell_type": "code",
   "execution_count": null,
   "metadata": {},
   "outputs": [],
   "source": [
    "MappedIds <- ukb_eid_to_sample_id[match(Lipids500K_NAomitted$eid, ukb_eid_to_sample_id$eid_7089), 2]\n",
    "head(MappedIds)\n",
    "dim(MappedIds)\n",
    "\n",
    "Lipids500K_NAomitted <- cbind(Lipids500K_NAomitted, MappedIds)\n",
    "Lipids500K_NAomitted <- as.data.frame(Lipids500K_NAomitted)\n",
    "dim(Lipids500K_NAomitted)\n",
    "\n",
    "colnames(Lipids500K_NAomitted)[18] <- \"eid_WES\"\n",
    "head(Lipids500K_NAomitted)"
   ]
  },
  {
   "cell_type": "markdown",
   "metadata": {},
   "source": [
    "### Write the UKB NAomitted file for future use"
   ]
  },
  {
   "cell_type": "code",
   "execution_count": null,
   "metadata": {},
   "outputs": [],
   "source": [
    "writeFile(Lipids500K_NAomitted, \"UKB_NAomitted_Data.csv\")"
   ]
  },
  {
   "cell_type": "markdown",
   "metadata": {},
   "source": [
    "# Iteration 1 Data"
   ]
  },
  {
   "cell_type": "code",
   "execution_count": null,
   "metadata": {},
   "outputs": [],
   "source": [
    "# Below steps are carried out for generation of Iteration 1 - ***NOT USED***\n",
    "# For Iteration2 - check AOU_UKB_phenotype_refined notebook\n",
    "\n",
    "# Read all the files\n",
    "LDL <- readr::read_csv(pipe(str_glue('gsutil cat {WORKSPACE_BUCKET}/data/LDL_ForAdjNor.20210714.csv')))\n",
    "HDL <- readr::read_csv(pipe(str_glue('gsutil cat {WORKSPACE_BUCKET}/data/HDL_ForAdjNor.20210714.csv')))\n",
    "TC <- readr::read_csv(pipe(str_glue('gsutil cat {WORKSPACE_BUCKET}/data/TC_ForAdjNor.20210714.csv')))\n",
    "TG <- readr::read_csv(pipe(str_glue('gsutil cat {WORKSPACE_BUCKET}/data/TG_ForAdjNor.20210714.csv')))"
   ]
  },
  {
   "cell_type": "markdown",
   "metadata": {},
   "source": [
    "### Retrieve the Common Samples with no NA values - Dataset1 - Iteration required to get more samples"
   ]
  },
  {
   "cell_type": "code",
   "execution_count": null,
   "metadata": {},
   "outputs": [],
   "source": [
    "# Common Samples\n",
    "CommSamples <- Reduce(intersect, list(LDL$person_id,HDL$person_id,TC$person_id,TG$person_id))\n",
    "length(CommSamples)"
   ]
  },
  {
   "cell_type": "code",
   "execution_count": null,
   "metadata": {},
   "outputs": [],
   "source": [
    "LDLmat <- match(CommSamples, LDL$person_id)\n",
    "HDLmat <- match(CommSamples, HDL$person_id)\n",
    "TCmat <- match(CommSamples, TC$person_id)\n",
    "TGmat <- match(CommSamples, TG$person_id)\n",
    "\n",
    "Colnames <- c(\"person_id\", \"gender\", \"age\", \"age2\", \"statin_use\", \"title\", \"value_as_number\")\n",
    "Colnames1 <- c(\"title\", \"value_as_number\")\n",
    "ColUsed <- match(Colnames, colnames(LDL))\n",
    "ColUsed1 <- match(Colnames1, colnames(LDL))\n",
    "\n",
    "CombinedMat <- cbind(LDL[LDLmat,ColUsed], HDL[HDLmat,ColUsed1], TC[TCmat,ColUsed1], TG[TGmat,ColUsed1])\n",
    "\n",
    "dim(CombinedMat)\n",
    "colnames(CombinedMat)[c(7,9,11,13)] <- c(\"LDL\", \"HDL\", \"TC\", \"TG\")\n",
    "CombinedMat[1:2, ]"
   ]
  },
  {
   "cell_type": "code",
   "execution_count": null,
   "metadata": {},
   "outputs": [],
   "source": [
    "#LDL adjustment based on TG/LDL values\n",
    "#If TG > 400, then LDL = NA\n",
    "#If LDL < 10, then LDL=NA\n",
    "\n",
    "CombinedMat$LDL <- ifelse(CombinedMat$TG > 400, NA, CombinedMat$LDL)\n",
    "CombinedMat$LDL <- ifelse(CombinedMat$LDL < 10, NA, CombinedMat$LDL)\n",
    "#If STATIN is used, LDL_ADJ = LDL/0.7\n",
    "CombinedMat$LDLadjusted <- ifelse(CombinedMat$statin_use == \"TRUE\", CombinedMat$LDL/0.7, CombinedMat$LDL)\n",
    "#If STATIN is used, TOTAL_ADJ = TC/0.8\n",
    "CombinedMat$TCadjusted <- ifelse(CombinedMat$statin_use == \"TRUE\", CombinedMat$TC/0.8, CombinedMat$TC)\n",
    "#TG adjustment\n",
    "CombinedMat$TGadjusted <- log(CombinedMat$TG)"
   ]
  },
  {
   "cell_type": "code",
   "execution_count": null,
   "metadata": {},
   "outputs": [],
   "source": [
    "# Removing NA samples --- Iteration1\n",
    "head(CombinedMat)\n",
    "dim(CombinedMat)\n",
    "\n",
    "CombinedMat_NAomitted <- na.omit(CombinedMat)\n",
    "dim(na.omit(CombinedMat_NAomitted))\n"
   ]
  },
  {
   "cell_type": "code",
   "execution_count": null,
   "metadata": {},
   "outputs": [],
   "source": [
    "# Creating separate phenofiles to resolve the issue of less sample numbers because of NAs --- Iteration2\n",
    "Colnames_LDL <- c(\"person_id\", \"gender\", \"age\", \"age2\", \"statin_use\", \"LDL\", \"LDLadjusted\")\n",
    "Colnames_HDL <- c(\"person_id\", \"gender\", \"age\", \"age2\", \"statin_use\", \"HDL\")\n",
    "Colnames_TC <- c(\"person_id\", \"gender\", \"age\", \"age2\", \"statin_use\", \"TC\", \"TCadjusted\")\n",
    "Colnames_TG <- c(\"person_id\", \"gender\", \"age\", \"age2\", \"statin_use\", \"TG\", \"TGadjusted\")\n",
    "\n",
    "CombinedMat_LDL <- CombinedMat[ ,match(Colnames_LDL, colnames(CombinedMat))]\n",
    "CombinedMat_HDL <- CombinedMat[ ,match(Colnames_HDL, colnames(CombinedMat))]\n",
    "CombinedMat_TC <- CombinedMat[ ,match(Colnames_TC, colnames(CombinedMat))]\n",
    "CombinedMat_TG <- CombinedMat[ ,match(Colnames_TG, colnames(CombinedMat))]\n",
    "\n",
    "# Most of the NA columns are present for LDL/TC phenotype\n",
    "length(CombinedMat_LDL$LDLadjusted)\n",
    "length(na.omit(CombinedMat_LDL$LDLadjusted))\n",
    "length(na.omit(CombinedMat_TC$TCadjusted))\n",
    "length(na.omit(CombinedMat_TG$TGadjusted))\n",
    "length(na.omit(CombinedMat_HDL$HDL))\n",
    "\n",
    "\n",
    "head(CombinedMat_LDL)\n",
    "head(CombinedMat_TG)"
   ]
  },
  {
   "cell_type": "code",
   "execution_count": null,
   "metadata": {},
   "outputs": [],
   "source": [
    "writeFile(CombinedMat_NAomitted, \"AOU_NAomitted_Data.csv\")"
   ]
  },
  {
   "cell_type": "markdown",
   "metadata": {},
   "source": [
    "# PCS - UKB & AOU"
   ]
  },
  {
   "cell_type": "code",
   "execution_count": null,
   "metadata": {},
   "outputs": [],
   "source": [
    "raw_pcs <- readr::read_tsv(\n",
    "    pipe(str_glue('gsutil cat gs://fc-secure-fd6786bf-6c28-4f33-ac30-3860fbeee5bb/data/merged/20210714/pcs.tsv'))\n",
    ")\n",
    "raw_pcs$person_id <- raw_pcs$s\n",
    "head(raw_pcs)"
   ]
  },
  {
   "cell_type": "code",
   "execution_count": null,
   "metadata": {},
   "outputs": [],
   "source": [
    "pcs <- raw_pcs %>%\n",
    "    extract(col = scores,\n",
    "            into = c('pcs'),\n",
    "            regex = '([^\\\\[\\\\]]+)') %>%\n",
    "    separate(col = pcs,\n",
    "             into = c('pc1', 'pc2', 'pc3', 'pc4', 'pc5', 'pc6', 'pc7', 'pc8', 'pc9', 'pc10'),\n",
    "             sep = ',')\n",
    "head(pcs)"
   ]
  },
  {
   "cell_type": "code",
   "execution_count": null,
   "metadata": {},
   "outputs": [],
   "source": [
    "dim(pcs)\n",
    "head(pcs)"
   ]
  },
  {
   "cell_type": "code",
   "execution_count": null,
   "metadata": {},
   "outputs": [],
   "source": [
    "# No.of AOU samples in the PC matrix\n",
    "aou_pcs <- pcs %>% filter(cohort == 'aou')\n",
    "length(intersect(aou_pcs$s, participants_with_genomic_data$person_id))\n",
    "length(intersect(aou_pcs$s, CombinedMat$person_id))\n",
    "length(intersect(aou_pcs$s, CombinedMat_NAomitted$person_id))"
   ]
  },
  {
   "cell_type": "code",
   "execution_count": null,
   "metadata": {},
   "outputs": [],
   "source": [
    "# No.of UKB samples in the PC matrix\n",
    "ukb_pcs <- pcs %>% filter(cohort == 'ukb')\n",
    "colnames(ukb_pcs)[1] <- \"eid_WES\"\n",
    "head(ukb_pcs)\n",
    "# The ukb_eid_to_sample_id dataframe is currently filled in with sample ids from the array data, not the WES data.\n",
    "length(intersect(ukb_pcs$person_id, ukb_eid_to_sample_id$eid_7089))\n",
    "length(intersect(ukb_pcs$person_id, ukb_eid_to_sample_id$eid_31063))\n",
    "length(intersect(ukb_pcs$person_id, pheno_Raw$id))\n",
    "length(intersect(ukb_pcs$person_id, Lipids500K$eid))\n",
    "length(intersect(ukb_pcs$person_id, Lipids500K_NAomitted$eid))"
   ]
  },
  {
   "cell_type": "markdown",
   "metadata": {},
   "source": [
    "# Merge AOU and UKB data to Common PC matrix"
   ]
  },
  {
   "cell_type": "markdown",
   "metadata": {},
   "source": [
    "## UKB/AOU PC merge"
   ]
  },
  {
   "cell_type": "code",
   "execution_count": null,
   "metadata": {},
   "outputs": [],
   "source": [
    "UKBpcs <- ukb_pcs[na.omit(match(Lipids500K_NAomitted$eid_WES, ukb_pcs$eid_WES)), ]\n",
    "AOUpcs <- aou_pcs[na.omit(match(CombinedMat_NAomitted$person_id, aou_pcs$person_id)), ]\n",
    "\n",
    "\n",
    "dim(UKBpcs)\n",
    "dim(AOUpcs)"
   ]
  },
  {
   "cell_type": "code",
   "execution_count": null,
   "metadata": {},
   "outputs": [],
   "source": [
    "head(UKBpcs)\n",
    "head(AOUpcs)\n",
    "\n",
    "head(Lipids500K_NAomitted)\n",
    "head(CombinedMat_NAomitted)"
   ]
  },
  {
   "cell_type": "markdown",
   "metadata": {},
   "source": [
    "### Combine AOU/UKB data with PCs"
   ]
  },
  {
   "cell_type": "code",
   "execution_count": null,
   "metadata": {},
   "outputs": [],
   "source": [
    "UKBdata <- merge(Lipids500K_NAomitted, UKBpcs, by=\"eid_WES\")\n",
    "AOUdata <- merge(CombinedMat_NAomitted,AOUpcs, by=\"person_id\")"
   ]
  },
  {
   "cell_type": "code",
   "execution_count": null,
   "metadata": {},
   "outputs": [],
   "source": [
    "dim(UKBdata)\n",
    "dim(AOUdata)\n",
    "\n",
    "colnames(UKBdata)\n",
    "colnames(AOUdata)\n",
    "\n",
    "head(UKBdata)\n",
    "head(AOUdata)"
   ]
  },
  {
   "cell_type": "markdown",
   "metadata": {},
   "source": [
    "### Write AOU/UKB data with PCs"
   ]
  },
  {
   "cell_type": "code",
   "execution_count": null,
   "metadata": {},
   "outputs": [],
   "source": [
    "writeFile(UKBdata, \"UKBdata.csv\")\n",
    "writeFile(AOUdata, \"AOUdata.csv\")"
   ]
  },
  {
   "cell_type": "markdown",
   "metadata": {},
   "source": [
    "# Normalization"
   ]
  },
  {
   "cell_type": "code",
   "execution_count": null,
   "metadata": {},
   "outputs": [],
   "source": [
    "UKBdata <- readr::read_csv(pipe(str_glue('gsutil cat {WORKSPACE_BUCKET}/data/UKBdata.csv')))\n",
    "AOUdata <- readr::read_csv(pipe(str_glue('gsutil cat {WORKSPACE_BUCKET}/data/AOUdata.csv')))\n",
    "\n",
    "dim(UKBdata)\n",
    "dim(AOUdata)"
   ]
  },
  {
   "cell_type": "markdown",
   "metadata": {},
   "source": [
    "## UKB"
   ]
  },
  {
   "cell_type": "code",
   "execution_count": null,
   "metadata": {},
   "outputs": [],
   "source": [
    "# Normalized Phenotypes\n",
    "UKBdata$ldladj.resid <- resid(lm(ldladj ~ Sex_numeric+age+age2+pc1+pc2+pc3+pc4+pc5+pc6+pc7+pc8+pc9+pc10, data = UKBdata))\n",
    "UKBdata$hdladj.resid <- resid(lm(hdladj ~ Sex_numeric+age+age2+pc1+pc2+pc3+pc4+pc5+pc6+pc7+pc8+pc9+pc10, data = UKBdata))\n",
    "UKBdata$choladj.resid <- resid(lm(choladj ~ Sex_numeric+age+age2+pc1+pc2+pc3+pc4+pc5+pc6+pc7+pc8+pc9+pc10, data = UKBdata))\n",
    "UKBdata$trigadj.resid <- resid(lm(TG_LOG ~ Sex_numeric+age+age2+pc1+pc2+pc3+pc4+pc5+pc6+pc7+pc8+pc9+pc10, data = UKBdata))\n",
    "\n",
    "UKBdata$ldladj.norm <- sd(UKBdata$ldladj)*scale(qnorm((rank(UKBdata$ldladj.resid,na.last=\"keep\")-0.5)/length(UKBdata$ldladj.resid)))\n",
    "UKBdata$hdladj.norm <- sd(UKBdata$hdladj)*scale(qnorm((rank(UKBdata$hdladj.resid,na.last=\"keep\")-0.5)/length(UKBdata$hdladj.resid)))\n",
    "UKBdata$choladj.norm <- sd(UKBdata$choladj)*scale(qnorm((rank(UKBdata$choladj.resid,na.last=\"keep\")-0.5)/length(UKBdata$choladj.resid)))\n",
    "UKBdata$trigadj.norm <- sd(UKBdata$TG_LOG)*scale(qnorm((rank(UKBdata$trigadj.resid,na.last=\"keep\")-0.5)/length(UKBdata$trigadj.resid)))\n",
    "\n",
    "UKBdata$CohortName <- rep(\"UKB\", nrow(UKBdata))"
   ]
  },
  {
   "cell_type": "code",
   "execution_count": null,
   "metadata": {},
   "outputs": [],
   "source": [
    "dim(UKBdata)\n",
    "head(UKBdata)\n",
    "colnames(UKBdata)"
   ]
  },
  {
   "cell_type": "markdown",
   "metadata": {},
   "source": [
    "## AOU"
   ]
  },
  {
   "cell_type": "code",
   "execution_count": null,
   "metadata": {},
   "outputs": [],
   "source": [
    "# Normalized Phenotypes\n",
    "AOUdata$ldladj.resid <- resid(lm(LDLadjusted ~ gender+age+age2+pc1+pc2+pc3+pc4+pc5+pc6+pc7+pc8+pc9+pc10, data = AOUdata))\n",
    "AOUdata$hdladj.resid <- resid(lm(HDL ~ gender+age+age2+pc1+pc2+pc3+pc4+pc5+pc6+pc7+pc8+pc9+pc10, data = AOUdata))\n",
    "AOUdata$choladj.resid <- resid(lm(TCadjusted ~ gender+age+age2+pc1+pc2+pc3+pc4+pc5+pc6+pc7+pc8+pc9+pc10, data = AOUdata))\n",
    "AOUdata$trigadj.resid <- resid(lm(TGadjusted ~ gender+age+age2+pc1+pc2+pc3+pc4+pc5+pc6+pc7+pc8+pc9+pc10, data = AOUdata))\n",
    "\n",
    "AOUdata$ldladj.norm <- sd(AOUdata$LDLadjusted)*scale(qnorm((rank(AOUdata$ldladj.resid,na.last=\"keep\")-0.5)/length(AOUdata$ldladj.resid)))\n",
    "AOUdata$hdladj.norm <- sd(AOUdata$HDL)*scale(qnorm((rank(AOUdata$hdladj.resid,na.last=\"keep\")-0.5)/length(AOUdata$hdladj.resid)))\n",
    "AOUdata$choladj.norm <- sd(AOUdata$TCadjusted)*scale(qnorm((rank(AOUdata$choladj.resid,na.last=\"keep\")-0.5)/length(AOUdata$choladj.resid)))\n",
    "AOUdata$trigadj.norm <- sd(AOUdata$TGadjusted)*scale(qnorm((rank(AOUdata$trigadj.resid,na.last=\"keep\")-0.5)/length(AOUdata$trigadj.resid)))\n",
    "\n",
    "AOUdata$CohortName <- rep(\"AOU\", nrow(AOUdata))"
   ]
  },
  {
   "cell_type": "code",
   "execution_count": null,
   "metadata": {},
   "outputs": [],
   "source": [
    "dim(AOUdata)\n",
    "head(AOUdata)\n",
    "colnames(AOUdata)"
   ]
  },
  {
   "cell_type": "markdown",
   "metadata": {},
   "source": [
    "## Merge UKB & AOU together with required covariates"
   ]
  },
  {
   "cell_type": "code",
   "execution_count": null,
   "metadata": {},
   "outputs": [],
   "source": [
    "AOUcolsrequired <- c(\"person_id\", \"LDL\", \"HDL\", \"TC\", \"TG\", \"ldladj.norm\", \"hdladj.norm\", \"choladj.norm\", \"trigadj.norm\", \"gender\", \"age\", \"age2\", \"pc1\", \"pc2\", \"pc3\", \"pc4\", \"pc5\", \"pc6\", \"pc7\", \"pc8\", \"pc9\", \"pc10\", \"CohortName\")\n",
    "AOU_Data_Iteration1_ForGWAS <- AOUdata[,match(AOUcolsrequired, colnames(AOUdata))]\n",
    "dim(AOU_Data_Iteration1_ForGWAS)\n",
    "colnames(AOU_Data_Iteration1_ForGWAS) <- c(\"id\", \"LDL_raw\", \"HDL_raw\", \"TC_raw\", \"TG_raw\", \"LDL_norm\", \"HDL_norm\", \"TC_norm\", \"TG_norm\", \"gender\", \"age\", \"age2\", \"pc1\", \"pc2\", \"pc3\", \"pc4\", \"pc5\", \"pc6\", \"pc7\", \"pc8\", \"pc9\", \"pc10\", \"CohortName\")\n"
   ]
  },
  {
   "cell_type": "code",
   "execution_count": null,
   "metadata": {},
   "outputs": [],
   "source": [
    "UKBcolsrequired <- c(\"eid\", \"ldl\", \"hdl\", \"chol\", \"trig\", \"ldladj.norm\", \"hdladj.norm\", \"choladj.norm\", \"trigadj.norm\", \"Sex_numeric\", \"age\", \"age2\", \"pc1\", \"pc2\", \"pc3\", \"pc4\", \"pc5\", \"pc6\", \"pc7\", \"pc8\", \"pc9\", \"pc10\", \"CohortName\")\n",
    "UKB_Data_Iteration1_ForGWAS <- UKBdata[,match(UKBcolsrequired, colnames(UKBdata))]\n",
    "dim(UKB_Data_Iteration1_ForGWAS)\n",
    "colnames(UKB_Data_Iteration1_ForGWAS) <- c(\"id\", \"LDL_raw\", \"HDL_raw\", \"TC_raw\", \"TG_raw\", \"LDL_norm\", \"HDL_norm\", \"TC_norm\", \"TG_norm\", \"gender\", \"age\", \"age2\", \"pc1\", \"pc2\", \"pc3\", \"pc4\", \"pc5\", \"pc6\", \"pc7\", \"pc8\", \"pc9\", \"pc10\", \"CohortName\")\n"
   ]
  },
  {
   "cell_type": "code",
   "execution_count": null,
   "metadata": {},
   "outputs": [],
   "source": [
    "FULL_Data_Iteration1_ForGWAS <- rbind(AOU_Data_Iteration1_ForGWAS, UKB_Data_Iteration1_ForGWAS)\n",
    "dim(FULL_Data_Iteration1_ForGWAS)"
   ]
  },
  {
   "cell_type": "code",
   "execution_count": null,
   "metadata": {},
   "outputs": [],
   "source": [
    "table(FULL_Data_Iteration1_ForGWAS$CohortName)\n",
    "summary(FULL_Data_Iteration1_ForGWAS$HDL_norm)\n",
    "summary(FULL_Data_Iteration1_ForGWAS$LDL_norm)\n"
   ]
  },
  {
   "cell_type": "code",
   "execution_count": null,
   "metadata": {},
   "outputs": [],
   "source": [
    "writeFile(FULL_Data_Iteration1_ForGWAS, \"FULL_Data_Iteration1_ForGWAS.csv\")"
   ]
  },
  {
   "cell_type": "code",
   "execution_count": null,
   "metadata": {},
   "outputs": [],
   "source": [
    "FULL_Data_Iteration1_ForGWAS <- readr::read_csv(pipe(str_glue('gsutil cat {WORKSPACE_BUCKET}/data/FULL_Data_Iteration1_ForGWAS.csv')))\n"
   ]
  },
  {
   "cell_type": "code",
   "execution_count": null,
   "metadata": {},
   "outputs": [],
   "source": [
    "head(FULL_Data_Iteration1_ForGWAS)\n",
    "\n",
    "summary(FULL_Data_Iteration1_ForGWAS$LDL_norm)\n",
    "summary(FULL_Data_Iteration1_ForGWAS$LDL_raw)"
   ]
  },
  {
   "cell_type": "code",
   "execution_count": null,
   "metadata": {},
   "outputs": [],
   "source": []
  }
 ],
 "metadata": {
  "kernelspec": {
   "display_name": "R",
   "language": "R",
   "name": "ir"
  },
  "language_info": {
   "codemirror_mode": "r",
   "file_extension": ".r",
   "mimetype": "text/x-r-source",
   "name": "R",
   "pygments_lexer": "r",
   "version": "4.1.0"
  },
  "toc": {
   "base_numbering": 1,
   "nav_menu": {},
   "number_sections": true,
   "sideBar": true,
   "skip_h1_title": false,
   "title_cell": "Table of Contents",
   "title_sidebar": "Contents",
   "toc_cell": false,
   "toc_position": {
    "height": "calc(100% - 180px)",
    "left": "10px",
    "top": "150px",
    "width": "298px"
   },
   "toc_section_display": true,
   "toc_window_display": true
  }
 },
 "nbformat": 4,
 "nbformat_minor": 2
}

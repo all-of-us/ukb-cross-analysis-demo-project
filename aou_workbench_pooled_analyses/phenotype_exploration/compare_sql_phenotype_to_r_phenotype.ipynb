{
 "cells": [
  {
   "cell_type": "markdown",
   "metadata": {},
   "source": [
    "# Compare SQL phenotype to R phenotype\n",
    "\n",
    "<div class=\"alert alert-block alert-success\">\n",
    "    <b>For AoU there are some logic changes that will affect <i>which of a person's measurements</i> is used.</b> And <i>which measurement</i> is used will affect the <b>age</b>, since its age at time of measurement, and the <b>statin use indicator</b>, since the measurment must occur with in the statin use interval to be true.\n",
    "    <ol>\n",
    "        <li>AoU: We now retain only measurements where <kbd>value_as_number IS NOT NULL AND value_as_number > 0</kbd>.</li>\n",
    "        <li>AoU: Previously the R code was modifying LDL during the lipids adjustment. Now LDL is the original value from the measurements table. Adjustments only occur within LDL_adjusted.\n",
    "        <li>AoU: A single age and statin use indicator was previously chosen per person, even though those values could vary between a person's different lipid measurements. Now each measurement is retaining the age and statin use flag associated with the datetime of the measurment.</li>\n",
    "        <li>AoU: When choosing the \"most recent\" measurement, the SQL code goes to greater lengths to make the result reproducible by sorting not only by measurement date, but also by measurement time, and measurement id in the case of ties.</li>\n",
    "        <li>AoU: The SQL JOIN logic for measurements and statin use intervals uses the datetime instead of the date.</li>\n",
    "        <li>UKB: 148 UKB samples were getting dropped incorrectly. I narrowed it down to the na.omit command being used to keep only people with all four lipids. Since na.omit is run on the entire dataframe, it checks other columns for NAs too such as the european ancestry column.</li>\n",
    "        <li>UKB: the lipids adjustment is not the same formula, specifically the rule If TG > 400, then LDL = NA`  was not applied to to ldladj in the natarajan dataframe provided.</li>\n",
    "    </ol>\n",
    " </div>"
   ]
  },
  {
   "cell_type": "markdown",
   "metadata": {},
   "source": [
    "# Setup"
   ]
  },
  {
   "cell_type": "code",
   "execution_count": null,
   "metadata": {},
   "outputs": [],
   "source": [
    "lapply(c('hexbin', 'hrbrthemes', 'skimr', 'viridis'),\n",
    "       function(pkg) { if(! pkg %in% installed.packages()) { install.packages(pkg)} } )"
   ]
  },
  {
   "cell_type": "code",
   "execution_count": null,
   "metadata": {},
   "outputs": [],
   "source": [
    "library(hexbin)\n",
    "library(hrbrthemes)\n",
    "library(skimr)\n",
    "library(tidyverse)"
   ]
  },
  {
   "cell_type": "code",
   "execution_count": null,
   "metadata": {},
   "outputs": [],
   "source": [
    "ORIG_R_PHENO <- c(\n",
    "    HDL = 'gs://fc-secure-fd6786bf-6c28-4f33-ac30-3860fbeee5bb/data/MergedData_HDL_Iteration2_ForGWAS.csv',\n",
    "    LDL = 'gs://fc-secure-fd6786bf-6c28-4f33-ac30-3860fbeee5bb/data/MergedData_LDL_Iteration2_ForGWAS.csv',\n",
    "    TC = 'gs://fc-secure-fd6786bf-6c28-4f33-ac30-3860fbeee5bb/data/MergedData_TC_Iteration2_ForGWAS.csv',\n",
    "    TG = 'gs://fc-secure-fd6786bf-6c28-4f33-ac30-3860fbeee5bb/data/MergedData_TG_Iteration2_ForGWAS.csv'\n",
    ")"
   ]
  },
  {
   "cell_type": "code",
   "execution_count": null,
   "metadata": {},
   "outputs": [],
   "source": [
    "NEW_SQL_PHENO <- 'gs://fc-secure-fd6786bf-6c28-4f33-ac30-3860fbeee5bb/data/pooled/phenotypes/20211224/aou_alpha2_ukb_pooled_lipids_phenotype.tsv'"
   ]
  },
  {
   "cell_type": "code",
   "execution_count": null,
   "metadata": {},
   "outputs": [],
   "source": [
    "# Set some visualiation defaults.\n",
    "theme_set(theme_ipsum(base_size = 16)) # Default theme for plots.\n",
    "\n",
    "#' Returns a data frame with a y position and a label, for use annotating ggplot boxplots.\n",
    "#'\n",
    "#' @param d A data frame.\n",
    "#' @return A data frame with column y as max and column label as length.\n",
    "get_boxplot_fun_data <- function(df) {\n",
    "  return(data.frame(y = max(df), label = stringr::str_c('N = ', length(df))))\n",
    "}"
   ]
  },
  {
   "cell_type": "markdown",
   "metadata": {},
   "source": [
    "# Load data"
   ]
  },
  {
   "cell_type": "code",
   "execution_count": null,
   "metadata": {},
   "outputs": [],
   "source": [
    "orig_hdl <- read_csv(pipe(str_glue('gsutil cat {ORIG_R_PHENO[[\"HDL\"]]}')))"
   ]
  },
  {
   "cell_type": "code",
   "execution_count": null,
   "metadata": {},
   "outputs": [],
   "source": [
    "orig_ldl <- read_csv(pipe(str_glue('gsutil cat {ORIG_R_PHENO[[\"LDL\"]]}')))"
   ]
  },
  {
   "cell_type": "code",
   "execution_count": null,
   "metadata": {},
   "outputs": [],
   "source": [
    "orig_tc <- read_csv(pipe(str_glue('gsutil cat {ORIG_R_PHENO[[\"TC\"]]}')))"
   ]
  },
  {
   "cell_type": "code",
   "execution_count": null,
   "metadata": {},
   "outputs": [],
   "source": [
    "orig_tg <- read_csv(pipe(str_glue('gsutil cat {ORIG_R_PHENO[[\"TG\"]]}')))"
   ]
  },
  {
   "cell_type": "code",
   "execution_count": null,
   "metadata": {},
   "outputs": [],
   "source": [
    "orig_pheno_wide <- orig_hdl %>%\n",
    "    full_join(orig_ldl) %>%\n",
    "    full_join(orig_tc) %>%\n",
    "    full_join(orig_tg) %>%\n",
    "    mutate(\n",
    "        FID = paste0(sampleid, '_', cohort),\n",
    "        IID = FID\n",
    "    )"
   ]
  },
  {
   "cell_type": "code",
   "execution_count": null,
   "metadata": {},
   "outputs": [],
   "source": [
    "nrow(orig_pheno_wide)\n",
    "length(unique(orig_pheno_wide$IID))\n",
    "\n",
    "stopifnot(nrow(orig_pheno_wide) == length(unique(orig_pheno_wide$IID)))"
   ]
  },
  {
   "cell_type": "code",
   "execution_count": null,
   "metadata": {},
   "outputs": [],
   "source": [
    "colnames(orig_pheno_wide)"
   ]
  },
  {
   "cell_type": "code",
   "execution_count": null,
   "metadata": {},
   "outputs": [],
   "source": [
    "new_pheno_wide = read_tsv(pipe(str_glue('gsutil cat {NEW_SQL_PHENO}')))"
   ]
  },
  {
   "cell_type": "code",
   "execution_count": null,
   "metadata": {},
   "outputs": [],
   "source": [
    "colnames(new_pheno_wide)"
   ]
  },
  {
   "cell_type": "markdown",
   "metadata": {},
   "source": [
    "# Compare data"
   ]
  },
  {
   "cell_type": "code",
   "execution_count": null,
   "metadata": {},
   "outputs": [],
   "source": [
    "dim(orig_pheno_wide)\n",
    "dim(new_pheno_wide)"
   ]
  },
  {
   "cell_type": "markdown",
   "metadata": {},
   "source": [
    "<div class=\"alert alert-block alert-success\">\n",
    "We've retained more non-zero and non-null measurements.\n",
    "</div>"
   ]
  },
  {
   "cell_type": "code",
   "execution_count": null,
   "metadata": {},
   "outputs": [],
   "source": [
    "length(unique(orig_pheno_wide$IID))\n",
    "length(unique(new_pheno_wide$IID))\n",
    "\n",
    "nrow(new_pheno_wide) - nrow(orig_pheno_wide)"
   ]
  },
  {
   "cell_type": "code",
   "execution_count": null,
   "metadata": {},
   "outputs": [],
   "source": [
    "new_pheno_wide %>%\n",
    "    filter(!IID %in% orig_pheno_wide$IID) %>%\n",
    "    group_by(cohort) %>%\n",
    "    summarize(count = n())"
   ]
  },
  {
   "cell_type": "markdown",
   "metadata": {},
   "source": [
    "<div class=\"alert alert-block alert-success\">\n",
    "We've also included more genomes.\n",
    "</div>"
   ]
  },
  {
   "cell_type": "code",
   "execution_count": null,
   "metadata": {},
   "outputs": [],
   "source": [
    "pheno_versions <- inner_join(\n",
    "    new_pheno_wide,\n",
    "    orig_pheno_wide,\n",
    "    suffix = c('_sql_phenotypes', '_r_phenotypes'),\n",
    "    by = c('FID', 'IID')\n",
    ")\n",
    "\n",
    "dim(pheno_versions)"
   ]
  },
  {
   "cell_type": "code",
   "execution_count": null,
   "metadata": {},
   "outputs": [],
   "source": [
    "stopifnot(nrow(orig_pheno_wide) == nrow(pheno_versions))"
   ]
  },
  {
   "cell_type": "code",
   "execution_count": null,
   "metadata": {},
   "outputs": [],
   "source": [
    "colnames(pheno_versions)"
   ]
  },
  {
   "cell_type": "markdown",
   "metadata": {},
   "source": [
    "## Check age"
   ]
  },
  {
   "cell_type": "code",
   "execution_count": null,
   "metadata": {},
   "outputs": [],
   "source": [
    "sum(abs(pheno_versions$age_sql_phenotypes - pheno_versions$age_r_phenotypes) > 2)"
   ]
  },
  {
   "cell_type": "code",
   "execution_count": null,
   "metadata": {},
   "outputs": [],
   "source": [
    "pheno_versions %>%\n",
    "    select(IID, age_r_phenotypes, age_sql_phenotypes) %>%\n",
    "    filter(age_sql_phenotypes - age_r_phenotypes > 2)"
   ]
  },
  {
   "cell_type": "markdown",
   "metadata": {},
   "source": [
    "## Check cohort"
   ]
  },
  {
   "cell_type": "code",
   "execution_count": null,
   "metadata": {},
   "outputs": [],
   "source": [
    "table(pheno_versions$cohort_r_phenotypes, pheno_versions$cohort_sql_phenotypes)"
   ]
  },
  {
   "cell_type": "markdown",
   "metadata": {},
   "source": [
    "<div class=\"alert alert-block alert-success\">\n",
    "The results are identical.\n",
    "</div>"
   ]
  },
  {
   "cell_type": "markdown",
   "metadata": {},
   "source": [
    "## Check sex_at_birth"
   ]
  },
  {
   "cell_type": "code",
   "execution_count": null,
   "metadata": {},
   "outputs": [],
   "source": [
    "table(pheno_versions$sex, pheno_versions$sex_at_birth)"
   ]
  },
  {
   "cell_type": "markdown",
   "metadata": {},
   "source": [
    "<div class=\"alert alert-block alert-success\">\n",
    "The results are identical.\n",
    "</div>"
   ]
  },
  {
   "cell_type": "markdown",
   "metadata": {},
   "source": [
    "## Check PCs"
   ]
  },
  {
   "cell_type": "code",
   "execution_count": null,
   "metadata": {},
   "outputs": [],
   "source": [
    "skim(pheno_versions %>%\n",
    "     select(pc1, PC1, pc2, PC2, pc3, PC3, pc4, PC4, pc5, PC5, pc6, PC6, pc7, PC7, pc8, PC8, pc9, PC9, pc10, PC10))"
   ]
  },
  {
   "cell_type": "markdown",
   "metadata": {},
   "source": [
    "<div class=\"alert alert-block alert-success\">\n",
    "The results are identical.\n",
    "</div>"
   ]
  },
  {
   "cell_type": "markdown",
   "metadata": {},
   "source": [
    "## Check raw lipids"
   ]
  },
  {
   "cell_type": "code",
   "execution_count": null,
   "metadata": {},
   "outputs": [],
   "source": [
    "skim(pheno_versions %>%\n",
    "     filter(cohort_r_phenotypes == 'AOU') %>%\n",
    "     select(HDLraw, HDL, LDLraw, LDL,\n",
    "            TCraw, TC, TGraw, TG))"
   ]
  },
  {
   "cell_type": "code",
   "execution_count": null,
   "metadata": {},
   "outputs": [],
   "source": [
    "skim(pheno_versions %>%\n",
    "     filter(cohort_r_phenotypes == 'UKB') %>%\n",
    "     select(HDLraw, HDL, LDLraw, LDL,\n",
    "            TCraw, TC, TGraw, TG))"
   ]
  },
  {
   "cell_type": "markdown",
   "metadata": {},
   "source": [
    "<div class=\"alert alert-block alert-success\">\n",
    "The results have minor differences, but no major differences.\n",
    "</div>"
   ]
  },
  {
   "cell_type": "markdown",
   "metadata": {},
   "source": [
    "## Check adjusted lipids"
   ]
  },
  {
   "cell_type": "code",
   "execution_count": null,
   "metadata": {},
   "outputs": [],
   "source": [
    "skim(pheno_versions %>%\n",
    "     filter(cohort_r_phenotypes == 'AOU') %>%\n",
    "     select(HDLadj, HDL, LDLadj, LDL_adjusted,\n",
    "            TCadj, TC_adjusted, TGadj, TG_adjusted))"
   ]
  },
  {
   "cell_type": "code",
   "execution_count": null,
   "metadata": {},
   "outputs": [],
   "source": [
    "skim(pheno_versions %>%\n",
    "     filter(cohort_r_phenotypes == 'UKB') %>%\n",
    "     select(HDLadj, HDL, LDLadj, LDL_adjusted,\n",
    "            TCadj, TC_adjusted, TGadj, TG_adjusted))"
   ]
  },
  {
   "cell_type": "markdown",
   "metadata": {},
   "source": [
    "<div class=\"alert alert-block alert-success\">\n",
    "The results have minor differences, but no unexpected major differences. (It is expected that we have more NA values for LDL_adjusted.)\n",
    "</div>"
   ]
  },
  {
   "cell_type": "markdown",
   "metadata": {},
   "source": [
    "## Check normalized lipids"
   ]
  },
  {
   "cell_type": "code",
   "execution_count": null,
   "metadata": {},
   "outputs": [],
   "source": [
    "skim(pheno_versions %>%\n",
    "     filter(cohort_r_phenotypes == 'AOU') %>%\n",
    "     select(HDLnorm, HDL_norm, LDLnorm, LDL_adjusted_norm,\n",
    "            TCnorm, TC_adjusted_norm, TGnorm, TG_adjusted_norm))"
   ]
  },
  {
   "cell_type": "code",
   "execution_count": null,
   "metadata": {},
   "outputs": [],
   "source": [
    "skim(pheno_versions %>%\n",
    "     filter(cohort_r_phenotypes == 'UKB') %>%\n",
    "     select(HDLnorm, HDL_norm, LDLnorm, LDL_adjusted_norm,\n",
    "            TCnorm, TC_adjusted_norm, TGnorm, TG_adjusted_norm))"
   ]
  },
  {
   "cell_type": "markdown",
   "metadata": {},
   "source": [
    "<div class=\"alert alert-block alert-success\">\n",
    "The results have minor differences, but no major differences.\n",
    "</div>"
   ]
  },
  {
   "cell_type": "markdown",
   "metadata": {},
   "source": [
    "# Provenance"
   ]
  },
  {
   "cell_type": "code",
   "execution_count": null,
   "metadata": {},
   "outputs": [],
   "source": [
    "devtools::session_info()"
   ]
  }
 ],
 "metadata": {
  "kernelspec": {
   "display_name": "R",
   "language": "R",
   "name": "ir"
  },
  "language_info": {
   "codemirror_mode": "r",
   "file_extension": ".r",
   "mimetype": "text/x-r-source",
   "name": "R",
   "pygments_lexer": "r",
   "version": "4.1.1"
  },
  "toc": {
   "base_numbering": 1,
   "nav_menu": {},
   "number_sections": true,
   "sideBar": true,
   "skip_h1_title": false,
   "title_cell": "Table of Contents",
   "title_sidebar": "Contents",
   "toc_cell": false,
   "toc_position": {
    "height": "calc(100% - 180px)",
    "left": "10px",
    "top": "150px",
    "width": "183px"
   },
   "toc_section_display": true,
   "toc_window_display": true
  }
 },
 "nbformat": 4,
 "nbformat_minor": 2
}

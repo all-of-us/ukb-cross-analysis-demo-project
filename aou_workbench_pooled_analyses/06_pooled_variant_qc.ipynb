{
 "cells": [
  {
   "cell_type": "markdown",
   "metadata": {},
   "source": [
    "# Perform variant QC\n",
    "\n",
    "In this notebook, we perform variant quality control using [PLINK2](https://www.cog-genomics.org/plink/2.0/)."
   ]
  },
  {
   "cell_type": "markdown",
   "metadata": {},
   "source": [
    "# Setup \n",
    "\n",
    "<div class=\"alert alert-block alert-warning\">\n",
    "    <b>Cloud Environment</b>: This notebook was written for use on the All of Us Workbench.\n",
    "    <ul>\n",
    "        <li>Use compute type 'Standard VM' with sufficient CPU and RAM (e.g. start with 8 CPUs and 30 GB RAM, increase if needed).</li>\n",
    "        <li>This notebook can take a while to run. Recommend that it is run in the background via <kbd>run_notebook_in_the_background</kbd>.</li>\n",
    "    </ul>\n",
    "</div>"
   ]
  },
  {
   "cell_type": "code",
   "execution_count": null,
   "metadata": {},
   "outputs": [],
   "source": [
    "from datetime import datetime\n",
    "import os\n",
    "import time"
   ]
  },
  {
   "cell_type": "markdown",
   "metadata": {},
   "source": [
    "## Setup plink2\n",
    "\n",
    "https://www.cog-genomics.org/plink/2.0/"
   ]
  },
  {
   "cell_type": "code",
   "execution_count": null,
   "metadata": {},
   "outputs": [],
   "source": [
    "%%bash\n",
    "\n",
    "##### plink 2 install\n",
    "PLINK_VERSION=2.3.Alpha\n",
    "PLINK_ZIP_PATH=/tmp/plink-$PLINK_VERSION.zip\n",
    "curl -L -o $PLINK_ZIP_PATH https://s3.amazonaws.com/plink2-assets/alpha2/plink2_linux_x86_64.zip\n",
    "mkdir -p /tmp/plink2/\n",
    "unzip -o $PLINK_ZIP_PATH -d /tmp/plink2/"
   ]
  },
  {
   "cell_type": "code",
   "execution_count": null,
   "metadata": {},
   "outputs": [],
   "source": [
    "!/tmp/plink2/plink2 --version # --help"
   ]
  },
  {
   "cell_type": "markdown",
   "metadata": {},
   "source": [
    "## Define constants"
   ]
  },
  {
   "cell_type": "code",
   "execution_count": null,
   "metadata": {
    "tags": [
     "parameters"
    ]
   },
   "outputs": [],
   "source": [
    "# Papermill parameters. See https://papermill.readthedocs.io/en/latest/usage-parameterize.html\n",
    "\n",
    "#---[ Inputs ]---\n",
    "# The BGEN file created via write_bgen.ipynb.\n",
    "REMOTE_MERGED_BGEN = 'gs://fc-secure-fd6786bf-6c28-4f33-ac30-3860fbeee5bb/data/merged/20210906/ukb-aou-alpha2-chr1-chr22.bgen'\n",
    "REMOTE_MERGED_BGEN_SAMPLE = 'gs://fc-secure-fd6786bf-6c28-4f33-ac30-3860fbeee5bb/data/merged/20210906/ukb-aou-alpha2-chr1-chr22.sample'\n",
    "# This CSV was created via notebook 7_pooled_lipids_gwas_phenotype.ipynb.\n",
    "REMOTE_PHENOTYPES = 'gs://fc-secure-fd6786bf-6c28-4f33-ac30-3860fbeee5bb/data/pooled/phenotypes/20211224/aou_alpha2_ukb_pooled_lipids_phenotype.tsv'\n",
    "\n",
    "#---[ Outputs ]---\n",
    "# Create a timestamp for a folder of results generated today.\n",
    "DATESTAMP = time.strftime('%Y%m%d')\n",
    "OUTPUT_FILENAME_PREFIX = 'aou_alpha3_ukb_lipids'\n",
    "OUTPUT_FOLDER = f'{os.getenv(\"WORKSPACE_BUCKET\")}/data/pooled/variant-qc/{DATESTAMP}/'"
   ]
  },
  {
   "cell_type": "code",
   "execution_count": null,
   "metadata": {},
   "outputs": [],
   "source": [
    "LOCAL_MERGED_BGEN = os.path.basename(REMOTE_MERGED_BGEN)\n",
    "LOCAL_MERGED_BGEN_SAMPLE = os.path.basename(REMOTE_MERGED_BGEN_SAMPLE)\n",
    "LOCAL_PHENOTYPES = os.path.basename(REMOTE_PHENOTYPES)"
   ]
  },
  {
   "cell_type": "markdown",
   "metadata": {},
   "source": [
    "## Copy data locally"
   ]
  },
  {
   "cell_type": "code",
   "execution_count": null,
   "metadata": {},
   "outputs": [],
   "source": [
    "!gsutil cp -n {REMOTE_MERGED_BGEN} {REMOTE_MERGED_BGEN_SAMPLE} ."
   ]
  },
  {
   "cell_type": "code",
   "execution_count": null,
   "metadata": {},
   "outputs": [],
   "source": [
    "!gsutil cp {REMOTE_PHENOTYPES} ."
   ]
  },
  {
   "cell_type": "markdown",
   "metadata": {},
   "source": [
    "# Variant QC for step 1 via plink2\n",
    "\n",
    "Use [plink2 to perform the variant QC](https://rgcgithub.github.io/regenie/recommendations/#exclusion-files) and obtain a subset of SNPs roughly equal to the number of samples."
   ]
  },
  {
   "cell_type": "code",
   "execution_count": null,
   "metadata": {},
   "outputs": [],
   "source": [
    "!/tmp/plink2/plink2 \\\n",
    "  --bgen {LOCAL_MERGED_BGEN} ref-first \\\n",
    "  --sample {LOCAL_MERGED_BGEN_SAMPLE} \\\n",
    "  --chr 1-22 \\\n",
    "  --keep {LOCAL_PHENOTYPES} \\\n",
    "  --geno 0.1 \\\n",
    "  --mind 0.1 \\\n",
    "  --mac 100 \\\n",
    "  --hwe 1e-15 \\\n",
    "  --write-snplist \\\n",
    "  --write-samples \\\n",
    "  --no-id-header \\\n",
    "  --out {OUTPUT_FILENAME_PREFIX}_step1QC_plink\n",
    "\n",
    "# This is too strict and removes too many variants.\n",
    "#  --maf 0.01 \\"
   ]
  },
  {
   "cell_type": "code",
   "execution_count": null,
   "metadata": {},
   "outputs": [],
   "source": [
    "!ls -lth . | head"
   ]
  },
  {
   "cell_type": "code",
   "execution_count": null,
   "metadata": {},
   "outputs": [],
   "source": [
    "!head {OUTPUT_FILENAME_PREFIX}_step1QC_plink.id"
   ]
  },
  {
   "cell_type": "code",
   "execution_count": null,
   "metadata": {},
   "outputs": [],
   "source": [
    "!tail {OUTPUT_FILENAME_PREFIX}_step1QC_plink.id"
   ]
  },
  {
   "cell_type": "code",
   "execution_count": null,
   "metadata": {},
   "outputs": [],
   "source": [
    "!wc -l {OUTPUT_FILENAME_PREFIX}_step1QC_plink.id"
   ]
  },
  {
   "cell_type": "code",
   "execution_count": null,
   "metadata": {},
   "outputs": [],
   "source": [
    "!head {OUTPUT_FILENAME_PREFIX}_step1QC_plink.snplist"
   ]
  },
  {
   "cell_type": "code",
   "execution_count": null,
   "metadata": {},
   "outputs": [],
   "source": [
    "!tail {OUTPUT_FILENAME_PREFIX}_step1QC_plink.snplist"
   ]
  },
  {
   "cell_type": "code",
   "execution_count": null,
   "metadata": {},
   "outputs": [],
   "source": [
    "!wc -l {OUTPUT_FILENAME_PREFIX}_step1QC_plink.snplist"
   ]
  },
  {
   "cell_type": "code",
   "execution_count": null,
   "metadata": {},
   "outputs": [],
   "source": [
    "!gsutil -m cp {OUTPUT_FILENAME_PREFIX}* {OUTPUT_FOLDER}"
   ]
  },
  {
   "cell_type": "markdown",
   "metadata": {},
   "source": [
    "# Variant QC for step 2 via plink2"
   ]
  },
  {
   "cell_type": "code",
   "execution_count": null,
   "metadata": {},
   "outputs": [],
   "source": [
    "!/tmp/plink2/plink2 \\\n",
    "  --bgen {LOCAL_MERGED_BGEN} ref-first \\\n",
    "  --sample {LOCAL_MERGED_BGEN_SAMPLE} \\\n",
    "  --chr 1-22 \\\n",
    "  --keep {LOCAL_PHENOTYPES} \\\n",
    "  --geno 0.1 \\\n",
    "  --mind 0.1 \\\n",
    "  --hwe 1e-15 \\\n",
    "  --write-snplist \\\n",
    "  --write-samples \\\n",
    "  --no-id-header \\\n",
    "  --out {OUTPUT_FILENAME_PREFIX}_step2QC_plink\n",
    "\n",
    "# This differs from step 1 QC in that the following parameter was removed\n",
    "#    --mac 100 \\"
   ]
  },
  {
   "cell_type": "code",
   "execution_count": null,
   "metadata": {},
   "outputs": [],
   "source": [
    "!ls -lth {OUTPUT_FILENAME_PREFIX}*"
   ]
  },
  {
   "cell_type": "code",
   "execution_count": null,
   "metadata": {},
   "outputs": [],
   "source": [
    "!wc -l {OUTPUT_FILENAME_PREFIX}_step2QC_plink.id"
   ]
  },
  {
   "cell_type": "code",
   "execution_count": null,
   "metadata": {},
   "outputs": [],
   "source": [
    "!wc -l {OUTPUT_FILENAME_PREFIX}_step2QC_plink.snplist"
   ]
  },
  {
   "cell_type": "code",
   "execution_count": null,
   "metadata": {},
   "outputs": [],
   "source": [
    "!gsutil -m cp {OUTPUT_FILENAME_PREFIX}* {OUTPUT_FOLDER}"
   ]
  },
  {
   "cell_type": "markdown",
   "metadata": {},
   "source": [
    "# Provenance "
   ]
  },
  {
   "cell_type": "code",
   "execution_count": null,
   "metadata": {},
   "outputs": [],
   "source": [
    "%%bash\n",
    "\n",
    "date"
   ]
  },
  {
   "cell_type": "code",
   "execution_count": null,
   "metadata": {},
   "outputs": [],
   "source": [
    "%%bash\n",
    "\n",
    "pip3 freeze"
   ]
  }
 ],
 "metadata": {
  "kernelspec": {
   "display_name": "Python 3",
   "language": "python",
   "name": "python3"
  },
  "language_info": {
   "codemirror_mode": {
    "name": "ipython",
    "version": 3
   },
   "file_extension": ".py",
   "mimetype": "text/x-python",
   "name": "python",
   "nbconvert_exporter": "python",
   "pygments_lexer": "ipython3",
   "version": "3.7.10"
  },
  "toc": {
   "base_numbering": 1,
   "nav_menu": {},
   "number_sections": true,
   "sideBar": true,
   "skip_h1_title": false,
   "title_cell": "Table of Contents",
   "title_sidebar": "Contents",
   "toc_cell": false,
   "toc_position": {
    "height": "calc(100% - 180px)",
    "left": "10px",
    "top": "150px",
    "width": "188px"
   },
   "toc_section_display": true,
   "toc_window_display": true
  }
 },
 "nbformat": 4,
 "nbformat_minor": 2
}

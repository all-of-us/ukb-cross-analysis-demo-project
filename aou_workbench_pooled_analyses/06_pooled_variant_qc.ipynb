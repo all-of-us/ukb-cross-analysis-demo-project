{
 "cells": [
  {
   "cell_type": "markdown",
   "metadata": {},
   "source": [
    "# Perform variant quality control\n",
    "\n",
    "In this notebook, we perform variant quality control using [PLINK2](https://www.cog-genomics.org/plink/2.0/).\n",
    "\n",
    "Note that this work is part of a larger project to [Demonstrate the Potential for Pooled Analysis of All of Us and UK Biobank Genomic Data](https://docs.google.com/document/d/19ZS0z_-7FEM37pNDAXaWaqBSLnqyd9MZEkiOmtF3n_0/edit#). Specifically this is for the portion of the project that is the **pooled** analysis."
   ]
  },
  {
   "cell_type": "markdown",
   "metadata": {},
   "source": [
    "# Setup \n",
    "\n",
    "<div class=\"alert alert-block alert-warning\">\n",
    "    <b>Cloud Environment</b>: This notebook was written for use on the <i>All of Us</i> Workbench.\n",
    "    <ul>\n",
    "        <li>Use \"Recommended Environment\" <kbd><b>General Analysis</b></kbd> which creates compute type <kbd><b>Standard VM</b></kbd> with reasonable defaults for CPU, RAM and disk.</li>\n",
    "        <li>This notebook can take a while to run <b>TBD DETAILS CHR21 VS. ALL CHRS</b>. Recommend that it is run in the background via <kbd>run_notebook_in_the_background</kbd>.</li>    </ul>\n",
    "</div>"
   ]
  },
  {
   "cell_type": "code",
   "execution_count": null,
   "metadata": {},
   "outputs": [],
   "source": [
    "from datetime import datetime\n",
    "import os\n",
    "import time"
   ]
  },
  {
   "cell_type": "markdown",
   "metadata": {},
   "source": [
    "## Setup plink2\n",
    "\n",
    "https://www.cog-genomics.org/plink/2.0/"
   ]
  },
  {
   "cell_type": "code",
   "execution_count": null,
   "metadata": {},
   "outputs": [],
   "source": [
    "%%bash\n",
    "\n",
    "##### plink 2 install\n",
    "PLINK_VERSION=2.3.Alpha\n",
    "PLINK_ZIP_PATH=/tmp/plink-$PLINK_VERSION.zip\n",
    "curl -L -o $PLINK_ZIP_PATH https://s3.amazonaws.com/plink2-assets/alpha2/plink2_linux_x86_64.zip\n",
    "mkdir -p /tmp/plink2/\n",
    "unzip -o $PLINK_ZIP_PATH -d /tmp/plink2/"
   ]
  },
  {
   "cell_type": "code",
   "execution_count": null,
   "metadata": {},
   "outputs": [],
   "source": [
    "!/tmp/plink2/plink2 --version # --help"
   ]
  },
  {
   "cell_type": "markdown",
   "metadata": {},
   "source": [
    "## Define constants"
   ]
  },
  {
   "cell_type": "code",
   "execution_count": null,
   "metadata": {
    "tags": [
     "parameters"
    ]
   },
   "outputs": [],
   "source": [
    "# Papermill parameters. See https://papermill.readthedocs.io/en/latest/usage-parameterize.html\n",
    "\n",
    "#---[ Inputs ]---\n",
    "# The BGEN file created via aou_workbench_pooled_analyses/05_write_pooled_bgen.ipynb.\n",
    "REMOTE_MERGED_BGEN = 'gs://fc-secure-e53e4a44-7fe2-42b7-89b7-01aae1e399f7/data/pooled/geno/20220215/aou-alpha3-ukb-chr1-chr22.bgen'\n",
    "# The sample file created via aou_workbench_pooled_analyses/05_write_pooled_bgen.ipynb.\n",
    "REMOTE_MERGED_BGEN_SAMPLE = 'gs://fc-secure-e53e4a44-7fe2-42b7-89b7-01aae1e399f7/data/pooled/geno/20220215/aou-alpha3-ukb-chr1-chr22.sample'\n",
    "# This TSV was created via notebook aou_workbench_pooled_analyses/02_merge_lipids_phenotypes.ipynb\n",
    "REMOTE_PHENOTYPE_SAMPLE_IDS = 'gs://fc-secure-fd6786bf-6c28-4f33-ac30-3860fbeee5bb/data/pooled/phenotypes/20211224/aou_alpha2_ukb_pooled_lipids_phenotype.tsv'\n",
    "\n",
    "#---[ Outputs ]---\n",
    "# Create a timestamp for a folder of results generated today.\n",
    "DATESTAMP = time.strftime('%Y%m%d')\n",
    "OUTPUT_FILENAME_PREFIX = 'aou_alpha3_ukb_lipids'\n",
    "OUTPUT_FOLDER = f'{os.getenv(\"WORKSPACE_BUCKET\")}/data/pooled/variant-qc/{DATESTAMP}/'"
   ]
  },
  {
   "cell_type": "code",
   "execution_count": null,
   "metadata": {},
   "outputs": [],
   "source": [
    "LOCAL_MERGED_BGEN = os.path.basename(REMOTE_MERGED_BGEN)\n",
    "LOCAL_MERGED_BGEN_SAMPLE = os.path.basename(REMOTE_MERGED_BGEN_SAMPLE)\n",
    "LOCAL_PHENOTYPE_SAMPLE_IDS = os.path.basename(REMOTE_PHENOTYPE_SAMPLE_IDS)"
   ]
  },
  {
   "cell_type": "markdown",
   "metadata": {},
   "source": [
    "## Copy data locally"
   ]
  },
  {
   "cell_type": "code",
   "execution_count": null,
   "metadata": {},
   "outputs": [],
   "source": [
    "!gsutil cp -n {REMOTE_MERGED_BGEN} {REMOTE_MERGED_BGEN_SAMPLE} ."
   ]
  },
  {
   "cell_type": "code",
   "execution_count": null,
   "metadata": {},
   "outputs": [],
   "source": [
    "!gsutil cp {REMOTE_PHENOTYPE_SAMPLE_IDS} ."
   ]
  },
  {
   "cell_type": "markdown",
   "metadata": {},
   "source": [
    "# Variant QC for regenie step 1 via plink2\n",
    "\n",
    "Use plink2 to perform [variant QC appropriate for step 1 of regenie](https://rgcgithub.github.io/regenie/recommendations/#exclusion-files), obtaining a subset of high quality variants roughly equal to the number of samples."
   ]
  },
  {
   "cell_type": "code",
   "execution_count": null,
   "metadata": {},
   "outputs": [],
   "source": [
    "!/tmp/plink2/plink2 \\\n",
    "  --bgen {LOCAL_MERGED_BGEN} ref-first \\\n",
    "  --sample {LOCAL_MERGED_BGEN_SAMPLE} \\\n",
    "  --chr 1-22 \\\n",
    "  --keep {LOCAL_PHENOTYPE_SAMPLE_IDS} \\\n",
    "  --geno 0.1 \\\n",
    "  --mind 0.1 \\\n",
    "  --mac 100 \\\n",
    "  --hwe 1e-15 \\\n",
    "  --write-snplist \\\n",
    "  --write-samples \\\n",
    "  --no-id-header \\\n",
    "  --out {OUTPUT_FILENAME_PREFIX}_step1QC_plink"
   ]
  },
  {
   "cell_type": "code",
   "execution_count": null,
   "metadata": {},
   "outputs": [],
   "source": [
    "!ls -lth . | head"
   ]
  },
  {
   "cell_type": "code",
   "execution_count": null,
   "metadata": {},
   "outputs": [],
   "source": [
    "!head {OUTPUT_FILENAME_PREFIX}_step1QC_plink.id"
   ]
  },
  {
   "cell_type": "code",
   "execution_count": null,
   "metadata": {},
   "outputs": [],
   "source": [
    "!wc -l {OUTPUT_FILENAME_PREFIX}_step1QC_plink.id"
   ]
  },
  {
   "cell_type": "code",
   "execution_count": null,
   "metadata": {},
   "outputs": [],
   "source": [
    "!head {OUTPUT_FILENAME_PREFIX}_step1QC_plink.snplist"
   ]
  },
  {
   "cell_type": "code",
   "execution_count": null,
   "metadata": {},
   "outputs": [],
   "source": [
    "!wc -l {OUTPUT_FILENAME_PREFIX}_step1QC_plink.snplist"
   ]
  },
  {
   "cell_type": "code",
   "execution_count": null,
   "metadata": {},
   "outputs": [],
   "source": [
    "!ls {OUTPUT_FILENAME_PREFIX}_step1QC_plink*"
   ]
  },
  {
   "cell_type": "code",
   "execution_count": null,
   "metadata": {},
   "outputs": [],
   "source": [
    "!gsutil -m cp {OUTPUT_FILENAME_PREFIX}_step1QC_plink* {OUTPUT_FOLDER}"
   ]
  },
  {
   "cell_type": "markdown",
   "metadata": {},
   "source": [
    "# Variant QC for regenie step 2 via plink2\n",
    "\n",
    "Use plink2 to perform [variant QC appropriate for step 2 of regenie](https://rgcgithub.github.io/regenie/recommendations/#exclusion-files), obtaining a subset of high quality variants."
   ]
  },
  {
   "cell_type": "code",
   "execution_count": null,
   "metadata": {},
   "outputs": [],
   "source": [
    "!/tmp/plink2/plink2 \\\n",
    "  --bgen {LOCAL_MERGED_BGEN} ref-first \\\n",
    "  --sample {LOCAL_MERGED_BGEN_SAMPLE} \\\n",
    "  --chr 1-22 \\\n",
    "  --keep {LOCAL_PHENOTYPE_SAMPLE_IDS} \\\n",
    "  --geno 0.1 \\\n",
    "  --mind 0.1 \\\n",
    "  --hwe 1e-15 \\\n",
    "  --write-snplist \\\n",
    "  --write-samples \\\n",
    "  --no-id-header \\\n",
    "  --out {OUTPUT_FILENAME_PREFIX}_step2QC_plink\n",
    "\n",
    "# This differs from step 1 QC in that the following parameter was removed\n",
    "#    --mac 100 \\"
   ]
  },
  {
   "cell_type": "code",
   "execution_count": null,
   "metadata": {},
   "outputs": [],
   "source": [
    "!ls -lth {OUTPUT_FILENAME_PREFIX}*"
   ]
  },
  {
   "cell_type": "code",
   "execution_count": null,
   "metadata": {},
   "outputs": [],
   "source": [
    "!wc -l {OUTPUT_FILENAME_PREFIX}_step2QC_plink.id"
   ]
  },
  {
   "cell_type": "code",
   "execution_count": null,
   "metadata": {},
   "outputs": [],
   "source": [
    "!wc -l {OUTPUT_FILENAME_PREFIX}_step2QC_plink.snplist"
   ]
  },
  {
   "cell_type": "code",
   "execution_count": null,
   "metadata": {},
   "outputs": [],
   "source": [
    "!ls {OUTPUT_FILENAME_PREFIX}_step2QC_plink*"
   ]
  },
  {
   "cell_type": "code",
   "execution_count": null,
   "metadata": {},
   "outputs": [],
   "source": [
    "!gsutil -m cp {OUTPUT_FILENAME_PREFIX}_step2QC_plink* {OUTPUT_FOLDER}"
   ]
  },
  {
   "cell_type": "code",
   "execution_count": null,
   "metadata": {},
   "outputs": [],
   "source": [
    "!gsutil ls {OUTPUT_FOLDER}"
   ]
  },
  {
   "cell_type": "markdown",
   "metadata": {},
   "source": [
    "# Provenance "
   ]
  },
  {
   "cell_type": "code",
   "execution_count": null,
   "metadata": {},
   "outputs": [],
   "source": [
    "%%bash\n",
    "\n",
    "date"
   ]
  },
  {
   "cell_type": "code",
   "execution_count": null,
   "metadata": {},
   "outputs": [],
   "source": [
    "%%bash\n",
    "\n",
    "pip3 freeze"
   ]
  }
 ],
 "metadata": {
  "kernelspec": {
   "display_name": "Python 3",
   "language": "python",
   "name": "python3"
  },
  "language_info": {
   "codemirror_mode": {
    "name": "ipython",
    "version": 3
   },
   "file_extension": ".py",
   "mimetype": "text/x-python",
   "name": "python",
   "nbconvert_exporter": "python",
   "pygments_lexer": "ipython3",
   "version": "3.7.10"
  },
  "toc": {
   "base_numbering": 1,
   "nav_menu": {},
   "number_sections": true,
   "sideBar": true,
   "skip_h1_title": false,
   "title_cell": "Table of Contents",
   "title_sidebar": "Contents",
   "toc_cell": false,
   "toc_position": {
    "height": "calc(100% - 180px)",
    "left": "10px",
    "top": "150px",
    "width": "188px"
   },
   "toc_section_display": true,
   "toc_window_display": true
  }
 },
 "nbformat": 4,
 "nbformat_minor": 2
}

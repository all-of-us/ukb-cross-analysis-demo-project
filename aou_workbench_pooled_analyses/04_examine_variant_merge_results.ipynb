{
 "cells": [
  {
   "cell_type": "markdown",
   "metadata": {},
   "source": [
    "# Examine variant merge results"
   ]
  },
  {
   "cell_type": "markdown",
   "metadata": {},
   "source": [
    "In this notebook, we examine the results of the merge of AoU and UKB variants."
   ]
  },
  {
   "cell_type": "markdown",
   "metadata": {},
   "source": [
    "# Setup "
   ]
  },
  {
   "cell_type": "code",
   "execution_count": null,
   "metadata": {},
   "outputs": [],
   "source": [
    "from datetime import datetime\n",
    "import hail as hl\n",
    "import os\n",
    "import time"
   ]
  },
  {
   "cell_type": "code",
   "execution_count": null,
   "metadata": {},
   "outputs": [],
   "source": [
    "from bokeh.io import show, output_notebook\n",
    "from bokeh.layouts import gridplot\n",
    "output_notebook()"
   ]
  },
  {
   "cell_type": "markdown",
   "metadata": {},
   "source": [
    "## Define constants"
   ]
  },
  {
   "cell_type": "code",
   "execution_count": null,
   "metadata": {
    "tags": [
     "parameters"
    ]
   },
   "outputs": [],
   "source": [
    "# Papermill parameters. See https://papermill.readthedocs.io/en/latest/usage-parameterize.html\n",
    "\n",
    "#---[ Inputs ]---\n",
    "# Matrix table was provided by AoU.\n",
    "AOU_MT = 'gs://fc-secure-4adb21f6-46f4-4a79-99f9-afd63890c6d0/data/beta/beta_wgs_98622.mt'\n",
    "# Matrix table was created from UKB 200k exome release VCFs.\n",
    "# Note: The UKB matrix table was created via notebook 'create_matrix_tables' and then repartitioned via notebook 'redo_partitions'.\n",
    "UKB_MT = 'gs://fc-secure-fd6786bf-6c28-4f33-ac30-3860fbeee5bb/data/ukb/exomes/full_dataset_fewer_partitions.mt'\n",
    "# Partition the two matrix tables with the same NUM_MT_READ_PARTITIONS partitions from the UKB matrix table.\n",
    "NUM_MT_READ_PARTITIONS = 5000\n",
    "# Capture regions used for AoU WGS data.\n",
    "WGS_CAPTURE_REGIONS = 'gs://gcp-public-data--broad-references/hg38/v0/wgs_calling_regions.hg38.noCentromeres.noTelomeres.interval_list'\n",
    "# These matrix tables were created via notebook 'merge_variants'. \n",
    "MERGED_MT = [\n",
    "    'gs://fc-secure-fd6786bf-6c28-4f33-ac30-3860fbeee5bb/data/merged/20210902/merged-filtered-chr1.mt',\n",
    "    'gs://fc-secure-fd6786bf-6c28-4f33-ac30-3860fbeee5bb/data/merged/20210905/merged-aou2-ukb-filtered-chr2_chr3_chr4_chr5_chr6_chr7_chr8_chr9_chr10_chr11_chr12_chr13_chr14_chr15_chr16_chr17_chr18_chr19_chr20_chr21_chr22.mt'\n",
    "]\n",
    "AOU_ONLY_TAB = [\n",
    "    'gs://fc-secure-fd6786bf-6c28-4f33-ac30-3860fbeee5bb/data/merged/20210902/aou_only-filtered-chr1.tab',\n",
    "    'gs://fc-secure-fd6786bf-6c28-4f33-ac30-3860fbeee5bb/data/merged/20210905/aou2_without_ukb-filtered-chr2_chr3_chr4_chr5_chr6_chr7_chr8_chr9_chr10_chr11_chr12_chr13_chr14_chr15_chr16_chr17_chr18_chr19_chr20_chr21_chr22.tab'\n",
    "]\n",
    "UKB_ONLY_TAB = [\n",
    "    'gs://fc-secure-fd6786bf-6c28-4f33-ac30-3860fbeee5bb/data/merged/20210902/ukb_only-filtered-chr1.tab',\n",
    "    'gs://fc-secure-fd6786bf-6c28-4f33-ac30-3860fbeee5bb/data/merged/20210905/ukb_without_aou2-filtered-chr2_chr3_chr4_chr5_chr6_chr7_chr8_chr9_chr10_chr11_chr12_chr13_chr14_chr15_chr16_chr17_chr18_chr19_chr20_chr21_chr22.tab'\n",
    "]\n",
    "\n",
    "#---[ Outputs ]---\n",
    "# Create a timestamp for a folder of results generated today.\n",
    "DATESTAMP = time.strftime('%Y%m%d')\n",
    "TIMESTAMP = time.strftime('%Y%m%d_%H%M%S')\n",
    "WORK_DIR = !pwd\n",
    "\n",
    "#RESULTS_DIR = f'{os.getenv(\"WORKSPACE_BUCKET\")}/data/merged/{DATESTAMP}/'\n",
    "HAIL_LOG = f'{WORK_DIR[0]}/hail-examine-merged-variants-{TIMESTAMP}.log'\n",
    "HAIL_LOG_DIR_FOR_PROVENANCE = f'{os.getenv(\"WORKSPACE_BUCKET\")}/hail-logs/{DATESTAMP}/'"
   ]
  },
  {
   "cell_type": "markdown",
   "metadata": {},
   "source": [
    "## Check access"
   ]
  },
  {
   "cell_type": "code",
   "execution_count": null,
   "metadata": {},
   "outputs": [],
   "source": [
    "for mt in MERGED_MT:\n",
    "    !gsutil ls {mt}\n",
    "    print('\\n')"
   ]
  },
  {
   "cell_type": "code",
   "execution_count": null,
   "metadata": {},
   "outputs": [],
   "source": [
    "for mt in AOU_ONLY_TAB:\n",
    "    !gsutil ls {mt}\n",
    "    print('\\n')"
   ]
  },
  {
   "cell_type": "code",
   "execution_count": null,
   "metadata": {},
   "outputs": [],
   "source": [
    "for mt in UKB_ONLY_TAB:\n",
    "    !gsutil ls {mt}\n",
    "    print('\\n')"
   ]
  },
  {
   "cell_type": "markdown",
   "metadata": {},
   "source": [
    "## Start Hail "
   ]
  },
  {
   "cell_type": "code",
   "execution_count": null,
   "metadata": {},
   "outputs": [],
   "source": [
    "# See also https://towardsdatascience.com/fetch-failed-exception-in-apache-spark-decrypting-the-most-common-causes-b8dff21075c\n",
    "# See https://spark.apache.org/docs/2.4.7/configuration.html\n",
    "\n",
    "EXTRA_SPARK_CONFIG = {\n",
    "    # If set to \"true\", performs speculative execution of tasks. This means if one or more tasks are running\n",
    "    # slowly in a stage, they will be re-launched.\n",
    "    'spark.speculation': 'true', # Default is false.\n",
    "    \n",
    "    # Fraction of tasks which must be complete before speculation is enabled for a particular stage.\n",
    "    'spark.speculation.quantile': '0.95', # Default is 0.75\n",
    "\n",
    "    # Default timeout for all network interactions. This config will be used in place of \n",
    "    # spark.core.connection.ack.wait.timeout, spark.storage.blockManagerSlaveTimeoutMs, \n",
    "    # spark.shuffle.io.connectionTimeout, spark.rpc.askTimeout or spark.rpc.lookupTimeout if they are not configured.\n",
    "    'spark.network.timeout': '180s', # Default is 120s\n",
    "        \n",
    "    # (Netty only) Fetches that fail due to IO-related exceptions are automatically retried if this is set to a\n",
    "    # non-zero value. This retry logic helps stabilize large shuffles in the face of long GC pauses or transient\n",
    "    # network connectivity issues.\n",
    "    'spark.shuffle.io.maxRetries': '10',  # Default is 3\n",
    "    \n",
    "    # (Netty only) How long to wait between retries of fetches. The maximum delay caused by retrying is 15 seconds\n",
    "    # by default, calculated as maxRetries * retryWait.\n",
    "    'spark.shuffle.io.retryWait': '15s',  # Default is 5s\n",
    "    \n",
    "    # Number of failures of any particular task before giving up on the job. The total number of failures spread\n",
    "    # across different tasks will not cause the job to fail; a particular task has to fail this number of attempts.\n",
    "    # Should be greater than or equal to 1. Number of allowed retries = this value - 1.\n",
    "    'spark.task.maxFailures': '10', # Default is 4.\n",
    "\n",
    "    # Number of consecutive stage attempts allowed before a stage is aborted.\n",
    "    'spark.stage.maxConsecutiveAttempts': '10' # Default is 4.\n",
    "}"
   ]
  },
  {
   "cell_type": "code",
   "execution_count": null,
   "metadata": {},
   "outputs": [],
   "source": [
    "hl.init(spark_conf=EXTRA_SPARK_CONFIG,\n",
    "        min_block_size=50,\n",
    "        default_reference='GRCh38',\n",
    "        log=HAIL_LOG)"
   ]
  },
  {
   "cell_type": "markdown",
   "metadata": {},
   "source": [
    "Check the configuration."
   ]
  },
  {
   "cell_type": "code",
   "execution_count": null,
   "metadata": {},
   "outputs": [],
   "source": [
    "sc = hl.spark_context()\n",
    "config = sc._conf.getAll()\n",
    "config.sort()\n",
    "config"
   ]
  },
  {
   "cell_type": "markdown",
   "metadata": {},
   "source": [
    "# Read merged matrix table"
   ]
  },
  {
   "cell_type": "code",
   "execution_count": null,
   "metadata": {},
   "outputs": [],
   "source": [
    "merged = hl.read_matrix_table(MERGED_MT[0])\n",
    "\n",
    "for i in range(1, len(MERGED_MT)):\n",
    "    merged = merged.union_rows(hl.read_matrix_table(MERGED_MT[i]))"
   ]
  },
  {
   "cell_type": "code",
   "execution_count": null,
   "metadata": {},
   "outputs": [],
   "source": [
    "merged.count()"
   ]
  },
  {
   "cell_type": "code",
   "execution_count": null,
   "metadata": {},
   "outputs": [],
   "source": [
    "merged.describe()"
   ]
  },
  {
   "cell_type": "code",
   "execution_count": null,
   "metadata": {},
   "outputs": [],
   "source": [
    "merged.aggregate_cols(hl.agg.counter(merged.cohort))"
   ]
  },
  {
   "cell_type": "code",
   "execution_count": null,
   "metadata": {},
   "outputs": [],
   "source": [
    "hl.summarize_variants(merged)"
   ]
  },
  {
   "cell_type": "markdown",
   "metadata": {},
   "source": [
    "# Read AoU-only table"
   ]
  },
  {
   "cell_type": "code",
   "execution_count": null,
   "metadata": {},
   "outputs": [],
   "source": [
    "aou_only = hl.read_table(AOU_ONLY_TAB[0])\n",
    "\n",
    "for i in range(1, len(AOU_ONLY_TAB)):\n",
    "    aou_only = aou_only.union(hl.read_table(AOU_ONLY_TAB[i]))"
   ]
  },
  {
   "cell_type": "code",
   "execution_count": null,
   "metadata": {},
   "outputs": [],
   "source": [
    "aou_only.describe()"
   ]
  },
  {
   "cell_type": "code",
   "execution_count": null,
   "metadata": {},
   "outputs": [],
   "source": [
    "hl.summarize_variants(aou_only)"
   ]
  },
  {
   "cell_type": "markdown",
   "metadata": {},
   "source": [
    "# Read UKB-only table"
   ]
  },
  {
   "cell_type": "code",
   "execution_count": null,
   "metadata": {},
   "outputs": [],
   "source": [
    "ukb_only = hl.read_table(UKB_ONLY_TAB[0])\n",
    "\n",
    "for i in range(1, len(UKB_ONLY_TAB)):\n",
    "    ukb_only = ukb_only.union(hl.read_table(UKB_ONLY_TAB[i]))"
   ]
  },
  {
   "cell_type": "code",
   "execution_count": null,
   "metadata": {},
   "outputs": [],
   "source": [
    "ukb_only.describe()"
   ]
  },
  {
   "cell_type": "code",
   "execution_count": null,
   "metadata": {},
   "outputs": [],
   "source": [
    "hl.summarize_variants(ukb_only)"
   ]
  },
  {
   "cell_type": "markdown",
   "metadata": {},
   "source": [
    "# Also read the source data\n",
    "\n",
    "For comparison purposes."
   ]
  },
  {
   "cell_type": "code",
   "execution_count": null,
   "metadata": {},
   "outputs": [],
   "source": [
    "aou_wgs = hl.read_matrix_table(AOU_MT)"
   ]
  },
  {
   "cell_type": "code",
   "execution_count": null,
   "metadata": {},
   "outputs": [],
   "source": [
    "aou_wgs.describe()"
   ]
  },
  {
   "cell_type": "code",
   "execution_count": null,
   "metadata": {},
   "outputs": [],
   "source": [
    "aou_wgs.rows().show(5)"
   ]
  },
  {
   "cell_type": "code",
   "execution_count": null,
   "metadata": {},
   "outputs": [],
   "source": [
    "ukb_exomes = hl.read_matrix_table(UKB_MT)"
   ]
  },
  {
   "cell_type": "code",
   "execution_count": null,
   "metadata": {},
   "outputs": [],
   "source": [
    "ukb_exomes.describe()"
   ]
  },
  {
   "cell_type": "code",
   "execution_count": null,
   "metadata": {},
   "outputs": [],
   "source": [
    "ukb_exomes.rows().show(5)"
   ]
  },
  {
   "cell_type": "markdown",
   "metadata": {},
   "source": [
    "# Examine the data"
   ]
  },
  {
   "cell_type": "markdown",
   "metadata": {},
   "source": [
    "## Are the unmerged variants mostly rare?\n",
    "\n",
    "\n",
    "**Answer**: yes for UKB, somewhat for AoU"
   ]
  },
  {
   "cell_type": "markdown",
   "metadata": {},
   "source": [
    "Allele frequencies at different quantiles."
   ]
  },
  {
   "cell_type": "code",
   "execution_count": null,
   "metadata": {},
   "outputs": [],
   "source": [
    "aou_only.aggregate(hl.agg.approx_quantiles(\n",
    "    aou_only.aou_info.AF[aou_only.aou_a_index - 1],\n",
    "    [0, 0.25, 0.5, 0.75, .90, .99, .999, 1]\n",
    "))"
   ]
  },
  {
   "cell_type": "code",
   "execution_count": null,
   "metadata": {},
   "outputs": [],
   "source": [
    "aou_only.aggregate(hl.agg.approx_quantiles(\n",
    "    aou_only.aou_info.AC[aou_only.aou_a_index - 1],\n",
    "    [0, 0.25, 0.5, 0.75, .90, .99, .999, 1]\n",
    "))"
   ]
  },
  {
   "cell_type": "code",
   "execution_count": null,
   "metadata": {},
   "outputs": [],
   "source": [
    "aou_only.aggregate(hl.agg.approx_quantiles(\n",
    "    aou_only.aou_info.AN,\n",
    "    [0, 0.25, 0.5, 0.75, .90, .99, .999, 1]\n",
    "))"
   ]
  },
  {
   "cell_type": "code",
   "execution_count": null,
   "metadata": {},
   "outputs": [],
   "source": [
    "ukb_only.aggregate(hl.agg.approx_quantiles(\n",
    "    ukb_only.ukb_info.AF[ukb_only.ukb_a_index - 1],\n",
    "    [0, 0.25, 0.5, 0.75, .90, .99, .999, 1]\n",
    "))"
   ]
  },
  {
   "cell_type": "markdown",
   "metadata": {},
   "source": [
    "<div class=\"alert alert-block alert-info\">\n",
    "<b>Note:</b> The original UKB VCFs list info fields for AC and AN but their values are not populated.\n",
    "</div>"
   ]
  },
  {
   "cell_type": "code",
   "execution_count": null,
   "metadata": {},
   "outputs": [],
   "source": [
    "ukb_only.aggregate(hl.agg.approx_quantiles(\n",
    "    ukb_only.ukb_info.AC[ukb_only.ukb_a_index - 1],\n",
    "    [0, 0.25, 0.5, 0.75, .90, .99, .999, 1]\n",
    "))"
   ]
  },
  {
   "cell_type": "code",
   "execution_count": null,
   "metadata": {},
   "outputs": [],
   "source": [
    "ukb_only.aggregate(hl.agg.approx_quantiles(\n",
    "    ukb_only.ukb_info.AN,\n",
    "    [0, 0.25, 0.5, 0.75, .90, .99, .999, 1]\n",
    "))"
   ]
  },
  {
   "cell_type": "markdown",
   "metadata": {},
   "source": [
    "Plots of those allele frequencies.\n",
    "\n",
    "**TODO(deflaux)** filter the data so that `log=True` will succeed for these plots."
   ]
  },
  {
   "cell_type": "code",
   "execution_count": null,
   "metadata": {},
   "outputs": [],
   "source": [
    "aou_only_af_p = hl.plot.histogram(aou_only.aou_info.AF[aou_only.aou_a_index - 1])\n",
    "show(aou_only_af_p)"
   ]
  },
  {
   "cell_type": "code",
   "execution_count": null,
   "metadata": {},
   "outputs": [],
   "source": [
    "ukb_only_af_p = hl.plot.histogram(ukb_only.ukb_info.AF[ukb_only.ukb_a_index - 1])\n",
    "show(ukb_only_af_p)"
   ]
  },
  {
   "cell_type": "markdown",
   "metadata": {},
   "source": [
    "### Use Hail to compute the alternate allele frequency."
   ]
  },
  {
   "cell_type": "markdown",
   "metadata": {},
   "source": [
    "What about for the merged data?"
   ]
  },
  {
   "cell_type": "code",
   "execution_count": null,
   "metadata": {},
   "outputs": [],
   "source": [
    "merged = merged.annotate_rows(alt_allele_freq=hl.agg.call_stats(merged.GT, merged.alleles).AF[1])"
   ]
  },
  {
   "cell_type": "code",
   "execution_count": null,
   "metadata": {},
   "outputs": [],
   "source": [
    "merged.describe()"
   ]
  },
  {
   "cell_type": "code",
   "execution_count": null,
   "metadata": {},
   "outputs": [],
   "source": [
    "merged.aggregate_rows(hl.agg.approx_quantiles(\n",
    "    merged.alt_allele_freq,\n",
    "    [0, 0.25, 0.5, 0.75, .90, .99, .999, 1]\n",
    "))"
   ]
  },
  {
   "cell_type": "markdown",
   "metadata": {},
   "source": [
    "### Extract merged frequencies to a CSV"
   ]
  },
  {
   "cell_type": "code",
   "execution_count": null,
   "metadata": {},
   "outputs": [],
   "source": [
    "merged_rows = merged.rows()\n",
    "merged_allele_freq_df = merged_rows.select(AF = merged_rows.alt_allele_freq).to_pandas()\n",
    "merged_allele_freq_df.shape"
   ]
  },
  {
   "cell_type": "code",
   "execution_count": null,
   "metadata": {},
   "outputs": [],
   "source": [
    "merged_allele_freq_df.to_csv('merged_allele_freq.csv', index=False)"
   ]
  },
  {
   "cell_type": "code",
   "execution_count": null,
   "metadata": {},
   "outputs": [],
   "source": [
    "!gsutil cp -v merged_allele_freq.csv {RESULTS_DIR}"
   ]
  },
  {
   "cell_type": "markdown",
   "metadata": {},
   "source": [
    "## How many unmerged variants are common?\n",
    "\n",
    "**Answer**: a few for each"
   ]
  },
  {
   "cell_type": "code",
   "execution_count": null,
   "metadata": {},
   "outputs": [],
   "source": [
    "aou_only_common = aou_only.filter(aou_only.aou_info.AF[aou_only.aou_a_index - 1] > 0.01, keep=True)\n",
    "aou_only_common = aou_only_common.filter(aou_only_common.aou_info.AF[aou_only_common.aou_a_index - 1] < 0.99, keep=True)"
   ]
  },
  {
   "cell_type": "code",
   "execution_count": null,
   "metadata": {},
   "outputs": [],
   "source": [
    "aou_only_common.count()"
   ]
  },
  {
   "cell_type": "code",
   "execution_count": null,
   "metadata": {},
   "outputs": [],
   "source": [
    "hl.summarize_variants(aou_only_common)"
   ]
  },
  {
   "cell_type": "code",
   "execution_count": null,
   "metadata": {},
   "outputs": [],
   "source": [
    "ukb_only_common = ukb_only.filter(ukb_only.ukb_info.AF[ukb_only.ukb_a_index - 1] > 0.01, keep=True)\n",
    "ukb_only_common = ukb_only_common.filter(ukb_only_common.ukb_info.AF[ukb_only_common.ukb_a_index - 1] < 0.99, keep=True)"
   ]
  },
  {
   "cell_type": "code",
   "execution_count": null,
   "metadata": {},
   "outputs": [],
   "source": [
    "ukb_only_common.count()"
   ]
  },
  {
   "cell_type": "code",
   "execution_count": null,
   "metadata": {},
   "outputs": [],
   "source": [
    "hl.summarize_variants(ukb_only_common)"
   ]
  },
  {
   "cell_type": "code",
   "execution_count": null,
   "metadata": {},
   "outputs": [],
   "source": [
    "merged_common = merged.filter_rows(merged.alt_allele_freq > 0.01, keep=True)\n",
    "merged_common = merged_common.filter_rows(merged_common.alt_allele_freq < 0.99, keep=True)"
   ]
  },
  {
   "cell_type": "code",
   "execution_count": null,
   "metadata": {},
   "outputs": [],
   "source": [
    "merged_common.count()"
   ]
  },
  {
   "cell_type": "markdown",
   "metadata": {},
   "source": [
    "Use plink to quickly compute MAF on the BGEN."
   ]
  },
  {
   "cell_type": "code",
   "execution_count": null,
   "metadata": {},
   "outputs": [],
   "source": [
    "REMOTE_MERGED_BGEN = 'gs://fc-secure-fd6786bf-6c28-4f33-ac30-3860fbeee5bb/data/merged/20210906/ukb-aou-alpha2-chr1-chr22.bgen'\n",
    "LOCAL_MERGED_BGEN = os.path.basename(REMOTE_MERGED_BGEN)"
   ]
  },
  {
   "cell_type": "code",
   "execution_count": null,
   "metadata": {},
   "outputs": [],
   "source": [
    "!gsutil cp -v -n {REMOTE_MERGED_BGEN} .\n",
    "\n",
    "!/tmp/plink2/plink2 \\\n",
    "  --bgen {LOCAL_MERGED_BGEN} ref-first \\\n",
    "  --chr 1-22 \\\n",
    "  --maf 0.01 \\\n",
    "  --write-snplist \\\n",
    "  --no-id-header \\\n",
    "  --out merged_bgen_common_variants_plink"
   ]
  },
  {
   "cell_type": "code",
   "execution_count": null,
   "metadata": {},
   "outputs": [],
   "source": [
    "!wc -l merged_bgen_common_variants_plink.snplist"
   ]
  },
  {
   "cell_type": "code",
   "execution_count": null,
   "metadata": {},
   "outputs": [],
   "source": [
    "hl.summarize_variants(merged_common)"
   ]
  },
  {
   "cell_type": "markdown",
   "metadata": {},
   "source": [
    "## Are the WGS capture regions yielding any unmerged UKB variants?\n",
    "\n",
    "**Answer**: none!"
   ]
  },
  {
   "cell_type": "code",
   "execution_count": null,
   "metadata": {},
   "outputs": [],
   "source": [
    "aou_wgs_capture_regions = hl.import_locus_intervals(WGS_CAPTURE_REGIONS)"
   ]
  },
  {
   "cell_type": "code",
   "execution_count": null,
   "metadata": {},
   "outputs": [],
   "source": [
    "aou_wgs_capture_regions.describe()"
   ]
  },
  {
   "cell_type": "code",
   "execution_count": null,
   "metadata": {},
   "outputs": [],
   "source": [
    "aou_wgs_capture_regions.show(5)"
   ]
  },
  {
   "cell_type": "code",
   "execution_count": null,
   "metadata": {},
   "outputs": [],
   "source": [
    "aou_wgs_capture_regions.aggregate(hl.agg.counter(aou_wgs_capture_regions.interval.start.contig))"
   ]
  },
  {
   "cell_type": "code",
   "execution_count": null,
   "metadata": {},
   "outputs": [],
   "source": [
    "ukb_only_outside_wgs_capture_region = ukb_only.filter(\n",
    "    hl.is_defined(aou_wgs_capture_regions[ukb_only.locus]), keep = False)"
   ]
  },
  {
   "cell_type": "code",
   "execution_count": null,
   "metadata": {},
   "outputs": [],
   "source": [
    "ukb_only_outside_wgs_capture_region.count()"
   ]
  },
  {
   "cell_type": "markdown",
   "metadata": {},
   "source": [
    "## How many unmerged variants are due to filter flags?"
   ]
  },
  {
   "cell_type": "markdown",
   "metadata": {},
   "source": [
    "### UKB-only variants filtered from AoU"
   ]
  },
  {
   "cell_type": "code",
   "execution_count": null,
   "metadata": {},
   "outputs": [],
   "source": [
    "aou_wgs_rows = aou_wgs.rows()"
   ]
  },
  {
   "cell_type": "code",
   "execution_count": null,
   "metadata": {},
   "outputs": [],
   "source": [
    "aou_wgs_rows.group_by(aou_wgs_rows.filters).aggregate(n = hl.agg.count()).show()"
   ]
  },
  {
   "cell_type": "code",
   "execution_count": null,
   "metadata": {},
   "outputs": [],
   "source": [
    "aou_wgs_has_filter_flag = aou_wgs_rows.filter(hl.is_defined(aou_wgs_rows.filters), keep = True)"
   ]
  },
  {
   "cell_type": "code",
   "execution_count": null,
   "metadata": {},
   "outputs": [],
   "source": [
    "aou_wgs_has_filter_flag.count()"
   ]
  },
  {
   "cell_type": "code",
   "execution_count": null,
   "metadata": {},
   "outputs": [],
   "source": [
    "# For efficiency, do not pass the biallelic variants to the split method,\n",
    "# just add the corresponding annotations.\n",
    "aou_wgs_has_filter_flag_bi = aou_wgs_has_filter_flag.filter(hl.len(aou_wgs_has_filter_flag.alleles) == 2)\n",
    "aou_wgs_has_filter_flag_bi = aou_wgs_has_filter_flag_bi.annotate(a_index = 1)\n",
    "aou_wgs_has_filter_flag_bi = aou_wgs_has_filter_flag_bi.annotate(was_split = False)\n",
    "\n",
    "# Split the multi-allelic sites into biallelic sites.\n",
    "aou_wgs_has_filter_flag_multi = aou_wgs_has_filter_flag.filter(hl.len(aou_wgs_has_filter_flag.alleles) > 2)\n",
    "aou_wgs_has_filter_flag_split = hl.split_multi_hts(aou_wgs_has_filter_flag_multi,\n",
    "                                                   keep_star=False,\n",
    "                                                   left_aligned=False,\n",
    "                                                   vep_root='vep',\n",
    "                                                   permit_shuffle=False)\n",
    "\n",
    "# Union the two collections.\n",
    "aou_wgs_has_filter_flag = aou_wgs_has_filter_flag_split.union(aou_wgs_has_filter_flag_bi)\n",
    "aou_wgs_has_filter_flag.describe()"
   ]
  },
  {
   "cell_type": "code",
   "execution_count": null,
   "metadata": {},
   "outputs": [],
   "source": [
    "aou_wgs_has_filter_flag.count()"
   ]
  },
  {
   "cell_type": "code",
   "execution_count": null,
   "metadata": {},
   "outputs": [],
   "source": [
    "ukb_only_aou_flags = ukb_only.annotate(aou_filter = aou_wgs_has_filter_flag[ukb_only.key].filters)\n",
    "ukb_only_aou_flags.describe()"
   ]
  },
  {
   "cell_type": "code",
   "execution_count": null,
   "metadata": {},
   "outputs": [],
   "source": [
    "ukb_only_aou_flags.group_by(ukb_only_aou_flags.aou_filter).aggregate(n = hl.agg.count()).show()"
   ]
  },
  {
   "cell_type": "markdown",
   "metadata": {},
   "source": [
    "#### Extract UKB-only allele frequencies to a CSV"
   ]
  },
  {
   "cell_type": "code",
   "execution_count": null,
   "metadata": {},
   "outputs": [],
   "source": [
    "ukb_only_without_aou_filters = ukb_only_aou_flags.filter(hl.is_missing(ukb_only_aou_flags.aou_filter))\n",
    "ukb_only_without_aou_filters.count()"
   ]
  },
  {
   "cell_type": "code",
   "execution_count": null,
   "metadata": {},
   "outputs": [],
   "source": [
    "ukb_only_without_aou_filters.describe()"
   ]
  },
  {
   "cell_type": "code",
   "execution_count": null,
   "metadata": {},
   "outputs": [],
   "source": [
    "ukb_only_without_aou_filters.ukb_info.AF[ukb_only_without_aou_filters.ukb_a_index - 1].show()"
   ]
  },
  {
   "cell_type": "code",
   "execution_count": null,
   "metadata": {},
   "outputs": [],
   "source": [
    "ukb_only_allele_freq_df = ukb_only_without_aou_filters.select(\n",
    "    AF = ukb_only_without_aou_filters.ukb_info.AF[ukb_only_without_aou_filters.ukb_a_index - 1]).to_pandas()\n",
    "ukb_only_allele_freq_df.shape"
   ]
  },
  {
   "cell_type": "code",
   "execution_count": null,
   "metadata": {},
   "outputs": [],
   "source": [
    "ukb_only_allele_freq_df.to_csv('ukb_only_allele_freq.csv', index=False)"
   ]
  },
  {
   "cell_type": "code",
   "execution_count": null,
   "metadata": {},
   "outputs": [],
   "source": [
    "!gsutil cp -v ukb_only_allele_freq.csv {RESULTS_DIR}"
   ]
  },
  {
   "cell_type": "markdown",
   "metadata": {},
   "source": [
    "#### Common UKB-only "
   ]
  },
  {
   "cell_type": "code",
   "execution_count": null,
   "metadata": {},
   "outputs": [],
   "source": [
    "ukb_only_aou_flags_common = ukb_only_aou_flags.filter(ukb_only_aou_flags.ukb_info.AF[ukb_only_aou_flags.ukb_a_index - 1] > 0.01, keep=True)\n",
    "ukb_only_aou_flags_common = ukb_only_aou_flags_common.filter(ukb_only_aou_flags_common.ukb_info.AF[ukb_only_aou_flags_common.ukb_a_index - 1] < 0.99, keep=True)"
   ]
  },
  {
   "cell_type": "code",
   "execution_count": null,
   "metadata": {},
   "outputs": [],
   "source": [
    "ukb_only_aou_flags_common.group_by(ukb_only_aou_flags_common.aou_filter).aggregate(n = hl.agg.count()).show()"
   ]
  },
  {
   "cell_type": "markdown",
   "metadata": {},
   "source": [
    "### AoU-only variants filtered from UKB"
   ]
  },
  {
   "cell_type": "code",
   "execution_count": null,
   "metadata": {},
   "outputs": [],
   "source": [
    "ukb_exomes_rows = ukb_exomes.rows()"
   ]
  },
  {
   "cell_type": "code",
   "execution_count": null,
   "metadata": {},
   "outputs": [],
   "source": [
    "ukb_exomes_rows.group_by(ukb_exomes_rows.filters).aggregate(n = hl.agg.count()).show()"
   ]
  },
  {
   "cell_type": "code",
   "execution_count": null,
   "metadata": {},
   "outputs": [],
   "source": [
    "ukb_exomes_has_filter_flag = ukb_exomes_rows.filter(hl.is_defined(ukb_exomes_rows.filters), keep = True)"
   ]
  },
  {
   "cell_type": "code",
   "execution_count": null,
   "metadata": {},
   "outputs": [],
   "source": [
    "ukb_exomes_has_filter_flag.count()"
   ]
  },
  {
   "cell_type": "code",
   "execution_count": null,
   "metadata": {},
   "outputs": [],
   "source": [
    "# For efficiency, do not pass the biallelic variants to the split method,\n",
    "# just add the corresponding annotations.\n",
    "ukb_exomes_has_filter_flag_bi = ukb_exomes_has_filter_flag.filter(hl.len(ukb_exomes_has_filter_flag.alleles) == 2)\n",
    "ukb_exomes_has_filter_flag_bi = ukb_exomes_has_filter_flag_bi.annotate(a_index = 1)\n",
    "ukb_exomes_has_filter_flag_bi = ukb_exomes_has_filter_flag_bi.annotate(was_split = False)\n",
    "\n",
    "# Split the multi-allelic sites into biallelic sites.\n",
    "ukb_exomes_has_filter_flag_multi = ukb_exomes_has_filter_flag.filter(hl.len(ukb_exomes_has_filter_flag.alleles) > 2)\n",
    "ukb_exomes_has_filter_flag_split = hl.split_multi_hts(ukb_exomes_has_filter_flag_multi,\n",
    "                                                   keep_star=False,\n",
    "                                                   left_aligned=False,\n",
    "                                                   vep_root='vep',\n",
    "                                                   permit_shuffle=False)\n",
    "\n",
    "# Union the two collections.\n",
    "ukb_exomes_has_filter_flag = ukb_exomes_has_filter_flag_split.union(ukb_exomes_has_filter_flag_bi)\n",
    "ukb_exomes_has_filter_flag.describe()"
   ]
  },
  {
   "cell_type": "code",
   "execution_count": null,
   "metadata": {},
   "outputs": [],
   "source": [
    "ukb_exomes_has_filter_flag.count()"
   ]
  },
  {
   "cell_type": "code",
   "execution_count": null,
   "metadata": {},
   "outputs": [],
   "source": [
    "aou_only_ukb_flags = aou_only.annotate(ukb_filter = ukb_exomes_has_filter_flag[aou_only.key].filters)\n",
    "aou_only_ukb_flags.describe()"
   ]
  },
  {
   "cell_type": "code",
   "execution_count": null,
   "metadata": {},
   "outputs": [],
   "source": [
    "aou_only_ukb_flags.group_by(aou_only_ukb_flags.ukb_filter).aggregate(n = hl.agg.count()).show()"
   ]
  },
  {
   "cell_type": "markdown",
   "metadata": {},
   "source": [
    "#### Extract UKB-only allele frequencies to a CSV"
   ]
  },
  {
   "cell_type": "code",
   "execution_count": null,
   "metadata": {},
   "outputs": [],
   "source": [
    "aou_only_without_ukb_filters = aou_only_ukb_flags.filter(hl.is_missing(aou_only_ukb_flags.ukb_filter))"
   ]
  },
  {
   "cell_type": "code",
   "execution_count": null,
   "metadata": {},
   "outputs": [],
   "source": [
    "aou_only_without_ukb_filters.describe()"
   ]
  },
  {
   "cell_type": "code",
   "execution_count": null,
   "metadata": {},
   "outputs": [],
   "source": [
    "aou_only_allele_freq_df = aou_only_without_ukb_filters.select(\n",
    "    AF = aou_only_without_ukb_filters.aou_info.AF[aou_only_without_ukb_filters.aou_a_index - 1]).to_pandas()\n",
    "aou_only_allele_freq_df.shape"
   ]
  },
  {
   "cell_type": "code",
   "execution_count": null,
   "metadata": {},
   "outputs": [],
   "source": [
    "aou_only_allele_freq_df.to_csv('aou_only_allele_freq.csv', index=False)"
   ]
  },
  {
   "cell_type": "code",
   "execution_count": null,
   "metadata": {},
   "outputs": [],
   "source": [
    "!gsutil cp -v aou_only_allele_freq.csv {RESULTS_DIR}"
   ]
  },
  {
   "cell_type": "markdown",
   "metadata": {},
   "source": [
    "#### Common AoU-only"
   ]
  },
  {
   "cell_type": "code",
   "execution_count": null,
   "metadata": {},
   "outputs": [],
   "source": [
    "aou_only_ukb_flags_common = aou_only_ukb_flags.filter(aou_only_ukb_flags.aou_info.AF[aou_only_ukb_flags.aou_a_index - 1] > 0.01, keep=True)\n",
    "aou_only_ukb_flags_common = aou_only_ukb_flags_common.filter(aou_only_ukb_flags_common.aou_info.AF[aou_only_ukb_flags_common.aou_a_index - 1] < 0.99, keep=True)"
   ]
  },
  {
   "cell_type": "code",
   "execution_count": null,
   "metadata": {},
   "outputs": [],
   "source": [
    "aou_only_ukb_flags_common.group_by(aou_only_ukb_flags_common.ukb_filter).aggregate(n = hl.agg.count()).show()"
   ]
  },
  {
   "cell_type": "markdown",
   "metadata": {},
   "source": [
    "### TODO write out VCFs using annotated 'only' variants\n",
    "\n",
    "add 'aou' or 'ukb' to the filter flag values to differentiate"
   ]
  },
  {
   "cell_type": "markdown",
   "metadata": {},
   "source": [
    "## TODO gnomAD for the common variants"
   ]
  },
  {
   "cell_type": "markdown",
   "metadata": {},
   "source": [
    "## TODO characterize common unmerged variants by ancestry"
   ]
  },
  {
   "cell_type": "raw",
   "metadata": {},
   "source": [
    "vep = hl.import_vcf('TODO-unmerged.annotated.vcf')"
   ]
  },
  {
   "cell_type": "markdown",
   "metadata": {},
   "source": [
    "## For the common unmerged AoU variants, what do the overlapping UKB variants look like?\n",
    "\n",
    "**Answer**: see details below"
   ]
  },
  {
   "cell_type": "markdown",
   "metadata": {},
   "source": [
    "### Show common unmerged from AoU"
   ]
  },
  {
   "cell_type": "markdown",
   "metadata": {},
   "source": [
    "<div class=\"alert alert-block alert-success\">\n",
    "Sorted by AF, decending.</div>\n"
   ]
  },
  {
   "cell_type": "code",
   "execution_count": null,
   "metadata": {},
   "outputs": [],
   "source": [
    "aou_only_common.order_by(\n",
    "    hl.desc(aou_only_common.aou_info.AF[aou_only_common.aou_a_index - 1])).show(20)"
   ]
  },
  {
   "cell_type": "code",
   "execution_count": null,
   "metadata": {},
   "outputs": [],
   "source": [
    "aou_only_common_top20_loci = aou_only_common.order_by(\n",
    "    hl.desc(aou_only_common.aou_info.AF[aou_only_common.aou_a_index - 1])).locus.take(20)"
   ]
  },
  {
   "cell_type": "markdown",
   "metadata": {},
   "source": [
    "<div class=\"alert alert-block alert-success\">\n",
    "Of those top 20 by AF, now sorted by position, ascending.</div>"
   ]
  },
  {
   "cell_type": "code",
   "execution_count": null,
   "metadata": {},
   "outputs": [],
   "source": [
    "aou_only_common_top20 = aou_only_common.filter(\n",
    "    hl.literal(aou_only_common_top20_loci).contains(aou_only_common.locus))\n",
    "aou_only_common_top20 = aou_only_common_top20.select(\n",
    "    aou_only_common_top20.aou_was_split,\n",
    "    aou_only_common_top20.aou_filters,\n",
    "    AF = aou_only_common_top20.aou_info.AF[aou_only_common_top20.aou_a_index - 1]\n",
    "    )\n",
    "\n",
    "aou_only_common_top20.order_by(aou_only_common_top20.locus).show(50)"
   ]
  },
  {
   "cell_type": "markdown",
   "metadata": {},
   "source": [
    "<div class=\"alert alert-block alert-success\">\n",
    "    Show UKB <b>source data</b> locus matches.\n",
    "    </div>"
   ]
  },
  {
   "cell_type": "code",
   "execution_count": null,
   "metadata": {},
   "outputs": [],
   "source": [
    "ukb_locus_matches = ukb_exomes.filter_rows(\n",
    "    hl.literal(aou_only_common_top20_loci).contains(ukb_exomes.locus)).rows()\n",
    "ukb_locus_matches = ukb_locus_matches.select(\n",
    "    ukb_locus_matches.filters,\n",
    "    ukb_locus_matches.info.AF\n",
    ")\n",
    "\n",
    "ukb_locus_matches.order_by(ukb_locus_matches.locus).show(50)"
   ]
  },
  {
   "cell_type": "markdown",
   "metadata": {},
   "source": [
    "<div class=\"alert alert-block alert-success\">\n",
    "    Show UKB<b>-only</b> locus matches.\n",
    "    </div>"
   ]
  },
  {
   "cell_type": "code",
   "execution_count": null,
   "metadata": {},
   "outputs": [],
   "source": [
    "ukb_only_locus_matches = ukb_only.filter(\n",
    "    hl.literal(aou_only_common_top20_loci).contains(ukb_only.locus))\n",
    "ukb_only_locus_matches = ukb_only_locus_matches.select(\n",
    "    ukb_only_locus_matches.ukb_was_split,\n",
    "    AF = ukb_only_locus_matches.ukb_info.AF[ukb_only_locus_matches.ukb_a_index - 1]\n",
    ")\n",
    "\n",
    "ukb_only_locus_matches.order_by(ukb_only_locus_matches.locus).show(50)"
   ]
  },
  {
   "cell_type": "markdown",
   "metadata": {},
   "source": [
    "<div class=\"alert alert-block alert-success\">\n",
    "    Show AoU <b>source data</b> locus matches.\n",
    "    </div>"
   ]
  },
  {
   "cell_type": "code",
   "execution_count": null,
   "metadata": {},
   "outputs": [],
   "source": [
    "aou_locus_matches = aou_wgs.filter_rows(\n",
    "    hl.literal(aou_only_common_top20_loci).contains(aou_wgs.locus)).rows()\n",
    "aou_locus_matches = aou_locus_matches.select(aou_locus_matches.info.AF)\n",
    "\n",
    "aou_locus_matches.order_by(aou_locus_matches.locus).show(50)"
   ]
  },
  {
   "cell_type": "markdown",
   "metadata": {},
   "source": [
    "### Examine a common AoU SNP"
   ]
  },
  {
   "cell_type": "code",
   "execution_count": null,
   "metadata": {},
   "outputs": [],
   "source": [
    "[(x, aou_only_common_top20_loci[x]) for x in range(0, len(aou_only_common_top20_loci))]"
   ]
  },
  {
   "cell_type": "code",
   "execution_count": null,
   "metadata": {},
   "outputs": [],
   "source": [
    "one_aou_variant = [aou_only_common_top20_loci[4]]\n",
    "\n",
    "one_aou_variant"
   ]
  },
  {
   "cell_type": "code",
   "execution_count": null,
   "metadata": {},
   "outputs": [],
   "source": [
    "ukb_exomes.filter_rows(\n",
    "    hl.literal(one_aou_variant).contains(ukb_exomes.locus)).show(20)"
   ]
  },
  {
   "cell_type": "code",
   "execution_count": null,
   "metadata": {},
   "outputs": [],
   "source": [
    "ukb_nearby_common_aou = hl.filter_intervals(\n",
    "     ukb_exomes,\n",
    "     [hl.interval(hl.locus(x.contig, x.position - 20), hl.locus(x.contig, x.position + 20),\n",
    "                  includes_start=True, includes_end=True) for x in one_aou_variant])"
   ]
  },
  {
   "cell_type": "code",
   "execution_count": null,
   "metadata": {},
   "outputs": [],
   "source": [
    "ukb_nearby_common_aou.show(20)"
   ]
  },
  {
   "cell_type": "markdown",
   "metadata": {},
   "source": [
    "## For the common unmerged UKB variants, what do the overlapping AoU variants look like?\n",
    "\n",
    "**Answer**: see details below"
   ]
  },
  {
   "cell_type": "markdown",
   "metadata": {},
   "source": [
    "### Show common unmerged from UKB"
   ]
  },
  {
   "cell_type": "markdown",
   "metadata": {},
   "source": [
    "<div class=\"alert alert-block alert-success\">\n",
    "Sorted by AF, decending.</div>\n"
   ]
  },
  {
   "cell_type": "code",
   "execution_count": null,
   "metadata": {},
   "outputs": [],
   "source": [
    "ukb_only_common.order_by(\n",
    "    hl.desc(ukb_only_common.ukb_info.AF[ukb_only_common.ukb_a_index - 1])).show(20)"
   ]
  },
  {
   "cell_type": "code",
   "execution_count": null,
   "metadata": {},
   "outputs": [],
   "source": [
    "ukb_only_common_top20_loci = ukb_only_common.order_by(\n",
    "    hl.desc(ukb_only_common.ukb_info.AF[ukb_only_common.ukb_a_index - 1])).locus.take(20)"
   ]
  },
  {
   "cell_type": "markdown",
   "metadata": {},
   "source": [
    "<div class=\"alert alert-block alert-success\">\n",
    "Of those top 20 by AF, now sorted by position, ascending.</div>"
   ]
  },
  {
   "cell_type": "code",
   "execution_count": null,
   "metadata": {},
   "outputs": [],
   "source": [
    "ukb_only_common_top20 = ukb_only_common.filter(\n",
    "    hl.literal(ukb_only_common_top20_loci).contains(ukb_only_common.locus))\n",
    "ukb_only_common_top20 = ukb_only_common_top20.select(\n",
    "    ukb_only_common_top20.ukb_was_split,\n",
    "    ukb_only_common_top20.ukb_filters,\n",
    "    AF = ukb_only_common_top20.ukb_info.AF[ukb_only_common_top20.ukb_a_index - 1]\n",
    "    )\n",
    "\n",
    "ukb_only_common_top20.order_by(ukb_only_common_top20.locus).show(50)"
   ]
  },
  {
   "cell_type": "markdown",
   "metadata": {},
   "source": [
    "<div class=\"alert alert-block alert-success\">\n",
    "    Show AoU <b>source data</b> locus matches.\n",
    "    </div>"
   ]
  },
  {
   "cell_type": "code",
   "execution_count": null,
   "metadata": {},
   "outputs": [],
   "source": [
    "aou_locus_matches = aou_wgs.filter_rows(\n",
    "    hl.literal(ukb_only_common_top20_loci).contains(aou_wgs.locus)).rows()\n",
    "aou_locus_matches = aou_locus_matches.select(\n",
    "    aou_locus_matches.filters,\n",
    "    aou_locus_matches.info.AF\n",
    ")\n",
    "\n",
    "aou_locus_matches.order_by(aou_locus_matches.locus).show(50)"
   ]
  },
  {
   "cell_type": "markdown",
   "metadata": {},
   "source": [
    "<div class=\"alert alert-block alert-success\">\n",
    "    Show AoU<b>-only</b> locus matches.\n",
    "    </div>"
   ]
  },
  {
   "cell_type": "code",
   "execution_count": null,
   "metadata": {},
   "outputs": [],
   "source": [
    "aou_only_locus_matches = aou_only.filter(\n",
    "    hl.literal(ukb_only_common_top20_loci).contains(aou_only.locus))\n",
    "aou_only_locus_matches = aou_only_locus_matches.select(\n",
    "    aou_only_locus_matches.aou_was_split,\n",
    "    AF = aou_only_locus_matches.aou_info.AF[aou_only_locus_matches.aou_a_index - 1]\n",
    ")\n",
    "\n",
    "aou_only_locus_matches.order_by(aou_only_locus_matches.locus).show(50)"
   ]
  },
  {
   "cell_type": "markdown",
   "metadata": {},
   "source": [
    "<div class=\"alert alert-block alert-success\">\n",
    "    Show UKB <b>source data</b> locus matches.\n",
    "    </div>"
   ]
  },
  {
   "cell_type": "code",
   "execution_count": null,
   "metadata": {},
   "outputs": [],
   "source": [
    "ukb_locus_matches = ukb_exomes.filter_rows(\n",
    "    hl.literal(ukb_only_common_top20_loci).contains(ukb_exomes.locus)).rows()\n",
    "ukb_locus_matches = ukb_locus_matches.select(ukb_locus_matches.info.AF)\n",
    "\n",
    "ukb_locus_matches.order_by(ukb_locus_matches.locus).show(50)"
   ]
  },
  {
   "cell_type": "markdown",
   "metadata": {},
   "source": [
    "### Examine a common UKB SNP"
   ]
  },
  {
   "cell_type": "code",
   "execution_count": null,
   "metadata": {},
   "outputs": [],
   "source": [
    "[(x, ukb_only_common_top20_loci[x]) for x in range(0, len(ukb_only_common_top20_loci))]"
   ]
  },
  {
   "cell_type": "code",
   "execution_count": null,
   "metadata": {},
   "outputs": [],
   "source": [
    "one_ukb_variant = [ukb_only_common_top20_loci[0]]\n",
    "\n",
    "one_ukb_variant"
   ]
  },
  {
   "cell_type": "code",
   "execution_count": null,
   "metadata": {},
   "outputs": [],
   "source": [
    "aou_wgs.filter_rows(\n",
    "    hl.literal(one_ukb_variant).contains(aou_wgs.locus)).show(20)"
   ]
  },
  {
   "cell_type": "code",
   "execution_count": null,
   "metadata": {},
   "outputs": [],
   "source": [
    "aou_nearby_common_ukb = hl.filter_intervals(\n",
    "     aou_wgs,\n",
    "     [hl.interval(hl.locus(x.contig, x.position - 20), hl.locus(x.contig, x.position + 20),\n",
    "                  includes_start=True, includes_end=True) for x in one_ukb_variant])"
   ]
  },
  {
   "cell_type": "code",
   "execution_count": null,
   "metadata": {},
   "outputs": [],
   "source": [
    "aou_nearby_common_ukb.show(20)"
   ]
  },
  {
   "cell_type": "markdown",
   "metadata": {},
   "source": [
    "# Provenance"
   ]
  },
  {
   "cell_type": "code",
   "execution_count": null,
   "metadata": {},
   "outputs": [],
   "source": [
    "# Copy the Hail log to the workspace bucket so that we can retain it.\n",
    "!gzip --keep {HAIL_LOG}\n",
    "!gsutil cp -v {HAIL_LOG}.gz {HAIL_LOG_DIR_FOR_PROVENANCE}"
   ]
  },
  {
   "cell_type": "code",
   "execution_count": null,
   "metadata": {},
   "outputs": [],
   "source": [
    "print(datetime.now())"
   ]
  },
  {
   "cell_type": "code",
   "execution_count": null,
   "metadata": {},
   "outputs": [],
   "source": [
    "!pip3 freeze"
   ]
  }
 ],
 "metadata": {
  "kernelspec": {
   "display_name": "Python 3",
   "language": "python",
   "name": "python3"
  },
  "language_info": {
   "codemirror_mode": {
    "name": "ipython",
    "version": 3
   },
   "file_extension": ".py",
   "mimetype": "text/x-python",
   "name": "python",
   "nbconvert_exporter": "python",
   "pygments_lexer": "ipython3",
   "version": "3.7.10"
  },
  "toc": {
   "base_numbering": 1,
   "nav_menu": {},
   "number_sections": true,
   "sideBar": true,
   "skip_h1_title": false,
   "title_cell": "Table of Contents",
   "title_sidebar": "Contents",
   "toc_cell": false,
   "toc_position": {
    "height": "calc(100% - 180px)",
    "left": "10px",
    "top": "150px",
    "width": "355px"
   },
   "toc_section_display": true,
   "toc_window_display": true
  }
 },
 "nbformat": 4,
 "nbformat_minor": 2
}

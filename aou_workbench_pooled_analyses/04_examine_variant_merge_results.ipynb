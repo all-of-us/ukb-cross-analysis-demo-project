{
 "cells": [
  {
   "cell_type": "markdown",
   "metadata": {},
   "source": [
    "# Examine variant merge results"
   ]
  },
  {
   "cell_type": "markdown",
   "metadata": {},
   "source": [
    "In this notebook, we use [Hail](https://hail.is/) to examine the results of the merge of AoU and UKB variants. This notebook is not part of the main analysis and can be skipped entirely. It can also be run interactively on a small partion of the genome to do some basic checking.\n",
    "\n",
    "Note that this work is part of a larger project to [Demonstrate the Potential for Pooled Analysis of All of Us and UK Biobank Genomic Data](https://github.com/all-of-us/ukb-cross-analysis-demo-project). Specifically this is for the portion of the project that is the **pooled** analysis."
   ]
  },
  {
   "cell_type": "markdown",
   "metadata": {},
   "source": [
    "# Setup \n",
    "\n",
    "<div class=\"alert alert-block alert-warning\">\n",
    "    <b>Cloud Environment</b>: This notebook was written for use on the <i>All of Us</i> Workbench.\n",
    "    <ul>\n",
    "        <li>Use \"Recommended Environment\" <kbd><b>Hail Genomics Analysis</b></kbd> which creates compute type <kbd>Dataproc Cluster</kbd> with reasonable defaults for CPU, RAM, disk, and number of workers. If you like, you can increase the number of workers to make this job complete faster.</li>\n",
    "        <li>This notebook is not part of the main analysis and can be skipped entirely.</li>\n",
    "        <ul>\n",
    "            <li>It can be run interactively and/or on a small partion of the genome to do some basic checking.</li>\n",
    "            <li>When run on chr1 - chr22, it took 13 hours with 10 workers with Hail version 0.2.74-0c3a74d12093.</li>\n",
    "        </ul>\n",
    "    </ul>\n",
    "</div>"
   ]
  },
  {
   "cell_type": "code",
   "execution_count": null,
   "metadata": {},
   "outputs": [],
   "source": [
    "from datetime import datetime\n",
    "import hail as hl\n",
    "import math\n",
    "import os\n",
    "import time"
   ]
  },
  {
   "cell_type": "markdown",
   "metadata": {},
   "source": [
    "## Define constants"
   ]
  },
  {
   "cell_type": "code",
   "execution_count": null,
   "metadata": {
    "tags": [
     "parameters"
    ]
   },
   "outputs": [],
   "source": [
    "# Papermill parameters. See https://papermill.readthedocs.io/en/latest/usage-parameterize.html\n",
    "\n",
    "#---[ Inputs ]---\n",
    "# Matrix table was provided by AoU.\n",
    "AOU_MT = 'gs://fc-secure-4adb21f6-46f4-4a79-99f9-afd63890c6d0/data/beta/beta_wgs_98622.mt'\n",
    "# The gnomAD v3.1.2 data set contains 76,156 whole genomes (and no exomes), all mapped to the GRCh38 reference sequence.\n",
    "# See also https://gnomad.broadinstitute.org/downloads\n",
    "GNOMAD_TAB = 'gs://gcp-public-data--gnomad/release/3.1.2/ht/genomes/gnomad.genomes.v3.1.2.sites.ht'\n",
    "# Matrix table was created from UKB 200k exome release VCFs.\n",
    "# Note: The UKB matrix table was created via notebook 'aou_workbench_pooled_analyses/matrix_table_creation/create_matrix_tables.ipynb'\n",
    "# and then repartitioned via notebook 'aou_workbench_pooled_analyses/matrix_table_creation/redo_partitions'.\n",
    "UKB_MT = 'gs://fc-secure-fd6786bf-6c28-4f33-ac30-3860fbeee5bb/data/ukb/exomes/full_dataset_fewer_partitions.mt'\n",
    "# Capture regions used for AoU WGS data.\n",
    "WGS_CAPTURE_REGIONS = 'gs://gcp-public-data--broad-references/hg38/v0/wgs_calling_regions.hg38.noCentromeres.noTelomeres.interval_list'\n",
    "# These matrix tables were created via notebook `aou_workbench_pooled_analyses/03_merge_variants.ipynb`. \n",
    "MERGED_MT = 'gs://fc-secure-e53e4a44-7fe2-42b7-89b7-01aae1e399f7/data/pooled/geno/20220209/merged-aou3-ukb-filtered-chr1-chr22.mt'\n",
    "AOU_ONLY_TAB = 'gs://fc-secure-e53e4a44-7fe2-42b7-89b7-01aae1e399f7/data/pooled/geno/20220209/aou3-without_ukb-filtered-chr1-chr22.tab'\n",
    "UKB_ONLY_TAB = 'gs://fc-secure-fd6786bf-6c28-4f33-ac30-3860fbeee5bb/data/pooled/geno/20220505/ukb-without_aou3-filtered-chr1-chr22.tab'\n",
    "\n",
    "# Use autosomes only.\n",
    "INTERVALS_TO_EXAMINE = ['chr1-chr22']\n",
    "INTERVALS_TO_EXAMINE_NAME = '_'.join(INTERVALS_TO_EXAMINE).replace(':', 'range')\n",
    "\n",
    "# Some cells are useful to run when testing over a small region of the genome, but unnecessary\n",
    "# when running over all of the data.\n",
    "SKIP_SOME_CELLS = True\n",
    "\n",
    "#---[ Outputs ]---\n",
    "# Create a timestamp for a folder of results generated today.\n",
    "DATESTAMP = time.strftime('%Y%m%d')\n",
    "TIMESTAMP = time.strftime('%Y%m%d_%H%M%S')\n",
    "WORK_DIR = !pwd\n",
    "\n",
    "RESULTS_DIR = f'{os.getenv(\"WORKSPACE_BUCKET\")}/data/pooled/examine-geno/{DATESTAMP}/'\n",
    "MERGED_ALLELE_FREQUENCY = f'merged_allele_freq-{INTERVALS_TO_EXAMINE_NAME}.tsv'\n",
    "AOU_ONLY_ALLELE_FREQUENCY = f'aou_only_allele_freq-{INTERVALS_TO_EXAMINE_NAME}.tsv'\n",
    "UKB_ONLY_ALLELE_FREQUENCY = f'ukb_only_allele_freq-{INTERVALS_TO_EXAMINE_NAME}.tsv'\n",
    "HAIL_LOG = f'{WORK_DIR[0]}/hail-examine-merged-variants-{TIMESTAMP}.log'\n",
    "HAIL_LOG_DIR_FOR_PROVENANCE = f'{os.getenv(\"WORKSPACE_BUCKET\")}/hail-logs/{DATESTAMP}/'"
   ]
  },
  {
   "cell_type": "markdown",
   "metadata": {},
   "source": [
    "## Check access"
   ]
  },
  {
   "cell_type": "code",
   "execution_count": null,
   "metadata": {},
   "outputs": [],
   "source": [
    "!gsutil ls {MERGED_MT}\n",
    "#!gsutil du -sh {MERGED_MT}"
   ]
  },
  {
   "cell_type": "code",
   "execution_count": null,
   "metadata": {},
   "outputs": [],
   "source": [
    "!gsutil ls {AOU_ONLY_TAB}\n",
    "#!gsutil du -sh {AOU_ONLY_TAB}"
   ]
  },
  {
   "cell_type": "code",
   "execution_count": null,
   "metadata": {},
   "outputs": [],
   "source": [
    "!gsutil ls {UKB_ONLY_TAB}\n",
    "#!gsutil du -sh {UKB_ONLY_TAB}"
   ]
  },
  {
   "cell_type": "markdown",
   "metadata": {},
   "source": [
    "## Start Hail "
   ]
  },
  {
   "cell_type": "code",
   "execution_count": null,
   "metadata": {},
   "outputs": [],
   "source": [
    "# See also https://towardsdatascience.com/fetch-failed-exception-in-apache-spark-decrypting-the-most-common-causes-b8dff21075c\n",
    "# See https://spark.apache.org/docs/2.4.7/configuration.html\n",
    "\n",
    "EXTRA_SPARK_CONFIG = {\n",
    "    # If set to \"true\", performs speculative execution of tasks. This means if one or more tasks are running\n",
    "    # slowly in a stage, they will be re-launched.\n",
    "    'spark.speculation': 'true', # Default is false.\n",
    "    \n",
    "    # Fraction of tasks which must be complete before speculation is enabled for a particular stage.\n",
    "    'spark.speculation.quantile': '0.95', # Default is 0.75\n",
    "\n",
    "    # Default timeout for all network interactions. This config will be used in place of \n",
    "    # spark.core.connection.ack.wait.timeout, spark.storage.blockManagerSlaveTimeoutMs, \n",
    "    # spark.shuffle.io.connectionTimeout, spark.rpc.askTimeout or spark.rpc.lookupTimeout if they are not configured.\n",
    "    'spark.network.timeout': '180s', # Default is 120s\n",
    "        \n",
    "    # (Netty only) Fetches that fail due to IO-related exceptions are automatically retried if this is set to a\n",
    "    # non-zero value. This retry logic helps stabilize large shuffles in the face of long GC pauses or transient\n",
    "    # network connectivity issues.\n",
    "    'spark.shuffle.io.maxRetries': '10',  # Default is 3\n",
    "    \n",
    "    # (Netty only) How long to wait between retries of fetches. The maximum delay caused by retrying is 15 seconds\n",
    "    # by default, calculated as maxRetries * retryWait.\n",
    "    'spark.shuffle.io.retryWait': '15s',  # Default is 5s\n",
    "    \n",
    "    # Number of failures of any particular task before giving up on the job. The total number of failures spread\n",
    "    # across different tasks will not cause the job to fail; a particular task has to fail this number of attempts.\n",
    "    # Should be greater than or equal to 1. Number of allowed retries = this value - 1.\n",
    "    'spark.task.maxFailures': '10', # Default is 4.\n",
    "\n",
    "    # Number of consecutive stage attempts allowed before a stage is aborted.\n",
    "    'spark.stage.maxConsecutiveAttempts': '10' # Default is 4.\n",
    "}"
   ]
  },
  {
   "cell_type": "code",
   "execution_count": null,
   "metadata": {},
   "outputs": [],
   "source": [
    "hl.init(spark_conf=EXTRA_SPARK_CONFIG,\n",
    "        min_block_size=50,\n",
    "        default_reference='GRCh38',\n",
    "        log=HAIL_LOG)"
   ]
  },
  {
   "cell_type": "markdown",
   "metadata": {},
   "source": [
    "Check the configuration."
   ]
  },
  {
   "cell_type": "code",
   "execution_count": null,
   "metadata": {},
   "outputs": [],
   "source": [
    "sc = hl.spark_context()\n",
    "config = sc._conf.getAll()\n",
    "config.sort()\n",
    "config"
   ]
  },
  {
   "cell_type": "code",
   "execution_count": null,
   "metadata": {},
   "outputs": [],
   "source": [
    "start_all = datetime.now()\n",
    "print(start_all)"
   ]
  },
  {
   "cell_type": "markdown",
   "metadata": {},
   "source": [
    "# Read merged matrix table"
   ]
  },
  {
   "cell_type": "code",
   "execution_count": null,
   "metadata": {},
   "outputs": [],
   "source": [
    "merged = hl.read_matrix_table(MERGED_MT)"
   ]
  },
  {
   "cell_type": "code",
   "execution_count": null,
   "metadata": {},
   "outputs": [],
   "source": [
    "merged.describe()"
   ]
  },
  {
   "cell_type": "code",
   "execution_count": null,
   "metadata": {},
   "outputs": [],
   "source": [
    "merged.count()"
   ]
  },
  {
   "cell_type": "code",
   "execution_count": null,
   "metadata": {},
   "outputs": [],
   "source": [
    "merged.n_partitions()"
   ]
  },
  {
   "cell_type": "code",
   "execution_count": null,
   "metadata": {},
   "outputs": [],
   "source": [
    "merged = hl.filter_intervals(\n",
    "    merged,\n",
    "    [hl.parse_locus_interval(x) for x in INTERVALS_TO_EXAMINE],\n",
    "    keep=True)"
   ]
  },
  {
   "cell_type": "code",
   "execution_count": null,
   "metadata": {},
   "outputs": [],
   "source": [
    "merged.aggregate_cols(hl.agg.counter(merged.cohort))"
   ]
  },
  {
   "cell_type": "code",
   "execution_count": null,
   "metadata": {},
   "outputs": [],
   "source": [
    "hl.summarize_variants(merged)"
   ]
  },
  {
   "cell_type": "markdown",
   "metadata": {},
   "source": [
    "# Read AoU-only table"
   ]
  },
  {
   "cell_type": "code",
   "execution_count": null,
   "metadata": {},
   "outputs": [],
   "source": [
    "aou_only = hl.read_table(AOU_ONLY_TAB)"
   ]
  },
  {
   "cell_type": "code",
   "execution_count": null,
   "metadata": {},
   "outputs": [],
   "source": [
    "aou_only.describe()"
   ]
  },
  {
   "cell_type": "code",
   "execution_count": null,
   "metadata": {},
   "outputs": [],
   "source": [
    "aou_only.count()"
   ]
  },
  {
   "cell_type": "code",
   "execution_count": null,
   "metadata": {},
   "outputs": [],
   "source": [
    "aou_only.n_partitions()"
   ]
  },
  {
   "cell_type": "code",
   "execution_count": null,
   "metadata": {},
   "outputs": [],
   "source": [
    "aou_only = hl.filter_intervals(\n",
    "    aou_only,\n",
    "    [hl.parse_locus_interval(x) for x in INTERVALS_TO_EXAMINE],\n",
    "    keep=True)"
   ]
  },
  {
   "cell_type": "code",
   "execution_count": null,
   "metadata": {},
   "outputs": [],
   "source": [
    "hl.summarize_variants(aou_only)"
   ]
  },
  {
   "cell_type": "markdown",
   "metadata": {},
   "source": [
    "# Read UKB-only table"
   ]
  },
  {
   "cell_type": "code",
   "execution_count": null,
   "metadata": {},
   "outputs": [],
   "source": [
    "ukb_only = hl.read_table(UKB_ONLY_TAB)"
   ]
  },
  {
   "cell_type": "code",
   "execution_count": null,
   "metadata": {},
   "outputs": [],
   "source": [
    "ukb_only.describe()"
   ]
  },
  {
   "cell_type": "code",
   "execution_count": null,
   "metadata": {},
   "outputs": [],
   "source": [
    "ukb_only.count()"
   ]
  },
  {
   "cell_type": "code",
   "execution_count": null,
   "metadata": {},
   "outputs": [],
   "source": [
    "ukb_only.n_partitions()"
   ]
  },
  {
   "cell_type": "code",
   "execution_count": null,
   "metadata": {},
   "outputs": [],
   "source": [
    "ukb_only = hl.filter_intervals(\n",
    "    ukb_only,\n",
    "    [hl.parse_locus_interval(x) for x in INTERVALS_TO_EXAMINE],\n",
    "    keep=True)"
   ]
  },
  {
   "cell_type": "code",
   "execution_count": null,
   "metadata": {},
   "outputs": [],
   "source": [
    "hl.summarize_variants(ukb_only)"
   ]
  },
  {
   "cell_type": "markdown",
   "metadata": {},
   "source": [
    "# Read the gnomAD variant annotation table"
   ]
  },
  {
   "cell_type": "code",
   "execution_count": null,
   "metadata": {},
   "outputs": [],
   "source": [
    "gnomad = hl.read_table(GNOMAD_TAB)"
   ]
  },
  {
   "cell_type": "code",
   "execution_count": null,
   "metadata": {},
   "outputs": [],
   "source": [
    "gnomad.describe()"
   ]
  },
  {
   "cell_type": "code",
   "execution_count": null,
   "metadata": {},
   "outputs": [],
   "source": [
    "gnomad.count()"
   ]
  },
  {
   "cell_type": "code",
   "execution_count": null,
   "metadata": {},
   "outputs": [],
   "source": [
    "gnomad.n_partitions()"
   ]
  },
  {
   "cell_type": "code",
   "execution_count": null,
   "metadata": {},
   "outputs": [],
   "source": [
    "gnomad = hl.filter_intervals(\n",
    "    gnomad,\n",
    "    [hl.parse_locus_interval(x) for x in INTERVALS_TO_EXAMINE],\n",
    "    keep=True)"
   ]
  },
  {
   "cell_type": "code",
   "execution_count": null,
   "metadata": {},
   "outputs": [],
   "source": [
    "gnomad.show()"
   ]
  },
  {
   "cell_type": "markdown",
   "metadata": {},
   "source": [
    "# Also read the source data\n",
    "\n",
    "For comparison purposes."
   ]
  },
  {
   "cell_type": "code",
   "execution_count": null,
   "metadata": {},
   "outputs": [],
   "source": [
    "aou_wgs = hl.read_matrix_table(AOU_MT)"
   ]
  },
  {
   "cell_type": "code",
   "execution_count": null,
   "metadata": {},
   "outputs": [],
   "source": [
    "aou_wgs.describe()"
   ]
  },
  {
   "cell_type": "code",
   "execution_count": null,
   "metadata": {},
   "outputs": [],
   "source": [
    "aou_wgs = hl.filter_intervals(\n",
    "    aou_wgs,\n",
    "    [hl.parse_locus_interval(x) for x in INTERVALS_TO_EXAMINE],\n",
    "    keep=True)"
   ]
  },
  {
   "cell_type": "code",
   "execution_count": null,
   "metadata": {},
   "outputs": [],
   "source": [
    "ukb_exomes = hl.read_matrix_table(UKB_MT)"
   ]
  },
  {
   "cell_type": "code",
   "execution_count": null,
   "metadata": {},
   "outputs": [],
   "source": [
    "# https://discuss.hail.is/t/improving-pipeline-performance/1344\n",
    "new_partitions = ukb_exomes._calculate_new_partitions(2500)\n",
    "ukb_exomes = hl.read_matrix_table(UKB_MT, _intervals=new_partitions)"
   ]
  },
  {
   "cell_type": "code",
   "execution_count": null,
   "metadata": {},
   "outputs": [],
   "source": [
    "ukb_exomes.describe()"
   ]
  },
  {
   "cell_type": "code",
   "execution_count": null,
   "metadata": {},
   "outputs": [],
   "source": [
    "ukb_exomes = hl.filter_intervals(\n",
    "    ukb_exomes,\n",
    "    [hl.parse_locus_interval(x) for x in INTERVALS_TO_EXAMINE],\n",
    "    keep=True)"
   ]
  },
  {
   "cell_type": "markdown",
   "metadata": {},
   "source": [
    "# Extract allele frequency and count data\n",
    "\n",
    "Extract this information to CSV for plotting in R."
   ]
  },
  {
   "cell_type": "markdown",
   "metadata": {},
   "source": [
    "## Annotate with gnomAD"
   ]
  },
  {
   "cell_type": "code",
   "execution_count": null,
   "metadata": {},
   "outputs": [],
   "source": [
    "# Confirm that the gnomad data is biallelic.\n",
    "if not SKIP_SOME_CELLS:\n",
    "    gnomad.group_by(num_alleles = hl.len(gnomad.alleles)).aggregate(n = hl.agg.count()).show()"
   ]
  },
  {
   "cell_type": "code",
   "execution_count": null,
   "metadata": {},
   "outputs": [],
   "source": [
    "aou_only.count()"
   ]
  },
  {
   "cell_type": "code",
   "execution_count": null,
   "metadata": {},
   "outputs": [],
   "source": [
    "# Check that we have reasonable overlap between gnomAD and AoU only.\n",
    "if not SKIP_SOME_CELLS:\n",
    "    gnomad.semi_join(aou_only).count()"
   ]
  },
  {
   "cell_type": "code",
   "execution_count": null,
   "metadata": {},
   "outputs": [],
   "source": [
    "aou_only = aou_only.annotate(gnomad_popmax = gnomad[aou_only.key].popmax)"
   ]
  },
  {
   "cell_type": "code",
   "execution_count": null,
   "metadata": {},
   "outputs": [],
   "source": [
    "aou_only.describe()"
   ]
  },
  {
   "cell_type": "code",
   "execution_count": null,
   "metadata": {},
   "outputs": [],
   "source": [
    "aou_only.show()"
   ]
  },
  {
   "cell_type": "code",
   "execution_count": null,
   "metadata": {},
   "outputs": [],
   "source": [
    "ukb_only = ukb_only.annotate(gnomad_popmax = gnomad[ukb_only.key].popmax)"
   ]
  },
  {
   "cell_type": "code",
   "execution_count": null,
   "metadata": {},
   "outputs": [],
   "source": [
    "merged = merged.annotate_rows(gnomad_popmax = gnomad[merged.row_key].popmax)"
   ]
  },
  {
   "cell_type": "markdown",
   "metadata": {},
   "source": [
    "## Write allele allele information to CSV"
   ]
  },
  {
   "cell_type": "markdown",
   "metadata": {},
   "source": [
    "### Extract AoU-only allele information to a CSV"
   ]
  },
  {
   "cell_type": "code",
   "execution_count": null,
   "metadata": {},
   "outputs": [],
   "source": [
    "aou_only_allele_freq = aou_only.select(\n",
    "    AC = aou_only.aou_info.AC[aou_only.aou_a_index - 1],\n",
    "    AF = aou_only.aou_info.AF[aou_only.aou_a_index - 1],\n",
    "    AN = aou_only.aou_info.AN,\n",
    "    gnomad_popmax_AC = aou_only.gnomad_popmax.AC,\n",
    "    gnomad_popmax_AF = aou_only.gnomad_popmax.AF,\n",
    "    gnomad_popmax_AN = aou_only.gnomad_popmax.AN,\n",
    "    gnomad_popmax_pop = aou_only.gnomad_popmax.pop,\n",
    ")"
   ]
  },
  {
   "cell_type": "code",
   "execution_count": null,
   "metadata": {},
   "outputs": [],
   "source": [
    "aou_only_allele_freq.describe()"
   ]
  },
  {
   "cell_type": "code",
   "execution_count": null,
   "metadata": {},
   "outputs": [],
   "source": [
    "aou_only_allele_freq.export(os.path.join(RESULTS_DIR, AOU_ONLY_ALLELE_FREQUENCY))"
   ]
  },
  {
   "cell_type": "markdown",
   "metadata": {},
   "source": [
    "### Extract UKB-only allele information to a CSV"
   ]
  },
  {
   "cell_type": "code",
   "execution_count": null,
   "metadata": {},
   "outputs": [],
   "source": [
    "ukb_only_allele_freq = ukb_only.select(\n",
    "    AC = ukb_only.gt_stats.AC[1],\n",
    "    AF = ukb_only.gt_stats.AF[1],\n",
    "    AN = ukb_only.gt_stats.AN,\n",
    "    gnomad_popmax_AC = ukb_only.gnomad_popmax.AC,\n",
    "    gnomad_popmax_AF = ukb_only.gnomad_popmax.AF,\n",
    "    gnomad_popmax_AN = ukb_only.gnomad_popmax.AN,\n",
    "    gnomad_popmax_pop = ukb_only.gnomad_popmax.pop,\n",
    ")"
   ]
  },
  {
   "cell_type": "code",
   "execution_count": null,
   "metadata": {},
   "outputs": [],
   "source": [
    "ukb_only_allele_freq.describe()"
   ]
  },
  {
   "cell_type": "code",
   "execution_count": null,
   "metadata": {},
   "outputs": [],
   "source": [
    "ukb_only_allele_freq.export(os.path.join(RESULTS_DIR, UKB_ONLY_ALLELE_FREQUENCY))"
   ]
  },
  {
   "cell_type": "markdown",
   "metadata": {},
   "source": [
    "### Extract merged allele information to a CSV"
   ]
  },
  {
   "cell_type": "code",
   "execution_count": null,
   "metadata": {},
   "outputs": [],
   "source": [
    "merged_rows = merged.rows()\n",
    "merged_allele_freq = merged_rows.select(\n",
    "    AC = merged_rows.gt_stats.AC[1],\n",
    "    AF = merged_rows.gt_stats.AF[1],\n",
    "    AN = merged_rows.gt_stats.AN,\n",
    "    gnomad_popmax_AC = merged_rows.gnomad_popmax.AC,\n",
    "    gnomad_popmax_AF = merged_rows.gnomad_popmax.AF,\n",
    "    gnomad_popmax_AN = merged_rows.gnomad_popmax.AN,\n",
    "    gnomad_popmax_pop = merged_rows.gnomad_popmax.pop,\n",
    ")"
   ]
  },
  {
   "cell_type": "code",
   "execution_count": null,
   "metadata": {},
   "outputs": [],
   "source": [
    "merged_allele_freq.describe()"
   ]
  },
  {
   "cell_type": "code",
   "execution_count": null,
   "metadata": {},
   "outputs": [],
   "source": [
    "merged_allele_freq.export(os.path.join(RESULTS_DIR, MERGED_ALLELE_FREQUENCY))"
   ]
  },
  {
   "cell_type": "code",
   "execution_count": null,
   "metadata": {},
   "outputs": [],
   "source": [
    "!gsutil ls {RESULTS_DIR}"
   ]
  },
  {
   "cell_type": "markdown",
   "metadata": {},
   "source": [
    "# Examine the data"
   ]
  },
  {
   "cell_type": "markdown",
   "metadata": {},
   "source": [
    "## Are the WGS capture regions yielding any unmerged UKB variants?\n",
    "\n",
    "**Answer**: none!"
   ]
  },
  {
   "cell_type": "code",
   "execution_count": null,
   "metadata": {},
   "outputs": [],
   "source": [
    "aou_wgs_capture_regions = hl.import_locus_intervals(WGS_CAPTURE_REGIONS)"
   ]
  },
  {
   "cell_type": "code",
   "execution_count": null,
   "metadata": {},
   "outputs": [],
   "source": [
    "aou_wgs_capture_regions.describe()"
   ]
  },
  {
   "cell_type": "code",
   "execution_count": null,
   "metadata": {},
   "outputs": [],
   "source": [
    "aou_wgs_capture_regions.show(5)"
   ]
  },
  {
   "cell_type": "code",
   "execution_count": null,
   "metadata": {},
   "outputs": [],
   "source": [
    "aou_wgs_capture_regions.aggregate(hl.agg.counter(aou_wgs_capture_regions.interval.start.contig))"
   ]
  },
  {
   "cell_type": "code",
   "execution_count": null,
   "metadata": {},
   "outputs": [],
   "source": [
    "ukb_only_outside_wgs_capture_region = ukb_only.filter(\n",
    "    hl.is_defined(aou_wgs_capture_regions[ukb_only.locus]), keep = False)"
   ]
  },
  {
   "cell_type": "code",
   "execution_count": null,
   "metadata": {},
   "outputs": [],
   "source": [
    "ukb_only_outside_wgs_capture_region.count()"
   ]
  },
  {
   "cell_type": "markdown",
   "metadata": {},
   "source": [
    "## How many merged variants were flagged by AoU filters?"
   ]
  },
  {
   "cell_type": "code",
   "execution_count": null,
   "metadata": {},
   "outputs": [],
   "source": [
    "merged_rows = merged.rows()\n",
    "merged_rows.group_by(merged_rows.aou_filters).aggregate(n = hl.agg.count()).show()"
   ]
  },
  {
   "cell_type": "markdown",
   "metadata": {},
   "source": [
    "## How many merged variants were flagged by UKB filters?"
   ]
  },
  {
   "cell_type": "code",
   "execution_count": null,
   "metadata": {},
   "outputs": [],
   "source": [
    "ukb_exomes_rows = ukb_exomes.rows()"
   ]
  },
  {
   "cell_type": "code",
   "execution_count": null,
   "metadata": {},
   "outputs": [],
   "source": [
    "ukb_exomes_rows_has_filter_flag = ukb_exomes_rows.filter(hl.is_defined(ukb_exomes_rows.filters), keep = True)"
   ]
  },
  {
   "cell_type": "code",
   "execution_count": null,
   "metadata": {},
   "outputs": [],
   "source": [
    "# Split the multi-allelic sites into biallelic sites.\n",
    "ukb_exomes_rows_has_filter_flag = hl.split_multi_hts(ukb_exomes_rows_has_filter_flag_multi,\n",
    "                                                     keep_star=False,\n",
    "                                                     left_aligned=False,\n",
    "                                                     vep_root='vep',\n",
    "                                                     permit_shuffle=False)\n",
    "\n",
    "ukb_exomes_rows_has_filter_flag.describe()"
   ]
  },
  {
   "cell_type": "code",
   "execution_count": null,
   "metadata": {},
   "outputs": [],
   "source": [
    "merged_rows = merged_rows.annotate(ukb_filter = ukb_exomes_rows_has_filter_flag[merged_rows.key].filters)\n",
    "merged_rows.describe()"
   ]
  },
  {
   "cell_type": "code",
   "execution_count": null,
   "metadata": {},
   "outputs": [],
   "source": [
    "merged_rows.group_by(merged_rows.ukb_filter).aggregate(n = hl.agg.count()).show()"
   ]
  },
  {
   "cell_type": "markdown",
   "metadata": {},
   "source": [
    "## Are the unmerged variants mostly rare?\n",
    "\n",
    "\n",
    "**Answer**: yes for UKB, somewhat for AoU"
   ]
  },
  {
   "cell_type": "markdown",
   "metadata": {},
   "source": [
    "### Allele frequencies at different quantiles."
   ]
  },
  {
   "cell_type": "code",
   "execution_count": null,
   "metadata": {},
   "outputs": [],
   "source": [
    "aou_only.aggregate(hl.agg.approx_quantiles(\n",
    "    aou_only.aou_info.AF[aou_only.aou_a_index - 1],\n",
    "    [0, 0.25, 0.5, 0.75, .90, .99, .999, 1]\n",
    "))"
   ]
  },
  {
   "cell_type": "code",
   "execution_count": null,
   "metadata": {},
   "outputs": [],
   "source": [
    "ukb_only.aggregate(hl.agg.approx_quantiles(\n",
    "    ukb_only.ukb_info.AF[ukb_only.ukb_a_index - 1],\n",
    "    [0, 0.25, 0.5, 0.75, .90, .99, .999, 1]\n",
    "))"
   ]
  },
  {
   "cell_type": "code",
   "execution_count": null,
   "metadata": {},
   "outputs": [],
   "source": [
    "ukb_only.aggregate(hl.agg.approx_quantiles(\n",
    "    ukb_only.gt_stats.AF[1],\n",
    "    [0, 0.25, 0.5, 0.75, .90, .99, .999, 1]\n",
    "))"
   ]
  },
  {
   "cell_type": "markdown",
   "metadata": {},
   "source": [
    "### Allele count and number"
   ]
  },
  {
   "cell_type": "code",
   "execution_count": null,
   "metadata": {},
   "outputs": [],
   "source": [
    "aou_only.aggregate(hl.agg.approx_quantiles(\n",
    "    aou_only.aou_info.AC[aou_only.aou_a_index - 1],\n",
    "    [0, 0.25, 0.5, 0.75, .90, .99, .999, 1]\n",
    "))"
   ]
  },
  {
   "cell_type": "code",
   "execution_count": null,
   "metadata": {},
   "outputs": [],
   "source": [
    "aou_only.aggregate(hl.agg.approx_quantiles(\n",
    "    aou_only.aou_info.AN,\n",
    "    [0, 0.25, 0.5, 0.75, .90, .99, .999, 1]\n",
    "))"
   ]
  },
  {
   "cell_type": "markdown",
   "metadata": {},
   "source": [
    "<div class=\"alert alert-block alert-info\">\n",
    "<b>Note:</b> The original UKB VCFs list info fields for AC and AN but their values are not populated.\n",
    "</div>"
   ]
  },
  {
   "cell_type": "code",
   "execution_count": null,
   "metadata": {},
   "outputs": [],
   "source": [
    "ukb_only.aggregate(hl.agg.approx_quantiles(\n",
    "    ukb_only.ukb_info.AC[ukb_only.ukb_a_index - 1],\n",
    "    [0, 0.25, 0.5, 0.75, .90, .99, .999, 1]\n",
    "))"
   ]
  },
  {
   "cell_type": "code",
   "execution_count": null,
   "metadata": {},
   "outputs": [],
   "source": [
    "ukb_only.aggregate(hl.agg.approx_quantiles(\n",
    "    ukb_only.gt_stats.AC[1],\n",
    "    [0, 0.25, 0.5, 0.75, .90, .99, .999, 1]\n",
    "))"
   ]
  },
  {
   "cell_type": "code",
   "execution_count": null,
   "metadata": {},
   "outputs": [],
   "source": [
    "ukb_only.aggregate(hl.agg.approx_quantiles(\n",
    "    ukb_only.ukb_info.AN,\n",
    "    [0, 0.25, 0.5, 0.75, .90, .99, .999, 1]\n",
    "))"
   ]
  },
  {
   "cell_type": "code",
   "execution_count": null,
   "metadata": {},
   "outputs": [],
   "source": [
    "ukb_only.aggregate(hl.agg.approx_quantiles(\n",
    "    ukb_only.gt_stats.AN,\n",
    "    [0, 0.25, 0.5, 0.75, .90, .99, .999, 1]\n",
    "))"
   ]
  },
  {
   "cell_type": "markdown",
   "metadata": {},
   "source": [
    "What about for the merged data?"
   ]
  },
  {
   "cell_type": "code",
   "execution_count": null,
   "metadata": {},
   "outputs": [],
   "source": [
    "merged.aggregate_rows(hl.agg.approx_quantiles(\n",
    "    merged.gt_stats.AC[1],\n",
    "    [0, 0.25, 0.5, 0.75, .90, .99, .999, 1]\n",
    "))"
   ]
  },
  {
   "cell_type": "code",
   "execution_count": null,
   "metadata": {},
   "outputs": [],
   "source": [
    "merged.aggregate_rows(hl.agg.approx_quantiles(\n",
    "    merged.gt_stats.AF[1],\n",
    "    [0, 0.25, 0.5, 0.75, .90, .99, .999, 1]\n",
    "))"
   ]
  },
  {
   "cell_type": "code",
   "execution_count": null,
   "metadata": {},
   "outputs": [],
   "source": [
    "merged.aggregate_rows(hl.agg.approx_quantiles(\n",
    "    merged.gt_stats.AF[1],\n",
    "    [0, 0.25, 0.5, 0.75, .90, .99, .999, 1]\n",
    "))"
   ]
  },
  {
   "cell_type": "markdown",
   "metadata": {},
   "source": [
    "## How many unmerged variants are common?\n",
    "\n",
    "**Answer**: a few for each"
   ]
  },
  {
   "cell_type": "markdown",
   "metadata": {},
   "source": [
    "### Common AoU only"
   ]
  },
  {
   "cell_type": "code",
   "execution_count": null,
   "metadata": {},
   "outputs": [],
   "source": [
    "aou_only_common = aou_only.filter(\n",
    "    aou_only.aou_info.AF[aou_only.aou_a_index - 1] > 0.01,\n",
    "    keep=True)\n",
    "aou_only_common = aou_only_common.filter(\n",
    "    aou_only_common.aou_info.AF[aou_only_common.aou_a_index - 1] < 0.99,\n",
    "    keep=True)"
   ]
  },
  {
   "cell_type": "code",
   "execution_count": null,
   "metadata": {},
   "outputs": [],
   "source": [
    "aou_only_common.count()"
   ]
  },
  {
   "cell_type": "code",
   "execution_count": null,
   "metadata": {},
   "outputs": [],
   "source": [
    "hl.summarize_variants(aou_only_common)"
   ]
  },
  {
   "cell_type": "code",
   "execution_count": null,
   "metadata": {},
   "outputs": [],
   "source": [
    "aou_only_common.group_by(aou_only_common.aou_filters).aggregate(n = hl.agg.count()).show()"
   ]
  },
  {
   "cell_type": "code",
   "execution_count": null,
   "metadata": {},
   "outputs": [],
   "source": [
    "aou_only_common.filter(aou_only_common.aou_filters.contains('NO_HQ_GENOTYPES')).show()"
   ]
  },
  {
   "cell_type": "code",
   "execution_count": null,
   "metadata": {},
   "outputs": [],
   "source": [
    "aou_only_common.aggregate(hl.agg.approx_quantiles(\n",
    "    aou_only_common.aou_info.AC[aou_only_common.aou_a_index - 1],\n",
    "    [0, 0.25, 0.5, 0.75, .90, .99, .999, 1]\n",
    "))"
   ]
  },
  {
   "cell_type": "code",
   "execution_count": null,
   "metadata": {},
   "outputs": [],
   "source": [
    "aou_only_common.aggregate(hl.agg.approx_quantiles(\n",
    "    aou_only_common.aou_info.AN,\n",
    "    [0, 0.25, 0.5, 0.75, .90, .99, .999, 1]\n",
    "))"
   ]
  },
  {
   "cell_type": "markdown",
   "metadata": {},
   "source": [
    "### Common UKB only"
   ]
  },
  {
   "cell_type": "code",
   "execution_count": null,
   "metadata": {},
   "outputs": [],
   "source": [
    "ukb_only_common = ukb_only.filter(\n",
    "    ukb_only.ukb_info.AF[ukb_only.ukb_a_index - 1] > 0.01,\n",
    "    keep=True)\n",
    "ukb_only_common = ukb_only_common.filter(\n",
    "    ukb_only_common.ukb_info.AF[ukb_only_common.ukb_a_index - 1] < 0.99,\n",
    "    keep=True)"
   ]
  },
  {
   "cell_type": "code",
   "execution_count": null,
   "metadata": {},
   "outputs": [],
   "source": [
    "ukb_only_common_count = ukb_only_common.count()\n",
    "\n",
    "ukb_only_common_count"
   ]
  },
  {
   "cell_type": "code",
   "execution_count": null,
   "metadata": {},
   "outputs": [],
   "source": [
    "if ukb_only_common_count > 0:\n",
    "    hl.summarize_variants(ukb_only_common)"
   ]
  },
  {
   "cell_type": "code",
   "execution_count": null,
   "metadata": {},
   "outputs": [],
   "source": [
    "ukb_only_common.aggregate(hl.agg.approx_quantiles(\n",
    "    ukb_only_common.gt_stats.AC[1],\n",
    "    [0, 0.25, 0.5, 0.75, .90, .99, .999, 1]\n",
    "))"
   ]
  },
  {
   "cell_type": "code",
   "execution_count": null,
   "metadata": {},
   "outputs": [],
   "source": [
    "ukb_only_common.aggregate(hl.agg.approx_quantiles(\n",
    "    ukb_only_common.gt_stats.AN,\n",
    "    [0, 0.25, 0.5, 0.75, .90, .99, .999, 1]\n",
    "))"
   ]
  },
  {
   "cell_type": "markdown",
   "metadata": {},
   "source": [
    "### Common merged"
   ]
  },
  {
   "cell_type": "code",
   "execution_count": null,
   "metadata": {},
   "outputs": [],
   "source": [
    "merged_common = merged.filter_rows(merged.gt_stats.AF[1] > 0.01, keep=True)\n",
    "merged_common = merged_common.filter_rows(merged_common.gt_stats.AF[1] < 0.99, keep=True)"
   ]
  },
  {
   "cell_type": "code",
   "execution_count": null,
   "metadata": {},
   "outputs": [],
   "source": [
    "merged_common.count()"
   ]
  },
  {
   "cell_type": "code",
   "execution_count": null,
   "metadata": {},
   "outputs": [],
   "source": [
    "hl.summarize_variants(merged_common)"
   ]
  },
  {
   "cell_type": "markdown",
   "metadata": {},
   "source": [
    "## Define the variant missingness threshold\n",
    "\n",
    "Many of the common variants are actually quite rare because AN is small. Let's only examine those that have less missingness than our QC threshold. "
   ]
  },
  {
   "cell_type": "code",
   "execution_count": null,
   "metadata": {},
   "outputs": [],
   "source": [
    "missingness_AN_threshold = math.ceil(merged.count_cols() * 2 * .1) # 10%\n",
    "missingness_AN_threshold"
   ]
  },
  {
   "cell_type": "markdown",
   "metadata": {},
   "source": [
    "## For the truly common unmerged AoU variants, what do the overlapping UKB variants look like?\n",
    "\n",
    "**Answer**: see details below"
   ]
  },
  {
   "cell_type": "markdown",
   "metadata": {},
   "source": [
    "### Show common unmerged from AoU"
   ]
  },
  {
   "cell_type": "markdown",
   "metadata": {},
   "source": [
    "<div class=\"alert alert-block alert-success\">\n",
    "Sorted by AF, decending.</div>\n"
   ]
  },
  {
   "cell_type": "code",
   "execution_count": null,
   "metadata": {},
   "outputs": [],
   "source": [
    "aou_only_common.order_by(\n",
    "    hl.desc(aou_only_common.aou_info.AF[aou_only_common.aou_a_index - 1])).show(20)"
   ]
  },
  {
   "cell_type": "code",
   "execution_count": null,
   "metadata": {},
   "outputs": [],
   "source": [
    "aou_only_truly_common = aou_only_common.filter(aou_only_common.aou_info.AN > missingness_AN_threshold, keep=True)\n",
    "aou_only_truly_common = aou_only_truly_common.filter(hl.is_missing(aou_only_truly_common.aou_filters), keep=True)"
   ]
  },
  {
   "cell_type": "code",
   "execution_count": null,
   "metadata": {},
   "outputs": [],
   "source": [
    "aou_only_truly_common.order_by(hl.desc(aou_only_truly_common.aou_info.AF[aou_only_truly_common.aou_a_index - 1])).show(20)"
   ]
  },
  {
   "cell_type": "code",
   "execution_count": null,
   "metadata": {},
   "outputs": [],
   "source": [
    "aou_only_common_top20_loci = aou_only_truly_common.order_by(\n",
    "        hl.desc(aou_only_truly_common.aou_info.AF[aou_only_truly_common.aou_a_index - 1])).locus.take(20)"
   ]
  },
  {
   "cell_type": "markdown",
   "metadata": {},
   "source": [
    "<div class=\"alert alert-block alert-success\">\n",
    "Of those top 20 by AF, now sorted by position, ascending.</div>"
   ]
  },
  {
   "cell_type": "code",
   "execution_count": null,
   "metadata": {},
   "outputs": [],
   "source": [
    "aou_only_common_top20 = aou_only_common.filter(\n",
    "    hl.literal(aou_only_common_top20_loci).contains(aou_only_common.locus))\n",
    "aou_only_common_top20 = aou_only_common_top20.select(\n",
    "    aou_only_common_top20.aou_was_split,\n",
    "    aou_only_common_top20.aou_filters,\n",
    "    AF = aou_only_common_top20.aou_info.AF[aou_only_common_top20.aou_a_index - 1]\n",
    "    )\n",
    "\n",
    "aou_only_common_top20.order_by(aou_only_common_top20.locus).show(50)"
   ]
  },
  {
   "cell_type": "markdown",
   "metadata": {},
   "source": [
    "<div class=\"alert alert-block alert-success\">\n",
    "    Show UKB <b>source data</b> locus matches.\n",
    "    </div>"
   ]
  },
  {
   "cell_type": "code",
   "execution_count": null,
   "metadata": {},
   "outputs": [],
   "source": [
    "ukb_locus_matches = ukb_exomes.filter_rows(\n",
    "    hl.literal(aou_only_common_top20_loci).contains(ukb_exomes.locus)).rows()\n",
    "ukb_locus_matches = ukb_locus_matches.select(\n",
    "    ukb_locus_matches.filters,\n",
    "    ukb_locus_matches.info.AF\n",
    ")\n",
    "\n",
    "ukb_locus_matches.order_by(ukb_locus_matches.locus).show(50)"
   ]
  },
  {
   "cell_type": "markdown",
   "metadata": {},
   "source": [
    "<div class=\"alert alert-block alert-success\">\n",
    "    Show UKB<b>-only</b> locus matches.\n",
    "    </div>"
   ]
  },
  {
   "cell_type": "code",
   "execution_count": null,
   "metadata": {},
   "outputs": [],
   "source": [
    "ukb_only_locus_matches = ukb_only.filter(\n",
    "    hl.literal(aou_only_common_top20_loci).contains(ukb_only.locus))\n",
    "ukb_only_locus_matches = ukb_only_locus_matches.select(\n",
    "    ukb_only_locus_matches.ukb_was_split,\n",
    "    AF = ukb_only_locus_matches.ukb_info.AF[ukb_only_locus_matches.ukb_a_index - 1]\n",
    ")\n",
    "\n",
    "ukb_only_locus_matches.order_by(ukb_only_locus_matches.locus).show(50)"
   ]
  },
  {
   "cell_type": "markdown",
   "metadata": {},
   "source": [
    "<div class=\"alert alert-block alert-success\">\n",
    "    Show AoU <b>source data</b> locus matches.\n",
    "    </div>"
   ]
  },
  {
   "cell_type": "code",
   "execution_count": null,
   "metadata": {},
   "outputs": [],
   "source": [
    "aou_locus_matches = aou_wgs.filter_rows(\n",
    "    hl.literal(aou_only_common_top20_loci).contains(aou_wgs.locus)).rows()\n",
    "aou_locus_matches = aou_locus_matches.select(aou_locus_matches.info.AF)\n",
    "\n",
    "aou_locus_matches.order_by(aou_locus_matches.locus).show(50)"
   ]
  },
  {
   "cell_type": "markdown",
   "metadata": {},
   "source": [
    "### Examine a common AoU SNP"
   ]
  },
  {
   "cell_type": "code",
   "execution_count": null,
   "metadata": {},
   "outputs": [],
   "source": [
    "[(x, aou_only_common_top20_loci[x]) for x in range(0, len(aou_only_common_top20_loci))]"
   ]
  },
  {
   "cell_type": "code",
   "execution_count": null,
   "metadata": {},
   "outputs": [],
   "source": [
    "one_aou_variant = [aou_only_common_top20_loci[4]]\n",
    "\n",
    "one_aou_variant"
   ]
  },
  {
   "cell_type": "code",
   "execution_count": null,
   "metadata": {},
   "outputs": [],
   "source": [
    "ukb_exomes.filter_rows(\n",
    "    hl.literal(one_aou_variant).contains(ukb_exomes.locus)).show(20)"
   ]
  },
  {
   "cell_type": "code",
   "execution_count": null,
   "metadata": {},
   "outputs": [],
   "source": [
    "ukb_nearby_common_aou = hl.filter_intervals(\n",
    "     ukb_exomes,\n",
    "     [hl.interval(hl.locus(x.contig, x.position - 20), hl.locus(x.contig, x.position + 20),\n",
    "                  includes_start=True, includes_end=True) for x in one_aou_variant])"
   ]
  },
  {
   "cell_type": "code",
   "execution_count": null,
   "metadata": {},
   "outputs": [],
   "source": [
    "ukb_nearby_common_aou.show(20)"
   ]
  },
  {
   "cell_type": "markdown",
   "metadata": {},
   "source": [
    "## For the truly common unmerged UKB variants, what do the overlapping AoU variants look like?\n",
    "\n",
    "**Answer**: see details below"
   ]
  },
  {
   "cell_type": "markdown",
   "metadata": {},
   "source": [
    "### Show common unmerged from UKB"
   ]
  },
  {
   "cell_type": "markdown",
   "metadata": {},
   "source": [
    "<div class=\"alert alert-block alert-success\">\n",
    "Sorted by AF, decending.</div>\n"
   ]
  },
  {
   "cell_type": "code",
   "execution_count": null,
   "metadata": {},
   "outputs": [],
   "source": [
    "if ukb_only_common_count > 0:\n",
    "    ukb_only_common.order_by(\n",
    "        hl.desc(ukb_only_common.ukb_info.AF[ukb_only_common.ukb_a_index - 1])).show(20)"
   ]
  },
  {
   "cell_type": "code",
   "execution_count": null,
   "metadata": {},
   "outputs": [],
   "source": [
    "if ukb_only_common_count > 0:\n",
    "    ukb_only_truly_common = ukb_only_common.filter(ukb_only_common.ukb_info.AN > missingness_AN_threshold, keep=True)\n",
    "    ukb_only_truly_common_count = ukb_only_truly_common.count()\n",
    "    ukb_only_truly_common.order_by(hl.desc(ukb_only_truly_common.ukb_info.AF[ukb_only_truly_common.ukb_a_index - 1])).show(20)"
   ]
  },
  {
   "cell_type": "code",
   "execution_count": null,
   "metadata": {},
   "outputs": [],
   "source": [
    "if ukb_only_truly_common_count > 0:\n",
    "    ukb_only_common_top20_loci = ukb_only_truly_common.order_by(\n",
    "        hl.desc(ukb_only_truly_common.ukb_info.AF[ukb_only_truly_common.ukb_a_index - 1])).locus.take(20)"
   ]
  },
  {
   "cell_type": "markdown",
   "metadata": {},
   "source": [
    "<div class=\"alert alert-block alert-success\">\n",
    "Of those top 20 by AF, now sorted by position, ascending.</div>"
   ]
  },
  {
   "cell_type": "code",
   "execution_count": null,
   "metadata": {},
   "outputs": [],
   "source": [
    "if ukb_only_truly_common_count > 0:\n",
    "    ukb_only_common_top20 = ukb_only_common.filter(\n",
    "        hl.literal(ukb_only_common_top20_loci).contains(ukb_only_common.locus))\n",
    "    ukb_only_common_top20 = ukb_only_common_top20.select(\n",
    "        ukb_only_common_top20.ukb_was_split,\n",
    "        ukb_only_common_top20.ukb_filters,\n",
    "        AF = ukb_only_common_top20.ukb_info.AF[ukb_only_common_top20.ukb_a_index - 1]\n",
    "    )\n",
    "\n",
    "    ukb_only_common_top20.order_by(ukb_only_common_top20.locus).show(50)"
   ]
  },
  {
   "cell_type": "markdown",
   "metadata": {},
   "source": [
    "<div class=\"alert alert-block alert-success\">\n",
    "    Show AoU <b>source data</b> locus matches.\n",
    "    </div>"
   ]
  },
  {
   "cell_type": "code",
   "execution_count": null,
   "metadata": {},
   "outputs": [],
   "source": [
    "if ukb_only_truly_common_count > 0:\n",
    "    aou_locus_matches = aou_wgs.filter_rows(\n",
    "        hl.literal(ukb_only_common_top20_loci).contains(aou_wgs.locus)).rows()\n",
    "    aou_locus_matches = aou_locus_matches.select(\n",
    "        aou_locus_matches.filters,\n",
    "        aou_locus_matches.info.AF\n",
    "    )\n",
    "\n",
    "    aou_locus_matches.order_by(aou_locus_matches.locus).show(50)"
   ]
  },
  {
   "cell_type": "markdown",
   "metadata": {},
   "source": [
    "<div class=\"alert alert-block alert-success\">\n",
    "    Show AoU<b>-only</b> locus matches.\n",
    "    </div>"
   ]
  },
  {
   "cell_type": "code",
   "execution_count": null,
   "metadata": {},
   "outputs": [],
   "source": [
    "if ukb_only_truly_common_count > 0:\n",
    "    aou_only_locus_matches = aou_only.filter(\n",
    "        hl.literal(ukb_only_common_top20_loci).contains(aou_only.locus))\n",
    "    aou_only_locus_matches = aou_only_locus_matches.select(\n",
    "        aou_only_locus_matches.aou_was_split,\n",
    "        AF = aou_only_locus_matches.aou_info.AF[aou_only_locus_matches.aou_a_index - 1]\n",
    "    )\n",
    "\n",
    "    aou_only_locus_matches.order_by(aou_only_locus_matches.locus).show(50)"
   ]
  },
  {
   "cell_type": "markdown",
   "metadata": {},
   "source": [
    "<div class=\"alert alert-block alert-success\">\n",
    "    Show UKB <b>source data</b> locus matches.\n",
    "    </div>"
   ]
  },
  {
   "cell_type": "code",
   "execution_count": null,
   "metadata": {},
   "outputs": [],
   "source": [
    "if ukb_only_truly_common_count > 0:\n",
    "    ukb_locus_matches = ukb_exomes.filter_rows(\n",
    "        hl.literal(ukb_only_common_top20_loci).contains(ukb_exomes.locus)).rows()\n",
    "    ukb_locus_matches = ukb_locus_matches.select(ukb_locus_matches.info.AF)\n",
    "\n",
    "    ukb_locus_matches.order_by(ukb_locus_matches.locus).show(50)"
   ]
  },
  {
   "cell_type": "markdown",
   "metadata": {},
   "source": [
    "### Examine a common UKB SNP"
   ]
  },
  {
   "cell_type": "code",
   "execution_count": null,
   "metadata": {},
   "outputs": [],
   "source": [
    "if ukb_only_truly_common_count > 0:\n",
    "    [(x, ukb_only_common_top20_loci[x]) for x in range(0, len(ukb_only_common_top20_loci))]"
   ]
  },
  {
   "cell_type": "code",
   "execution_count": null,
   "metadata": {},
   "outputs": [],
   "source": [
    "if ukb_only_truly_common_count > 0:\n",
    "    one_ukb_variant = [ukb_only_common_top20_loci[0]]\n",
    "\n",
    "    one_ukb_variant"
   ]
  },
  {
   "cell_type": "code",
   "execution_count": null,
   "metadata": {},
   "outputs": [],
   "source": [
    "if ukb_only_truly_common_count > 0:\n",
    "    aou_wgs.filter_rows(\n",
    "        hl.literal(one_ukb_variant).contains(aou_wgs.locus)).show(20)"
   ]
  },
  {
   "cell_type": "code",
   "execution_count": null,
   "metadata": {},
   "outputs": [],
   "source": [
    "if ukb_only_truly_common_count > 0:\n",
    "    aou_nearby_common_ukb = hl.filter_intervals(\n",
    "         aou_wgs,\n",
    "         [hl.interval(hl.locus(x.contig, x.position - 20), hl.locus(x.contig, x.position + 20),\n",
    "                      includes_start=True, includes_end=True) for x in one_ukb_variant])"
   ]
  },
  {
   "cell_type": "code",
   "execution_count": null,
   "metadata": {},
   "outputs": [],
   "source": [
    "if ukb_only_truly_common_count > 0:\n",
    "    aou_nearby_common_ukb.show(20)"
   ]
  },
  {
   "cell_type": "markdown",
   "metadata": {},
   "source": [
    "# Provenance"
   ]
  },
  {
   "cell_type": "code",
   "execution_count": null,
   "metadata": {},
   "outputs": [],
   "source": [
    "end_all = datetime.now()\n",
    "print(end_all)\n",
    "print(end_all - start_all)"
   ]
  },
  {
   "cell_type": "code",
   "execution_count": null,
   "metadata": {},
   "outputs": [],
   "source": [
    "# Copy the Hail log to the workspace bucket so that we can retain it.\n",
    "!gzip --keep {HAIL_LOG}\n",
    "!gsutil cp -v {HAIL_LOG}.gz {HAIL_LOG_DIR_FOR_PROVENANCE}"
   ]
  },
  {
   "cell_type": "code",
   "execution_count": null,
   "metadata": {},
   "outputs": [],
   "source": [
    "print(datetime.now())"
   ]
  },
  {
   "cell_type": "code",
   "execution_count": null,
   "metadata": {},
   "outputs": [],
   "source": [
    "!pip3 freeze"
   ]
  }
 ],
 "metadata": {
  "kernelspec": {
   "display_name": "Python 3",
   "language": "python",
   "name": "python3"
  },
  "language_info": {
   "codemirror_mode": {
    "name": "ipython",
    "version": 3
   },
   "file_extension": ".py",
   "mimetype": "text/x-python",
   "name": "python",
   "nbconvert_exporter": "python",
   "pygments_lexer": "ipython3",
   "version": "3.7.12"
  },
  "toc": {
   "base_numbering": 1,
   "nav_menu": {},
   "number_sections": true,
   "sideBar": true,
   "skip_h1_title": false,
   "title_cell": "Table of Contents",
   "title_sidebar": "Contents",
   "toc_cell": false,
   "toc_position": {
    "height": "calc(100% - 180px)",
    "left": "10px",
    "top": "150px",
    "width": "305px"
   },
   "toc_section_display": true,
   "toc_window_display": true
  }
 },
 "nbformat": 4,
 "nbformat_minor": 2
}

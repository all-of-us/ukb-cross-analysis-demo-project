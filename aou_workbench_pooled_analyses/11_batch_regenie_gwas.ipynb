{
 "cells": [
  {
   "cell_type": "markdown",
   "metadata": {},
   "source": [
    "# Run a GWAS via regenie\n",
    "\n",
    "In this notebook, we perform a genome-wide association study using [regenie](https://rgcgithub.github.io/regenie/), but not on lipids. **Instead, this GWAS explores the batch effect of the data.**\n",
    "\n",
    "Note that this work is part of a larger project to [Demonstrate the Potential for Pooled Analysis of All of Us and UK Biobank Genomic Data](https://github.com/all-of-us/ukb-cross-analysis-demo-project). Specifically this is for the portion of the project that is the **pooled** analysis."
   ]
  },
  {
   "cell_type": "markdown",
   "metadata": {},
   "source": [
    "# Setup\n",
    "\n",
    "<div class=\"alert alert-block alert-warning\">\n",
    "    <b>Cloud Environment</b>: This notebook was written for use on the <i>All of Us</i> Workbench.\n",
    "    <ul>\n",
    "        <li>Use \"Recommended Environment\" <kbd><b>General Analysis</b></kbd> which creates compute type <kbd><b>Standard VM</b></kbd> with sufficient CPU and RAM (e.g. start with <b>8 CPUs</b> and <b>30 GB RAM</b>, increase if needed).</li>\n",
    "        <li>This notebook takes about 7 hours to run. Recommend that it is run in the background via <kbd>run_notebook_in_the_background</kbd>.</li>\n",
    "    </ul>\n",
    "</div>"
   ]
  },
  {
   "cell_type": "code",
   "execution_count": null,
   "metadata": {},
   "outputs": [],
   "source": [
    "from datetime import datetime\n",
    "import os\n",
    "import time"
   ]
  },
  {
   "cell_type": "markdown",
   "metadata": {},
   "source": [
    "## Setup regenie\n",
    "\n",
    "Note: regenie is already installed locally by default, but we are choosing to update to a more recent version."
   ]
  },
  {
   "cell_type": "code",
   "execution_count": null,
   "metadata": {},
   "outputs": [],
   "source": [
    "!regenie --help | head"
   ]
  },
  {
   "cell_type": "markdown",
   "metadata": {},
   "source": [
    "<div class=\"alert alert-block alert-warning\">\n",
    "    <b>Note:</b> REGENIE 2.2.4 was use for the lipids GWAS, but we upgraded to 3.1.1 for the batch GWAS due to error <kbd>ERROR: logistic regression did not converge for phenotype is_aou. Perhaps increase --niter?</kbd> on chromosome 10.\n",
    "</div>"
   ]
  },
  {
   "cell_type": "code",
   "execution_count": null,
   "metadata": {},
   "outputs": [],
   "source": [
    "%%bash\n",
    "\n",
    "REGENIE_VERSION=v3.1.1\n",
    "rm regenie.zip\n",
    "curl -L -o regenie.zip \"https://github.com/rgcgithub/regenie/releases/download/${REGENIE_VERSION}/regenie_${REGENIE_VERSION}.gz_x86_64_Linux.zip\"\n",
    "unzip -o regenie.zip"
   ]
  },
  {
   "cell_type": "code",
   "execution_count": null,
   "metadata": {},
   "outputs": [],
   "source": [
    "!./regenie_v3.1.1.gz_x86_64_Linux --help | head"
   ]
  },
  {
   "cell_type": "markdown",
   "metadata": {},
   "source": [
    "## Define constants"
   ]
  },
  {
   "cell_type": "code",
   "execution_count": null,
   "metadata": {
    "tags": [
     "parameters"
    ]
   },
   "outputs": [],
   "source": [
    "# Papermill parameters. See https://papermill.readthedocs.io/en/latest/usage-parameterize.html\n",
    "\n",
    "#---[ Inputs ]---\n",
    "# The BGEN file created via aou_workbench_pooled_analyses/05_write_pooled_bgen.ipynb.\n",
    "REMOTE_MERGED_BGEN = 'gs://fc-secure-e53e4a44-7fe2-42b7-89b7-01aae1e399f7/data/pooled/geno/20220215/aou-alpha3-ukb-chr1-chr22.bgen'\n",
    "# The sample file created via aou_workbench_pooled_analyses/05_write_pooled_bgen.ipynb.\n",
    "REMOTE_MERGED_BGEN_SAMPLE = 'gs://fc-secure-e53e4a44-7fe2-42b7-89b7-01aae1e399f7/data/pooled/geno/20220215/aou-alpha3-ukb-chr1-chr22.sample'\n",
    "# Created via aou_workbench_pooled_analyses/08_pooled_phenotype_for_gwas.ipynb\n",
    "REMOTE_GWAS_PHENOTYPES = 'gs://fc-secure-e53e4a44-7fe2-42b7-89b7-01aae1e399f7/data/pooled/pheno/20220413/aou_alpha3_ukb_lipids_gwas_phenotype.tsv'\n",
    "# These four files were created via notebook aou_workbench_pooled_analyses/06_pooled_variant_qc.ipynb\n",
    "REMOTE_STEP1_VARIANT_QC_ID = 'gs://fc-secure-e53e4a44-7fe2-42b7-89b7-01aae1e399f7/data/pooled/variant-qc/20220311/aou_alpha3_ukb_lipids_step1QC_plink.id'\n",
    "REMOTE_STEP1_VARIANT_QC_SNPLIST = 'gs://fc-secure-e53e4a44-7fe2-42b7-89b7-01aae1e399f7/data/pooled/variant-qc/20220311/aou_alpha3_ukb_lipids_step1QC_plink.snplist'\n",
    "REMOTE_STEP2_VARIANT_QC_ID = 'gs://fc-secure-e53e4a44-7fe2-42b7-89b7-01aae1e399f7/data/pooled/variant-qc/20220311/aou_alpha3_ukb_lipids_step2QC_plink.id'\n",
    "REMOTE_STEP2_VARIANT_QC_SNPLIST = 'gs://fc-secure-e53e4a44-7fe2-42b7-89b7-01aae1e399f7/data/pooled/variant-qc/20220311/aou_alpha3_ukb_lipids_step2QC_plink.snplist'\n",
    "\n",
    "#---[ Outputs ]---\n",
    "# Create a timestamp for a folder of results generated today.\n",
    "DATESTAMP = time.strftime('%Y%m%d')\n",
    "OUTPUT_FILENAME_PREFIX = 'aou_alpha3_ukb_batch'\n",
    "REGENIE_OUTPUTS = f'{os.getenv(\"WORKSPACE_BUCKET\")}/data/pooled/regenie/{DATESTAMP}/'"
   ]
  },
  {
   "cell_type": "code",
   "execution_count": null,
   "metadata": {},
   "outputs": [],
   "source": [
    "LOCAL_MERGED_BGEN = os.path.basename(REMOTE_MERGED_BGEN)\n",
    "LOCAL_MERGED_BGEN_SAMPLE = os.path.basename(REMOTE_MERGED_BGEN_SAMPLE)\n",
    "LOCAL_GWAS_PHENOTYPES = os.path.basename(REMOTE_GWAS_PHENOTYPES)\n",
    "LOCAL_STEP1_VARIANT_QC_ID = os.path.basename(REMOTE_STEP1_VARIANT_QC_ID)\n",
    "LOCAL_STEP1_VARIANT_QC_SNPLIST = os.path.basename(REMOTE_STEP1_VARIANT_QC_SNPLIST)\n",
    "LOCAL_STEP2_VARIANT_QC_ID = os.path.basename(REMOTE_STEP2_VARIANT_QC_ID)\n",
    "LOCAL_STEP2_VARIANT_QC_SNPLIST = os.path.basename(REMOTE_STEP2_VARIANT_QC_SNPLIST)"
   ]
  },
  {
   "cell_type": "markdown",
   "metadata": {},
   "source": [
    "## Copy data locally"
   ]
  },
  {
   "cell_type": "code",
   "execution_count": null,
   "metadata": {},
   "outputs": [],
   "source": [
    "!gsutil cp -n {REMOTE_MERGED_BGEN} {REMOTE_MERGED_BGEN_SAMPLE} ."
   ]
  },
  {
   "cell_type": "code",
   "execution_count": null,
   "metadata": {},
   "outputs": [],
   "source": [
    "!gsutil cp {REMOTE_GWAS_PHENOTYPES} {REMOTE_STEP1_VARIANT_QC_ID} {REMOTE_STEP1_VARIANT_QC_SNPLIST} \\\n",
    "    {REMOTE_STEP2_VARIANT_QC_ID} {REMOTE_STEP2_VARIANT_QC_SNPLIST} ."
   ]
  },
  {
   "cell_type": "markdown",
   "metadata": {},
   "source": [
    "# regenie step 1\n",
    "\n",
    "From https://rgcgithub.github.io/regenie/overview/:\n",
    "> In the first step a subset of genetic markers are used to fit a whole genome regression model that captures a good fraction of the phenotype variance attributable to genetic effects.\n",
    "\n",
    "See also the regenie documentation https://rgcgithub.github.io/regenie/options/#input"
   ]
  },
  {
   "cell_type": "markdown",
   "metadata": {},
   "source": [
    "<div class=\"alert alert-block alert-warning\">\n",
    "    <b>Note:</b> Compared to the pooled lipids GWAS, added parameter <kbd>--loocv</kbd> to address error <kbd>ERROR: one of the folds has only cases/controls for phenotype 'is_aou'. Either use smaller #folds (option --cv) or use LOOCV (option --loocv).</kbd>\n",
    "</div>"
   ]
  },
  {
   "cell_type": "code",
   "execution_count": null,
   "metadata": {},
   "outputs": [],
   "source": [
    "!./regenie_v3.1.1.gz_x86_64_Linux \\\n",
    "    --step 1 \\\n",
    "    --bgen {LOCAL_MERGED_BGEN} \\\n",
    "    --ref-first \\\n",
    "    --sample {LOCAL_MERGED_BGEN_SAMPLE} \\\n",
    "    --phenoFile {LOCAL_GWAS_PHENOTYPES} \\\n",
    "    --phenoColList is_aou,is_ukb \\\n",
    "    --bt \\\n",
    "    --loocv \\\n",
    "    --covarFile {LOCAL_GWAS_PHENOTYPES} \\\n",
    "    --catCovarList sex_at_birth \\\n",
    "    --covarColList age,age2,PC1,PC2,PC3,PC4,PC5,PC6,PC7,PC8,PC9,PC10 \\\n",
    "    --extract {LOCAL_STEP1_VARIANT_QC_SNPLIST} \\\n",
    "    --keep {LOCAL_STEP1_VARIANT_QC_ID} \\\n",
    "    --bsize 1000 \\\n",
    "    --verbose \\\n",
    "    --out {OUTPUT_FILENAME_PREFIX}_regenie_step1"
   ]
  },
  {
   "cell_type": "code",
   "execution_count": null,
   "metadata": {},
   "outputs": [],
   "source": [
    "!ls -lth {OUTPUT_FILENAME_PREFIX}*"
   ]
  },
  {
   "cell_type": "code",
   "execution_count": null,
   "metadata": {},
   "outputs": [],
   "source": [
    "!gsutil -m cp {OUTPUT_FILENAME_PREFIX}_regenie_step1* {REGENIE_OUTPUTS}"
   ]
  },
  {
   "cell_type": "code",
   "execution_count": null,
   "metadata": {},
   "outputs": [],
   "source": [
    "!gsutil ls -lh {REGENIE_OUTPUTS}"
   ]
  },
  {
   "cell_type": "markdown",
   "metadata": {},
   "source": [
    "# regenie step 2\n",
    "\n",
    "From https://rgcgithub.github.io/regenie/overview/:\n",
    "> In the second step, a larger set of genetic markers (e.g. imputed markers) are tested for association with the phenotype conditional upon the prediction from the regression model in Step 1, using a leave one chromosome out (LOCO) scheme, that avoids proximal contamination."
   ]
  },
  {
   "cell_type": "markdown",
   "metadata": {},
   "source": [
    "<div class=\"alert alert-block alert-warning\">\n",
    "    <b>Note:</b> Not using a Firth logistic regression model to address error <kbd>ERROR: Firth penalized logistic regression failed to converge for all phenotypes. Try decreasing the maximum step size using `--maxstep-null` (currently=5) and increasing the maximum number of iterations using `--maxiter-null` (currently=5000).</kbd>\n",
    "</div>"
   ]
  },
  {
   "cell_type": "code",
   "execution_count": null,
   "metadata": {},
   "outputs": [],
   "source": [
    "!./regenie_v3.1.1.gz_x86_64_Linux \\\n",
    "    --step 2 \\\n",
    "    --bgen {LOCAL_MERGED_BGEN} \\\n",
    "    --ref-first \\\n",
    "    --sample {LOCAL_MERGED_BGEN_SAMPLE} \\\n",
    "    --phenoFile {LOCAL_GWAS_PHENOTYPES} \\\n",
    "    --phenoColList is_aou,is_ukb \\\n",
    "    --bt \\\n",
    "    --covarFile {LOCAL_GWAS_PHENOTYPES} \\\n",
    "    --catCovarList sex_at_birth \\\n",
    "    --covarColList age,age2,PC1,PC2,PC3,PC4,PC5,PC6,PC7,PC8,PC9,PC10 \\\n",
    "    --extract {LOCAL_STEP2_VARIANT_QC_SNPLIST} \\\n",
    "    --keep {LOCAL_STEP2_VARIANT_QC_ID} \\\n",
    "    --pred {OUTPUT_FILENAME_PREFIX}_regenie_step1_pred.list \\\n",
    "    --bsize 400 \\\n",
    "    --out {OUTPUT_FILENAME_PREFIX}_regenie_step2"
   ]
  },
  {
   "cell_type": "code",
   "execution_count": null,
   "metadata": {},
   "outputs": [],
   "source": [
    "!ls -lth {OUTPUT_FILENAME_PREFIX}*"
   ]
  },
  {
   "cell_type": "code",
   "execution_count": null,
   "metadata": {},
   "outputs": [],
   "source": [
    "!gsutil -m cp {OUTPUT_FILENAME_PREFIX}_regenie_step2* {REGENIE_OUTPUTS}"
   ]
  },
  {
   "cell_type": "code",
   "execution_count": null,
   "metadata": {},
   "outputs": [],
   "source": [
    "!gsutil ls -lh {REGENIE_OUTPUTS}"
   ]
  },
  {
   "cell_type": "markdown",
   "metadata": {},
   "source": [
    "# Provenance "
   ]
  },
  {
   "cell_type": "code",
   "execution_count": null,
   "metadata": {},
   "outputs": [],
   "source": [
    "%%bash\n",
    "\n",
    "date"
   ]
  },
  {
   "cell_type": "code",
   "execution_count": null,
   "metadata": {},
   "outputs": [],
   "source": [
    "%%bash\n",
    "\n",
    "pip3 freeze"
   ]
  }
 ],
 "metadata": {
  "kernelspec": {
   "display_name": "Python 3",
   "language": "python",
   "name": "python3"
  },
  "language_info": {
   "codemirror_mode": {
    "name": "ipython",
    "version": 3
   },
   "file_extension": ".py",
   "mimetype": "text/x-python",
   "name": "python",
   "nbconvert_exporter": "python",
   "pygments_lexer": "ipython3",
   "version": "3.7.12"
  },
  "toc": {
   "base_numbering": 1,
   "nav_menu": {},
   "number_sections": true,
   "sideBar": true,
   "skip_h1_title": false,
   "title_cell": "Table of Contents",
   "title_sidebar": "Contents",
   "toc_cell": false,
   "toc_position": {
    "height": "calc(100% - 180px)",
    "left": "10px",
    "top": "150px",
    "width": "187px"
   },
   "toc_section_display": true,
   "toc_window_display": true
  }
 },
 "nbformat": 4,
 "nbformat_minor": 2
}

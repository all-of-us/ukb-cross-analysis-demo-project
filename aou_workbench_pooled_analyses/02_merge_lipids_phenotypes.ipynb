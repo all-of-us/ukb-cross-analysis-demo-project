{
 "cells": [
  {
   "cell_type": "markdown",
   "metadata": {},
   "source": [
    "# Prepare a pooled lipids phenotype\n",
    "\n",
    "In this notebook we combine the _All of Us_ lipids phenotype with the UK Biobank lipids phenotype adjusted for statin use..\n",
    "\n",
    "Note that this work is part of a larger project to [Demonstrate the Potential for Pooled Analysis of All of Us and UK Biobank Genomic Data](https://github.com/all-of-us/ukb-cross-analysis-demo-project). Specifically, this notebook combines the results from `aou_workbench_siloed_analyses/01_aou_lipids_phenotype.ipynb` and `aou_workbench_pooled_analyses/01_ukb_lipids_phenotype.ipynb` is for the portion of the project that is the  **pooled** analysis."
   ]
  },
  {
   "cell_type": "markdown",
   "metadata": {},
   "source": [
    "# Setup "
   ]
  },
  {
   "cell_type": "markdown",
   "metadata": {},
   "source": [
    "<div class=\"alert alert-block alert-warning\">\n",
    "    <b>Cloud Environment</b>: This notebook was written for use on the <i>All of Us</i> Workbench.\n",
    "    <ul>\n",
    "        <li>Use \"Recommended Environment\" <kbd><b>General Analysis</b></kbd> which creates compute type <kbd><b>Standard VM</b></kbd> with reasonable defaults for CPU, RAM, and disk.</li>\n",
    "        <li>This notebook only takes a few minutes to run interactively. You can also it in the background via <kbd>run_notebook_in_the_background</kbd> for the sake of provenance and reproducibility.</li>\n",
    "    </ul>\n",
    "</div>"
   ]
  },
  {
   "cell_type": "code",
   "execution_count": null,
   "metadata": {},
   "outputs": [],
   "source": [
    "lapply(c('skimr'), function(pkg_name) { if(! pkg_name %in% installed.packages()) { install.packages(pkg_name)} } )"
   ]
  },
  {
   "cell_type": "code",
   "execution_count": null,
   "metadata": {},
   "outputs": [],
   "source": [
    "library(lubridate)\n",
    "library(skimr)\n",
    "library(tidyverse)"
   ]
  },
  {
   "cell_type": "markdown",
   "metadata": {},
   "source": [
    "## Define constants"
   ]
  },
  {
   "cell_type": "code",
   "execution_count": null,
   "metadata": {
    "tags": [
     "parameters"
    ]
   },
   "outputs": [],
   "source": [
    "# Papermill parameters. See https://papermill.readthedocs.io/en/latest/usage-parameterize.html\n",
    "\n",
    "#---[ Inputs ]---\n",
    "# Created via aou_workbench_siloed_analyses/01_aou_lipids_phenotype.ipynb\n",
    "AOU_PHENO <- 'gs://fc-secure-471c1068-cd3d-4b43-9b5d-a618c85ceea5/data/aou/pheno/20220208/aou_alpha3_lipids_phenotype.csv'\n",
    "# Created via aou_workbench_pooled_analyses/01_ukb_lipids__phenotype.ipynb\n",
    "UKB_PHENO <- 'gs://fc-secure-e53e4a44-7fe2-42b7-89b7-01aae1e399f7/data/ukb/pheno/20220304/ukb_lipids_phenotype.csv'\n",
    "\n",
    "#---[ Outputs ]---\n",
    "# Create a timestamp for a folder of results generated today.\n",
    "DATESTAMP <- strftime(now(), '%Y%m%d')\n",
    "DESTINATION <- str_glue('{Sys.getenv(\"WORKSPACE_BUCKET\")}/data/pooled/pheno/{DATESTAMP}/')\n",
    "MERGED_PHENOTYPE_FILENAME <- 'aou_alpha3_ukb_lipids_phenotype.csv'\n",
    "MERGED_ID_FILENAME <- 'aou_alpha3_ukb_lipids_ids.tsv'"
   ]
  },
  {
   "cell_type": "markdown",
   "metadata": {},
   "source": [
    "# Load data"
   ]
  },
  {
   "cell_type": "markdown",
   "metadata": {},
   "source": [
    "## Retrieve AoU lipids phenotype"
   ]
  },
  {
   "cell_type": "code",
   "execution_count": null,
   "metadata": {},
   "outputs": [],
   "source": [
    "aou_pheno <- read_csv(pipe(str_glue('gsutil cat {AOU_PHENO}')))\n",
    "\n",
    "dim(aou_pheno)\n",
    "head(aou_pheno)"
   ]
  },
  {
   "cell_type": "code",
   "execution_count": null,
   "metadata": {},
   "outputs": [],
   "source": [
    "skim(aou_pheno)"
   ]
  },
  {
   "cell_type": "markdown",
   "metadata": {},
   "source": [
    "## Retrieve UKB lipids phenotype"
   ]
  },
  {
   "cell_type": "code",
   "execution_count": null,
   "metadata": {},
   "outputs": [],
   "source": [
    "ukb_pheno <- read_csv(pipe(str_glue('gsutil cat {UKB_PHENO}')))\n",
    "\n",
    "dim(ukb_pheno)\n",
    "head(ukb_pheno)"
   ]
  },
  {
   "cell_type": "code",
   "execution_count": null,
   "metadata": {},
   "outputs": [],
   "source": [
    "skim(ukb_pheno)"
   ]
  },
  {
   "cell_type": "markdown",
   "metadata": {},
   "source": [
    "# Pool the phenotypes\n",
    "\n",
    "Add the `IID` and `FID` columns needed by regenie and the cohort covariate. Also keep in mind that UKB data has a sample id that is different than the eid."
   ]
  },
  {
   "cell_type": "code",
   "execution_count": null,
   "metadata": {},
   "outputs": [],
   "source": [
    "long_pooled_pheno <- bind_rows(\n",
    "    aou_pheno %>%\n",
    "        mutate(\n",
    "            sample_id = person_id,\n",
    "            cohort = 'AOU',            \n",
    "        ) %>%\n",
    "        select(id=person_id, sample_id, cohort, age, age2, statin_use, sex_at_birth,\n",
    "               race, lipid_type, mg_dl = value_as_number),\n",
    "    ukb_pheno %>%\n",
    "        mutate(\n",
    "            sample_id = eid_31063,\n",
    "            cohort = 'UKB',\n",
    "            statin_use = ifelse(statin_use == 1, TRUE, FALSE)\n",
    "        ) %>%\n",
    "        select(id=eid, sample_id, cohort, age, age2, statin_use, sex_at_birth,\n",
    "               race=top_level_ethnic_background, lipid_type, mg_dl)\n",
    "    ) %>%\n",
    "    mutate(\n",
    "        IID = paste0(format(sample_id, scientific = FALSE), '_', cohort),\n",
    "        FID = IID\n",
    "    )\n",
    "\n",
    "dim(long_pooled_pheno)\n",
    "head(long_pooled_pheno)"
   ]
  },
  {
   "cell_type": "code",
   "execution_count": null,
   "metadata": {},
   "outputs": [],
   "source": [
    "skim(long_pooled_pheno)"
   ]
  },
  {
   "cell_type": "code",
   "execution_count": null,
   "metadata": {},
   "outputs": [],
   "source": [
    "length(unique(long_pooled_pheno$id))"
   ]
  },
  {
   "cell_type": "markdown",
   "metadata": {},
   "source": [
    "# Write phenotypes to workspace bucket"
   ]
  },
  {
   "cell_type": "code",
   "execution_count": null,
   "metadata": {},
   "outputs": [],
   "source": [
    "# Write the dataframe to a file.\n",
    "write_csv(long_pooled_pheno, MERGED_PHENOTYPE_FILENAME)"
   ]
  },
  {
   "cell_type": "code",
   "execution_count": null,
   "metadata": {},
   "outputs": [],
   "source": [
    "# Copy the file to the workspace bucket.\n",
    "system(str_glue('gsutil cp {MERGED_PHENOTYPE_FILENAME} {DESTINATION}'), intern = T)"
   ]
  },
  {
   "cell_type": "code",
   "execution_count": null,
   "metadata": {},
   "outputs": [],
   "source": [
    "# Write the the ids to a file.\n",
    "write_tsv(long_pooled_pheno %>%\n",
    "              select(FID, IID) %>%\n",
    "              distinct(),\n",
    "          MERGED_ID_FILENAME)"
   ]
  },
  {
   "cell_type": "code",
   "execution_count": null,
   "metadata": {},
   "outputs": [],
   "source": [
    "# Copy the file to the workspace bucket.\n",
    "system(str_glue('gsutil cp {MERGED_ID_FILENAME} {DESTINATION}'), intern = T)"
   ]
  },
  {
   "cell_type": "code",
   "execution_count": null,
   "metadata": {},
   "outputs": [],
   "source": [
    "# Check the destination.\n",
    "system(str_glue('gsutil ls -lh {DESTINATION}'), intern = T)"
   ]
  },
  {
   "cell_type": "markdown",
   "metadata": {},
   "source": [
    "# Provenance"
   ]
  },
  {
   "cell_type": "code",
   "execution_count": null,
   "metadata": {},
   "outputs": [],
   "source": [
    "devtools::session_info()"
   ]
  }
 ],
 "metadata": {
  "kernelspec": {
   "display_name": "R",
   "language": "R",
   "name": "ir"
  },
  "language_info": {
   "codemirror_mode": "r",
   "file_extension": ".r",
   "mimetype": "text/x-r-source",
   "name": "R",
   "pygments_lexer": "r",
   "version": "4.1.2"
  },
  "toc": {
   "base_numbering": 1,
   "nav_menu": {},
   "number_sections": true,
   "sideBar": true,
   "skip_h1_title": false,
   "title_cell": "Table of Contents",
   "title_sidebar": "Contents",
   "toc_cell": false,
   "toc_position": {
    "height": "calc(100% - 180px)",
    "left": "10px",
    "top": "150px",
    "width": "318px"
   },
   "toc_section_display": true,
   "toc_window_display": true
  }
 },
 "nbformat": 4,
 "nbformat_minor": 2
}

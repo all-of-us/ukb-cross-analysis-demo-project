{
 "cells": [
  {
   "cell_type": "markdown",
   "metadata": {},
   "source": [
    "# Prepare a lipids phenotype for a GWAS study\n",
    "\n",
    "In this notebook we combine the _All of Us_ lipids phenotype with the UK Biobank lipids phenotype to prepare a pooled lipids phenotype for a GWAS study.\n",
    "\n",
    "Note that this work is part of a larger project to [Demonstrate the Potential for Pooled Analysis of All of Us and UK Biobank Genomic Data](https://docs.google.com/document/d/19ZS0z_-7FEM37pNDAXaWaqBSLnqyd9MZEkiOmtF3n_0/edit#). Specifically, this notebook combines the results from `aou_workbench_siloed_analyses/3_aou_lipids_gwas_phenotype.ipynb` and `aou_workbench_pooled_analyses/6_ukb_lipids_gwas_phenotype.ipynb`.\n",
    "\n",
    "TODO update project description link to biorxiv paper after it is posted."
   ]
  },
  {
   "cell_type": "markdown",
   "metadata": {},
   "source": [
    "# Setup "
   ]
  },
  {
   "cell_type": "markdown",
   "metadata": {},
   "source": [
    "<div class=\"alert alert-block alert-warning\">\n",
    "    <b>Cloud Environment</b>: This notebook was written for use on the <i>All of Us</i> Workbench. It runs fine on the default Cloud Analysis Environment for type <i>Standard VM</i>. \n",
    "</div>"
   ]
  },
  {
   "cell_type": "code",
   "execution_count": null,
   "metadata": {},
   "outputs": [],
   "source": [
    "lapply(c('skimr'), function(pkg_name) { if(! pkg_name %in% installed.packages()) { install.packages(pkg_name)} } )"
   ]
  },
  {
   "cell_type": "code",
   "execution_count": null,
   "metadata": {},
   "outputs": [],
   "source": [
    "library(lubridate)\n",
    "library(skimr)\n",
    "library(tidyverse)"
   ]
  },
  {
   "cell_type": "markdown",
   "metadata": {},
   "source": [
    "## Define constants"
   ]
  },
  {
   "cell_type": "code",
   "execution_count": null,
   "metadata": {
    "tags": [
     "parameters"
    ]
   },
   "outputs": [],
   "source": [
    "# Papermill parameters. See https://papermill.readthedocs.io/en/latest/usage-parameterize.html\n",
    "\n",
    "#---[ Inputs ]---\n",
    "# Created via aou_workbench_pooled_analyses/02_merge_lipids_phenotypes.ipynb\n",
    "MERGED_PHENO <- 'gs://fc-secure-e53e4a44-7fe2-42b7-89b7-01aae1e399f7/data/pooled/pheno/20220214/aou_alpha3_ukb_lipids_phenotype.csv'\n",
    "# Created via aou_workbench_pooled_analyses/5_plink_ld_and_pca.ipynb\n",
    "PCS <- 'gs://fc-secure-fd6786bf-6c28-4f33-ac30-3860fbeee5bb/data/plink/20210907/aou_alpha2_ukb_lipids_plink_pca.eigenvec'\n",
    "\n",
    "#---[ Outputs ]---\n",
    "# Create a timestamp for a folder of results generated today.\n",
    "DATESTAMP <- strftime(now(), '%Y%m%d')\n",
    "DESTINATION <- str_glue('{Sys.getenv(\"WORKSPACE_BUCKET\")}/data/pooled/pheno/{DATESTAMP}/')\n",
    "GWAS_PHENOTYPE_FILENAME <- 'aou_alpha3_ukb_lipids_gwas_phenotype.tsv'"
   ]
  },
  {
   "cell_type": "markdown",
   "metadata": {},
   "source": [
    "# Load data"
   ]
  },
  {
   "cell_type": "markdown",
   "metadata": {},
   "source": [
    "## Retrieve PCs"
   ]
  },
  {
   "cell_type": "code",
   "execution_count": null,
   "metadata": {},
   "outputs": [],
   "source": [
    "pcs <- read_tsv(pipe(str_glue('gsutil cat {PCS}')))\n",
    "\n",
    "dim(pcs)\n",
    "head(pcs)"
   ]
  },
  {
   "cell_type": "markdown",
   "metadata": {},
   "source": [
    "## Retrieve AoU+UKB merged lipids phenotype"
   ]
  },
  {
   "cell_type": "code",
   "execution_count": null,
   "metadata": {},
   "outputs": [],
   "source": [
    "long_pooled_pheno <- read_csv(pipe(str_glue('gsutil cat {MERGED_PHENO}')))\n",
    "\n",
    "dim(long_pooled_pheno)\n",
    "head(long_pooled_pheno)"
   ]
  },
  {
   "cell_type": "code",
   "execution_count": null,
   "metadata": {},
   "outputs": [],
   "source": [
    "skim(long_pooled_pheno)"
   ]
  },
  {
   "cell_type": "markdown",
   "metadata": {},
   "source": [
    "# Pivot from long to wide"
   ]
  },
  {
   "cell_type": "code",
   "execution_count": null,
   "metadata": {},
   "outputs": [],
   "source": [
    "# Note: for UKB everyone had the same age and statin use for all lipids. This is not the case for\n",
    "# AoU since the lipids measurements come from EHR and may have occurred on different days. For AoU\n",
    "# age was already set to `max_age` in aou_workbench_siloed_analyses/01_aou_lipids_phenotype.ipynb so it\n",
    "# can be used as an id column in the pivot, but `statin_use` cannot since in this dataframe its value is still\n",
    "# specific to the particular lipid measurement.\n",
    "pooled_pheno <- long_pooled_pheno %>%\n",
    "    pivot_wider(\n",
    "        id_cols = c(id, sample_id, cohort, age, age2, sex_at_birth, IID, FID),\n",
    "        names_from = lipid_type,\n",
    "        values_from = mg_dl\n",
    "    )\n",
    "\n",
    "dim(pooled_pheno)\n",
    "head(pooled_pheno)"
   ]
  },
  {
   "cell_type": "markdown",
   "metadata": {},
   "source": [
    "## Confirm that we have one row per participant"
   ]
  },
  {
   "cell_type": "code",
   "execution_count": null,
   "metadata": {},
   "outputs": [],
   "source": [
    "nrow(pooled_pheno)\n",
    "length(unique(pooled_pheno$IID))\n",
    "stopifnot(nrow(pooled_pheno) == length(unique(pooled_pheno$IID)))"
   ]
  },
  {
   "cell_type": "markdown",
   "metadata": {},
   "source": [
    "## Check the categorical fields"
   ]
  },
  {
   "cell_type": "code",
   "execution_count": null,
   "metadata": {},
   "outputs": [],
   "source": [
    "table(pooled_pheno$sex_at_birth, useNA = 'always')"
   ]
  },
  {
   "cell_type": "code",
   "execution_count": null,
   "metadata": {},
   "outputs": [],
   "source": [
    "table(pooled_pheno$cohort, useNA = 'always')"
   ]
  },
  {
   "cell_type": "markdown",
   "metadata": {},
   "source": [
    "# Add the ancestry covariates"
   ]
  },
  {
   "cell_type": "code",
   "execution_count": null,
   "metadata": {},
   "outputs": [],
   "source": [
    "pooled_pheno <- inner_join(pooled_pheno, pcs, by = c('IID' = '#IID'))\n",
    "\n",
    "dim(pooled_pheno)\n",
    "head(pooled_pheno)"
   ]
  },
  {
   "cell_type": "markdown",
   "metadata": {},
   "source": [
    "# Normalize lipids values"
   ]
  },
  {
   "cell_type": "code",
   "execution_count": null,
   "metadata": {},
   "outputs": [],
   "source": [
    "pooled_pheno$TC_adjusted_resid = resid(lm(TC_adjusted ~ sex_at_birth+age+age2+PC1+PC2+PC3+PC4+PC5+PC6+PC7+PC8+PC9+PC10,\n",
    "                                          data=pooled_pheno, na.action=na.exclude))\n",
    "pooled_pheno$LDL_adjusted_resid = resid(lm(LDL_adjusted ~ sex_at_birth+age+age2+PC1+PC2+PC3+PC4+PC5+PC6+PC7+PC8+PC9+PC10,\n",
    "                                           data=pooled_pheno, na.action=na.exclude))\n",
    "pooled_pheno$HDL_resid = resid(lm(HDL ~ sex_at_birth+age+age2+PC1+PC2+PC3+PC4+PC5+PC6+PC7+PC8+PC9+PC10,\n",
    "                                  data=pooled_pheno, na.action=na.exclude))\n",
    "pooled_pheno$TG_adjusted_resid = resid(lm(TG_adjusted ~ sex_at_birth+age+age2+PC1+PC2+PC3+PC4+PC5+PC6+PC7+PC8+PC9+PC10,\n",
    "                                          data=pooled_pheno, na.action=na.exclude))"
   ]
  },
  {
   "cell_type": "code",
   "execution_count": null,
   "metadata": {},
   "outputs": [],
   "source": [
    "pooled_pheno$TC_adjusted_norm <- sd(pooled_pheno$TC_adjusted_resid, na.rm = TRUE) * scale(qnorm(\n",
    "    (rank(pooled_pheno$TC_adjusted_resid, na.last = 'keep') - 0.5) / sum(!is.na(pooled_pheno$TC_adjusted_resid)) ))\n",
    "pooled_pheno$LDL_adjusted_norm <- sd(pooled_pheno$LDL_adjusted_resid, na.rm = TRUE) * scale(qnorm(\n",
    "    (rank(pooled_pheno$LDL_adjusted_resid, na.last = 'keep') - 0.5) / sum(!is.na(pooled_pheno$LDL_adjusted_resid)) ))\n",
    "pooled_pheno$HDL_norm <- sd(pooled_pheno$HDL_resid, na.rm = TRUE) * scale(qnorm(\n",
    "    (rank(pooled_pheno$HDL_resid, na.last = 'keep') - 0.5) / sum(!is.na(pooled_pheno$HDL_resid)) ))\n",
    "pooled_pheno$TG_adjusted_norm <- sd(pooled_pheno$TG_adjusted_resid, na.rm = TRUE) * scale(qnorm(\n",
    "    (rank(pooled_pheno$TG_adjusted_resid, na.last = 'keep') - 0.5) / sum(!is.na(pooled_pheno$TG_adjusted_resid)) ))"
   ]
  },
  {
   "cell_type": "markdown",
   "metadata": {},
   "source": [
    "### Check that NAs were handled correctly"
   ]
  },
  {
   "cell_type": "code",
   "execution_count": null,
   "metadata": {},
   "outputs": [],
   "source": [
    "head(pooled_pheno %>% filter(!is.na(LDL_adjusted)) %>% select(starts_with('LDL'), starts_with('TG')))"
   ]
  },
  {
   "cell_type": "code",
   "execution_count": null,
   "metadata": {},
   "outputs": [],
   "source": [
    "head(pooled_pheno %>% filter(is.na(LDL_adjusted)) %>% select(starts_with('LDL'), starts_with('TG')))"
   ]
  },
  {
   "cell_type": "markdown",
   "metadata": {},
   "source": [
    "### Convert matrix columns to vectors"
   ]
  },
  {
   "cell_type": "code",
   "execution_count": null,
   "metadata": {},
   "outputs": [],
   "source": [
    "head(pooled_pheno %>% select(contains('norm')))"
   ]
  },
  {
   "cell_type": "code",
   "execution_count": null,
   "metadata": {},
   "outputs": [],
   "source": [
    "class(pooled_pheno$TC_adjusted_norm)\n",
    "dim(pooled_pheno$TC_adjusted_norm)\n",
    "length((pooled_pheno$TC_adjusted_norm))"
   ]
  },
  {
   "cell_type": "code",
   "execution_count": null,
   "metadata": {},
   "outputs": [],
   "source": [
    "class(pooled_pheno$TC_adjusted_norm[,1])\n",
    "dim(pooled_pheno$TC_adjusted_norm[,1])\n",
    "length((pooled_pheno$TC_adjusted_norm[,1]))"
   ]
  },
  {
   "cell_type": "code",
   "execution_count": null,
   "metadata": {},
   "outputs": [],
   "source": [
    "pooled_pheno <- pooled_pheno %>%\n",
    "    mutate(\n",
    "        TC_adjusted_norm = TC_adjusted_norm[,1],\n",
    "        LDL_adjusted_norm = LDL_adjusted_norm[,1],\n",
    "        HDL_norm = HDL_norm[,1],\n",
    "        TG_adjusted_norm = TG_adjusted_norm[,1]\n",
    "    )\n",
    "\n",
    "head(pooled_pheno)"
   ]
  },
  {
   "cell_type": "markdown",
   "metadata": {},
   "source": [
    "# Write phenotypes to workspace bucket"
   ]
  },
  {
   "cell_type": "code",
   "execution_count": null,
   "metadata": {},
   "outputs": [],
   "source": [
    "# Write the dataframe to a file.\n",
    "write_tsv(pooled_pheno %>% select(FID, IID, everything()), GWAS_PHENOTYPE_FILENAME)"
   ]
  },
  {
   "cell_type": "code",
   "execution_count": null,
   "metadata": {},
   "outputs": [],
   "source": [
    "# Copy the file to the workspace bucket.\n",
    "system(str_glue('gsutil cp {GWAS_PHENOTYPE_FILENAME} {DESTINATION}'), intern = T)"
   ]
  },
  {
   "cell_type": "code",
   "execution_count": null,
   "metadata": {},
   "outputs": [],
   "source": [
    "# Check the destination.\n",
    "system(str_glue('gsutil ls -lh {DESTINATION}'), intern = T)"
   ]
  },
  {
   "cell_type": "markdown",
   "metadata": {},
   "source": [
    "# Provenance"
   ]
  },
  {
   "cell_type": "code",
   "execution_count": null,
   "metadata": {},
   "outputs": [],
   "source": [
    "devtools::session_info()"
   ]
  }
 ],
 "metadata": {
  "kernelspec": {
   "display_name": "R",
   "language": "R",
   "name": "ir"
  },
  "language_info": {
   "codemirror_mode": "r",
   "file_extension": ".r",
   "mimetype": "text/x-r-source",
   "name": "R",
   "pygments_lexer": "r",
   "version": "4.1.2"
  },
  "toc": {
   "base_numbering": 1,
   "nav_menu": {},
   "number_sections": true,
   "sideBar": true,
   "skip_h1_title": false,
   "title_cell": "Table of Contents",
   "title_sidebar": "Contents",
   "toc_cell": false,
   "toc_position": {
    "height": "calc(100% - 180px)",
    "left": "10px",
    "top": "150px",
    "width": "206px"
   },
   "toc_section_display": true,
   "toc_window_display": true
  }
 },
 "nbformat": 4,
 "nbformat_minor": 2
}

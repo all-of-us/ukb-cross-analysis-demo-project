{
 "cells": [
  {
   "cell_type": "markdown",
   "metadata": {},
   "source": [
    "# Plot results for pooled analyses\n",
    "\n",
    "In this notebook we review and explore the pooled *All of Us* and UK Biobankdata for lipids phenotypes, covariates, and GWAS results.\n",
    "\n",
    "Note that this work is part of a larger project to [Demonstrate the Potential for Pooled Analysis of All of Us and UK Biobank Genomic Data](https://github.com/all-of-us/ukb-cross-analysis-demo-project). Specifically this is for the portion of the project that is the **pooled** analysis."
   ]
  },
  {
   "cell_type": "markdown",
   "metadata": {},
   "source": [
    "# Setup"
   ]
  },
  {
   "cell_type": "markdown",
   "metadata": {},
   "source": [
    "<div class=\"alert alert-block alert-warning\">\n",
    "    <b>Cloud Environment</b>: This notebook was written for use on the <i>All of Us</i> Workbench.\n",
    "    <ul>\n",
    "        <li>Use \"Recommended Environment\" <kbd><b>General Analysis</b></kbd> which creates compute type <kbd><b>Standard VM</b></kbd> with reasonable defaults for CPU, RAM, and disk.</li>\n",
    "        <li>This notebook takes several minutes to run interactively. You can also it in the background via <kbd>run_notebook_in_the_background</kbd> for the sake of provenance and reproducibility.</li>\n",
    "    </ul>\n",
    "</div>"
   ]
  },
  {
   "cell_type": "code",
   "execution_count": null,
   "metadata": {},
   "outputs": [],
   "source": [
    "lapply(c('ggExtra', 'hexbin', 'hrbrthemes', 'skimr', 'qqman', 'viridis'),\n",
    "       function(pkg) { if(! pkg %in% installed.packages()) { install.packages(pkg)} } )"
   ]
  },
  {
   "cell_type": "code",
   "execution_count": null,
   "metadata": {},
   "outputs": [],
   "source": [
    "library(ggExtra)\n",
    "library(grid)\n",
    "library(gridExtra)\n",
    "library(hrbrthemes)\n",
    "library(qqman)\n",
    "library(readxl)\n",
    "library(scales)\n",
    "library(skimr)\n",
    "library(tidyverse)\n",
    "library(viridis)"
   ]
  },
  {
   "cell_type": "code",
   "execution_count": null,
   "metadata": {},
   "outputs": [],
   "source": [
    "# Set some visualiation defaults.\n",
    "theme_set(theme_ipsum(base_size = 16)) # Default theme for plots.\n",
    "\n",
    "#' Returns a data frame with a y position and a label, for use annotating ggplot boxplots.\n",
    "#'\n",
    "#' @param d A data frame.\n",
    "#' @return A data frame with column y as max and column label as length.\n",
    "get_boxplot_fun_data <- function(df) {\n",
    "  return(data.frame(y = max(df), label = stringr::str_c('N = ', length(df))))\n",
    "}"
   ]
  },
  {
   "cell_type": "markdown",
   "metadata": {},
   "source": [
    "## Define constants"
   ]
  },
  {
   "cell_type": "code",
   "execution_count": null,
   "metadata": {
    "tags": [
     "parameters"
    ]
   },
   "outputs": [],
   "source": [
    "# Papermill parameters. See https://papermill.readthedocs.io/en/latest/usage-parameterize.html\n",
    "\n",
    "#---[ Inputs ]---\n",
    "# Created via aou_workbench_pooled_analyses/02_merge_lipids_phenotypes.ipynb\n",
    "MERGED_PHENO <- 'gs://fc-secure-e53e4a44-7fe2-42b7-89b7-01aae1e399f7/data/pooled/pheno/20220310/aou_alpha3_ukb_lipids_phenotype.csv'\n",
    "# Created via aou_workbench_pooled_analyses/08_pooled_phenotype_for_gwas.ipynb\n",
    "REGENIE_PHENO <- 'gs://fc-secure-e53e4a44-7fe2-42b7-89b7-01aae1e399f7/data/pooled/pheno/20220315/aou_alpha3_ukb_lipids_gwas_phenotype.tsv'\n",
    "\n",
    "# Created via notebook aou_workbench_pooled_analyses/09_pooled_regenie_gwas.ipynb\n",
    "REGENIE_RESULTS <- c(\n",
    "    HDL='gs://fc-secure-e53e4a44-7fe2-42b7-89b7-01aae1e399f7/data/pooled/regenie/20220315/aou_alpha3_ukb_lipids_regenie_step2_HDL_norm.regenie',\n",
    "    LDL='gs://fc-secure-e53e4a44-7fe2-42b7-89b7-01aae1e399f7/data/pooled/regenie/20220315/aou_alpha3_ukb_lipids_regenie_step2_LDL_adjusted_norm.regenie',\n",
    "    TC='gs://fc-secure-e53e4a44-7fe2-42b7-89b7-01aae1e399f7/data/pooled/regenie/20220315/aou_alpha3_ukb_lipids_regenie_step2_TC_adjusted_norm.regenie',\n",
    "    TG='gs://fc-secure-e53e4a44-7fe2-42b7-89b7-01aae1e399f7/data/pooled/regenie/20220315/aou_alpha3_ukb_lipids_regenie_step2_TG_adjusted_norm.regenie'\n",
    ")\n",
    "\n",
    "LIPIDS <- names(REGENIE_RESULTS)\n",
    "\n",
    "# Created via notebook aou_workbench_pooled_analyses/04_pooled_plink_ld_and_pca.ipynb\n",
    "LD_PRUNED_VARIANTS <- 'gs://fc-secure-e53e4a44-7fe2-42b7-89b7-01aae1e399f7/data/pooled/ld-pca/20220314/aou_alpha3_ukb_lipids_plink_ld.prune.in'\n",
    "\n",
    "# Created via notebook aou_workbench_pooled_analyses/04_examine_variant_merge_results.ipynb\n",
    "POOLED_AF <- 'gs://fc-secure-fd6786bf-6c28-4f33-ac30-3860fbeee5bb/data/pooled/examine-geno/20220512/merged_allele_freq-chr1-chr22.tsv'\n",
    "AOU_ONLY_AF <- 'gs://fc-secure-fd6786bf-6c28-4f33-ac30-3860fbeee5bb/data/pooled/examine-geno/20220512/aou_only_allele_freq-chr1-chr22.tsv'\n",
    "UKB_ONLY_AF <- 'gs://fc-secure-fd6786bf-6c28-4f33-ac30-3860fbeee5bb/data/pooled/examine-geno/20220512/ukb_only_allele_freq-chr1-chr22.tsv'\n",
    "\n",
    "PLOT_SUBTITLE <- 'Source: All of Us v5 alpha3 and UK Biobank data'"
   ]
  },
  {
   "cell_type": "markdown",
   "metadata": {},
   "source": [
    "# Load phenotypes"
   ]
  },
  {
   "cell_type": "code",
   "execution_count": null,
   "metadata": {},
   "outputs": [],
   "source": [
    "pheno <- read_csv(pipe(str_glue('gsutil cat {MERGED_PHENO}')))\n",
    "\n",
    "dim(pheno)\n",
    "spec(pheno)"
   ]
  },
  {
   "cell_type": "markdown",
   "metadata": {},
   "source": [
    "## Add age group categorical variable"
   ]
  },
  {
   "cell_type": "code",
   "execution_count": null,
   "metadata": {},
   "outputs": [],
   "source": [
    "pheno <- pheno %>%\n",
    "    mutate(\n",
    "        age_group = cut_width(age, width = 20, boundary = 0)\n",
    "    )"
   ]
  },
  {
   "cell_type": "markdown",
   "metadata": {},
   "source": [
    "## Improve `sex_at_birth` labels"
   ]
  },
  {
   "cell_type": "code",
   "execution_count": null,
   "metadata": {},
   "outputs": [],
   "source": [
    "unique(pheno$sex_at_birth)"
   ]
  },
  {
   "cell_type": "code",
   "execution_count": null,
   "metadata": {},
   "outputs": [],
   "source": [
    "pheno <- pheno %>%\n",
    "    mutate(\n",
    "        sex_at_birth = ifelse(is.na(sex_at_birth),\n",
    "                              'Not male, not female, prefer not to answer, or skipped',\n",
    "                              sex_at_birth)\n",
    "    )"
   ]
  },
  {
   "cell_type": "code",
   "execution_count": null,
   "metadata": {},
   "outputs": [],
   "source": [
    "unique(pheno$sex_at_birth)"
   ]
  },
  {
   "cell_type": "markdown",
   "metadata": {},
   "source": [
    "## Improve `cohort` labels"
   ]
  },
  {
   "cell_type": "code",
   "execution_count": null,
   "metadata": {},
   "outputs": [],
   "source": [
    "unique(pheno$cohort)"
   ]
  },
  {
   "cell_type": "code",
   "execution_count": null,
   "metadata": {},
   "outputs": [],
   "source": [
    "pheno <- pheno %>%\n",
    "    mutate(\n",
    "        cohort = case_when(\n",
    "            cohort == 'AOU' ~ 'All of Us',\n",
    "            cohort == 'UKB' ~ 'UK Biobank'\n",
    "        )\n",
    "    )"
   ]
  },
  {
   "cell_type": "code",
   "execution_count": null,
   "metadata": {},
   "outputs": [],
   "source": [
    "unique(pheno$cohort)"
   ]
  },
  {
   "cell_type": "markdown",
   "metadata": {},
   "source": [
    "## Consolidate `race` labels"
   ]
  },
  {
   "cell_type": "code",
   "execution_count": null,
   "metadata": {},
   "outputs": [],
   "source": [
    "unique(pheno$race)"
   ]
  },
  {
   "cell_type": "code",
   "execution_count": null,
   "metadata": {},
   "outputs": [],
   "source": [
    "pheno %>%\n",
    "    select(id, cohort, race) %>%\n",
    "    distinct() %>%\n",
    "    group_by(cohort, race) %>%\n",
    "    summarize(count = n())"
   ]
  },
  {
   "cell_type": "code",
   "execution_count": null,
   "metadata": {},
   "outputs": [],
   "source": [
    "pheno <- pheno %>%\n",
    "    mutate(\n",
    "        ancestry = case_when(\n",
    "            race %in% c('Native Hawaiian or Other Pacific Islander',\n",
    "                        'I prefer not to answer',\n",
    "                        'None Indicated',\n",
    "                        'None of these',\n",
    "                        'PMI: Skip',\n",
    "                        'Do not know',\n",
    "                        'Other ethnic group',\n",
    "                        'Prefer not to answer') | is.na(race) ~ 'Other or\\nnot specified',\n",
    "            race %in% c('More than one population', 'Mixed') ~ 'More than\\none population',\n",
    "            race %in% c('Black or African American', 'Black or Black British') ~ 'Black',\n",
    "            race %in% c('Asian', 'Asian or Asian British', 'Chinese') ~ 'Asian',\n",
    "            race == 'Middle Eastern or North African' ~ 'Middle Eastern\\nor North African',\n",
    "            TRUE ~ race\n",
    "        )\n",
    "    )"
   ]
  },
  {
   "cell_type": "code",
   "execution_count": null,
   "metadata": {},
   "outputs": [],
   "source": [
    "pheno %>%\n",
    "    select(id, cohort, ancestry) %>%\n",
    "    distinct() %>%\n",
    "    group_by(cohort, ancestry) %>%\n",
    "    summarize(count = n())"
   ]
  },
  {
   "cell_type": "code",
   "execution_count": null,
   "metadata": {},
   "outputs": [],
   "source": [
    "pheno %>%\n",
    "    select(id, ancestry) %>%\n",
    "    distinct() %>%\n",
    "    group_by(ancestry) %>%\n",
    "    summarize(count = n())"
   ]
  },
  {
   "cell_type": "markdown",
   "metadata": {},
   "source": [
    "## Distinguish between adjusted and unadjusted values"
   ]
  },
  {
   "cell_type": "code",
   "execution_count": null,
   "metadata": {},
   "outputs": [],
   "source": [
    "pheno <- pheno %>%\n",
    "    separate(\n",
    "        col = lipid_type,\n",
    "        into = c('lipid', 'is_adjusted'),\n",
    "        sep = '_',\n",
    "        remove = FALSE\n",
    "    ) %>%\n",
    "    mutate(\n",
    "        is_adjusted_for_statin_use = ifelse(is.na(is_adjusted), 'raw', is_adjusted),\n",
    "        is_adjusted_for_statin_use = fct_relevel(is_adjusted_for_statin_use, 'adjusted', after = Inf)\n",
    "    )"
   ]
  },
  {
   "cell_type": "markdown",
   "metadata": {},
   "source": [
    "## Check categorical variables"
   ]
  },
  {
   "cell_type": "code",
   "execution_count": null,
   "metadata": {},
   "outputs": [],
   "source": [
    "pheno %>%\n",
    "    select(id, cohort) %>%\n",
    "    distinct() %>%\n",
    "    group_by(cohort) %>%\n",
    "    summarize(count = n())"
   ]
  },
  {
   "cell_type": "code",
   "execution_count": null,
   "metadata": {},
   "outputs": [],
   "source": [
    "pheno %>%\n",
    "    select(id, sex_at_birth) %>%\n",
    "    distinct() %>%\n",
    "    group_by(sex_at_birth) %>%\n",
    "    summarize(count = n())"
   ]
  },
  {
   "cell_type": "code",
   "execution_count": null,
   "metadata": {},
   "outputs": [],
   "source": [
    "pheno %>%\n",
    "    select(id, statin_use) %>%\n",
    "    distinct() %>%\n",
    "    group_by(statin_use) %>%\n",
    "    summarize(count = n())"
   ]
  },
  {
   "cell_type": "code",
   "execution_count": null,
   "metadata": {},
   "outputs": [],
   "source": [
    "pheno %>%\n",
    "    group_by(lipid_type, lipid, is_adjusted_for_statin_use) %>%\n",
    "    summarize(count = n())"
   ]
  },
  {
   "cell_type": "markdown",
   "metadata": {},
   "source": [
    "# Plot lipids"
   ]
  },
  {
   "cell_type": "code",
   "execution_count": null,
   "metadata": {},
   "outputs": [],
   "source": [
    "plot_vars <- function(data, xvar, yvar, fillvar, title_detail = '', log_scale = FALSE, long_labels = FALSE) {\n",
    "    xvar_sym <- sym(xvar)\n",
    "    xvar_name <- xvar\n",
    "    yvar_sym <- sym(yvar)\n",
    "    yvar_name <- yvar\n",
    "    fillvar_sym <- sym(fillvar)\n",
    "    fillvar_name <- fillvar\n",
    "\n",
    "    p <- data %>%\n",
    "        filter(lipid_type == yvar_name) %>%\n",
    "        filter(!is.na(mg_dl)) %>%\n",
    "        ggplot(aes(x = !!xvar_sym, y = mg_dl, fill = !!fillvar_sym)) +\n",
    "        geom_boxplot() +\n",
    "        stat_summary(fun.data = get_boxplot_fun_data, geom = 'text', size = 5,\n",
    "                     position = position_dodge(width = 0.9), vjust = -0.8) +\n",
    "        theme(\n",
    "            axis.title.x=element_text(size=14),\n",
    "            axis.title.y=element_text(size=14),\n",
    "        ) +\n",
    "        ylab(yvar_name) +\n",
    "        labs(title = str_glue('{yvar_name} mg/dL per person by {xvar_name} and {fillvar_name} {title_detail}'),\n",
    "             caption = PLOT_SUBTITLE)\n",
    "\n",
    "    if(log_scale) {\n",
    "        p = p + scale_y_log10()\n",
    "    }\n",
    "    \n",
    "    if(long_labels) {\n",
    "        p = p + theme(axis.text.x = element_text(angle = 45, vjust = 0.5, hjust=1))\n",
    "        options(repr.plot.width = 16, repr.plot.height = 10)\n",
    "    } else {\n",
    "        options(repr.plot.width = 16, repr.plot.height = 8)\n",
    "    }\n",
    "\n",
    "    p\n",
    "}"
   ]
  },
  {
   "cell_type": "markdown",
   "metadata": {},
   "source": [
    "## By age group"
   ]
  },
  {
   "cell_type": "code",
   "execution_count": null,
   "metadata": {},
   "outputs": [],
   "source": [
    "for (lipid in c('LDL', 'TC', 'HDL', 'TG')) {\n",
    "    print(plot_vars(data = pheno, xvar = 'age_group', yvar = lipid, fillvar = 'cohort'))\n",
    "}"
   ]
  },
  {
   "cell_type": "code",
   "execution_count": null,
   "metadata": {},
   "outputs": [],
   "source": [
    "plot_vars(data = pheno, xvar = 'age_group', yvar = 'TG', fillvar = 'cohort',\n",
    "          log_scale = TRUE, title_detail = '[log scale y-axis]')"
   ]
  },
  {
   "cell_type": "markdown",
   "metadata": {},
   "source": [
    "## By ancestry"
   ]
  },
  {
   "cell_type": "code",
   "execution_count": null,
   "metadata": {},
   "outputs": [],
   "source": [
    "for (lipid in c('LDL', 'TC', 'HDL', 'TG')) {\n",
    "    print(plot_vars(data = pheno, xvar = 'ancestry', yvar = lipid, fillvar = 'cohort', long_labels = TRUE))\n",
    "}"
   ]
  },
  {
   "cell_type": "code",
   "execution_count": null,
   "metadata": {},
   "outputs": [],
   "source": [
    "plot_vars(data = pheno, xvar = 'ancestry', yvar = 'TG', fillvar = 'cohort',\n",
    "          log_scale = TRUE, title_detail = '[log scale y-axis]', long_labels = TRUE)"
   ]
  },
  {
   "cell_type": "markdown",
   "metadata": {},
   "source": [
    "## By statin use"
   ]
  },
  {
   "cell_type": "code",
   "execution_count": null,
   "metadata": {},
   "outputs": [],
   "source": [
    "for (lipid in c('LDL', 'TC', 'HDL', 'TG')) {\n",
    "    print(plot_vars(data = pheno, xvar = 'cohort', yvar = lipid, fillvar = 'statin_use'))\n",
    "}"
   ]
  },
  {
   "cell_type": "code",
   "execution_count": null,
   "metadata": {},
   "outputs": [],
   "source": [
    "plot_vars(data = pheno, xvar = 'cohort', yvar = 'TG', fillvar = 'statin_use',\n",
    "          log_scale = TRUE, title_detail = '[log scale y-axis]')"
   ]
  },
  {
   "cell_type": "markdown",
   "metadata": {},
   "source": [
    "## By statin use and adjusted"
   ]
  },
  {
   "cell_type": "code",
   "execution_count": null,
   "metadata": {},
   "outputs": [],
   "source": [
    "for (lipid in c('LDL_adjusted', 'TC_adjusted', 'TG_adjusted')) {\n",
    "    print(plot_vars(data = pheno, xvar = 'cohort', yvar = lipid, fillvar = 'statin_use'))\n",
    "}"
   ]
  },
  {
   "cell_type": "code",
   "execution_count": null,
   "metadata": {},
   "outputs": [],
   "source": [
    "# Special case the title for this plot.\n",
    "plot_vars(data = pheno, xvar = 'cohort', yvar = 'TG_adjusted', fillvar = 'statin_use',\n",
    "          log_scale = FALSE, title_detail = '[adjusted data is in log space]')"
   ]
  },
  {
   "cell_type": "markdown",
   "metadata": {},
   "source": [
    "## By sex at birth"
   ]
  },
  {
   "cell_type": "code",
   "execution_count": null,
   "metadata": {},
   "outputs": [],
   "source": [
    "for (lipid in c('LDL', 'TC', 'HDL', 'TG')) {\n",
    "    print(plot_vars(data = pheno, xvar = 'cohort', yvar = lipid, fillvar = 'sex_at_birth'))\n",
    "}"
   ]
  },
  {
   "cell_type": "code",
   "execution_count": null,
   "metadata": {},
   "outputs": [],
   "source": [
    "plot_vars(data = pheno, xvar = 'cohort', yvar = 'TG', fillvar = 'sex_at_birth',\n",
    "          log_scale = TRUE, title_detail = '[log scale y-axis]')"
   ]
  },
  {
   "cell_type": "markdown",
   "metadata": {},
   "source": [
    "## Faceted plots for paper"
   ]
  },
  {
   "cell_type": "code",
   "execution_count": null,
   "metadata": {},
   "outputs": [],
   "source": [
    "plot_multiple_lipids <- function(data, xvar, yvar, fillvar, title_detail = '', log_scale = FALSE, long_labels = FALSE) {\n",
    "    xvar_sym <- sym(xvar)\n",
    "    xvar_name <- xvar\n",
    "    yvar_sym <- sym(yvar)\n",
    "    yvar_name <- yvar\n",
    "    fillvar_sym <- sym(fillvar)\n",
    "    fillvar_name <- fillvar\n",
    "\n",
    "    p <- data %>%\n",
    "        filter(lipid == yvar_name) %>%\n",
    "        filter(!is.na(mg_dl)) %>%\n",
    "        ggplot(aes(x = !!xvar_sym, y = mg_dl, fill = !!fillvar_sym)) +\n",
    "        geom_boxplot() +\n",
    "        stat_summary(fun.data = get_boxplot_fun_data, geom = 'text', size = 5,\n",
    "                     position = position_dodge(width = 0.9), vjust = -0.8) +\n",
    "        facet_grid(cols = vars(is_adjusted_for_statin_use)) +\n",
    "        theme(\n",
    "            axis.title.x=element_text(size=14),\n",
    "            axis.title.y=element_text(size=14),\n",
    "        ) +\n",
    "        ylab(yvar_name) +\n",
    "        labs(title = str_glue('{yvar_name} mg/dL per person by {xvar_name} and {fillvar_name} {title_detail}'),\n",
    "             caption = PLOT_SUBTITLE) +\n",
    "        theme(strip.text.x = element_text(size = 20))\n",
    "\n",
    "    if(log_scale) {\n",
    "        p = p + scale_y_log10()\n",
    "    }\n",
    "    \n",
    "    if(long_labels) {\n",
    "        p = p + theme(axis.text.x = element_text(angle = 45, vjust = 0.5, hjust=1))\n",
    "        options(repr.plot.width = 16, repr.plot.height = 10)\n",
    "    } else {\n",
    "        options(repr.plot.width = 16, repr.plot.height = 8)\n",
    "    }\n",
    "\n",
    "    p\n",
    "}"
   ]
  },
  {
   "cell_type": "code",
   "execution_count": null,
   "metadata": {},
   "outputs": [],
   "source": [
    "for (lipid in c('LDL', 'TC', 'HDL', 'TG')) {\n",
    "    print(plot_multiple_lipids(data = pheno %>% filter(mg_dl < 700),\n",
    "                               xvar = 'cohort',\n",
    "                               yvar = lipid,\n",
    "                               fillvar = 'statin_use') +\n",
    "          ylab(str_glue('{lipid} mg/dL')) +\n",
    "          labs(title = str_glue('{lipid} per person by cohort, before and after adjustment for statin use'),\n",
    "          caption = PLOT_SUBTITLE)\n",
    "         )\n",
    "    ggsave(str_glue('{lipid}_before_and_after_adjustment_for_statin_use.png'), device = 'png', width = 18, height = 8, units = 'in')\n",
    "}"
   ]
  },
  {
   "cell_type": "markdown",
   "metadata": {},
   "source": [
    "# Load GWAS phenotypes"
   ]
  },
  {
   "cell_type": "code",
   "execution_count": null,
   "metadata": {},
   "outputs": [],
   "source": [
    "regenie_pheno = read_tsv(pipe(str_glue('gsutil cat {REGENIE_PHENO}')))\n",
    "\n",
    "dim(regenie_pheno)\n",
    "colnames(regenie_pheno)"
   ]
  },
  {
   "cell_type": "code",
   "execution_count": null,
   "metadata": {},
   "outputs": [],
   "source": [
    "regenie_pheno %>%\n",
    "    group_by(cohort) %>%\n",
    "    summarize(\n",
    "        count = n()\n",
    "    )"
   ]
  },
  {
   "cell_type": "code",
   "execution_count": null,
   "metadata": {},
   "outputs": [],
   "source": [
    "sort(colnames(regenie_pheno))"
   ]
  },
  {
   "cell_type": "markdown",
   "metadata": {},
   "source": [
    "# Plot GWAS phenotypes"
   ]
  },
  {
   "cell_type": "code",
   "execution_count": null,
   "metadata": {},
   "outputs": [],
   "source": [
    "plot_var_histograms <- function(data, xvar, facetvar, title_detail = '', log_scale = FALSE) {\n",
    "    xvar_sym <- sym(xvar)\n",
    "    xvar_name <- xvar\n",
    "    facetvar_sym <- sym(facetvar)\n",
    "    facetvar_name <- facetvar\n",
    "\n",
    "    options(repr.plot.width = 16, repr.plot.height = 8)\n",
    "    \n",
    "    p <- data %>%\n",
    "        filter(!is.na(!!xvar_sym)) %>%\n",
    "        ggplot(aes(x = !!xvar_sym)) +\n",
    "        geom_histogram(bins = 30) +\n",
    "        facet_wrap(vars(!!facetvar_sym), ncol = 2, scales = 'free') +\n",
    "        theme(\n",
    "            axis.title.x=element_text(size=14),\n",
    "            axis.title.y=element_text(size=14),\n",
    "        ) +\n",
    "        labs(title = str_glue('{xvar_name} {title_detail}'),\n",
    "             caption = PLOT_SUBTITLE)\n",
    "\n",
    "    if(log_scale) {\n",
    "        p = p + scale_y_log10()\n",
    "    }\n",
    "\n",
    "    p\n",
    "}"
   ]
  },
  {
   "cell_type": "code",
   "execution_count": null,
   "metadata": {},
   "outputs": [],
   "source": [
    "options(repr.plot.width = 8, repr.plot.height = 8)\n",
    "for (lipid in c('HDL', 'HDL_resid', 'HDL_norm',\n",
    "                'LDL', 'LDL_adjusted', 'LDL_adjusted_resid', 'LDL_adjusted_norm',\n",
    "                'TC', 'TC_adjusted', 'TC_adjusted_resid', 'TC_adjusted_norm',\n",
    "                'TG', 'TG_adjusted', 'TG_adjusted_resid', 'TG_adjusted_norm')) {\n",
    "    print(plot_var_histograms(data = regenie_pheno, xvar = lipid, facetvar = 'cohort'))\n",
    "}"
   ]
  },
  {
   "cell_type": "markdown",
   "metadata": {},
   "source": [
    "# Load the regenie GWAS results"
   ]
  },
  {
   "cell_type": "markdown",
   "metadata": {},
   "source": [
    "Bring our results into a single dataframe with a lipid type column."
   ]
  },
  {
   "cell_type": "code",
   "execution_count": null,
   "metadata": {},
   "outputs": [],
   "source": [
    "combined_regenie_results <- bind_rows(\n",
    "    lapply(LIPIDS, function(lipid) {\n",
    "        file <- REGENIE_RESULTS[lipid]\n",
    "        read_delim(pipe(str_glue('gsutil cat {file}')), delim = ' ') %>%\n",
    "        mutate(lipid_type = lipid)\n",
    "    })) %>%\n",
    "    mutate(\n",
    "        p_value = 10 ^ (-1 * LOG10P)\n",
    "    )\n",
    "\n",
    "dim(combined_regenie_results)"
   ]
  },
  {
   "cell_type": "code",
   "execution_count": null,
   "metadata": {},
   "outputs": [],
   "source": [
    "head(combined_regenie_results)"
   ]
  },
  {
   "cell_type": "code",
   "execution_count": null,
   "metadata": {},
   "outputs": [],
   "source": [
    "combined_regenie_results %>%\n",
    "    mutate(\n",
    "        significant = LOG10P > -log10(5e-08)\n",
    "    ) %>%\n",
    "    group_by(lipid_type) %>%\n",
    "    summarize(\n",
    "        mum_results = n(),\n",
    "        num_significant_results = sum(significant),\n",
    "        min_p_value = min(p_value),\n",
    "        max_p_value = max(p_value),\n",
    "        min_LOG10P = min(LOG10P),\n",
    "        max_LOG10P = max(LOG10P),\n",
    "        min_A1FREQ = min(A1FREQ),\n",
    "        max_A1FREQ = max(A1FREQ),\n",
    "        min_N = min(N),\n",
    "        max_N = max(N),\n",
    "    )"
   ]
  },
  {
   "cell_type": "markdown",
   "metadata": {},
   "source": [
    "# Plot regenie results"
   ]
  },
  {
   "cell_type": "code",
   "execution_count": null,
   "metadata": {},
   "outputs": [],
   "source": [
    "plot_manhattan_and_qq <- function(regenie_results, manhattan_title, qq_title) {\n",
    "    options(repr.plot.width = 10, repr.plot.height = 10)\n",
    "    manhattan(regenie_results,\n",
    "              chr='CHROM',\n",
    "              bp='GENPOS',\n",
    "              snp='ID',\n",
    "              p='p_value',\n",
    "              logp=TRUE,\n",
    "              annotateTop = FALSE,\n",
    "              ylim = c(0, 200),\n",
    "              cex = 1.25,\n",
    "              cex.axis = 1.25,\n",
    "              cex.lab = 1.25,\n",
    "              main = manhattan_title,\n",
    "              sub = PLOT_SUBTITLE\n",
    "             )\n",
    "\n",
    "    qq(regenie_results$p_value,\n",
    "       cex = 1.25,\n",
    "       cex.axis = 1.25,\n",
    "       cex.lab = 1.25,\n",
    "       main = qq_title,\n",
    "       sub = PLOT_SUBTITLE)\n",
    "}"
   ]
  },
  {
   "cell_type": "markdown",
   "metadata": {},
   "source": [
    "## All GWAS results"
   ]
  },
  {
   "cell_type": "code",
   "execution_count": null,
   "metadata": {},
   "outputs": [],
   "source": [
    "map(LIPIDS, function(lipid) {\n",
    "    regenie_results <- combined_regenie_results %>% filter(lipid_type == lipid)\n",
    "    file = REGENIE_RESULTS[lipid]\n",
    "\n",
    "    gc_score <- median(regenie_results$CHISQ) / qchisq(0.5, 1, lower.tail=FALSE)\n",
    "\n",
    "    message(str_glue('nrow: {nrow(regenie_results)} ncol: {ncol(regenie_results)} in {file}'))\n",
    "    message(str_glue('GC: {round(gc_score, 3)}'))\n",
    "    message(\n",
    "        regenie_results %>%\n",
    "            group_by(TEST) %>%\n",
    "        summarize(count = n())\n",
    "    )\n",
    "\n",
    "    plot_manhattan_and_qq(\n",
    "        regenie_results,\n",
    "        manhattan_title = str_glue('{basename(file)} results\\nfrom {dirname(file)}'),\n",
    "        qq_title = str_glue('{basename(file)} results\\nfrom {dirname(file)}\\n GC: {round(gc_score, 3)}')\n",
    "    )\n",
    "})"
   ]
  },
  {
   "cell_type": "markdown",
   "metadata": {},
   "source": [
    "## Filter to common variants"
   ]
  },
  {
   "cell_type": "raw",
   "metadata": {},
   "source": [
    "# Change this cell type from 'raw' to 'code' to create these plots.\n",
    "map(LIPIDS, function(lipid) {\n",
    "    regenie_results <- combined_regenie_results %>% filter(lipid_type == lipid)\n",
    "    file = REGENIE_RESULTS[lipid]\n",
    "    \n",
    "    # Use only common variants in GC and the plots.\n",
    "    common_regenie_results <- regenie_results %>%\n",
    "        filter(A1FREQ > 0.01 & A1FREQ < 0.99)\n",
    "\n",
    "    gc_score <- median(common_regenie_results$CHISQ) / qchisq(0.5, 1, lower.tail=FALSE)\n",
    "\n",
    "    message(str_glue('nrow: {nrow(regenie_results)} n_sig: {nrow(regenie_results %>% filter(LOG10P > -log10(5e-08)))} in {file}'))\n",
    "    message(str_glue('nrow: {nrow(common_regenie_results)} n_sig: {nrow(common_regenie_results %>% filter(LOG10P > -log10(5e-08)))} after filtering to common variants'))\n",
    "    message(str_glue('GC: {round(gc_score, 3)}'))\n",
    "    message(\n",
    "        regenie_results %>%\n",
    "            group_by(TEST) %>%\n",
    "        summarize(count = n())\n",
    "    )\n",
    "\n",
    "    plot_manhattan_and_qq(\n",
    "        common_regenie_results,\n",
    "        manhattan_title = str_glue('{basename(file)} results\\nfrom {dirname(file)}\\ncommon variants only'),\n",
    "        qq_title = str_glue('{basename(file)} results\\nfrom {dirname(file)}\\ncommon variants only\\tGC: {round(gc_score, 3)}')\n",
    "    )\n",
    "})"
   ]
  },
  {
   "cell_type": "markdown",
   "metadata": {},
   "source": [
    "## Prune variants in LD"
   ]
  },
  {
   "cell_type": "code",
   "execution_count": null,
   "metadata": {},
   "outputs": [],
   "source": [
    "ld_pruned_variants  <- read_tsv(pipe(str_glue('gsutil cat {LD_PRUNED_VARIANTS}')), col_names = 'variant_id')\n",
    "\n",
    "head(ld_pruned_variants)"
   ]
  },
  {
   "cell_type": "raw",
   "metadata": {},
   "source": [
    "# Change this cell type from 'raw' to 'code' to create these plots.\n",
    "map(LIPIDS, function(lipid) {\n",
    "    regenie_results <- combined_regenie_results %>% filter(lipid_type == lipid)\n",
    "    file = REGENIE_RESULTS[lipid]\n",
    "    \n",
    "    # Use LD pruned results in GC and the QQ plot.\n",
    "    ld_pruned_regenie_results <- regenie_results %>%\n",
    "        filter(ID %in% ld_pruned_variants$variant_id)\n",
    "\n",
    "    gc_score <- median(ld_pruned_regenie_results$CHISQ) / qchisq(0.5, 1, lower.tail=FALSE)\n",
    "    \n",
    "    message(str_glue('nrow: {nrow(regenie_results)} n_sig: {nrow(regenie_results %>% filter(LOG10P > -log10(5e-08)))} in {file}'))\n",
    "    message(str_glue('nrow: {nrow(ld_pruned_regenie_results)} n_sig: {nrow(ld_pruned_regenie_results %>% filter(LOG10P > -log10(5e-08)))} after pruning variants in LD'))\n",
    "    message(str_glue('GC: {round(gc_score, 3)}'))\n",
    "    message(\n",
    "        regenie_results %>%\n",
    "            group_by(TEST) %>%\n",
    "        summarize(count = n())\n",
    "    )\n",
    "\n",
    "    plot_manhattan_and_qq(\n",
    "        ld_pruned_regenie_results,\n",
    "        manhattan_title = str_glue('{basename(file)} results\\nfrom {dirname(file)}\\nVariants in LD pruned out.'),\n",
    "        qq_title = str_glue('{basename(file)} results\\nfrom {dirname(file)}\\nVariants in LD pruned out.\\tGC: {round(gc_score, 3)}')\n",
    "    )\n",
    "})"
   ]
  },
  {
   "cell_type": "markdown",
   "metadata": {},
   "source": [
    "## Prune variants in LD and filter to common variants"
   ]
  },
  {
   "cell_type": "raw",
   "metadata": {},
   "source": [
    "# Change this cell type from 'raw' to 'code' to create these plots.\n",
    "map(LIPIDS, function(lipid) {\n",
    "    regenie_results <- combined_regenie_results %>% filter(lipid_type == lipid)\n",
    "    file = REGENIE_RESULTS[lipid]\n",
    "    \n",
    "    # Use only common variants in GC and the plots.\n",
    "    common_regenie_results <- regenie_results %>%\n",
    "        filter(A1FREQ > 0.01 & A1FREQ < 0.99)\n",
    "    \n",
    "    # Use LD pruned results in GC and the QQ plot.\n",
    "    ld_pruned_common_regenie_results <- common_regenie_results %>%\n",
    "        filter(ID %in% ld_pruned_variants$variant_id)\n",
    "\n",
    "    gc_score <- median(ld_pruned_common_regenie_results$CHISQ) / qchisq(0.5, 1, lower.tail=FALSE)\n",
    "    \n",
    "    message(str_glue('nrow: {nrow(regenie_results)} n_sig: {nrow(regenie_results %>% filter(LOG10P > -log10(5e-08)))} in {file}'))\n",
    "    message(str_glue('nrow: {nrow(common_regenie_results)} n_sig: {nrow(common_regenie_results %>% filter(LOG10P > -log10(5e-08)))} after filtering to common variants only'))\n",
    "    message(str_glue('nrow: {nrow(ld_pruned_common_regenie_results)} n_sig: {nrow(ld_pruned_common_regenie_results %>% filter(LOG10P > -log10(5e-08)))} after pruning variants in LD'))\n",
    "    message(str_glue('GC: {round(gc_score, 3)}'))\n",
    "    message(\n",
    "        regenie_results %>%\n",
    "            group_by(TEST) %>%\n",
    "        summarize(count = n())\n",
    "    )\n",
    "\n",
    "    plot_manhattan_and_qq(\n",
    "        ld_pruned_common_regenie_results,\n",
    "        manhattan_title = str_glue('{basename(file)} results\\nfrom {dirname(file)}\\nVariants in LD pruned out and common variants only.'),\n",
    "        qq_title = str_glue('{basename(file)} results\\nfrom {dirname(file)}\\nVariants in LD pruned out and common variants only.\\tGC: {round(gc_score, 3)}')\n",
    "    )\n",
    "})"
   ]
  },
  {
   "cell_type": "markdown",
   "metadata": {},
   "source": [
    "# Comparisons against other lipids studies "
   ]
  },
  {
   "cell_type": "markdown",
   "metadata": {},
   "source": [
    "## Comparison with UKB published GWAS summary"
   ]
  },
  {
   "cell_type": "markdown",
   "metadata": {},
   "source": [
    "##### Rare coding variants in 35 genes associate with circulating lipid levels – a multi-ancestry analysis of 170,000 exomes. Hindy et al 2021"
   ]
  },
  {
   "cell_type": "code",
   "execution_count": null,
   "metadata": {},
   "outputs": [],
   "source": [
    "download.file('https://www.biorxiv.org/content/biorxiv/early/2021/09/01/2020.12.22.423783/DC2/embed/media-2.xlsx?download=true', 'hindy.xlsx')"
   ]
  },
  {
   "cell_type": "markdown",
   "metadata": {},
   "source": [
    "Bring the Hindy results into a single dataframe with a lipid type column."
   ]
  },
  {
   "cell_type": "code",
   "execution_count": null,
   "metadata": {},
   "outputs": [],
   "source": [
    "combined_hindy_results <- read_xlsx('hindy.xlsx', sheet = 'Table_S11', skip = 1, na = 'NA') %>%\n",
    "    filter(Ancestry == 'Overall') %>%\n",
    "    mutate(\n",
    "        ID = str_c('chr', str_replace_all(RSID, ':', '_')),\n",
    "        lipid_type = case_when(\n",
    "            Trait == 'LDL_ADJ' ~ 'LDL',\n",
    "            Trait == 'TOTAL_ADJ' ~ 'TC',\n",
    "            TRUE ~ Trait\n",
    "        )\n",
    "    )\n",
    "\n",
    "dim(combined_hindy_results)"
   ]
  },
  {
   "cell_type": "code",
   "execution_count": null,
   "metadata": {},
   "outputs": [],
   "source": [
    "head(combined_hindy_results)"
   ]
  },
  {
   "cell_type": "code",
   "execution_count": null,
   "metadata": {},
   "outputs": [],
   "source": [
    "map(LIPIDS, function(lipid) {\n",
    "    hindy_results = combined_hindy_results %>%\n",
    "        filter(lipid_type == lipid) %>%\n",
    "        select(ID, beta_Hindy=BETA_FE)\n",
    "\n",
    "    in_common_results = inner_join(\n",
    "        hindy_results,\n",
    "        combined_regenie_results %>%\n",
    "            filter(lipid_type == lipid) %>%\n",
    "            select(ID, beta_pooled=BETA)\n",
    "    )\n",
    "    \n",
    "    num_hindy_results = nrow(hindy_results)\n",
    "    num_in_common_results = nrow(in_common_results)\n",
    "    result_cor = round(cor(in_common_results$beta_pooled, in_common_results$beta_Hindy)^2, digits=2)\n",
    "    result_cor_test = cor.test(in_common_results$beta_pooled, in_common_results$beta_Hindy)\n",
    "    result_cor_test_p = scientific(result_cor_test$p.value, digits = 2)\n",
    "    \n",
    "    options(repr.plot.width = 10, repr.plot.height = 10)\n",
    "\n",
    "    in_common_results %>%\n",
    "    ggplot(aes(x = beta_Hindy, y = beta_pooled)) +\n",
    "        geom_point(alpha = .5) +\n",
    "        annotate(geom = 'text',\n",
    "                 x = max(in_common_results$beta_Hindy),\n",
    "                 y = min(in_common_results$beta_pooled),\n",
    "                 hjust = 'right',\n",
    "                 vjust = -1,\n",
    "                 color = 'dark blue', \n",
    "                 size = 6,\n",
    "                 label = c(str_glue('N = {num_in_common_results}\\nR-square: {round(result_cor, digits = 3)}\\nP-value= {result_cor_test_p}'))) +\n",
    "        geom_abline() +\n",
    "        theme(\n",
    "            axis.title.x=element_text(size=14),\n",
    "            axis.title.y=element_text(size=14),\n",
    "        ) +\n",
    "        labs(title = str_glue('{lipid} pooled GWAS result comparison to {num_hindy_results}\\nsignificant RSID from Hindy et al. 2021'),\n",
    "             caption = PLOT_SUBTITLE)\n",
    "\n",
    "})"
   ]
  },
  {
   "cell_type": "markdown",
   "metadata": {},
   "source": [
    "## Comparison with TOPMed (Freeze8) Lipid GWAS"
   ]
  },
  {
   "cell_type": "markdown",
   "metadata": {},
   "source": [
    "Whole genome sequence analysis of blood lipid levels in >66,000 individuals. [Selvaraj et al 2021](https://www.biorxiv.org/content/10.1101/2021.10.11.463514v1.supplementary-material)"
   ]
  },
  {
   "cell_type": "code",
   "execution_count": null,
   "metadata": {},
   "outputs": [],
   "source": [
    "download.file('https://www.biorxiv.org/content/biorxiv/early/2021/10/12/2021.10.11.463514/DC1/embed/media-1.xlsx?download=true', 'selvaraj.xlsx')"
   ]
  },
  {
   "cell_type": "markdown",
   "metadata": {},
   "source": [
    "Bring the Selvaraj results into a single dataframe with a lipid type column."
   ]
  },
  {
   "cell_type": "code",
   "execution_count": null,
   "metadata": {},
   "outputs": [],
   "source": [
    "selvaraj_tables = c(HDL = 'A4:L361', LDL = 'A363:L701', TC = 'A703:L1027', TG = 'A1029:L1318')\n",
    "\n",
    "combined_selvaraj_results <- bind_rows(\n",
    "    lapply(LIPIDS, function(lipid) {\n",
    "        # Print some metadata for an eyeball check that we are associating the data with the correct lipid type.\n",
    "        print(str_glue('{lipid} {selvaraj_tables[lipid]}'))\n",
    "        first_row = as.integer(str_extract(selvaraj_tables[lipid], '\\\\d+'))\n",
    "        print(read_xlsx('selvaraj.xlsx', sheet = 'Supplementary Table 3', range = str_glue('A{first_row - 1}:A{first_row}')))\n",
    "        print(nrow(read_xlsx('selvaraj.xlsx', sheet = 'Supplementary Table 3', range = selvaraj_tables[lipid])))\n",
    "        \n",
    "        # Retrieve the data.\n",
    "        read_xlsx('selvaraj.xlsx', sheet = 'Supplementary Table 3', range = selvaraj_tables[lipid]) %>%\n",
    "        mutate(\n",
    "            # Work around a bad entry in the data causing the p.value column to be of type character.\n",
    "            p.value = as.numeric(p.value),\n",
    "            ID = str_glue('chr{CHR}_{POS}_{Allele1}_{Allele2}'),\n",
    "            RSID = str_glue('{CHR}:{POS}:{Allele1}:{Allele2}'),\n",
    "            lipid_type = lipid\n",
    "        )\n",
    "    }))\n",
    "\n",
    "dim(combined_selvaraj_results)"
   ]
  },
  {
   "cell_type": "code",
   "execution_count": null,
   "metadata": {},
   "outputs": [],
   "source": [
    "head(combined_selvaraj_results)"
   ]
  },
  {
   "cell_type": "code",
   "execution_count": null,
   "metadata": {},
   "outputs": [],
   "source": [
    "map(LIPIDS, function(lipid) {\n",
    "    selvaraj_results = combined_selvaraj_results %>%\n",
    "        filter(lipid_type == lipid) %>%\n",
    "        select(ID, beta_selvaraj=BETA)\n",
    "\n",
    "    in_common_results = inner_join(\n",
    "        selvaraj_results,\n",
    "        combined_regenie_results %>%\n",
    "            filter(lipid_type == lipid) %>%\n",
    "            select(ID, beta_pooled=BETA)\n",
    "    )\n",
    "    \n",
    "    num_selvaraj_results = nrow(selvaraj_results)\n",
    "    num_in_common_results = nrow(in_common_results)\n",
    "    result_cor = round(cor(in_common_results$beta_pooled, in_common_results$beta_selvaraj)^2, digits=2)\n",
    "    result_cor_test = cor.test(in_common_results$beta_pooled, in_common_results$beta_selvaraj)\n",
    "    result_cor_test_p = scientific(result_cor_test$p.value, digits = 2)\n",
    "\n",
    "    options(repr.plot.width = 8, repr.plot.height = 8)\n",
    "\n",
    "    in_common_results %>%\n",
    "    ggplot(aes(x = beta_selvaraj, y = beta_pooled)) +\n",
    "        geom_point(alpha = .5) +\n",
    "        annotate(geom = 'text',\n",
    "                 x = max(in_common_results$beta_selvaraj),\n",
    "                 y = min(in_common_results$beta_pooled),\n",
    "                 hjust = 'right',\n",
    "                 vjust = -1,\n",
    "                 color = 'dark blue', \n",
    "                 size = 6,\n",
    "                 label = c(str_glue('N = {num_in_common_results}\\nR-square: {round(result_cor, digits = 3)}\\nP-value= {result_cor_test_p}'))) +\n",
    "        geom_abline() +\n",
    "        theme(\n",
    "            axis.title.x=element_text(size=14),\n",
    "            axis.title.y=element_text(size=14),\n",
    "        ) +\n",
    "        labs(title = str_glue('{lipid} pooled GWAS result comparison to {num_selvaraj_results}\\nsignificant RSID from Selvaraj et al. 2021'),\n",
    "             caption = PLOT_SUBTITLE)\n",
    "\n",
    "})"
   ]
  },
  {
   "cell_type": "markdown",
   "metadata": {},
   "source": [
    "## Comparison Hindy vs. Selvaraj"
   ]
  },
  {
   "cell_type": "code",
   "execution_count": null,
   "metadata": {},
   "outputs": [],
   "source": [
    "map(LIPIDS, function(lipid) {\n",
    "    hindy_results = combined_hindy_results %>%\n",
    "        filter(lipid_type == lipid) %>%\n",
    "        select(RSID, beta_Hindy=BETA_FE)\n",
    "\n",
    "    selvaraj_results = combined_selvaraj_results %>%\n",
    "        filter(lipid_type == lipid) %>%\n",
    "        select(RSID, beta_selvaraj=BETA)\n",
    "\n",
    "    in_common_results = inner_join(\n",
    "        hindy_results,\n",
    "        selvaraj_results\n",
    "    )\n",
    "    \n",
    "    num_hindy_results = nrow(hindy_results)\n",
    "    num_selvaraj_results = nrow(selvaraj_results)\n",
    "    num_in_common_results = nrow(in_common_results)\n",
    "    result_cor = cor(in_common_results$beta_selvaraj, in_common_results$beta_Hindy)\n",
    "    \n",
    "    options(repr.plot.width = 8, repr.plot.height = 8)\n",
    "\n",
    "    in_common_results %>%\n",
    "    ggplot(aes(x = beta_Hindy, y = beta_selvaraj)) +\n",
    "        geom_point(alpha = .5) +\n",
    "        annotate(geom = 'text',\n",
    "                 x = max(in_common_results$beta_Hindy),\n",
    "                 y = min(in_common_results$beta_selvaraj),\n",
    "                 hjust = 'right',\n",
    "                 vjust = -1,\n",
    "                 color = 'dark blue', \n",
    "                 size = 6,\n",
    "                 label = c(str_glue('correlation: {round(result_cor, digits = 3)}\\nN = {num_in_common_results}'))) +\n",
    "        geom_abline() +\n",
    "        theme(\n",
    "            axis.title.x=element_text(size=14),\n",
    "            axis.title.y=element_text(size=14),\n",
    "        ) +\n",
    "        labs(title = str_glue('{lipid} GWAS result comparison between {num_hindy_results} significant RSID\n",
    "from Hindy et al. 2021 and {num_selvaraj_results} significant RSID from\n",
    "Selvaraj et al. 2021'),\n",
    "             caption = PLOT_SUBTITLE)\n",
    "\n",
    "})"
   ]
  },
  {
   "cell_type": "markdown",
   "metadata": {},
   "source": [
    "# Plot allele frequencies"
   ]
  },
  {
   "cell_type": "code",
   "execution_count": null,
   "metadata": {},
   "outputs": [],
   "source": [
    "pooled_af <- read_tsv(pipe(str_glue('gsutil cat {POOLED_AF}')))\n",
    "\n",
    "dim(pooled_af)"
   ]
  },
  {
   "cell_type": "code",
   "execution_count": null,
   "metadata": {},
   "outputs": [],
   "source": [
    "aou_only_af <- read_tsv(pipe(str_glue('gsutil cat {AOU_ONLY_AF}')))\n",
    "\n",
    "dim(aou_only_af)"
   ]
  },
  {
   "cell_type": "code",
   "execution_count": null,
   "metadata": {},
   "outputs": [],
   "source": [
    "ukb_only_af <- read_tsv(pipe(str_glue('gsutil cat {UKB_ONLY_AF}')))\n",
    "\n",
    "dim(ukb_only_af)"
   ]
  },
  {
   "cell_type": "code",
   "execution_count": null,
   "metadata": {},
   "outputs": [],
   "source": [
    "AUTOSOME_LEVELS <- c(paste('chr', c(as.character(seq(1, 22))), sep = ''), as.character(seq(1, 22)))\n",
    "VARIANT_SET_LEVELS <- c('pooled', 'ukb_only', 'aou_only')\n",
    "\n",
    "allele_freq <- bind_rows(\n",
    "    pooled_af %>% mutate(variant_set = 'pooled'),\n",
    "    aou_only_af %>% mutate(variant_set = 'aou_only'),\n",
    "    ukb_only_af %>% mutate(variant_set = 'ukb_only')\n",
    "  ) %>%\n",
    "  mutate(\n",
    "    chrom = str_extract(locus, '^chr\\\\d+'),\n",
    "    chrom = parse_factor(chrom, levels = AUTOSOME_LEVELS),\n",
    "    variant_set = parse_factor(variant_set, VARIANT_SET_LEVELS)\n",
    "  )\n",
    "\n",
    "dim(allele_freq)"
   ]
  },
  {
   "cell_type": "code",
   "execution_count": null,
   "metadata": {},
   "outputs": [],
   "source": [
    "skim(allele_freq)"
   ]
  },
  {
   "cell_type": "code",
   "execution_count": null,
   "metadata": {},
   "outputs": [],
   "source": [
    "allele_freq %>% filter(is.na(AF)) %>% group_by(variant_set) %>% summarize(count = n())"
   ]
  },
  {
   "cell_type": "code",
   "execution_count": null,
   "metadata": {},
   "outputs": [],
   "source": [
    "allele_freq %>% filter(is.na(AF)) %>% head()"
   ]
  },
  {
   "cell_type": "code",
   "execution_count": null,
   "metadata": {},
   "outputs": [],
   "source": [
    "options(repr.plot.width = 16, repr.plot.height = 8)\n",
    "\n",
    "allele_freq %>%\n",
    "    ggplot(aes(x = AF)) +\n",
    "    geom_histogram() +\n",
    "    facet_grid(cols = vars(variant_set)) +\n",
    "    scale_y_log10(labels=comma) +\n",
    "    theme(\n",
    "        axis.title.x=element_text(size=14),\n",
    "        axis.title.y=element_text(size=14),\n",
    "    ) +\n",
    "    labs(title = str_glue('Histogram of allele frequencies [y-axis in log scale]'),\n",
    "         caption = PLOT_SUBTITLE)"
   ]
  },
  {
   "cell_type": "code",
   "execution_count": null,
   "metadata": {},
   "outputs": [],
   "source": [
    "options(repr.plot.width = 16, repr.plot.height = 8)\n",
    "\n",
    "allele_freq %>%\n",
    "    filter(AF < .01) %>%\n",
    "    ggplot(aes(x = AF)) +\n",
    "    geom_histogram() +\n",
    "    facet_grid(cols = vars(variant_set)) +\n",
    "    scale_y_log10(labels=comma) +\n",
    "    theme(\n",
    "        axis.title.x=element_text(size=14),\n",
    "        axis.title.y=element_text(size=14),\n",
    "    ) +\n",
    "    labs(title = str_glue('Histogram of allele frequencies MAF < 1% [y-axis in log scale]'),\n",
    "         caption = PLOT_SUBTITLE)"
   ]
  },
  {
   "cell_type": "code",
   "execution_count": null,
   "metadata": {},
   "outputs": [],
   "source": [
    "options(repr.plot.width = 16, repr.plot.height = 8)\n",
    "\n",
    "allele_freq %>%\n",
    "#    filter(chrom == 'chr21') %>%\n",
    "    ggplot(aes(x = AF, y = AN)) +\n",
    "    geom_hex(bins = 100) +\n",
    "    facet_wrap(~variant_set, ncol = 3) +\n",
    "    scale_y_continuous(labels=comma) +\n",
    "    scale_fill_viridis(direction = -1) +\n",
    "    theme(\n",
    "        axis.title.x=element_text(size=14),\n",
    "        axis.title.y=element_text(size=14),\n",
    "    ) +\n",
    "    xlab('allele frequency (AF)') +\n",
    "    ylab('allele number (AN)') +\n",
    "    labs(title = str_glue('Characteristics of variants found in both datasets, versus those found only in',\n",
    "                          ' UK Biobank or All of Us.'),\n",
    "         caption = PLOT_SUBTITLE)"
   ]
  },
  {
   "cell_type": "code",
   "execution_count": null,
   "metadata": {},
   "outputs": [],
   "source": [
    "options(repr.plot.width = 16, repr.plot.height = 8)\n",
    "\n",
    "allele_freq %>%\n",
    "#    filter(chrom == 'chr21') %>%\n",
    "    ggplot(aes(x = AF, y = AN)) +\n",
    "    geom_point(alpha = 0.3) +\n",
    "    facet_wrap(~variant_set, ncol = 3) +\n",
    "    scale_y_continuous(labels=comma) +\n",
    "    theme(\n",
    "        axis.title.x=element_text(size=14),\n",
    "        axis.title.y=element_text(size=14),\n",
    "    ) +\n",
    "    xlab('allele frequency (AF)') +\n",
    "    ylab('allele number (AN)') +\n",
    "    labs(title = str_glue('Characteristics of variants found in both datasets, versus those found only in',\n",
    "                          ' UK Biobank or All of Us.'),\n",
    "         caption = PLOT_SUBTITLE)"
   ]
  },
  {
   "cell_type": "code",
   "execution_count": null,
   "metadata": {},
   "outputs": [],
   "source": [
    "options(repr.plot.width = 10, repr.plot.height = 8)\n",
    "\n",
    "p <- aou_only_af %>%\n",
    "    ggplot(aes(x = AF, y = AN)) +\n",
    "    geom_point(alpha = 0.5) +\n",
    "#    facet_wrap(~gnomad_popmax_pop, ncol = 2) +\n",
    "    scale_y_continuous(labels=comma) +\n",
    "    scale_fill_viridis() +\n",
    "    theme(\n",
    "        axis.title.x=element_text(size=14),\n",
    "        axis.title.y=element_text(size=14),\n",
    "    )  +\n",
    "    labs(title = str_glue('Allele information for variants found in AoU only'),\n",
    "         caption = PLOT_SUBTITLE)\n",
    "\n",
    "ggMarginal(p, type = 'histogram', size = 10, fill = 'green', xparams = list(bins=100))"
   ]
  },
  {
   "cell_type": "code",
   "execution_count": null,
   "metadata": {},
   "outputs": [],
   "source": [
    "options(repr.plot.width = 16, repr.plot.height = 8)\n",
    "\n",
    "allele_freq %>%\n",
    "    ggplot(aes(x = AF, y = gnomad_popmax_AF), alpha = 0.1) +\n",
    "    geom_point(alpha = 0.3) +\n",
    "    facet_wrap(~variant_set, ncol = 3) +\n",
    "    scale_y_continuous(labels=comma) +\n",
    "    theme(\n",
    "        axis.title.x=element_text(size=14),\n",
    "        axis.title.y=element_text(size=14),\n",
    "    ) +\n",
    "    xlab('allele frequency (AF)') +\n",
    "    ylab('gnomAD popmax allele frequency') +\n",
    "    labs(title = str_glue('gnomAD popmax allele frequencies of variants found in both datasets, versus those found\\nonly in',\n",
    "                          ' UK Biobank or All of Us.'),\n",
    "         caption = PLOT_SUBTITLE)"
   ]
  },
  {
   "cell_type": "markdown",
   "metadata": {},
   "source": [
    "# Provenance "
   ]
  },
  {
   "cell_type": "code",
   "execution_count": null,
   "metadata": {},
   "outputs": [],
   "source": [
    "devtools::session_info()"
   ]
  }
 ],
 "metadata": {
  "kernelspec": {
   "display_name": "R",
   "language": "R",
   "name": "ir"
  },
  "language_info": {
   "codemirror_mode": "r",
   "file_extension": ".r",
   "mimetype": "text/x-r-source",
   "name": "R",
   "pygments_lexer": "r",
   "version": "4.1.2"
  },
  "toc": {
   "base_numbering": 1,
   "nav_menu": {},
   "number_sections": true,
   "sideBar": true,
   "skip_h1_title": false,
   "title_cell": "Table of Contents",
   "title_sidebar": "Contents",
   "toc_cell": false,
   "toc_position": {
    "height": "793px",
    "left": "22px",
    "top": "111.925px",
    "width": "335px"
   },
   "toc_section_display": true,
   "toc_window_display": true
  }
 },
 "nbformat": 4,
 "nbformat_minor": 4
}

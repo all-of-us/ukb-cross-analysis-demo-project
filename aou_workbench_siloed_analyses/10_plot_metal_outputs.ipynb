{
 "cells": [
  {
   "cell_type": "markdown",
   "metadata": {},
   "source": [
    "# Plot results for METAL analysis results\n",
    "\n",
    "In this notebook we review and explore the *All of Us* data for lipids phenotypes, covariates, and GWAS results.\n",
    "\n",
    "Note that this work is part of a larger project to [Demonstrate the Potential for Pooled Analysis of All of Us and UK Biobank Genomic Data](https://docs.google.com/document/d/19ZS0z_-7FEM37pNDAXaWaqBSLnqyd9MZEkiOmtF3n_0/edit#). Specifically this is for the portion of the project that is the **siloed** analysis."
   ]
  },
  {
   "cell_type": "markdown",
   "metadata": {},
   "source": [
    "# Setup "
   ]
  },
  {
   "cell_type": "code",
   "execution_count": null,
   "metadata": {},
   "outputs": [],
   "source": [
    "lapply(c('hrbrthemes', 'skimr', 'qqman'),\n",
    "       function(pkg) { if(! pkg %in% installed.packages()) { \n",
    "           install.packages(pkg)\n",
    "       } } )"
   ]
  },
  {
   "cell_type": "code",
   "execution_count": null,
   "metadata": {},
   "outputs": [],
   "source": [
    "library(grid)\n",
    "library(gridExtra)\n",
    "library(hrbrthemes)\n",
    "library(qqman)\n",
    "library(readxl)\n",
    "library(scales)\n",
    "library(skimr)\n",
    "library(tidyverse)"
   ]
  },
  {
   "cell_type": "code",
   "execution_count": null,
   "metadata": {},
   "outputs": [],
   "source": [
    "# Set some visualiation defaults.\n",
    "theme_set(theme_ipsum(base_size = 16)) # Default theme for plots.\n",
    "\n",
    "#' Returns a data frame with a y position and a label, for use annotating ggplot boxplots.\n",
    "#'\n",
    "#' @param d A data frame.\n",
    "#' @return A data frame with column y as max and column label as length.\n",
    "get_boxplot_fun_data <- function(df) {\n",
    "  return(data.frame(y = max(df), label = stringr::str_c('N = ', length(df))))\n",
    "}"
   ]
  },
  {
   "cell_type": "markdown",
   "metadata": {},
   "source": [
    "## Define constants"
   ]
  },
  {
   "cell_type": "code",
   "execution_count": null,
   "metadata": {},
   "outputs": [],
   "source": [
    "# Papermill parameters. See https://papermill.readthedocs.io/en/latest/usage-parameterize.html\n",
    "\n",
    "# Created via notebook aou_workbench_siloed_analyses/09_metal_meta_analysis.ipynb\n",
    "HDL='gs://fc-secure-471c1068-cd3d-4b43-9b5d-a618c85ceea5/data/aou/regenie/20220323/METAANALYSIS_HDL_1.tbl'\n",
    "LDL='gs://fc-secure-471c1068-cd3d-4b43-9b5d-a618c85ceea5/data/aou/regenie/20220323/METAANALYSIS_LDL_1.tbl'\n",
    "TC='gs://fc-secure-471c1068-cd3d-4b43-9b5d-a618c85ceea5/data/aou/regenie/20220323/METAANALYSIS_TC_1.tbl'\n",
    "TG='gs://fc-secure-471c1068-cd3d-4b43-9b5d-a618c85ceea5/data/aou/regenie/20220323/METAANALYSIS_TG_1.tbl'\n",
    "\n",
    "# Created via notebook aou_workbench_siloed_analyses/08_aggregate_analysis.ipynb\n",
    "AOU_HDL = 'gs://fc-secure-471c1068-cd3d-4b43-9b5d-a618c85ceea5/data/aou/pheno/20220323/fc-secure-471c1068-cd3d-4b43-9b5d-a618c85ceea5_data_aou_regenie_20220318_aou_alpha3_lipids_regenie_step2_HDL_norm_aggregated.tsv'\n",
    "AOU_LDL = 'gs://fc-secure-471c1068-cd3d-4b43-9b5d-a618c85ceea5/data/aou/pheno/20220323/fc-secure-471c1068-cd3d-4b43-9b5d-a618c85ceea5_data_aou_regenie_20220318_aou_alpha3_lipids_regenie_step2_LDL_adjusted_norm_aggregated.tsv'\n",
    "AOU_TC = 'gs://fc-secure-471c1068-cd3d-4b43-9b5d-a618c85ceea5/data/aou/pheno/20220323/fc-secure-471c1068-cd3d-4b43-9b5d-a618c85ceea5_data_aou_regenie_20220318_aou_alpha3_lipids_regenie_step2_TC_adjusted_norm_aggregated.tsv'\n",
    "AOU_TG = 'gs://fc-secure-471c1068-cd3d-4b43-9b5d-a618c85ceea5/data/aou/pheno/20220323/fc-secure-471c1068-cd3d-4b43-9b5d-a618c85ceea5_data_aou_regenie_20220318_aou_alpha3_lipids_regenie_step2_TG_adjusted_norm_aggregated.tsv'\n",
    "\n",
    "# Pooled results\n",
    "PooledHDL = 'gs://fc-secure-e53e4a44-7fe2-42b7-89b7-01aae1e399f7/data/pooled/regenie/20220315/aou_alpha3_ukb_lipids_regenie_step2_HDL_norm.regenie'\n",
    "PooledLDL = 'gs://fc-secure-e53e4a44-7fe2-42b7-89b7-01aae1e399f7/data/pooled/regenie/20220315/aou_alpha3_ukb_lipids_regenie_step2_LDL_adjusted_norm.regenie'\n",
    "PooledTC = 'gs://fc-secure-e53e4a44-7fe2-42b7-89b7-01aae1e399f7/data/pooled/regenie/20220315/aou_alpha3_ukb_lipids_regenie_step2_TC_adjusted_norm.regenie'\n",
    "PooledTG = 'gs://fc-secure-e53e4a44-7fe2-42b7-89b7-01aae1e399f7/data/pooled/regenie/20220315/aou_alpha3_ukb_lipids_regenie_step2_TG_adjusted_norm.regenie'\n",
    "\n",
    "\n",
    "PLOT_SUBTITLE <- 'Source: AOU - UKB meta analysis'"
   ]
  },
  {
   "cell_type": "markdown",
   "metadata": {},
   "source": [
    "# Load AOU-Siloed results"
   ]
  },
  {
   "cell_type": "code",
   "execution_count": null,
   "metadata": {},
   "outputs": [],
   "source": [
    "HDLsiloed = read_table(pipe(str_glue('gsutil cat {AOU_HDL}')))\n",
    "LDLsiloed = read_table(pipe(str_glue('gsutil cat {AOU_LDL}')))\n",
    "TCsiloed = read_table(pipe(str_glue('gsutil cat {AOU_TC}')))\n",
    "TGsiloed = read_table(pipe(str_glue('gsutil cat {AOU_TG}')))\n"
   ]
  },
  {
   "cell_type": "code",
   "execution_count": null,
   "metadata": {},
   "outputs": [],
   "source": [
    "head(HDLsiloed)"
   ]
  },
  {
   "cell_type": "markdown",
   "metadata": {},
   "source": [
    "# Load AOU-UKB Pooled results"
   ]
  },
  {
   "cell_type": "code",
   "execution_count": null,
   "metadata": {},
   "outputs": [],
   "source": [
    "HDLpooled = read_table(pipe(str_glue('gsutil cat {PooledHDL}')))\n",
    "LDLpooled = read_table(pipe(str_glue('gsutil cat {PooledLDL}')))\n",
    "TCpooled = read_table(pipe(str_glue('gsutil cat {PooledTC}')))\n",
    "TGpooled = read_table(pipe(str_glue('gsutil cat {PooledTG}')))\n"
   ]
  },
  {
   "cell_type": "code",
   "execution_count": null,
   "metadata": {},
   "outputs": [],
   "source": [
    "HDLpooled$ID <- gsub(\"_\", \":\", HDLpooled$ID)\n",
    "HDLpooled$ID <- gsub(\"chr\", \"\", HDLpooled$ID)\n",
    "LDLpooled$ID <- gsub(\"_\", \":\", LDLpooled$ID)\n",
    "LDLpooled$ID <- gsub(\"chr\", \"\", LDLpooled$ID)\n",
    "TCpooled$ID <- gsub(\"_\", \":\", TCpooled$ID)\n",
    "TCpooled$ID <- gsub(\"chr\", \"\", TCpooled$ID)\n",
    "TGpooled$ID <- gsub(\"_\", \":\", TGpooled$ID)\n",
    "TGpooled$ID <- gsub(\"chr\", \"\", TGpooled$ID)"
   ]
  },
  {
   "cell_type": "code",
   "execution_count": null,
   "metadata": {},
   "outputs": [],
   "source": [
    "Remove <- match(\"EXTRA\", colnames(HDLpooled))\n",
    "HDLpooled <- HDLpooled[,-Remove]\n",
    "LDLpooled <- LDLpooled[,-Remove]\n",
    "TCpooled <- TCpooled[,-Remove]\n",
    "TGpooled <- TGpooled[,-Remove]"
   ]
  },
  {
   "cell_type": "code",
   "execution_count": null,
   "metadata": {},
   "outputs": [],
   "source": [
    "head(LDLpooled)"
   ]
  },
  {
   "cell_type": "markdown",
   "metadata": {},
   "source": [
    "# Load the METAL results"
   ]
  },
  {
   "cell_type": "code",
   "execution_count": null,
   "metadata": {},
   "outputs": [],
   "source": [
    "HDLmetal = read_table(pipe(str_glue('gsutil cat {HDL}')))\n",
    "LDLmetal = read_table(pipe(str_glue('gsutil cat {LDL}')))\n",
    "TCmetal = read_table(pipe(str_glue('gsutil cat {TC}')))\n",
    "TGmetal = read_table(pipe(str_glue('gsutil cat {TG}')))\n"
   ]
  },
  {
   "cell_type": "code",
   "execution_count": null,
   "metadata": {},
   "outputs": [],
   "source": [
    "dim(HDLmetal)\n",
    "head(HDLmetal)"
   ]
  },
  {
   "cell_type": "code",
   "execution_count": null,
   "metadata": {},
   "outputs": [],
   "source": [
    "HDLmetal$Chr <- as.numeric(unlist(sapply(strsplit(HDLmetal$MarkerName, \"\\\\:\"), `[`, 1)))\n",
    "HDLmetal$Pos <- as.numeric(unlist(sapply(strsplit(HDLmetal$MarkerName, \"\\\\:\"), `[`, 2)))\n",
    "LDLmetal$Chr <- as.numeric(unlist(sapply(strsplit(LDLmetal$MarkerName, \"\\\\:\"), `[`, 1)))\n",
    "LDLmetal$Pos <- as.numeric(unlist(sapply(strsplit(LDLmetal$MarkerName, \"\\\\:\"), `[`, 2)))\n",
    "TCmetal$Chr <- as.numeric(unlist(sapply(strsplit(TCmetal$MarkerName, \"\\\\:\"), `[`, 1)))\n",
    "TCmetal$Pos <- as.numeric(unlist(sapply(strsplit(TCmetal$MarkerName, \"\\\\:\"), `[`, 2)))\n",
    "TGmetal$Chr <- as.numeric(unlist(sapply(strsplit(TGmetal$MarkerName, \"\\\\:\"), `[`, 1)))\n",
    "TGmetal$Pos <- as.numeric(unlist(sapply(strsplit(TGmetal$MarkerName, \"\\\\:\"), `[`, 2)))"
   ]
  },
  {
   "cell_type": "code",
   "execution_count": null,
   "metadata": {},
   "outputs": [],
   "source": [
    "HDLmetal$Name <- paste0(HDLmetal$Chr,\":\", HDLmetal$Pos, \":\", toupper(HDLmetal$Allele1), \":\", toupper(HDLmetal$Allele2))\n",
    "LDLmetal$Name <- paste0(LDLmetal$Chr,\":\", LDLmetal$Pos, \":\", toupper(LDLmetal$Allele1), \":\", toupper(LDLmetal$Allele2))\n",
    "TCmetal$Name <- paste0(TCmetal$Chr,\":\", TCmetal$Pos, \":\", toupper(TCmetal$Allele1), \":\", toupper(TCmetal$Allele2))\n",
    "TGmetal$Name <- paste0(TGmetal$Chr,\":\", TGmetal$Pos, \":\", toupper(TGmetal$Allele1), \":\", toupper(TGmetal$Allele2))"
   ]
  },
  {
   "cell_type": "code",
   "execution_count": null,
   "metadata": {},
   "outputs": [],
   "source": [
    "HDLmetal$FlipBeta <- ifelse(HDLmetal$MarkerName==HDLmetal$Name, HDLmetal$Effect, -(HDLmetal$Effect))\n",
    "LDLmetal$FlipBeta <- ifelse(LDLmetal$MarkerName==LDLmetal$Name, LDLmetal$Effect, -(LDLmetal$Effect))\n",
    "TCmetal$FlipBeta <- ifelse(TCmetal$MarkerName==TCmetal$Name, TCmetal$Effect, -(TCmetal$Effect))\n",
    "TGmetal$FlipBeta <- ifelse(TGmetal$MarkerName==TGmetal$Name, TGmetal$Effect, -(TGmetal$Effect))"
   ]
  },
  {
   "cell_type": "code",
   "execution_count": null,
   "metadata": {},
   "outputs": [],
   "source": [
    "head(LDLmetal)\n",
    "dim(LDLmetal)"
   ]
  },
  {
   "cell_type": "code",
   "execution_count": null,
   "metadata": {},
   "outputs": [],
   "source": [
    "dim(LDLmetal[which(LDLmetal$`P-value` <= 5E-08), ])"
   ]
  },
  {
   "cell_type": "code",
   "execution_count": null,
   "metadata": {},
   "outputs": [],
   "source": [
    "table(LDLmetal$Direction)"
   ]
  },
  {
   "cell_type": "code",
   "execution_count": null,
   "metadata": {},
   "outputs": [],
   "source": [
    "23126+130798+130053+22847"
   ]
  },
  {
   "cell_type": "code",
   "execution_count": null,
   "metadata": {},
   "outputs": [],
   "source": [
    "HDLremove <- which(HDLmetal$Direction == \"-?\"| HDLmetal$Direction == \"?-\"| HDLmetal$Direction == \"?+\"| HDLmetal$Direction == \"+?\")\n",
    "LDLremove <- which(LDLmetal$Direction == \"-?\"| LDLmetal$Direction == \"?-\"| LDLmetal$Direction == \"?+\"| LDLmetal$Direction == \"+?\")\n",
    "TCremove <- which(TCmetal$Direction == \"-?\"| TCmetal$Direction == \"?-\"| TCmetal$Direction == \"?+\"| TCmetal$Direction == \"+?\")\n",
    "TGremove <- which(TGmetal$Direction == \"-?\"| TGmetal$Direction == \"?-\"| TGmetal$Direction == \"?+\"| TGmetal$Direction == \"+?\")\n",
    "\n",
    "length(HDLremove)\n",
    "length(LDLremove)\n",
    "length(TCremove)\n",
    "length(TGremove)\n"
   ]
  },
  {
   "cell_type": "code",
   "execution_count": null,
   "metadata": {},
   "outputs": [],
   "source": [
    "HDLmetal_trimmed <- HDLmetal[-HDLremove, ]\n",
    "LDLmetal_trimmed <- LDLmetal[-LDLremove, ]\n",
    "TCmetal_trimmed <- TCmetal[-TCremove, ]\n",
    "TGmetal_trimmed <- TGmetal[-TGremove, ]"
   ]
  },
  {
   "cell_type": "code",
   "execution_count": null,
   "metadata": {},
   "outputs": [],
   "source": [
    "dim(HDLmetal_trimmed)\n",
    "dim(LDLmetal_trimmed)\n",
    "dim(TCmetal_trimmed)\n",
    "dim(TGmetal_trimmed)"
   ]
  },
  {
   "cell_type": "code",
   "execution_count": null,
   "metadata": {},
   "outputs": [],
   "source": [
    "head(LDLmetal_trimmed)"
   ]
  },
  {
   "cell_type": "code",
   "execution_count": null,
   "metadata": {},
   "outputs": [],
   "source": [
    "LDLmetal_trimmed_sig <- LDLmetal_trimmed[which(LDLmetal_trimmed$`P-value` <= 5E-08), ]\n",
    "dim(LDLmetal_trimmed_sig)"
   ]
  },
  {
   "cell_type": "code",
   "execution_count": null,
   "metadata": {},
   "outputs": [],
   "source": [
    "length(unique(LDLmetal_trimmed_sig$MarkerName))"
   ]
  },
  {
   "cell_type": "code",
   "execution_count": null,
   "metadata": {},
   "outputs": [],
   "source": [
    "head(LDLmetal_trimmed_sig)"
   ]
  },
  {
   "cell_type": "code",
   "execution_count": null,
   "metadata": {},
   "outputs": [],
   "source": [
    "sort(table(LDLmetal_trimmed_sig$Chr), decreasing = T)"
   ]
  },
  {
   "cell_type": "markdown",
   "metadata": {},
   "source": [
    "# Plot METAL results"
   ]
  },
  {
   "cell_type": "markdown",
   "metadata": {},
   "source": [
    "## Using Full METAL results"
   ]
  },
  {
   "cell_type": "code",
   "execution_count": null,
   "metadata": {},
   "outputs": [],
   "source": [
    "plot_manhattan_and_qq <- function(metal_results, manhattan_title, qq_title) {\n",
    "    options(repr.plot.width = 10, repr.plot.height = 10)\n",
    "    manhattan(metal_results,\n",
    "              chr='Chr',\n",
    "              bp='Pos',\n",
    "              snp='MarkerName',\n",
    "              p='P-value',\n",
    "              logp=TRUE,\n",
    "              annotateTop = FALSE,\n",
    "              ylim = c(0, 200),\n",
    "              cex = 1.25,\n",
    "              cex.axis = 1.25,\n",
    "              cex.lab = 1.25,\n",
    "              main = manhattan_title,\n",
    "              sub = PLOT_SUBTITLE\n",
    "             )\n",
    "\n",
    "    qq(metal_results$`P-value`,\n",
    "       cex = 1.25,\n",
    "       cex.axis = 1.25,\n",
    "       cex.lab = 1.25,\n",
    "       main = qq_title,\n",
    "       sub = PLOT_SUBTITLE)\n",
    "}"
   ]
  },
  {
   "cell_type": "code",
   "execution_count": null,
   "metadata": {},
   "outputs": [],
   "source": [
    "plot_manhattan_and_qq(HDLmetal, \"Meta-analysis HDL\", \"Meta-analysis HDL\")"
   ]
  },
  {
   "cell_type": "code",
   "execution_count": null,
   "metadata": {},
   "outputs": [],
   "source": [
    "plot_manhattan_and_qq(LDLmetal, \"Meta-analysis LDL\", \"Meta-analysis LDL\")"
   ]
  },
  {
   "cell_type": "code",
   "execution_count": null,
   "metadata": {},
   "outputs": [],
   "source": [
    "plot_manhattan_and_qq(TCmetal, \"Meta-analysis TC\", \"Meta-analysis TC\")"
   ]
  },
  {
   "cell_type": "code",
   "execution_count": null,
   "metadata": {},
   "outputs": [],
   "source": [
    "plot_manhattan_and_qq(TGmetal, \"Meta-analysis TG\", \"Meta-analysis TG\")"
   ]
  },
  {
   "cell_type": "markdown",
   "metadata": {},
   "source": [
    "## Using SNPs present in both cohort from METAL results\n"
   ]
  },
  {
   "cell_type": "code",
   "execution_count": null,
   "metadata": {},
   "outputs": [],
   "source": [
    "plot_manhattan_and_qq(HDLmetal_trimmed, \"Meta-analysis HDL - SNPs in Both cohort\", \"Meta-analysis HDL - SNPs in Both cohort\")"
   ]
  },
  {
   "cell_type": "code",
   "execution_count": null,
   "metadata": {},
   "outputs": [],
   "source": [
    "plot_manhattan_and_qq(LDLmetal_trimmed, \"Meta-analysis LDL - SNPs in Both cohort\", \"Meta-analysis LDL - SNPs in Both cohort\")\n"
   ]
  },
  {
   "cell_type": "code",
   "execution_count": null,
   "metadata": {},
   "outputs": [],
   "source": [
    "plot_manhattan_and_qq(TCmetal_trimmed, \"Meta-analysis TC - SNPs in Both cohort\", \"Meta-analysis TC - SNPs in Both cohort\")\n"
   ]
  },
  {
   "cell_type": "code",
   "execution_count": null,
   "metadata": {},
   "outputs": [],
   "source": [
    "plot_manhattan_and_qq(TGmetal_trimmed, \"Meta-analysis TG - SNPs in Both cohort\", \"Meta-analysis TG - SNPs in Both cohort\")\n"
   ]
  },
  {
   "cell_type": "markdown",
   "metadata": {},
   "source": [
    "# Correlation plots of AOU-Siloed and Meta-analysis"
   ]
  },
  {
   "cell_type": "markdown",
   "metadata": {},
   "source": [
    "## Using Full METAL results"
   ]
  },
  {
   "cell_type": "code",
   "execution_count": null,
   "metadata": {},
   "outputs": [],
   "source": [
    "CommonHDL <- merge(HDLmetal, HDLsiloed, by.x=\"MarkerName\", by.y=\"ID\")\n",
    "CommonLDL <- merge(LDLmetal, LDLsiloed, by.x=\"MarkerName\", by.y=\"ID\")\n",
    "CommonTC <- merge(TCmetal, TCsiloed, by.x=\"MarkerName\", by.y=\"ID\")\n",
    "CommonTG <- merge(TGmetal, TGsiloed, by.x=\"MarkerName\", by.y=\"ID\")"
   ]
  },
  {
   "cell_type": "code",
   "execution_count": null,
   "metadata": {},
   "outputs": [],
   "source": [
    "CommonHDL_sig <- CommonHDL[which(CommonHDL$`P-value` <= 5E-08), ]\n",
    "CommonLDL_sig <- CommonLDL[which(CommonLDL$`P-value` <= 5E-08), ]\n",
    "CommonTC_sig <- CommonTC[which(CommonTC$`P-value` <= 5E-08), ]\n",
    "CommonTG_sig <- CommonTG[which(CommonTG$`P-value` <= 5E-08), ]"
   ]
  },
  {
   "cell_type": "code",
   "execution_count": null,
   "metadata": {},
   "outputs": [],
   "source": [
    "dim(CommonHDL_sig)\n",
    "dim(CommonLDL_sig)\n",
    "dim(CommonTC_sig)\n",
    "dim(CommonTG_sig)"
   ]
  },
  {
   "cell_type": "code",
   "execution_count": null,
   "metadata": {},
   "outputs": [],
   "source": [
    "t(head(CommonHDL_sig))"
   ]
  },
  {
   "cell_type": "code",
   "execution_count": null,
   "metadata": {},
   "outputs": [],
   "source": [
    "t(head(CommonLDL_sig))"
   ]
  },
  {
   "cell_type": "code",
   "execution_count": null,
   "metadata": {},
   "outputs": [],
   "source": [
    "HDLCor <- round(cor(CommonHDL_sig$FlipBeta, CommonHDL_sig$BETA), digits=3)\n",
    "LDLCor <- round(cor(CommonLDL_sig$FlipBeta, CommonLDL_sig$BETA), digits=3)\n",
    "TCCor <- round(cor(CommonTC_sig$FlipBeta, CommonTC_sig$BETA), digits=3)\n",
    "TGCor <- round(cor(CommonTG_sig$FlipBeta, CommonTG_sig$BETA), digits=3)"
   ]
  },
  {
   "cell_type": "code",
   "execution_count": null,
   "metadata": {},
   "outputs": [],
   "source": [
    "HDLCor\n",
    "LDLCor\n",
    "TCCor\n",
    "TGCor"
   ]
  },
  {
   "cell_type": "code",
   "execution_count": null,
   "metadata": {},
   "outputs": [],
   "source": [
    "PlotCorr <- function(Data, CorVal, Title){\n",
    "ggplot(Data, aes(x = FlipBeta, y = BETA)) +\n",
    "    geom_point(alpha = .5) +\n",
    "        annotate(geom = 'text',\n",
    "                 x =max(Data$FlipBeta),#\n",
    "                 y =min(Data$BETA),#\n",
    "                 hjust = 'right',\n",
    "                 vjust = 0,\n",
    "                 color = 'dark blue', \n",
    "                 size = 6,\n",
    "                 label = c(str_glue('correlation: ',CorVal))) +\n",
    "        geom_abline() +\n",
    "        theme(\n",
    "            axis.title.x=element_text(size=14),\n",
    "            axis.title.y=element_text(size=14),\n",
    "        ) +\n",
    "        labs(title = str_glue(Title,': meta-analysis vs AOU-siloed'),\n",
    "             x='Meta-analysis Effects',\n",
    "             y='AOU-siloed Effects',\n",
    "             caption = PLOT_SUBTITLE)\n",
    "}"
   ]
  },
  {
   "cell_type": "code",
   "execution_count": null,
   "metadata": {},
   "outputs": [],
   "source": [
    "PlotCorr(CommonHDL_sig, HDLCor, \"HDL\")"
   ]
  },
  {
   "cell_type": "code",
   "execution_count": null,
   "metadata": {},
   "outputs": [],
   "source": [
    "PlotCorr(CommonLDL_sig, LDLCor, \"LDL\")"
   ]
  },
  {
   "cell_type": "code",
   "execution_count": null,
   "metadata": {},
   "outputs": [],
   "source": [
    "PlotCorr(CommonTC_sig, TCCor, \"TC\")"
   ]
  },
  {
   "cell_type": "code",
   "execution_count": null,
   "metadata": {},
   "outputs": [],
   "source": [
    "PlotCorr(CommonTG_sig, TGCor, \"TG\")"
   ]
  },
  {
   "cell_type": "markdown",
   "metadata": {},
   "source": [
    "## Using SNPs present in both cohort from METAL results"
   ]
  },
  {
   "cell_type": "code",
   "execution_count": null,
   "metadata": {},
   "outputs": [],
   "source": [
    "CommonHDL <- merge(HDLmetal_trimmed, HDLsiloed, by.x=\"MarkerName\", by.y=\"ID\")\n",
    "CommonLDL <- merge(LDLmetal_trimmed, LDLsiloed, by.x=\"MarkerName\", by.y=\"ID\")\n",
    "CommonTC <- merge(TCmetal_trimmed, TCsiloed, by.x=\"MarkerName\", by.y=\"ID\")\n",
    "CommonTG <- merge(TGmetal_trimmed, TGsiloed, by.x=\"MarkerName\", by.y=\"ID\")\n",
    "\n",
    "CommonHDL_sig <- CommonHDL[which(CommonHDL$`P-value` <= 5E-08), ]\n",
    "CommonLDL_sig <- CommonLDL[which(CommonLDL$`P-value` <= 5E-08), ]\n",
    "CommonTC_sig <- CommonTC[which(CommonTC$`P-value` <= 5E-08), ]\n",
    "CommonTG_sig <- CommonTG[which(CommonTG$`P-value` <= 5E-08), ]\n",
    "\n",
    "dim(CommonHDL_sig)\n",
    "dim(CommonLDL_sig)\n",
    "dim(CommonTC_sig)\n",
    "dim(CommonTG_sig)\n",
    "\n",
    "\n",
    "HDLCor <- round(cor(CommonHDL_sig$FlipBeta, CommonHDL_sig$BETA), digits=3)\n",
    "LDLCor <- round(cor(CommonLDL_sig$FlipBeta, CommonLDL_sig$BETA), digits=3)\n",
    "TCCor <- round(cor(CommonTC_sig$FlipBeta, CommonTC_sig$BETA), digits=3)\n",
    "TGCor <- round(cor(CommonTG_sig$FlipBeta, CommonTG_sig$BETA), digits=3)\n",
    "\n",
    "HDLCor\n",
    "LDLCor\n",
    "TCCor\n",
    "TGCor\n",
    "\n",
    "PlotCorr(CommonHDL_sig, HDLCor, \"HDL - SNPs present in both cohort\")\n",
    "PlotCorr(CommonLDL_sig, LDLCor, \"LDL - SNPs present in both cohort\")\n",
    "PlotCorr(CommonTC_sig, TCCor, \"TC - SNPs present in both cohort\")\n",
    "PlotCorr(CommonTG_sig, TGCor, \"TG - SNPs present in both cohort\")"
   ]
  },
  {
   "cell_type": "markdown",
   "metadata": {},
   "source": [
    "# Correlation plots of Pooled and Meta-analysis"
   ]
  },
  {
   "cell_type": "code",
   "execution_count": null,
   "metadata": {},
   "outputs": [],
   "source": [
    "PooledCommonHDL <- merge(HDLmetal, HDLpooled, by.x=\"MarkerName\", by.y=\"ID\")\n",
    "PooledCommonLDL <- merge(LDLmetal, LDLpooled, by.x=\"MarkerName\", by.y=\"ID\")\n",
    "PooledCommonTC <- merge(TCmetal, TCpooled, by.x=\"MarkerName\", by.y=\"ID\")\n",
    "PooledCommonTG <- merge(TGmetal, TGpooled, by.x=\"MarkerName\", by.y=\"ID\")"
   ]
  },
  {
   "cell_type": "code",
   "execution_count": null,
   "metadata": {},
   "outputs": [],
   "source": [
    "dim(PooledCommonLDL)"
   ]
  },
  {
   "cell_type": "code",
   "execution_count": null,
   "metadata": {},
   "outputs": [],
   "source": [
    "t(head(PooledCommonLDL))"
   ]
  },
  {
   "cell_type": "code",
   "execution_count": null,
   "metadata": {},
   "outputs": [],
   "source": [
    "PooledCommonHDL_sig <- na.omit(PooledCommonHDL[which(PooledCommonHDL$`P-value` <= 5E-08), ])\n",
    "PooledCommonLDL_sig <- na.omit(PooledCommonLDL[which(PooledCommonLDL$`P-value` <= 5E-08), ])\n",
    "PooledCommonTC_sig <- na.omit(PooledCommonTC[which(PooledCommonTC$`P-value` <= 5E-08), ])\n",
    "PooledCommonTG_sig <- na.omit(PooledCommonTG[which(PooledCommonTG$`P-value` <= 5E-08), ])\n"
   ]
  },
  {
   "cell_type": "code",
   "execution_count": null,
   "metadata": {},
   "outputs": [],
   "source": [
    "dim(PooledCommonLDL_sig)"
   ]
  },
  {
   "cell_type": "code",
   "execution_count": null,
   "metadata": {},
   "outputs": [],
   "source": [
    "t(head(PooledCommonLDL_sig))"
   ]
  },
  {
   "cell_type": "code",
   "execution_count": null,
   "metadata": {},
   "outputs": [],
   "source": [
    "PooledHDLCor <- round(cor(PooledCommonHDL_sig$FlipBeta, PooledCommonHDL_sig$BETA), digits=3)\n",
    "PooledLDLCor <- round(cor(PooledCommonLDL_sig$FlipBeta, PooledCommonLDL_sig$BETA), digits=3)\n",
    "PooledTCCor <- round(cor(PooledCommonTC_sig$FlipBeta, PooledCommonTC_sig$BETA), digits=3)\n",
    "PooledTGCor <- round(cor(PooledCommonTG_sig$FlipBeta, PooledCommonTG_sig$BETA), digits=3)\n"
   ]
  },
  {
   "cell_type": "code",
   "execution_count": null,
   "metadata": {},
   "outputs": [],
   "source": [
    "PooledHDLCor\n",
    "PooledLDLCor\n",
    "PooledTCCor\n",
    "PooledTGCor"
   ]
  },
  {
   "cell_type": "code",
   "execution_count": null,
   "metadata": {},
   "outputs": [],
   "source": [
    "PlotCorr <- function(Data, CorVal, Title){\n",
    "ggplot(Data, aes(x = FlipBeta, y = BETA)) +\n",
    "    geom_point(alpha = .5) +\n",
    "        annotate(geom = 'text',\n",
    "                 x =max(Data$FlipBeta),#\n",
    "                 y =min(Data$BETA),#\n",
    "                 hjust = 'right',\n",
    "                 vjust = 0,\n",
    "                 color = 'dark blue', \n",
    "                 size = 6,\n",
    "                 label = c(str_glue('correlation: ',CorVal))) +\n",
    "        geom_abline() +\n",
    "        theme(\n",
    "            axis.title.x=element_text(size=14),\n",
    "            axis.title.y=element_text(size=14),\n",
    "        ) +\n",
    "        labs(title = str_glue(Title,': meta-analysis vs pooled-analysis'),\n",
    "             x='Meta-analysis Effects',\n",
    "             y='Pooled-analysis Effects',\n",
    "             caption = PLOT_SUBTITLE)\n",
    "}"
   ]
  },
  {
   "cell_type": "code",
   "execution_count": null,
   "metadata": {},
   "outputs": [],
   "source": [
    "PlotCorr(PooledCommonHDL_sig, PooledHDLCor, \"HDL\")"
   ]
  },
  {
   "cell_type": "code",
   "execution_count": null,
   "metadata": {},
   "outputs": [],
   "source": [
    "PlotCorr(PooledCommonLDL_sig, PooledLDLCor, \"LDL\")"
   ]
  },
  {
   "cell_type": "code",
   "execution_count": null,
   "metadata": {},
   "outputs": [],
   "source": [
    "PlotCorr(PooledCommonTC_sig, PooledTCCor, \"TC\")"
   ]
  },
  {
   "cell_type": "code",
   "execution_count": null,
   "metadata": {},
   "outputs": [],
   "source": [
    "PlotCorr(PooledCommonTG_sig, PooledTGCor, \"TG\")"
   ]
  },
  {
   "cell_type": "markdown",
   "metadata": {},
   "source": [
    "# Variants present only in Pooled results and not in Meta-analysis results"
   ]
  },
  {
   "cell_type": "code",
   "execution_count": null,
   "metadata": {},
   "outputs": [],
   "source": [
    "Only_HDLpooled <- HDLpooled[match(setdiff(HDLpooled$ID, HDLmetal$MarkerName), HDLpooled$ID), ]\n",
    "Only_LDLpooled <- LDLpooled[match(setdiff(LDLpooled$ID, LDLmetal$MarkerName), LDLpooled$ID), ]\n",
    "Only_TCpooled <- TCpooled[match(setdiff(TCpooled$ID, TCmetal$MarkerName), TCpooled$ID), ]\n",
    "Only_TGpooled <- TGpooled[match(setdiff(TGpooled$ID, TGmetal$MarkerName), TGpooled$ID), ]\n"
   ]
  },
  {
   "cell_type": "code",
   "execution_count": null,
   "metadata": {},
   "outputs": [],
   "source": [
    "length(na.omit(setdiff(HDLpooled$ID, HDLmetal$MarkerName)))"
   ]
  },
  {
   "cell_type": "code",
   "execution_count": null,
   "metadata": {},
   "outputs": [],
   "source": [
    "head(Only_TGpooled)"
   ]
  },
  {
   "cell_type": "code",
   "execution_count": null,
   "metadata": {},
   "outputs": [],
   "source": [
    "dim(Only_HDLpooled)\n",
    "dim(Only_LDLpooled)\n",
    "dim(Only_TCpooled)\n",
    "dim(Only_TGpooled)"
   ]
  },
  {
   "cell_type": "code",
   "execution_count": null,
   "metadata": {},
   "outputs": [],
   "source": [
    "plot_histograms <- function(data, name) {\n",
    "\n",
    "    options(repr.plot.width = 16, repr.plot.height = 10)\n",
    "    \n",
    "    ggplot(data, \n",
    "           aes(x=log10(A1FREQ)))+\n",
    "           geom_histogram(bins = 30)+\n",
    "    labs(title = str_glue(name),\n",
    "             caption = PLOT_SUBTITLE)\n",
    " }"
   ]
  },
  {
   "cell_type": "code",
   "execution_count": null,
   "metadata": {},
   "outputs": [],
   "source": [
    "grid.arrange(\n",
    "    plot_histograms(data = HDLpooled, name = 'Variants in HDLPooled'),\n",
    "    plot_histograms(data = Only_HDLpooled, name = str_glue('Varinats only in HDLpooled \\nand not in Meta-analysis')),\n",
    "    ncol = 2,\n",
    "    top = 'HDL')"
   ]
  },
  {
   "cell_type": "code",
   "execution_count": null,
   "metadata": {},
   "outputs": [],
   "source": [
    "grid.arrange(\n",
    "    plot_histograms(data = LDLpooled, name = 'Variants in LDLPooled'),\n",
    "    plot_histograms(data = Only_LDLpooled, name = str_glue('Varinats only in LDLpooled \\nand not in Meta-analysis')),\n",
    "    ncol = 2,\n",
    "    top = 'LDL')"
   ]
  },
  {
   "cell_type": "code",
   "execution_count": null,
   "metadata": {},
   "outputs": [],
   "source": [
    "grid.arrange(\n",
    "    plot_histograms(data = TCpooled, name = 'Variants in TCPooled'),\n",
    "    plot_histograms(data = Only_TCpooled, name = str_glue('Varinats only in TCpooled \\nand not in Meta-analysis')),\n",
    "    ncol = 2,\n",
    "    top = 'TC')"
   ]
  },
  {
   "cell_type": "code",
   "execution_count": null,
   "metadata": {},
   "outputs": [],
   "source": [
    "grid.arrange(\n",
    "    plot_histograms(data = TGpooled, name = 'Variants in TGPooled'),\n",
    "    plot_histograms(data = Only_TGpooled, name = str_glue('Varinats only in TGpooled \\nand not in Meta-analysis')),\n",
    "    ncol = 2,\n",
    "    top = 'TG')"
   ]
  },
  {
   "cell_type": "markdown",
   "metadata": {},
   "source": [
    "# Comparisons against other lipids studies"
   ]
  },
  {
   "cell_type": "markdown",
   "metadata": {},
   "source": [
    "## Comparison with UKB published GWAS summary"
   ]
  },
  {
   "cell_type": "markdown",
   "metadata": {},
   "source": [
    "##### Rare coding variants in 35 genes associate with circulating lipid levels – a multi-ancestry analysis of 170,000 exomes. [Hindy et al 2021](https://www.biorxiv.org/content/10.1101/2020.12.22.423783v1.supplementary-material?versioned=true)"
   ]
  },
  {
   "cell_type": "code",
   "execution_count": null,
   "metadata": {},
   "outputs": [],
   "source": [
    "download.file('https://www.biorxiv.org/content/biorxiv/early/2021/09/01/2020.12.22.423783/DC2/embed/media-2.xlsx?download=true', 'hindy.xlsx')"
   ]
  },
  {
   "cell_type": "code",
   "execution_count": null,
   "metadata": {},
   "outputs": [],
   "source": [
    "combined_hindy_results <- read_xlsx('hindy.xlsx', sheet = 'Table_S11', skip = 1, na = 'NA') %>%\n",
    "    filter(Ancestry == 'Overall') %>%\n",
    "    mutate(\n",
    "        lipid_type = case_when(\n",
    "            Trait == 'LDL_ADJ' ~ 'LDL',\n",
    "            Trait == 'TOTAL_ADJ' ~ 'TC',\n",
    "            TRUE ~ Trait\n",
    "        )\n",
    "    )\n",
    "\n",
    "dim(combined_hindy_results)"
   ]
  },
  {
   "cell_type": "code",
   "execution_count": null,
   "metadata": {},
   "outputs": [],
   "source": [
    "head(combined_hindy_results)"
   ]
  },
  {
   "cell_type": "code",
   "execution_count": null,
   "metadata": {},
   "outputs": [],
   "source": [
    "PlotCorr <- function(Data, CorVal, CorPval, Nsamp, Title){\n",
    "ggplot(Data, aes(x = FlipBeta, y = BETA_FE)) +\n",
    "    geom_point(alpha = .5) +\n",
    "        annotate(geom = 'text',\n",
    "                 x =max(Data$FlipBeta),#\n",
    "                 y =min(Data$BETA_FE),#\n",
    "                 hjust = 'right',\n",
    "                 vjust = 0,\n",
    "                 color = 'dark blue', \n",
    "                 size = 6,\n",
    "                 label = c(str_glue('R-square: ',CorVal, '\\nN: ', Nsamp, '\\nP-value: ', CorPval))) +\n",
    "        geom_abline() +\n",
    "        theme(\n",
    "            axis.title.x=element_text(size=14),\n",
    "            axis.title.y=element_text(size=14),\n",
    "        ) +\n",
    "        labs(title = str_glue(Title,': meta-analysis vs Hindy GWAS results'),\n",
    "             x='Meta-analysis Effects',\n",
    "             y='Hindy GWAS Effects',\n",
    "             caption = PLOT_SUBTITLE)\n",
    "}"
   ]
  },
  {
   "cell_type": "code",
   "execution_count": null,
   "metadata": {},
   "outputs": [],
   "source": [
    "Set1 <- merge(HDLmetal_trimmed, combined_hindy_results%>%filter(lipid_type == \"HDL\"), by.x=\"MarkerName\", by.y=\"RSID\")\n",
    "CorTest<-cor.test(Set1$FlipBeta, Set1$BETA_FE)\n",
    "Cor <- round(cor(Set1$FlipBeta, Set1$BETA_FE)^2, digits=2)\n",
    "Pval <- scientific(CorTest$p.value, digits = 2)\n",
    "N <- nrow(Set1)\n",
    "PlotCorr(Set1, Cor, Pval, N, \"HDL\")"
   ]
  },
  {
   "cell_type": "code",
   "execution_count": null,
   "metadata": {},
   "outputs": [],
   "source": [
    "t(Set1)"
   ]
  },
  {
   "cell_type": "code",
   "execution_count": null,
   "metadata": {},
   "outputs": [],
   "source": [
    "Set1 <- merge(LDLmetal_trimmed, combined_hindy_results%>%filter(lipid_type == \"LDL\"), by.x=\"MarkerName\", by.y=\"RSID\")\n",
    "CorTest<-cor.test(Set1$FlipBeta, Set1$BETA_FE)\n",
    "Cor <- round(cor(Set1$FlipBeta, Set1$BETA_FE)^2, digits=2)\n",
    "Pval <- scientific(CorTest$p.value, digits = 2)\n",
    "N <- nrow(Set1)\n",
    "PlotCorr(Set1, Cor, Pval, N, \"LDL\")"
   ]
  },
  {
   "cell_type": "code",
   "execution_count": null,
   "metadata": {},
   "outputs": [],
   "source": [
    "Set1 <- merge(TCmetal_trimmed, combined_hindy_results%>%filter(lipid_type == \"TC\"), by.x=\"MarkerName\", by.y=\"RSID\")\n",
    "CorTest<-cor.test(Set1$FlipBeta, Set1$BETA_FE)\n",
    "Cor <- round(cor(Set1$FlipBeta, Set1$BETA_FE)^2, digits=2)\n",
    "Pval <- scientific(CorTest$p.value, digits = 2)\n",
    "N <- nrow(Set1)\n",
    "PlotCorr(Set1, Cor, Pval, N, \"TC\")"
   ]
  },
  {
   "cell_type": "code",
   "execution_count": null,
   "metadata": {},
   "outputs": [],
   "source": [
    "Set1 <- merge(TGmetal_trimmed, combined_hindy_results%>%filter(lipid_type == \"TG\"), by.x=\"MarkerName\", by.y=\"RSID\")\n",
    "CorTest<-cor.test(Set1$FlipBeta, Set1$BETA_FE)\n",
    "Cor <- round(cor(Set1$FlipBeta, Set1$BETA_FE)^2, digits=2)\n",
    "Pval <- scientific(CorTest$p.value, digits = 2)\n",
    "N <- nrow(Set1)\n",
    "PlotCorr(Set1, Cor, Pval, N, \"TG\")"
   ]
  },
  {
   "cell_type": "markdown",
   "metadata": {},
   "source": [
    "## Comparison with TOPMed (Freeze8) Lipid GWAS"
   ]
  },
  {
   "cell_type": "markdown",
   "metadata": {},
   "source": [
    "##### Whole genome sequence analysis of blood lipid levels in >66,000 individuals. [Selvaraj et al 2021](https://www.biorxiv.org/content/10.1101/2021.10.11.463514v1.supplementary-material)"
   ]
  },
  {
   "cell_type": "code",
   "execution_count": null,
   "metadata": {},
   "outputs": [],
   "source": [
    "download.file('https://www.biorxiv.org/content/biorxiv/early/2021/10/12/2021.10.11.463514/DC1/embed/media-1.xlsx?download=true', 'selvaraj.xlsx')"
   ]
  },
  {
   "cell_type": "code",
   "execution_count": null,
   "metadata": {},
   "outputs": [],
   "source": [
    "selvaraj_tables = c(HDL = 'A4:L361', LDL = 'A363:L701', TC = 'A703:L1027', TG = 'A1029:L1318')\n",
    "LIPIDS <- c(\"HDL\", \"LDL\", \"TC\", \"TG\")\n",
    "combined_selvaraj_results <- bind_rows(\n",
    "    lapply(LIPIDS, function(lipid) {\n",
    "        # Print some metadata for an eyeball check that we are associating the data with the correct lipid type.\n",
    "        print(str_glue('{lipid} {selvaraj_tables[lipid]}'))\n",
    "        first_row = as.integer(str_extract(selvaraj_tables[lipid], '\\\\d+'))\n",
    "        print(read_xlsx('selvaraj.xlsx', sheet = 'Supplementary Table 3', range = str_glue('A{first_row - 1}:A{first_row}')))\n",
    "        print(nrow(read_xlsx('selvaraj.xlsx', sheet = 'Supplementary Table 3', range = selvaraj_tables[lipid])))\n",
    "        \n",
    "        # Retrieve the data.\n",
    "        read_xlsx('selvaraj.xlsx', sheet = 'Supplementary Table 3', range = selvaraj_tables[lipid]) %>%\n",
    "        mutate(\n",
    "            # Work around a bad entry in the data causing the p.value column to be of type character.\n",
    "            p.value = as.numeric(p.value),\n",
    "            RSID = paste0(CHR, ':' , POS, ':', Allele1, ':', Allele2),\n",
    "            lipid_type = lipid\n",
    "        )\n",
    "    }))\n",
    "\n",
    "dim(combined_selvaraj_results)"
   ]
  },
  {
   "cell_type": "code",
   "execution_count": null,
   "metadata": {},
   "outputs": [],
   "source": [
    "head(combined_selvaraj_results)"
   ]
  },
  {
   "cell_type": "code",
   "execution_count": null,
   "metadata": {},
   "outputs": [],
   "source": [
    "PlotCorr <- function(Data, CorVal, CorPval, Nsamp, Title){\n",
    "ggplot(Data, aes(x = FlipBeta, y = BETA)) +\n",
    "    geom_point(alpha = .5) +\n",
    "        annotate(geom = 'text',\n",
    "                 x =max(Data$FlipBeta),#\n",
    "                 y =min(Data$BETA),#\n",
    "                 hjust = 'right',\n",
    "                 vjust = 0,\n",
    "                 color = 'dark blue', \n",
    "                 size = 6,\n",
    "                 label = c(str_glue('R-square: ',CorVal, '\\nN: ', Nsamp, '\\nP-value: ', CorPval))) +\n",
    "        geom_abline() +\n",
    "        theme(\n",
    "            axis.title.x=element_text(size=14),\n",
    "            axis.title.y=element_text(size=14),\n",
    "        ) +\n",
    "        labs(title = str_glue(Title,': meta-analysis vs Selvaraj GWAS results'),\n",
    "             x='Meta-analysis Effects',\n",
    "             y='Selvaraj GWAS Effects',\n",
    "             caption = PLOT_SUBTITLE)\n",
    "}"
   ]
  },
  {
   "cell_type": "code",
   "execution_count": null,
   "metadata": {},
   "outputs": [],
   "source": [
    "Set1 <- merge(HDLmetal_trimmed, combined_selvaraj_results%>%filter(lipid_type == \"HDL\"), by.x=\"MarkerName\", by.y=\"RSID\")\n",
    "CorTest<-cor.test(Set1$FlipBeta, Set1$BETA)\n",
    "Cor <- round(cor(Set1$FlipBeta, Set1$BETA)^2, digits=2)\n",
    "Pval <- scientific(CorTest$p.value, digits = 2)\n",
    "N <- nrow(Set1)\n",
    "PlotCorr(Set1, Cor, Pval, N, \"HDL\")"
   ]
  },
  {
   "cell_type": "code",
   "execution_count": null,
   "metadata": {},
   "outputs": [],
   "source": [
    "Set1 <- merge(LDLmetal_trimmed, combined_selvaraj_results%>%filter(lipid_type == \"LDL\"), by.x=\"MarkerName\", by.y=\"RSID\")\n",
    "CorTest<-cor.test(Set1$FlipBeta, Set1$BETA)\n",
    "Cor <- round(cor(Set1$FlipBeta, Set1$BETA)^2, digits=2)\n",
    "Pval <- scientific(CorTest$p.value, digits = 2)\n",
    "N <- nrow(Set1)\n",
    "PlotCorr(Set1, Cor, Pval, N, \"LDL\")"
   ]
  },
  {
   "cell_type": "code",
   "execution_count": null,
   "metadata": {},
   "outputs": [],
   "source": [
    "Set1 <- merge(TCmetal_trimmed, combined_selvaraj_results%>%filter(lipid_type == \"TC\"), by.x=\"MarkerName\", by.y=\"RSID\")\n",
    "CorTest<-cor.test(Set1$FlipBeta, Set1$BETA)\n",
    "Cor <- round(cor(Set1$FlipBeta, Set1$BETA)^2, digits=2)\n",
    "Pval <- scientific(CorTest$p.value, digits = 2)\n",
    "N <- nrow(Set1)\n",
    "PlotCorr(Set1, Cor, Pval, N, \"TC\")"
   ]
  },
  {
   "cell_type": "code",
   "execution_count": null,
   "metadata": {},
   "outputs": [],
   "source": [
    "Set1 <- merge(TGmetal_trimmed, combined_selvaraj_results%>%filter(lipid_type == \"TG\"), by.x=\"MarkerName\", by.y=\"RSID\")\n",
    "CorTest<-cor.test(Set1$FlipBeta, Set1$BETA)\n",
    "Cor <- round(cor(Set1$FlipBeta, Set1$BETA)^2, digits=2)\n",
    "Pval <- scientific(CorTest$p.value, digits = 2)\n",
    "N <- nrow(Set1)\n",
    "PlotCorr(Set1, Cor, Pval, N, \"TG\")"
   ]
  },
  {
   "cell_type": "code",
   "execution_count": null,
   "metadata": {},
   "outputs": [],
   "source": []
  }
 ],
 "metadata": {
  "kernelspec": {
   "display_name": "R",
   "language": "R",
   "name": "ir"
  },
  "language_info": {
   "codemirror_mode": "r",
   "file_extension": ".r",
   "mimetype": "text/x-r-source",
   "name": "R",
   "pygments_lexer": "r",
   "version": "4.1.2"
  },
  "toc": {
   "base_numbering": 1,
   "nav_menu": {},
   "number_sections": true,
   "sideBar": true,
   "skip_h1_title": false,
   "title_cell": "Table of Contents",
   "title_sidebar": "Contents",
   "toc_cell": false,
   "toc_position": {},
   "toc_section_display": true,
   "toc_window_display": false
  }
 },
 "nbformat": 4,
 "nbformat_minor": 2
}

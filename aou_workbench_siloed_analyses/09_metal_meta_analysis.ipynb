{
 "cells": [
  {
   "cell_type": "code",
   "execution_count": null,
   "metadata": {},
   "outputs": [],
   "source": [
    "from datetime import datetime\n",
    "import os\n",
    "import time"
   ]
  },
  {
   "cell_type": "markdown",
   "metadata": {},
   "source": [
    "# Install packages"
   ]
  },
  {
   "cell_type": "code",
   "execution_count": null,
   "metadata": {},
   "outputs": [],
   "source": [
    "%%bash\n",
    "\n",
    "rm metal.tar*\n",
    "\n",
    "curl -L -o metal.tar.gz \"http://csg.sph.umich.edu/abecasis/Metal/download/Linux-metal.tar.gz\"\n",
    "tar -xf metal.tar.gz"
   ]
  },
  {
   "cell_type": "markdown",
   "metadata": {},
   "source": [
    "# Copy all aggregate files for meta analysis"
   ]
  },
  {
   "cell_type": "markdown",
   "metadata": {},
   "source": [
    "### Define Constants"
   ]
  },
  {
   "cell_type": "code",
   "execution_count": null,
   "metadata": {},
   "outputs": [],
   "source": [
    "# Papermill parameters. See https://papermill.readthedocs.io/en/latest/usage-parameterize.html\n",
    "\n",
    "#---[ Inputs ]---\n",
    "AOU_HDL = 'gs://fc-secure-471c1068-cd3d-4b43-9b5d-a618c85ceea5/data/aou/pheno/20220323/fc-secure-471c1068-cd3d-4b43-9b5d-a618c85ceea5_data_aou_regenie_20220318_aou_alpha3_lipids_regenie_step2_HDL_norm_aggregated.tsv'\n",
    "AOU_LDL = 'gs://fc-secure-471c1068-cd3d-4b43-9b5d-a618c85ceea5/data/aou/pheno/20220323/fc-secure-471c1068-cd3d-4b43-9b5d-a618c85ceea5_data_aou_regenie_20220318_aou_alpha3_lipids_regenie_step2_LDL_adjusted_norm_aggregated.tsv'\n",
    "AOU_TC = 'gs://fc-secure-471c1068-cd3d-4b43-9b5d-a618c85ceea5/data/aou/pheno/20220323/fc-secure-471c1068-cd3d-4b43-9b5d-a618c85ceea5_data_aou_regenie_20220318_aou_alpha3_lipids_regenie_step2_TC_adjusted_norm_aggregated.tsv'\n",
    "AOU_TG = 'gs://fc-secure-471c1068-cd3d-4b43-9b5d-a618c85ceea5/data/aou/pheno/20220323/fc-secure-471c1068-cd3d-4b43-9b5d-a618c85ceea5_data_aou_regenie_20220318_aou_alpha3_lipids_regenie_step2_TG_adjusted_norm_aggregated.tsv'\n",
    "\n",
    "\n",
    "AOU_HDL_names = 'fc-secure-471c1068-cd3d-4b43-9b5d-a618c85ceea5_data_aou_regenie_20220318_aou_alpha3_lipids_regenie_step2_HDL_norm_aggregated.tsv'\n",
    "AOU_LDL_names = 'fc-secure-471c1068-cd3d-4b43-9b5d-a618c85ceea5_data_aou_regenie_20220318_aou_alpha3_lipids_regenie_step2_LDL_adjusted_norm_aggregated.tsv'\n",
    "AOU_TC_names = 'fc-secure-471c1068-cd3d-4b43-9b5d-a618c85ceea5_data_aou_regenie_20220318_aou_alpha3_lipids_regenie_step2_TC_adjusted_norm_aggregated.tsv'\n",
    "AOU_TG_names = 'fc-secure-471c1068-cd3d-4b43-9b5d-a618c85ceea5_data_aou_regenie_20220318_aou_alpha3_lipids_regenie_step2_TG_adjusted_norm_aggregated.tsv'\n",
    "\n",
    "AOU_HDL_files = 'aou_alpha3_lipids_regenie_step2_HDL_norm_aggregated.tsv'\n",
    "AOU_LDL_files = 'aou_alpha3_lipids_regenie_step2_LDL_adjusted_norm_aggregated.tsv'\n",
    "AOU_TC_files = 'aou_alpha3_lipids_regenie_step2_TC_adjusted_norm_aggregated.tsv'\n",
    "AOU_TG_files= 'aou_alpha3_lipids_regenie_step2_TG_adjusted_norm_aggregated.tsv'\n",
    "\n",
    "UKB_HDL = 'gs://fc-secure-471c1068-cd3d-4b43-9b5d-a618c85ceea5/data/aou/pheno/20220323/ukb_lipids_regenie_step2_HDL_norm_aggregated.tsv'\n",
    "UKB_LDL = 'gs://fc-secure-471c1068-cd3d-4b43-9b5d-a618c85ceea5/data/aou/pheno/20220323/ukb_lipids_regenie_step2_LDL_adjusted_norm_aggregated.tsv'\n",
    "UKB_TC = 'gs://fc-secure-471c1068-cd3d-4b43-9b5d-a618c85ceea5/data/aou/pheno/20220323/ukb_lipids_regenie_step2_TC_adjusted_norm_aggregated.tsv'\n",
    "UKB_TG = 'gs://fc-secure-471c1068-cd3d-4b43-9b5d-a618c85ceea5/data/aou/pheno/20220323/ukb_lipids_regenie_step2_TG_adjusted_norm_aggregated.tsv'\n",
    "\n",
    "Metal_file_HDL = 'gs://uk-biobank-sek-data-us-east1/sample-info/METAL_HDL.txt'\n",
    "Metal_file_LDL = 'gs://uk-biobank-sek-data-us-east1/sample-info/METAL_LDL.txt'\n",
    "Metal_file_TC = 'gs://uk-biobank-sek-data-us-east1/sample-info/METAL_TC.txt'\n",
    "Metal_file_TG = 'gs://uk-biobank-sek-data-us-east1/sample-info/METAL_TG.txt'\n",
    "\n",
    "#---[ Outputs ]---\n",
    "# Create a timestamp for a folder of results generated today.\n",
    "DATESTAMP = time.strftime('%Y%m%d')\n",
    "METAL_OUTPUTS = f'{os.getenv(\"WORKSPACE_BUCKET\")}/data/aou/regenie/{DATESTAMP}/'"
   ]
  },
  {
   "cell_type": "code",
   "execution_count": null,
   "metadata": {},
   "outputs": [],
   "source": [
    "LOCAL_AOU_HDL = os.path.basename(AOU_HDL)\n",
    "LOCAL_AOU_LDL = os.path.basename(AOU_LDL)\n",
    "LOCAL_AOU_TC = os.path.basename(AOU_TC)\n",
    "LOCAL_AOU_TG = os.path.basename(AOU_TG)\n",
    "\n",
    "LOCAL_UKB_HDL = os.path.basename(UKB_HDL)\n",
    "LOCAL_UKB_LDL = os.path.basename(UKB_LDL)\n",
    "LOCAL_UKB_TC = os.path.basename(UKB_TC)\n",
    "LOCAL_UKB_TG = os.path.basename(UKB_TG)\n"
   ]
  },
  {
   "cell_type": "markdown",
   "metadata": {},
   "source": [
    "### Copy files locally"
   ]
  },
  {
   "cell_type": "code",
   "execution_count": null,
   "metadata": {},
   "outputs": [],
   "source": [
    "!gsutil -m cp {AOU_HDL} {AOU_LDL} {AOU_TC} {AOU_TG} ."
   ]
  },
  {
   "cell_type": "code",
   "execution_count": null,
   "metadata": {},
   "outputs": [],
   "source": [
    "!cp {AOU_HDL_names} {AOU_HDL_files}\n",
    "!cp {AOU_LDL_names} {AOU_LDL_files}\n",
    "!cp {AOU_TC_names} {AOU_TC_files}\n",
    "!cp {AOU_TG_names} {AOU_TG_files}"
   ]
  },
  {
   "cell_type": "code",
   "execution_count": null,
   "metadata": {},
   "outputs": [],
   "source": [
    "!gsutil -m cp {UKB_HDL} {UKB_LDL} {UKB_TC} {UKB_TG} ."
   ]
  },
  {
   "cell_type": "code",
   "execution_count": null,
   "metadata": {},
   "outputs": [],
   "source": [
    "!gsutil -m cp {Metal_file_HDL} {Metal_file_LDL} {Metal_file_TC} {Metal_file_TG} ."
   ]
  },
  {
   "cell_type": "code",
   "execution_count": null,
   "metadata": {},
   "outputs": [],
   "source": [
    "!head aou_alpha3_lipids_regenie_step2_HDL_norm_aggregated.tsv"
   ]
  },
  {
   "cell_type": "code",
   "execution_count": null,
   "metadata": {},
   "outputs": [],
   "source": [
    "!head ukb_lipids_regenie_step2_HDL_norm_aggregated.tsv"
   ]
  },
  {
   "cell_type": "code",
   "execution_count": null,
   "metadata": {},
   "outputs": [],
   "source": [
    "!cat METAL_HDL.txt"
   ]
  },
  {
   "cell_type": "markdown",
   "metadata": {},
   "source": [
    "# METAL - Meta Analysis"
   ]
  },
  {
   "cell_type": "code",
   "execution_count": null,
   "metadata": {},
   "outputs": [],
   "source": [
    "!./generic-metal/metal METAL_HDL.txt"
   ]
  },
  {
   "cell_type": "code",
   "execution_count": null,
   "metadata": {},
   "outputs": [],
   "source": [
    "!./generic-metal/metal METAL_LDL.txt"
   ]
  },
  {
   "cell_type": "code",
   "execution_count": null,
   "metadata": {},
   "outputs": [],
   "source": [
    "!./generic-metal/metal METAL_TC.txt"
   ]
  },
  {
   "cell_type": "code",
   "execution_count": null,
   "metadata": {},
   "outputs": [],
   "source": [
    "!./generic-metal/metal METAL_TG.txt"
   ]
  },
  {
   "cell_type": "code",
   "execution_count": null,
   "metadata": {},
   "outputs": [],
   "source": [
    "!gsutil -m cp METAANALYSIS_* {METAL_OUTPUTS}"
   ]
  },
  {
   "cell_type": "code",
   "execution_count": null,
   "metadata": {},
   "outputs": [],
   "source": [
    "!gsutil ls -lh {METAL_OUTPUTS}"
   ]
  },
  {
   "cell_type": "code",
   "execution_count": null,
   "metadata": {},
   "outputs": [],
   "source": []
  }
 ],
 "metadata": {
  "kernelspec": {
   "display_name": "Python 3",
   "language": "python",
   "name": "python3"
  },
  "language_info": {
   "codemirror_mode": {
    "name": "ipython",
    "version": 3
   },
   "file_extension": ".py",
   "mimetype": "text/x-python",
   "name": "python",
   "nbconvert_exporter": "python",
   "pygments_lexer": "ipython3",
   "version": "3.7.12"
  },
  "toc": {
   "base_numbering": 1,
   "nav_menu": {},
   "number_sections": true,
   "sideBar": true,
   "skip_h1_title": false,
   "title_cell": "Table of Contents",
   "title_sidebar": "Contents",
   "toc_cell": false,
   "toc_position": {},
   "toc_section_display": true,
   "toc_window_display": false
  }
 },
 "nbformat": 4,
 "nbformat_minor": 2
}

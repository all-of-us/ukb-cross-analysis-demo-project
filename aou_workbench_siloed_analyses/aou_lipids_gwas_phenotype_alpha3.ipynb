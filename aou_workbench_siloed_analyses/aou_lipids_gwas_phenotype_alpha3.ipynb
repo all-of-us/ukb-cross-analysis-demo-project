{
 "cells": [
  {
   "cell_type": "markdown",
   "metadata": {},
   "source": [
    "# Prepare a lipids phenotype for a GWAS study\n",
    "\n",
    "In this notebook we use the *All of Us* data to prepare a lipids phenotype for a GWAS study.\n",
    "\n",
    "Note that this work is part of a larger project to [Demonstrate the Potential for Pooled Analysis of All of Us and UK Biobank Genomic Data](https://docs.google.com/document/d/19ZS0z_-7FEM37pNDAXaWaqBSLnqyd9MZEkiOmtF3n_0/edit#). Specifically this is for the portion of the project that is the **siloed** analysis.\n",
    "\n",
    "Much of the code here is SQL to take advantage of the scalability afforded by BigQuery when you use it not only to retrieve data but also to perform some of the analysis using many of its [analytical functions](https://cloud.google.com/bigquery/docs/reference/standard-sql/functions-and-operators).\n",
    "\n",
    "TODO update project description link to biorxiv paper after it is posted."
   ]
  },
  {
   "cell_type": "markdown",
   "metadata": {},
   "source": [
    "# Setup "
   ]
  },
  {
   "cell_type": "code",
   "execution_count": null,
   "metadata": {},
   "outputs": [],
   "source": [
    "library(bigrquery)\n",
    "library(lubridate)\n",
    "library(readxl)\n",
    "library(tidyverse)"
   ]
  },
  {
   "cell_type": "markdown",
   "metadata": {},
   "source": [
    "<div class=\"alert alert-block alert-info\">\n",
    "<b>Note:</b> The <a href='https://cloud.google.com/bigquery/docs/reference/standard-sql/query-syntax#with_clause'>WITH clause</a> allows you to logically sequence your code. It does this by allowing you to emulate temporary table names that are usable by your main SQL statement so that you can break your code into smaller and easier to understand queries that refer to one another."
   ]
  },
  {
   "cell_type": "code",
   "execution_count": null,
   "metadata": {},
   "outputs": [],
   "source": [
    "formulate_and_run_multipart_query <- function(subqueries, final_tbl) {\n",
    "    query <- str_c('WITH\\n', str_c(subqueries, collapse = ',\\n\\n'), str_glue('\\n\\n\\nSELECT * FROM {final_tbl}'))\n",
    "    message(query)               \n",
    "    results <- bq_table_download(bq_dataset_query(Sys.getenv('WORKSPACE_CDR'),\n",
    "                                                  query,\n",
    "                                                  billing = Sys.getenv('GOOGLE_PROJECT')),\n",
    "                                 bigint = 'integer64')\n",
    "    message(str_glue('Dimensions of result: num_rows={nrow(results)} num_cols={ncol(results)}'))\n",
    "    return(results)\n",
    "}          "
   ]
  },
  {
   "cell_type": "markdown",
   "metadata": {},
   "source": [
    "# Cohort"
   ]
  },
  {
   "cell_type": "code",
   "execution_count": null,
   "metadata": {},
   "outputs": [],
   "source": [
    "COHORT_QUERY <- '\n",
    "-- This query is the entire AoU cohort.\n",
    "cohort_tbl AS (\n",
    "    SELECT\n",
    "        person.PERSON_ID as person_id,\n",
    "    FROM\n",
    "        `person` person\n",
    ")'"
   ]
  },
  {
   "cell_type": "code",
   "execution_count": null,
   "metadata": {},
   "outputs": [],
   "source": [
    "genomic_cohort <- formulate_and_run_multipart_query(c(COHORT_QUERY), 'cohort_tbl')\n",
    "head(genomic_cohort)"
   ]
  },
  {
   "cell_type": "markdown",
   "metadata": {},
   "source": [
    "## TEMPORARY - work around lack of alpha3 cohort"
   ]
  },
  {
   "cell_type": "code",
   "execution_count": null,
   "metadata": {},
   "outputs": [],
   "source": [
    "ALPHA3_ID_LIST <- 'gs://fc-secure-440c511e-7fff-417c-9c86-f8ab51bfc618/data/potential_alpha3_wgs.xlsx'"
   ]
  },
  {
   "cell_type": "code",
   "execution_count": null,
   "metadata": {},
   "outputs": [],
   "source": [
    "system(str_glue('gsutil cp {ALPHA3_ID_LIST} .'), intern = TRUE)"
   ]
  },
  {
   "cell_type": "code",
   "execution_count": null,
   "metadata": {},
   "outputs": [],
   "source": [
    "alpha3_ids <- read_xlsx(basename(ALPHA3_ID_LIST))\n",
    "\n",
    "dim(alpha3_ids)"
   ]
  },
  {
   "cell_type": "markdown",
   "metadata": {},
   "source": [
    "# Demographics"
   ]
  },
  {
   "cell_type": "code",
   "execution_count": null,
   "metadata": {},
   "outputs": [],
   "source": [
    "DEMOGRAPHICS_QUERY <- str_glue('\n",
    "-- This query represents dataset \"Demographics for AoU WGS cohort\" for domain \"person\" and was\n",
    "-- generated for All of Us Controlled Tier Dataset v5 alpha and then further edited.\n",
    "demographics_tbl AS (\n",
    "    SELECT\n",
    "        person.BIRTH_DATETIME as date_of_birth,\n",
    "        person.PERSON_ID as person_id,\n",
    "        p_race_concept.concept_name as race,\n",
    "        p_gender_concept.concept_name as gender,\n",
    "        p_ethnicity_concept.concept_name as ethnicity,\n",
    "        p_sex_at_birth_concept.concept_name as sex_at_birth\n",
    "    FROM\n",
    "        `person` person\n",
    "    LEFT JOIN `concept` p_race_concept on person.race_concept_id = p_race_concept.CONCEPT_ID\n",
    "    LEFT JOIN `concept` p_gender_concept on person.gender_concept_id = p_gender_concept.CONCEPT_ID\n",
    "    LEFT JOIN `concept` p_ethnicity_concept on person.ethnicity_concept_id = p_ethnicity_concept.CONCEPT_ID\n",
    "    LEFT JOIN `concept` p_sex_at_birth_concept on person.sex_at_birth_concept_id = p_sex_at_birth_concept.CONCEPT_ID\n",
    "    WHERE person.PERSON_ID IN (SELECT * FROM cohort_tbl)\n",
    ")')"
   ]
  },
  {
   "cell_type": "code",
   "execution_count": null,
   "metadata": {},
   "outputs": [],
   "source": [
    "demographics <- formulate_and_run_multipart_query(c(COHORT_QUERY, DEMOGRAPHICS_QUERY), 'demographics_tbl')\n",
    "head(demographics)"
   ]
  },
  {
   "cell_type": "markdown",
   "metadata": {},
   "source": [
    "# Measurement data\n",
    "\n",
    "<div class=\"alert alert-block alert-success\">\n",
    "    <b>Four steps:</b>\n",
    "    <ol>\n",
    "        <li>Look thought all relevant measurements and figure out which ones we want to include.</li>\n",
    "        <li>Use readable names to programmatically obtain the concept ids.</li>\n",
    "        <li>Now, limit to the most recent measurement per person and check the data again to make sure we still want to include it.</li>\n",
    "        <li>Finally group the measurements together into their higher level concepts (e.g., LDL, HDL, TC, TG) and again limit to only the most recent measurement per person.</li>\n",
    "    </ol>\n",
    "</div>\n"
   ]
  },
  {
   "cell_type": "markdown",
   "metadata": {},
   "source": [
    "## Discover the lipids measurements we wish to use"
   ]
  },
  {
   "cell_type": "code",
   "execution_count": null,
   "metadata": {},
   "outputs": [],
   "source": [
    "MEASUREMENT_OF_INTEREST <- '(?i)cholesterol|hdl|ldl|triglyceride'\n",
    "\n",
    "LABS_OF_INTEREST_QUERY <- str_glue('\n",
    "-- Use a case insensitive string to search the measurement concept names of those\n",
    "-- measurements we do have in the measurements table.\n",
    "labs_of_interest_tbl AS (\n",
    "    SELECT\n",
    "        measurement_concept_id,\n",
    "        measurement_concept.concept_name AS measurement_name,\n",
    "        unit_concept_id,\n",
    "        unit_concept.concept_name AS unit_name\n",
    "    FROM\n",
    "        `measurement`\n",
    "    LEFT JOIN `concept` AS measurement_concept ON measurement_concept.concept_id = measurement_concept_id\n",
    "    LEFT JOIN `concept` AS unit_concept ON unit_concept.concept_id = unit_concept_id\n",
    "    WHERE\n",
    "        REGEXP_CONTAINS(measurement_concept.concept_name, r\"(?i){MEASUREMENT_OF_INTEREST}\")\n",
    "    GROUP BY\n",
    "        measurement_concept_id,\n",
    "        unit_concept_id,\n",
    "        measurement_concept.concept_name,\n",
    "        unit_concept.concept_name\n",
    ")')"
   ]
  },
  {
   "cell_type": "code",
   "execution_count": null,
   "metadata": {},
   "outputs": [],
   "source": [
    "MEASUREMENTS_OF_INTEREST_SUMMARY_QUERY <- '\n",
    "-- Summarize the information about each measurement concept of interest that the prior query identified.\n",
    "measurements_of_interest_summary_tbl AS (\n",
    "    SELECT\n",
    "        measurement_name AS measurement,\n",
    "        IFNULL(unit_name, \"NA\") AS unit,\n",
    "        COUNT(1) AS N,\n",
    "        COUNTIF(value_as_number IS NULL\n",
    "            AND (value_as_concept_id IS NULL\n",
    "                OR value_as_concept_id = 0)) AS missing,\n",
    "        MIN(value_as_number) AS min,\n",
    "        MAX(value_as_number) AS max,\n",
    "        AVG(value_as_number) AS avg,\n",
    "        STDDEV(value_as_number) AS stddev,\n",
    "        APPROX_QUANTILES(value_as_number, 4) AS quantiles,\n",
    "        COUNTIF(value_as_number IS NOT NULL) AS num_numeric_values,\n",
    "        COUNTIF(value_as_concept_id IS NOT NULL\n",
    "                AND value_as_concept_id != 0) AS num_concept_values,\n",
    "        COUNTIF(operator_concept_id IS NOT NULL) AS num_operators,\n",
    "        IF(src_id = \"PPI/PM\", \"PPI\", \"EHR\") AS measurement_source,\n",
    "        measurement_concept_id,\n",
    "        unit_concept_id\n",
    "    FROM\n",
    "        `measurement`\n",
    "    INNER JOIN\n",
    "        labs_of_interest_tbl USING(measurement_concept_id, unit_concept_id)\n",
    "    LEFT JOIN\n",
    "        `measurement_ext` USING(measurement_id)\n",
    "    WHERE\n",
    "        person_id IN (SELECT * FROM cohort_tbl)\n",
    "    GROUP BY\n",
    "        measurement_concept_id,\n",
    "        measurement_name,\n",
    "        measurement_source,\n",
    "        unit_concept_id,\n",
    "        unit_name\n",
    "    ORDER BY\n",
    "        N DESC\n",
    ")'    "
   ]
  },
  {
   "cell_type": "code",
   "execution_count": null,
   "metadata": {},
   "outputs": [],
   "source": [
    "measurements_of_interest_summary <- formulate_and_run_multipart_query(\n",
    "    c(COHORT_QUERY, LABS_OF_INTEREST_QUERY, MEASUREMENTS_OF_INTEREST_SUMMARY_QUERY),\n",
    "    'measurements_of_interest_summary_tbl')"
   ]
  },
  {
   "cell_type": "code",
   "execution_count": null,
   "metadata": {},
   "outputs": [],
   "source": [
    "head(measurements_of_interest_summary, 25)"
   ]
  },
  {
   "cell_type": "markdown",
   "metadata": {},
   "source": [
    "<div class=\"alert alert-block alert-warning\">\n",
    "You can see above that much of the 'No matching concept' data above does appear to be in units of milligram per deciliter from the average, standard deviation, and quantiles.\n",
    "</div>\n"
   ]
  },
  {
   "cell_type": "markdown",
   "metadata": {},
   "source": [
    "## Retrieve concept ids by name\n",
    "\n",
    "<div class=\"alert alert-block alert-success\">\n",
    "From the table above, identify which measures and units we want to include. Then use the readable names to programmatically obtain the concept ids.\n",
    "</div>\n"
   ]
  },
  {
   "cell_type": "code",
   "execution_count": null,
   "metadata": {},
   "outputs": [],
   "source": [
    "UNIT_NAMES <- c('milligram per deciliter', 'No matching concept', 'mg/dL')\n",
    "\n",
    "# HDL cholesterol\n",
    "HDL_MEASURE_NAMES <- c('Cholesterol in HDL [Mass/volume] in Serum or Plasma',\n",
    "                       'Cholesterol in HDL [Mass/volume] in Serum or Plasma by Electrophoresis',\n",
    "                       'Cholesterol in HDL [Mass/volume] in Serum or Plasma ultracentrifugate')\n",
    "\n",
    "# LDL cholesterol\n",
    "LDL_MEASURE_NAMES <- c('Cholesterol in LDL [Mass/volume] in Serum or Plasma by calculation',\n",
    "                       'Cholesterol in LDL [Mass/volume] in Serum or Plasma',\n",
    "                       'Cholesterol in LDL [Mass/volume] in Serum or Plasma ultracentrifugate',\n",
    "                       'Cholesterol in LDL [Mass/volume] in Serum or Plasma by Direct assay',\n",
    "                       'Cholesterol in LDL [Mass/volume] in Serum or Plasma by Electrophoresis')\n",
    "\n",
    "# Total cholesterol\n",
    "TC_MEASURE_NAMES <- c('Cholesterol [Mass/volume] in Serum or Plasma')\n",
    "\n",
    "# Triglyceriedes\n",
    "TG_MEASURE_NAMES <- c('Triglyceride [Mass/volume] in Serum or Plasma',\n",
    "                      'Triglyceride [Mass/volume] in Blood',\n",
    "                      'Triglyceride [Mass/volume] in Serum or Plasma --fasting',\n",
    "                      'Triglyceride [Mass/volume] in Serum or Plasma by calculation')\n",
    "\n",
    "all_lipids_measure_names <- c(HDL_MEASURE_NAMES, LDL_MEASURE_NAMES, TC_MEASURE_NAMES, TG_MEASURE_NAMES)\n",
    "\n",
    "lipids_measurement_summary <- measurements_of_interest_summary %>%\n",
    "    filter(measurement %in% all_lipids_measure_names) %>%\n",
    "    filter(unit %in% UNIT_NAMES) %>%\n",
    "    mutate(\n",
    "        lipid_type = case_when(\n",
    "            measurement %in% HDL_MEASURE_NAMES ~ 'HDL',\n",
    "            measurement %in% LDL_MEASURE_NAMES ~ 'LDL',\n",
    "            measurement %in% TC_MEASURE_NAMES ~ 'TC',\n",
    "            measurement %in% TG_MEASURE_NAMES ~ 'TG',\n",
    "            # We won't have any in this final group, but adding it so that the value would not be NA in this case.\n",
    "            TRUE ~ 'FIXME',\n",
    "        )\n",
    "    )"
   ]
  },
  {
   "cell_type": "code",
   "execution_count": null,
   "metadata": {},
   "outputs": [],
   "source": [
    "lipids_measurement_summary"
   ]
  },
  {
   "cell_type": "markdown",
   "metadata": {},
   "source": [
    "### Create the vectors of concept ids we will use in queries"
   ]
  },
  {
   "cell_type": "code",
   "execution_count": null,
   "metadata": {},
   "outputs": [],
   "source": [
    "# Check for typos. Did we find all our measurement names?\n",
    "stopifnot(length(unique(lipids_measurement_summary$measurement)) == length(all_lipids_measure_names))\n",
    "(lipids_measurement_concept_ids <- sort(unique(lipids_measurement_summary$measurement_concept_id)))\n",
    "\n",
    "# Check for typos. Did we find all our unit names?\n",
    "stopifnot(length(unique(lipids_measurement_summary$unit)) == length(UNIT_NAMES))\n",
    "(lipids_unit_concept_ids <- sort(unique(lipids_measurement_summary$unit_concept_id)))"
   ]
  },
  {
   "cell_type": "code",
   "execution_count": null,
   "metadata": {},
   "outputs": [],
   "source": [
    "(ldl_measurement_concept_ids <- lipids_measurement_summary %>%\n",
    "     filter(lipid_type == 'LDL') %>%\n",
    "     pull(measurement_concept_id) %>%\n",
    "     unique %>%\n",
    "     sort)\n",
    "     \n",
    "lipids_measurement_summary %>%\n",
    "    filter(measurement_concept_id %in% ldl_measurement_concept_ids) %>%\n",
    "    arrange(measurement_concept_id, desc(unit_concept_id)) %>%\n",
    "    select(lipid_type, measurement, unit, measurement_concept_id)"
   ]
  },
  {
   "cell_type": "code",
   "execution_count": null,
   "metadata": {},
   "outputs": [],
   "source": [
    "(hdl_measurement_concept_ids <- lipids_measurement_summary %>%\n",
    "     filter(lipid_type == 'HDL') %>%\n",
    "     pull(measurement_concept_id) %>%\n",
    "     unique %>%\n",
    "     sort)\n",
    "     \n",
    "lipids_measurement_summary %>%\n",
    "    filter(measurement_concept_id %in% hdl_measurement_concept_ids) %>%\n",
    "    arrange(measurement_concept_id, desc(unit_concept_id)) %>%\n",
    "    select(lipid_type, measurement, unit, measurement_concept_id)"
   ]
  },
  {
   "cell_type": "code",
   "execution_count": null,
   "metadata": {},
   "outputs": [],
   "source": [
    "(tc_measurement_concept_ids <- lipids_measurement_summary %>%\n",
    "     filter(lipid_type == 'TC') %>%\n",
    "     pull(measurement_concept_id) %>%\n",
    "     unique %>%\n",
    "     sort)\n",
    "     \n",
    "lipids_measurement_summary %>%\n",
    "    filter(measurement_concept_id %in% tc_measurement_concept_ids) %>%\n",
    "    arrange(measurement_concept_id, desc(unit_concept_id)) %>%\n",
    "    select(lipid_type, measurement, unit, measurement_concept_id)"
   ]
  },
  {
   "cell_type": "code",
   "execution_count": null,
   "metadata": {},
   "outputs": [],
   "source": [
    "(tg_measurement_concept_ids <- lipids_measurement_summary %>%\n",
    "     filter(lipid_type == 'TG') %>%\n",
    "     pull(measurement_concept_id) %>%\n",
    "     unique %>%\n",
    "     sort)\n",
    "     \n",
    "lipids_measurement_summary %>%\n",
    "    filter(measurement_concept_id %in% tg_measurement_concept_ids) %>%\n",
    "    arrange(measurement_concept_id, desc(unit_concept_id)) %>%\n",
    "    select(lipid_type, measurement, unit, measurement_concept_id)"
   ]
  },
  {
   "cell_type": "markdown",
   "metadata": {},
   "source": [
    "## Most recent measurement per person by measurement concept"
   ]
  },
  {
   "cell_type": "code",
   "execution_count": null,
   "metadata": {},
   "outputs": [],
   "source": [
    "MEASUREMENTS_QUERY <- str_glue('\n",
    "measurements_tbl AS (\n",
    "-- Return row level data for certain measurements for members of the cohort.\n",
    "    SELECT\n",
    "        person_id,\n",
    "        CONCAT(measurement_concept.concept_name, \" [\", unit_concept.concept_name, \"]\") AS title,\n",
    "        measurement_id,\n",
    "        measurement_concept_id,\n",
    "        unit_concept_id,\n",
    "        measurement_date,\n",
    "        measurement_datetime,\n",
    "        value_as_number,\n",
    "        CASE\n",
    "            WHEN measurement_concept_id IN ({str_c(ldl_measurement_concept_ids, collapse = \", \")}) THEN \"LDL\"\n",
    "            WHEN measurement_concept_id IN ({str_c(hdl_measurement_concept_ids, collapse = \", \")}) THEN \"HDL\"\n",
    "            WHEN measurement_concept_id IN ({str_c(tc_measurement_concept_ids, collapse = \", \")}) THEN \"TC\"\n",
    "            WHEN measurement_concept_id IN ({str_c(tg_measurement_concept_ids, collapse = \", \")}) THEN \"TG\"\n",
    "            ELSE \"FIXME\" -- We should not have any of these.\n",
    "        END AS lipid_type\n",
    "    FROM\n",
    "        `measurement`\n",
    "    LEFT JOIN `concept` AS measurement_concept\n",
    "        ON measurement_concept.concept_id = measurement_concept_id\n",
    "    LEFT JOIN `concept` AS unit_concept\n",
    "        ON unit_concept.concept_id = unit_concept_id\n",
    "    WHERE\n",
    "        value_as_number IS NOT NULL\n",
    "        AND value_as_number > 0\n",
    "        AND measurement_concept_id IN ({str_c(lipids_measurement_concept_ids, collapse = \", \")})\n",
    "        AND unit_concept_id IN ({str_c(lipids_unit_concept_ids, collapse = \", \")})\n",
    "        AND person_id IN (SELECT * FROM cohort_tbl)\n",
    ")')"
   ]
  },
  {
   "cell_type": "code",
   "execution_count": null,
   "metadata": {},
   "outputs": [],
   "source": [
    "RANNKED_MEASUREMENTS_QUERY <- str_glue('\n",
    "ranked_measurements_tbl AS (\n",
    "-- Add ranks to the row level data for certain measurements for members of the cohort.\n",
    "    SELECT\n",
    "        measurements_tbl.*,\n",
    "        ROW_NUMBER() OVER (PARTITION BY person_id, measurement_concept_id, unit_concept_id\n",
    "                           ORDER BY measurement_date DESC,\n",
    "                                    measurement_datetime DESC,\n",
    "                                    measurement_id DESC) AS recency_rank_by_concept,\n",
    "        ROW_NUMBER() OVER (PARTITION BY person_id, lipid_type\n",
    "                           ORDER BY measurement_date DESC,\n",
    "                                    measurement_datetime DESC,\n",
    "                                    measurement_id DESC) AS recency_rank_by_lipid_type\n",
    "\n",
    "    FROM\n",
    "        measurements_tbl\n",
    ")')"
   ]
  },
  {
   "cell_type": "code",
   "execution_count": null,
   "metadata": {},
   "outputs": [],
   "source": [
    "MOST_RECENT_MEASUREMENT_PER_PERSON_BY_MEASUREMENT_CONCEPT_QUERY <- str_glue('\n",
    "most_recent_measurement_per_person_by_measurement_concept_tbl AS (\n",
    "-- Return row level data for certain measurements, limited to only the most recent result per concept\n",
    "-- and per person in our cohort.\n",
    "    SELECT\n",
    "        *\n",
    "    FROM\n",
    "        ranked_measurements_tbl\n",
    "    WHERE\n",
    "        recency_rank_by_concept = 1\n",
    ")')"
   ]
  },
  {
   "cell_type": "code",
   "execution_count": null,
   "metadata": {},
   "outputs": [],
   "source": [
    "most_recent_measurement_per_person_by_measurement_concept <- formulate_and_run_multipart_query(\n",
    "    c(COHORT_QUERY,\n",
    "      MEASUREMENTS_QUERY,\n",
    "      RANNKED_MEASUREMENTS_QUERY,\n",
    "      MOST_RECENT_MEASUREMENT_PER_PERSON_BY_MEASUREMENT_CONCEPT_QUERY),\n",
    "    'most_recent_measurement_per_person_by_measurement_concept_tbl')"
   ]
  },
  {
   "cell_type": "code",
   "execution_count": null,
   "metadata": {},
   "outputs": [],
   "source": [
    "head(most_recent_measurement_per_person_by_measurement_concept)"
   ]
  },
  {
   "cell_type": "code",
   "execution_count": null,
   "metadata": {},
   "outputs": [],
   "source": [
    "most_recent_measurement_per_person_by_measurement_concept %>%\n",
    "    group_by(title) %>%\n",
    "    summarize(\n",
    "        lipid_type = unique(lipid_type),\n",
    "        num_persons = n_distinct(person_id),\n",
    "        num_measures = n(),\n",
    "        missing = sum(is.na(value_as_number)),\n",
    "        median = median(value_as_number, na.rm = TRUE),\n",
    "        mean = mean(value_as_number, na.rm = TRUE),\n",
    "        stddev = sd(value_as_number, na.rm = TRUE)\n",
    "    ) %>%\n",
    "    arrange(lipid_type, desc(num_persons))    "
   ]
  },
  {
   "cell_type": "code",
   "execution_count": null,
   "metadata": {},
   "outputs": [],
   "source": [
    "most_recent_measurement_per_person_by_measurement_concept %>%\n",
    "    group_by(lipid_type) %>%\n",
    "    summarize(\n",
    "        num_persons = n_distinct(person_id),\n",
    "        num_measures = n(),\n",
    "        missing = sum(is.na(value_as_number)),\n",
    "        median = median(value_as_number, na.rm = TRUE),\n",
    "        mean = mean(value_as_number, na.rm = TRUE),\n",
    "        stddev = sd(value_as_number, na.rm = TRUE)\n",
    "    ) %>%\n",
    "    arrange(desc(num_persons))    "
   ]
  },
  {
   "cell_type": "markdown",
   "metadata": {},
   "source": [
    "## Most recent measurement per person by lipid type"
   ]
  },
  {
   "cell_type": "code",
   "execution_count": null,
   "metadata": {},
   "outputs": [],
   "source": [
    "MOST_RECENT_MEASUREMENT_PER_PERSON_BY_LIPID_TYPE_QUERY <- '\n",
    "most_recent_measurement_per_person_by_lipid_type_tbl AS (\n",
    "-- Return row level data for certain measurements, limited to only the most recent result per lipid type\n",
    "-- and per person in our cohort.\n",
    "    SELECT\n",
    "        *\n",
    "    FROM\n",
    "        ranked_measurements_tbl\n",
    "    WHERE\n",
    "        recency_rank_by_lipid_type = 1\n",
    ")'"
   ]
  },
  {
   "cell_type": "code",
   "execution_count": null,
   "metadata": {},
   "outputs": [],
   "source": [
    "most_recent_measurement_per_person_by_lipid_type <- formulate_and_run_multipart_query(\n",
    "    c(COHORT_QUERY,\n",
    "      MEASUREMENTS_QUERY,\n",
    "      RANNKED_MEASUREMENTS_QUERY,\n",
    "      MOST_RECENT_MEASUREMENT_PER_PERSON_BY_LIPID_TYPE_QUERY),\n",
    "    'most_recent_measurement_per_person_by_lipid_type_tbl')"
   ]
  },
  {
   "cell_type": "code",
   "execution_count": null,
   "metadata": {},
   "outputs": [],
   "source": [
    "head(most_recent_measurement_per_person_by_lipid_type)"
   ]
  },
  {
   "cell_type": "code",
   "execution_count": null,
   "metadata": {},
   "outputs": [],
   "source": [
    "most_recent_measurement_per_person_by_lipid_type %>%\n",
    "    group_by(lipid_type) %>%\n",
    "    summarize(\n",
    "        num_persons = n_distinct(person_id),\n",
    "        num_measures = n(),\n",
    "        missing = sum(is.na(value_as_number)),\n",
    "        median = median(value_as_number, na.rm = TRUE),\n",
    "        mean = mean(value_as_number, na.rm = TRUE),\n",
    "        stddev = sd(value_as_number, na.rm = TRUE)\n",
    "    ) %>%\n",
    "    arrange(desc(num_persons))    "
   ]
  },
  {
   "cell_type": "markdown",
   "metadata": {},
   "source": [
    "# Statin Use\n",
    "\n",
    "<div class=\"alert alert-block alert-success\">\n",
    "    <b>Three steps:</b>\n",
    "    <ol>\n",
    "        <li>Obtain the statin drug exposures for the members of our cohort.</li>\n",
    "        <li>Many of the drug exposures do not have an end time. Fill those NAs by using the start time.</li>\n",
    "        <li>Determine the outer bounds of the time interval over which the person has taken a statin. There could of course be gaps in the middle, but this is a reasonable estimate.</li>\n",
    "    </ol>\n",
    "</div>"
   ]
  },
  {
   "cell_type": "code",
   "execution_count": null,
   "metadata": {},
   "outputs": [],
   "source": [
    "STATIN_DRUG_EXPOSURES_QUERY <- '\n",
    "-- This query represents dataset \"Statin use for AoU WGS cohort\" for domain \"drug\" and was generated \n",
    "-- for All of Us Controlled Tier Dataset v5 alpha and then further modified.\n",
    "statin_drug_exposures_tbl AS (\n",
    "  SELECT\n",
    "    d_exposure.PERSON_ID AS person_id,\n",
    "    d_exposure.DRUG_CONCEPT_ID AS drug_concept_id,\n",
    "    d_exposure.DRUG_EXPOSURE_START_DATETIME AS exposure_start_datetime,\n",
    "    d_exposure.DRUG_EXPOSURE_END_DATETIME AS exposure_end_datetime,\n",
    "    d_standard_concept.concept_code AS standard_concept_code,\n",
    "    d_standard_concept.concept_name AS standard_concept_name\n",
    "  FROM (\n",
    "    SELECT\n",
    "        *\n",
    "    FROM\n",
    "        `drug_exposure` AS d_exposure\n",
    "    WHERE\n",
    "        ( drug_concept_id IN (\n",
    "            SELECT\n",
    "                DISTINCT ca.descendant_id\n",
    "            FROM\n",
    "                `cb_criteria_ancestor` AS ca\n",
    "            JOIN (\n",
    "                SELECT\n",
    "                    DISTINCT c.concept_id\n",
    "                FROM\n",
    "                    `cb_criteria` c\n",
    "                JOIN (\n",
    "                    SELECT\n",
    "                        CAST(cr.id AS string) AS id\n",
    "                    FROM\n",
    "                        `cb_criteria` cr\n",
    "                    WHERE\n",
    "                        domain_id = \"DRUG\"\n",
    "                        AND is_standard = 1\n",
    "                        AND concept_id IN ( 1545958, 1551860, 1549686, 1510813, 1592085, 40165636, 1539403, 1592180 )\n",
    "                        AND is_selectable = 1\n",
    "                        AND full_text LIKE \"%[drug_rank1]%\" ) a\n",
    "                ON\n",
    "                    ( c.path LIKE CONCAT(\"%.\", a.id, \".%\")\n",
    "                        OR c.path LIKE CONCAT(\"%.\", a.id)\n",
    "                        OR c.path LIKE CONCAT(a.id, \".%\")\n",
    "                        OR c.path = a.id)\n",
    "                WHERE\n",
    "                    domain_id = \"DRUG\"\n",
    "                    AND is_standard = 1\n",
    "                    AND is_selectable = 1 ) b\n",
    "            ON\n",
    "                ( ca.ancestor_id = b.concept_id ) ) )\n",
    "        AND ( d_exposure.PERSON_ID IN (\n",
    "            SELECT\n",
    "                person_id\n",
    "            FROM\n",
    "                `cb_search_person` AS cb_search_person\n",
    "            WHERE\n",
    "                cb_search_person.person_id IN ( SELECT * FROM cohort_tbl ) ) ) ) d_exposure\n",
    "  LEFT JOIN\n",
    "    `concept` d_standard_concept\n",
    "  ON\n",
    "    d_exposure.DRUG_CONCEPT_ID = d_standard_concept.CONCEPT_ID\n",
    ")'"
   ]
  },
  {
   "cell_type": "code",
   "execution_count": null,
   "metadata": {},
   "outputs": [],
   "source": [
    "STATIN_DRUG_EXPOSURES_WITH_END_TIME_FILLED_QUERY <- '\n",
    "-- Many drug exposure records do not have an end time. When that is the case, use the start time as the end time.\n",
    "statin_drug_exposures_with_end_time_filled_tbl AS (\n",
    "    SELECT\n",
    "        person_id,\n",
    "        drug_concept_id,\n",
    "        exposure_start_datetime,\n",
    "        IFNULL(exposure_end_datetime, exposure_start_datetime) AS exposure_end_datetime,\n",
    "        standard_concept_code,\n",
    "        standard_concept_name\n",
    "    FROM\n",
    "        statin_drug_exposures_tbl\n",
    ")'"
   ]
  },
  {
   "cell_type": "code",
   "execution_count": null,
   "metadata": {},
   "outputs": [],
   "source": [
    "STATIN_DRUG_EXPOSURE_SUMMARY_PER_PERSON_QUERY <- '\n",
    "-- Determine the outer bounds of the time interval over which the person has taken a statin. There could of course\n",
    "-- be gaps in the middle, but this is a reasonable estimate.\n",
    "statin_exposure_summary_per_person_tbl AS (\n",
    "    SELECT\n",
    "        person_id,\n",
    "        MIN(exposure_start_datetime) AS statin_first_use_datetime,\n",
    "        MAX(exposure_end_datetime) AS statin_last_use_datetime,\n",
    "        COUNT(1) AS statin_drug_rx_count,\n",
    "        COUNT(DISTINCT standard_concept_code) AS statin_drug_count,\n",
    "        STRING_AGG(DISTINCT standard_concept_name, \", \") AS statin_drugs\n",
    "    FROM \n",
    "        statin_drug_exposures_with_end_time_filled_tbl\n",
    "    GROUP BY\n",
    "        person_id\n",
    ")'"
   ]
  },
  {
   "cell_type": "code",
   "execution_count": null,
   "metadata": {},
   "outputs": [],
   "source": [
    "statin_exposure_summary_per_person <- formulate_and_run_multipart_query(\n",
    "    c(COHORT_QUERY,\n",
    "      STATIN_DRUG_EXPOSURES_QUERY,\n",
    "      STATIN_DRUG_EXPOSURES_WITH_END_TIME_FILLED_QUERY,\n",
    "      STATIN_DRUG_EXPOSURE_SUMMARY_PER_PERSON_QUERY),\n",
    "    'statin_exposure_summary_per_person_tbl')"
   ]
  },
  {
   "cell_type": "code",
   "execution_count": null,
   "metadata": {},
   "outputs": [],
   "source": [
    "statin_exposure_summary_per_person %>%\n",
    "    arrange(desc(statin_drug_count)) %>%\n",
    "    head(n = 20)"
   ]
  },
  {
   "cell_type": "code",
   "execution_count": null,
   "metadata": {},
   "outputs": [],
   "source": [
    "statin_exposure_summary_per_person %>%\n",
    "    arrange(desc(statin_drug_count)) %>%\n",
    "    tail(n = 20)"
   ]
  },
  {
   "cell_type": "code",
   "execution_count": null,
   "metadata": {},
   "outputs": [],
   "source": [
    "statin_exposure_summary_per_person %>%\n",
    "    arrange(desc(statin_drug_rx_count)) %>%\n",
    "    tail(n = 20)"
   ]
  },
  {
   "cell_type": "markdown",
   "metadata": {},
   "source": [
    "# Now - bring all this data together in one query!\n",
    "\n",
    "<div class=\"alert alert-block alert-success\">\n",
    "<p>Join our demographics, lipids measurements, and statin drug exposures together via a single query for scalability. <b>Note that</b>:<ul>\n",
    "    <li>We keep the measurements on the left side of the join to allow for the null statin drug exposures we expect for the members of the cohort who do not take statins.</li>\n",
    "    <li>The JOIN criteria for the lipids measurements and the statin drug intervals is whether the measurement time overlaps the drug exposure time interval.</li>\n",
    "    <li>To do this same join in R, one can use R package <a href='https://cran.r-project.org/web/packages/fuzzyjoin/'>fuzzyjoin</a> but it tends to crash the kernel as data sizes increase.</li>\n",
    "    </ul>\n",
    "</div>\n"
   ]
  },
  {
   "cell_type": "code",
   "execution_count": null,
   "metadata": {},
   "outputs": [],
   "source": [
    "LIPID_PHENOTYPE_QUERY <- '\n",
    "lipid_phenotype_tbl AS (\n",
    "    SELECT\n",
    "        demog.*,\n",
    "        meas.* EXCEPT(person_id),\n",
    "        statin_use.* EXCEPT(person_id)\n",
    "    FROM\n",
    "        most_recent_measurement_per_person_by_lipid_type_tbl AS meas\n",
    "    LEFT JOIN\n",
    "        demographics_tbl AS demog\n",
    "    USING(person_id) \n",
    "    LEFT JOIN\n",
    "        statin_exposure_summary_per_person_tbl AS statin_use\n",
    "    ON\n",
    "        meas.person_id = statin_use.person_id\n",
    "        AND meas.measurement_datetime >= statin_first_use_datetime\n",
    "        AND meas.measurement_datetime <= statin_last_use_datetime\n",
    ")'"
   ]
  },
  {
   "cell_type": "code",
   "execution_count": null,
   "metadata": {},
   "outputs": [],
   "source": [
    "lipid_phenotype <- formulate_and_run_multipart_query(\n",
    "    c(COHORT_QUERY,\n",
    "      MEASUREMENTS_QUERY,\n",
    "      RANNKED_MEASUREMENTS_QUERY,\n",
    "      MOST_RECENT_MEASUREMENT_PER_PERSON_BY_LIPID_TYPE_QUERY,\n",
    "      DEMOGRAPHICS_QUERY,\n",
    "      STATIN_DRUG_EXPOSURES_QUERY,\n",
    "      STATIN_DRUG_EXPOSURES_WITH_END_TIME_FILLED_QUERY,\n",
    "      STATIN_DRUG_EXPOSURE_SUMMARY_PER_PERSON_QUERY,\n",
    "      LIPID_PHENOTYPE_QUERY),\n",
    "    'lipid_phenotype_tbl')"
   ]
  },
  {
   "cell_type": "code",
   "execution_count": null,
   "metadata": {},
   "outputs": [],
   "source": [
    "colnames(lipid_phenotype)"
   ]
  },
  {
   "cell_type": "code",
   "execution_count": null,
   "metadata": {},
   "outputs": [],
   "source": [
    "head(lipid_phenotype)"
   ]
  },
  {
   "cell_type": "markdown",
   "metadata": {},
   "source": [
    "# Add statin indicator variable"
   ]
  },
  {
   "cell_type": "code",
   "execution_count": null,
   "metadata": {},
   "outputs": [],
   "source": [
    "lipid_phenotype <- lipid_phenotype %>%\n",
    "    mutate(\n",
    "        # Add an indicator for statin use.\n",
    "        statin_use = !is.na(statin_first_use_datetime)\n",
    "    )"
   ]
  },
  {
   "cell_type": "markdown",
   "metadata": {},
   "source": [
    "# Add age covariates"
   ]
  },
  {
   "cell_type": "code",
   "execution_count": null,
   "metadata": {},
   "outputs": [],
   "source": [
    "lipid_phenotype <- lipid_phenotype %>%\n",
    "    mutate(\n",
    "        # Age at time of measurement.\n",
    "        age = floor(interval(start = date_of_birth, end = measurement_date) / duration(num = 1, units = 'years')),\n",
    "        age2 = age^2\n",
    "    )"
   ]
  },
  {
   "cell_type": "markdown",
   "metadata": {},
   "source": [
    "# Adjust lipids for statin use"
   ]
  },
  {
   "cell_type": "markdown",
   "metadata": {},
   "source": [
    "## Adjust LDL for statin use"
   ]
  },
  {
   "cell_type": "code",
   "execution_count": null,
   "metadata": {},
   "outputs": [],
   "source": [
    "# LDL adjustment based on TG and LDL values\n",
    "# If TG > 400, then LDL = NA\n",
    "# If LDL < 10, then LDL = NA\n",
    "# If STATIN is used, LDL_ADJ = LDL/0.7\n",
    "\n",
    "ldl_adjusted_phenotype <- lipid_phenotype %>%\n",
    "    filter(lipid_type == 'LDL') %>%\n",
    "    left_join(\n",
    "        lipid_phenotype %>%\n",
    "        filter(lipid_type == 'TG') %>%\n",
    "        select(person_id, TG=value_as_number)\n",
    "    ) %>%\n",
    "    mutate(\n",
    "        lipid_type = 'LDL_adjusted',\n",
    "        value_as_number = case_when(\n",
    "            value_as_number < 10 ~ NA_real_,\n",
    "            TG > 400 ~ NA_real_,\n",
    "            TRUE ~ value_as_number\n",
    "        )\n",
    "    ) %>%\n",
    "    mutate(\n",
    "        value_as_number = case_when(\n",
    "            statin_use ~ value_as_number / 0.7,\n",
    "            TRUE ~ value_as_number\n",
    "        )\n",
    "    )"
   ]
  },
  {
   "cell_type": "code",
   "execution_count": null,
   "metadata": {},
   "outputs": [],
   "source": [
    "# Add this new lipid type to our lipid phenotype.\n",
    "lipid_phenotype <- rbind(\n",
    "    lipid_phenotype,\n",
    "    ldl_adjusted_phenotype %>% select(-TG)\n",
    ")"
   ]
  },
  {
   "cell_type": "markdown",
   "metadata": {},
   "source": [
    "## Adjust total cholesterol for statin use"
   ]
  },
  {
   "cell_type": "code",
   "execution_count": null,
   "metadata": {},
   "outputs": [],
   "source": [
    "# TC adjustment\n",
    "# If STATIN is used, TC_ADJ = TC/0.8\n",
    "\n",
    "tc_adjusted_phenotype <- lipid_phenotype %>%\n",
    "    filter(lipid_type == 'TC') %>%\n",
    "    mutate(\n",
    "        lipid_type = 'TC_adjusted',\n",
    "        value_as_number = case_when(\n",
    "            statin_use ~ value_as_number / 0.8,\n",
    "            TRUE ~ value_as_number\n",
    "        )\n",
    "    )"
   ]
  },
  {
   "cell_type": "code",
   "execution_count": null,
   "metadata": {},
   "outputs": [],
   "source": [
    "# Add this new lipid type to our lipid phenotype.\n",
    "lipid_phenotype <- rbind(\n",
    "    lipid_phenotype,\n",
    "    tc_adjusted_phenotype\n",
    ")"
   ]
  },
  {
   "cell_type": "markdown",
   "metadata": {},
   "source": [
    "## Adjust triglycerides"
   ]
  },
  {
   "cell_type": "code",
   "execution_count": null,
   "metadata": {},
   "outputs": [],
   "source": [
    "# Triglyceride adjustment\n",
    "# TG_ADJ = log(TG)\n",
    "\n",
    "tg_adjusted_phenotype <- lipid_phenotype %>%\n",
    "    filter(lipid_type == 'TG') %>%\n",
    "    mutate(\n",
    "        lipid_type = 'TG_adjusted',\n",
    "        value_as_number = log(value_as_number)\n",
    "    )"
   ]
  },
  {
   "cell_type": "code",
   "execution_count": null,
   "metadata": {},
   "outputs": [],
   "source": [
    "# Add this new lipid type to our lipid phenotype.\n",
    "lipid_phenotype <- rbind(\n",
    "    lipid_phenotype,\n",
    "    tg_adjusted_phenotype\n",
    ")"
   ]
  },
  {
   "cell_type": "markdown",
   "metadata": {},
   "source": [
    "# Write phenotypes to workspace bucket"
   ]
  },
  {
   "cell_type": "code",
   "execution_count": null,
   "metadata": {},
   "outputs": [],
   "source": [
    "head(lipid_phenotype)"
   ]
  },
  {
   "cell_type": "code",
   "execution_count": null,
   "metadata": {},
   "outputs": [],
   "source": [
    "# Create a timestamp for a folder of results generated today.\n",
    "DATESTAMP <- strftime(now(), '%Y%m%d')\n",
    "DESTINATION <- str_glue('{Sys.getenv(\"WORKSPACE_BUCKET\")}/data/phenotypes/{DATESTAMP}/')\n",
    "\n",
    "print(str_glue('Phenotype files will be written to folder {DESTINATION}.'))"
   ]
  },
  {
   "cell_type": "code",
   "execution_count": null,
   "metadata": {},
   "outputs": [],
   "source": [
    "write_phenotype_to_bucket <- function(my_dataframe, destination_filename) {\n",
    "    # Store the dataframe in current workspace.\n",
    "    write_excel_csv(my_dataframe, destination_filename)\n",
    "\n",
    "    # Copy the file from current workspace to the bucket.\n",
    "    system(str_glue('gsutil cp ./ {destination_filename} {DESTINATION}'), intern = T)\n",
    "\n",
    "    # Check if file is in the bucket.\n",
    "    system(str_glue('gsutil ls {DESTINATION}'), intern = T)\n",
    "}"
   ]
  },
  {
   "cell_type": "code",
   "execution_count": null,
   "metadata": {},
   "outputs": [],
   "source": [
    "#write_phenotype_to_bucket(lipid_phenotype, 'AOU_lipids_phenotype.csv')"
   ]
  },
  {
   "cell_type": "markdown",
   "metadata": {},
   "source": [
    "## TEMPORARY - work around lack of alpha3 cohort"
   ]
  },
  {
   "cell_type": "code",
   "execution_count": null,
   "metadata": {},
   "outputs": [],
   "source": [
    "lipid_phenotype_alpha3 <- lipid_phenotype %>%\n",
    "    filter(as.double(person_id) %in% as.double(alpha3_ids$person_id))\n",
    "\n",
    "dim(lipid_phenotype_alpha3)"
   ]
  },
  {
   "cell_type": "code",
   "execution_count": null,
   "metadata": {},
   "outputs": [],
   "source": [
    "length(unique(lipid_phenotype_alpha3$person_id))"
   ]
  },
  {
   "cell_type": "code",
   "execution_count": null,
   "metadata": {},
   "outputs": [],
   "source": [
    "write_phenotype_to_bucket(lipid_phenotype_alpha3, 'AOU_lipids_phenotype_alpha3.csv')"
   ]
  },
  {
   "cell_type": "markdown",
   "metadata": {},
   "source": [
    "# Provenance"
   ]
  },
  {
   "cell_type": "code",
   "execution_count": null,
   "metadata": {},
   "outputs": [],
   "source": [
    "devtools::session_info()"
   ]
  }
 ],
 "metadata": {
  "kernelspec": {
   "display_name": "R",
   "language": "R",
   "name": "ir"
  },
  "language_info": {
   "codemirror_mode": "r",
   "file_extension": ".r",
   "mimetype": "text/x-r-source",
   "name": "R",
   "pygments_lexer": "r",
   "version": "4.1.1"
  },
  "toc": {
   "base_numbering": 1,
   "nav_menu": {},
   "number_sections": true,
   "sideBar": true,
   "skip_h1_title": false,
   "title_cell": "Table of Contents",
   "title_sidebar": "Contents",
   "toc_cell": false,
   "toc_position": {
    "height": "calc(100% - 180px)",
    "left": "10px",
    "top": "150px",
    "width": "194px"
   },
   "toc_section_display": true,
   "toc_window_display": true
  }
 },
 "nbformat": 4,
 "nbformat_minor": 2
}

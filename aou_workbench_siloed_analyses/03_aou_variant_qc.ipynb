{
 "cells": [
  {
   "cell_type": "markdown",
   "metadata": {},
   "source": [
    "# Perform variant quality control\n",
    "\n",
    "In this notebook, we perform variant quality control using [PLINK2](https://www.cog-genomics.org/plink/2.0/).\n",
    "\n",
    "Note that this work is part of a larger project to [Demonstrate the Potential for Pooled Analysis of All of Us and UK Biobank Genomic Data](https://github.com/all-of-us/ukb-cross-analysis-demo-project). Specifically this is for the portion of the project that is the **siloed** analysis."
   ]
  },
  {
   "cell_type": "markdown",
   "metadata": {},
   "source": [
    "# Setup \n",
    "\n",
    "<div class=\"alert alert-block alert-warning\">\n",
    "    <b>Cloud Environment</b>: This notebook was written for use on the <i>All of Us</i> Workbench.\n",
    "    <ul>\n",
    "        <li>Use \"Recommended Environment\" <kbd><b>General Analysis</b></kbd> which creates compute type <kbd><b>Standard VM</b></kbd> and change the resources to <b>8 CPUs</b> and <b>30 GB RAM</b>.</li>\n",
    "        <li>This notebook will also run fine with the default values for CPU and RAM but the subsequent notebooks (e.g., PCA and regenie) will benefit from a machine with more resources.</li>\n",
    "        <li>When run on a standard VM with resources 8 CPUs and 30 GB RAM, this notebook takes only 10 minutes to run. You can also run it in the background via <kbd>run_notebook_in_the_background</kbd> for the sake of provenance and reproducibility.</li>\n",
    "    </ul>\n",
    "</div>"
   ]
  },
  {
   "cell_type": "code",
   "execution_count": null,
   "metadata": {},
   "outputs": [],
   "source": [
    "from datetime import datetime\n",
    "import os\n",
    "import time"
   ]
  },
  {
   "cell_type": "markdown",
   "metadata": {},
   "source": [
    "## Setup plink2\n",
    "\n",
    "https://www.cog-genomics.org/plink/2.0/"
   ]
  },
  {
   "cell_type": "code",
   "execution_count": null,
   "metadata": {},
   "outputs": [],
   "source": [
    "%%bash\n",
    "\n",
    "##### plink 2 install\n",
    "PLINK_VERSION=2.3.Alpha\n",
    "PLINK_ZIP_PATH=/tmp/plink-$PLINK_VERSION.zip\n",
    "curl -L -o $PLINK_ZIP_PATH https://s3.amazonaws.com/plink2-assets/alpha2/plink2_linux_x86_64.zip\n",
    "mkdir -p /tmp/plink2/\n",
    "unzip -o $PLINK_ZIP_PATH -d /tmp/plink2/"
   ]
  },
  {
   "cell_type": "code",
   "execution_count": null,
   "metadata": {},
   "outputs": [],
   "source": [
    "!/tmp/plink2/plink2 --version # --help"
   ]
  },
  {
   "cell_type": "markdown",
   "metadata": {},
   "source": [
    "## Define constants"
   ]
  },
  {
   "cell_type": "code",
   "execution_count": null,
   "metadata": {
    "tags": [
     "parameters"
    ]
   },
   "outputs": [],
   "source": [
    "# Papermill parameters. See https://papermill.readthedocs.io/en/latest/usage-parameterize.html\n",
    "\n",
    "#---[ Inputs ]---\n",
    "# The BGEN file was created via aou_workbench_siloed_analyses/02_aou_write_filtered_bgen.ipynb.\n",
    "REMOTE_BGEN = 'gs://fc-secure-9169fc87-b35f-4b52-bf83-0f8e45994708/data/aou/geno/20220315/aou-alpha3-chr1-chr22.bgen'\n",
    "# The sample file was created via aou_workbench_siloed_analyses/02_aou_write_filtered_bgen.ipynb.\n",
    "REMOTE_BGEN_SAMPLE = 'gs://fc-secure-9169fc87-b35f-4b52-bf83-0f8e45994708/data/aou/geno/20220315/aou-alpha3-chr1-chr22.sample'\n",
    "# This TSV was created via notebook aou_workbench_siloed_analyses/01_aou_lipids_phenotype.ipynb\n",
    "REMOTE_PHENOTYPE_SAMPLE_IDS = 'gs://fc-secure-9169fc87-b35f-4b52-bf83-0f8e45994708/data/aou/pheno/20220314/aou_alpha3_lipids_ids.tsv'\n",
    "\n",
    "#---[ Outputs ]---\n",
    "# Create a timestamp for a folder of results generated today.\n",
    "DATESTAMP = time.strftime('%Y%m%d')\n",
    "OUTPUT_FILENAME_PREFIX = 'aou_alpha3_lipids'\n",
    "OUTPUT_FOLDER = f'{os.getenv(\"WORKSPACE_BUCKET\")}/data/aou/variant-qc/{DATESTAMP}/'"
   ]
  },
  {
   "cell_type": "code",
   "execution_count": null,
   "metadata": {},
   "outputs": [],
   "source": [
    "LOCAL_BGEN = os.path.basename(REMOTE_BGEN)\n",
    "LOCAL_BGEN_SAMPLE = os.path.basename(REMOTE_BGEN_SAMPLE)\n",
    "LOCAL_PHENOTYPE_SAMPLE_IDS = os.path.basename(REMOTE_PHENOTYPE_SAMPLE_IDS)"
   ]
  },
  {
   "cell_type": "markdown",
   "metadata": {},
   "source": [
    "## Copy data locally"
   ]
  },
  {
   "cell_type": "code",
   "execution_count": null,
   "metadata": {},
   "outputs": [],
   "source": [
    "!gsutil cp -n {REMOTE_BGEN} {REMOTE_BGEN_SAMPLE} ."
   ]
  },
  {
   "cell_type": "code",
   "execution_count": null,
   "metadata": {},
   "outputs": [],
   "source": [
    "!gsutil cp {REMOTE_PHENOTYPE_SAMPLE_IDS} ."
   ]
  },
  {
   "cell_type": "markdown",
   "metadata": {},
   "source": [
    "# Variant QC for regenie step 1 via plink2\n",
    "\n",
    "Use plink2 to perform [variant QC appropriate for step 1 of regenie](https://rgcgithub.github.io/regenie/recommendations/#exclusion-files), obtaining a subset of high quality variants roughly equal to the number of samples."
   ]
  },
  {
   "cell_type": "code",
   "execution_count": null,
   "metadata": {},
   "outputs": [],
   "source": [
    "!/tmp/plink2/plink2 \\\n",
    "  --bgen {LOCAL_BGEN} ref-first \\\n",
    "  --sample {LOCAL_BGEN_SAMPLE} \\\n",
    "  --chr 1-22 \\\n",
    "  --keep {LOCAL_PHENOTYPE_SAMPLE_IDS} \\\n",
    "  --geno 0.1 \\\n",
    "  --mind 0.1 \\\n",
    "  --mac 100 \\\n",
    "  --hwe 1e-15 \\\n",
    "  --write-snplist \\\n",
    "  --write-samples \\\n",
    "  --no-id-header \\\n",
    "  --out {OUTPUT_FILENAME_PREFIX}_step1QC_plink"
   ]
  },
  {
   "cell_type": "code",
   "execution_count": null,
   "metadata": {},
   "outputs": [],
   "source": [
    "!ls -lth . | head"
   ]
  },
  {
   "cell_type": "code",
   "execution_count": null,
   "metadata": {},
   "outputs": [],
   "source": [
    "!head {OUTPUT_FILENAME_PREFIX}_step1QC_plink.id"
   ]
  },
  {
   "cell_type": "code",
   "execution_count": null,
   "metadata": {},
   "outputs": [],
   "source": [
    "!wc -l {OUTPUT_FILENAME_PREFIX}_step1QC_plink.id"
   ]
  },
  {
   "cell_type": "code",
   "execution_count": null,
   "metadata": {},
   "outputs": [],
   "source": [
    "!head {OUTPUT_FILENAME_PREFIX}_step1QC_plink.snplist"
   ]
  },
  {
   "cell_type": "code",
   "execution_count": null,
   "metadata": {},
   "outputs": [],
   "source": [
    "!wc -l {OUTPUT_FILENAME_PREFIX}_step1QC_plink.snplist"
   ]
  },
  {
   "cell_type": "code",
   "execution_count": null,
   "metadata": {},
   "outputs": [],
   "source": [
    "!ls {OUTPUT_FILENAME_PREFIX}_step1QC_plink*"
   ]
  },
  {
   "cell_type": "code",
   "execution_count": null,
   "metadata": {},
   "outputs": [],
   "source": [
    "!gsutil -m cp {OUTPUT_FILENAME_PREFIX}_step1QC_plink* {OUTPUT_FOLDER}"
   ]
  },
  {
   "cell_type": "markdown",
   "metadata": {},
   "source": [
    "# Variant QC for regenie step 2 via plink2\n",
    "\n",
    "Use plink2 to perform [variant QC appropriate for step 2 of regenie](https://rgcgithub.github.io/regenie/recommendations/#exclusion-files), obtaining a subset of high quality variants."
   ]
  },
  {
   "cell_type": "code",
   "execution_count": null,
   "metadata": {},
   "outputs": [],
   "source": [
    "!/tmp/plink2/plink2 \\\n",
    "  --bgen {LOCAL_BGEN} ref-first \\\n",
    "  --sample {LOCAL_BGEN_SAMPLE} \\\n",
    "  --chr 1-22 \\\n",
    "  --keep {LOCAL_PHENOTYPE_SAMPLE_IDS} \\\n",
    "  --geno 0.1 \\\n",
    "  --mind 0.1 \\\n",
    "  --hwe 1e-15 \\\n",
    "  --write-snplist \\\n",
    "  --write-samples \\\n",
    "  --no-id-header \\\n",
    "  --out {OUTPUT_FILENAME_PREFIX}_step2QC_plink\n",
    "\n",
    "# This differs from step 1 QC in that the following parameter was removed\n",
    "#    --mac 100 \\"
   ]
  },
  {
   "cell_type": "code",
   "execution_count": null,
   "metadata": {},
   "outputs": [],
   "source": [
    "!ls -lth . | head"
   ]
  },
  {
   "cell_type": "code",
   "execution_count": null,
   "metadata": {},
   "outputs": [],
   "source": [
    "!head {OUTPUT_FILENAME_PREFIX}_step2QC_plink.id"
   ]
  },
  {
   "cell_type": "code",
   "execution_count": null,
   "metadata": {},
   "outputs": [],
   "source": [
    "!wc -l {OUTPUT_FILENAME_PREFIX}_step2QC_plink.id"
   ]
  },
  {
   "cell_type": "code",
   "execution_count": null,
   "metadata": {},
   "outputs": [],
   "source": [
    "!head {OUTPUT_FILENAME_PREFIX}_step2QC_plink.snplist"
   ]
  },
  {
   "cell_type": "code",
   "execution_count": null,
   "metadata": {},
   "outputs": [],
   "source": [
    "!wc -l {OUTPUT_FILENAME_PREFIX}_step2QC_plink.snplist"
   ]
  },
  {
   "cell_type": "code",
   "execution_count": null,
   "metadata": {},
   "outputs": [],
   "source": [
    "!ls {OUTPUT_FILENAME_PREFIX}_step2QC_plink*"
   ]
  },
  {
   "cell_type": "code",
   "execution_count": null,
   "metadata": {},
   "outputs": [],
   "source": [
    "!gsutil -m cp {OUTPUT_FILENAME_PREFIX}_step2QC_plink* {OUTPUT_FOLDER}"
   ]
  },
  {
   "cell_type": "code",
   "execution_count": null,
   "metadata": {},
   "outputs": [],
   "source": [
    "!gsutil ls {OUTPUT_FOLDER}"
   ]
  },
  {
   "cell_type": "markdown",
   "metadata": {},
   "source": [
    "# Provenance "
   ]
  },
  {
   "cell_type": "code",
   "execution_count": null,
   "metadata": {},
   "outputs": [],
   "source": [
    "%%bash\n",
    "\n",
    "date"
   ]
  },
  {
   "cell_type": "code",
   "execution_count": null,
   "metadata": {},
   "outputs": [],
   "source": [
    "%%bash\n",
    "\n",
    "pip3 freeze"
   ]
  }
 ],
 "metadata": {
  "kernelspec": {
   "display_name": "Python 3",
   "language": "python",
   "name": "python3"
  },
  "language_info": {
   "codemirror_mode": {
    "name": "ipython",
    "version": 3
   },
   "file_extension": ".py",
   "mimetype": "text/x-python",
   "name": "python",
   "nbconvert_exporter": "python",
   "pygments_lexer": "ipython3",
   "version": "3.7.10"
  },
  "toc": {
   "base_numbering": 1,
   "nav_menu": {},
   "number_sections": true,
   "sideBar": true,
   "skip_h1_title": false,
   "title_cell": "Table of Contents",
   "title_sidebar": "Contents",
   "toc_cell": false,
   "toc_position": {
    "height": "calc(100% - 180px)",
    "left": "10px",
    "top": "150px",
    "width": "347px"
   },
   "toc_section_display": true,
   "toc_window_display": true
  }
 },
 "nbformat": 4,
 "nbformat_minor": 2
}

{
 "cells": [
  {
   "cell_type": "markdown",
   "metadata": {},
   "source": [
    "# Perform variant quality control\n",
    "\n",
    "In this notebook, we perform variant quality control using [PLINK2](https://www.cog-genomics.org/plink/2.0/).\n",
    "\n",
    "Note that this work is part of a larger project to [Demonstrate the Potential for Pooled Analysis of All of Us and UK Biobank Genomic Data](https://docs.google.com/document/d/19ZS0z_-7FEM37pNDAXaWaqBSLnqyd9MZEkiOmtF3n_0/edit#). Specifically this is for the portion of the project that is the **siloed** analysis."
   ]
  },
  {
   "cell_type": "markdown",
   "metadata": {},
   "source": [
    "# Setup \n",
    "\n",
    "<div class=\"alert alert-block alert-warning\">\n",
    "    <b>Cloud Environment</b>: This notebook was written for use on the <i>All of Us</i> Workbench.\n",
    "    <ul>\n",
    "        <li>Use \"Recommended Environment\" <kbd><b>General Analysis</b></kbd> which creates compute type <kbd><b>Standard VM</b></kbd> with reasonable defaults for CPU, RAM and disk.</li>\n",
    "        <li>This notebook can take a while to run <b>TBD DETAILS CHR21 VS. ALL CHRS</b>. Recommend that it is run in the background via <kbd>run_notebook_in_the_background</kbd>.</li>    </ul>\n",
    "</div>"
   ]
  },
  {
   "cell_type": "code",
   "execution_count": null,
   "metadata": {},
   "outputs": [],
   "source": [
    "from datetime import datetime\n",
    "import os\n",
    "import time"
   ]
  },
  {
   "cell_type": "markdown",
   "metadata": {},
   "source": [
    "## Setup plink2\n",
    "\n",
    "https://www.cog-genomics.org/plink/2.0/"
   ]
  },
  {
   "cell_type": "code",
   "execution_count": null,
   "metadata": {},
   "outputs": [],
   "source": [
    "%%bash\n",
    "\n",
    "##### plink 2 install\n",
    "PLINK_VERSION=2.3.Alpha\n",
    "PLINK_ZIP_PATH=/tmp/plink-$PLINK_VERSION.zip\n",
    "curl -L -o $PLINK_ZIP_PATH https://s3.amazonaws.com/plink2-assets/alpha2/plink2_linux_x86_64.zip\n",
    "mkdir -p /tmp/plink2/\n",
    "unzip -o $PLINK_ZIP_PATH -d /tmp/plink2/"
   ]
  },
  {
   "cell_type": "code",
   "execution_count": null,
   "metadata": {},
   "outputs": [],
   "source": [
    "!/tmp/plink2/plink2 --version # --help"
   ]
  },
  {
   "cell_type": "markdown",
   "metadata": {},
   "source": [
    "## Define constants"
   ]
  },
  {
   "cell_type": "code",
   "execution_count": null,
   "metadata": {
    "tags": [
     "parameters"
    ]
   },
   "outputs": [],
   "source": [
    "# Papermill parameters. See https://papermill.readthedocs.io/en/latest/usage-parameterize.html\n",
    "\n",
    "#---[ Inputs ]---\n",
    "# The BGEN file was created via aou_workbench_siloed_analyses/02_aou_write_filtered_bgen.ipynb.\n",
    "REMOTE_BGEN = 'gs://fc-secure-471c1068-cd3d-4b43-9b5d-a618c85ceea5/data/aou/geno/20220207/aou-alpha3-chr21.bgen'\n",
    "# The sample file was created via aou_workbench_siloed_analyses/02_aou_write_filtered_bgen.ipynb.\n",
    "REMOTE_BGEN_SAMPLE = 'gs://fc-secure-471c1068-cd3d-4b43-9b5d-a618c85ceea5/data/aou/geno/20220207/aou-alpha3-chr21.sample'\n",
    "# This TSV was created via notebook aou_workbench_siloed_analyses/01_aou_lipids_phenotype.ipynb\n",
    "REMOTE_PHENOTYPE_SAMPLE_IDS = 'gs://fc-secure-471c1068-cd3d-4b43-9b5d-a618c85ceea5/data/aou/pheno/20220208/aou_alpha3_lipids_ids.tsv'\n",
    "\n",
    "#---[ Outputs ]---\n",
    "# Create a timestamp for a folder of results generated today.\n",
    "DATESTAMP = time.strftime('%Y%m%d')\n",
    "OUTPUT_FILENAME_PREFIX = 'aou_alpha3_lipids'\n",
    "OUTPUT_FOLDER = f'{os.getenv(\"WORKSPACE_BUCKET\")}/data/aou/variant-qc/{DATESTAMP}/'"
   ]
  },
  {
   "cell_type": "code",
   "execution_count": null,
   "metadata": {},
   "outputs": [],
   "source": [
    "LOCAL_BGEN = os.path.basename(REMOTE_BGEN)\n",
    "LOCAL_BGEN_SAMPLE = os.path.basename(REMOTE_BGEN_SAMPLE)\n",
    "LOCAL_PHENOTYPE_SAMPLE_IDS = os.path.basename(REMOTE_PHENOTYPE_SAMPLE_IDS)"
   ]
  },
  {
   "cell_type": "markdown",
   "metadata": {},
   "source": [
    "## Copy data locally"
   ]
  },
  {
   "cell_type": "code",
   "execution_count": null,
   "metadata": {},
   "outputs": [],
   "source": [
    "!gsutil cp -n {REMOTE_BGEN} {REMOTE_BGEN_SAMPLE} ."
   ]
  },
  {
   "cell_type": "code",
   "execution_count": null,
   "metadata": {},
   "outputs": [],
   "source": [
    "!gsutil cp {REMOTE_PHENOTYPE_SAMPLE_IDS} ."
   ]
  },
  {
   "cell_type": "markdown",
   "metadata": {},
   "source": [
    "# Variant QC for regenie step 1 via plink2\n",
    "\n",
    "Use plink2 to perform [variant QC appropriate for step 1 of regenie](https://rgcgithub.github.io/regenie/recommendations/#exclusion-files), obtaining a subset of high quality variants roughly equal to the number of samples."
   ]
  },
  {
   "cell_type": "code",
   "execution_count": null,
   "metadata": {},
   "outputs": [],
   "source": [
    "!/tmp/plink2/plink2 \\\n",
    "  --bgen {LOCAL_BGEN} ref-first \\\n",
    "  --sample {LOCAL_BGEN_SAMPLE} \\\n",
    "  --chr 1-22 \\\n",
    "  --keep {LOCAL_PHENOTYPE_SAMPLE_IDS} \\\n",
    "  --geno 0.1 \\\n",
    "  --mac 100 \\\n",
    "  --hwe 1e-15 \\\n",
    "  --write-snplist \\\n",
    "  --write-samples \\\n",
    "  --no-id-header \\\n",
    "  --out {OUTPUT_FILENAME_PREFIX}_step1QC_plink\n",
    "\n",
    "# TODO(margaret): add this parameter back in when we have data for all autosomes.\n",
    "#   --mind 0.1 \\"
   ]
  },
  {
   "cell_type": "code",
   "execution_count": null,
   "metadata": {},
   "outputs": [],
   "source": [
    "!ls -lth . | head"
   ]
  },
  {
   "cell_type": "code",
   "execution_count": null,
   "metadata": {},
   "outputs": [],
   "source": [
    "!head {OUTPUT_FILENAME_PREFIX}_step1QC_plink.id"
   ]
  },
  {
   "cell_type": "code",
   "execution_count": null,
   "metadata": {},
   "outputs": [],
   "source": [
    "!wc -l {OUTPUT_FILENAME_PREFIX}_step1QC_plink.id"
   ]
  },
  {
   "cell_type": "code",
   "execution_count": null,
   "metadata": {},
   "outputs": [],
   "source": [
    "!head {OUTPUT_FILENAME_PREFIX}_step1QC_plink.snplist"
   ]
  },
  {
   "cell_type": "code",
   "execution_count": null,
   "metadata": {},
   "outputs": [],
   "source": [
    "!wc -l {OUTPUT_FILENAME_PREFIX}_step1QC_plink.snplist"
   ]
  },
  {
   "cell_type": "code",
   "execution_count": null,
   "metadata": {},
   "outputs": [],
   "source": [
    "!ls {OUTPUT_FILENAME_PREFIX}_step1QC_plink*"
   ]
  },
  {
   "cell_type": "code",
   "execution_count": null,
   "metadata": {},
   "outputs": [],
   "source": [
    "!gsutil -m cp {OUTPUT_FILENAME_PREFIX}_step1QC_plink* {OUTPUT_FOLDER}"
   ]
  },
  {
   "cell_type": "markdown",
   "metadata": {},
   "source": [
    "# Variant QC for regenie step 2 via plink2\n",
    "\n",
    "Use plink2 to perform [variant QC appropriate for step 2 of regenie](https://rgcgithub.github.io/regenie/recommendations/#exclusion-files), obtaining a subset of high quality variants."
   ]
  },
  {
   "cell_type": "code",
   "execution_count": null,
   "metadata": {},
   "outputs": [],
   "source": [
    "!/tmp/plink2/plink2 \\\n",
    "  --bgen {LOCAL_BGEN} ref-first \\\n",
    "  --sample {LOCAL_BGEN_SAMPLE} \\\n",
    "  --chr 1-22 \\\n",
    "  --keep {LOCAL_PHENOTYPE_SAMPLE_IDS} \\\n",
    "  --geno 0.1 \\\n",
    "  --hwe 1e-15 \\\n",
    "  --write-snplist \\\n",
    "  --write-samples \\\n",
    "  --no-id-header \\\n",
    "  --out {OUTPUT_FILENAME_PREFIX}_step2QC_plink\n",
    "\n",
    "# TODO(margaret): add this parameter back in when we have data for all autosomes.\n",
    "#  --mind 0.1 \\\n",
    "\n",
    "\n",
    "# This differs from step 1 QC in that the following parameter was removed\n",
    "#    --mac \\"
   ]
  },
  {
   "cell_type": "code",
   "execution_count": null,
   "metadata": {},
   "outputs": [],
   "source": [
    "!ls -lth . | head"
   ]
  },
  {
   "cell_type": "code",
   "execution_count": null,
   "metadata": {},
   "outputs": [],
   "source": [
    "!head {OUTPUT_FILENAME_PREFIX}_step2QC_plink.id"
   ]
  },
  {
   "cell_type": "code",
   "execution_count": null,
   "metadata": {},
   "outputs": [],
   "source": [
    "!wc -l {OUTPUT_FILENAME_PREFIX}_step2QC_plink.id"
   ]
  },
  {
   "cell_type": "code",
   "execution_count": null,
   "metadata": {},
   "outputs": [],
   "source": [
    "!head {OUTPUT_FILENAME_PREFIX}_step2QC_plink.snplist"
   ]
  },
  {
   "cell_type": "code",
   "execution_count": null,
   "metadata": {},
   "outputs": [],
   "source": [
    "!wc -l {OUTPUT_FILENAME_PREFIX}_step2QC_plink.snplist"
   ]
  },
  {
   "cell_type": "code",
   "execution_count": null,
   "metadata": {},
   "outputs": [],
   "source": [
    "!ls {OUTPUT_FILENAME_PREFIX}_step2QC_plink*"
   ]
  },
  {
   "cell_type": "code",
   "execution_count": null,
   "metadata": {},
   "outputs": [],
   "source": [
    "!gsutil -m cp {OUTPUT_FILENAME_PREFIX}_step2QC_plink* {OUTPUT_FOLDER}"
   ]
  },
  {
   "cell_type": "code",
   "execution_count": null,
   "metadata": {},
   "outputs": [],
   "source": [
    "!gsutil ls {OUTPUT_FOLDER}"
   ]
  },
  {
   "cell_type": "markdown",
   "metadata": {},
   "source": [
    "# Provenance "
   ]
  },
  {
   "cell_type": "code",
   "execution_count": null,
   "metadata": {},
   "outputs": [],
   "source": [
    "%%bash\n",
    "\n",
    "date"
   ]
  },
  {
   "cell_type": "code",
   "execution_count": null,
   "metadata": {},
   "outputs": [],
   "source": [
    "%%bash\n",
    "\n",
    "pip3 freeze"
   ]
  }
 ],
 "metadata": {
  "kernelspec": {
   "display_name": "Python 3",
   "language": "python",
   "name": "python3"
  },
  "language_info": {
   "codemirror_mode": {
    "name": "ipython",
    "version": 3
   },
   "file_extension": ".py",
   "mimetype": "text/x-python",
   "name": "python",
   "nbconvert_exporter": "python",
   "pygments_lexer": "ipython3",
   "version": "3.7.10"
  },
  "toc": {
   "base_numbering": 1,
   "nav_menu": {},
   "number_sections": true,
   "sideBar": true,
   "skip_h1_title": false,
   "title_cell": "Table of Contents",
   "title_sidebar": "Contents",
   "toc_cell": false,
   "toc_position": {
    "height": "calc(100% - 180px)",
    "left": "10px",
    "top": "150px",
    "width": "347px"
   },
   "toc_section_display": true,
   "toc_window_display": true
  }
 },
 "nbformat": 4,
 "nbformat_minor": 2
}

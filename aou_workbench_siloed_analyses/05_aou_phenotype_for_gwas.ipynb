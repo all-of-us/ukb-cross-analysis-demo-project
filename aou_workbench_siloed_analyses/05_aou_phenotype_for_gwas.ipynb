{
 "cells": [
  {
   "cell_type": "markdown",
   "metadata": {},
   "source": [
    "# Normalize a lipids phenotype for a GWAS study\n",
    "\n",
    "In this notebook we use the *All of Us* data to normalize a prepared lipids phenotype for use in a GWAS study.\n",
    "\n",
    "Note that this work is part of a larger project to [Demonstrate the Potential for Pooled Analysis of All of Us and UK Biobank Genomic Data](https://docs.google.com/document/d/19ZS0z_-7FEM37pNDAXaWaqBSLnqyd9MZEkiOmtF3n_0/edit#). Specifically this is for the portion of the project that is the **siloed** analysis."
   ]
  },
  {
   "cell_type": "markdown",
   "metadata": {},
   "source": [
    "# Setup "
   ]
  },
  {
   "cell_type": "markdown",
   "metadata": {},
   "source": [
    "<div class=\"alert alert-block alert-warning\">\n",
    "    <b>Cloud Environment</b>: This notebook was written for use on the <i>All of Us</i> Workbench.\n",
    "    <ul>\n",
    "        <li>Use \"Recommended Environment\" <kbd><b>General Analysis</b></kbd> which creates compute type <kbd><b>Standard VM</b></kbd> with reasonable defaults for CPU, RAM, and disk.</li>\n",
    "        <li>This notebook only takes a few minutes to run interactively. You can also it in the background via <kbd>run_notebook_in_the_background</kbd> for the sake of provenance and reproducibility.</li>\n",
    "    </ul>\n",
    "</div>"
   ]
  },
  {
   "cell_type": "code",
   "execution_count": null,
   "metadata": {},
   "outputs": [],
   "source": [
    "lapply(c('skimr'), function(pkg_name) { if(! pkg_name %in% installed.packages()) { install.packages(pkg_name)} } )"
   ]
  },
  {
   "cell_type": "code",
   "execution_count": null,
   "metadata": {},
   "outputs": [],
   "source": [
    "library(bigrquery)\n",
    "library(lubridate)\n",
    "library(skimr)\n",
    "library(tidyverse)"
   ]
  },
  {
   "cell_type": "markdown",
   "metadata": {},
   "source": [
    "## Define constants"
   ]
  },
  {
   "cell_type": "code",
   "execution_count": null,
   "metadata": {
    "tags": [
     "parameters"
    ]
   },
   "outputs": [],
   "source": [
    "# Papermill parameters. See https://papermill.readthedocs.io/en/latest/usage-parameterize.html\n",
    "\n",
    "#---[ Inputs ]---\n",
    "# This was created via notebook aou_workbench_siloed_analyses/01_aou_lipids_phenotype.ipynb\n",
    "AOU_PHENO <- 'gs://fc-secure-098ff3db-05c2-4426-8914-a26608668529/data/aou/pheno/20220307/aou_alpha3_lipids_phenotype.csv'\n",
    "# Created via aou_workbench_siloed_analyses/04_plink_ld_and_pca.ipynb\n",
    "PCS <- 'gs://fc-secure-471c1068-cd3d-4b43-9b5d-a618c85ceea5/data/aou/ld-pca/20220208/aou_alpha3_lipids_plink_pca.eigenvec'\n",
    "\n",
    "#---[ Outputs ]---\n",
    "# Create a timestamp for a folder of results generated today.\n",
    "DATESTAMP <- strftime(now(), '%Y%m%d')\n",
    "DESTINATION <- str_glue('{Sys.getenv(\"WORKSPACE_BUCKET\")}/data/aou/pheno/{DATESTAMP}/')\n",
    "GWAS_PHENOTYPE_FILENAME <- 'aou_alpha3_lipids_gwas_phenotype.tsv'"
   ]
  },
  {
   "cell_type": "markdown",
   "metadata": {},
   "source": [
    "# Retrieve PCs"
   ]
  },
  {
   "cell_type": "code",
   "execution_count": null,
   "metadata": {},
   "outputs": [],
   "source": [
    "pcs <- read_tsv(pipe(str_glue('gsutil cat {PCS}')))\n",
    "\n",
    "dim(pcs)\n",
    "head(pcs)"
   ]
  },
  {
   "cell_type": "markdown",
   "metadata": {},
   "source": [
    "# Retrieve AoU lipids phenotype"
   ]
  },
  {
   "cell_type": "code",
   "execution_count": null,
   "metadata": {},
   "outputs": [],
   "source": [
    "aou_pheno <- read_csv(pipe(str_glue('gsutil cat {AOU_PHENO}')))\n",
    "\n",
    "dim(aou_pheno)\n",
    "head(aou_pheno)"
   ]
  },
  {
   "cell_type": "code",
   "execution_count": null,
   "metadata": {},
   "outputs": [],
   "source": [
    "skim(aou_pheno)"
   ]
  },
  {
   "cell_type": "markdown",
   "metadata": {},
   "source": [
    "# Reshape the data for regenie"
   ]
  },
  {
   "cell_type": "code",
   "execution_count": null,
   "metadata": {},
   "outputs": [],
   "source": [
    "long_siloed_pheno <- aou_pheno %>%\n",
    "    mutate(\n",
    "        sample_id = person_id,\n",
    "        cohort = 'AOU'\n",
    "    ) %>%\n",
    "    # In AoU 'id' and 'sample_id' are the same, but in other studies, such as UKB, 'sample_id' can be\n",
    "    # different from 'id'.\n",
    "    select(id=person_id, sample_id, cohort, age, age2, sex_at_birth, lipid_type, mg_dl = value_as_number) %>%\n",
    "    mutate(\n",
    "        IID = sample_id,\n",
    "        FID = IID\n",
    "    )\n",
    "\n",
    "dim(long_siloed_pheno)\n",
    "head(long_siloed_pheno)"
   ]
  },
  {
   "cell_type": "markdown",
   "metadata": {},
   "source": [
    "## Pivot from long to wide"
   ]
  },
  {
   "cell_type": "code",
   "execution_count": null,
   "metadata": {},
   "outputs": [],
   "source": [
    "siloed_pheno <- long_siloed_pheno %>%\n",
    "    pivot_wider(\n",
    "        id_cols = c(id, sample_id, cohort, age, age2, sex_at_birth, IID, FID),\n",
    "        names_from = lipid_type,\n",
    "        values_from = mg_dl\n",
    "    )\n",
    "\n",
    "dim(siloed_pheno)\n",
    "head(siloed_pheno)"
   ]
  },
  {
   "cell_type": "code",
   "execution_count": null,
   "metadata": {},
   "outputs": [],
   "source": [
    "skim(siloed_pheno)"
   ]
  },
  {
   "cell_type": "markdown",
   "metadata": {},
   "source": [
    "## Confirm that we have one row per participant"
   ]
  },
  {
   "cell_type": "code",
   "execution_count": null,
   "metadata": {},
   "outputs": [],
   "source": [
    "nrow(siloed_pheno)\n",
    "length(unique(siloed_pheno$IID))\n",
    "stopifnot(nrow(siloed_pheno) == length(unique(siloed_pheno$IID)))"
   ]
  },
  {
   "cell_type": "markdown",
   "metadata": {},
   "source": [
    "## Check the categorical fields"
   ]
  },
  {
   "cell_type": "code",
   "execution_count": null,
   "metadata": {},
   "outputs": [],
   "source": [
    "table(siloed_pheno$sex_at_birth, useNA = 'always')"
   ]
  },
  {
   "cell_type": "code",
   "execution_count": null,
   "metadata": {},
   "outputs": [],
   "source": [
    "table(siloed_pheno$cohort, useNA = 'always')"
   ]
  },
  {
   "cell_type": "markdown",
   "metadata": {},
   "source": [
    "## Add the ancestry covariates"
   ]
  },
  {
   "cell_type": "code",
   "execution_count": null,
   "metadata": {},
   "outputs": [],
   "source": [
    "siloed_pheno <- inner_join(siloed_pheno, pcs, by = c('IID', 'FID' = '#FID'))\n",
    "\n",
    "dim(siloed_pheno)\n",
    "head(siloed_pheno)"
   ]
  },
  {
   "cell_type": "markdown",
   "metadata": {},
   "source": [
    "## Normalize lipids values"
   ]
  },
  {
   "cell_type": "code",
   "execution_count": null,
   "metadata": {},
   "outputs": [],
   "source": [
    "siloed_pheno$TC_adjusted_resid = resid(lm(TC_adjusted ~ sex_at_birth+age+age2+PC1+PC2+PC3+PC4+PC5+PC6+PC7+PC8+PC9+PC10,\n",
    "                                          data=siloed_pheno, na.action=na.exclude))\n",
    "siloed_pheno$LDL_adjusted_resid = resid(lm(LDL_adjusted ~ sex_at_birth+age+age2+PC1+PC2+PC3+PC4+PC5+PC6+PC7+PC8+PC9+PC10,\n",
    "                                           data=siloed_pheno, na.action=na.exclude))\n",
    "siloed_pheno$HDL_resid = resid(lm(HDL ~ sex_at_birth+age+age2+PC1+PC2+PC3+PC4+PC5+PC6+PC7+PC8+PC9+PC10,\n",
    "                                  data=siloed_pheno, na.action=na.exclude))\n",
    "siloed_pheno$TG_adjusted_resid = resid(lm(TG_adjusted ~ sex_at_birth+age+age2+PC1+PC2+PC3+PC4+PC5+PC6+PC7+PC8+PC9+PC10,\n",
    "                                          data=siloed_pheno, na.action=na.exclude))"
   ]
  },
  {
   "cell_type": "code",
   "execution_count": null,
   "metadata": {},
   "outputs": [],
   "source": [
    "siloed_pheno$TC_adjusted_norm <- sd(siloed_pheno$TC_adjusted_resid, na.rm = TRUE) * scale(qnorm(\n",
    "    (rank(siloed_pheno$TC_adjusted_resid, na.last = 'keep') - 0.5) / sum(!is.na(siloed_pheno$TC_adjusted_resid)) ))\n",
    "siloed_pheno$LDL_adjusted_norm <- sd(siloed_pheno$LDL_adjusted_resid, na.rm = TRUE) * scale(qnorm(\n",
    "    (rank(siloed_pheno$LDL_adjusted_resid, na.last = 'keep') - 0.5) / sum(!is.na(siloed_pheno$LDL_adjusted_resid)) ))\n",
    "siloed_pheno$HDL_norm <- sd(siloed_pheno$HDL_resid, na.rm = TRUE) * scale(qnorm(\n",
    "    (rank(siloed_pheno$HDL_resid, na.last = 'keep') - 0.5) / sum(!is.na(siloed_pheno$HDL_resid)) ))\n",
    "siloed_pheno$TG_adjusted_norm <- sd(siloed_pheno$TG_adjusted_resid, na.rm = TRUE) * scale(qnorm(\n",
    "    (rank(siloed_pheno$TG_adjusted_resid, na.last = 'keep') - 0.5) / sum(!is.na(siloed_pheno$TG_adjusted_resid)) ))"
   ]
  },
  {
   "cell_type": "markdown",
   "metadata": {},
   "source": [
    "### Check that NAs were handled correctly"
   ]
  },
  {
   "cell_type": "code",
   "execution_count": null,
   "metadata": {},
   "outputs": [],
   "source": [
    "head(siloed_pheno %>% filter(!is.na(LDL_adjusted)) %>% select(starts_with('LDL'), starts_with('TG')))"
   ]
  },
  {
   "cell_type": "code",
   "execution_count": null,
   "metadata": {},
   "outputs": [],
   "source": [
    "head(siloed_pheno %>% filter(is.na(LDL_adjusted)) %>% select(starts_with('LDL'), starts_with('TG')))"
   ]
  },
  {
   "cell_type": "markdown",
   "metadata": {},
   "source": [
    "### Convert matrix columns to vectors"
   ]
  },
  {
   "cell_type": "code",
   "execution_count": null,
   "metadata": {},
   "outputs": [],
   "source": [
    "head(siloed_pheno %>% select(contains('norm')))"
   ]
  },
  {
   "cell_type": "code",
   "execution_count": null,
   "metadata": {},
   "outputs": [],
   "source": [
    "class(siloed_pheno$TC_adjusted_norm)\n",
    "dim(siloed_pheno$TC_adjusted_norm)\n",
    "length((siloed_pheno$TC_adjusted_norm))"
   ]
  },
  {
   "cell_type": "code",
   "execution_count": null,
   "metadata": {},
   "outputs": [],
   "source": [
    "class(siloed_pheno$TC_adjusted_norm[,1])\n",
    "dim(siloed_pheno$TC_adjusted_norm[,1])\n",
    "length((siloed_pheno$TC_adjusted_norm[,1]))"
   ]
  },
  {
   "cell_type": "code",
   "execution_count": null,
   "metadata": {},
   "outputs": [],
   "source": [
    "siloed_pheno <- siloed_pheno %>%\n",
    "    mutate(\n",
    "        TC_adjusted_norm = TC_adjusted_norm[,1],\n",
    "        LDL_adjusted_norm = LDL_adjusted_norm[,1],\n",
    "        HDL_norm = HDL_norm[,1],\n",
    "        TG_adjusted_norm = TG_adjusted_norm[,1]\n",
    "    )\n",
    "\n",
    "head(siloed_pheno)"
   ]
  },
  {
   "cell_type": "markdown",
   "metadata": {},
   "source": [
    "# Write phenotypes to workspace bucket"
   ]
  },
  {
   "cell_type": "code",
   "execution_count": null,
   "metadata": {},
   "outputs": [],
   "source": [
    "# Write the dataframe to a file.\n",
    "write_tsv(siloed_pheno %>% select(FID, IID, everything()), GWAS_PHENOTYPE_FILENAME)"
   ]
  },
  {
   "cell_type": "code",
   "execution_count": null,
   "metadata": {},
   "outputs": [],
   "source": [
    "# Copy the file to the workspace bucket.\n",
    "system(str_glue('gsutil cp {GWAS_PHENOTYPE_FILENAME} {DESTINATION}'), intern = T)"
   ]
  },
  {
   "cell_type": "code",
   "execution_count": null,
   "metadata": {},
   "outputs": [],
   "source": [
    "# Check the destination.\n",
    "system(str_glue('gsutil ls -lh {DESTINATION}'), intern = T)"
   ]
  },
  {
   "cell_type": "markdown",
   "metadata": {},
   "source": [
    "# Provenance"
   ]
  },
  {
   "cell_type": "code",
   "execution_count": null,
   "metadata": {},
   "outputs": [],
   "source": [
    "devtools::session_info()"
   ]
  }
 ],
 "metadata": {
  "kernelspec": {
   "display_name": "R",
   "language": "R",
   "name": "ir"
  },
  "language_info": {
   "codemirror_mode": "r",
   "file_extension": ".r",
   "mimetype": "text/x-r-source",
   "name": "R",
   "pygments_lexer": "r",
   "version": "4.1.2"
  },
  "toc": {
   "base_numbering": 1,
   "nav_menu": {},
   "number_sections": true,
   "sideBar": true,
   "skip_h1_title": false,
   "title_cell": "Table of Contents",
   "title_sidebar": "Contents",
   "toc_cell": false,
   "toc_position": {
    "height": "747px",
    "left": "29px",
    "top": "111.925px",
    "width": "271px"
   },
   "toc_section_display": true,
   "toc_window_display": true
  }
 },
 "nbformat": 4,
 "nbformat_minor": 2
}

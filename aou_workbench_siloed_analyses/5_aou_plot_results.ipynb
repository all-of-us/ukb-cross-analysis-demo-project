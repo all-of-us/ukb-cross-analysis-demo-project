{
 "cells": [
  {
   "cell_type": "markdown",
   "metadata": {},
   "source": [
    "# Plot results for siloed analyses\n",
    "\n",
    "In this notebook we review and explore the *All of Us* data for lipids phenotypes and covariates and GWAS results."
   ]
  },
  {
   "cell_type": "markdown",
   "metadata": {},
   "source": [
    "# Setup"
   ]
  },
  {
   "cell_type": "code",
   "execution_count": null,
   "metadata": {},
   "outputs": [],
   "source": [
    "lapply(c('hrbrthemes', 'skimr', 'qqman'),\n",
    "       function(pkg) { if(! pkg %in% installed.packages()) { \n",
    "           install.packages(pkg)\n",
    "       } } )"
   ]
  },
  {
   "cell_type": "code",
   "execution_count": null,
   "metadata": {},
   "outputs": [],
   "source": [
    "library(grid)\n",
    "library(gridExtra)\n",
    "library(hrbrthemes)\n",
    "library(qqman)\n",
    "library(readxl)\n",
    "library(scales)\n",
    "library(skimr)\n",
    "library(tidyverse)"
   ]
  },
  {
   "cell_type": "code",
   "execution_count": null,
   "metadata": {},
   "outputs": [],
   "source": [
    "# Set some visualiation defaults.\n",
    "theme_set(theme_ipsum(base_size = 16)) # Default theme for plots.\n",
    "\n",
    "#' Returns a data frame with a y position and a label, for use annotating ggplot boxplots.\n",
    "#'\n",
    "#' @param d A data frame.\n",
    "#' @return A data frame with column y as max and column label as length.\n",
    "get_boxplot_fun_data <- function(df) {\n",
    "  return(data.frame(y = max(df), label = stringr::str_c('N = ', length(df))))\n",
    "}"
   ]
  },
  {
   "cell_type": "markdown",
   "metadata": {},
   "source": [
    "# Constants"
   ]
  },
  {
   "cell_type": "code",
   "execution_count": null,
   "metadata": {
    "tags": [
     "parameters"
    ]
   },
   "outputs": [],
   "source": [
    "# Inputs\n",
    "REGENIE_PHENO <- 'gs://PATH/TO/aou_alpha2_lipids_phenotypes.tsv'\n",
    "\n",
    "REGENIE_RESULTS <- c(\n",
    "    HDL='gs://PATH/TO/aou_alpha2_lipids_regenie_step2_HDL_mg_dl_norm.regenie',\n",
    "    LDL='gs://PATH/TO/aou_alpha2_lipids_regenie_step2_LDL_adj_mg_dl_norm.regenie',\n",
    "    TC='gs://PATH/TO/aou_alpha2_lipids_regenie_step2_TC_adj_mg_dl_norm.regenie',\n",
    "    TG='gs://PATH/TO/aou_alpha2_lipids_regenie_step2_TG_log_mg_dl_norm.regenie'\n",
    ")\n",
    "\n",
    "LIPIDS <- names(REGENIE_RESULTS)\n",
    "\n",
    "LD_PRUNED_VARIANTS <- 'gs://PATH/TO/aou_alpha2plink_ld.prune.in'\n",
    "\n",
    "PLOT_SUBTITLE <- 'Source: All of Us genomics alpha2 release'"
   ]
  },
  {
   "cell_type": "markdown",
   "metadata": {},
   "source": [
    "# Load the phenotypes"
   ]
  },
  {
   "cell_type": "code",
   "execution_count": null,
   "metadata": {},
   "outputs": [],
   "source": [
    "pheno = read_tsv(pipe(str_glue('gsutil cat {REGENIE_PHENO}')))\n",
    "\n",
    "dim(pheno)\n",
    "spec(pheno)"
   ]
  },
  {
   "cell_type": "code",
   "execution_count": null,
   "metadata": {},
   "outputs": [],
   "source": [
    "pheno %>%\n",
    "    group_by(sex) %>%\n",
    "    summarize(count = n())"
   ]
  },
  {
   "cell_type": "code",
   "execution_count": null,
   "metadata": {},
   "outputs": [],
   "source": [
    "pheno %>%\n",
    "    group_by(statin_use) %>%\n",
    "    summarize(count = n())"
   ]
  },
  {
   "cell_type": "code",
   "execution_count": null,
   "metadata": {},
   "outputs": [],
   "source": [
    "pheno <- pheno %>%\n",
    "    mutate(\n",
    "        age_group_smaller_bins = cut_width(age, width = 10, boundary = 0),\n",
    "        age_group = cut_width(age, width = 15, boundary = 0),\n",
    "        cohort = 'AoU',\n",
    "        statin_use = ifelse(statin_use == 1, TRUE, FALSE)\n",
    "    )"
   ]
  },
  {
   "cell_type": "markdown",
   "metadata": {},
   "source": [
    "# Plot lipids"
   ]
  },
  {
   "cell_type": "code",
   "execution_count": null,
   "metadata": {},
   "outputs": [],
   "source": [
    "plot_vars <- function(data, xvar, yvar, fillvar, title_detail = '', log_scale = FALSE) {\n",
    "    xvar_sym <- sym(xvar)\n",
    "    xvar_name <- xvar\n",
    "    yvar_sym <- sym(yvar)\n",
    "    yvar_name <- yvar\n",
    "    fillvar_sym <- sym(fillvar)\n",
    "    fillvar_name <- fillvar\n",
    "\n",
    "    options(repr.plot.width = 16, repr.plot.height = 8)\n",
    "    \n",
    "    p <- data %>%\n",
    "        filter(!is.na(!!yvar_sym)) %>%\n",
    "        ggplot(aes(x = !!xvar_sym, y = !!yvar_sym, fill = !!fillvar_sym)) +\n",
    "        geom_boxplot() +\n",
    "        stat_summary(fun.data = get_boxplot_fun_data, geom = 'text', size = 5,\n",
    "                     position = position_dodge(width = 0.9), vjust = -0.8) +\n",
    "        theme(\n",
    "            axis.title.x=element_text(size=14),\n",
    "            axis.title.y=element_text(size=14),\n",
    "        ) +\n",
    "        labs(title = str_glue('{yvar_name} mg/dL per person by {xvar_name} and {fillvar_name} {title_detail}'),\n",
    "             caption = PLOT_SUBTITLE)\n",
    "\n",
    "    if(log_scale) {\n",
    "        p = p + scale_y_log10()\n",
    "    }\n",
    "\n",
    "    p\n",
    "}"
   ]
  },
  {
   "cell_type": "markdown",
   "metadata": {},
   "source": [
    "## By age group - bin size 10 [not okay to share, groups too small]"
   ]
  },
  {
   "cell_type": "code",
   "execution_count": null,
   "metadata": {},
   "outputs": [],
   "source": [
    "for (lipid in c('LDL_mg_dl', 'TC_mg_dl', 'HDL_mg_dl', 'TG_mg_dl')) {\n",
    "    print(plot_vars(data = pheno, xvar = 'age_group_smaller_bins', yvar = lipid, fillvar = 'sex'))\n",
    "}"
   ]
  },
  {
   "cell_type": "markdown",
   "metadata": {},
   "source": [
    "## By age group - larger bins [okay to share]"
   ]
  },
  {
   "cell_type": "code",
   "execution_count": null,
   "metadata": {},
   "outputs": [],
   "source": [
    "for (lipid in c('LDL_mg_dl', 'TC_mg_dl', 'HDL_mg_dl', 'TG_mg_dl')) {\n",
    "    print(plot_vars(data = pheno, xvar = 'age_group', yvar = lipid, fillvar = 'sex'))\n",
    "}"
   ]
  },
  {
   "cell_type": "markdown",
   "metadata": {},
   "source": [
    "## By statin use"
   ]
  },
  {
   "cell_type": "code",
   "execution_count": null,
   "metadata": {},
   "outputs": [],
   "source": [
    "for (lipid in c('LDL_mg_dl', 'TC_mg_dl', 'HDL_mg_dl', 'TG_mg_dl')) {\n",
    "    print(plot_vars(data = pheno, xvar = 'sex', yvar = lipid, fillvar = 'statin_use'))\n",
    "}"
   ]
  },
  {
   "cell_type": "markdown",
   "metadata": {},
   "source": [
    "## By statin use and adjusted"
   ]
  },
  {
   "cell_type": "code",
   "execution_count": null,
   "metadata": {},
   "outputs": [],
   "source": [
    "for (lipid in c('LDL_adj_mg_dl', 'TC_adj_mg_dl')) {\n",
    "    print(plot_vars(data = pheno, xvar = 'sex', yvar = lipid, fillvar = 'statin_use'))\n",
    "}"
   ]
  },
  {
   "cell_type": "code",
   "execution_count": null,
   "metadata": {},
   "outputs": [],
   "source": [
    "# Special case the title for this plot.\n",
    "plot_vars(data = pheno, xvar = 'sex', yvar = 'TG_log_mg_dl', fillvar = 'statin_use',\n",
    "          log_scale = FALSE, title_detail = '[adjusted data is in log space]')"
   ]
  },
  {
   "cell_type": "markdown",
   "metadata": {},
   "source": [
    "# Plot GWAS phenotypes\n"
   ]
  },
  {
   "cell_type": "code",
   "execution_count": null,
   "metadata": {},
   "outputs": [],
   "source": [
    "plot_var_histograms <- function(data, xvar, title_detail = '', log_scale = FALSE) {\n",
    "    xvar_sym <- sym(xvar)\n",
    "    xvar_name <- xvar\n",
    "\n",
    "    options(repr.plot.width = 16, repr.plot.height = 10)\n",
    "    \n",
    "    p <- data %>%\n",
    "        filter(!is.na(!!xvar_sym)) %>%\n",
    "        ggplot(aes(x = !!xvar_sym)) +\n",
    "        geom_histogram(bins = 30) +\n",
    "        scale_y_continuous(label = comma) +\n",
    "        theme(\n",
    "            axis.title.x=element_text(size=14),\n",
    "            axis.title.y=element_text(size=14),\n",
    "        ) +\n",
    "        labs(title = str_glue('{xvar_name} {title_detail}'),\n",
    "             caption = PLOT_SUBTITLE)\n",
    "\n",
    "    if(log_scale) {\n",
    "        p = p + scale_y_log10()\n",
    "    }\n",
    "\n",
    "    p\n",
    "}"
   ]
  },
  {
   "cell_type": "code",
   "execution_count": null,
   "metadata": {},
   "outputs": [],
   "source": [
    "grid.arrange(\n",
    "    plot_var_histograms(data = pheno, xvar = 'TC_mg_dl'),\n",
    "    plot_var_histograms(data = pheno, xvar = 'TC_adj_mg_dl'),\n",
    "    plot_var_histograms(data = pheno, xvar = 'TC_adj_mg_dl_resid'),\n",
    "    plot_var_histograms(data = pheno, xvar = 'TC_adj_mg_dl_norm'),\n",
    "    ncol = 2,\n",
    "    top = 'Total cholesterol phenotype preparation'\n",
    ")"
   ]
  },
  {
   "cell_type": "code",
   "execution_count": null,
   "metadata": {},
   "outputs": [],
   "source": [
    "grid.arrange(\n",
    "    plot_var_histograms(data = pheno, xvar = 'LDL_mg_dl'),\n",
    "    plot_var_histograms(data = pheno, xvar = 'LDL_adj_mg_dl'),\n",
    "    plot_var_histograms(data = pheno, xvar = 'LDL_adj_mg_dl_resid'),\n",
    "    plot_var_histograms(data = pheno, xvar = 'LDL_adj_mg_dl_norm'),\n",
    "    ncol = 2,\n",
    "    top = 'Low-density lipoprotein cholesterol phenotype preparation'\n",
    ")"
   ]
  },
  {
   "cell_type": "code",
   "execution_count": null,
   "metadata": {},
   "outputs": [],
   "source": [
    "grid.arrange(\n",
    "    plot_var_histograms(data = pheno, xvar = 'HDL_mg_dl'),\n",
    "    plot_var_histograms(data = pheno, xvar = 'HDL_mg_dl_resid'),\n",
    "    plot_var_histograms(data = pheno, xvar = 'HDL_mg_dl_norm'),\n",
    "    ncol = 2,\n",
    "    top = 'High-density lipoprotein cholesterol phenotype preparation'\n",
    ")"
   ]
  },
  {
   "cell_type": "code",
   "execution_count": null,
   "metadata": {},
   "outputs": [],
   "source": [
    "grid.arrange(\n",
    "    plot_var_histograms(data = pheno, xvar = 'TG_mg_dl'),\n",
    "    plot_var_histograms(data = pheno, xvar = 'TG_log_mg_dl'),\n",
    "    plot_var_histograms(data = pheno, xvar = 'TG_log_mg_dl_resid'),\n",
    "    plot_var_histograms(data = pheno, xvar = 'TG_log_mg_dl_norm'),\n",
    "    ncol = 2,\n",
    "    top = 'Triglyceride phenotype preparation'\n",
    ")"
   ]
  },
  {
   "cell_type": "markdown",
   "metadata": {},
   "source": [
    "# Load the regenie GWAS results"
   ]
  },
  {
   "cell_type": "markdown",
   "metadata": {},
   "source": [
    "Bring our results into a single dataframe with a lipid type column."
   ]
  },
  {
   "cell_type": "code",
   "execution_count": null,
   "metadata": {},
   "outputs": [],
   "source": [
    "combined_regenie_results <- bind_rows(\n",
    "    lapply(LIPIDS, function(lipid) {\n",
    "        file = REGENIE_RESULTS[lipid]\n",
    "        read_delim(pipe(str_glue('gsutil cat {file}')), delim = ' ') %>%\n",
    "        mutate(lipid_type = lipid)\n",
    "    })) %>%\n",
    "    mutate(\n",
    "        p_value = 10 ^ (-1 * LOG10P),\n",
    "        RSID = paste0(CHROM, ':' , GENPOS, ':', ALLELE0, ':', ALLELE1)\n",
    "    )\n",
    "\n",
    "dim(combined_regenie_results)"
   ]
  },
  {
   "cell_type": "code",
   "execution_count": null,
   "metadata": {},
   "outputs": [],
   "source": [
    "head(combined_regenie_results)"
   ]
  },
  {
   "cell_type": "code",
   "execution_count": null,
   "metadata": {},
   "outputs": [],
   "source": [
    "combined_regenie_results %>%\n",
    "    group_by(lipid_type) %>%\n",
    "    summarize(\n",
    "        min_p_value = min(p_value),\n",
    "        max_p_value = max(p_value),\n",
    "        min_LOG10P = min(LOG10P),\n",
    "        max_LOG10P = max(LOG10P),\n",
    "        min_A1FREQ = min(A1FREQ),\n",
    "        max_A1FREQ = max(A1FREQ),\n",
    "        min_N = min(N),\n",
    "        max_N = max(N),\n",
    "    )"
   ]
  },
  {
   "cell_type": "markdown",
   "metadata": {},
   "source": [
    "# Plot regenie results"
   ]
  },
  {
   "cell_type": "code",
   "execution_count": null,
   "metadata": {},
   "outputs": [],
   "source": [
    "plot_manhattan_and_qq <- function(regenie_results, manhattan_title, qq_title) {\n",
    "    options(repr.plot.width = 10, repr.plot.height = 10)\n",
    "    manhattan(regenie_results,\n",
    "              chr='CHROM',\n",
    "              bp='GENPOS',\n",
    "              snp='ID',\n",
    "              p='p_value',\n",
    "              logp=TRUE,\n",
    "              annotateTop = FALSE,\n",
    "              ylim = c(0, 200),\n",
    "              cex = 1.25,\n",
    "              cex.axis = 1.25,\n",
    "              cex.lab = 1.25,\n",
    "              main = manhattan_title,\n",
    "              sub = PLOT_SUBTITLE\n",
    "             )\n",
    "\n",
    "    qq(regenie_results$p_value,\n",
    "       cex = 1.25,\n",
    "       cex.axis = 1.25,\n",
    "       cex.lab = 1.25,\n",
    "       main = qq_title,\n",
    "       sub = PLOT_SUBTITLE)\n",
    "}"
   ]
  },
  {
   "cell_type": "markdown",
   "metadata": {},
   "source": [
    "## All GWAS results"
   ]
  },
  {
   "cell_type": "code",
   "execution_count": null,
   "metadata": {},
   "outputs": [],
   "source": [
    "map(LIPIDS, function(lipid) {\n",
    "    regenie_results <- combined_regenie_results %>% filter(lipid_type == lipid)\n",
    "    file = REGENIE_RESULTS[lipid]\n",
    "    \n",
    "    gc_score_A <- qchisq(median(regenie_results$p_value), 1, lower.tail=FALSE) / 0.456\n",
    "    gc_score_B <- median(qchisq(1 - regenie_results$p_value, 1)) / qchisq(0.5, 1)\n",
    "    \n",
    "    message(str_glue('nrow: {nrow(regenie_results)} ncol: {ncol(regenie_results)} in {file}'))\n",
    "    message(str_glue('GC: {round(gc_score_A, 3)} {round(gc_score_B, 3)}'))\n",
    "    message(\n",
    "        regenie_results %>%\n",
    "            group_by(TEST) %>%\n",
    "        summarize(count = n())\n",
    "    )\n",
    "\n",
    "    plot_manhattan_and_qq(\n",
    "        regenie_results,\n",
    "        manhattan_title = str_glue('{basename(file)} results\\nfrom {dirname(file)}'),\n",
    "        qq_title = str_glue('{basename(file)} results\\nfrom {dirname(file)}\\n GC: {round(gc_score_A, 3)} {round(gc_score_B, 3)}')\n",
    "    )\n",
    "})"
   ]
  },
  {
   "cell_type": "markdown",
   "metadata": {},
   "source": [
    "## Filter to common variants"
   ]
  },
  {
   "cell_type": "code",
   "execution_count": null,
   "metadata": {},
   "outputs": [],
   "source": [
    "map(LIPIDS, function(lipid) {\n",
    "    regenie_results <- combined_regenie_results %>% filter(lipid_type == lipid)\n",
    "    file = REGENIE_RESULTS[lipid]\n",
    "    \n",
    "    # Use only common variants in GC and the plots.\n",
    "    common_regenie_results <- regenie_results %>%\n",
    "        filter(A1FREQ > 0.01 & A1FREQ < 0.99)\n",
    "    \n",
    "    gc_score_A <- qchisq(median(common_regenie_results$p_value), 1, lower.tail=FALSE) / 0.456\n",
    "    gc_score_B <- median(qchisq(1 - common_regenie_results$p_value, 1)) / qchisq(0.5, 1)\n",
    "    \n",
    "    message(str_glue('nrow: {nrow(regenie_results)} n_sig: {nrow(regenie_results %>% filter(LOG10P > -log10(5e-08)))} in {file}'))\n",
    "    message(str_glue('nrow: {nrow(common_regenie_results)} n_sig: {nrow(common_regenie_results %>% filter(LOG10P > -log10(5e-08)))} after filtering to common variants'))\n",
    "    message(str_glue('GC: {round(gc_score_A, 3)} {round(gc_score_B, 3)}'))\n",
    "    message(\n",
    "        regenie_results %>%\n",
    "            group_by(TEST) %>%\n",
    "        summarize(count = n())\n",
    "    )\n",
    "\n",
    "    plot_manhattan_and_qq(\n",
    "        common_regenie_results,\n",
    "        manhattan_title = str_glue('{basename(file)} results\\nfrom {dirname(file)}\\ncommon variants only'),\n",
    "        qq_title = str_glue('{basename(file)} results\\nfrom {dirname(file)}\\ncommon variants only\\tGC: {round(gc_score_A, 3)} {round(gc_score_B, 3)}')\n",
    "    )\n",
    "})"
   ]
  },
  {
   "cell_type": "markdown",
   "metadata": {},
   "source": [
    "## Prune variants in LD"
   ]
  },
  {
   "cell_type": "code",
   "execution_count": null,
   "metadata": {},
   "outputs": [],
   "source": [
    "ld_pruned_variants  <- read_tsv(pipe(str_glue('gsutil cat {LD_PRUNED_VARIANTS}')), col_names = 'variant_id')\n",
    "\n",
    "head(ld_pruned_variants)"
   ]
  },
  {
   "cell_type": "code",
   "execution_count": null,
   "metadata": {},
   "outputs": [],
   "source": [
    "map(LIPIDS, function(lipid) {\n",
    "    regenie_results <- combined_regenie_results %>% filter(lipid_type == lipid)\n",
    "    file = REGENIE_RESULTS[lipid]\n",
    "    \n",
    "    # Use LD pruned results in GC and the QQ plot.\n",
    "    ld_pruned_regenie_results <- regenie_results %>%\n",
    "        filter(ID %in% ld_pruned_variants$variant_id)\n",
    "    \n",
    "    gc_score_A <- qchisq(median(ld_pruned_regenie_results$p_value), 1, lower.tail=FALSE) / 0.456\n",
    "    gc_score_B <- median(qchisq(1 - ld_pruned_regenie_results$p_value, 1)) / qchisq(0.5, 1)\n",
    "    \n",
    "    message(str_glue('nrow: {nrow(regenie_results)} n_sig: {nrow(regenie_results %>% filter(LOG10P > -log10(5e-08)))} in {file}'))\n",
    "    message(str_glue('nrow: {nrow(ld_pruned_regenie_results)} n_sig: {nrow(ld_pruned_regenie_results %>% filter(LOG10P > -log10(5e-08)))} after pruning variants in LD'))\n",
    "    message(str_glue('GC: {round(gc_score_A, 3)} {round(gc_score_B, 3)}'))\n",
    "    message(\n",
    "        regenie_results %>%\n",
    "            group_by(TEST) %>%\n",
    "        summarize(count = n())\n",
    "    )\n",
    "\n",
    "    plot_manhattan_and_qq(\n",
    "        ld_pruned_regenie_results,\n",
    "        manhattan_title = str_glue('{basename(file)} results\\nfrom {dirname(file)}\\nVariants in LD pruned out.'),\n",
    "        qq_title = str_glue('{basename(file)} results\\nfrom {dirname(file)}\\nVariants in LD pruned out.\\tGC: {round(gc_score_A, 3)} {round(gc_score_B, 3)}')\n",
    "    )\n",
    "})"
   ]
  },
  {
   "cell_type": "markdown",
   "metadata": {},
   "source": [
    "## Prune variants in LD and filter to common variants"
   ]
  },
  {
   "cell_type": "code",
   "execution_count": null,
   "metadata": {},
   "outputs": [],
   "source": [
    "map(LIPIDS, function(lipid) {\n",
    "    regenie_results <- combined_regenie_results %>% filter(lipid_type == lipid)\n",
    "    file = REGENIE_RESULTS[lipid]\n",
    "    \n",
    "    # Use only common variants in GC and the plots.\n",
    "    common_regenie_results <- regenie_results %>%\n",
    "        filter(A1FREQ > 0.01 & A1FREQ < 0.99)\n",
    "    \n",
    "    # Use LD pruned results in GC and the QQ plot.\n",
    "    ld_pruned_common_regenie_results <- common_regenie_results %>%\n",
    "        filter(ID %in% ld_pruned_variants$variant_id)\n",
    "    \n",
    "    gc_score_A <- qchisq(median(ld_pruned_common_regenie_results$p_value), 1, lower.tail=FALSE) / 0.456\n",
    "    gc_score_B <- median(qchisq(1 - ld_pruned_common_regenie_results$p_value, 1)) / qchisq(0.5, 1)\n",
    "    \n",
    "    message(str_glue('nrow: {nrow(regenie_results)} n_sig: {nrow(regenie_results %>% filter(LOG10P > -log10(5e-08)))} in {file}'))\n",
    "    message(str_glue('nrow: {nrow(common_regenie_results)} n_sig: {nrow(common_regenie_results %>% filter(LOG10P > -log10(5e-08)))} after filtering to common variants only'))\n",
    "    message(str_glue('nrow: {nrow(ld_pruned_common_regenie_results)} n_sig: {nrow(ld_pruned_common_regenie_results %>% filter(LOG10P > -log10(5e-08)))} after pruning variants in LD'))\n",
    "    message(str_glue('GC: {round(gc_score_A, 3)} {round(gc_score_B, 3)}'))\n",
    "    message(\n",
    "        regenie_results %>%\n",
    "            group_by(TEST) %>%\n",
    "        summarize(count = n())\n",
    "    )\n",
    "\n",
    "    plot_manhattan_and_qq(\n",
    "        ld_pruned_common_regenie_results,\n",
    "        manhattan_title = str_glue('{basename(file)} results\\nfrom {dirname(file)}\\nVariants in LD pruned out and common variants only.'),\n",
    "        qq_title = str_glue('{basename(file)} results\\nfrom {dirname(file)}\\nVariants in LD pruned out and common variants only.\\tGC: {round(gc_score_A, 3)} {round(gc_score_B, 3)}')\n",
    "    )\n",
    "})"
   ]
  },
  {
   "cell_type": "markdown",
   "metadata": {},
   "source": [
    "# Comparisons against other lipids studies "
   ]
  },
  {
   "cell_type": "markdown",
   "metadata": {},
   "source": [
    "## Comparison with UKB published GWAS summary"
   ]
  },
  {
   "cell_type": "markdown",
   "metadata": {},
   "source": [
    "##### Rare coding variants in 35 genes associate with circulating lipid levels – a multi-ancestry analysis of 170,000 exomes. [Hindy et al 2021](https://www.biorxiv.org/content/10.1101/2020.12.22.423783v1.supplementary-material?versioned=true)"
   ]
  },
  {
   "cell_type": "code",
   "execution_count": null,
   "metadata": {},
   "outputs": [],
   "source": [
    "download.file('https://www.biorxiv.org/content/biorxiv/early/2021/09/01/2020.12.22.423783/DC2/embed/media-2.xlsx?download=true', 'hindy.xlsx')"
   ]
  },
  {
   "cell_type": "markdown",
   "metadata": {},
   "source": [
    "Bring the Hindy results into a single dataframe with a lipid type column."
   ]
  },
  {
   "cell_type": "code",
   "execution_count": null,
   "metadata": {},
   "outputs": [],
   "source": [
    "combined_hindy_results <- read_xlsx('hindy.xlsx', sheet = 'Table_S11', skip = 1, na = 'NA') %>%\n",
    "    filter(Ancestry == 'Overall') %>%\n",
    "    mutate(\n",
    "        lipid_type = case_when(\n",
    "            Trait == 'LDL_ADJ' ~ 'LDL',\n",
    "            Trait == 'TOTAL_ADJ' ~ 'TC',\n",
    "            TRUE ~ Trait\n",
    "        )\n",
    "    )\n",
    "\n",
    "dim(combined_hindy_results)"
   ]
  },
  {
   "cell_type": "code",
   "execution_count": null,
   "metadata": {},
   "outputs": [],
   "source": [
    "head(combined_hindy_results)"
   ]
  },
  {
   "cell_type": "code",
   "execution_count": null,
   "metadata": {},
   "outputs": [],
   "source": [
    "map(LIPIDS, function(lipid) {\n",
    "    hindy_results = combined_hindy_results %>%\n",
    "        filter(lipid_type == lipid) %>%\n",
    "        select(RSID, beta_Hindy=BETA_FE)\n",
    "\n",
    "    in_common_results = inner_join(\n",
    "        hindy_results,\n",
    "        combined_regenie_results %>%\n",
    "            filter(lipid_type == lipid) %>%\n",
    "            select(RSID, beta_AoU_siloed=BETA)\n",
    "    )\n",
    "    \n",
    "    num_hindy_results = nrow(hindy_results)\n",
    "    num_in_common_results = nrow(in_common_results)\n",
    "    result_cor = cor(in_common_results$beta_AoU_siloed, in_common_results$beta_Hindy)\n",
    "    \n",
    "    options(repr.plot.width = 10, repr.plot.height = 10)\n",
    "\n",
    "    in_common_results %>%\n",
    "    ggplot(aes(x = beta_Hindy, y = beta_AoU_siloed)) +\n",
    "        geom_point(alpha = .5) +\n",
    "        annotate(geom = 'text',\n",
    "                 x = max(in_common_results$beta_Hindy),\n",
    "                 y = min(in_common_results$beta_AoU_siloed),\n",
    "                 hjust = 'right',\n",
    "                 vjust = -1,\n",
    "                 color = 'dark blue', \n",
    "                 size = 6,\n",
    "                 label = c(str_glue('correlation: {round(result_cor, digits = 3)}\\nN = {num_in_common_results}'))) +\n",
    "        geom_abline() +\n",
    "        theme(\n",
    "            axis.title.x=element_text(size=14),\n",
    "            axis.title.y=element_text(size=14),\n",
    "        ) +\n",
    "        labs(title = str_glue('{lipid} GWAS result comparison to {num_hindy_results}\\nsignificant RSID from Hindy et al. 2021'),\n",
    "             caption = PLOT_SUBTITLE)\n",
    "\n",
    "})"
   ]
  },
  {
   "cell_type": "markdown",
   "metadata": {},
   "source": [
    "## Comparison with TOPMed (Freeze8) Lipid GWAS"
   ]
  },
  {
   "cell_type": "markdown",
   "metadata": {},
   "source": [
    "Whole genome sequence analysis of blood lipid levels in >66,000 individuals. [Selvaraj et al 2021](https://www.biorxiv.org/content/10.1101/2021.10.11.463514v1.supplementary-material)"
   ]
  },
  {
   "cell_type": "code",
   "execution_count": null,
   "metadata": {},
   "outputs": [],
   "source": [
    "download.file('https://www.biorxiv.org/content/biorxiv/early/2021/10/12/2021.10.11.463514/DC1/embed/media-1.xlsx?download=true', 'selvaraj.xlsx')"
   ]
  },
  {
   "cell_type": "markdown",
   "metadata": {},
   "source": [
    "Bring the Selvaraj results into a single dataframe with a lipid type column."
   ]
  },
  {
   "cell_type": "code",
   "execution_count": null,
   "metadata": {},
   "outputs": [],
   "source": [
    "selvaraj_tables = c(HDL = 'A4:L361', LDL = 'A363:L701', TC = 'A703:L1027', TG = 'A1029:L1318')\n",
    "\n",
    "combined_selvaraj_results <- bind_rows(\n",
    "    lapply(LIPIDS, function(lipid) {\n",
    "        # Print some metadata for an eyeball check that we are associating the data with the correct lipid type.\n",
    "        print(str_glue('{lipid} {selvaraj_tables[lipid]}'))\n",
    "        first_row = as.integer(str_extract(selvaraj_tables[lipid], '\\\\d+'))\n",
    "        print(read_xlsx('selvaraj.xlsx', sheet = 'Supplementary Table 3', range = str_glue('A{first_row - 1}:A{first_row}')))\n",
    "        print(nrow(read_xlsx('selvaraj.xlsx', sheet = 'Supplementary Table 3', range = selvaraj_tables[lipid])))\n",
    "        \n",
    "        # Retrieve the data.\n",
    "        read_xlsx('selvaraj.xlsx', sheet = 'Supplementary Table 3', range = selvaraj_tables[lipid]) %>%\n",
    "        mutate(\n",
    "            # Work around a bad entry in the data causing the p.value column to be of type character.\n",
    "            p.value = as.numeric(p.value),\n",
    "            RSID = paste0(CHR, ':' , POS, ':', Allele1, ':', Allele2),\n",
    "            lipid_type = lipid\n",
    "        )\n",
    "    }))\n",
    "\n",
    "dim(combined_selvaraj_results)"
   ]
  },
  {
   "cell_type": "code",
   "execution_count": null,
   "metadata": {},
   "outputs": [],
   "source": [
    "head(combined_selvaraj_results)"
   ]
  },
  {
   "cell_type": "code",
   "execution_count": null,
   "metadata": {},
   "outputs": [],
   "source": [
    "map(LIPIDS, function(lipid) {\n",
    "    selvaraj_results = combined_selvaraj_results %>%\n",
    "        filter(lipid_type == lipid) %>%\n",
    "        select(RSID, beta_selvaraj=BETA)\n",
    "\n",
    "    in_common_results = inner_join(\n",
    "        selvaraj_results,\n",
    "        combined_regenie_results %>%\n",
    "            filter(lipid_type == lipid) %>%\n",
    "            select(RSID, beta_AoU_siloed=BETA)\n",
    "    )\n",
    "    \n",
    "    num_selvaraj_results = nrow(selvaraj_results)\n",
    "    num_in_common_results = nrow(in_common_results)\n",
    "    result_cor = cor(in_common_results$beta_AoU_siloed, in_common_results$beta_selvaraj)\n",
    "    \n",
    "    options(repr.plot.width = 10, repr.plot.height = 10)\n",
    "\n",
    "    in_common_results %>%\n",
    "    ggplot(aes(x = beta_selvaraj, y = beta_AoU_siloed)) +\n",
    "        geom_point(alpha = .5) +\n",
    "        annotate(geom = 'text',\n",
    "                 x = max(in_common_results$beta_selvaraj),\n",
    "                 y = min(in_common_results$beta_AoU_siloed),\n",
    "                 hjust = 'right',\n",
    "                 vjust = -1,\n",
    "                 color = 'dark blue', \n",
    "                 size = 6,\n",
    "                 label = c(str_glue('correlation: {round(result_cor, digits = 3)}\\nN = {num_in_common_results}'))) +\n",
    "        geom_abline() +\n",
    "        theme(\n",
    "            axis.title.x=element_text(size=14),\n",
    "            axis.title.y=element_text(size=14),\n",
    "        ) +\n",
    "        labs(title = str_glue('{lipid} GWAS result comparison to {num_selvaraj_results}\\nsignificant RSID from Selvaraj et al. 2021'),\n",
    "             caption = PLOT_SUBTITLE)\n",
    "\n",
    "})"
   ]
  },
  {
   "cell_type": "markdown",
   "metadata": {},
   "source": [
    "# Comparison Hindy vs. Selvaraj"
   ]
  },
  {
   "cell_type": "code",
   "execution_count": null,
   "metadata": {},
   "outputs": [],
   "source": [
    "map(LIPIDS, function(lipid) {\n",
    "    hindy_results = combined_hindy_results %>%\n",
    "        filter(lipid_type == lipid) %>%\n",
    "        select(RSID, beta_Hindy=BETA_FE)\n",
    "\n",
    "    selvaraj_results = combined_selvaraj_results %>%\n",
    "        filter(lipid_type == lipid) %>%\n",
    "        select(RSID, beta_selvaraj=BETA)\n",
    "\n",
    "    in_common_results = inner_join(\n",
    "        hindy_results,\n",
    "        selvaraj_results\n",
    "    )\n",
    "    \n",
    "    num_hindy_results = nrow(hindy_results)\n",
    "    num_selvaraj_results = nrow(selvaraj_results)\n",
    "    num_in_common_results = nrow(in_common_results)\n",
    "    result_cor = cor(in_common_results$beta_selvaraj, in_common_results$beta_Hindy)\n",
    "    \n",
    "    options(repr.plot.width = 10, repr.plot.height = 10)\n",
    "\n",
    "    in_common_results %>%\n",
    "    ggplot(aes(x = beta_Hindy, y = beta_selvaraj)) +\n",
    "        geom_point(alpha = .5) +\n",
    "        annotate(geom = 'text',\n",
    "                 x = max(in_common_results$beta_Hindy),\n",
    "                 y = min(in_common_results$beta_selvaraj),\n",
    "                 hjust = 'right',\n",
    "                 vjust = -1,\n",
    "                 color = 'dark blue', \n",
    "                 size = 6,\n",
    "                 label = c(str_glue('correlation: {round(result_cor, digits = 3)}\\nN = {num_in_common_results}'))) +\n",
    "        geom_abline() +\n",
    "        theme(\n",
    "            axis.title.x=element_text(size=14),\n",
    "            axis.title.y=element_text(size=14),\n",
    "        ) +\n",
    "        labs(title = str_glue('{lipid} GWAS result comparison between {num_hindy_results} significant RSID\n",
    "from Hindy et al. 2021 and {num_selvaraj_results} significant RSID from\n",
    "Selvaraj et al. 2021'),\n",
    "             caption = PLOT_SUBTITLE)\n",
    "\n",
    "})"
   ]
  },
  {
   "cell_type": "markdown",
   "metadata": {},
   "source": [
    "# Provenance "
   ]
  },
  {
   "cell_type": "code",
   "execution_count": null,
   "metadata": {},
   "outputs": [],
   "source": [
    "devtools::session_info()"
   ]
  }
 ],
 "metadata": {
  "kernelspec": {
   "display_name": "R",
   "language": "R",
   "name": "ir"
  },
  "language_info": {
   "codemirror_mode": "r",
   "file_extension": ".r",
   "mimetype": "text/x-r-source",
   "name": "R",
   "pygments_lexer": "r",
   "version": "4.1.1"
  },
  "toc": {
   "base_numbering": 1,
   "nav_menu": {},
   "number_sections": true,
   "sideBar": true,
   "skip_h1_title": false,
   "title_cell": "Table of Contents",
   "title_sidebar": "Contents",
   "toc_cell": false,
   "toc_position": {
    "height": "calc(100% - 180px)",
    "left": "10px",
    "top": "150px",
    "width": "302px"
   },
   "toc_section_display": true,
   "toc_window_display": true
  }
 },
 "nbformat": 4,
 "nbformat_minor": 4
}

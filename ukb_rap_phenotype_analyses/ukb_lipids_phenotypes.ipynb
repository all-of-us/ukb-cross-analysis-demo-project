{
 "cells": [
  {
   "cell_type": "markdown",
   "metadata": {},
   "source": [
    "# UK Biobank lipids phenotypes and covariates\n",
    "\n",
    "In this notebook we review the available UK Biobank data for lipids and prepare our GWAS phenotypes and covariates.\n",
    "  * https://biobank.ndph.ox.ac.uk/showcase/field.cgi?id=30690\n",
    "  * https://biobank.ndph.ox.ac.uk/showcase/field.cgi?id=30760\n",
    "  * https://biobank.ndph.ox.ac.uk/showcase/field.cgi?id=30780\n",
    "  * https://biobank.ndph.ox.ac.uk/showcase/field.cgi?id=30870"
   ]
  },
  {
   "cell_type": "markdown",
   "metadata": {},
   "source": [
    "# Setup\n",
    "\n",
    "<div class=\"alert alert-block alert-warning\">\n",
    "This notebook will run correctly on the UK Biobank Research Analysis Platform.\n",
    "</div>"
   ]
  },
  {
   "cell_type": "code",
   "execution_count": null,
   "metadata": {},
   "outputs": [],
   "source": [
    "lapply(c('lubridate', 'skimr', 'tidyverse'),\n",
    "       function(pkg) { if(! pkg %in% installed.packages()) { install.packages(pkg)} } )"
   ]
  },
  {
   "cell_type": "code",
   "execution_count": null,
   "metadata": {},
   "outputs": [],
   "source": [
    "library(lubridate)\n",
    "library(skimr)\n",
    "library(tidyverse)"
   ]
  },
  {
   "cell_type": "code",
   "execution_count": null,
   "metadata": {},
   "outputs": [],
   "source": [
    "## Plot setup.\n",
    "theme_set(theme_bw(base_size = 16)) # Default theme for plots.\n",
    "\n",
    "#' Returns a data frame with a y position and a label, for use annotating ggplot boxplots.\n",
    "#'\n",
    "#' @param d A data frame.\n",
    "#' @return A data frame with column y as max and column label as length.\n",
    "get_boxplot_fun_data <- function(df) {\n",
    "  return(data.frame(y = max(df), label = stringr::str_c('N = ', length(df))))\n",
    "}"
   ]
  },
  {
   "cell_type": "markdown",
   "metadata": {},
   "source": [
    "## Retrieve and load the data extract\n",
    "\n",
    "<div class=\"alert alert-block alert-warning\">\n",
    "This section assumes the availability of CSVs created via notebook <kbd>ukb_lipids_phenotypes_retrieval.ipynb</kbd> and uploaded to the UKB RAP project.\n",
    "</div>"
   ]
  },
  {
   "cell_type": "code",
   "execution_count": null,
   "metadata": {},
   "outputs": [],
   "source": [
    "# The CSV is well-formed and visible.\n",
    "system('cat /mnt/project/drug_mapping.csv', intern = TRUE)"
   ]
  },
  {
   "cell_type": "code",
   "execution_count": null,
   "metadata": {},
   "outputs": [],
   "source": [
    "# But this R command does not work.\n",
    "read_csv('/mnt/project/drug_mapping.csv')"
   ]
  },
  {
   "cell_type": "markdown",
   "metadata": {},
   "source": [
    "From the shell, run:\n",
    "```\n",
    "dx download drug_mapping.csv\n",
    "dx download lipids.csv\n",
    "dx download w7089_20210809.csv\n",
    "dx download bridge_7089_31063.tsv\n",
    "```\n",
    "\n",
    "Note: we cannot do this via the `system` command because it requires interaction to choose the version when multiple versions are present."
   ]
  },
  {
   "cell_type": "code",
   "execution_count": null,
   "metadata": {},
   "outputs": [],
   "source": [
    "statin_drugs <- read_csv('drug_mapping.csv')"
   ]
  },
  {
   "cell_type": "code",
   "execution_count": null,
   "metadata": {},
   "outputs": [],
   "source": [
    "withdrawn_eids <- read_tsv('w7089_20210809.csv', col_names = c('eid'))"
   ]
  },
  {
   "cell_type": "code",
   "execution_count": null,
   "metadata": {},
   "outputs": [],
   "source": [
    "eid_to_sampleid <- read_tsv('bridge_7089_31063.tsv')"
   ]
  },
  {
   "cell_type": "code",
   "execution_count": null,
   "metadata": {},
   "outputs": [],
   "source": [
    "raw_pheno <- read_csv('lipids.csv')"
   ]
  },
  {
   "cell_type": "code",
   "execution_count": null,
   "metadata": {},
   "outputs": [],
   "source": [
    "spec(raw_pheno)"
   ]
  },
  {
   "cell_type": "code",
   "execution_count": null,
   "metadata": {},
   "outputs": [],
   "source": [
    "#skim(raw_pheno)"
   ]
  },
  {
   "cell_type": "markdown",
   "metadata": {},
   "source": [
    "At this time, we are only interested in the first instance."
   ]
  },
  {
   "cell_type": "code",
   "execution_count": null,
   "metadata": {},
   "outputs": [],
   "source": [
    "pheno <- raw_pheno %>% select(eid, p31_Sex, contains('_i0_'))"
   ]
  },
  {
   "cell_type": "code",
   "execution_count": null,
   "metadata": {},
   "outputs": [],
   "source": [
    "skim(pheno)"
   ]
  },
  {
   "cell_type": "markdown",
   "metadata": {},
   "source": [
    "## Omit participants who have withdrawn from the study"
   ]
  },
  {
   "cell_type": "code",
   "execution_count": null,
   "metadata": {},
   "outputs": [],
   "source": [
    "nrow(pheno)"
   ]
  },
  {
   "cell_type": "code",
   "execution_count": null,
   "metadata": {},
   "outputs": [],
   "source": [
    "pheno <- pheno %>%\n",
    "    filter(!eid %in% withdrawn_eids$eid)"
   ]
  },
  {
   "cell_type": "code",
   "execution_count": null,
   "metadata": {},
   "outputs": [],
   "source": [
    "nrow(pheno)"
   ]
  },
  {
   "cell_type": "markdown",
   "metadata": {},
   "source": [
    "# Examine the lipids data "
   ]
  },
  {
   "cell_type": "code",
   "execution_count": null,
   "metadata": {},
   "outputs": [],
   "source": [
    "table(pheno$p30692_i0_Cholesterol_aliquot, useNA = 'always')"
   ]
  },
  {
   "cell_type": "code",
   "execution_count": null,
   "metadata": {},
   "outputs": [],
   "source": [
    "pheno %>%\n",
    "    mutate(\n",
    "        missing = is.na(p30690_i0_Cholesterol_mmol_L)\n",
    "    ) %>%\n",
    "    group_by(pheno$p30693_i0_Cholesterol_correction_level, missing) %>%\n",
    "    summarize(count = n())"
   ]
  },
  {
   "cell_type": "code",
   "execution_count": null,
   "metadata": {},
   "outputs": [],
   "source": [
    "pheno %>%\n",
    "    mutate(\n",
    "        missing = is.na(p30690_i0_Cholesterol_mmol_L)\n",
    "    ) %>%\n",
    "    group_by(p30694_i0_Cholesterol_correction_reason, missing) %>%\n",
    "    summarize(count = n())"
   ]
  },
  {
   "cell_type": "code",
   "execution_count": null,
   "metadata": {},
   "outputs": [],
   "source": [
    "pheno %>%\n",
    "    mutate(\n",
    "        missing = is.na(p30690_i0_Cholesterol_mmol_L)\n",
    "    ) %>%\n",
    "    group_by(p30695_i0_Cholesterol_missing_reason, missing) %>%\n",
    "    summarize(count = n())"
   ]
  },
  {
   "cell_type": "markdown",
   "metadata": {},
   "source": [
    "## Plot the lipids data "
   ]
  },
  {
   "cell_type": "code",
   "execution_count": null,
   "metadata": {},
   "outputs": [],
   "source": [
    "options(repr.plot.height = 12, repr.plot.width = 16)\n",
    "\n",
    "pheno %>%\n",
    "    filter(!is.na(p21003_i0_Age_when_attended_assessment_centre_years)) %>%\n",
    "    ggplot(aes(x = cut_width(p21003_i0_Age_when_attended_assessment_centre_years, width = 10, boundary = 0), y = p30690_i0_Cholesterol_mmol_L)) +\n",
    "    geom_boxplot() +\n",
    "    stat_summary(fun.data = get_boxplot_fun_data, geom = 'text', size = 4,\n",
    "                 position = position_dodge(width = 0.9), vjust = -0.8) +\n",
    "    coord_flip() +\n",
    "    xlab('age') +\n",
    "    labs(title = str_glue('Instance 0 measurement per person, by age'),\n",
    "         caption = 'Source: UK Biobank data')"
   ]
  },
  {
   "cell_type": "code",
   "execution_count": null,
   "metadata": {},
   "outputs": [],
   "source": [
    "pheno_check_long <- pheno %>%\n",
    "    select(eid, p21003_i0_Age_when_attended_assessment_centre_years, ends_with('mmol_L')) %>%\n",
    "    pivot_longer(\n",
    "        cols = ends_with('mmol_L'),\n",
    "        names_to = c('instance', 'measurement'),\n",
    "        names_pattern = 'p\\\\d+_(i\\\\d+)_(.*)_mmol_L',\n",
    "        values_to = 'mmol_L') %>%\n",
    "    # Convert to units used by AoU measurements.\n",
    "    # Formula is from https://www.ncbi.nlm.nih.gov/books/NBK83505/\n",
    "    mutate(\n",
    "        mg_dl = case_when(\n",
    "            measurement == 'HDL_cholesterol' ~ mmol_L * 38.67,\n",
    "            measurement == 'Cholesterol' ~ mmol_L * 38.67,\n",
    "            measurement == 'LDL_direct' ~ mmol_L * 38.67,\n",
    "            measurement == 'Triglycerides' ~ mmol_L * 88.57,\n",
    "            TRUE ~ NA_real_\n",
    "        )\n",
    "    ) %>%\n",
    "    inner_join(\n",
    "      pheno %>%\n",
    "      select(eid, p21003_i0_Age_when_attended_assessment_centre_years, ends_with('correction_reason')) %>%\n",
    "      pivot_longer(\n",
    "          cols = ends_with('correction_reason'),\n",
    "          names_to = c('instance', 'measurement'),\n",
    "          names_pattern = 'p\\\\d+_(i\\\\d+)_(.*)_correction_reason',\n",
    "          values_to = 'correction_reason')) %>% \n",
    "    inner_join(\n",
    "      pheno %>%\n",
    "      select(eid, p21003_i0_Age_when_attended_assessment_centre_years, ends_with('missing_reason')) %>%\n",
    "      pivot_longer(\n",
    "          cols = ends_with('missing_reason'),\n",
    "          names_to = c('instance', 'measurement'),\n",
    "          names_pattern = 'p\\\\d+_(i\\\\d+)_(.*)_missing_reason',\n",
    "          values_to = 'missing_reason')) %>%\n",
    "    inner_join(\n",
    "      pheno %>%\n",
    "      select(eid, p21003_i0_Age_when_attended_assessment_centre_years, ends_with('correction_level')) %>%\n",
    "      pivot_longer(\n",
    "          cols = ends_with('correction_level'),\n",
    "          names_to = c('instance', 'measurement'),\n",
    "          names_pattern = 'p\\\\d+_(i\\\\d+)_(.*)_correction_level',\n",
    "          values_to = 'correction_level')) %>%\n",
    "    inner_join(\n",
    "      pheno %>%\n",
    "      select(eid, p21003_i0_Age_when_attended_assessment_centre_years, ends_with('aliquot')) %>%\n",
    "      pivot_longer(\n",
    "          cols = ends_with('aliquot'),\n",
    "          names_to = c('instance', 'measurement'),\n",
    "          names_pattern = 'p\\\\d+_(i\\\\d+)_(.*)_aliquot',\n",
    "          values_to = 'aliquot')) %>%\n",
    "    inner_join(\n",
    "      pheno %>%\n",
    "      select(eid, p21003_i0_Age_when_attended_assessment_centre_years, ends_with('reportability')) %>%\n",
    "      pivot_longer(\n",
    "          cols = ends_with('reportability'),\n",
    "          names_to = c('instance', 'measurement'),\n",
    "          names_pattern = 'p\\\\d+_(i\\\\d+)_(.*)_reportability',\n",
    "          values_to = 'reportability'))"
   ]
  },
  {
   "cell_type": "code",
   "execution_count": null,
   "metadata": {},
   "outputs": [],
   "source": [
    "# Check the result of the join.\n",
    "(dim(pheno_check_long))\n",
    "(nrow(pheno) * 4)\n",
    "stopifnot(nrow(pheno_check_long) == nrow(pheno) * 4)"
   ]
  },
  {
   "cell_type": "code",
   "execution_count": null,
   "metadata": {},
   "outputs": [],
   "source": [
    "# Uncomment the line below to see row level data.\n",
    "#head(pheno_check_long)"
   ]
  },
  {
   "cell_type": "code",
   "execution_count": null,
   "metadata": {},
   "outputs": [],
   "source": [
    "pheno_check_long %>%\n",
    "    filter(!is.na(mg_dl)) %>%\n",
    "    group_by(missing_reason) %>%\n",
    "    summarize(count = n())"
   ]
  },
  {
   "cell_type": "code",
   "execution_count": null,
   "metadata": {},
   "outputs": [],
   "source": [
    "pheno_check_long %>%\n",
    "    group_by(measurement) %>%\n",
    "    summarize(\n",
    "        count = n(),\n",
    "        missing = sum(is.na(mg_dl)),\n",
    "        median = median(mg_dl, na.rm = TRUE),\n",
    "        mean = mean(mg_dl, na.rm = TRUE),\n",
    "        stddev = sd(mg_dl, na.rm = TRUE)\n",
    "    )"
   ]
  },
  {
   "cell_type": "code",
   "execution_count": null,
   "metadata": {},
   "outputs": [],
   "source": [
    "options(repr.plot.height = 18, repr.plot.width = 16)\n",
    "\n",
    "pheno_check_long %>%\n",
    "    filter(!is.na(p21003_i0_Age_when_attended_assessment_centre_years)) %>%\n",
    "    ggplot(aes(x = cut_width(p21003_i0_Age_when_attended_assessment_centre_years, width = 15, boundary = 0), y = mg_dl)) +\n",
    "    geom_boxplot() +\n",
    "    stat_summary(fun.data = get_boxplot_fun_data, geom = 'text', size = 4,\n",
    "                 position = position_dodge(width = 0.9), vjust = -0.8) +\n",
    "    scale_y_continuous(breaks = scales::pretty_breaks(n = 10)) +\n",
    "#    scale_y_log10(breaks = scales::pretty_breaks(n = 10)) +  # Uncomment if the data looks skewed.\n",
    "    coord_flip() +\n",
    "    facet_wrap(~ measurement, nrow = length(unique(pheno_check_long$measurement)), scales = 'free_x') +\n",
    "    xlab('age') +\n",
    "    labs(title = str_glue('Instance 0 measurement per person, by age'),\n",
    "         caption = 'Source: UK Biobank data')"
   ]
  },
  {
   "cell_type": "markdown",
   "metadata": {},
   "source": [
    "# Determine statin use "
   ]
  },
  {
   "cell_type": "code",
   "execution_count": null,
   "metadata": {},
   "outputs": [],
   "source": [
    "pheno %>%\n",
    "    select(p20003_i0_Treatment_medication_code) %>%\n",
    "    filter(str_detect(p20003_i0_Treatment_medication_code, 'statin')) %>%\n",
    "    head()\n"
   ]
  },
  {
   "cell_type": "code",
   "execution_count": null,
   "metadata": {},
   "outputs": [],
   "source": [
    "statin_drugs"
   ]
  },
  {
   "cell_type": "code",
   "execution_count": null,
   "metadata": {},
   "outputs": [],
   "source": [
    "(statin_regex = str_c(statin_drugs$drug_name, collapse = '|'))"
   ]
  },
  {
   "cell_type": "code",
   "execution_count": null,
   "metadata": {},
   "outputs": [],
   "source": [
    "str_detect(pheno$p20003_i0_Treatment_medication_code[100], statin_regex)"
   ]
  },
  {
   "cell_type": "code",
   "execution_count": null,
   "metadata": {},
   "outputs": [],
   "source": [
    "pheno <- pheno %>%\n",
    "    mutate(\n",
    "        statin_use = case_when(\n",
    "            str_detect(p20003_i0_Treatment_medication_code, statin_regex) ~ 1,\n",
    "            TRUE ~ 0\n",
    "        )\n",
    "    )\n",
    "\n",
    "table(pheno$statin_use, useNA = 'always')"
   ]
  },
  {
   "cell_type": "markdown",
   "metadata": {},
   "source": [
    "# Age covariate"
   ]
  },
  {
   "cell_type": "code",
   "execution_count": null,
   "metadata": {},
   "outputs": [],
   "source": [
    "table(pheno$p21003_i0_Age_when_attended_assessment_centre_years, useNA='always')"
   ]
  },
  {
   "cell_type": "code",
   "execution_count": null,
   "metadata": {},
   "outputs": [],
   "source": [
    "pheno <- pheno %>%\n",
    "    filter(!is.na(p21003_i0_Age_when_attended_assessment_centre_years)) %>%\n",
    "    mutate(\n",
    "        age = p21003_i0_Age_when_attended_assessment_centre_years,\n",
    "        age2 = age ^2\n",
    "    )"
   ]
  },
  {
   "cell_type": "code",
   "execution_count": null,
   "metadata": {},
   "outputs": [],
   "source": [
    "table(pheno$age, useNA='always')"
   ]
  },
  {
   "cell_type": "code",
   "execution_count": null,
   "metadata": {},
   "outputs": [],
   "source": [
    "table(pheno$age2, useNA='always')"
   ]
  },
  {
   "cell_type": "markdown",
   "metadata": {},
   "source": [
    "# Sex covariate"
   ]
  },
  {
   "cell_type": "code",
   "execution_count": null,
   "metadata": {},
   "outputs": [],
   "source": [
    "table(pheno$p31_Sex, useNA='always')"
   ]
  },
  {
   "cell_type": "code",
   "execution_count": null,
   "metadata": {},
   "outputs": [],
   "source": [
    "pheno <- pheno %>%\n",
    "    filter(!is.na(p31_Sex))"
   ]
  },
  {
   "cell_type": "code",
   "execution_count": null,
   "metadata": {},
   "outputs": [],
   "source": [
    "table(pheno$p31_Sex, useNA='always')"
   ]
  },
  {
   "cell_type": "markdown",
   "metadata": {},
   "source": [
    "## Lipid phenotypes"
   ]
  },
  {
   "cell_type": "code",
   "execution_count": null,
   "metadata": {},
   "outputs": [],
   "source": [
    "nrow(pheno)"
   ]
  },
  {
   "cell_type": "markdown",
   "metadata": {},
   "source": [
    "Retain only participants with values for all four lipids."
   ]
  },
  {
   "cell_type": "code",
   "execution_count": null,
   "metadata": {},
   "outputs": [],
   "source": [
    "pheno <- pheno %>%\n",
    "    filter(!is.na(p30690_i0_Cholesterol_mmol_L)) %>%\n",
    "    filter(!is.na(p30780_i0_LDL_direct_mmol_L)) %>%\n",
    "    filter(!is.na(p30760_i0_HDL_cholesterol_mmol_L)) %>%\n",
    "    filter(!is.na(p30870_i0_Triglycerides_mmol_L))"
   ]
  },
  {
   "cell_type": "code",
   "execution_count": null,
   "metadata": {},
   "outputs": [],
   "source": [
    "nrow(pheno)"
   ]
  },
  {
   "cell_type": "markdown",
   "metadata": {},
   "source": [
    "Convert from mmol/L to mg/dL. Formula is from https://www.ncbi.nlm.nih.gov/books/NBK83505/"
   ]
  },
  {
   "cell_type": "code",
   "execution_count": null,
   "metadata": {},
   "outputs": [],
   "source": [
    "pheno <- pheno %>%\n",
    "    mutate(\n",
    "        Total_cholesterol_mg_dl = p30690_i0_Cholesterol_mmol_L * 38.67,\n",
    "        LDL_mg_dl = p30780_i0_LDL_direct_mmol_L * 38.67,\n",
    "        HDL_cholesterol_mg_dl = p30760_i0_HDL_cholesterol_mmol_L * 38.67,\n",
    "        Triglycerides_mg_dl = p30870_i0_Triglycerides_mmol_L * 88.57\n",
    "    )"
   ]
  },
  {
   "cell_type": "markdown",
   "metadata": {},
   "source": [
    "1.\tLDL adjustment based on TG/LDL values \n",
    "  1.\t`If TG > 400, then LDL = NA`\n",
    "  2.\t`If LDL < 10, then LDL = NA`\n",
    "2.\tLDL and TC adjustment based on Statin (Lipid lowering medication)\n",
    "  1.\t`If STATIN is used, LDL_ADJ = LDL/0.7`\n",
    "  2.\t`If STATIN is used, TOTAL_ADJ = TC/0.8`\n",
    "3.\tTG adjustment\n",
    "  1.\t`TG_LOG = log(TG)`"
   ]
  },
  {
   "cell_type": "code",
   "execution_count": null,
   "metadata": {},
   "outputs": [],
   "source": [
    "pheno <- pheno %>%\n",
    "    mutate(\n",
    "        LDL_adj_mg_dl = case_when(\n",
    "            Triglycerides_mg_dl > 400 ~ NA_real_,\n",
    "            LDL_mg_dl < 10 ~ NA_real_,\n",
    "            statin_use == 1 ~ LDL_mg_dl / 0.7,\n",
    "            TRUE ~ LDL_mg_dl\n",
    "        ),\n",
    "        Total_cholesterol_adj_mg_dl = ifelse(statin_use == 1, Total_cholesterol_mg_dl / 0.8, Total_cholesterol_mg_dl),\n",
    "        Triglycerides_log_mg_dl = log(Triglycerides_mg_dl)\n",
    "    )"
   ]
  },
  {
   "cell_type": "code",
   "execution_count": null,
   "metadata": {},
   "outputs": [],
   "source": [
    "pheno_long <- pheno %>%\n",
    "    select(eid, age, age2, p31_Sex, ends_with('mg_dl')) %>%\n",
    "    pivot_longer(\n",
    "        cols = ends_with('mg_dl'),\n",
    "        names_to = c('measurement'),\n",
    "        names_pattern = '(.*)_mg_dl',\n",
    "        values_to = 'mg_dl')"
   ]
  },
  {
   "cell_type": "code",
   "execution_count": null,
   "metadata": {},
   "outputs": [],
   "source": [
    "pheno_long %>%\n",
    "    group_by(measurement) %>%\n",
    "    summarize(\n",
    "        count = n(),\n",
    "        missing = sum(is.na(mg_dl)),\n",
    "        median = median(mg_dl, na.rm = TRUE),\n",
    "        mean = mean(mg_dl, na.rm = TRUE),\n",
    "        stddev = sd(mg_dl, na.rm = TRUE)\n",
    "    )"
   ]
  },
  {
   "cell_type": "code",
   "execution_count": null,
   "metadata": {},
   "outputs": [],
   "source": [
    "options(repr.plot.height = 24, repr.plot.width = 16)\n",
    "\n",
    "pheno_long %>%\n",
    "    ggplot(aes(x = cut_width(age, width = 15, boundary = 0), y = mg_dl)) +\n",
    "    geom_boxplot() +\n",
    "    stat_summary(fun.data = get_boxplot_fun_data, geom = 'text', size = 4,\n",
    "                 position = position_dodge(width = 0.9), vjust = -0.8) +\n",
    "    scale_y_continuous(breaks = scales::pretty_breaks(n = 10)) +\n",
    "#    scale_y_log10(breaks = scales::pretty_breaks(n = 10)) +  # Uncomment if the data looks skewed.\n",
    "    coord_flip() +\n",
    "    facet_wrap(~ measurement, nrow = length(unique(pheno_long$measurement)), scales = 'free_x') +\n",
    "    xlab('age') +\n",
    "    labs(title = str_glue('Instance 0 measurement per person, by age'),\n",
    "         caption = 'Source: UK Biobank data')"
   ]
  },
  {
   "cell_type": "markdown",
   "metadata": {},
   "source": [
    "# Retain only participants with data in the 200k WES release"
   ]
  },
  {
   "cell_type": "code",
   "execution_count": null,
   "metadata": {},
   "outputs": [],
   "source": [
    "nrow(pheno)"
   ]
  },
  {
   "cell_type": "code",
   "execution_count": null,
   "metadata": {},
   "outputs": [],
   "source": [
    "pheno <- inner_join(pheno, eid_to_sampleid, by = c('eid' = 'eid_7089'))\n",
    "\n",
    "# TODO add PCs"
   ]
  },
  {
   "cell_type": "code",
   "execution_count": null,
   "metadata": {},
   "outputs": [],
   "source": [
    "skim(eid_to_sampleid)"
   ]
  },
  {
   "cell_type": "code",
   "execution_count": null,
   "metadata": {},
   "outputs": [],
   "source": [
    "nrow(pheno)"
   ]
  },
  {
   "cell_type": "markdown",
   "metadata": {},
   "source": [
    "## Normalize lipids values"
   ]
  },
  {
   "cell_type": "markdown",
   "metadata": {},
   "source": [
    "4.\tCalculation of residuals – residuals calculated by adjusting for covariates \n",
    "  1.\tresidual calculation Example for LDL: `tmp.ldl$LDL_ADJ.resid <- resid(lm(LDL_ADJ ~ sex+age+age2+PC1+PC2+PC3+PC4+PC5+PC6+PC7+PC8+PC9+PC10+PC11, data = tmp.ldl))`\n",
    "5.\tnormalization Example for LDL: `tmp.ldl$LDL_ADJ.norm <- sd(tmp.ldl$LDL_ADJ)*scale(qnorm((rank(tmp.ldl$LDL_ADJ.resid,na.last=\"keep\")-0.5)/length(tmp.ldl$LDL_ADJ.resid)))`"
   ]
  },
  {
   "cell_type": "markdown",
   "metadata": {},
   "source": [
    "# Provenance "
   ]
  },
  {
   "cell_type": "code",
   "execution_count": null,
   "metadata": {},
   "outputs": [],
   "source": [
    "devtools::session_info()"
   ]
  },
  {
   "cell_type": "code",
   "execution_count": null,
   "metadata": {},
   "outputs": [],
   "source": []
  }
 ],
 "metadata": {
  "kernelspec": {
   "display_name": "R",
   "language": "R",
   "name": "ir"
  },
  "language_info": {
   "codemirror_mode": "r",
   "file_extension": ".r",
   "mimetype": "text/x-r-source",
   "name": "R",
   "pygments_lexer": "r",
   "version": "3.6.3"
  }
 },
 "nbformat": 4,
 "nbformat_minor": 4
}

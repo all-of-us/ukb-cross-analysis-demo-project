{
 "cells": [
  {
   "cell_type": "markdown",
   "metadata": {},
   "source": [
    "# Merge variants"
   ]
  },
  {
   "cell_type": "markdown",
   "metadata": {},
   "source": [
    "In this notebook, we practice merging a small number of AoU and UKB variants"
   ]
  },
  {
   "cell_type": "markdown",
   "metadata": {},
   "source": [
    "# Setup "
   ]
  },
  {
   "cell_type": "code",
   "execution_count": null,
   "metadata": {},
   "outputs": [],
   "source": [
    "from datetime import datetime\n",
    "import hail as hl\n",
    "import os\n",
    "import time"
   ]
  },
  {
   "cell_type": "markdown",
   "metadata": {},
   "source": [
    "## Define constants"
   ]
  },
  {
   "cell_type": "markdown",
   "metadata": {},
   "source": [
    "<div class=\"alert alert-block alert-info\">\n",
    "<b>Note:</b> The AoU matrix table for the alpha1 release was created via notebook 'Hail Demo' and then moved to a better place within the workspace bucket. It contains all samples and variants for the alpha1 release.\n",
    "</div>"
   ]
  },
  {
   "cell_type": "code",
   "execution_count": null,
   "metadata": {},
   "outputs": [],
   "source": [
    "AOU_MT = f'{os.getenv(\"WORKSPACE_BUCKET\")}/data/aou/alpha1/cohort.mt'"
   ]
  },
  {
   "cell_type": "markdown",
   "metadata": {},
   "source": [
    "<div class=\"alert alert-block alert-info\">\n",
    "<b>Note:</b> The UKB matrix table was created via notebook 'create_matrix_tables'. It contains data for all samples within region <kbd>chr21:10M-chr21:20M</kbd>.\n",
    "</div>"
   ]
  },
  {
   "cell_type": "code",
   "execution_count": null,
   "metadata": {},
   "outputs": [],
   "source": [
    "UKB_MT = f'{os.getenv(\"WORKSPACE_BUCKET\")}/data/ukb/exomes/cohort_chr21.mt'"
   ]
  },
  {
   "cell_type": "code",
   "execution_count": null,
   "metadata": {},
   "outputs": [],
   "source": [
    "EXOME_REGIONS = f'{os.getenv(\"WORKSPACE_BUCKET\")}/data/ukb/exomes/xgen_plus_spikein.GRCh38.bed'"
   ]
  },
  {
   "cell_type": "code",
   "execution_count": null,
   "metadata": {},
   "outputs": [],
   "source": [
    "RESULT_BUCKET = os.getenv(\"WORKSPACE_BUCKET\")\n",
    "DATESTAMP = time.strftime('%Y%m%d')\n",
    "TIMESTAMP = time.strftime('%Y%m%d_%H%M%S')\n",
    "WORK_DIR = !pwd\n",
    "\n",
    "# Outputs\n",
    "MERGED_MT = f'{os.getenv(\"WORKSPACE_BUCKET\")}/data/merged/{DATESTAMP}/merged.mt'\n",
    "AOU_ONLY_MT = f'{os.getenv(\"WORKSPACE_BUCKET\")}/data/merged/{DATESTAMP}/aou_only.mt'\n",
    "UKB_ONLY_MT = f'{os.getenv(\"WORKSPACE_BUCKET\")}/data/merged/{DATESTAMP}/ukb_only.mt'\n",
    "HAIL_LOG = f'{WORK_DIR[0]}/hail-merge-variants-{TIMESTAMP}.log'"
   ]
  },
  {
   "cell_type": "markdown",
   "metadata": {},
   "source": [
    "## Check access"
   ]
  },
  {
   "cell_type": "code",
   "execution_count": null,
   "metadata": {},
   "outputs": [],
   "source": [
    "!gsutil ls {AOU_MT}"
   ]
  },
  {
   "cell_type": "code",
   "execution_count": null,
   "metadata": {},
   "outputs": [],
   "source": [
    "!gsutil ls {UKB_MT}"
   ]
  },
  {
   "cell_type": "markdown",
   "metadata": {},
   "source": [
    "## Start Hail "
   ]
  },
  {
   "cell_type": "code",
   "execution_count": null,
   "metadata": {},
   "outputs": [],
   "source": [
    "EXTRA_SPARK_CONFIG = {\n",
    "    'spark.driver.extraJavaOptions': '-Xss4M',\n",
    "    'spark.driver.maxResultSize': '50G',\n",
    "    'spark.driver.memory': '90G',\n",
    "    'spark.executor.extraJavaOptions': '-Xss4M',\n",
    "    'spark.kryoserializer.buffer.max': '1G',\n",
    "    'spark.memory.fraction': '0.33',\n",
    "    'spark.network.timeout': '300',\n",
    "    'spark.speculation': 'true',\n",
    "    'spark.speculation.quantile': '0.95',\n",
    "    'spark.task.maxFailures': '20'\n",
    "}"
   ]
  },
  {
   "cell_type": "code",
   "execution_count": null,
   "metadata": {},
   "outputs": [],
   "source": [
    "hl.init(spark_conf=EXTRA_SPARK_CONFIG,\n",
    "        min_block_size=50,\n",
    "        default_reference='GRCh38',\n",
    "        log=HAIL_LOG)"
   ]
  },
  {
   "cell_type": "markdown",
   "metadata": {},
   "source": [
    "# Load exome capture regions"
   ]
  },
  {
   "cell_type": "code",
   "execution_count": null,
   "metadata": {},
   "outputs": [],
   "source": [
    "ukb_exome_capture_regions = hl.import_bed(EXOME_REGIONS)"
   ]
  },
  {
   "cell_type": "code",
   "execution_count": null,
   "metadata": {},
   "outputs": [],
   "source": [
    "ukb_exome_capture_regions.describe()"
   ]
  },
  {
   "cell_type": "code",
   "execution_count": null,
   "metadata": {},
   "outputs": [],
   "source": [
    "ukb_exome_capture_regions.show(5)"
   ]
  },
  {
   "cell_type": "markdown",
   "metadata": {},
   "source": [
    "## Temporary - limit to a small subset of chr_21¶ "
   ]
  },
  {
   "cell_type": "code",
   "execution_count": null,
   "metadata": {},
   "outputs": [],
   "source": [
    "chr21_interval = hl.parse_locus_interval(\"chr21:10M-chr22:11M\")"
   ]
  },
  {
   "cell_type": "code",
   "execution_count": null,
   "metadata": {},
   "outputs": [],
   "source": [
    "ukb_exome_capture_regions = ukb_exome_capture_regions.filter(\n",
    "    chr21_interval.overlaps(ukb_exome_capture_regions.interval))"
   ]
  },
  {
   "cell_type": "code",
   "execution_count": null,
   "metadata": {},
   "outputs": [],
   "source": [
    "ukb_exome_capture_regions.show(5)"
   ]
  },
  {
   "cell_type": "markdown",
   "metadata": {},
   "source": [
    "# Read AoU matrix table"
   ]
  },
  {
   "cell_type": "code",
   "execution_count": null,
   "metadata": {},
   "outputs": [],
   "source": [
    "aou_wgs = hl.read_matrix_table(AOU_MT)"
   ]
  },
  {
   "cell_type": "code",
   "execution_count": null,
   "metadata": {},
   "outputs": [],
   "source": [
    "aou_wgs.describe()"
   ]
  },
  {
   "cell_type": "code",
   "execution_count": null,
   "metadata": {},
   "outputs": [],
   "source": [
    "aou_wgs = aou_wgs.filter_rows(\n",
    "    hl.is_defined(ukb_exome_capture_regions[aou_wgs.locus]))"
   ]
  },
  {
   "cell_type": "code",
   "execution_count": null,
   "metadata": {},
   "outputs": [],
   "source": [
    "aou_wgs.count()"
   ]
  },
  {
   "cell_type": "code",
   "execution_count": null,
   "metadata": {},
   "outputs": [],
   "source": [
    "hl.summarize_variants(aou_wgs)"
   ]
  },
  {
   "cell_type": "markdown",
   "metadata": {},
   "source": [
    "# Read UKB exomes matrix table"
   ]
  },
  {
   "cell_type": "code",
   "execution_count": null,
   "metadata": {},
   "outputs": [],
   "source": [
    "ukb_exomes = hl.read_matrix_table(UKB_MT)"
   ]
  },
  {
   "cell_type": "code",
   "execution_count": null,
   "metadata": {},
   "outputs": [],
   "source": [
    "ukb_exomes.describe()"
   ]
  },
  {
   "cell_type": "code",
   "execution_count": null,
   "metadata": {},
   "outputs": [],
   "source": [
    "ukb_exomes = ukb_exomes.filter_rows(\n",
    "    hl.is_defined(ukb_exome_capture_regions[ukb_exomes.locus]))"
   ]
  },
  {
   "cell_type": "code",
   "execution_count": null,
   "metadata": {},
   "outputs": [],
   "source": [
    "ukb_exomes.count()"
   ]
  },
  {
   "cell_type": "code",
   "execution_count": null,
   "metadata": {},
   "outputs": [],
   "source": [
    "hl.summarize_variants(ukb_exomes)"
   ]
  },
  {
   "cell_type": "markdown",
   "metadata": {},
   "source": [
    "# Examine the data"
   ]
  },
  {
   "cell_type": "markdown",
   "metadata": {},
   "source": [
    "## Are the row keys unique?\n",
    "\n",
    "We expect them to be unique in these two joint-called datasets!\n",
    "\n",
    "**Answer**: yes"
   ]
  },
  {
   "cell_type": "code",
   "execution_count": null,
   "metadata": {},
   "outputs": [],
   "source": [
    "aou_row_key_counts = aou_wgs.rows().group_by(*aou_wgs.row_key).aggregate(n = hl.agg.count())"
   ]
  },
  {
   "cell_type": "code",
   "execution_count": null,
   "metadata": {},
   "outputs": [],
   "source": [
    "aou_row_key_counts.filter(aou_row_key_counts.n > 1).count()"
   ]
  },
  {
   "cell_type": "code",
   "execution_count": null,
   "metadata": {},
   "outputs": [],
   "source": [
    "ukb_row_key_counts = ukb_exomes.rows().group_by(*ukb_exomes.row_key).aggregate(n = hl.agg.count())"
   ]
  },
  {
   "cell_type": "code",
   "execution_count": null,
   "metadata": {},
   "outputs": [],
   "source": [
    "ukb_row_key_counts.filter(ukb_row_key_counts.n > 1).count()"
   ]
  },
  {
   "cell_type": "markdown",
   "metadata": {},
   "source": [
    "## Are the loci unique?\n",
    "\n",
    "**Answer**: yes for AoU, no for UKB"
   ]
  },
  {
   "cell_type": "code",
   "execution_count": null,
   "metadata": {},
   "outputs": [],
   "source": [
    "aou_loci_counts = aou_wgs.aggregate_rows(hl.agg.group_by(aou_wgs.locus, hl.agg.count()))"
   ]
  },
  {
   "cell_type": "code",
   "execution_count": null,
   "metadata": {},
   "outputs": [],
   "source": [
    "aou_duplicate_loci = {k:v for k, v in aou_loci_counts.items() if v > 1}\n",
    "aou_duplicate_loci"
   ]
  },
  {
   "cell_type": "code",
   "execution_count": null,
   "metadata": {},
   "outputs": [],
   "source": [
    "ukb_loci_counts = ukb_exomes.aggregate_rows(hl.agg.group_by(ukb_exomes.locus, hl.agg.count()))"
   ]
  },
  {
   "cell_type": "code",
   "execution_count": null,
   "metadata": {},
   "outputs": [],
   "source": [
    "ukb_duplicate_loci = {k:v for k, v in ukb_loci_counts.items() if v > 1}\n",
    "ukb_duplicate_loci"
   ]
  },
  {
   "cell_type": "code",
   "execution_count": null,
   "metadata": {},
   "outputs": [],
   "source": [
    "ukb_exomes.filter_rows(ukb_exomes.locus == list(ukb_duplicate_loci.keys())[0]).show()"
   ]
  },
  {
   "cell_type": "code",
   "execution_count": null,
   "metadata": {},
   "outputs": [],
   "source": [
    "ukb_exomes.filter_rows(ukb_exomes.locus == list(ukb_duplicate_loci.keys())[1]).show()"
   ]
  },
  {
   "cell_type": "code",
   "execution_count": null,
   "metadata": {},
   "outputs": [],
   "source": [
    "ukb_exomes.filter_rows(ukb_exomes.locus == list(ukb_duplicate_loci.keys())[2]).show()"
   ]
  },
  {
   "cell_type": "raw",
   "metadata": {},
   "source": [
    "# TODO(deflaux) find the right way to look up all of these at once.\n",
    "# These approaches are not correct. Must we define an interval from each locus?\n",
    "\n",
    "ukb_exomes.filter_rows(ukb_exomes.locus in list(ukb_duplicate_loci.keys())).show()\n",
    "\n",
    "ukb_exomes.filter_rows(hl.is_defined(hl.find(ukb_exomes.locus, list(ukb_duplicate_loci.keys())))).show()"
   ]
  },
  {
   "cell_type": "markdown",
   "metadata": {},
   "source": [
    "## What is the ratio of multi-allelic to bi-allelic sites?\n",
    "\n",
    "**Answer**: about 3% for AoU and 9% for UKB"
   ]
  },
  {
   "cell_type": "code",
   "execution_count": null,
   "metadata": {},
   "outputs": [],
   "source": [
    "aou_bi = aou_wgs.filter_rows(hl.len(aou_wgs.alleles) <= 2)"
   ]
  },
  {
   "cell_type": "code",
   "execution_count": null,
   "metadata": {},
   "outputs": [],
   "source": [
    "aou_bi_count = aou_bi.count_rows()\n",
    "aou_bi_count"
   ]
  },
  {
   "cell_type": "code",
   "execution_count": null,
   "metadata": {},
   "outputs": [],
   "source": [
    "aou_multi = aou_wgs.filter_rows(hl.len(aou_wgs.alleles) > 2)"
   ]
  },
  {
   "cell_type": "code",
   "execution_count": null,
   "metadata": {},
   "outputs": [],
   "source": [
    "aou_multi_count = aou_multi.count_rows()\n",
    "aou_multi_count"
   ]
  },
  {
   "cell_type": "code",
   "execution_count": null,
   "metadata": {},
   "outputs": [],
   "source": [
    "aou_multi_count / (aou_multi_count + aou_bi_count)"
   ]
  },
  {
   "cell_type": "code",
   "execution_count": null,
   "metadata": {},
   "outputs": [],
   "source": [
    "ukb_bi = ukb_exomes.filter_rows(hl.len(ukb_exomes.alleles) <= 2)"
   ]
  },
  {
   "cell_type": "code",
   "execution_count": null,
   "metadata": {},
   "outputs": [],
   "source": [
    "ukb_bi_count = ukb_bi.count_rows()\n",
    "ukb_bi_count"
   ]
  },
  {
   "cell_type": "code",
   "execution_count": null,
   "metadata": {},
   "outputs": [],
   "source": [
    "ukb_multi = ukb_exomes.filter_rows(hl.len(ukb_exomes.alleles) > 2)"
   ]
  },
  {
   "cell_type": "code",
   "execution_count": null,
   "metadata": {},
   "outputs": [],
   "source": [
    "ukb_multi_count = ukb_multi.count_rows()\n",
    "ukb_multi_count"
   ]
  },
  {
   "cell_type": "code",
   "execution_count": null,
   "metadata": {},
   "outputs": [],
   "source": [
    "ukb_multi_count / (ukb_multi_count + ukb_bi_count)"
   ]
  },
  {
   "cell_type": "code",
   "execution_count": null,
   "metadata": {},
   "outputs": [],
   "source": [
    "aou_multi.rows().show(20)"
   ]
  },
  {
   "cell_type": "code",
   "execution_count": null,
   "metadata": {},
   "outputs": [],
   "source": [
    "ukb_multi.rows().show(20)"
   ]
  },
  {
   "cell_type": "markdown",
   "metadata": {},
   "source": [
    "## Is the highest frequency allele always first?\n",
    "\n",
    "**Answer:** no for AoU, yes for UKB"
   ]
  },
  {
   "cell_type": "code",
   "execution_count": null,
   "metadata": {},
   "outputs": [],
   "source": [
    "aou_wgs.aggregate_rows(hl.agg.sum(hl.max(aou_wgs.info.AF) != aou_wgs.info.AF[0]))"
   ]
  },
  {
   "cell_type": "code",
   "execution_count": null,
   "metadata": {},
   "outputs": [],
   "source": [
    "ukb_exomes.aggregate_rows(hl.agg.sum(hl.max(ukb_exomes.info.AF) != ukb_exomes.info.AF[0]))"
   ]
  },
  {
   "cell_type": "markdown",
   "metadata": {},
   "source": [
    "# Omit samples that fail QC thresholds\n",
    "\n",
    "TODO"
   ]
  },
  {
   "cell_type": "markdown",
   "metadata": {},
   "source": [
    "# Omit variants that fail QC thresholds\n",
    "\n",
    "TODO"
   ]
  },
  {
   "cell_type": "markdown",
   "metadata": {},
   "source": [
    "# Perform the merge"
   ]
  },
  {
   "cell_type": "markdown",
   "metadata": {},
   "source": [
    "## Split the multi-allelic sites\n",
    "\n",
    "See also https://hail.is/docs/0.2/methods/genetics.html#hail.methods.split_multi_hts"
   ]
  },
  {
   "cell_type": "code",
   "execution_count": null,
   "metadata": {},
   "outputs": [],
   "source": [
    "# For efficiency, do no pass the biallelic variants to the split method, just add the corresponding annotations.\n",
    "aou_bi = aou_wgs.filter_rows(hl.len(aou_wgs.alleles) == 2)\n",
    "aou_bi = aou_bi.annotate_rows(a_index = 1)\n",
    "aou_bi = aou_bi.annotate_rows(was_split = False)\n",
    "\n",
    "# Split the multi-allelic sites into biallelic sites.\n",
    "aou_multi = aou_wgs.filter_rows(hl.len(aou_wgs.alleles) > 2)\n",
    "aou_split = hl.split_multi_hts(aou_multi,\n",
    "                               keep_star=False,\n",
    "                               left_aligned=False,\n",
    "                               vep_root='vep',\n",
    "                               permit_shuffle=False)\n",
    "\n",
    "# Union the two collections and include only the row and entry fields that are needed.\n",
    "aou_prepared = aou_split.union_rows(aou_bi)\n",
    "aou_prepared = aou_prepared.annotate_cols(cohort='aou')\n",
    "aou_prepared = aou_prepared.select_entries(aou_prepared.GT)\n",
    "aou_prepared = aou_prepared.select_rows(aou_qual=aou_prepared.qual,\n",
    "                                        aou_filters=aou_prepared.filters,\n",
    "                                        aou_info=aou_prepared.info,\n",
    "                                        aou_a_index = aou_prepared.a_index,\n",
    "                                        aou_was_split=aou_prepared.was_split,\n",
    "                                       )\n",
    "\n",
    "aou_prepared.describe()"
   ]
  },
  {
   "cell_type": "code",
   "execution_count": null,
   "metadata": {},
   "outputs": [],
   "source": [
    "aou_prepared.count_rows()"
   ]
  },
  {
   "cell_type": "code",
   "execution_count": null,
   "metadata": {},
   "outputs": [],
   "source": [
    "# For efficiency, do no pass the biallelic variants to the split method, just add the corresponding annotations.\n",
    "ukb_bi = ukb_exomes.filter_rows(hl.len(ukb_exomes.alleles) == 2)\n",
    "ukb_bi = ukb_bi.annotate_rows(a_index = 1)\n",
    "ukb_bi = ukb_bi.annotate_rows(was_split = False)\n",
    "\n",
    "# Split the multi-allelic sites into biallelic sites.\n",
    "ukb_multi = ukb_exomes.filter_rows(hl.len(ukb_exomes.alleles) > 2)\n",
    "ukb_split = hl.split_multi_hts(ukb_multi,\n",
    "                               keep_star=False,\n",
    "                               left_aligned=False,\n",
    "                               vep_root='vep',\n",
    "                               permit_shuffle=False)\n",
    "\n",
    "# Union the two collections and include only the row and entry fields that are needed.\n",
    "ukb_prepared = ukb_split.union_rows(ukb_bi)\n",
    "ukb_prepared = ukb_prepared.annotate_cols(cohort='ukb')\n",
    "ukb_prepared = ukb_prepared.select_entries(ukb_prepared.GT)\n",
    "ukb_prepared = ukb_prepared.select_rows(ukb_qual=ukb_prepared.qual,\n",
    "                                        ukb_filters=ukb_prepared.filters,\n",
    "                                        ukb_info=ukb_prepared.info,\n",
    "                                        ukb_a_index = ukb_prepared.a_index,\n",
    "                                        ukb_was_split=ukb_prepared.was_split,\n",
    "                                       )\n",
    "\n",
    "ukb_prepared.describe()"
   ]
  },
  {
   "cell_type": "code",
   "execution_count": null,
   "metadata": {},
   "outputs": [],
   "source": [
    "ukb_prepared.count_rows()"
   ]
  },
  {
   "cell_type": "markdown",
   "metadata": {},
   "source": [
    "## Compute the intersection"
   ]
  },
  {
   "cell_type": "code",
   "execution_count": null,
   "metadata": {},
   "outputs": [],
   "source": [
    "start = datetime.now()\n",
    "print(start)"
   ]
  },
  {
   "cell_type": "code",
   "execution_count": null,
   "metadata": {},
   "outputs": [],
   "source": [
    "intersection = aou_prepared.union_cols(ukb_prepared)"
   ]
  },
  {
   "cell_type": "code",
   "execution_count": null,
   "metadata": {},
   "outputs": [],
   "source": [
    "intersection.write(MERGED_MT, overwrite=True)"
   ]
  },
  {
   "cell_type": "code",
   "execution_count": null,
   "metadata": {},
   "outputs": [],
   "source": [
    "intersection.rows().show(10)"
   ]
  },
  {
   "cell_type": "markdown",
   "metadata": {},
   "source": [
    "## Compute AoU - UKB\n",
    "\n",
    "TODO(deflaux) retain all row fields for this extract."
   ]
  },
  {
   "cell_type": "code",
   "execution_count": null,
   "metadata": {},
   "outputs": [],
   "source": [
    "aou_only = aou_prepared.rows().anti_join(ukb_prepared.rows())"
   ]
  },
  {
   "cell_type": "code",
   "execution_count": null,
   "metadata": {},
   "outputs": [],
   "source": [
    "aou_only.write(AOU_ONLY_MT, overwrite=True)"
   ]
  },
  {
   "cell_type": "markdown",
   "metadata": {},
   "source": [
    "## Compute UKB - AoU"
   ]
  },
  {
   "cell_type": "code",
   "execution_count": null,
   "metadata": {},
   "outputs": [],
   "source": [
    "ukb_only = ukb_prepared.rows().anti_join(aou_prepared.rows())"
   ]
  },
  {
   "cell_type": "code",
   "execution_count": null,
   "metadata": {},
   "outputs": [],
   "source": [
    "ukb_only.write(UKB_ONLY_MT, overwrite=True)"
   ]
  },
  {
   "cell_type": "markdown",
   "metadata": {},
   "source": [
    "## TODO: in a separate notebook, we should see that\n",
    "\n",
    "we have retained common variants and dropped rare variants\n",
    "\n",
    "also check for very common variants according to gnomad for the same region, they should be in the intersection"
   ]
  },
  {
   "cell_type": "code",
   "execution_count": null,
   "metadata": {},
   "outputs": [],
   "source": [
    "end = datetime.now()\n",
    "print(end)\n",
    "print(end - start)"
   ]
  },
  {
   "cell_type": "markdown",
   "metadata": {},
   "source": [
    "# Appendix\n",
    "\n",
    "extra cells that are useful"
   ]
  },
  {
   "cell_type": "code",
   "execution_count": null,
   "metadata": {},
   "outputs": [],
   "source": [
    "start = datetime.now()\n",
    "print(start)"
   ]
  },
  {
   "cell_type": "code",
   "execution_count": null,
   "metadata": {},
   "outputs": [],
   "source": [
    "end = datetime.now()\n",
    "print(end)\n",
    "print(end - start)"
   ]
  },
  {
   "cell_type": "markdown",
   "metadata": {},
   "source": [
    "# Provenance"
   ]
  },
  {
   "cell_type": "code",
   "execution_count": null,
   "metadata": {},
   "outputs": [],
   "source": [
    "print(datetime.now())"
   ]
  },
  {
   "cell_type": "code",
   "execution_count": null,
   "metadata": {},
   "outputs": [],
   "source": [
    "!pip3 freeze"
   ]
  }
 ],
 "metadata": {
  "kernelspec": {
   "display_name": "Python 3",
   "language": "python",
   "name": "python3"
  },
  "language_info": {
   "codemirror_mode": {
    "name": "ipython",
    "version": 3
   },
   "file_extension": ".py",
   "mimetype": "text/x-python",
   "name": "python",
   "nbconvert_exporter": "python",
   "pygments_lexer": "ipython3",
   "version": "3.7.10"
  },
  "toc": {
   "base_numbering": 1,
   "nav_menu": {},
   "number_sections": true,
   "sideBar": true,
   "skip_h1_title": false,
   "title_cell": "Table of Contents",
   "title_sidebar": "Contents",
   "toc_cell": false,
   "toc_position": {
    "height": "calc(100% - 180px)",
    "left": "10px",
    "top": "150px",
    "width": "258.182px"
   },
   "toc_section_display": true,
   "toc_window_display": true
  }
 },
 "nbformat": 4,
 "nbformat_minor": 2
}

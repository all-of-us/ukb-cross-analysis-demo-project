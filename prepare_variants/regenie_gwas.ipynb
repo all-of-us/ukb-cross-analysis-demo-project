{
 "cells": [
  {
   "cell_type": "markdown",
   "metadata": {},
   "source": [
    "# Run a GWAS via regenie\n",
    "\n",
    "In this notebook, we perform a genome-wide association study using [regenie](https://rgcgithub.github.io/regenie/) via [dsub](https://github.com/databiosphere/dsub)."
   ]
  },
  {
   "cell_type": "markdown",
   "metadata": {},
   "source": [
    "# Setup "
   ]
  },
  {
   "cell_type": "code",
   "execution_count": null,
   "metadata": {},
   "outputs": [],
   "source": [
    "from datetime import datetime\n",
    "import os\n",
    "import pandas as pd\n",
    "import time"
   ]
  },
  {
   "cell_type": "markdown",
   "metadata": {},
   "source": [
    "## Setup plink2\n",
    "\n",
    "https://www.cog-genomics.org/plink/2.0/"
   ]
  },
  {
   "cell_type": "code",
   "execution_count": null,
   "metadata": {},
   "outputs": [],
   "source": [
    "%%bash\n",
    "\n",
    "##### plink 2 install\n",
    "PLINK_VERSION=2.3.Alpha\n",
    "PLINK_ZIP_PATH=/tmp/plink-$PLINK_VERSION.zip\n",
    "curl -L -o $PLINK_ZIP_PATH https://s3.amazonaws.com/plink2-assets/alpha2/plink2_linux_x86_64.zip\n",
    "mkdir -p /tmp/plink2/\n",
    "unzip -o $PLINK_ZIP_PATH -d /tmp/plink2/"
   ]
  },
  {
   "cell_type": "code",
   "execution_count": null,
   "metadata": {},
   "outputs": [],
   "source": [
    "!/tmp/plink2/plink2 --version # --help"
   ]
  },
  {
   "cell_type": "markdown",
   "metadata": {},
   "source": [
    "## Setup regenie\n",
    "\n",
    "Note: regenie is already installed locally by default.\n",
    "\n",
    "For longer-running jobs we will run it via dsub. regenie is installed in Docker image `briansha/regenie:v2.0.1_boost`."
   ]
  },
  {
   "cell_type": "code",
   "execution_count": null,
   "metadata": {},
   "outputs": [],
   "source": [
    "!regenie --version # --help"
   ]
  },
  {
   "cell_type": "markdown",
   "metadata": {},
   "source": [
    "## Setup dsub\n",
    "\n",
    "<div class=\"alert alert-block alert-warning\">\n",
    "    <b>Cloud Environment</b>: This notebook was written for use on the All of Us Workbench. It runs fine on the default Cloud Environment. \n",
    "</div>"
   ]
  },
  {
   "cell_type": "code",
   "execution_count": null,
   "metadata": {},
   "outputs": [],
   "source": [
    "!pip3 install --upgrade dsub"
   ]
  },
  {
   "cell_type": "code",
   "execution_count": null,
   "metadata": {},
   "outputs": [],
   "source": [
    "!dsub --version # --help"
   ]
  },
  {
   "cell_type": "code",
   "execution_count": null,
   "metadata": {},
   "outputs": [],
   "source": [
    "%%bash\n",
    "\n",
    "gcloud auth list"
   ]
  },
  {
   "cell_type": "markdown",
   "metadata": {},
   "source": [
    "<div class=\"alert alert-block alert-warning\">\n",
    "    <b>Note:</b> (1) You must use your own PET account. (2) Your PET account has to be granted access to run itself as a service account.\n",
    "</div>"
   ]
  },
  {
   "cell_type": "markdown",
   "metadata": {},
   "source": [
    "## Setup bgen_reader"
   ]
  },
  {
   "cell_type": "code",
   "execution_count": null,
   "metadata": {},
   "outputs": [],
   "source": [
    "!pip3 install bgen-reader"
   ]
  },
  {
   "cell_type": "markdown",
   "metadata": {},
   "source": [
    "## Define constants"
   ]
  },
  {
   "cell_type": "markdown",
   "metadata": {},
   "source": [
    "The BGEN file created via `write_bgen_20210719_172314.ipynb`. To be determined whether it is in the correct format for regenie.\n",
    "\n",
    "Note that Brian successfully created a BGEN for regenie using this command:\n",
    "`./plink2 --bfile 'MEGA_data_common_filtered_final' --chr 1-22 --export bgen-1.2 bits=8  --out 'MEGA_data_common_filtered_final_chr1_22'`"
   ]
  },
  {
   "cell_type": "code",
   "execution_count": null,
   "metadata": {},
   "outputs": [],
   "source": [
    "REMOTE_MERGED_BGEN = 'gs://fc-secure-fd6786bf-6c28-4f33-ac30-3860fbeee5bb/data/merged/20210805/ukb-aou-alpha1-chr1-chr22.bgen'\n",
    "REMOTE_MERGED_BGEN_SAMPLE = 'gs://fc-secure-fd6786bf-6c28-4f33-ac30-3860fbeee5bb/data/merged/20210805/ukb-aou-alpha1-chr1-chr22.sample'\n",
    "\n",
    "LOCAL_MERGED_BGEN = os.path.basename(REMOTE_MERGED_BGEN)\n",
    "LOCAL_MERGED_BGEN_SAMPLE = os.path.basename(REMOTE_MERGED_BGEN_SAMPLE)"
   ]
  },
  {
   "cell_type": "markdown",
   "metadata": {},
   "source": [
    "These TSVs were created via notebook `AOU_UKB_phenotype_refined.ipynb`."
   ]
  },
  {
   "cell_type": "code",
   "execution_count": null,
   "metadata": {},
   "outputs": [],
   "source": [
    "REMOTE_PHENOTYPES = [\n",
    "    'gs://fc-secure-fd6786bf-6c28-4f33-ac30-3860fbeee5bb/data/MergedData_HDL_Iteration2_ForGWAS.csv',\n",
    "    'gs://fc-secure-fd6786bf-6c28-4f33-ac30-3860fbeee5bb/data/MergedData_LDL_Iteration2_ForGWAS.csv',\n",
    "    'gs://fc-secure-fd6786bf-6c28-4f33-ac30-3860fbeee5bb/data/MergedData_TC_Iteration2_ForGWAS.csv',\n",
    "    'gs://fc-secure-fd6786bf-6c28-4f33-ac30-3860fbeee5bb/data/MergedData_TG_Iteration2_ForGWAS.csv'\n",
    "]\n",
    "\n",
    "LOCAL_PHENOTYPES = [os.path.basename(pheno) for pheno in REMOTE_PHENOTYPES]\n",
    "\n",
    "REGENIE_PHENOTYPES = 'aou_alpha1_ukb_lipids_phenotypes_and_covariates.tsv'"
   ]
  },
  {
   "cell_type": "code",
   "execution_count": null,
   "metadata": {},
   "outputs": [],
   "source": [
    "RESULT_BUCKET = os.getenv(\"WORKSPACE_BUCKET\")\n",
    "DATESTAMP = time.strftime('%Y%m%d')\n",
    "\n",
    "# Outputs\n",
    "REGENIE_OUTPUTS = f'{os.getenv(\"WORKSPACE_BUCKET\")}/data/regenie/{DATESTAMP}/'"
   ]
  },
  {
   "cell_type": "markdown",
   "metadata": {},
   "source": [
    "## Copy data locally for testing"
   ]
  },
  {
   "cell_type": "code",
   "execution_count": null,
   "metadata": {},
   "outputs": [],
   "source": [
    "!gsutil cp {REMOTE_MERGED_BGEN} {REMOTE_MERGED_BGEN_SAMPLE} .    "
   ]
  },
  {
   "cell_type": "code",
   "execution_count": null,
   "metadata": {},
   "outputs": [],
   "source": [
    "for remote_pheno_file in REMOTE_PHENOTYPES:\n",
    "    !gsutil cp {remote_pheno_file} .    "
   ]
  },
  {
   "cell_type": "markdown",
   "metadata": {},
   "source": [
    "# Reshape the phenotypes for regenie "
   ]
  },
  {
   "cell_type": "markdown",
   "metadata": {},
   "source": [
    "## Read in the four CSVs."
   ]
  },
  {
   "cell_type": "code",
   "execution_count": null,
   "metadata": {},
   "outputs": [],
   "source": [
    "raw_pheno_dfs = [pd.read_csv(local_pheno_file) for local_pheno_file in LOCAL_PHENOTYPES]"
   ]
  },
  {
   "cell_type": "code",
   "execution_count": null,
   "metadata": {},
   "outputs": [],
   "source": [
    "[p.shape for p in raw_pheno_dfs]"
   ]
  },
  {
   "cell_type": "code",
   "execution_count": null,
   "metadata": {},
   "outputs": [],
   "source": [
    "[p.columns for p in raw_pheno_dfs]"
   ]
  },
  {
   "cell_type": "code",
   "execution_count": null,
   "metadata": {},
   "outputs": [],
   "source": [
    "raw_pheno_dfs[0].dtypes"
   ]
  },
  {
   "cell_type": "markdown",
   "metadata": {},
   "source": [
    "## Join the four CSVs into a single CSV."
   ]
  },
  {
   "cell_type": "code",
   "execution_count": null,
   "metadata": {},
   "outputs": [],
   "source": [
    "index_col = ['eid', 'sampleid', 'sex', 'age', 'age2', 'pc1', 'pc2', 'pc3', 'pc4',\n",
    "             'pc5', 'pc6', 'pc7', 'pc8', 'pc9', 'pc10', 'statin', 'cohort']\n",
    "pheno_dfs = [pd.read_csv(local_pheno_file, index_col=index_col) for local_pheno_file in LOCAL_PHENOTYPES]"
   ]
  },
  {
   "cell_type": "code",
   "execution_count": null,
   "metadata": {},
   "outputs": [],
   "source": [
    "[p.shape for p in pheno_dfs]"
   ]
  },
  {
   "cell_type": "code",
   "execution_count": null,
   "metadata": {},
   "outputs": [],
   "source": [
    "[p.columns for p in pheno_dfs]"
   ]
  },
  {
   "cell_type": "code",
   "execution_count": null,
   "metadata": {},
   "outputs": [],
   "source": [
    "pheno_dfs[0].head()"
   ]
  },
  {
   "cell_type": "code",
   "execution_count": null,
   "metadata": {},
   "outputs": [],
   "source": [
    "pheno_df = pd.concat(pheno_dfs, axis=1)\n",
    "\n",
    "pheno_df.shape"
   ]
  },
  {
   "cell_type": "markdown",
   "metadata": {},
   "source": [
    "## Check the resulting dataframe."
   ]
  },
  {
   "cell_type": "code",
   "execution_count": null,
   "metadata": {},
   "outputs": [],
   "source": [
    "pheno_df.dtypes"
   ]
  },
  {
   "cell_type": "code",
   "execution_count": null,
   "metadata": {},
   "outputs": [],
   "source": [
    "pheno_df = pheno_df.reset_index()"
   ]
  },
  {
   "cell_type": "code",
   "execution_count": null,
   "metadata": {},
   "outputs": [],
   "source": [
    "pheno_df.shape"
   ]
  },
  {
   "cell_type": "code",
   "execution_count": null,
   "metadata": {},
   "outputs": [],
   "source": [
    "pheno_df.dtypes"
   ]
  },
  {
   "cell_type": "code",
   "execution_count": null,
   "metadata": {},
   "outputs": [],
   "source": [
    "pheno_df.head()"
   ]
  },
  {
   "cell_type": "code",
   "execution_count": null,
   "metadata": {},
   "outputs": [],
   "source": [
    "pheno_df = pheno_df.astype({'sampleid': 'int32'})"
   ]
  },
  {
   "cell_type": "code",
   "execution_count": null,
   "metadata": {},
   "outputs": [],
   "source": [
    "pheno_df.head()"
   ]
  },
  {
   "cell_type": "code",
   "execution_count": null,
   "metadata": {},
   "outputs": [],
   "source": [
    "pheno_df.groupby('sex')['sex'].count()"
   ]
  },
  {
   "cell_type": "code",
   "execution_count": null,
   "metadata": {},
   "outputs": [],
   "source": [
    "pheno_df.groupby('cohort')['cohort'].count()"
   ]
  },
  {
   "cell_type": "code",
   "execution_count": null,
   "metadata": {},
   "outputs": [],
   "source": [
    "pheno_df.query('eid == sampleid').groupby('cohort')['cohort'].count()"
   ]
  },
  {
   "cell_type": "code",
   "execution_count": null,
   "metadata": {},
   "outputs": [],
   "source": [
    "pheno_df.query('eid == sampleid & cohort == \"UKB\"')"
   ]
  },
  {
   "cell_type": "code",
   "execution_count": null,
   "metadata": {},
   "outputs": [],
   "source": [
    "pheno_df.query('eid != sampleid').groupby('cohort')['cohort'].count()"
   ]
  },
  {
   "cell_type": "code",
   "execution_count": null,
   "metadata": {},
   "outputs": [],
   "source": [
    "pheno_df[['HDLnorm', 'LDLnorm', 'TCnorm', 'TGnorm']].describe()"
   ]
  },
  {
   "cell_type": "code",
   "execution_count": null,
   "metadata": {},
   "outputs": [],
   "source": [
    "[f'{col}: {pheno_df[col].isnull().sum()}' for col in sorted(pheno_df.columns)]"
   ]
  },
  {
   "cell_type": "markdown",
   "metadata": {},
   "source": [
    "## Create the TSV for regenie."
   ]
  },
  {
   "cell_type": "markdown",
   "metadata": {},
   "source": [
    "### Add the  FID and IID columns."
   ]
  },
  {
   "cell_type": "code",
   "execution_count": null,
   "metadata": {},
   "outputs": [],
   "source": [
    "pheno_df['FID'] = pheno_df['sampleid'].astype('str') + '_' + pheno_df['cohort'].str.lower()"
   ]
  },
  {
   "cell_type": "code",
   "execution_count": null,
   "metadata": {},
   "outputs": [],
   "source": [
    "pheno_df['IID'] = pheno_df['FID']"
   ]
  },
  {
   "cell_type": "markdown",
   "metadata": {},
   "source": [
    "### TEMPORARY: fill in NA covariates"
   ]
  },
  {
   "cell_type": "code",
   "execution_count": null,
   "metadata": {},
   "outputs": [],
   "source": [
    "pheno_df['sex'] = pheno_df['sex'].fillna('other')"
   ]
  },
  {
   "cell_type": "code",
   "execution_count": null,
   "metadata": {},
   "outputs": [],
   "source": [
    "[f'{col}: {pheno_df[col].isnull().sum()}' for col in sorted(pheno_df.columns)]"
   ]
  },
  {
   "cell_type": "markdown",
   "metadata": {},
   "source": [
    "### Then write the TSV to disk so that regenie can read it."
   ]
  },
  {
   "cell_type": "code",
   "execution_count": null,
   "metadata": {},
   "outputs": [],
   "source": [
    "pheno_df.columns"
   ]
  },
  {
   "cell_type": "code",
   "execution_count": null,
   "metadata": {},
   "outputs": [],
   "source": [
    "pheno_df[['FID', 'IID', 'sex', 'age', 'age2',  'cohort',\n",
    "          'pc1', 'pc2', 'pc3', 'pc4', 'pc5', 'pc6', 'pc7', 'pc8', 'pc9', 'pc10',\n",
    "          'HDLnorm', 'LDLnorm', 'TCnorm', 'TGnorm']].to_csv(\n",
    "    REGENIE_PHENOTYPES,\n",
    "    sep='\\t',\n",
    "    na_rep='NA',\n",
    "    index=False\n",
    ")"
   ]
  },
  {
   "cell_type": "code",
   "execution_count": null,
   "metadata": {},
   "outputs": [],
   "source": [
    "!head {REGENIE_PHENOTYPES}"
   ]
  },
  {
   "cell_type": "markdown",
   "metadata": {},
   "source": [
    "# Check the BGEN file\n",
    "\n",
    "There were a few problems that needed to be fixed:\n",
    "* the first time I created it, I hit [this issue](https://hail.zulipchat.com/#narrow/stream/123010-Hail-0.2E2.20support/topic/hl.2Eexport_bgen).\n",
    "* the second time, I realized that PLINK required rsids, so those were computed by Hail and written to a new BGEN"
   ]
  },
  {
   "cell_type": "code",
   "execution_count": null,
   "metadata": {},
   "outputs": [],
   "source": [
    "!head {LOCAL_MERGED_BGEN_SAMPLE}"
   ]
  },
  {
   "cell_type": "code",
   "execution_count": null,
   "metadata": {},
   "outputs": [],
   "source": [
    "from bgen_reader import read_bgen"
   ]
  },
  {
   "cell_type": "code",
   "execution_count": null,
   "metadata": {},
   "outputs": [],
   "source": [
    "bgen = read_bgen(LOCAL_MERGED_BGEN, verbose=True)"
   ]
  },
  {
   "cell_type": "code",
   "execution_count": null,
   "metadata": {},
   "outputs": [],
   "source": [
    "# Variants metadata.\n",
    "print(bgen[\"variants\"].head())"
   ]
  },
  {
   "cell_type": "code",
   "execution_count": null,
   "metadata": {},
   "outputs": [],
   "source": [
    "# Samples read from the bgen file.\n",
    "print(bgen[\"samples\"].head())"
   ]
  },
  {
   "cell_type": "code",
   "execution_count": null,
   "metadata": {},
   "outputs": [],
   "source": [
    "# Samples read from the bgen file.\n",
    "print(bgen[\"samples\"].tail())"
   ]
  },
  {
   "cell_type": "code",
   "execution_count": null,
   "metadata": {},
   "outputs": [],
   "source": [
    "# There are X variants in total.\n",
    "print(len(bgen[\"genotype\"]))"
   ]
  },
  {
   "cell_type": "code",
   "execution_count": null,
   "metadata": {},
   "outputs": [],
   "source": [
    "# This library avoid as much as possible accessing the bgen file for performance\n",
    "# and memory reasons. The `compute` function actually tells the library to\n",
    "# access the file to retrieve some data.\n",
    "geno = bgen[\"genotype\"][0].compute()\n",
    "print(geno.keys())\n",
    "# Let's have a look at the probabilities regarding the first variant.\n",
    "print(geno[\"probs\"])\n",
    "# The above matrix is of size samples-by-(combination-of-alleles).\n",
    "print(geno[\"probs\"].shape)"
   ]
  },
  {
   "cell_type": "markdown",
   "metadata": {},
   "source": [
    "# Variant QC via PLINK\n",
    "\n",
    "Per Margaret, use [plink2 to perform the variant QC](https://rgcgithub.github.io/regenie/recommendations/#exclusion-files) and obtain a subset of SNPs roughly equal to the number of samples.\n",
    "\n",
    "\n",
    "We'll run this locally since its pretty quick."
   ]
  },
  {
   "cell_type": "code",
   "execution_count": null,
   "metadata": {},
   "outputs": [],
   "source": [
    "!/tmp/plink2/plink2 \\\n",
    "  --bgen {LOCAL_MERGED_BGEN} ref-first \\\n",
    "  --chr 1-22 \\\n",
    "  --geno 0.1 \\\n",
    "  --mind 0.1 \\\n",
    "  --mac 100 \\\n",
    "  --hwe 1e-15 \\\n",
    "  --write-snplist \\\n",
    "  --write-samples \\\n",
    "  --no-id-header \\\n",
    "  --out aou_alpha1_ukb_lipids_plink\n",
    "\n",
    "# This is too strict and removes too many samples.\n",
    "#  --maf 0.01 \\"
   ]
  },
  {
   "cell_type": "code",
   "execution_count": null,
   "metadata": {},
   "outputs": [],
   "source": [
    "!ls -lth . | head"
   ]
  },
  {
   "cell_type": "code",
   "execution_count": null,
   "metadata": {},
   "outputs": [],
   "source": [
    "!head aou_alpha1_ukb_lipids_plink.id"
   ]
  },
  {
   "cell_type": "code",
   "execution_count": null,
   "metadata": {},
   "outputs": [],
   "source": [
    "!tail aou_alpha1_ukb_lipids_plink.id"
   ]
  },
  {
   "cell_type": "code",
   "execution_count": null,
   "metadata": {},
   "outputs": [],
   "source": [
    "!wc -l aou_alpha1_ukb_lipids_plink.id"
   ]
  },
  {
   "cell_type": "code",
   "execution_count": null,
   "metadata": {},
   "outputs": [],
   "source": [
    "!head aou_alpha1_ukb_lipids_plink.snplist"
   ]
  },
  {
   "cell_type": "code",
   "execution_count": null,
   "metadata": {},
   "outputs": [],
   "source": [
    "!tail aou_alpha1_ukb_lipids_plink.snplist"
   ]
  },
  {
   "cell_type": "code",
   "execution_count": null,
   "metadata": {},
   "outputs": [],
   "source": [
    "!wc -l aou_alpha1_ukb_lipids_plink.snplist"
   ]
  },
  {
   "cell_type": "code",
   "execution_count": null,
   "metadata": {},
   "outputs": [],
   "source": [
    "!gsutil -m cp aou_alpha1_ukb_lipids* {REGENIE_OUTPUTS}"
   ]
  },
  {
   "cell_type": "markdown",
   "metadata": {},
   "source": [
    "# regenie\n",
    "\n",
    "This work is based on https://github.com/briansha/Regenie_WDL/blob/master/regenie.wdl\n",
    "\n",
    "See also:\n",
    "* regenie documentation https://rgcgithub.github.io/regenie/options/#input\n",
    "* dsub documentation https://github.com/DataBiosphere/dsub/blob/main/docs/input_output.md"
   ]
  },
  {
   "cell_type": "markdown",
   "metadata": {},
   "source": [
    "## Step 1\n",
    "\n",
    "From https://rgcgithub.github.io/regenie/overview/:\n",
    "> In the first step a subset of genetic markers are used to fit a whole genome regression model that captures a good fraction of the phenotype variance attributable to genetic effects."
   ]
  },
  {
   "cell_type": "code",
   "execution_count": null,
   "metadata": {},
   "outputs": [],
   "source": [
    "# Parameters to add\n",
    "# 8 core machine\n",
    "# 11 GB ram\n",
    "# 500 GB disk\n",
    "\n",
    "!regenie \\\n",
    "    --step 1 \\\n",
    "    --bgen={LOCAL_MERGED_BGEN} \\\n",
    "    --ref-first \\\n",
    "    --sample={LOCAL_MERGED_BGEN_SAMPLE} \\\n",
    "    --phenoFile={REGENIE_PHENOTYPES} \\\n",
    "    --phenoColList=LDLnorm,HDLnorm,TCnorm,TGnorm \\\n",
    "    --covarFile={REGENIE_PHENOTYPES} \\\n",
    "    --catCovarList=sex,cohort \\\n",
    "    --covarColList=age,age2,pc1,pc2,pc3,pc4,pc5,pc6,pc7,pc8,pc9,pc10 \\\n",
    "    --extract aou_alpha1_ukb_lipids_plink.snplist \\\n",
    "    --bsize 1000 \\\n",
    "    --verbose \\\n",
    "    --out aou_alpha1_ukb_lipids_regenie_part1\n",
    "\n",
    "\n",
    "# Note that no samples were omitted by the QC step, so we are leaving out this file since regenie \n",
    "# complained that it did not match the samples in the BGEN file.\n",
    "#     --keep aou_alpha1_ukb_lipids.id \\\n"
   ]
  },
  {
   "cell_type": "code",
   "execution_count": null,
   "metadata": {},
   "outputs": [],
   "source": [
    "!ls -lth . | head"
   ]
  },
  {
   "cell_type": "code",
   "execution_count": null,
   "metadata": {},
   "outputs": [],
   "source": [
    "!gsutil -m cp aou_alpha1_ukb_lipids* {REGENIE_OUTPUTS}"
   ]
  },
  {
   "cell_type": "markdown",
   "metadata": {},
   "source": [
    "## Step 2\n",
    "\n",
    "From https://rgcgithub.github.io/regenie/overview/:\n",
    "> In the second step, a larger set of genetic markers (e.g. imputed markers) are tested for association with the phenotype conditional upon the prediction from the regression model in Step 1, using a leave one chromosome out (LOCO) scheme, that avoids proximal contamination."
   ]
  },
  {
   "cell_type": "code",
   "execution_count": null,
   "metadata": {},
   "outputs": [],
   "source": [
    "!regenie \\\n",
    "    --step 2 \\\n",
    "    --bgen={LOCAL_MERGED_BGEN} \\\n",
    "    --ref-first \\\n",
    "    --sample={LOCAL_MERGED_BGEN_SAMPLE} \\\n",
    "    --phenoFile={REGENIE_PHENOTYPES} \\\n",
    "    --phenoColList=LDLnorm,HDLnorm,TCnorm,TGnorm \\\n",
    "    --covarFile={REGENIE_PHENOTYPES} \\\n",
    "    --catCovarList=sex,cohort \\\n",
    "    --covarColList=age,age2,pc1,pc2,pc3,pc4,pc5,pc6,pc7,pc8,pc9,pc10 \\\n",
    "    --firth 0.01 \\\n",
    "    --approx \\\n",
    "    --pred aou_alpha1_ukb_lipids_regenie_part1_pred.list \\\n",
    "    --bsize 400 \\\n",
    "    --split \\\n",
    "    --out aou_alpha1_ukb_lipids_regenie_part2\n"
   ]
  },
  {
   "cell_type": "code",
   "execution_count": null,
   "metadata": {},
   "outputs": [],
   "source": [
    "!ls -lh aou_alpha1_ukb_lipids*"
   ]
  },
  {
   "cell_type": "code",
   "execution_count": null,
   "metadata": {},
   "outputs": [],
   "source": [
    "!gsutil -m cp aou_alpha1_ukb_lipids* {REGENIE_OUTPUTS}"
   ]
  },
  {
   "cell_type": "code",
   "execution_count": null,
   "metadata": {},
   "outputs": [],
   "source": [
    "!gsutil ls {REGENIE_OUTPUTS}"
   ]
  },
  {
   "cell_type": "markdown",
   "metadata": {},
   "source": [
    "# Appendix"
   ]
  },
  {
   "cell_type": "markdown",
   "metadata": {},
   "source": [
    "## Use QCtool to subset the BGEN"
   ]
  },
  {
   "cell_type": "raw",
   "metadata": {},
   "source": [
    "!wget https://www.well.ox.ac.uk/~gav/resources/qctool_v2.0.6-Ubuntu16.04-x86_64.tgz"
   ]
  },
  {
   "cell_type": "raw",
   "metadata": {},
   "source": [
    "!tar xvzf qctool_v2.0.6-Ubuntu16.04-x86_64.tgz"
   ]
  },
  {
   "cell_type": "raw",
   "metadata": {},
   "source": [
    "!qctool_v2.0.6-Ubuntu16.04-x86_64/qctool"
   ]
  },
  {
   "cell_type": "raw",
   "metadata": {},
   "source": [
    "!qctool_v2.0.6-Ubuntu16.04-x86_64/qctool -g {LOCAL_MERGED_BGEN} -og subsetted.bgen -incl-range chr3:-"
   ]
  },
  {
   "cell_type": "markdown",
   "metadata": {},
   "source": [
    "## Check missingness"
   ]
  },
  {
   "cell_type": "raw",
   "metadata": {},
   "source": [
    "!/tmp/plink2/plink2 \\\n",
    "  --bgen {LOCAL_MERGED_BGEN} ref-first \\\n",
    "  --missing \\\n",
    "  --chr 21"
   ]
  },
  {
   "cell_type": "markdown",
   "metadata": {},
   "source": [
    "## regenie via dsub\n",
    "\n",
    "Still re-writing the sections below to run this at scale in the background via dsub."
   ]
  },
  {
   "cell_type": "raw",
   "metadata": {},
   "source": [
    "#%%bash\n",
    "\n",
    "# Parameters to add\n",
    "# 8 core machine\n",
    "# 11 GB ram\n",
    "# 500 GB disk\n",
    "# --input VARIANT_EXCLUSION_FILE=TODO(deflaux) \\\n",
    "# --exclude=\"${VARIANT_EXCLUSION_FILE}\" \\\n",
    "# NOTE: per Margaret, instead of using the exclusion file, use plink2 to perform the QC\n",
    "# and obtain a subset of SNPs roughly equal to the number of samples.\n",
    "\n",
    "job_response = !dsub \\\n",
    "  --provider google-cls-v2 \\\n",
    "  --service-account \"pet-101767132834091462320@aou-rw-preprod-acef10ae.iam.gserviceaccount.com\" \\\n",
    "  --project \"${GOOGLE_PROJECT}\" \\\n",
    "  --zones \"us-central1-*\" \\\n",
    "  --network \"network\" \\\n",
    "  --subnetwork \"subnetwork\" \\\n",
    "  --image \"briansha/regenie:v2.0.1_boost\" \\\n",
    "  --logging \"${WORKSPACE_BUCKET}/dsub/logging/$(date +'%Y%m%d/%H%M%S')\" \\\n",
    "  --input PHENO_FILE=gs://fc-secure-fd6786bf-6c28-4f33-ac30-3860fbeee5bb/data/merged/20210727/phenotypes.tsv \\\n",
    "  --input BGEN_FILE=gs://fc-secure-fd6786bf-6c28-4f33-ac30-3860fbeee5bb/data/merged/20210719/ukb-aou-alpha1.bgen \\\n",
    "  --input SAMPLE_FILE=gs://fc-secure-fd6786bf-6c28-4f33-ac30-3860fbeee5bb/data/merged/20210719/ukb-aou-alpha1.sample \\\n",
    "  --output OUT=\"${WORKSPACE_BUCKET}/dsub/regenie-step1/$(date +'%Y%m%d/%H%M%S')/aou_alpha1_ukb_lipids\" \\\n",
    "  --command 'set -euo pipefail \\\n",
    "    regenie \\\n",
    "      --step 1 \\\n",
    "      --bgen=\"${BGEN_FILE}\"\\\n",
    "      --sample=\"${SAMPLE_FILE}\" \\\n",
    "      --phenoFile=\"${PHENO_FILE}\" \\\n",
    "      --phenoColList=LDL_norm,HDL_norm,TC_norm,TG_norm \\\n",
    "      --covarFile=\"${PHENO_FILE}\" \\\n",
    "      --covarColList=is_male,is_aou_cohort,age,age2,pc1,pc2,pc3,pc4,pc5,pc6,pc7,pc8,pc9,pc10 \\\n",
    "      --bt \\\n",
    "      --bsize 1000 \\\n",
    "      --verbose \\\n",
    "      --out aou_alpha1_ukb_lipids \\\n",
    "    && ls -la'\n",
    "\n",
    "job_response"
   ]
  },
  {
   "cell_type": "raw",
   "metadata": {},
   "source": [
    "JOB_ID = job_response[1].split(' ')[3]\n",
    "\n",
    "JOB_ID"
   ]
  },
  {
   "cell_type": "raw",
   "metadata": {},
   "source": [
    "stat_response = !dstat --provider google-cls-v2 --project aou-rw-preprod-acef10ae --location us-central1 \\\n",
    "    --users jupyter-user --status '*' --full \\\n",
    "    --jobs {JOB_ID}\n",
    "\n",
    "stat_response"
   ]
  },
  {
   "cell_type": "raw",
   "metadata": {},
   "source": [
    "%%bash\n",
    "\n",
    "gsutil cat \"${WORKSPACE_BUCKET}/dsub/logging/20210727/235345/set--jupyter-user--210727-235345-76.log\""
   ]
  },
  {
   "cell_type": "markdown",
   "metadata": {},
   "source": [
    "## Compress Hail logs"
   ]
  },
  {
   "cell_type": "raw",
   "metadata": {},
   "source": [
    "logs = !gsutil ls \"${WORKSPACE_BUCKET}/hail-logs/*/*.log\"\n",
    "\n",
    "logs"
   ]
  },
  {
   "cell_type": "raw",
   "metadata": {},
   "source": [
    "import pandas as pd"
   ]
  },
  {
   "cell_type": "raw",
   "metadata": {},
   "source": [
    "df = pd.DataFrame(data={\n",
    "    '--input INPUT_FILE': logs,\n",
    "    '--output OUTPUT_FILE': [f'{log}.gz' for log in logs]\n",
    "})\n",
    "\n",
    "df.head()"
   ]
  },
  {
   "cell_type": "raw",
   "metadata": {},
   "source": [
    "df.to_csv('compress_hail_logs.tsv', sep='\\t', index=False)"
   ]
  },
  {
   "cell_type": "raw",
   "metadata": {},
   "source": [
    "!cat compress_hail_logs.tsv | head"
   ]
  },
  {
   "cell_type": "raw",
   "metadata": {},
   "source": [
    "%%bash\n",
    "\n",
    "dsub \\\n",
    "  --provider google-cls-v2 \\\n",
    "  --service-account \"pet-101767132834091462320@aou-rw-preprod-acef10ae.iam.gserviceaccount.com\" \\\n",
    "  --project \"${GOOGLE_PROJECT}\" \\\n",
    "  --preemptible \\\n",
    "  --zones \"us-central1-*\" \\\n",
    "  --network \"network\" \\\n",
    "  --subnetwork \"subnetwork\" \\\n",
    "  --logging \"${WORKSPACE_BUCKET}/dsub/logging/$(date +'%Y%m%d/%H%M%S')\" \\\n",
    "  --command 'set -o errexit && \\\n",
    "             set -o xtrace && \\\n",
    "             gzip ${INPUT_FILE} && \\\n",
    "             mv ${INPUT_FILE}.gz $(dirname ${OUTPUT_FILE})' \\\n",
    "  --tasks compress_hail_logs.tsv \\\n",
    "  --wait"
   ]
  },
  {
   "cell_type": "raw",
   "metadata": {},
   "source": [
    "%%bash\n",
    "\n",
    "dstat --provider google-cls-v2 --project aou-rw-preprod-acef10ae --location us-central1 \\\n",
    "    --jobs 'set--jupyter-user--210719-221709-68' \\\n",
    "    --users 'jupyter-user' --status '*'   --full"
   ]
  },
  {
   "cell_type": "raw",
   "metadata": {},
   "source": [
    "%%bash\n",
    "\n",
    "gsutil cat \"${WORKSPACE_BUCKET}/dsub/logging/20210719/221708/set--jupyter-user--210719-221709-68.1*\""
   ]
  },
  {
   "cell_type": "raw",
   "metadata": {},
   "source": [
    "compressed_logs = !gsutil ls \"${WORKSPACE_BUCKET}/hail-logs/*/*.log.gz\"\n",
    "\n",
    "compressed_logs[0:9]"
   ]
  },
  {
   "cell_type": "raw",
   "metadata": {},
   "source": [
    "len(logs)"
   ]
  },
  {
   "cell_type": "raw",
   "metadata": {},
   "source": [
    "len(compressed_logs)"
   ]
  },
  {
   "cell_type": "raw",
   "metadata": {},
   "source": [
    "!gsutil -m rm \"${WORKSPACE_BUCKET}/hail-logs/*/*.log\""
   ]
  },
  {
   "cell_type": "markdown",
   "metadata": {},
   "source": [
    "# Provenance "
   ]
  },
  {
   "cell_type": "code",
   "execution_count": null,
   "metadata": {},
   "outputs": [],
   "source": [
    "%%bash\n",
    "\n",
    "date"
   ]
  },
  {
   "cell_type": "code",
   "execution_count": null,
   "metadata": {},
   "outputs": [],
   "source": [
    "%%bash\n",
    "\n",
    "pip3 freeze"
   ]
  }
 ],
 "metadata": {
  "kernelspec": {
   "display_name": "Python 3",
   "language": "python",
   "name": "python3"
  },
  "language_info": {
   "codemirror_mode": {
    "name": "ipython",
    "version": 3
   },
   "file_extension": ".py",
   "mimetype": "text/x-python",
   "name": "python",
   "nbconvert_exporter": "python",
   "pygments_lexer": "ipython3",
   "version": "3.7.10"
  },
  "toc": {
   "base_numbering": 1,
   "nav_menu": {},
   "number_sections": true,
   "sideBar": true,
   "skip_h1_title": false,
   "title_cell": "Table of Contents",
   "title_sidebar": "Contents",
   "toc_cell": false,
   "toc_position": {
    "height": "calc(100% - 180px)",
    "left": "10px",
    "top": "150px",
    "width": "213.977px"
   },
   "toc_section_display": true,
   "toc_window_display": true
  }
 },
 "nbformat": 4,
 "nbformat_minor": 2
}

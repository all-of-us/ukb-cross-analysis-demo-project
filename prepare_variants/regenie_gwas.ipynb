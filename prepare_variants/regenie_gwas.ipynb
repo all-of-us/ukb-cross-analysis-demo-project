{
 "cells": [
  {
   "cell_type": "markdown",
   "metadata": {},
   "source": [
    "# Run a GWAS via regenie\n",
    "\n",
    "In this notebook, we perform a genome-wide association study using [regenie](https://rgcgithub.github.io/regenie/) via [dsub](https://github.com/databiosphere/dsub)."
   ]
  },
  {
   "cell_type": "markdown",
   "metadata": {},
   "source": [
    "# Setup \n",
    "\n",
    "<div class=\"alert alert-block alert-warning\">\n",
    "    <b>Cloud Environment</b>: This notebook was written for use on the All of Us Workbench. It runs fine on the default Cloud Environment. \n",
    "</div>"
   ]
  },
  {
   "cell_type": "code",
   "execution_count": null,
   "metadata": {},
   "outputs": [],
   "source": [
    "from datetime import datetime\n",
    "import os\n",
    "import pandas as pd\n",
    "import time"
   ]
  },
  {
   "cell_type": "markdown",
   "metadata": {},
   "source": [
    "## Setup plink2\n",
    "\n",
    "https://www.cog-genomics.org/plink/2.0/"
   ]
  },
  {
   "cell_type": "code",
   "execution_count": null,
   "metadata": {},
   "outputs": [],
   "source": [
    "%%bash\n",
    "\n",
    "##### plink 2 install\n",
    "PLINK_VERSION=2.3.Alpha\n",
    "PLINK_ZIP_PATH=/tmp/plink-$PLINK_VERSION.zip\n",
    "curl -L -o $PLINK_ZIP_PATH https://s3.amazonaws.com/plink2-assets/alpha2/plink2_linux_x86_64.zip\n",
    "mkdir -p /tmp/plink2/\n",
    "unzip -o $PLINK_ZIP_PATH -d /tmp/plink2/"
   ]
  },
  {
   "cell_type": "code",
   "execution_count": null,
   "metadata": {},
   "outputs": [],
   "source": [
    "!/tmp/plink2/plink2 --version # --help"
   ]
  },
  {
   "cell_type": "markdown",
   "metadata": {},
   "source": [
    "## Setup regenie\n",
    "\n",
    "Note: regenie is already installed locally by default, but we are choosing to update to a more recent version."
   ]
  },
  {
   "cell_type": "code",
   "execution_count": null,
   "metadata": {},
   "outputs": [],
   "source": [
    "!regenie --version # --help"
   ]
  },
  {
   "cell_type": "code",
   "execution_count": null,
   "metadata": {},
   "outputs": [],
   "source": [
    "%%bash\n",
    "\n",
    "REGENIE_VERSION=v2.2.4\n",
    "curl -L -o regenie.zip \"https://github.com/rgcgithub/regenie/releases/download/${REGENIE_VERSION}/regenie_${REGENIE_VERSION}.gz_x86_64_Linux.zip\"\n",
    "unzip regenie.zip"
   ]
  },
  {
   "cell_type": "code",
   "execution_count": null,
   "metadata": {},
   "outputs": [],
   "source": [
    "!./regenie_v2.2.4.gz_x86_64_Linux --version # --help"
   ]
  },
  {
   "cell_type": "markdown",
   "metadata": {},
   "source": [
    "## Setup bgen_reader"
   ]
  },
  {
   "cell_type": "code",
   "execution_count": null,
   "metadata": {},
   "outputs": [],
   "source": [
    "!pip3 install bgen-reader"
   ]
  },
  {
   "cell_type": "markdown",
   "metadata": {},
   "source": [
    "## Define constants"
   ]
  },
  {
   "cell_type": "markdown",
   "metadata": {},
   "source": [
    "The BGEN file created via `write_bgen_20210719_172314.ipynb`. To be determined whether it is in the correct format for regenie.\n",
    "\n",
    "Note that Brian successfully created a BGEN for regenie using this command:\n",
    "`./plink2 --bfile 'MEGA_data_common_filtered_final' --chr 1-22 --export bgen-1.2 bits=8  --out 'MEGA_data_common_filtered_final_chr1_22'`"
   ]
  },
  {
   "cell_type": "code",
   "execution_count": null,
   "metadata": {},
   "outputs": [],
   "source": [
    "REMOTE_MERGED_BGEN = 'gs://fc-secure-fd6786bf-6c28-4f33-ac30-3860fbeee5bb/data/merged/20210805/ukb-aou-alpha1-chr1-chr22.bgen'\n",
    "REMOTE_MERGED_BGEN_SAMPLE = 'gs://fc-secure-fd6786bf-6c28-4f33-ac30-3860fbeee5bb/data/merged/20210805/ukb-aou-alpha1-chr1-chr22.sample'\n",
    "\n",
    "LOCAL_MERGED_BGEN = os.path.basename(REMOTE_MERGED_BGEN)\n",
    "LOCAL_MERGED_BGEN_SAMPLE = os.path.basename(REMOTE_MERGED_BGEN_SAMPLE)"
   ]
  },
  {
   "cell_type": "markdown",
   "metadata": {},
   "source": [
    "These TSVs were created via notebook `AOU_UKB_phenotype_refined.ipynb`."
   ]
  },
  {
   "cell_type": "code",
   "execution_count": null,
   "metadata": {},
   "outputs": [],
   "source": [
    "REMOTE_PHENOTYPES = [\n",
    "    'gs://fc-secure-fd6786bf-6c28-4f33-ac30-3860fbeee5bb/data/MergedData_HDL_Iteration2_ForGWAS.csv',\n",
    "    'gs://fc-secure-fd6786bf-6c28-4f33-ac30-3860fbeee5bb/data/MergedData_LDL_Iteration2_ForGWAS.csv',\n",
    "    'gs://fc-secure-fd6786bf-6c28-4f33-ac30-3860fbeee5bb/data/MergedData_TC_Iteration2_ForGWAS.csv',\n",
    "    'gs://fc-secure-fd6786bf-6c28-4f33-ac30-3860fbeee5bb/data/MergedData_TG_Iteration2_ForGWAS.csv'\n",
    "]\n",
    "\n",
    "LOCAL_PHENOTYPES = [os.path.basename(pheno) for pheno in REMOTE_PHENOTYPES]\n",
    "\n",
    "REGENIE_PHENOTYPES = 'aou_alpha1_ukb_lipids_phenotypes_and_covariates.tsv'"
   ]
  },
  {
   "cell_type": "code",
   "execution_count": null,
   "metadata": {},
   "outputs": [],
   "source": [
    "RESULT_BUCKET = os.getenv(\"WORKSPACE_BUCKET\")\n",
    "DATESTAMP = time.strftime('%Y%m%d')\n",
    "\n",
    "# Outputs\n",
    "REGENIE_OUTPUTS = f'{os.getenv(\"WORKSPACE_BUCKET\")}/data/regenie/{DATESTAMP}/'"
   ]
  },
  {
   "cell_type": "markdown",
   "metadata": {},
   "source": [
    "## Copy data locally for testing"
   ]
  },
  {
   "cell_type": "code",
   "execution_count": null,
   "metadata": {},
   "outputs": [],
   "source": [
    "!gsutil cp {REMOTE_MERGED_BGEN} {REMOTE_MERGED_BGEN_SAMPLE} .    "
   ]
  },
  {
   "cell_type": "code",
   "execution_count": null,
   "metadata": {},
   "outputs": [],
   "source": [
    "for remote_pheno_file in REMOTE_PHENOTYPES:\n",
    "    !gsutil cp {remote_pheno_file} .    "
   ]
  },
  {
   "cell_type": "markdown",
   "metadata": {},
   "source": [
    "# Reshape the phenotypes for regenie "
   ]
  },
  {
   "cell_type": "markdown",
   "metadata": {},
   "source": [
    "## Read in the four CSVs."
   ]
  },
  {
   "cell_type": "code",
   "execution_count": null,
   "metadata": {},
   "outputs": [],
   "source": [
    "raw_pheno_dfs = [pd.read_csv(local_pheno_file) for local_pheno_file in LOCAL_PHENOTYPES]"
   ]
  },
  {
   "cell_type": "code",
   "execution_count": null,
   "metadata": {},
   "outputs": [],
   "source": [
    "[p.shape for p in raw_pheno_dfs]"
   ]
  },
  {
   "cell_type": "code",
   "execution_count": null,
   "metadata": {},
   "outputs": [],
   "source": [
    "[p.columns for p in raw_pheno_dfs]"
   ]
  },
  {
   "cell_type": "code",
   "execution_count": null,
   "metadata": {},
   "outputs": [],
   "source": [
    "raw_pheno_dfs[0].dtypes"
   ]
  },
  {
   "cell_type": "markdown",
   "metadata": {},
   "source": [
    "## Join the four CSVs into a single CSV."
   ]
  },
  {
   "cell_type": "code",
   "execution_count": null,
   "metadata": {},
   "outputs": [],
   "source": [
    "index_col = ['eid', 'sampleid', 'sex', 'age', 'age2', 'pc1', 'pc2', 'pc3', 'pc4',\n",
    "             'pc5', 'pc6', 'pc7', 'pc8', 'pc9', 'pc10', 'statin', 'cohort']\n",
    "pheno_dfs = [pd.read_csv(local_pheno_file, index_col=index_col) for local_pheno_file in LOCAL_PHENOTYPES]"
   ]
  },
  {
   "cell_type": "code",
   "execution_count": null,
   "metadata": {},
   "outputs": [],
   "source": [
    "[p.shape for p in pheno_dfs]"
   ]
  },
  {
   "cell_type": "code",
   "execution_count": null,
   "metadata": {},
   "outputs": [],
   "source": [
    "[p.columns for p in pheno_dfs]"
   ]
  },
  {
   "cell_type": "code",
   "execution_count": null,
   "metadata": {},
   "outputs": [],
   "source": [
    "pheno_dfs[0].head()"
   ]
  },
  {
   "cell_type": "code",
   "execution_count": null,
   "metadata": {},
   "outputs": [],
   "source": [
    "pheno_df = pd.concat(pheno_dfs, axis=1)\n",
    "\n",
    "pheno_df.shape"
   ]
  },
  {
   "cell_type": "markdown",
   "metadata": {},
   "source": [
    "## Check the resulting dataframe."
   ]
  },
  {
   "cell_type": "code",
   "execution_count": null,
   "metadata": {},
   "outputs": [],
   "source": [
    "pheno_df.dtypes"
   ]
  },
  {
   "cell_type": "code",
   "execution_count": null,
   "metadata": {},
   "outputs": [],
   "source": [
    "pheno_df = pheno_df.reset_index()"
   ]
  },
  {
   "cell_type": "code",
   "execution_count": null,
   "metadata": {},
   "outputs": [],
   "source": [
    "pheno_df.shape"
   ]
  },
  {
   "cell_type": "code",
   "execution_count": null,
   "metadata": {},
   "outputs": [],
   "source": [
    "pheno_df.dtypes"
   ]
  },
  {
   "cell_type": "code",
   "execution_count": null,
   "metadata": {},
   "outputs": [],
   "source": [
    "pheno_df.head()"
   ]
  },
  {
   "cell_type": "code",
   "execution_count": null,
   "metadata": {},
   "outputs": [],
   "source": [
    "pheno_df = pheno_df.astype({'sampleid': 'int32'})"
   ]
  },
  {
   "cell_type": "code",
   "execution_count": null,
   "metadata": {},
   "outputs": [],
   "source": [
    "pheno_df.head()"
   ]
  },
  {
   "cell_type": "code",
   "execution_count": null,
   "metadata": {},
   "outputs": [],
   "source": [
    "pheno_df.groupby('sex')['sex'].count()"
   ]
  },
  {
   "cell_type": "code",
   "execution_count": null,
   "metadata": {},
   "outputs": [],
   "source": [
    "pheno_df.groupby('cohort')['cohort'].count()"
   ]
  },
  {
   "cell_type": "code",
   "execution_count": null,
   "metadata": {},
   "outputs": [],
   "source": [
    "pheno_df.query('eid == sampleid').groupby('cohort')['cohort'].count()"
   ]
  },
  {
   "cell_type": "code",
   "execution_count": null,
   "metadata": {},
   "outputs": [],
   "source": [
    "pheno_df.query('eid == sampleid & cohort == \"UKB\"')"
   ]
  },
  {
   "cell_type": "code",
   "execution_count": null,
   "metadata": {},
   "outputs": [],
   "source": [
    "pheno_df.query('eid != sampleid').groupby('cohort')['cohort'].count()"
   ]
  },
  {
   "cell_type": "code",
   "execution_count": null,
   "metadata": {},
   "outputs": [],
   "source": [
    "pheno_df[['HDLnorm', 'LDLnorm', 'TCnorm', 'TGnorm']].describe()"
   ]
  },
  {
   "cell_type": "code",
   "execution_count": null,
   "metadata": {},
   "outputs": [],
   "source": [
    "[f'{col}: {pheno_df[col].isnull().sum()}' for col in sorted(pheno_df.columns)]"
   ]
  },
  {
   "cell_type": "markdown",
   "metadata": {},
   "source": [
    "## Create the TSV for regenie."
   ]
  },
  {
   "cell_type": "markdown",
   "metadata": {},
   "source": [
    "### Add the  FID and IID columns."
   ]
  },
  {
   "cell_type": "code",
   "execution_count": null,
   "metadata": {},
   "outputs": [],
   "source": [
    "pheno_df['FID'] = pheno_df['sampleid'].astype('str') + '_' + pheno_df['cohort'].str.lower()"
   ]
  },
  {
   "cell_type": "code",
   "execution_count": null,
   "metadata": {},
   "outputs": [],
   "source": [
    "pheno_df['IID'] = pheno_df['FID']"
   ]
  },
  {
   "cell_type": "markdown",
   "metadata": {},
   "source": [
    "### TEMPORARY: fill in NA covariates"
   ]
  },
  {
   "cell_type": "code",
   "execution_count": null,
   "metadata": {},
   "outputs": [],
   "source": [
    "pheno_df['sex'] = pheno_df['sex'].fillna('other')"
   ]
  },
  {
   "cell_type": "code",
   "execution_count": null,
   "metadata": {},
   "outputs": [],
   "source": [
    "[f'{col}: {pheno_df[col].isnull().sum()}' for col in sorted(pheno_df.columns)]"
   ]
  },
  {
   "cell_type": "markdown",
   "metadata": {},
   "source": [
    "### Then write the TSV to disk so that regenie can read it."
   ]
  },
  {
   "cell_type": "code",
   "execution_count": null,
   "metadata": {},
   "outputs": [],
   "source": [
    "pheno_df.columns"
   ]
  },
  {
   "cell_type": "code",
   "execution_count": null,
   "metadata": {},
   "outputs": [],
   "source": [
    "pheno_df[['FID', 'IID', 'sex', 'age', 'age2',  'cohort',\n",
    "          'pc1', 'pc2', 'pc3', 'pc4', 'pc5', 'pc6', 'pc7', 'pc8', 'pc9', 'pc10',\n",
    "          'HDLnorm', 'LDLnorm', 'TCnorm', 'TGnorm']].to_csv(\n",
    "    REGENIE_PHENOTYPES,\n",
    "    sep='\\t',\n",
    "    na_rep='NA',\n",
    "    index=False\n",
    ")"
   ]
  },
  {
   "cell_type": "code",
   "execution_count": null,
   "metadata": {},
   "outputs": [],
   "source": [
    "!head {REGENIE_PHENOTYPES}"
   ]
  },
  {
   "cell_type": "markdown",
   "metadata": {},
   "source": [
    "# Check the BGEN file\n",
    "\n",
    "There were a few problems that needed to be fixed:\n",
    "* the first time I created it, I hit [this issue](https://hail.zulipchat.com/#narrow/stream/123010-Hail-0.2E2.20support/topic/hl.2Eexport_bgen).\n",
    "* the second time, I realized that PLINK required rsids, so those were computed by Hail and written to a new BGEN"
   ]
  },
  {
   "cell_type": "code",
   "execution_count": null,
   "metadata": {},
   "outputs": [],
   "source": [
    "!head {LOCAL_MERGED_BGEN_SAMPLE}"
   ]
  },
  {
   "cell_type": "code",
   "execution_count": null,
   "metadata": {},
   "outputs": [],
   "source": [
    "from bgen_reader import read_bgen"
   ]
  },
  {
   "cell_type": "code",
   "execution_count": null,
   "metadata": {},
   "outputs": [],
   "source": [
    "bgen = read_bgen(LOCAL_MERGED_BGEN, verbose=True)"
   ]
  },
  {
   "cell_type": "code",
   "execution_count": null,
   "metadata": {},
   "outputs": [],
   "source": [
    "# Variants metadata.\n",
    "print(bgen[\"variants\"].head())"
   ]
  },
  {
   "cell_type": "code",
   "execution_count": null,
   "metadata": {},
   "outputs": [],
   "source": [
    "# Samples read from the bgen file.\n",
    "print(bgen[\"samples\"].head())"
   ]
  },
  {
   "cell_type": "code",
   "execution_count": null,
   "metadata": {},
   "outputs": [],
   "source": [
    "# Samples read from the bgen file.\n",
    "print(bgen[\"samples\"].tail())"
   ]
  },
  {
   "cell_type": "code",
   "execution_count": null,
   "metadata": {},
   "outputs": [],
   "source": [
    "# There are X variants in total.\n",
    "print(len(bgen[\"genotype\"]))"
   ]
  },
  {
   "cell_type": "code",
   "execution_count": null,
   "metadata": {},
   "outputs": [],
   "source": [
    "# This library avoid as much as possible accessing the bgen file for performance\n",
    "# and memory reasons. The `compute` function actually tells the library to\n",
    "# access the file to retrieve some data.\n",
    "geno = bgen[\"genotype\"][0].compute()\n",
    "print(geno.keys())\n",
    "# Let's have a look at the probabilities regarding the first variant.\n",
    "print(geno[\"probs\"])\n",
    "# The above matrix is of size samples-by-(combination-of-alleles).\n",
    "print(geno[\"probs\"].shape)"
   ]
  },
  {
   "cell_type": "markdown",
   "metadata": {},
   "source": [
    "# Variant QC via PLINK\n",
    "\n",
    "Per Margaret, use [plink2 to perform the variant QC](https://rgcgithub.github.io/regenie/recommendations/#exclusion-files) and obtain a subset of SNPs roughly equal to the number of samples.\n",
    "\n",
    "\n",
    "We'll run this locally since its pretty quick."
   ]
  },
  {
   "cell_type": "code",
   "execution_count": null,
   "metadata": {},
   "outputs": [],
   "source": [
    "!/tmp/plink2/plink2 \\\n",
    "  --bgen {LOCAL_MERGED_BGEN} ref-first \\\n",
    "  --chr 1-22 \\\n",
    "  --geno 0.1 \\\n",
    "  --mind 0.1 \\\n",
    "  --mac 100 \\\n",
    "  --hwe 1e-15 \\\n",
    "  --write-snplist \\\n",
    "  --write-samples \\\n",
    "  --no-id-header \\\n",
    "  --out aou_alpha1_ukb_lipids_plink\n",
    "\n",
    "# This is too strict and removes too many samples.\n",
    "#  --maf 0.01 \\"
   ]
  },
  {
   "cell_type": "code",
   "execution_count": null,
   "metadata": {},
   "outputs": [],
   "source": [
    "!ls -lth . | head"
   ]
  },
  {
   "cell_type": "code",
   "execution_count": null,
   "metadata": {},
   "outputs": [],
   "source": [
    "!head aou_alpha1_ukb_lipids_plink.id"
   ]
  },
  {
   "cell_type": "code",
   "execution_count": null,
   "metadata": {},
   "outputs": [],
   "source": [
    "!tail aou_alpha1_ukb_lipids_plink.id"
   ]
  },
  {
   "cell_type": "code",
   "execution_count": null,
   "metadata": {},
   "outputs": [],
   "source": [
    "!wc -l aou_alpha1_ukb_lipids_plink.id"
   ]
  },
  {
   "cell_type": "code",
   "execution_count": null,
   "metadata": {},
   "outputs": [],
   "source": [
    "!head aou_alpha1_ukb_lipids_plink.snplist"
   ]
  },
  {
   "cell_type": "code",
   "execution_count": null,
   "metadata": {},
   "outputs": [],
   "source": [
    "!tail aou_alpha1_ukb_lipids_plink.snplist"
   ]
  },
  {
   "cell_type": "code",
   "execution_count": null,
   "metadata": {},
   "outputs": [],
   "source": [
    "!wc -l aou_alpha1_ukb_lipids_plink.snplist"
   ]
  },
  {
   "cell_type": "code",
   "execution_count": null,
   "metadata": {},
   "outputs": [],
   "source": [
    "!gsutil -m cp aou_alpha1_ukb_lipids* {REGENIE_OUTPUTS}"
   ]
  },
  {
   "cell_type": "markdown",
   "metadata": {},
   "source": [
    "# regenie\n",
    "\n",
    "This work is based on https://github.com/briansha/Regenie_WDL/blob/master/regenie.wdl\n",
    "\n",
    "See also:\n",
    "* regenie documentation https://rgcgithub.github.io/regenie/options/#input\n",
    "* dsub documentation https://github.com/DataBiosphere/dsub/blob/main/docs/input_output.md"
   ]
  },
  {
   "cell_type": "markdown",
   "metadata": {},
   "source": [
    "## Step 1\n",
    "\n",
    "From https://rgcgithub.github.io/regenie/overview/:\n",
    "> In the first step a subset of genetic markers are used to fit a whole genome regression model that captures a good fraction of the phenotype variance attributable to genetic effects."
   ]
  },
  {
   "cell_type": "code",
   "execution_count": null,
   "metadata": {},
   "outputs": [],
   "source": [
    "# Parameters to add\n",
    "# 8 core machine\n",
    "# 11 GB ram\n",
    "# 500 GB disk\n",
    "\n",
    "!./regenie_v2.2.4.gz_x86_64_Linux \\\n",
    "    --step 1 \\\n",
    "    --bgen={LOCAL_MERGED_BGEN} \\\n",
    "    --ref-first \\\n",
    "    --sample={LOCAL_MERGED_BGEN_SAMPLE} \\\n",
    "    --phenoFile={REGENIE_PHENOTYPES} \\\n",
    "    --phenoColList=LDLnorm,HDLnorm,TCnorm,TGnorm \\\n",
    "    --covarFile={REGENIE_PHENOTYPES} \\\n",
    "    --catCovarList=sex,cohort \\\n",
    "    --covarColList=age,age2,pc1,pc2,pc3,pc4,pc5,pc6,pc7,pc8,pc9,pc10 \\\n",
    "    --extract aou_alpha1_ukb_lipids_plink.snplist \\\n",
    "    --bsize 1000 \\\n",
    "    --verbose \\\n",
    "    --out aou_alpha1_ukb_lipids_regenie_part1\n",
    "\n",
    "\n",
    "# Note that no samples were omitted by the QC step, so we are leaving out this file since regenie \n",
    "# complained that it did not match the samples in the BGEN file.\n",
    "#     --keep aou_alpha1_ukb_lipids.id \\\n"
   ]
  },
  {
   "cell_type": "code",
   "execution_count": null,
   "metadata": {},
   "outputs": [],
   "source": [
    "!ls -lth . | head"
   ]
  },
  {
   "cell_type": "code",
   "execution_count": null,
   "metadata": {},
   "outputs": [],
   "source": [
    "!gsutil -m cp aou_alpha1_ukb_lipids* {REGENIE_OUTPUTS}"
   ]
  },
  {
   "cell_type": "markdown",
   "metadata": {},
   "source": [
    "## Step 2\n",
    "\n",
    "From https://rgcgithub.github.io/regenie/overview/:\n",
    "> In the second step, a larger set of genetic markers (e.g. imputed markers) are tested for association with the phenotype conditional upon the prediction from the regression model in Step 1, using a leave one chromosome out (LOCO) scheme, that avoids proximal contamination."
   ]
  },
  {
   "cell_type": "code",
   "execution_count": null,
   "metadata": {},
   "outputs": [],
   "source": [
    "!regenie_v2.2.4.gz_x86_64_Linux \\\n",
    "    --step 2 \\\n",
    "    --bgen={LOCAL_MERGED_BGEN} \\\n",
    "    --ref-first \\\n",
    "    --sample={LOCAL_MERGED_BGEN_SAMPLE} \\\n",
    "    --phenoFile={REGENIE_PHENOTYPES} \\\n",
    "    --phenoColList=LDLnorm,HDLnorm,TCnorm,TGnorm \\\n",
    "    --covarFile={REGENIE_PHENOTYPES} \\\n",
    "    --catCovarList=sex,cohort \\\n",
    "    --covarColList=age,age2,pc1,pc2,pc3,pc4,pc5,pc6,pc7,pc8,pc9,pc10 \\\n",
    "    --firth 0.01 \\\n",
    "    --approx \\\n",
    "    --pred aou_alpha1_ukb_lipids_regenie_part1_pred.list \\\n",
    "    --bsize 400 \\\n",
    "    --split \\\n",
    "    --out aou_alpha1_ukb_lipids_regenie_part2\n"
   ]
  },
  {
   "cell_type": "code",
   "execution_count": null,
   "metadata": {},
   "outputs": [],
   "source": [
    "!ls -lh aou_alpha1_ukb_lipids*"
   ]
  },
  {
   "cell_type": "code",
   "execution_count": null,
   "metadata": {},
   "outputs": [],
   "source": [
    "!gsutil -m cp aou_alpha1_ukb_lipids* {REGENIE_OUTPUTS}"
   ]
  },
  {
   "cell_type": "code",
   "execution_count": null,
   "metadata": {},
   "outputs": [],
   "source": [
    "!gsutil ls {REGENIE_OUTPUTS}"
   ]
  },
  {
   "cell_type": "markdown",
   "metadata": {},
   "source": [
    "# Compute Linkage Disequilibrium via PLINK\n",
    "\n",
    "Prune variants in linkage disequilibrium to use a more representative, smaller set in the QQ plots and GC score."
   ]
  },
  {
   "cell_type": "code",
   "execution_count": null,
   "metadata": {},
   "outputs": [],
   "source": [
    "!/tmp/plink2/plink2 \\\n",
    "  --bgen {LOCAL_MERGED_BGEN} ref-first \\\n",
    "  --chr 1-22 \\\n",
    "  --indep-pairwise 200 100 0.1 \\\n",
    "  --out aou_alpha1_ukb_lipids_plink_ld"
   ]
  },
  {
   "cell_type": "code",
   "execution_count": null,
   "metadata": {},
   "outputs": [],
   "source": [
    "%%bash\n",
    "\n",
    "wc -l *prune*"
   ]
  },
  {
   "cell_type": "code",
   "execution_count": null,
   "metadata": {},
   "outputs": [],
   "source": [
    "!gsutil -m cp aou_alpha1_ukb_lipids* {REGENIE_OUTPUTS}"
   ]
  },
  {
   "cell_type": "code",
   "execution_count": null,
   "metadata": {},
   "outputs": [],
   "source": [
    "!gsutil ls {REGENIE_OUTPUTS}"
   ]
  },
  {
   "cell_type": "markdown",
   "metadata": {},
   "source": [
    "# Provenance "
   ]
  },
  {
   "cell_type": "code",
   "execution_count": null,
   "metadata": {},
   "outputs": [],
   "source": [
    "%%bash\n",
    "\n",
    "date"
   ]
  },
  {
   "cell_type": "code",
   "execution_count": null,
   "metadata": {},
   "outputs": [],
   "source": [
    "%%bash\n",
    "\n",
    "pip3 freeze"
   ]
  }
 ],
 "metadata": {
  "kernelspec": {
   "display_name": "Python 3",
   "language": "python",
   "name": "python3"
  },
  "language_info": {
   "codemirror_mode": {
    "name": "ipython",
    "version": 3
   },
   "file_extension": ".py",
   "mimetype": "text/x-python",
   "name": "python",
   "nbconvert_exporter": "python",
   "pygments_lexer": "ipython3",
   "version": "3.7.10"
  },
  "toc": {
   "base_numbering": 1,
   "nav_menu": {},
   "number_sections": true,
   "sideBar": true,
   "skip_h1_title": false,
   "title_cell": "Table of Contents",
   "title_sidebar": "Contents",
   "toc_cell": false,
   "toc_position": {
    "height": "calc(100% - 180px)",
    "left": "10px",
    "top": "150px",
    "width": "213.975px"
   },
   "toc_section_display": true,
   "toc_window_display": true
  }
 },
 "nbformat": 4,
 "nbformat_minor": 2
}

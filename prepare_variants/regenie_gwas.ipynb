{
 "cells": [
  {
   "cell_type": "markdown",
   "metadata": {},
   "source": [
    "# Run a GWAS via regenie\n",
    "\n",
    "In this notebook, we perform a genome-wide association study using [regenie](https://rgcgithub.github.io/regenie/) via [dsub](https://github.com/databiosphere/dsub)."
   ]
  },
  {
   "cell_type": "markdown",
   "metadata": {},
   "source": [
    "# Setup "
   ]
  },
  {
   "cell_type": "code",
   "execution_count": null,
   "metadata": {},
   "outputs": [],
   "source": [
    "import os"
   ]
  },
  {
   "cell_type": "markdown",
   "metadata": {},
   "source": [
    "## Setup plink2\n",
    "\n",
    "https://www.cog-genomics.org/plink/2.0/"
   ]
  },
  {
   "cell_type": "code",
   "execution_count": null,
   "metadata": {},
   "outputs": [],
   "source": [
    "%%bash\n",
    "\n",
    "##### plink 2 install\n",
    "PLINK_VERSION=2.3.Alpha\n",
    "PLINK_ZIP_PATH=/tmp/plink-$PLINK_VERSION.zip\n",
    "curl -L -o $PLINK_ZIP_PATH https://s3.amazonaws.com/plink2-assets/alpha2/plink2_linux_x86_64.zip\n",
    "mkdir -p /tmp/plink2/\n",
    "unzip -o $PLINK_ZIP_PATH -d /tmp/plink2/"
   ]
  },
  {
   "cell_type": "code",
   "execution_count": null,
   "metadata": {},
   "outputs": [],
   "source": [
    "!/tmp/plink2/plink2 --version # --help"
   ]
  },
  {
   "cell_type": "markdown",
   "metadata": {},
   "source": [
    "## Setup regenie\n",
    "\n",
    "Note: regenie is already installed locally by default.\n",
    "\n",
    "For longer-running jobs we will run it via dsub. regenie is installed in Docker image `briansha/regenie:v2.0.1_boost`."
   ]
  },
  {
   "cell_type": "code",
   "execution_count": null,
   "metadata": {},
   "outputs": [],
   "source": [
    "!regenie --version # --help"
   ]
  },
  {
   "cell_type": "markdown",
   "metadata": {},
   "source": [
    "## Setup dsub\n",
    "\n",
    "<div class=\"alert alert-block alert-warning\">\n",
    "    <b>Cloud Environment</b>: This notebook was written for use on the All of Us Workbench. It runs fine on the default Cloud Environment. \n",
    "</div>"
   ]
  },
  {
   "cell_type": "code",
   "execution_count": null,
   "metadata": {},
   "outputs": [],
   "source": [
    "!pip3 install --upgrade dsub"
   ]
  },
  {
   "cell_type": "code",
   "execution_count": null,
   "metadata": {},
   "outputs": [],
   "source": [
    "!dsub --version # --help"
   ]
  },
  {
   "cell_type": "code",
   "execution_count": null,
   "metadata": {},
   "outputs": [],
   "source": [
    "%%bash\n",
    "\n",
    "gcloud auth list"
   ]
  },
  {
   "cell_type": "markdown",
   "metadata": {},
   "source": [
    "<div class=\"alert alert-block alert-warning\">\n",
    "    <b>Note:</b> (1) You must use your own PET account. (2) Your PET account has to be granted access to run itself as a service account.\n",
    "</div>"
   ]
  },
  {
   "cell_type": "markdown",
   "metadata": {},
   "source": [
    "## Setup bgen_reader"
   ]
  },
  {
   "cell_type": "code",
   "execution_count": null,
   "metadata": {},
   "outputs": [],
   "source": [
    "!pip3 install bgen-reader"
   ]
  },
  {
   "cell_type": "markdown",
   "metadata": {},
   "source": [
    "## Define constants"
   ]
  },
  {
   "cell_type": "markdown",
   "metadata": {},
   "source": [
    "The BGEN file created via `write_bgen_20210719_172314.ipynb`. To be determined whether it is in the correct format for regenie.\n",
    "\n",
    "Note that Brian successfully created a BGEN for regenie using this command:\n",
    "`./plink2 --bfile 'MEGA_data_common_filtered_final' --chr 1-22 --export bgen-1.2 bits=8  --out 'MEGA_data_common_filtered_final_chr1_22'`"
   ]
  },
  {
   "cell_type": "code",
   "execution_count": null,
   "metadata": {},
   "outputs": [],
   "source": [
    "REMOTE_MERGED_BGEN = 'gs://fc-secure-fd6786bf-6c28-4f33-ac30-3860fbeee5bb/data/merged/20210802/ukb-aou-alpha1-chr3.bgen'\n",
    "#'gs://fc-secure-fd6786bf-6c28-4f33-ac30-3860fbeee5bb/data/merged/20210729/ukb-aou-alpha1.bgen'\n",
    "#'gs://fc-secure-fd6786bf-6c28-4f33-ac30-3860fbeee5bb/data/merged/20210729/ukb-aou-alpha1-chr3.bgen'\n",
    "REMOTE_MERGED_BGEN_SAMPLE = 'gs://fc-secure-fd6786bf-6c28-4f33-ac30-3860fbeee5bb/data/merged/20210802/ukb-aou-alpha1-chr3.sample'\n",
    "# 'gs://fc-secure-fd6786bf-6c28-4f33-ac30-3860fbeee5bb/data/merged/20210729/ukb-aou-alpha1.sample'\n",
    "# 'gs://fc-secure-fd6786bf-6c28-4f33-ac30-3860fbeee5bb/data/merged/20210729/ukb-aou-alpha1-chr3.sample'\n",
    "\n",
    "LOCAL_MERGED_BGEN = os.path.basename(REMOTE_MERGED_BGEN)\n",
    "LOCAL_MERGED_BGEN_SAMPLE = os.path.basename(REMOTE_MERGED_BGEN_SAMPLE)"
   ]
  },
  {
   "cell_type": "markdown",
   "metadata": {},
   "source": [
    "This TSV was created via notebook `hail_gwas.ipynb`."
   ]
  },
  {
   "cell_type": "code",
   "execution_count": null,
   "metadata": {},
   "outputs": [],
   "source": [
    "REMOTE_PHENOTYPES = 'gs://fc-secure-fd6786bf-6c28-4f33-ac30-3860fbeee5bb/data/merged/20210727/phenotypes.tsv'\n",
    "\n",
    "LOCAL_PHENOTYPES = os.path.basename(REMOTE_PHENOTYPES)"
   ]
  },
  {
   "cell_type": "markdown",
   "metadata": {},
   "source": [
    "## Copy data locally for testing"
   ]
  },
  {
   "cell_type": "code",
   "execution_count": null,
   "metadata": {},
   "outputs": [],
   "source": [
    "!gsutil cp {REMOTE_MERGED_BGEN} {REMOTE_MERGED_BGEN_SAMPLE} {REMOTE_PHENOTYPES} .    "
   ]
  },
  {
   "cell_type": "code",
   "execution_count": null,
   "metadata": {},
   "outputs": [],
   "source": [
    "!head {LOCAL_PHENOTYPES}"
   ]
  },
  {
   "cell_type": "markdown",
   "metadata": {},
   "source": [
    "# Check the BGEN file\n",
    "\n",
    "There were a few problems that needed to be fixed:\n",
    "* the first time I created it, I hit [this issue](https://hail.zulipchat.com/#narrow/stream/123010-Hail-0.2E2.20support/topic/hl.2Eexport_bgen).\n",
    "* the second time, I realized that PLINK required rsids, so those were computed by Hail and written to a new BGEN"
   ]
  },
  {
   "cell_type": "code",
   "execution_count": null,
   "metadata": {},
   "outputs": [],
   "source": [
    "!head {LOCAL_MERGED_BGEN_SAMPLE}"
   ]
  },
  {
   "cell_type": "code",
   "execution_count": null,
   "metadata": {},
   "outputs": [],
   "source": [
    "from bgen_reader import read_bgen"
   ]
  },
  {
   "cell_type": "code",
   "execution_count": null,
   "metadata": {},
   "outputs": [],
   "source": [
    "bgen = read_bgen(LOCAL_MERGED_BGEN, verbose=True)"
   ]
  },
  {
   "cell_type": "code",
   "execution_count": null,
   "metadata": {},
   "outputs": [],
   "source": [
    "# Variants metadata.\n",
    "print(bgen[\"variants\"].head())"
   ]
  },
  {
   "cell_type": "code",
   "execution_count": null,
   "metadata": {},
   "outputs": [],
   "source": [
    "# Samples read from the bgen file.\n",
    "print(bgen[\"samples\"].head())"
   ]
  },
  {
   "cell_type": "code",
   "execution_count": null,
   "metadata": {},
   "outputs": [],
   "source": [
    "# Samples read from the bgen file.\n",
    "print(bgen[\"samples\"].tail())"
   ]
  },
  {
   "cell_type": "code",
   "execution_count": null,
   "metadata": {},
   "outputs": [],
   "source": [
    "# There are X variants in total.\n",
    "print(len(bgen[\"genotype\"]))"
   ]
  },
  {
   "cell_type": "code",
   "execution_count": null,
   "metadata": {},
   "outputs": [],
   "source": [
    "# This library avoid as much as possible accessing the bgen file for performance\n",
    "# and memory reasons. The `compute` function actually tells the library to\n",
    "# access the file to retrieve some data.\n",
    "geno = bgen[\"genotype\"][0].compute()\n",
    "print(geno.keys())\n",
    "# Let's have a look at the probabilities regarding the first variant.\n",
    "print(geno[\"probs\"])\n",
    "# The above matrix is of size samples-by-(combination-of-alleles).\n",
    "print(geno[\"probs\"].shape)"
   ]
  },
  {
   "cell_type": "markdown",
   "metadata": {},
   "source": [
    "## Check missingness"
   ]
  },
  {
   "cell_type": "code",
   "execution_count": null,
   "metadata": {},
   "outputs": [],
   "source": [
    "!/tmp/plink2/plink2 \\\n",
    "  --bgen {LOCAL_MERGED_BGEN} ref-first \\\n",
    "  --missing \\\n",
    "  --chr 21"
   ]
  },
  {
   "cell_type": "markdown",
   "metadata": {},
   "source": [
    "# Variant QC via PLINK\n",
    "\n",
    "Per Margaret, use [plink2 to perform the variant QC](https://rgcgithub.github.io/regenie/recommendations/#exclusion-files) and obtain a subset of SNPs roughly equal to the number of samples.\n",
    "\n",
    "\n",
    "We'll run this locally since its pretty quick."
   ]
  },
  {
   "cell_type": "code",
   "execution_count": null,
   "metadata": {},
   "outputs": [],
   "source": [
    "!/tmp/plink2/plink2 \\\n",
    "  --bgen {LOCAL_MERGED_BGEN} ref-first \\\n",
    "  --geno 0.1 \\\n",
    "  --mind 0.1 \\\n",
    "  --maf 0.01 \\\n",
    "  --hwe 1e-15 \\\n",
    "  --chr 1-22 \\\n",
    "  --write-snplist \\\n",
    "  --write-samples \\\n",
    "  --no-id-header \\\n",
    "  --out qc_pass\n",
    "\n",
    "# This is too strict and removes too many samples.\n",
    "#   --mac 100 \\\n",
    "\n",
    "# These parameters yield errors, and are not relevant to this variant QC.\n",
    "#  --pheno {LOCAL_PHENOTYPES} \\\n",
    "#  --pheno-name FID,IID,sex,LDL_norm \\"
   ]
  },
  {
   "cell_type": "code",
   "execution_count": null,
   "metadata": {},
   "outputs": [],
   "source": [
    "!ls -lth . | head"
   ]
  },
  {
   "cell_type": "code",
   "execution_count": null,
   "metadata": {},
   "outputs": [],
   "source": [
    "!head qc_pass.id"
   ]
  },
  {
   "cell_type": "code",
   "execution_count": null,
   "metadata": {},
   "outputs": [],
   "source": [
    "!wc -l qc_pass.id"
   ]
  },
  {
   "cell_type": "code",
   "execution_count": null,
   "metadata": {},
   "outputs": [],
   "source": [
    "!head qc_pass.snplist"
   ]
  },
  {
   "cell_type": "code",
   "execution_count": null,
   "metadata": {},
   "outputs": [],
   "source": [
    "!tail qc_pass.snplist"
   ]
  },
  {
   "cell_type": "code",
   "execution_count": null,
   "metadata": {},
   "outputs": [],
   "source": [
    "!wc -l qc_pass.snplist"
   ]
  },
  {
   "cell_type": "markdown",
   "metadata": {},
   "source": [
    "# regenie\n",
    "\n",
    "This work is based on https://github.com/briansha/Regenie_WDL/blob/master/regenie.wdl\n",
    "\n",
    "See also:\n",
    "* regenie documentation https://rgcgithub.github.io/regenie/options/#input\n",
    "* dsub documentation https://github.com/DataBiosphere/dsub/blob/main/docs/input_output.md"
   ]
  },
  {
   "cell_type": "markdown",
   "metadata": {},
   "source": [
    "## Step 1\n",
    "\n",
    "From https://rgcgithub.github.io/regenie/overview/:\n",
    "> In the first step a subset of genetic markers are used to fit a whole genome regression model that captures a good fraction of the phenotype variance attributable to genetic effects."
   ]
  },
  {
   "cell_type": "code",
   "execution_count": null,
   "metadata": {},
   "outputs": [],
   "source": [
    "# Parameters to add\n",
    "# 8 core machine\n",
    "# 11 GB ram\n",
    "# 500 GB disk\n",
    "\n",
    "!regenie \\\n",
    "    --step 1 \\\n",
    "    --bgen={LOCAL_MERGED_BGEN} \\\n",
    "    --ref-first \\\n",
    "    --sample={LOCAL_MERGED_BGEN_SAMPLE} \\\n",
    "    --phenoFile={LOCAL_PHENOTYPES} \\\n",
    "    --phenoColList=LDL_norm,HDL_norm,TC_norm,TG_norm \\\n",
    "    --covarFile={LOCAL_PHENOTYPES} \\\n",
    "    --covarColList=is_male,is_aou_cohort,age,age2,pc1,pc2,pc3,pc4,pc5,pc6,pc7,pc8,pc9,pc10 \\\n",
    "    --extract qc_pass.snplist \\\n",
    "    --bsize 1000 \\\n",
    "    --verbose \\\n",
    "    --out fit_bin_out\n",
    "\n",
    "# Note that no samples were omitted by the QC step, so we are leaving out this file since regenie \n",
    "# complained that it did not match the samples in the BGEN file.\n",
    "#     --keep qc_pass.id \\\n"
   ]
  },
  {
   "cell_type": "markdown",
   "metadata": {},
   "source": [
    "## Step 2\n",
    "\n",
    "From https://rgcgithub.github.io/regenie/overview/:\n",
    "> In the second step, a larger set of genetic markers (e.g. imputed markers) are tested for association with the phenotype conditional upon the prediction from the regression model in Step 1, using a leave one chromosome out (LOCO) scheme, that avoids proximal contamination."
   ]
  },
  {
   "cell_type": "code",
   "execution_count": null,
   "metadata": {},
   "outputs": [],
   "source": [
    "!regenie \\\n",
    "    --step 2 \\\n",
    "    --bgen={LOCAL_MERGED_BGEN} \\\n",
    "    --ref-first \\\n",
    "    --sample={LOCAL_MERGED_BGEN_SAMPLE} \\\n",
    "    --phenoFile={LOCAL_PHENOTYPES} \\\n",
    "    --phenoColList=LDL_norm,HDL_norm,TC_norm,TG_norm \\\n",
    "    --covarFile={LOCAL_PHENOTYPES} \\\n",
    "    --covarColList=is_male,is_aou_cohort,age,age2,pc1,pc2,pc3,pc4,pc5,pc6,pc7,pc8,pc9,pc10 \\\n",
    "    --firth 0.01 \\\n",
    "    --approx \\\n",
    "    --pred fit_bin_out_pred.list \\\n",
    "    --bsize 400 \\\n",
    "    --split \\\n",
    "    --out merged_aou_ukb_step2"
   ]
  },
  {
   "cell_type": "code",
   "execution_count": null,
   "metadata": {},
   "outputs": [],
   "source": [
    "!ls -lth . | head -20"
   ]
  },
  {
   "cell_type": "markdown",
   "metadata": {},
   "source": [
    "# Appendix\n",
    "\n",
    "Still re-writing the sections below to run this at scale in the background via dsub."
   ]
  },
  {
   "cell_type": "markdown",
   "metadata": {},
   "source": [
    "## regenie via dsub"
   ]
  },
  {
   "cell_type": "code",
   "execution_count": null,
   "metadata": {},
   "outputs": [],
   "source": [
    "#%%bash\n",
    "\n",
    "# Parameters to add\n",
    "# 8 core machine\n",
    "# 11 GB ram\n",
    "# 500 GB disk\n",
    "# --input VARIANT_EXCLUSION_FILE=TODO(deflaux) \\\n",
    "# --exclude=\"${VARIANT_EXCLUSION_FILE}\" \\\n",
    "# NOTE: per Margaret, instead of using the exclusion file, use plink2 to perform the QC\n",
    "# and obtain a subset of SNPs roughly equal to the number of samples.\n",
    "\n",
    "job_response = !dsub \\\n",
    "  --provider google-cls-v2 \\\n",
    "  --service-account \"pet-101767132834091462320@aou-rw-preprod-acef10ae.iam.gserviceaccount.com\" \\\n",
    "  --project \"${GOOGLE_PROJECT}\" \\\n",
    "  --zones \"us-central1-*\" \\\n",
    "  --network \"network\" \\\n",
    "  --subnetwork \"subnetwork\" \\\n",
    "  --image \"briansha/regenie:v2.0.1_boost\" \\\n",
    "  --logging \"${WORKSPACE_BUCKET}/dsub/logging/$(date +'%Y%m%d/%H%M%S')\" \\\n",
    "  --input PHENO_FILE=gs://fc-secure-fd6786bf-6c28-4f33-ac30-3860fbeee5bb/data/merged/20210727/phenotypes.tsv \\\n",
    "  --input BGEN_FILE=gs://fc-secure-fd6786bf-6c28-4f33-ac30-3860fbeee5bb/data/merged/20210719/ukb-aou-alpha1.bgen \\\n",
    "  --input SAMPLE_FILE=gs://fc-secure-fd6786bf-6c28-4f33-ac30-3860fbeee5bb/data/merged/20210719/ukb-aou-alpha1.sample \\\n",
    "  --output OUT=\"${WORKSPACE_BUCKET}/dsub/regenie-step1/$(date +'%Y%m%d/%H%M%S')/fit_bin_out\" \\\n",
    "  --command 'set -euo pipefail \\\n",
    "    regenie \\\n",
    "      --step 1 \\\n",
    "      --bgen=\"${BGEN_FILE}\"\\\n",
    "      --sample=\"${SAMPLE_FILE}\" \\\n",
    "      --phenoFile=\"${PHENO_FILE}\" \\\n",
    "      --phenoColList=LDL_norm,HDL_norm,TC_norm,TG_norm \\\n",
    "      --covarFile=\"${PHENO_FILE}\" \\\n",
    "      --covarColList=is_male,is_aou_cohort,age,age2,pc1,pc2,pc3,pc4,pc5,pc6,pc7,pc8,pc9,pc10 \\\n",
    "      --bt \\\n",
    "      --bsize 1000 \\\n",
    "      --verbose \\\n",
    "      --out fit_bin_out \\\n",
    "    && ls -la'\n",
    "\n",
    "job_response"
   ]
  },
  {
   "cell_type": "code",
   "execution_count": null,
   "metadata": {},
   "outputs": [],
   "source": [
    "JOB_ID = job_response[1].split(' ')[3]\n",
    "\n",
    "JOB_ID"
   ]
  },
  {
   "cell_type": "code",
   "execution_count": null,
   "metadata": {},
   "outputs": [],
   "source": [
    "%%bash\n",
    "\n",
    "# Parameters to add\n",
    "# 8 core machine\n",
    "# --input VARIANT_EXCLUSION_FILE=TODO(deflaux) \\\n",
    "# --exclude=\"${VARIANT_EXCLUSION_FILE}\" \\\n",
    "\n",
    "dsub \\\n",
    "  --provider google-cls-v2 \\\n",
    "  --service-account \"pet-101767132834091462320@aou-rw-preprod-acef10ae.iam.gserviceaccount.com\" \\\n",
    "  --project \"${GOOGLE_PROJECT}\" \\\n",
    "  --zones \"us-central1-*\" \\\n",
    "  --network \"network\" \\\n",
    "  --subnetwork \"subnetwork\" \\\n",
    "  --image \"briansha/regenie:v2.0.1_boost\" \\\n",
    "  --logging \"${WORKSPACE_BUCKET}/dsub/logging/$(date +'%Y%m%d/%H%M%S')\" \\\n",
    "  --input PHENO_FILE=gs://fc-secure-fd6786bf-6c28-4f33-ac30-3860fbeee5bb/data/merged/20210727/phenotypes.tsv \\\n",
    "  --input BGEN_FILE=gs://fc-secure-fd6786bf-6c28-4f33-ac30-3860fbeee5bb/data/merged/20210719/ukb-aou-alpha1.bgen \\\n",
    "  --input SAMPLE_FILE=gs://fc-secure-fd6786bf-6c28-4f33-ac30-3860fbeee5bb/data/merged/20210719/ukb-aou-alpha1.sample \\\n",
    "  --output OUT=\"${WORKSPACE_BUCKET}/dsub/regenie-step1/$(date +'%Y%m%d/%H%M%S')/fit_bin_out\" \\\n",
    "  --command 'set -euo pipefail\n",
    "        regenie \\\n",
    "        --step 1 \\\n",
    "        --bgen=\"${BGEN_FILE}\"\\\n",
    "        --sample=\"${SAMPLE_FILE}\" \\\n",
    "        --phenoFile=\"${PHENO_FILE}\" \\\n",
    "        --phenoColList=LDL_norm,HDL_norm,TC_norm,TG_norm \\\n",
    "        --covarFile=\"${PHENO_FILE}\" \\\n",
    "        --covarColList=is_male,is_aou_cohort,age,age2,pc1,pc2,pc3,pc4,pc5,pc6,pc7,pc8,pc9,pc10 \\\n",
    "        --bt \\\n",
    "        --bsize 1000 \\\n",
    "        --verbose \\\n",
    "        --out fit_bin_out \\\n",
    "    && ls -la\n",
    "  '"
   ]
  },
  {
   "cell_type": "code",
   "execution_count": null,
   "metadata": {},
   "outputs": [],
   "source": [
    "stat_response = !dstat --provider google-cls-v2 --project aou-rw-preprod-acef10ae --location us-central1 \\\n",
    "    --users jupyter-user --status '*' --full \\\n",
    "    --jobs {job_id[1].split(' ')[3]}\n",
    "\n",
    "stat_response"
   ]
  },
  {
   "cell_type": "code",
   "execution_count": null,
   "metadata": {},
   "outputs": [],
   "source": [
    "%%bash\n",
    "\n",
    "gsutil cat \"${WORKSPACE_BUCKET}/dsub/logging/20210727/235345/set--jupyter-user--210727-235345-76.log\""
   ]
  },
  {
   "cell_type": "markdown",
   "metadata": {},
   "source": [
    "## Compress Hail logs"
   ]
  },
  {
   "cell_type": "code",
   "execution_count": null,
   "metadata": {},
   "outputs": [],
   "source": [
    "logs = !gsutil ls \"${WORKSPACE_BUCKET}/hail-logs/*/*.log\"\n",
    "\n",
    "logs"
   ]
  },
  {
   "cell_type": "code",
   "execution_count": null,
   "metadata": {},
   "outputs": [],
   "source": [
    "import pandas as pd"
   ]
  },
  {
   "cell_type": "code",
   "execution_count": null,
   "metadata": {},
   "outputs": [],
   "source": [
    "df = pd.DataFrame(data={\n",
    "    '--input INPUT_FILE': logs,\n",
    "    '--output OUTPUT_FILE': [f'{log}.gz' for log in logs]\n",
    "})\n",
    "\n",
    "df.head()"
   ]
  },
  {
   "cell_type": "code",
   "execution_count": null,
   "metadata": {},
   "outputs": [],
   "source": [
    "df.to_csv('compress_hail_logs.tsv', sep='\\t', index=False)"
   ]
  },
  {
   "cell_type": "code",
   "execution_count": null,
   "metadata": {},
   "outputs": [],
   "source": [
    "!cat compress_hail_logs.tsv | head"
   ]
  },
  {
   "cell_type": "code",
   "execution_count": null,
   "metadata": {},
   "outputs": [],
   "source": [
    "%%bash\n",
    "\n",
    "dsub \\\n",
    "  --provider google-cls-v2 \\\n",
    "  --service-account \"pet-101767132834091462320@aou-rw-preprod-acef10ae.iam.gserviceaccount.com\" \\\n",
    "  --project \"${GOOGLE_PROJECT}\" \\\n",
    "  --preemptible \\\n",
    "  --zones \"us-central1-*\" \\\n",
    "  --network \"network\" \\\n",
    "  --subnetwork \"subnetwork\" \\\n",
    "  --logging \"${WORKSPACE_BUCKET}/dsub/logging/$(date +'%Y%m%d/%H%M%S')\" \\\n",
    "  --command 'set -o errexit && \\\n",
    "             set -o xtrace && \\\n",
    "             gzip ${INPUT_FILE} && \\\n",
    "             mv ${INPUT_FILE}.gz $(dirname ${OUTPUT_FILE})' \\\n",
    "  --tasks compress_hail_logs.tsv \\\n",
    "  --wait"
   ]
  },
  {
   "cell_type": "code",
   "execution_count": null,
   "metadata": {},
   "outputs": [],
   "source": [
    "%%bash\n",
    "\n",
    "dstat --provider google-cls-v2 --project aou-rw-preprod-acef10ae --location us-central1 \\\n",
    "    --jobs 'set--jupyter-user--210719-221709-68' \\\n",
    "    --users 'jupyter-user' --status '*'   --full"
   ]
  },
  {
   "cell_type": "code",
   "execution_count": null,
   "metadata": {},
   "outputs": [],
   "source": [
    "%%bash\n",
    "\n",
    "gsutil cat \"${WORKSPACE_BUCKET}/dsub/logging/20210719/221708/set--jupyter-user--210719-221709-68.1*\""
   ]
  },
  {
   "cell_type": "code",
   "execution_count": null,
   "metadata": {},
   "outputs": [],
   "source": [
    "compressed_logs = !gsutil ls \"${WORKSPACE_BUCKET}/hail-logs/*/*.log.gz\"\n",
    "\n",
    "compressed_logs[0:9]"
   ]
  },
  {
   "cell_type": "code",
   "execution_count": null,
   "metadata": {},
   "outputs": [],
   "source": [
    "len(logs)"
   ]
  },
  {
   "cell_type": "code",
   "execution_count": null,
   "metadata": {},
   "outputs": [],
   "source": [
    "len(compressed_logs)"
   ]
  },
  {
   "cell_type": "code",
   "execution_count": null,
   "metadata": {},
   "outputs": [],
   "source": [
    "!gsutil -m rm \"${WORKSPACE_BUCKET}/hail-logs/*/*.log\""
   ]
  },
  {
   "cell_type": "markdown",
   "metadata": {},
   "source": [
    "# Provenance "
   ]
  },
  {
   "cell_type": "code",
   "execution_count": null,
   "metadata": {},
   "outputs": [],
   "source": [
    "%%bash\n",
    "\n",
    "date"
   ]
  },
  {
   "cell_type": "code",
   "execution_count": null,
   "metadata": {},
   "outputs": [],
   "source": [
    "%%bash\n",
    "\n",
    "pip3 freeze"
   ]
  }
 ],
 "metadata": {
  "kernelspec": {
   "display_name": "Python 3",
   "language": "python",
   "name": "python3"
  },
  "language_info": {
   "codemirror_mode": {
    "name": "ipython",
    "version": 3
   },
   "file_extension": ".py",
   "mimetype": "text/x-python",
   "name": "python",
   "nbconvert_exporter": "python",
   "pygments_lexer": "ipython3",
   "version": "3.7.10"
  },
  "toc": {
   "base_numbering": 1,
   "nav_menu": {},
   "number_sections": true,
   "sideBar": true,
   "skip_h1_title": false,
   "title_cell": "Table of Contents",
   "title_sidebar": "Contents",
   "toc_cell": false,
   "toc_position": {
    "height": "calc(100% - 180px)",
    "left": "10px",
    "top": "150px",
    "width": "213.949px"
   },
   "toc_section_display": true,
   "toc_window_display": true
  }
 },
 "nbformat": 4,
 "nbformat_minor": 2
}

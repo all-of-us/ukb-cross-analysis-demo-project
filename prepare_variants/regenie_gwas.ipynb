{
 "cells": [
  {
   "cell_type": "markdown",
   "metadata": {},
   "source": [
    "# Run a GWAS via regenie\n",
    "\n",
    "In this notebook, we perform a genome-wide association study using [regenie](https://rgcgithub.github.io/regenie/) via [dsub](https://github.com/databiosphere/dsub)."
   ]
  },
  {
   "cell_type": "markdown",
   "metadata": {},
   "source": [
    "# Setup dsub\n",
    "\n",
    "<div class=\"alert alert-block alert-warning\">\n",
    "    <b>Cloud Environment</b>: This notebook was written for use on the All of Us Workbench. It runs fine on the default Cloud Environment. \n",
    "</div>"
   ]
  },
  {
   "cell_type": "code",
   "execution_count": null,
   "metadata": {},
   "outputs": [],
   "source": [
    "!pip3 install --upgrade dsub"
   ]
  },
  {
   "cell_type": "code",
   "execution_count": null,
   "metadata": {},
   "outputs": [],
   "source": [
    "%%bash\n",
    "\n",
    "gcloud auth list"
   ]
  },
  {
   "cell_type": "markdown",
   "metadata": {},
   "source": [
    "<div class=\"alert alert-block alert-warning\">\n",
    "    <b>Note:</b> (1) You must use your own PET account. (2) Your PET account has to be granted access to run itself as a service account.\n",
    "</div>"
   ]
  },
  {
   "cell_type": "markdown",
   "metadata": {},
   "source": [
    "# regenie\n",
    "\n",
    "This work is based on https://github.com/briansha/Regenie_WDL/blob/master/regenie.wdl\n",
    "\n",
    "See also https://rgcgithub.github.io/regenie/options/#input"
   ]
  },
  {
   "cell_type": "markdown",
   "metadata": {},
   "source": [
    "## Step 1\n",
    "\n",
    "From https://rgcgithub.github.io/regenie/overview/:\n",
    "> In the first step a subset of genetic markers are used to fit a whole genome regression model that captures a good fraction of the phenotype variance attributable to genetic effects."
   ]
  },
  {
   "cell_type": "code",
   "execution_count": null,
   "metadata": {},
   "outputs": [],
   "source": [
    "%%bash\n",
    "\n",
    "# Parameters to add\n",
    "# 8 core machine\n",
    "# --input VARIANT_EXCLUSION_FILE=TODO(deflaux) \\\n",
    "# --exclude=\"${VARIANT_EXCLUSION_FILE}\" \\\n",
    "\n",
    "job_id = !dsub \\\n",
    "  --provider google-cls-v2 \\\n",
    "  --service-account \"pet-101767132834091462320@aou-rw-preprod-acef10ae.iam.gserviceaccount.com\" \\\n",
    "  --project \"${GOOGLE_PROJECT}\" \\\n",
    "  --zones \"us-central1-*\" \\\n",
    "  --network \"network\" \\\n",
    "  --subnetwork \"subnetwork\" \\\n",
    "  --image \"briansha/regenie:v2.0.1_boost\" \\\n",
    "  --logging \"${WORKSPACE_BUCKET}/dsub/logging/$(date +'%Y%m%d/%H%M%S')\" \\\n",
    "  --input PHENO_FILE=gs://fc-secure-fd6786bf-6c28-4f33-ac30-3860fbeee5bb/data/merged/20210727/phenotypes.tsv \\\n",
    "  --input BGEN_FILE=gs://fc-secure-fd6786bf-6c28-4f33-ac30-3860fbeee5bb/data/merged/20210719/ukb-aou-alpha1.bgen \\\n",
    "  --input SAMPLE_FILE=gs://fc-secure-fd6786bf-6c28-4f33-ac30-3860fbeee5bb/data/merged/20210719/ukb-aou-alpha1.sample \\\n",
    "  --output OUT=\"${WORKSPACE_BUCKET}/dsub/regenie-step1/$(date +'%Y%m%d/%H%M%S')/fit_bin_out\" \\\n",
    "  --command 'set -euo pipefail\n",
    "        regenie \\\n",
    "        --step 1 \\\n",
    "        --bgen=\"${BGEN_FILE}\"\\\n",
    "        --sample=\"${SAMPLE_FILE}\" \\\n",
    "        --phenoFile=\"${PHENO_FILE}\" \\\n",
    "        --phenoColList=LDL_norm,HDL_norm,TC_norm,TG_norm \\\n",
    "        --covarFile=\"${PHENO_FILE}\" \\\n",
    "        --covarColList=is_male,is_aou_cohort,age,age2,pc1,pc2,pc3,pc4,pc5,pc6,pc7,pc8,pc9,pc10 \\\n",
    "        --bt \\\n",
    "        --bsize 1000 \\\n",
    "        --verbose \\\n",
    "        --out fit_bin_out \\\n",
    "    && ls -la\n",
    "  '"
   ]
  },
  {
   "cell_type": "code",
   "execution_count": null,
   "metadata": {},
   "outputs": [],
   "source": [
    "%%bash\n",
    "\n",
    "# Parameters to add\n",
    "# 8 core machine\n",
    "# --input VARIANT_EXCLUSION_FILE=TODO(deflaux) \\\n",
    "# --exclude=\"${VARIANT_EXCLUSION_FILE}\" \\\n",
    "\n",
    "dsub \\\n",
    "  --provider google-cls-v2 \\\n",
    "  --service-account \"pet-101767132834091462320@aou-rw-preprod-acef10ae.iam.gserviceaccount.com\" \\\n",
    "  --project \"${GOOGLE_PROJECT}\" \\\n",
    "  --zones \"us-central1-*\" \\\n",
    "  --network \"network\" \\\n",
    "  --subnetwork \"subnetwork\" \\\n",
    "  --image \"briansha/regenie:v2.0.1_boost\" \\\n",
    "  --logging \"${WORKSPACE_BUCKET}/dsub/logging/$(date +'%Y%m%d/%H%M%S')\" \\\n",
    "  --input PHENO_FILE=gs://fc-secure-fd6786bf-6c28-4f33-ac30-3860fbeee5bb/data/merged/20210727/phenotypes.tsv \\\n",
    "  --input BGEN_FILE=gs://fc-secure-fd6786bf-6c28-4f33-ac30-3860fbeee5bb/data/merged/20210719/ukb-aou-alpha1.bgen \\\n",
    "  --input SAMPLE_FILE=gs://fc-secure-fd6786bf-6c28-4f33-ac30-3860fbeee5bb/data/merged/20210719/ukb-aou-alpha1.sample \\\n",
    "  --output OUT=\"${WORKSPACE_BUCKET}/dsub/regenie-step1/$(date +'%Y%m%d/%H%M%S')/fit_bin_out\" \\\n",
    "  --command 'set -euo pipefail\n",
    "        regenie \\\n",
    "        --step 1 \\\n",
    "        --bgen=\"${BGEN_FILE}\"\\\n",
    "        --sample=\"${SAMPLE_FILE}\" \\\n",
    "        --phenoFile=\"${PHENO_FILE}\" \\\n",
    "        --phenoColList=LDL_norm,HDL_norm,TC_norm,TG_norm \\\n",
    "        --covarFile=\"${PHENO_FILE}\" \\\n",
    "        --covarColList=is_male,is_aou_cohort,age,age2,pc1,pc2,pc3,pc4,pc5,pc6,pc7,pc8,pc9,pc10 \\\n",
    "        --bt \\\n",
    "        --bsize 1000 \\\n",
    "        --verbose \\\n",
    "        --out fit_bin_out \\\n",
    "    && ls -la\n",
    "  '"
   ]
  },
  {
   "cell_type": "code",
   "execution_count": null,
   "metadata": {},
   "outputs": [],
   "source": [
    "%%bash\n",
    "\n",
    "dstat --provider google-cls-v2 --project aou-rw-preprod-acef10ae --location us-central1 \\\n",
    "    --users jupyter-user --status '*' --full \\\n",
    "    --jobs set--jupyter-user--210727-235345-76    "
   ]
  },
  {
   "cell_type": "code",
   "execution_count": null,
   "metadata": {},
   "outputs": [],
   "source": [
    "%%bash\n",
    "\n",
    "gsutil cat \"${WORKSPACE_BUCKET}/dsub/logging/20210727/235345/set--jupyter-user--210727-235345-76.log\""
   ]
  },
  {
   "cell_type": "markdown",
   "metadata": {},
   "source": [
    "## Step 2\n",
    "\n",
    "From https://rgcgithub.github.io/regenie/overview/:\n",
    "> In the second step, a larger set of genetic markers (e.g. imputed markers) are tested for association with the phenotype conditional upon the prediction from the regression model in Step 1, using a leave one chromosome out (LOCO) scheme, that avoids proximal contamination."
   ]
  },
  {
   "cell_type": "code",
   "execution_count": null,
   "metadata": {},
   "outputs": [],
   "source": []
  },
  {
   "cell_type": "markdown",
   "metadata": {},
   "source": [
    "# Appendix"
   ]
  },
  {
   "cell_type": "markdown",
   "metadata": {},
   "source": [
    "## Compress Hail logs"
   ]
  },
  {
   "cell_type": "code",
   "execution_count": null,
   "metadata": {},
   "outputs": [],
   "source": [
    "logs = !gsutil ls \"${WORKSPACE_BUCKET}/hail-logs/*/*.log\"\n",
    "\n",
    "logs"
   ]
  },
  {
   "cell_type": "code",
   "execution_count": null,
   "metadata": {},
   "outputs": [],
   "source": [
    "import pandas as pd"
   ]
  },
  {
   "cell_type": "code",
   "execution_count": null,
   "metadata": {},
   "outputs": [],
   "source": [
    "df = pd.DataFrame(data={\n",
    "    '--input INPUT_FILE': logs,\n",
    "    '--output OUTPUT_FILE': [f'{log}.gz' for log in logs]\n",
    "})\n",
    "\n",
    "df.head()"
   ]
  },
  {
   "cell_type": "code",
   "execution_count": null,
   "metadata": {},
   "outputs": [],
   "source": [
    "df.to_csv('compress_hail_logs.tsv', sep='\\t', index=False)"
   ]
  },
  {
   "cell_type": "code",
   "execution_count": null,
   "metadata": {},
   "outputs": [],
   "source": [
    "!cat compress_hail_logs.tsv | head"
   ]
  },
  {
   "cell_type": "code",
   "execution_count": null,
   "metadata": {},
   "outputs": [],
   "source": [
    "%%bash\n",
    "\n",
    "dsub \\\n",
    "  --provider google-cls-v2 \\\n",
    "  --service-account \"pet-101767132834091462320@aou-rw-preprod-acef10ae.iam.gserviceaccount.com\" \\\n",
    "  --project \"${GOOGLE_PROJECT}\" \\\n",
    "  --preemptible \\\n",
    "  --zones \"us-central1-*\" \\\n",
    "  --network \"network\" \\\n",
    "  --subnetwork \"subnetwork\" \\\n",
    "  --logging \"${WORKSPACE_BUCKET}/dsub/logging/$(date +'%Y%m%d/%H%M%S')\" \\\n",
    "  --command 'set -o errexit && \\\n",
    "             set -o xtrace && \\\n",
    "             gzip ${INPUT_FILE} && \\\n",
    "             mv ${INPUT_FILE}.gz $(dirname ${OUTPUT_FILE})' \\\n",
    "  --tasks compress_hail_logs.tsv \\\n",
    "  --wait"
   ]
  },
  {
   "cell_type": "code",
   "execution_count": null,
   "metadata": {},
   "outputs": [],
   "source": [
    "%%bash\n",
    "\n",
    "dstat --provider google-cls-v2 --project aou-rw-preprod-acef10ae --location us-central1 \\\n",
    "    --jobs 'set--jupyter-user--210719-221709-68' \\\n",
    "    --users 'jupyter-user' --status '*'   --full"
   ]
  },
  {
   "cell_type": "code",
   "execution_count": null,
   "metadata": {},
   "outputs": [],
   "source": [
    "%%bash\n",
    "\n",
    "gsutil cat \"${WORKSPACE_BUCKET}/dsub/logging/20210719/221708/set--jupyter-user--210719-221709-68.1*\""
   ]
  },
  {
   "cell_type": "code",
   "execution_count": null,
   "metadata": {},
   "outputs": [],
   "source": [
    "compressed_logs = !gsutil ls \"${WORKSPACE_BUCKET}/hail-logs/*/*.log.gz\"\n",
    "\n",
    "compressed_logs[0:9]"
   ]
  },
  {
   "cell_type": "code",
   "execution_count": null,
   "metadata": {},
   "outputs": [],
   "source": [
    "len(logs)"
   ]
  },
  {
   "cell_type": "code",
   "execution_count": null,
   "metadata": {},
   "outputs": [],
   "source": [
    "len(compressed_logs)"
   ]
  },
  {
   "cell_type": "code",
   "execution_count": null,
   "metadata": {},
   "outputs": [],
   "source": [
    "!gsutil -m rm \"${WORKSPACE_BUCKET}/hail-logs/*/*.log\""
   ]
  },
  {
   "cell_type": "markdown",
   "metadata": {},
   "source": [
    "# Provenance "
   ]
  },
  {
   "cell_type": "code",
   "execution_count": null,
   "metadata": {},
   "outputs": [],
   "source": [
    "%%bash\n",
    "\n",
    "date"
   ]
  },
  {
   "cell_type": "code",
   "execution_count": null,
   "metadata": {},
   "outputs": [],
   "source": [
    "%%bash\n",
    "\n",
    "pip3 freeze"
   ]
  }
 ],
 "metadata": {
  "kernelspec": {
   "display_name": "Python 3",
   "language": "python",
   "name": "python3"
  },
  "language_info": {
   "codemirror_mode": {
    "name": "ipython",
    "version": 3
   },
   "file_extension": ".py",
   "mimetype": "text/x-python",
   "name": "python",
   "nbconvert_exporter": "python",
   "pygments_lexer": "ipython3",
   "version": "3.7.10"
  },
  "toc": {
   "base_numbering": 1,
   "nav_menu": {},
   "number_sections": true,
   "sideBar": true,
   "skip_h1_title": false,
   "title_cell": "Table of Contents",
   "title_sidebar": "Contents",
   "toc_cell": false,
   "toc_position": {
    "height": "calc(100% - 180px)",
    "left": "10px",
    "top": "150px",
    "width": "379px"
   },
   "toc_section_display": true,
   "toc_window_display": true
  }
 },
 "nbformat": 4,
 "nbformat_minor": 2
}

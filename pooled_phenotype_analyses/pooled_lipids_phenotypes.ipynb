{
 "cells": [
  {
   "cell_type": "markdown",
   "metadata": {},
   "source": [
    "# Pooled lipids phenotypes and covariates\n",
    "\n",
    "In this notebook we review and explore the pooled All of Us and UK Biobank data for lipids phenotypes and covariates."
   ]
  },
  {
   "cell_type": "markdown",
   "metadata": {},
   "source": [
    "# Setup\n",
    "\n",
    "<div class=\"alert alert-block alert-warning\">\n",
    "    <b>Cloud Environment</b>: This notebook was written for use on All of Us Workbench. It runs fine on the default Cloud Environment. \n",
    "</div>"
   ]
  },
  {
   "cell_type": "code",
   "execution_count": null,
   "metadata": {},
   "outputs": [],
   "source": [
    "lapply(c('hrbrthemes', 'skimr', 'tidyverse', 'qqman'),\n",
    "       function(pkg) { if(! pkg %in% installed.packages()) { install.packages(pkg)} } )"
   ]
  },
  {
   "cell_type": "code",
   "execution_count": null,
   "metadata": {},
   "outputs": [],
   "source": [
    "library(hrbrthemes)\n",
    "library(qqman)\n",
    "library(skimr)\n",
    "library(tidyverse)"
   ]
  },
  {
   "cell_type": "code",
   "execution_count": null,
   "metadata": {},
   "outputs": [],
   "source": [
    "# Set some visualiation defaults.\n",
    "theme_set(theme_ipsum(base_size = 16)) # Default theme for plots.\n",
    "\n",
    "#' Returns a data frame with a y position and a label, for use annotating ggplot boxplots.\n",
    "#'\n",
    "#' @param d A data frame.\n",
    "#' @return A data frame with column y as max and column label as length.\n",
    "get_boxplot_fun_data <- function(df) {\n",
    "  return(data.frame(y = max(df), label = stringr::str_c('N = ', length(df))))\n",
    "}"
   ]
  },
  {
   "cell_type": "markdown",
   "metadata": {},
   "source": [
    "# Constants"
   ]
  },
  {
   "cell_type": "code",
   "execution_count": null,
   "metadata": {},
   "outputs": [],
   "source": [
    "AOU_PHENO <- 'gs://fc-secure-fd6786bf-6c28-4f33-ac30-3860fbeee5bb/data/AOU_Full_Data.csv'\n",
    "UKB_PHENO <- 'gs://fc-secure-fd6786bf-6c28-4f33-ac30-3860fbeee5bb/data/UKB_Full_Data.csv'"
   ]
  },
  {
   "cell_type": "code",
   "execution_count": null,
   "metadata": {},
   "outputs": [],
   "source": [
    "GWAS_PHENO <- c(\n",
    "    'gs://fc-secure-fd6786bf-6c28-4f33-ac30-3860fbeee5bb/data/MergedData_HDL_Iteration2_ForGWAS.csv',\n",
    "    'gs://fc-secure-fd6786bf-6c28-4f33-ac30-3860fbeee5bb/data/MergedData_LDL_Iteration2_ForGWAS.csv',\n",
    "    'gs://fc-secure-fd6786bf-6c28-4f33-ac30-3860fbeee5bb/data/MergedData_TC_Iteration2_ForGWAS.csv',\n",
    "    'gs://fc-secure-fd6786bf-6c28-4f33-ac30-3860fbeee5bb/data/MergedData_TG_Iteration2_ForGWAS.csv'\n",
    ")\n",
    "\n",
    "# The phenotype file from 20210816 had a failure during the step to copy it to the workspace bucket.\n",
    "REGENIE_PHENO <- 'gs://fc-secure-fd6786bf-6c28-4f33-ac30-3860fbeee5bb/data/regenie/20210819/aou_alpha1_ukb_lipids_phenotypes_and_covariates.tsv'\n",
    "\n",
    "REGENIE_RESULTS <- c(\n",
    "    'gs://fc-secure-fd6786bf-6c28-4f33-ac30-3860fbeee5bb/data/regenie/20210816/aou_alpha1_ukb_lipids_regenie_part2_HDLnorm.regenie',\n",
    "    'gs://fc-secure-fd6786bf-6c28-4f33-ac30-3860fbeee5bb/data/regenie/20210816/aou_alpha1_ukb_lipids_regenie_part2_LDLnorm.regenie',\n",
    "    'gs://fc-secure-fd6786bf-6c28-4f33-ac30-3860fbeee5bb/data/regenie/20210816/aou_alpha1_ukb_lipids_regenie_part2_TCnorm.regenie',\n",
    "    'gs://fc-secure-fd6786bf-6c28-4f33-ac30-3860fbeee5bb/data/regenie/20210816/aou_alpha1_ukb_lipids_regenie_part2_TGnorm.regenie'\n",
    "    )"
   ]
  },
  {
   "cell_type": "code",
   "execution_count": null,
   "metadata": {},
   "outputs": [],
   "source": [
    "LD_PRUNED_VARIANTS <- 'gs://fc-secure-fd6786bf-6c28-4f33-ac30-3860fbeee5bb/data/regenie/20210818/aou_alpha1_ukb_lipids_plink_ld.prune.out'"
   ]
  },
  {
   "cell_type": "code",
   "execution_count": null,
   "metadata": {},
   "outputs": [],
   "source": [
    "PLOT_SUBTITLE <- 'Source: All of Us v5 and UK Biobank data'"
   ]
  },
  {
   "cell_type": "markdown",
   "metadata": {},
   "source": [
    "# Join the phenotypes"
   ]
  },
  {
   "cell_type": "code",
   "execution_count": null,
   "metadata": {},
   "outputs": [],
   "source": [
    "aou_pheno = read_csv(pipe(str_glue('gsutil cat {AOU_PHENO}')))\n",
    "\n",
    "dim(aou_pheno)\n",
    "spec(aou_pheno)"
   ]
  },
  {
   "cell_type": "code",
   "execution_count": null,
   "metadata": {},
   "outputs": [],
   "source": [
    "aou_pheno %>%\n",
    "    group_by(cohort) %>%\n",
    "    summarize(count = n())"
   ]
  },
  {
   "cell_type": "markdown",
   "metadata": {},
   "source": [
    "## Possible problem for AoU: looks like we may be using gender identity instead of sex at birth"
   ]
  },
  {
   "cell_type": "code",
   "execution_count": null,
   "metadata": {},
   "outputs": [],
   "source": [
    "aou_pheno %>%\n",
    "    group_by(sex) %>%\n",
    "    summarize(count = n())"
   ]
  },
  {
   "cell_type": "code",
   "execution_count": null,
   "metadata": {},
   "outputs": [],
   "source": [
    "aou_pheno %>%\n",
    "    group_by(statin_use) %>%\n",
    "    summarize(count = n())"
   ]
  },
  {
   "cell_type": "code",
   "execution_count": null,
   "metadata": {},
   "outputs": [],
   "source": [
    "ukb_pheno = read_csv(pipe(str_glue('gsutil cat {UKB_PHENO}')))\n",
    "\n",
    "dim(ukb_pheno)\n",
    "spec(ukb_pheno)"
   ]
  },
  {
   "cell_type": "code",
   "execution_count": null,
   "metadata": {},
   "outputs": [],
   "source": [
    "ukb_pheno %>%\n",
    "    group_by(cohort) %>%\n",
    "    summarize(count = n())"
   ]
  },
  {
   "cell_type": "code",
   "execution_count": null,
   "metadata": {},
   "outputs": [],
   "source": [
    "ukb_pheno %>%\n",
    "    group_by(Sex_numeric) %>%\n",
    "    summarize(count = n())"
   ]
  },
  {
   "cell_type": "code",
   "execution_count": null,
   "metadata": {},
   "outputs": [],
   "source": [
    "ukb_pheno %>%\n",
    "    group_by(statin0) %>%\n",
    "    summarize(count = n())"
   ]
  },
  {
   "cell_type": "markdown",
   "metadata": {},
   "source": [
    "## Modify the input dataframes so that they can be combined."
   ]
  },
  {
   "cell_type": "code",
   "execution_count": null,
   "metadata": {},
   "outputs": [],
   "source": [
    "pheno <- bind_rows(\n",
    "    aou_pheno %>%\n",
    "        mutate(\n",
    "            # There were some NAs in the input cohort field for people in the alpha2 release. Retain those rows.\n",
    "            cohort = 'AoU',\n",
    "            # Consolidate the values in this field.\n",
    "            sex = case_when(\n",
    "                sex == 'Female' ~ 'Female',\n",
    "                sex == 'Male' ~ 'Male',\n",
    "                TRUE ~ 'other'\n",
    "            )\n",
    "        ) %>%\n",
    "        select(id = person_id, cohort, age, sex, statin_use,\n",
    "               TC, TG, LDL, HDL, TCadjusted, TGadjusted, LDLadjusted),\n",
    "    ukb_pheno %>%\n",
    "        # There were some NAs in the input cohort field for people without WES. Drop those rows.\n",
    "        filter(cohort == 'ukb') %>%\n",
    "        mutate(\n",
    "            # Upper case the cohort.\n",
    "            cohort = 'UKB',\n",
    "            # Convert numeric coding to strings per https://biobank.ndph.ox.ac.uk/showcase/coding.cgi?id=9.\n",
    "            sex = case_when(\n",
    "                Sex_numeric == 0 ~ 'Female',\n",
    "                Sex_numeric == 1 ~ 'Male',\n",
    "                TRUE ~ 'other'\n",
    "            ),\n",
    "            # Convert numeric coding to boolean.\n",
    "            statin_use = case_when(\n",
    "                statin0 == 1 ~ TRUE,\n",
    "                TRUE ~ FALSE\n",
    "            )\n",
    "        ) %>%\n",
    "        select(id = eid, cohort, age, sex, statin_use,\n",
    "               TC = chol, TG = trig, LDL = ldl, HDL = hdl,\n",
    "               TCadjusted = choladj, TGadjusted = trigadj, LDLadjusted = ldladj\n",
    "              )\n",
    "    ) %>%\n",
    "    mutate(\n",
    "        age_group = cut_width(age, width = 15, boundary = 0)\n",
    "    )"
   ]
  },
  {
   "cell_type": "code",
   "execution_count": null,
   "metadata": {},
   "outputs": [],
   "source": [
    "pheno %>%\n",
    "    group_by(cohort) %>%\n",
    "    summarize(count = n())"
   ]
  },
  {
   "cell_type": "code",
   "execution_count": null,
   "metadata": {},
   "outputs": [],
   "source": [
    "pheno %>%\n",
    "    group_by(sex) %>%\n",
    "    summarize(count = n())"
   ]
  },
  {
   "cell_type": "code",
   "execution_count": null,
   "metadata": {},
   "outputs": [],
   "source": [
    "pheno %>%\n",
    "    group_by(statin_use) %>%\n",
    "    summarize(count = n())"
   ]
  },
  {
   "cell_type": "markdown",
   "metadata": {},
   "source": [
    "# Plot lipids"
   ]
  },
  {
   "cell_type": "code",
   "execution_count": null,
   "metadata": {},
   "outputs": [],
   "source": [
    "plot_vars <- function(data, xvar, yvar, fillvar, title_detail = '', log_scale = FALSE) {\n",
    "    xvar_sym <- sym(xvar)\n",
    "    xvar_name <- xvar\n",
    "    yvar_sym <- sym(yvar)\n",
    "    yvar_name <- yvar\n",
    "    fillvar_sym <- sym(fillvar)\n",
    "    fillvar_name <- fillvar\n",
    "\n",
    "    options(repr.plot.width = 16, repr.plot.height = 8)\n",
    "    \n",
    "    p <- data %>%\n",
    "        filter(!is.na(!!yvar_sym)) %>%\n",
    "        ggplot(aes(x = !!xvar_sym, y = !!yvar_sym, fill = !!fillvar_sym)) +\n",
    "        geom_boxplot() +\n",
    "        stat_summary(fun.data = get_boxplot_fun_data, geom = 'text', size = 5,\n",
    "                     position = position_dodge(width = 0.9), vjust = -0.8) +\n",
    "        theme(\n",
    "            axis.title.x=element_text(size=14),\n",
    "            axis.title.y=element_text(size=14),\n",
    "        ) +\n",
    "        labs(title = str_glue('{yvar_name} mg/dL per person by {xvar_name} and {fillvar_name} {title_detail}'),\n",
    "             caption = PLOT_SUBTITLE)\n",
    "\n",
    "    if(log_scale) {\n",
    "        p = p + scale_y_log10()\n",
    "    }\n",
    "\n",
    "    p\n",
    "}"
   ]
  },
  {
   "cell_type": "markdown",
   "metadata": {},
   "source": [
    "## By age group"
   ]
  },
  {
   "cell_type": "code",
   "execution_count": null,
   "metadata": {},
   "outputs": [],
   "source": [
    "for (lipid in c('LDL', 'TC', 'HDL', 'TG')) {\n",
    "    print(plot_vars(data = pheno, xvar = 'age_group', yvar = lipid, fillvar = 'cohort'))\n",
    "}"
   ]
  },
  {
   "cell_type": "code",
   "execution_count": null,
   "metadata": {},
   "outputs": [],
   "source": [
    "# Filter high outliers from TG and plot again.\n",
    "plot_vars(data = pheno %>% filter(TG < 750), xvar = 'age_group', yvar = 'TG', fillvar = 'cohort',\n",
    "         title_detail = '[high outliers removed]')"
   ]
  },
  {
   "cell_type": "code",
   "execution_count": null,
   "metadata": {},
   "outputs": [],
   "source": [
    "plot_vars(data = pheno, xvar = 'age_group', yvar = 'TG', fillvar = 'cohort',\n",
    "          log_scale = TRUE, title_detail = '[log scale]')"
   ]
  },
  {
   "cell_type": "markdown",
   "metadata": {},
   "source": [
    "## By statin use"
   ]
  },
  {
   "cell_type": "code",
   "execution_count": null,
   "metadata": {},
   "outputs": [],
   "source": [
    "for (lipid in c('LDL', 'TC', 'HDL', 'TG')) {\n",
    "    print(plot_vars(data = pheno, xvar = 'cohort', yvar = lipid, fillvar = 'statin_use'))\n",
    "}"
   ]
  },
  {
   "cell_type": "code",
   "execution_count": null,
   "metadata": {},
   "outputs": [],
   "source": [
    "# Filter high outliers from TG and plot again.\n",
    "plot_vars(data = pheno %>% filter(TG < 750), xvar = 'cohort', yvar = 'TG', fillvar = 'statin_use',\n",
    "          title_detail = '[high outliers removed]')"
   ]
  },
  {
   "cell_type": "code",
   "execution_count": null,
   "metadata": {},
   "outputs": [],
   "source": [
    "plot_vars(data = pheno, xvar = 'cohort', yvar = 'TG', fillvar = 'statin_use',\n",
    "          log_scale = TRUE, title_detail = '[log scale]')"
   ]
  },
  {
   "cell_type": "markdown",
   "metadata": {},
   "source": [
    "## By statin use and adjusted"
   ]
  },
  {
   "cell_type": "code",
   "execution_count": null,
   "metadata": {},
   "outputs": [],
   "source": [
    "for (lipid in c('LDLadjusted', 'TCadjusted', 'TGadjusted')) {\n",
    "    print(plot_vars(data = pheno, xvar = 'cohort', yvar = lipid, fillvar = 'statin_use'))\n",
    "}"
   ]
  },
  {
   "cell_type": "code",
   "execution_count": null,
   "metadata": {},
   "outputs": [],
   "source": [
    "# Filter high outliers from TG and plot again.\n",
    "plot_vars(data = pheno %>% filter(TGadjusted < 750), xvar = 'cohort', yvar = 'TGadjusted', fillvar = 'statin_use',\n",
    "          title_detail = '[high outliers removed]')"
   ]
  },
  {
   "cell_type": "code",
   "execution_count": null,
   "metadata": {},
   "outputs": [],
   "source": [
    "plot_vars(data = pheno, xvar = 'cohort', yvar = 'TGadjusted', fillvar = 'statin_use',\n",
    "          log_scale = TRUE, title_detail = '[log scale]')"
   ]
  },
  {
   "cell_type": "markdown",
   "metadata": {},
   "source": [
    "## By sex at birth"
   ]
  },
  {
   "cell_type": "code",
   "execution_count": null,
   "metadata": {},
   "outputs": [],
   "source": [
    "for (lipid in c('LDL', 'TC', 'HDL', 'TG')) {\n",
    "    print(plot_vars(data = pheno, xvar = 'cohort', yvar = lipid, fillvar = 'sex'))\n",
    "}"
   ]
  },
  {
   "cell_type": "code",
   "execution_count": null,
   "metadata": {},
   "outputs": [],
   "source": [
    "# Filter high outliers from TG and plot again.\n",
    "plot_vars(data = pheno %>% filter(TG < 750), xvar = 'cohort', yvar = 'TG', fillvar = 'sex',\n",
    "          title_detail = '[high outliers removed]')"
   ]
  },
  {
   "cell_type": "code",
   "execution_count": null,
   "metadata": {},
   "outputs": [],
   "source": [
    "plot_vars(data = pheno, xvar = 'cohort', yvar = 'TG', fillvar = 'sex',\n",
    "          log_scale = TRUE, title_detail = '[log scale]')"
   ]
  },
  {
   "cell_type": "markdown",
   "metadata": {},
   "source": [
    "# Plot GWAS phenotypes\n",
    "\n",
    "<div class=\"alert alert-block alert-success\">\n",
    "    See notebooks <kbd>AOU_UKB_phenotypes.ipynb</kbd> and <kbd>AOU_UKB_phenotype_refined.ipynb</kbd> for the code that wrangles these phenotypes and covariates.\n",
    "</div>\n",
    "\n",
    "<div class=\"alert alert-block alert-warning\">\n",
    "    <b>Note that these are an updated copy of the phenotypes that went into the regenie GWAS.</b> More AoU lipids measurements were added, increasing the number of AoU samples.\n",
    "</div>."
   ]
  },
  {
   "cell_type": "code",
   "execution_count": null,
   "metadata": {},
   "outputs": [],
   "source": [
    "plot_var_histograms <- function(data, xvar, facetvar, title_detail = '', log_scale = FALSE) {\n",
    "    xvar_sym <- sym(xvar)\n",
    "    xvar_name <- xvar\n",
    "    facetvar_sym <- sym(facetvar)\n",
    "    facetvar_name <- facetvar\n",
    "\n",
    "    options(repr.plot.width = 16, repr.plot.height = 8)\n",
    "    \n",
    "    p <- data %>%\n",
    "        filter(!is.na(!!xvar_sym)) %>%\n",
    "        ggplot(aes(x = !!xvar_sym)) +\n",
    "        geom_histogram(bins = 30) +\n",
    "        facet_wrap(vars(!!facetvar_sym), ncol = 2, scales = 'free') +\n",
    "        theme(\n",
    "            axis.title.x=element_text(size=14),\n",
    "            axis.title.y=element_text(size=14),\n",
    "        ) +\n",
    "        labs(title = str_glue('{xvar_name} {title_detail}'),\n",
    "             caption = PLOT_SUBTITLE)\n",
    "\n",
    "    if(log_scale) {\n",
    "        p = p + scale_y_log10()\n",
    "    }\n",
    "\n",
    "    p\n",
    "}"
   ]
  },
  {
   "cell_type": "code",
   "execution_count": null,
   "metadata": {},
   "outputs": [],
   "source": [
    "retval <- lapply(GWAS_PHENO, function(gwas_pheno) {\n",
    "    gwas_pheno_data <- read_csv(pipe(str_glue('gsutil cat {gwas_pheno}')), col_types = cols())\n",
    "    \n",
    "    raw_col <- str_which(colnames(gwas_pheno_data), 'raw')\n",
    "    adj_col <- str_which(colnames(gwas_pheno_data), 'adj')\n",
    "    resid_col <- str_which(colnames(gwas_pheno_data), 'resid')\n",
    "    norm_col <- str_which(colnames(gwas_pheno_data), 'norm')\n",
    "    \n",
    "    print(plot_var_histograms(data = gwas_pheno_data,\n",
    "                              xvar = colnames(gwas_pheno_data)[[raw_col[[1]]]],\n",
    "                              facetvar = 'cohort'))\n",
    "\n",
    "    print(plot_var_histograms(data = gwas_pheno_data,\n",
    "                              xvar = colnames(gwas_pheno_data)[[adj_col[[1]]]],\n",
    "                              facetvar = 'cohort'))\n",
    "\n",
    "    print(plot_var_histograms(data = gwas_pheno_data,\n",
    "                              xvar = colnames(gwas_pheno_data)[[resid_col[[1]]]],\n",
    "                              facetvar = 'cohort'))\n",
    "\n",
    "    print(plot_var_histograms(data = gwas_pheno_data,\n",
    "                              xvar = colnames(gwas_pheno_data)[[norm_col[[1]]]],\n",
    "                              facetvar = 'cohort'))\n",
    "\n",
    "})"
   ]
  },
  {
   "cell_type": "markdown",
   "metadata": {},
   "source": [
    "# Plot final regenie phenotypes\n",
    "\n",
    "<div class=\"alert alert-block alert-success\">\n",
    "    See notebook <kbd>regenie_gwas.ipynb</kbd> for the code that transforms the GWAS phenotypes to regenie's specific format. \n",
    "</div>\n",
    "\n",
    "<div class=\"alert alert-block alert-warning\">\n",
    "    <b>Note that these are an updated copy of the phenotypes that went into the regenie GWAS.</b> More AoU lipids measurements were added, increasing the number of AoU samples.\n",
    " \n",
    "The regenie GWAS notebook copies the phenotype file to the workspace bucket to a dated folder for the sake of provenance, but you can see that the phenotype file from 20210816 had a failure during the step to copy it to the workspace bucket per notebook <kbd>regenie_gwas_20210816_222120.ipynb</kbd>.\n",
    "</div>"
   ]
  },
  {
   "cell_type": "code",
   "execution_count": null,
   "metadata": {},
   "outputs": [],
   "source": [
    "regenie_pheno = read_tsv(pipe(str_glue('gsutil cat {REGENIE_PHENO}')))\n",
    "\n",
    "dim(regenie_pheno)\n",
    "colnames(regenie_pheno)"
   ]
  },
  {
   "cell_type": "code",
   "execution_count": null,
   "metadata": {},
   "outputs": [],
   "source": [
    "options(repr.plot.width = 8, repr.plot.height = 8)\n",
    "for (lipid in c('HDLnorm', 'LDLnorm', 'TCnorm', 'TGnorm')) {\n",
    "    print(plot_var_histograms(data = regenie_pheno, xvar = lipid, facetvar = 'cohort'))\n",
    "}"
   ]
  },
  {
   "cell_type": "markdown",
   "metadata": {},
   "source": [
    "# Plot regenie results\n",
    "\n",
    "This code was inspired by [regenie.wdl](https://github.com/briansha/Regenie_WDL/blob/master/regenie.wdl#L515)."
   ]
  },
  {
   "cell_type": "markdown",
   "metadata": {},
   "source": [
    "## Original plots with incorrect GC score"
   ]
  },
  {
   "cell_type": "code",
   "execution_count": null,
   "metadata": {},
   "outputs": [],
   "source": [
    "retval <- lapply(REGENIE_RESULTS, function(lipid_result) {\n",
    "    regenie_results <- read_delim(pipe(str_glue('gsutil cat {lipid_result}')), delim = ' ')\n",
    "    gc_score <- qchisq(median(regenie_results$LOG10P), 1, lower.tail=FALSE) / 0.456\n",
    "    message(str_glue('nrow: {nrow(regenie_results)} ncol: {ncol(regenie_results)} in {lipid_result}'))\n",
    "    message(str_glue('GC: {gc_score}'))\n",
    "    message(\n",
    "        regenie_results %>%\n",
    "            group_by(TEST) %>%\n",
    "        summarize(count = n())\n",
    "    )\n",
    "        \n",
    "    options(repr.plot.width = 10, repr.plot.height = 10)\n",
    "    manhattan(regenie_results,\n",
    "              chr=\"CHROM\",\n",
    "              bp=\"GENPOS\",\n",
    "              snp=\"ID\",\n",
    "              p=\"LOG10P\",\n",
    "              logp=FALSE,\n",
    "              annotatePval = 1E-5,\n",
    "              main = str_glue('{basename(lipid_result)} results\\nfrom {dirname(lipid_result)}'),\n",
    "              sub = PLOT_SUBTITLE\n",
    "             )\n",
    "\n",
    "    qq(10 ^ (-1 * regenie_results$LOG10P),\n",
    "       main = str_glue('{basename(lipid_result)} results\\nfrom {dirname(lipid_result)}\\n GC: {gc_score}'),\n",
    "       sub = PLOT_SUBTITLE)\n",
    "\n",
    "})"
   ]
  },
  {
   "cell_type": "markdown",
   "metadata": {},
   "source": [
    "## GC fix"
   ]
  },
  {
   "cell_type": "code",
   "execution_count": null,
   "metadata": {},
   "outputs": [],
   "source": [
    "regenie_results <- read_delim(pipe(str_glue('gsutil cat {REGENIE_RESULTS[[1]]}')), delim = ' ')\n",
    "    \n",
    "regenie_results$p_value <- 10 ^ (-1 * regenie_results$LOG10P)"
   ]
  },
  {
   "cell_type": "code",
   "execution_count": null,
   "metadata": {},
   "outputs": [],
   "source": [
    "min(regenie_results$p_value)\n",
    "min(regenie_results$LOG10P)"
   ]
  },
  {
   "cell_type": "code",
   "execution_count": null,
   "metadata": {},
   "outputs": [],
   "source": [
    "max(regenie_results$p_value)\n",
    "max(regenie_results$LOG10P)"
   ]
  },
  {
   "cell_type": "code",
   "execution_count": null,
   "metadata": {},
   "outputs": [],
   "source": [
    "retval <- lapply(REGENIE_RESULTS, function(lipid_result) {\n",
    "    regenie_results <- read_delim(pipe(str_glue('gsutil cat {lipid_result}')), delim = ' ')\n",
    "    \n",
    "    regenie_results$p_value <- 10 ^ (-1 * regenie_results$LOG10P)\n",
    "       \n",
    "    gc_score_A <- qchisq(median(regenie_results$p_value), 1, lower.tail=FALSE) / 0.456\n",
    "    gc_score_B <- median(qchisq(1 - regenie_results$p_value, 1)) / qchisq(0.5, 1)\n",
    "    \n",
    "    message(str_glue('nrow: {nrow(regenie_results)} ncol: {ncol(regenie_results)} in {lipid_result}'))\n",
    "    message(str_glue('GC: {gc_score_A} {gc_score_B}'))\n",
    "    message(\n",
    "        regenie_results %>%\n",
    "            group_by(TEST) %>%\n",
    "        summarize(count = n())\n",
    "    )\n",
    "        \n",
    "    options(repr.plot.width = 10, repr.plot.height = 10)\n",
    "    manhattan(regenie_results,\n",
    "              chr=\"CHROM\",\n",
    "              bp=\"GENPOS\",\n",
    "              snp=\"ID\",\n",
    "              p=\"p_value\",\n",
    "              logp=TRUE,\n",
    "              annotateTop = FALSE,\n",
    "              # Omit the high outliers to make the plot more readable.\n",
    "              # TODO(deflaux) log scale the y axis instead.\n",
    "              ylim = c(0, 200),\n",
    "              main = str_glue('{basename(lipid_result)} results\\nfrom {dirname(lipid_result)}'),\n",
    "              sub = PLOT_SUBTITLE\n",
    "             )\n",
    "\n",
    "    qq(regenie_results$p_value,\n",
    "       main = str_glue('{basename(lipid_result)} results\\nfrom {dirname(lipid_result)}\\n GC: {gc_score_A} {gc_score_B}'),\n",
    "       sub = PLOT_SUBTITLE)\n",
    "\n",
    "})"
   ]
  },
  {
   "cell_type": "markdown",
   "metadata": {},
   "source": [
    "## GC fix and filter to common variants"
   ]
  },
  {
   "cell_type": "code",
   "execution_count": null,
   "metadata": {},
   "outputs": [],
   "source": [
    "regenie_results <- read_delim(pipe(str_glue('gsutil cat {REGENIE_RESULTS[[1]]}')), delim = ' ')"
   ]
  },
  {
   "cell_type": "code",
   "execution_count": null,
   "metadata": {},
   "outputs": [],
   "source": [
    "min(regenie_results$A1FREQ)"
   ]
  },
  {
   "cell_type": "code",
   "execution_count": null,
   "metadata": {},
   "outputs": [],
   "source": [
    "max(regenie_results$A1FREQ)"
   ]
  },
  {
   "cell_type": "code",
   "execution_count": null,
   "metadata": {},
   "outputs": [],
   "source": [
    "retval <- lapply(REGENIE_RESULTS, function(lipid_result) {\n",
    "    regenie_results <- read_delim(pipe(str_glue('gsutil cat {lipid_result}')), delim = ' ')\n",
    "    \n",
    "    regenie_results$p_value <- 10 ^ (-1 * regenie_results$LOG10P)\n",
    "\n",
    "    # Use only common variants in GC and the plots.\n",
    "    common_regenie_results <- regenie_results %>%\n",
    "        filter(A1FREQ > 0.01)\n",
    "    \n",
    "    gc_score_A <- qchisq(median(common_regenie_results$p_value), 1, lower.tail=FALSE) / 0.456\n",
    "    gc_score_B <- median(qchisq(1 - common_regenie_results$p_value, 1)) / qchisq(0.5, 1)\n",
    "    \n",
    "    message(str_glue('nrow: {nrow(regenie_results)} ncol: {ncol(regenie_results)} in {lipid_result}'))\n",
    "    message(str_glue('GC: {gc_score_A} {gc_score_B}'))\n",
    "    message(\n",
    "        regenie_results %>%\n",
    "            group_by(TEST) %>%\n",
    "        summarize(count = n())\n",
    "    )\n",
    "        \n",
    "    options(repr.plot.width = 10, repr.plot.height = 10)\n",
    "    manhattan(common_regenie_results,\n",
    "              chr=\"CHROM\",\n",
    "              bp=\"GENPOS\",\n",
    "              snp=\"ID\",\n",
    "              p=\"p_value\",\n",
    "              logp=TRUE,\n",
    "              annotateTop = FALSE,\n",
    "              # Omit the high outliers to make the plot more readable.\n",
    "              # TODO(deflaux) log scale the y axis instead.\n",
    "              ylim = c(0, 200),\n",
    "              main = str_glue('{basename(lipid_result)} results\\nfrom {dirname(lipid_result)}'),\n",
    "              sub = PLOT_SUBTITLE\n",
    "             )\n",
    "\n",
    "    qq(common_regenie_results$p_value,\n",
    "       main = str_glue('{basename(lipid_result)} results\\nfrom {dirname(lipid_result)}\\n GC: {gc_score_A} {gc_score_B}'),\n",
    "       sub = PLOT_SUBTITLE)\n",
    "\n",
    "})"
   ]
  },
  {
   "cell_type": "markdown",
   "metadata": {},
   "source": [
    "## GC fix and prune variants in LD"
   ]
  },
  {
   "cell_type": "code",
   "execution_count": null,
   "metadata": {},
   "outputs": [],
   "source": [
    "ld_pruned_variants  <- read_tsv(pipe(str_glue('gsutil cat {LD_PRUNED_VARIANTS}')), col_names = 'variant_id')\n",
    "\n",
    "head(ld_pruned_variants)"
   ]
  },
  {
   "cell_type": "code",
   "execution_count": null,
   "metadata": {},
   "outputs": [],
   "source": [
    "retval <- lapply(REGENIE_RESULTS, function(lipid_result) {\n",
    "    regenie_results <- read_delim(pipe(str_glue('gsutil cat {lipid_result}')), delim = ' ')\n",
    "    \n",
    "    regenie_results$p_value <- 10 ^ (-1 * regenie_results$LOG10P)\n",
    "    \n",
    "    # Use LD pruned results in GC and the QQ plot.\n",
    "    ld_pruned_regenie_results <- regenie_results %>%\n",
    "        filter(ID %in% ld_pruned_variants$variant_id)\n",
    "    \n",
    "    gc_score_A <- qchisq(median(ld_pruned_regenie_results$p_value), 1, lower.tail=FALSE) / 0.456\n",
    "    gc_score_B <- median(qchisq(1 - ld_pruned_regenie_results$p_value, 1)) / qchisq(0.5, 1)\n",
    "    \n",
    "    message(str_glue('nrow: {nrow(regenie_results)} ncol: {ncol(regenie_results)} in {lipid_result}'))\n",
    "    message(str_glue('GC: {gc_score_A} {gc_score_B}'))\n",
    "    message(\n",
    "        regenie_results %>%\n",
    "            group_by(TEST) %>%\n",
    "        summarize(count = n())\n",
    "    )\n",
    "        \n",
    "    options(repr.plot.width = 10, repr.plot.height = 10)\n",
    "    manhattan(regenie_results,\n",
    "              chr=\"CHROM\",\n",
    "              bp=\"GENPOS\",\n",
    "              snp=\"ID\",\n",
    "              p=\"p_value\",\n",
    "              logp=TRUE,\n",
    "              annotateTop = FALSE,\n",
    "              # Omit the high outliers to make the plot more readable.\n",
    "              # TODO(deflaux) log scale the y axis instead.\n",
    "              ylim = c(0, 200),\n",
    "              main = str_glue('{basename(lipid_result)} results\\nfrom {dirname(lipid_result)}'),\n",
    "              sub = PLOT_SUBTITLE\n",
    "             )\n",
    "\n",
    "    qq(ld_pruned_regenie_results$p_value,\n",
    "       main = str_glue('{basename(lipid_result)} results\\nfrom {dirname(lipid_result)}\\n GC: {gc_score_A} {gc_score_B}'),\n",
    "       sub = PLOT_SUBTITLE)\n",
    "\n",
    "})"
   ]
  },
  {
   "cell_type": "markdown",
   "metadata": {},
   "source": [
    "## GC fix, LD pruning, and common variants"
   ]
  },
  {
   "cell_type": "code",
   "execution_count": null,
   "metadata": {},
   "outputs": [],
   "source": [
    "ld_pruned_variants  <- read_tsv(pipe(str_glue('gsutil cat {LD_PRUNED_VARIANTS}')), col_names = 'variant_id')\n",
    "\n",
    "head(ld_pruned_variants)"
   ]
  },
  {
   "cell_type": "code",
   "execution_count": null,
   "metadata": {},
   "outputs": [],
   "source": [
    "retval <- lapply(REGENIE_RESULTS, function(lipid_result) {\n",
    "    regenie_results <- read_delim(pipe(str_glue('gsutil cat {lipid_result}')), delim = ' ')\n",
    "    \n",
    "    regenie_results$p_value <- 10 ^ (-1 * regenie_results$LOG10P)\n",
    "    \n",
    "    # Use only common variants in GC and the plots.\n",
    "    common_regenie_results <- regenie_results %>%\n",
    "        filter(A1FREQ > 0.01)\n",
    "\n",
    "    # Use LD pruned results in GC and the QQ plot.\n",
    "    ld_pruned_common_regenie_results <- common_regenie_results %>%\n",
    "        filter(ID %in% ld_pruned_variants$variant_id)\n",
    "    \n",
    "    gc_score_A <- qchisq(median(ld_pruned_common_regenie_results$p_value), 1, lower.tail=FALSE) / 0.456\n",
    "    gc_score_B <- median(qchisq(1 - ld_pruned_common_regenie_results$p_value, 1)) / qchisq(0.5, 1)\n",
    "    \n",
    "    message(str_glue('nrow: {nrow(regenie_results)} ncol: {ncol(regenie_results)} in {lipid_result}'))\n",
    "    message(str_glue('GC: {gc_score_A} {gc_score_B}'))\n",
    "    message(\n",
    "        regenie_results %>%\n",
    "            group_by(TEST) %>%\n",
    "        summarize(count = n())\n",
    "    )\n",
    "        \n",
    "    options(repr.plot.width = 10, repr.plot.height = 10)\n",
    "    manhattan(common_regenie_results,\n",
    "              chr=\"CHROM\",\n",
    "              bp=\"GENPOS\",\n",
    "              snp=\"ID\",\n",
    "              p=\"p_value\",\n",
    "              logp=TRUE,\n",
    "              annotateTop = FALSE,\n",
    "              # Omit the high outliers to make the plot more readable.\n",
    "              # TODO(deflaux) log scale the y axis instead.\n",
    "              ylim = c(0, 200),\n",
    "              main = str_glue('{basename(lipid_result)} results\\nfrom {dirname(lipid_result)}'),\n",
    "              sub = PLOT_SUBTITLE\n",
    "             )\n",
    "\n",
    "    qq(ld_pruned_common_regenie_results$p_value,\n",
    "       main = str_glue('{basename(lipid_result)} results\\nfrom {dirname(lipid_result)}\\n GC: {gc_score_A} {gc_score_B}'),\n",
    "       sub = PLOT_SUBTITLE)\n",
    "\n",
    "})"
   ]
  },
  {
   "cell_type": "markdown",
   "metadata": {},
   "source": [
    "# Appendix - plot AoU data"
   ]
  },
  {
   "cell_type": "markdown",
   "metadata": {},
   "source": [
    "# Appendix - plot UKB data"
   ]
  },
  {
   "cell_type": "markdown",
   "metadata": {},
   "source": [
    "## Connect to the data"
   ]
  },
  {
   "cell_type": "code",
   "execution_count": null,
   "metadata": {},
   "outputs": [],
   "source": [
    "BILLING_PROJECT_ID <- Sys.getenv('GOOGLE_PROJECT')\n",
    "\n",
    "HAAS_PHENO_TABLE <- 'single_values_table_ukb9222_20210111'\n",
    "HAAS_MULTI_INSTANCE_PHENO_TABLE <- 'instance_values_table_ukb9222_20210111'\n",
    "HAAS_ARRAY_PHENO_TABLE <- 'array_values_table_ukb9222_20210111'"
   ]
  },
  {
   "cell_type": "markdown",
   "metadata": {},
   "source": [
    "### Natarajan lipids data"
   ]
  },
  {
   "cell_type": "code",
   "execution_count": null,
   "metadata": {},
   "outputs": [],
   "source": [
    "# Create a 'virtual dataframe' backed by a BigQuery table.\n",
    "natarajan_pheno_raw_tbl <- dplyr::tbl(\n",
    "    bigrquery::src_bigquery(project = 'uk-biobank-sek-data',\n",
    "                            dataset = 'raw_phenotypes',\n",
    "                            billing = BILLING_PROJECT_ID),\n",
    "    'lipids_pheno_raw')\n",
    "\n",
    "head(colnames(natarajan_pheno_raw_tbl))"
   ]
  },
  {
   "cell_type": "code",
   "execution_count": null,
   "metadata": {},
   "outputs": [],
   "source": [
    "dim(natarajan_pheno_raw_tbl)"
   ]
  },
  {
   "cell_type": "code",
   "execution_count": null,
   "metadata": {},
   "outputs": [],
   "source": [
    "str_subset(colnames(natarajan_pheno_raw_tbl), '(?i)age|ldl|hdl|tc|statin|choles|trigly')"
   ]
  },
  {
   "cell_type": "code",
   "execution_count": null,
   "metadata": {},
   "outputs": [],
   "source": [
    "# Create a 'virtual dataframe' backed by a BigQuery table.\n",
    "natarajan_pheno_qced_tbl <- dplyr::tbl(\n",
    "    bigrquery::src_bigquery(project = 'uk-biobank-sek-data',\n",
    "                            dataset = 'phenotypes',\n",
    "                            billing = BILLING_PROJECT_ID),\n",
    "    'lipids_pheno_qced')\n",
    "\n",
    "head(colnames(natarajan_pheno_qced_tbl))"
   ]
  },
  {
   "cell_type": "code",
   "execution_count": null,
   "metadata": {},
   "outputs": [],
   "source": [
    "dim(natarajan_pheno_raw_tbl)"
   ]
  },
  {
   "cell_type": "code",
   "execution_count": null,
   "metadata": {},
   "outputs": [],
   "source": [
    "# Create a 'virtual dataframe' backed by a BigQuery table.\n",
    "natarajan_lipids_tbl <- dplyr::tbl(\n",
    "    bigrquery::src_bigquery(project = 'uk-biobank-sek-data',\n",
    "                            dataset = 'phenotypes',\n",
    "                            billing = BILLING_PROJECT_ID),\n",
    "    'lipids')\n",
    "\n",
    "head(colnames(natarajan_lipids_tbl))"
   ]
  },
  {
   "cell_type": "code",
   "execution_count": null,
   "metadata": {},
   "outputs": [],
   "source": [
    "dim(natarajan_lipids_tbl)"
   ]
  },
  {
   "cell_type": "code",
   "execution_count": null,
   "metadata": {},
   "outputs": [],
   "source": [
    "str_subset(colnames(natarajan_lipids_tbl), '(?i)age|ldl|hdl|tc|statin|choles|trigly')"
   ]
  },
  {
   "cell_type": "markdown",
   "metadata": {},
   "source": [
    "### Haas albuminuria data"
   ]
  },
  {
   "cell_type": "code",
   "execution_count": null,
   "metadata": {},
   "outputs": [],
   "source": [
    "# Create a 'virtual dataframe' backed by a BigQuery table.\n",
    "haas_pheno_dbcon <- bigrquery::src_bigquery(project = 'uk-biobank-sek-data',\n",
    "                                 dataset = 'pivoted_phenotypes',\n",
    "                                 billing = BILLING_PROJECT_ID)"
   ]
  },
  {
   "cell_type": "code",
   "execution_count": null,
   "metadata": {},
   "outputs": [],
   "source": [
    "haas_pheno_tbl <- dplyr::tbl(haas_pheno_dbcon, HAAS_PHENO_TABLE)\n",
    "\n",
    "head(colnames(haas_pheno_tbl))"
   ]
  },
  {
   "cell_type": "code",
   "execution_count": null,
   "metadata": {},
   "outputs": [],
   "source": [
    "str_subset(colnames(haas_pheno_tbl), '(?i)birth|medication|statin|cholesterol')"
   ]
  },
  {
   "cell_type": "code",
   "execution_count": null,
   "metadata": {},
   "outputs": [],
   "source": [
    "haas_instanced_pheno_tbl <- dplyr::tbl(haas_pheno_dbcon, HAAS_MULTI_INSTANCE_PHENO_TABLE)\n",
    "\n",
    "head(colnames(haas_instanced_pheno_tbl))"
   ]
  },
  {
   "cell_type": "code",
   "execution_count": null,
   "metadata": {},
   "outputs": [],
   "source": [
    "str_subset(colnames(haas_instanced_pheno_tbl), '(?i)f_21003_|medication|statin|cholesterol')"
   ]
  },
  {
   "cell_type": "code",
   "execution_count": null,
   "metadata": {},
   "outputs": [],
   "source": [
    "haas_arrayed_pheno_tbl <- dplyr::tbl(haas_pheno_dbcon, HAAS_ARRAY_PHENO_TABLE)\n",
    "\n",
    "head(colnames(haas_arrayed_pheno_tbl))"
   ]
  },
  {
   "cell_type": "code",
   "execution_count": null,
   "metadata": {},
   "outputs": [],
   "source": [
    "str_subset(colnames(haas_arrayed_pheno_tbl), '(?i)medication|statin|cholesterol|f_20003_')"
   ]
  },
  {
   "cell_type": "markdown",
   "metadata": {},
   "source": [
    "## Retrieve the data"
   ]
  },
  {
   "cell_type": "code",
   "execution_count": null,
   "metadata": {},
   "outputs": [],
   "source": [
    "colnames(natarajan_lipids_tbl)"
   ]
  },
  {
   "cell_type": "code",
   "execution_count": null,
   "metadata": {},
   "outputs": [],
   "source": [
    "phenotypes <- natarajan_lipids_tbl %>%\n",
    "    select(eid, ldl, hdl, trig, chol) %>%\n",
    "    collect() %>%    # <--- the collect() operation is what transfers the data from BigQuery to memory\n",
    "    inner_join(  # <--- do an inner join so that we drop the withdrawn samples from the Natarajan data\n",
    "        haas_instanced_pheno_tbl %>%\n",
    "        select(eid, instanceId, f_21003_Age_when_attended_assessment_centre_years) %>%\n",
    "        filter(instanceId == 0) %>%\n",
    "        collect()  # <--- the collect() operation is what transfers the data from BigQuery to memory\n",
    "    ) \n",
    "\n",
    "dim(phenotypes)"
   ]
  },
  {
   "cell_type": "code",
   "execution_count": null,
   "metadata": {},
   "outputs": [],
   "source": [
    "# Uncomment to display row-level data.\n",
    "#head(phenotypes)"
   ]
  },
  {
   "cell_type": "code",
   "execution_count": null,
   "metadata": {},
   "outputs": [],
   "source": [
    "summary(phenotypes$hdl)"
   ]
  },
  {
   "cell_type": "markdown",
   "metadata": {},
   "source": [
    "## Pivot and plot the data "
   ]
  },
  {
   "cell_type": "code",
   "execution_count": null,
   "metadata": {},
   "outputs": [],
   "source": [
    "assay <- phenotypes %>%\n",
    "    pivot_longer(\n",
    "        cols = c(ldl, hdl, trig, chol),\n",
    "        names_to = 'measurement',\n",
    "        values_to = 'mg_dl')"
   ]
  },
  {
   "cell_type": "code",
   "execution_count": null,
   "metadata": {},
   "outputs": [],
   "source": [
    "# Check the result of the join.\n",
    "(dim(assay))\n",
    "(nrow(phenotypes) * 4)\n",
    "stopifnot(nrow(assay) == nrow(phenotypes) * 4)"
   ]
  },
  {
   "cell_type": "code",
   "execution_count": null,
   "metadata": {},
   "outputs": [],
   "source": [
    "# Uncomment to display row-level data.\n",
    "#head(assay)"
   ]
  },
  {
   "cell_type": "code",
   "execution_count": null,
   "metadata": {},
   "outputs": [],
   "source": [
    "assay %>%\n",
    "    group_by(measurement) %>%\n",
    "    summarize(\n",
    "        count = n(),\n",
    "        missing = sum(is.na(mg_dl)),\n",
    "        median = median(mg_dl, na.rm = TRUE),\n",
    "        mean = mean(mg_dl, na.rm = TRUE),\n",
    "        stddev = sd(mg_dl, na.rm = TRUE)\n",
    "    )"
   ]
  },
  {
   "cell_type": "code",
   "execution_count": null,
   "metadata": {},
   "outputs": [],
   "source": [
    "options(repr.plot.height = 18, repr.plot.width = 16)\n",
    "\n",
    "assay %>%\n",
    "    ggplot(aes(x = cut_width(f_21003_Age_when_attended_assessment_centre_years, width = 15, boundary = 0), y = mg_dl)) +\n",
    "    geom_boxplot() +\n",
    "    stat_summary(fun.data = get_boxplot_fun_data, geom = 'text', size = 4,\n",
    "                 position = position_dodge(width = 0.9), vjust = -0.8) +\n",
    "#    scale_y_log10() +  # Uncomment if the data looks skewed.\n",
    "    coord_flip() +\n",
    "    facet_wrap(~ measurement, nrow = length(unique(assay$measurement)), scales = 'free_x') +\n",
    "    xlab('age') +\n",
    "    labs(title = str_glue('Instance 0 measurement per person, by age'),\n",
    "         caption = 'Source: UK Biobank data')"
   ]
  },
  {
   "cell_type": "markdown",
   "metadata": {},
   "source": [
    "# Provenance "
   ]
  },
  {
   "cell_type": "code",
   "execution_count": null,
   "metadata": {},
   "outputs": [],
   "source": [
    "devtools::session_info()"
   ]
  }
 ],
 "metadata": {
  "kernelspec": {
   "display_name": "R",
   "language": "R",
   "name": "ir"
  },
  "language_info": {
   "codemirror_mode": "r",
   "file_extension": ".r",
   "mimetype": "text/x-r-source",
   "name": "R",
   "pygments_lexer": "r",
   "version": "4.1.0"
  },
  "toc": {
   "base_numbering": 1,
   "nav_menu": {},
   "number_sections": true,
   "sideBar": true,
   "skip_h1_title": false,
   "title_cell": "Table of Contents",
   "title_sidebar": "Contents",
   "toc_cell": false,
   "toc_position": {
    "height": "calc(100% - 180px)",
    "left": "10px",
    "top": "150px",
    "width": "302px"
   },
   "toc_section_display": true,
   "toc_window_display": true
  }
 },
 "nbformat": 4,
 "nbformat_minor": 4
}

{
 "cells": [
  {
   "cell_type": "markdown",
   "metadata": {},
   "source": [
    "# UK Biobank lipids phenotypes and covariates\n",
    "\n",
    "In this notebook we review and explore the available UK Biobank data for lipids phenotypes and covariates.\n",
    "\n",
    "TODOs\n",
    "* GCP copy of the Nataranjan data contains withdrawn participants\n",
    "* check that the assays used here are comparable to the data from the AoU measurements\n",
    "  * https://biobank.ndph.ox.ac.uk/showcase/field.cgi?id=30690\n",
    "  * https://biobank.ndph.ox.ac.uk/showcase/field.cgi?id=30760\n",
    "  * https://biobank.ndph.ox.ac.uk/showcase/field.cgi?id=30780\n",
    "  * https://biobank.ndph.ox.ac.uk/showcase/field.cgi?id=30870\n",
    "* use lower and upper bound cutoffs appropriate for each measurement\n",
    "* also determine the relevant statin phenotypes so that we can correct for statin use:\n",
    "  * https://biobank.ndph.ox.ac.uk/showcase/field.cgi?id=20003\n",
    "* incorporate exclusion criteria"
   ]
  },
  {
   "cell_type": "markdown",
   "metadata": {},
   "source": [
    "# Setup\n",
    "\n",
    "<div class=\"alert alert-block alert-warning\">\n",
    "    <b>Cloud Environment</b>: This notebook was written for use on Terra. It runs fine on the default Cloud Environment. \n",
    "</div>"
   ]
  },
  {
   "cell_type": "code",
   "execution_count": null,
   "metadata": {},
   "outputs": [],
   "source": [
    "lapply(c('skimr', 'tidyverse'),\n",
    "       function(pkg) { if(! pkg %in% installed.packages()) { install.packages(pkg)} } )"
   ]
  },
  {
   "cell_type": "code",
   "execution_count": null,
   "metadata": {},
   "outputs": [],
   "source": [
    "library(skimr)\n",
    "library(tidyverse)"
   ]
  },
  {
   "cell_type": "code",
   "execution_count": null,
   "metadata": {},
   "outputs": [],
   "source": [
    "BILLING_PROJECT_ID <- Sys.getenv('GOOGLE_PROJECT')\n",
    "\n",
    "HAAS_PHENO_TABLE <- 'single_values_table_ukb9222_20210111'\n",
    "HAAS_MULTI_INSTANCE_PHENO_TABLE <- 'instance_values_table_ukb9222_20210111'\n",
    "HAAS_ARRAY_PHENO_TABLE <- 'array_values_table_ukb9222_20210111'"
   ]
  },
  {
   "cell_type": "code",
   "execution_count": null,
   "metadata": {},
   "outputs": [],
   "source": [
    "## Plot setup.\n",
    "theme_set(theme_bw(base_size = 16)) # Default theme for plots.\n",
    "\n",
    "#' Returns a data frame with a y position and a label, for use annotating ggplot boxplots.\n",
    "#'\n",
    "#' @param d A data frame.\n",
    "#' @return A data frame with column y as max and column label as length.\n",
    "get_boxplot_fun_data <- function(df) {\n",
    "  return(data.frame(y = max(df), label = stringr::str_c('N = ', length(df))))\n",
    "}"
   ]
  },
  {
   "cell_type": "markdown",
   "metadata": {},
   "source": [
    "## Connect to the data"
   ]
  },
  {
   "cell_type": "markdown",
   "metadata": {},
   "source": [
    "### Natarajan lipids data"
   ]
  },
  {
   "cell_type": "code",
   "execution_count": null,
   "metadata": {},
   "outputs": [],
   "source": [
    "# Create a 'virtual dataframe' backed by a BigQuery table.\n",
    "natarajan_pheno_raw_tbl <- dplyr::tbl(\n",
    "    bigrquery::src_bigquery(project = 'uk-biobank-sek-data',\n",
    "                            dataset = 'raw_phenotypes',\n",
    "                            billing = BILLING_PROJECT_ID),\n",
    "    'lipids_pheno_raw')\n",
    "\n",
    "head(colnames(natarajan_pheno_raw_tbl))"
   ]
  },
  {
   "cell_type": "code",
   "execution_count": null,
   "metadata": {},
   "outputs": [],
   "source": [
    "dim(natarajan_pheno_raw_tbl)"
   ]
  },
  {
   "cell_type": "code",
   "execution_count": null,
   "metadata": {},
   "outputs": [],
   "source": [
    "str_subset(colnames(natarajan_pheno_raw_tbl), '(?i)age|ldl|hdl|tc|statin|choles|trigly')"
   ]
  },
  {
   "cell_type": "code",
   "execution_count": null,
   "metadata": {},
   "outputs": [],
   "source": [
    "# Create a 'virtual dataframe' backed by a BigQuery table.\n",
    "natarajan_pheno_qced_tbl <- dplyr::tbl(\n",
    "    bigrquery::src_bigquery(project = 'uk-biobank-sek-data',\n",
    "                            dataset = 'phenotypes',\n",
    "                            billing = BILLING_PROJECT_ID),\n",
    "    'lipids_pheno_qced')\n",
    "\n",
    "head(colnames(natarajan_pheno_qced_tbl))"
   ]
  },
  {
   "cell_type": "code",
   "execution_count": null,
   "metadata": {},
   "outputs": [],
   "source": [
    "dim(natarajan_pheno_raw_tbl)"
   ]
  },
  {
   "cell_type": "code",
   "execution_count": null,
   "metadata": {},
   "outputs": [],
   "source": [
    "# Create a 'virtual dataframe' backed by a BigQuery table.\n",
    "natarajan_lipids_tbl <- dplyr::tbl(\n",
    "    bigrquery::src_bigquery(project = 'uk-biobank-sek-data',\n",
    "                            dataset = 'phenotypes',\n",
    "                            billing = BILLING_PROJECT_ID),\n",
    "    'lipids')\n",
    "\n",
    "head(colnames(natarajan_lipids_tbl))"
   ]
  },
  {
   "cell_type": "code",
   "execution_count": null,
   "metadata": {},
   "outputs": [],
   "source": [
    "dim(natarajan_lipids_tbl)"
   ]
  },
  {
   "cell_type": "code",
   "execution_count": null,
   "metadata": {},
   "outputs": [],
   "source": [
    "str_subset(colnames(natarajan_lipids_tbl), '(?i)age|ldl|hdl|tc|statin|choles|trigly')"
   ]
  },
  {
   "cell_type": "markdown",
   "metadata": {},
   "source": [
    "### Haas albuminuria data"
   ]
  },
  {
   "cell_type": "code",
   "execution_count": null,
   "metadata": {},
   "outputs": [],
   "source": [
    "# Create a 'virtual dataframe' backed by a BigQuery table.\n",
    "haas_pheno_dbcon <- bigrquery::src_bigquery(project = 'uk-biobank-sek-data',\n",
    "                                 dataset = 'pivoted_phenotypes',\n",
    "                                 billing = BILLING_PROJECT_ID)"
   ]
  },
  {
   "cell_type": "code",
   "execution_count": null,
   "metadata": {},
   "outputs": [],
   "source": [
    "haas_pheno_tbl <- dplyr::tbl(haas_pheno_dbcon, HAAS_PHENO_TABLE)\n",
    "\n",
    "head(colnames(haas_pheno_tbl))"
   ]
  },
  {
   "cell_type": "code",
   "execution_count": null,
   "metadata": {},
   "outputs": [],
   "source": [
    "str_subset(colnames(haas_pheno_tbl), '(?i)birth|medication|statin|cholesterol')"
   ]
  },
  {
   "cell_type": "code",
   "execution_count": null,
   "metadata": {},
   "outputs": [],
   "source": [
    "haas_instanced_pheno_tbl <- dplyr::tbl(haas_pheno_dbcon, HAAS_MULTI_INSTANCE_PHENO_TABLE)\n",
    "\n",
    "head(colnames(haas_instanced_pheno_tbl))"
   ]
  },
  {
   "cell_type": "code",
   "execution_count": null,
   "metadata": {},
   "outputs": [],
   "source": [
    "str_subset(colnames(haas_instanced_pheno_tbl), '(?i)f_21003_|medication|statin|cholesterol')"
   ]
  },
  {
   "cell_type": "code",
   "execution_count": null,
   "metadata": {},
   "outputs": [],
   "source": [
    "haas_arrayed_pheno_tbl <- dplyr::tbl(haas_pheno_dbcon, HAAS_ARRAY_PHENO_TABLE)\n",
    "\n",
    "head(colnames(haas_arrayed_pheno_tbl))"
   ]
  },
  {
   "cell_type": "code",
   "execution_count": null,
   "metadata": {},
   "outputs": [],
   "source": [
    "str_subset(colnames(haas_arrayed_pheno_tbl), '(?i)medication|statin|cholesterol|f_20003_')"
   ]
  },
  {
   "cell_type": "markdown",
   "metadata": {},
   "source": [
    "## Retrieve the data"
   ]
  },
  {
   "cell_type": "code",
   "execution_count": null,
   "metadata": {},
   "outputs": [],
   "source": [
    "colnames(natarajan_lipids_tbl)"
   ]
  },
  {
   "cell_type": "code",
   "execution_count": null,
   "metadata": {},
   "outputs": [],
   "source": [
    "pheno <- natarajan_lipids_tbl %>%\n",
    "    select(eid, ldl, hdl, trig, chol) %>%\n",
    "    collect() %>%    # <--- the collect() operation is what transfers the data from BigQuery to memory\n",
    "    inner_join(  # <--- do an inner join so that we drop the withdrawn samples from the Natarajan data\n",
    "        haas_instanced_pheno_tbl %>%\n",
    "        select(eid, instanceId, f_21003_Age_when_attended_assessment_centre_years) %>%\n",
    "        filter(instanceId == 0) %>%\n",
    "        collect()  # <--- the collect() operation is what transfers the data from BigQuery to memory\n",
    "    ) \n",
    "\n",
    "dim(pheno)"
   ]
  },
  {
   "cell_type": "markdown",
   "metadata": {},
   "source": [
    "# Pivot and plot the data "
   ]
  },
  {
   "cell_type": "code",
   "execution_count": null,
   "metadata": {},
   "outputs": [],
   "source": [
    "assay <- pheno %>%\n",
    "    pivot_longer(\n",
    "        cols = c(ldl, hdl, trig, chol),\n",
    "        names_to = 'measurement',\n",
    "        values_to = 'mg_dl')"
   ]
  },
  {
   "cell_type": "code",
   "execution_count": null,
   "metadata": {},
   "outputs": [],
   "source": [
    "# Check the result of the join.\n",
    "(dim(assay))\n",
    "(nrow(pheno) * 4)\n",
    "stopifnot(nrow(assay) == nrow(pheno) * 4)"
   ]
  },
  {
   "cell_type": "code",
   "execution_count": null,
   "metadata": {},
   "outputs": [],
   "source": [
    "head(assay)"
   ]
  },
  {
   "cell_type": "code",
   "execution_count": null,
   "metadata": {},
   "outputs": [],
   "source": [
    "assay %>%\n",
    "    group_by(measurement) %>%\n",
    "    summarize(\n",
    "        count = n(),\n",
    "        missing = sum(is.na(mg_dl)),\n",
    "        median = median(mg_dl, na.rm = TRUE),\n",
    "        mean = mean(mg_dl, na.rm = TRUE),\n",
    "        stddev = sd(mg_dl, na.rm = TRUE)\n",
    "    )"
   ]
  },
  {
   "cell_type": "code",
   "execution_count": null,
   "metadata": {},
   "outputs": [],
   "source": [
    "options(repr.plot.height = 18, repr.plot.width = 16)\n",
    "\n",
    "assay %>%\n",
    "    ggplot(aes(x = cut_width(f_21003_Age_when_attended_assessment_centre_years, width = 10, boundary = 0), y = mg_dl)) +\n",
    "    geom_boxplot() +\n",
    "    stat_summary(fun.data = get_boxplot_fun_data, geom = 'text', size = 4,\n",
    "                 position = position_dodge(width = 0.9), vjust = -0.8) +\n",
    "#    scale_y_log10() +  # Uncomment if the data looks skewed.\n",
    "    coord_flip() +\n",
    "    facet_wrap(~ measurement, nrow = length(unique(assay$measurement)), scales = 'free_x') +\n",
    "    xlab('age') +\n",
    "    labs(title = str_glue('Instance 0 measurement per person, by age'),\n",
    "         caption = 'Source: UK Biobank data')"
   ]
  },
  {
   "cell_type": "markdown",
   "metadata": {},
   "source": [
    "# Provenance "
   ]
  },
  {
   "cell_type": "code",
   "execution_count": null,
   "metadata": {},
   "outputs": [],
   "source": [
    "devtools::session_info()"
   ]
  }
 ],
 "metadata": {
  "kernelspec": {
   "display_name": "R",
   "language": "R",
   "name": "ir"
  },
  "language_info": {
   "codemirror_mode": "r",
   "file_extension": ".r",
   "mimetype": "text/x-r-source",
   "name": "R",
   "pygments_lexer": "r",
   "version": "4.0.5"
  },
  "toc": {
   "base_numbering": 1,
   "nav_menu": {},
   "number_sections": true,
   "sideBar": true,
   "skip_h1_title": false,
   "title_cell": "Table of Contents",
   "title_sidebar": "Contents",
   "toc_cell": false,
   "toc_position": {
    "height": "calc(100% - 180px)",
    "left": "10px",
    "top": "150px",
    "width": "301.449px"
   },
   "toc_section_display": true,
   "toc_window_display": true
  }
 },
 "nbformat": 4,
 "nbformat_minor": 4
}

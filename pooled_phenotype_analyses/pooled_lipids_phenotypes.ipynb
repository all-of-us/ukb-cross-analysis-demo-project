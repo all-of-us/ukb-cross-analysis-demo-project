{
 "cells": [
  {
   "cell_type": "markdown",
   "metadata": {},
   "source": [
    "# Pooled lipids phenotypes and covariates\n",
    "\n",
    "In this notebook we review and explore the pooled All of Us and UK Biobank data for lipids phenotypes and covariates."
   ]
  },
  {
   "cell_type": "markdown",
   "metadata": {},
   "source": [
    "# Setup\n",
    "\n",
    "<div class=\"alert alert-block alert-warning\">\n",
    "    <b>Cloud Environment</b>: This notebook was written for use on All of Us Workbench. It runs fine on the default Cloud Environment. \n",
    "</div>"
   ]
  },
  {
   "cell_type": "code",
   "execution_count": null,
   "metadata": {},
   "outputs": [],
   "source": [
    "lapply(c('hrbrthemes', 'skimr', 'tidyverse', 'qqman'),\n",
    "       function(pkg) { if(! pkg %in% installed.packages()) { install.packages(pkg)} } )"
   ]
  },
  {
   "cell_type": "code",
   "execution_count": null,
   "metadata": {},
   "outputs": [],
   "source": [
    "library(hrbrthemes)\n",
    "library(qqman)\n",
    "library(skimr)\n",
    "library(tidyverse)"
   ]
  },
  {
   "cell_type": "code",
   "execution_count": null,
   "metadata": {},
   "outputs": [],
   "source": [
    "# Set some visualiation defaults.\n",
    "theme_set(theme_ipsum(base_size = 16)) # Default theme for plots.\n",
    "\n",
    "#' Returns a data frame with a y position and a label, for use annotating ggplot boxplots.\n",
    "#'\n",
    "#' @param d A data frame.\n",
    "#' @return A data frame with column y as max and column label as length.\n",
    "get_boxplot_fun_data <- function(df) {\n",
    "  return(data.frame(y = max(df), label = stringr::str_c('N = ', length(df))))\n",
    "}"
   ]
  },
  {
   "cell_type": "markdown",
   "metadata": {},
   "source": [
    "# Constants"
   ]
  },
  {
   "cell_type": "code",
   "execution_count": null,
   "metadata": {},
   "outputs": [],
   "source": [
    "AOU_PHENO <- 'gs://fc-secure-fd6786bf-6c28-4f33-ac30-3860fbeee5bb/data/AOU_Full_Data.csv'\n",
    "UKB_PHENO <- 'gs://fc-secure-fd6786bf-6c28-4f33-ac30-3860fbeee5bb/data/UKB_Full_Data.csv'"
   ]
  },
  {
   "cell_type": "code",
   "execution_count": null,
   "metadata": {},
   "outputs": [],
   "source": [
    "GWAS_PHENO <- c(\n",
    "    'gs://fc-secure-fd6786bf-6c28-4f33-ac30-3860fbeee5bb/data/MergedData_HDL_Iteration2_ForGWAS.csv',\n",
    "    'gs://fc-secure-fd6786bf-6c28-4f33-ac30-3860fbeee5bb/data/MergedData_LDL_Iteration2_ForGWAS.csv',\n",
    "    'gs://fc-secure-fd6786bf-6c28-4f33-ac30-3860fbeee5bb/data/MergedData_TC_Iteration2_ForGWAS.csv',\n",
    "    'gs://fc-secure-fd6786bf-6c28-4f33-ac30-3860fbeee5bb/data/MergedData_TG_Iteration2_ForGWAS.csv'\n",
    ")\n",
    "\n",
    "REGENIE_PHENO <- 'gs://fc-secure-fd6786bf-6c28-4f33-ac30-3860fbeee5bb/data/regenie/20210921/aou_alpha2_ukb_lipids_phenotypes_and_covariates.tsv'\n",
    "\n",
    "REGENIE_RESULTS <- c(\n",
    "    'gs://fc-secure-fd6786bf-6c28-4f33-ac30-3860fbeee5bb/data/regenie/20210921/aou_alpha2_ukb_lipids_regenie_part2_HDLnorm.regenie',\n",
    "    'gs://fc-secure-fd6786bf-6c28-4f33-ac30-3860fbeee5bb/data/regenie/20210921/aou_alpha2_ukb_lipids_regenie_part2_LDLnorm.regenie',\n",
    "    'gs://fc-secure-fd6786bf-6c28-4f33-ac30-3860fbeee5bb/data/regenie/20210921/aou_alpha2_ukb_lipids_regenie_part2_TCnorm.regenie',\n",
    "    'gs://fc-secure-fd6786bf-6c28-4f33-ac30-3860fbeee5bb/data/regenie/20210921/aou_alpha2_ukb_lipids_regenie_part2_TGnorm.regenie'\n",
    ")"
   ]
  },
  {
   "cell_type": "code",
   "execution_count": null,
   "metadata": {},
   "outputs": [],
   "source": [
    "LD_PRUNED_VARIANTS <- 'gs://fc-secure-fd6786bf-6c28-4f33-ac30-3860fbeee5bb/data/plink/20210907/aou_alpha2_ukb_lipids_plink_ld.prune.in'"
   ]
  },
  {
   "cell_type": "code",
   "execution_count": null,
   "metadata": {},
   "outputs": [],
   "source": [
    "PLOT_SUBTITLE <- 'Source: All of Us v5 and UK Biobank data'"
   ]
  },
  {
   "cell_type": "markdown",
   "metadata": {},
   "source": [
    "# Join the phenotypes"
   ]
  },
  {
   "cell_type": "code",
   "execution_count": null,
   "metadata": {},
   "outputs": [],
   "source": [
    "aou_pheno = read_csv(pipe(str_glue('gsutil cat {AOU_PHENO}')))\n",
    "\n",
    "dim(aou_pheno)\n",
    "spec(aou_pheno)"
   ]
  },
  {
   "cell_type": "markdown",
   "metadata": {},
   "source": [
    "## Possible problem for AoU: why do some participants have an NA Cohort?"
   ]
  },
  {
   "cell_type": "code",
   "execution_count": null,
   "metadata": {},
   "outputs": [],
   "source": [
    "aou_pheno %>%\n",
    "    group_by(Cohort) %>%\n",
    "    summarize(count = n())"
   ]
  },
  {
   "cell_type": "code",
   "execution_count": null,
   "metadata": {},
   "outputs": [],
   "source": [
    "aou_pheno %>%\n",
    "    group_by(sex) %>%\n",
    "    summarize(count = n())"
   ]
  },
  {
   "cell_type": "code",
   "execution_count": null,
   "metadata": {},
   "outputs": [],
   "source": [
    "aou_pheno %>%\n",
    "    group_by(statin_use) %>%\n",
    "    summarize(count = n())"
   ]
  },
  {
   "cell_type": "code",
   "execution_count": null,
   "metadata": {},
   "outputs": [],
   "source": [
    "ukb_pheno = read_csv(pipe(str_glue('gsutil cat {UKB_PHENO}')))\n",
    "\n",
    "dim(ukb_pheno)\n",
    "spec(ukb_pheno)"
   ]
  },
  {
   "cell_type": "markdown",
   "metadata": {},
   "source": [
    "## Possible problem for UKB: why do some participants have an NA Cohort?\n",
    "\n",
    "Are the NA participants those without a WES?"
   ]
  },
  {
   "cell_type": "code",
   "execution_count": null,
   "metadata": {},
   "outputs": [],
   "source": [
    "ukb_pheno %>%\n",
    "    group_by(Cohort) %>%\n",
    "    summarize(count = n())"
   ]
  },
  {
   "cell_type": "code",
   "execution_count": null,
   "metadata": {},
   "outputs": [],
   "source": [
    "ukb_pheno %>%\n",
    "    group_by(Sex_numeric) %>%\n",
    "    summarize(count = n())"
   ]
  },
  {
   "cell_type": "code",
   "execution_count": null,
   "metadata": {},
   "outputs": [],
   "source": [
    "ukb_pheno %>%\n",
    "    group_by(statin0) %>%\n",
    "    summarize(count = n())"
   ]
  },
  {
   "cell_type": "markdown",
   "metadata": {},
   "source": [
    "## Modify the input dataframes so that they can be combined."
   ]
  },
  {
   "cell_type": "code",
   "execution_count": null,
   "metadata": {},
   "outputs": [],
   "source": [
    "pheno <- bind_rows(\n",
    "    aou_pheno %>%\n",
    "        mutate(\n",
    "            # There were some NAs in the input cohort field for people in the alpha2 release. Retain those rows.\n",
    "            Cohort = 'AoU',\n",
    "            # Consolidate the values in this field.\n",
    "            sex = case_when(\n",
    "                sex == 'Female' ~ 'Female',\n",
    "                sex == 'Male' ~ 'Male',\n",
    "                TRUE ~ 'not specified'\n",
    "            )\n",
    "        ) %>%\n",
    "        select(id = person_id, cohort=Cohort, age, sex, statin_use,\n",
    "               TC, TG, LDL, HDL, TCadjusted, TGadjusted, LDLadjusted),\n",
    "    ukb_pheno %>%\n",
    "        # There were some NAs in the input cohort field for people without WES. Drop those rows.\n",
    "        filter(Cohort == 'UKB') %>%\n",
    "        mutate(\n",
    "            # Convert numeric coding to strings per https://biobank.ndph.ox.ac.uk/showcase/coding.cgi?id=9.\n",
    "            sex = case_when(\n",
    "                Sex_numeric == 0 ~ 'Female',\n",
    "                Sex_numeric == 1 ~ 'Male',\n",
    "                TRUE ~ 'not specified'\n",
    "            ),\n",
    "            # Convert numeric coding to boolean.\n",
    "            statin_use = case_when(\n",
    "                statin0 == 1 ~ TRUE,\n",
    "                TRUE ~ FALSE\n",
    "            )\n",
    "        ) %>%\n",
    "        select(id = eid, cohort=Cohort, age, sex, statin_use,\n",
    "               TC = chol, TG = trig, LDL = ldl, HDL = hdl,\n",
    "               TCadjusted = choladj, TGadjusted = TG_adjusted_log, LDLadjusted = ldladj\n",
    "              )\n",
    "    ) %>%\n",
    "    mutate(\n",
    "        age_group_smaller_bins = cut_width(age, width = 10, boundary = 0),\n",
    "        age_group = cut_width(age, width = 20, boundary = 0)\n",
    "    )"
   ]
  },
  {
   "cell_type": "code",
   "execution_count": null,
   "metadata": {},
   "outputs": [],
   "source": [
    "pheno %>%\n",
    "    group_by(cohort) %>%\n",
    "    summarize(count = n())"
   ]
  },
  {
   "cell_type": "code",
   "execution_count": null,
   "metadata": {},
   "outputs": [],
   "source": [
    "pheno %>%\n",
    "    group_by(sex) %>%\n",
    "    summarize(count = n())"
   ]
  },
  {
   "cell_type": "code",
   "execution_count": null,
   "metadata": {},
   "outputs": [],
   "source": [
    "pheno %>%\n",
    "    group_by(statin_use) %>%\n",
    "    summarize(count = n())"
   ]
  },
  {
   "cell_type": "markdown",
   "metadata": {},
   "source": [
    "# Plot lipids"
   ]
  },
  {
   "cell_type": "code",
   "execution_count": null,
   "metadata": {},
   "outputs": [],
   "source": [
    "plot_vars <- function(data, xvar, yvar, fillvar, title_detail = '', log_scale = FALSE) {\n",
    "    xvar_sym <- sym(xvar)\n",
    "    xvar_name <- xvar\n",
    "    yvar_sym <- sym(yvar)\n",
    "    yvar_name <- yvar\n",
    "    fillvar_sym <- sym(fillvar)\n",
    "    fillvar_name <- fillvar\n",
    "\n",
    "    options(repr.plot.width = 16, repr.plot.height = 8)\n",
    "    \n",
    "    p <- data %>%\n",
    "        filter(!is.na(!!yvar_sym)) %>%\n",
    "        ggplot(aes(x = !!xvar_sym, y = !!yvar_sym, fill = !!fillvar_sym)) +\n",
    "        geom_boxplot() +\n",
    "        stat_summary(fun.data = get_boxplot_fun_data, geom = 'text', size = 5,\n",
    "                     position = position_dodge(width = 0.9), vjust = -0.8) +\n",
    "        theme(\n",
    "            axis.title.x=element_text(size=14),\n",
    "            axis.title.y=element_text(size=14),\n",
    "        ) +\n",
    "        labs(title = str_glue('{yvar_name} mg/dL per person by {xvar_name} and {fillvar_name} {title_detail}'),\n",
    "             caption = PLOT_SUBTITLE)\n",
    "\n",
    "    if(log_scale) {\n",
    "        p = p + scale_y_log10()\n",
    "    }\n",
    "\n",
    "    p\n",
    "}"
   ]
  },
  {
   "cell_type": "markdown",
   "metadata": {},
   "source": [
    "## By age group - bin size 10 [not okay to share, groups too small]"
   ]
  },
  {
   "cell_type": "code",
   "execution_count": null,
   "metadata": {},
   "outputs": [],
   "source": [
    "for (lipid in c('LDL', 'TC', 'HDL', 'TG')) {\n",
    "    print(plot_vars(data = pheno, xvar = 'age_group_smaller_bins', yvar = lipid, fillvar = 'cohort'))\n",
    "}"
   ]
  },
  {
   "cell_type": "markdown",
   "metadata": {},
   "source": [
    "## By age group - larger bins [okay to share]"
   ]
  },
  {
   "cell_type": "code",
   "execution_count": null,
   "metadata": {},
   "outputs": [],
   "source": [
    "for (lipid in c('LDL', 'TC', 'HDL', 'TG')) {\n",
    "    print(plot_vars(data = pheno, xvar = 'age_group', yvar = lipid, fillvar = 'cohort'))\n",
    "}"
   ]
  },
  {
   "cell_type": "code",
   "execution_count": null,
   "metadata": {},
   "outputs": [],
   "source": [
    "# Filter high outliers from TG and plot again.\n",
    "plot_vars(data = pheno %>% filter(TG < 750), xvar = 'age_group', yvar = 'TG', fillvar = 'cohort',\n",
    "         title_detail = '[high outliers removed]')"
   ]
  },
  {
   "cell_type": "code",
   "execution_count": null,
   "metadata": {},
   "outputs": [],
   "source": [
    "plot_vars(data = pheno, xvar = 'age_group', yvar = 'TG', fillvar = 'cohort',\n",
    "          log_scale = TRUE, title_detail = '[log scale y-axis]')"
   ]
  },
  {
   "cell_type": "markdown",
   "metadata": {},
   "source": [
    "## By statin use"
   ]
  },
  {
   "cell_type": "code",
   "execution_count": null,
   "metadata": {},
   "outputs": [],
   "source": [
    "for (lipid in c('LDL', 'TC', 'HDL', 'TG')) {\n",
    "    print(plot_vars(data = pheno, xvar = 'cohort', yvar = lipid, fillvar = 'statin_use'))\n",
    "}"
   ]
  },
  {
   "cell_type": "code",
   "execution_count": null,
   "metadata": {},
   "outputs": [],
   "source": [
    "# Filter high outliers from TG and plot again.\n",
    "plot_vars(data = pheno %>% filter(TG < 750), xvar = 'cohort', yvar = 'TG', fillvar = 'statin_use',\n",
    "          title_detail = '[high outliers removed]')"
   ]
  },
  {
   "cell_type": "code",
   "execution_count": null,
   "metadata": {},
   "outputs": [],
   "source": [
    "plot_vars(data = pheno, xvar = 'cohort', yvar = 'TG', fillvar = 'statin_use',\n",
    "          log_scale = TRUE, title_detail = '[log scale y-axis]')"
   ]
  },
  {
   "cell_type": "markdown",
   "metadata": {},
   "source": [
    "## By statin use and adjusted"
   ]
  },
  {
   "cell_type": "code",
   "execution_count": null,
   "metadata": {},
   "outputs": [],
   "source": [
    "for (lipid in c('LDLadjusted', 'TCadjusted', 'TGadjusted')) {\n",
    "    print(plot_vars(data = pheno, xvar = 'cohort', yvar = lipid, fillvar = 'statin_use'))\n",
    "}"
   ]
  },
  {
   "cell_type": "code",
   "execution_count": null,
   "metadata": {},
   "outputs": [],
   "source": [
    "# Special case the title for this plot.\n",
    "plot_vars(data = pheno, xvar = 'cohort', yvar = 'TGadjusted', fillvar = 'statin_use',\n",
    "          log_scale = FALSE, title_detail = '[adjusted data is in log space]')"
   ]
  },
  {
   "cell_type": "markdown",
   "metadata": {},
   "source": [
    "## By sex at birth"
   ]
  },
  {
   "cell_type": "code",
   "execution_count": null,
   "metadata": {},
   "outputs": [],
   "source": [
    "for (lipid in c('LDL', 'TC', 'HDL', 'TG')) {\n",
    "    print(plot_vars(data = pheno, xvar = 'cohort', yvar = lipid, fillvar = 'sex'))\n",
    "}"
   ]
  },
  {
   "cell_type": "code",
   "execution_count": null,
   "metadata": {},
   "outputs": [],
   "source": [
    "# Filter high outliers from TG and plot again.\n",
    "plot_vars(data = pheno %>% filter(TG < 750), xvar = 'cohort', yvar = 'TG', fillvar = 'sex',\n",
    "          title_detail = '[high outliers removed]')"
   ]
  },
  {
   "cell_type": "code",
   "execution_count": null,
   "metadata": {},
   "outputs": [],
   "source": [
    "plot_vars(data = pheno, xvar = 'cohort', yvar = 'TG', fillvar = 'sex',\n",
    "          log_scale = TRUE, title_detail = '[log scale y-axis]')"
   ]
  },
  {
   "cell_type": "markdown",
   "metadata": {},
   "source": [
    "# Plot GWAS phenotypes\n",
    "\n",
    "<div class=\"alert alert-block alert-success\">\n",
    "    See notebooks <kbd>AOU_UKB_phenotypes.ipynb</kbd> and <kbd>AOU_UKB_phenotype_refined.ipynb</kbd> for the code that wrangles these phenotypes and covariates.\n",
    "</div>"
   ]
  },
  {
   "cell_type": "code",
   "execution_count": null,
   "metadata": {},
   "outputs": [],
   "source": [
    "plot_var_histograms <- function(data, xvar, facetvar, title_detail = '', log_scale = FALSE) {\n",
    "    xvar_sym <- sym(xvar)\n",
    "    xvar_name <- xvar\n",
    "    facetvar_sym <- sym(facetvar)\n",
    "    facetvar_name <- facetvar\n",
    "\n",
    "    options(repr.plot.width = 16, repr.plot.height = 8)\n",
    "    \n",
    "    p <- data %>%\n",
    "        filter(!is.na(!!xvar_sym)) %>%\n",
    "        ggplot(aes(x = !!xvar_sym)) +\n",
    "        geom_histogram(bins = 30) +\n",
    "        facet_wrap(vars(!!facetvar_sym), ncol = 2, scales = 'free') +\n",
    "        theme(\n",
    "            axis.title.x=element_text(size=14),\n",
    "            axis.title.y=element_text(size=14),\n",
    "        ) +\n",
    "        labs(title = str_glue('{xvar_name} {title_detail}'),\n",
    "             caption = PLOT_SUBTITLE)\n",
    "\n",
    "    if(log_scale) {\n",
    "        p = p + scale_y_log10()\n",
    "    }\n",
    "\n",
    "    p\n",
    "}"
   ]
  },
  {
   "cell_type": "code",
   "execution_count": null,
   "metadata": {},
   "outputs": [],
   "source": [
    "retval <- lapply(GWAS_PHENO, function(gwas_pheno) {\n",
    "    gwas_pheno_data <- read_csv(pipe(str_glue('gsutil cat {gwas_pheno}')), col_types = cols())\n",
    "    \n",
    "    raw_col <- str_which(colnames(gwas_pheno_data), 'raw')\n",
    "    adj_col <- str_which(colnames(gwas_pheno_data), 'adj')\n",
    "    resid_col <- str_which(colnames(gwas_pheno_data), 'resid')\n",
    "    norm_col <- str_which(colnames(gwas_pheno_data), 'norm')\n",
    "    \n",
    "    print(plot_var_histograms(data = gwas_pheno_data,\n",
    "                              xvar = colnames(gwas_pheno_data)[[raw_col[[1]]]],\n",
    "                              facetvar = 'cohort'))\n",
    "\n",
    "    print(plot_var_histograms(data = gwas_pheno_data,\n",
    "                              xvar = colnames(gwas_pheno_data)[[adj_col[[1]]]],\n",
    "                              facetvar = 'cohort'))\n",
    "\n",
    "    print(plot_var_histograms(data = gwas_pheno_data,\n",
    "                              xvar = colnames(gwas_pheno_data)[[resid_col[[1]]]],\n",
    "                              facetvar = 'cohort'))\n",
    "\n",
    "    print(plot_var_histograms(data = gwas_pheno_data,\n",
    "                              xvar = colnames(gwas_pheno_data)[[norm_col[[1]]]],\n",
    "                              facetvar = 'cohort'))\n",
    "\n",
    "})"
   ]
  },
  {
   "cell_type": "markdown",
   "metadata": {},
   "source": [
    "# Plot final regenie phenotypes\n",
    "\n",
    "<div class=\"alert alert-block alert-success\">\n",
    "    See notebook <kbd>regenie_gwas.ipynb</kbd> for the code that transforms the GWAS phenotypes to regenie's specific format. \n",
    "</div>"
   ]
  },
  {
   "cell_type": "code",
   "execution_count": null,
   "metadata": {},
   "outputs": [],
   "source": [
    "regenie_pheno = read_tsv(pipe(str_glue('gsutil cat {REGENIE_PHENO}')))\n",
    "\n",
    "dim(regenie_pheno)\n",
    "colnames(regenie_pheno)"
   ]
  },
  {
   "cell_type": "code",
   "execution_count": null,
   "metadata": {},
   "outputs": [],
   "source": [
    "regenie_pheno %>%\n",
    "    group_by(cohort) %>%\n",
    "    summarize(\n",
    "        count = n()\n",
    "    )"
   ]
  },
  {
   "cell_type": "code",
   "execution_count": null,
   "metadata": {},
   "outputs": [],
   "source": [
    "options(repr.plot.width = 8, repr.plot.height = 8)\n",
    "for (lipid in c('HDLnorm', 'LDLnorm', 'TCnorm', 'TGnorm')) {\n",
    "    print(plot_var_histograms(data = regenie_pheno, xvar = lipid, facetvar = 'cohort'))\n",
    "}"
   ]
  },
  {
   "cell_type": "markdown",
   "metadata": {},
   "source": [
    "# Plot regenie results\n",
    "\n",
    "This code was inspired by [regenie.wdl](https://github.com/briansha/Regenie_WDL/blob/master/regenie.wdl#L515)."
   ]
  },
  {
   "cell_type": "markdown",
   "metadata": {},
   "source": [
    "## GC fix"
   ]
  },
  {
   "cell_type": "code",
   "execution_count": null,
   "metadata": {},
   "outputs": [],
   "source": [
    "regenie_results <- read_delim(pipe(str_glue('gsutil cat {REGENIE_RESULTS[[1]]}')), delim = ' ')\n",
    "    \n",
    "regenie_results$p_value <- 10 ^ (-1 * regenie_results$LOG10P)"
   ]
  },
  {
   "cell_type": "code",
   "execution_count": null,
   "metadata": {},
   "outputs": [],
   "source": [
    "min(regenie_results$p_value)\n",
    "min(regenie_results$LOG10P)"
   ]
  },
  {
   "cell_type": "code",
   "execution_count": null,
   "metadata": {},
   "outputs": [],
   "source": [
    "max(regenie_results$p_value)\n",
    "max(regenie_results$LOG10P)"
   ]
  },
  {
   "cell_type": "code",
   "execution_count": null,
   "metadata": {},
   "outputs": [],
   "source": [
    "retval <- lapply(REGENIE_RESULTS, function(lipid_result) {\n",
    "    regenie_results <- read_delim(pipe(str_glue('gsutil cat {lipid_result}')), delim = ' ')\n",
    "    \n",
    "    regenie_results$p_value <- 10 ^ (-1 * regenie_results$LOG10P)\n",
    "       \n",
    "    gc_score_A <- qchisq(median(regenie_results$p_value), 1, lower.tail=FALSE) / 0.456\n",
    "    gc_score_B <- median(qchisq(1 - regenie_results$p_value, 1)) / qchisq(0.5, 1)\n",
    "    \n",
    "    message(str_glue('nrow: {nrow(regenie_results)} ncol: {ncol(regenie_results)} in {lipid_result}'))\n",
    "    message(str_glue('GC: {gc_score_A} {gc_score_B}'))\n",
    "    message(\n",
    "        regenie_results %>%\n",
    "            group_by(TEST) %>%\n",
    "        summarize(count = n())\n",
    "    )\n",
    "        \n",
    "    options(repr.plot.width = 10, repr.plot.height = 10)\n",
    "    manhattan(regenie_results,\n",
    "              chr=\"CHROM\",\n",
    "              bp=\"GENPOS\",\n",
    "              snp=\"ID\",\n",
    "              p=\"p_value\",\n",
    "              logp=TRUE,\n",
    "              annotateTop = FALSE,\n",
    "              # Omit the high outliers to make the plot more readable.\n",
    "              # TODO(deflaux) log scale the y axis instead.\n",
    "              ylim = c(0, 200),\n",
    "              cex = 1.25,\n",
    "              cex.axis = 1.25,\n",
    "              cex.lab = 1.25,\n",
    "              main = str_glue('{basename(lipid_result)} results\\nfrom {dirname(lipid_result)}'),\n",
    "              sub = PLOT_SUBTITLE\n",
    "             )\n",
    "\n",
    "    qq(regenie_results$p_value,\n",
    "       cex = 1.25,\n",
    "       cex.axis = 1.25,\n",
    "       cex.lab = 1.25,\n",
    "       main = str_glue('{basename(lipid_result)} results\\nfrom {dirname(lipid_result)}\\n GC: {gc_score_A} {gc_score_B}'),\n",
    "       sub = PLOT_SUBTITLE)\n",
    "\n",
    "})"
   ]
  },
  {
   "cell_type": "markdown",
   "metadata": {},
   "source": [
    "## GC fix and filter to common variants"
   ]
  },
  {
   "cell_type": "code",
   "execution_count": null,
   "metadata": {},
   "outputs": [],
   "source": [
    "regenie_results <- read_delim(pipe(str_glue('gsutil cat {REGENIE_RESULTS[[1]]}')), delim = ' ')"
   ]
  },
  {
   "cell_type": "code",
   "execution_count": null,
   "metadata": {},
   "outputs": [],
   "source": [
    "min(regenie_results$A1FREQ)"
   ]
  },
  {
   "cell_type": "code",
   "execution_count": null,
   "metadata": {},
   "outputs": [],
   "source": [
    "max(regenie_results$A1FREQ)"
   ]
  },
  {
   "cell_type": "code",
   "execution_count": null,
   "metadata": {},
   "outputs": [],
   "source": [
    "retval <- lapply(REGENIE_RESULTS, function(lipid_result) {\n",
    "    regenie_results <- read_delim(pipe(str_glue('gsutil cat {lipid_result}')), delim = ' ')\n",
    "    \n",
    "    regenie_results$p_value <- 10 ^ (-1 * regenie_results$LOG10P)\n",
    "\n",
    "    # Use only common variants in GC and the plots.\n",
    "    common_regenie_results <- regenie_results %>%\n",
    "        filter(A1FREQ > 0.01 & A1FREQ < 0.99)\n",
    "    \n",
    "    gc_score_A <- qchisq(median(common_regenie_results$p_value), 1, lower.tail=FALSE) / 0.456\n",
    "    gc_score_B <- median(qchisq(1 - common_regenie_results$p_value, 1)) / qchisq(0.5, 1)\n",
    "    \n",
    "    message(str_glue('nrow: {nrow(regenie_results)} ncol: {ncol(regenie_results)} in {lipid_result}'))\n",
    "    message(str_glue('GC: {gc_score_A} {gc_score_B}'))\n",
    "    message(\n",
    "        regenie_results %>%\n",
    "            group_by(TEST) %>%\n",
    "        summarize(count = n())\n",
    "    )\n",
    "        \n",
    "    options(repr.plot.width = 10, repr.plot.height = 10)\n",
    "    manhattan(common_regenie_results,\n",
    "              chr=\"CHROM\",\n",
    "              bp=\"GENPOS\",\n",
    "              snp=\"ID\",\n",
    "              p=\"p_value\",\n",
    "              logp=TRUE,\n",
    "              annotateTop = FALSE,\n",
    "              # Omit the high outliers to make the plot more readable.\n",
    "              # TODO(deflaux) log scale the y axis instead.\n",
    "              ylim = c(0, 200),\n",
    "              cex = 1.25,\n",
    "              cex.axis = 1.25,\n",
    "              cex.lab = 1.25,\n",
    "              main = str_glue('{basename(lipid_result)} results\\nfrom {dirname(lipid_result)}'),\n",
    "              sub = PLOT_SUBTITLE\n",
    "             )\n",
    "\n",
    "    qq(common_regenie_results$p_value,\n",
    "       cex = 1.25,\n",
    "       cex.axis = 1.25,\n",
    "       cex.lab = 1.25,\n",
    "       main = str_glue('{basename(lipid_result)} results\\nfrom {dirname(lipid_result)}\\n GC: {gc_score_A} {gc_score_B}'),\n",
    "       sub = PLOT_SUBTITLE)\n",
    "\n",
    "})"
   ]
  },
  {
   "cell_type": "markdown",
   "metadata": {},
   "source": [
    "## GC fix and prune variants in LD"
   ]
  },
  {
   "cell_type": "code",
   "execution_count": null,
   "metadata": {},
   "outputs": [],
   "source": [
    "ld_pruned_variants  <- read_tsv(pipe(str_glue('gsutil cat {LD_PRUNED_VARIANTS}')), col_names = 'variant_id')\n",
    "\n",
    "head(ld_pruned_variants)"
   ]
  },
  {
   "cell_type": "code",
   "execution_count": null,
   "metadata": {},
   "outputs": [],
   "source": [
    "retval <- lapply(REGENIE_RESULTS, function(lipid_result) {\n",
    "    regenie_results <- read_delim(pipe(str_glue('gsutil cat {lipid_result}')), delim = ' ')\n",
    "    \n",
    "    regenie_results$p_value <- 10 ^ (-1 * regenie_results$LOG10P)\n",
    "    \n",
    "    # Use LD pruned results in GC and the QQ plot.\n",
    "    ld_pruned_regenie_results <- regenie_results %>%\n",
    "        filter(ID %in% ld_pruned_variants$variant_id)\n",
    "    \n",
    "    gc_score_A <- qchisq(median(ld_pruned_regenie_results$p_value), 1, lower.tail=FALSE) / 0.456\n",
    "    gc_score_B <- median(qchisq(1 - ld_pruned_regenie_results$p_value, 1)) / qchisq(0.5, 1)\n",
    "    \n",
    "    message(str_glue('nrow: {nrow(regenie_results)} ncol: {ncol(regenie_results)} in {lipid_result}'))\n",
    "    message(str_glue('GC: {gc_score_A} {gc_score_B}'))\n",
    "    message(\n",
    "        regenie_results %>%\n",
    "            group_by(TEST) %>%\n",
    "        summarize(count = n())\n",
    "    )\n",
    "        \n",
    "    options(repr.plot.width = 10, repr.plot.height = 10)\n",
    "    manhattan(regenie_results,\n",
    "              chr=\"CHROM\",\n",
    "              bp=\"GENPOS\",\n",
    "              snp=\"ID\",\n",
    "              p=\"p_value\",\n",
    "              logp=TRUE,\n",
    "              annotateTop = FALSE,\n",
    "              # Omit the high outliers to make the plot more readable.\n",
    "              # TODO(deflaux) log scale the y axis instead.\n",
    "              ylim = c(0, 200),\n",
    "              cex = 1.25,\n",
    "              cex.axis = 1.25,\n",
    "              cex.lab = 1.25,\n",
    "              main = str_glue('{basename(lipid_result)} results\\nfrom {dirname(lipid_result)}'),\n",
    "              sub = PLOT_SUBTITLE\n",
    "             )\n",
    "\n",
    "    qq(ld_pruned_regenie_results$p_value,\n",
    "       cex = 1.25,\n",
    "       cex.axis = 1.25,\n",
    "       cex.lab = 1.25,\n",
    "       main = str_glue('{basename(lipid_result)} results\\nfrom {dirname(lipid_result)}\\n GC: {gc_score_A} {gc_score_B}'),\n",
    "       sub = PLOT_SUBTITLE)\n",
    "\n",
    "})"
   ]
  },
  {
   "cell_type": "markdown",
   "metadata": {},
   "source": [
    "## GC fix, LD pruning, and common variants"
   ]
  },
  {
   "cell_type": "code",
   "execution_count": null,
   "metadata": {},
   "outputs": [],
   "source": [
    "ld_pruned_variants  <- read_tsv(pipe(str_glue('gsutil cat {LD_PRUNED_VARIANTS}')), col_names = 'variant_id')\n",
    "\n",
    "head(ld_pruned_variants)"
   ]
  },
  {
   "cell_type": "code",
   "execution_count": null,
   "metadata": {},
   "outputs": [],
   "source": [
    "retval <- lapply(REGENIE_RESULTS, function(lipid_result) {\n",
    "    regenie_results <- read_delim(pipe(str_glue('gsutil cat {lipid_result}')), delim = ' ')\n",
    "    \n",
    "    regenie_results$p_value <- 10 ^ (-1 * regenie_results$LOG10P)\n",
    "    \n",
    "    # Use only common variants in GC and the plots.\n",
    "    common_regenie_results <- regenie_results %>%\n",
    "        filter(A1FREQ > 0.01 & A1FREQ < 0.99)\n",
    "\n",
    "    # Use LD pruned results in GC and the QQ plot.\n",
    "    ld_pruned_common_regenie_results <- common_regenie_results %>%\n",
    "        filter(ID %in% ld_pruned_variants$variant_id)\n",
    "    \n",
    "    gc_score_A <- qchisq(median(ld_pruned_common_regenie_results$p_value), 1, lower.tail=FALSE) / 0.456\n",
    "    gc_score_B <- median(qchisq(1 - ld_pruned_common_regenie_results$p_value, 1)) / qchisq(0.5, 1)\n",
    "    \n",
    "    message(str_glue('nrow: {nrow(regenie_results)} ncol: {ncol(regenie_results)} in {lipid_result}'))\n",
    "    message(str_glue('GC: {gc_score_A} {gc_score_B}'))\n",
    "    message(\n",
    "        regenie_results %>%\n",
    "            group_by(TEST) %>%\n",
    "        summarize(count = n())\n",
    "    )\n",
    "        \n",
    "    options(repr.plot.width = 10, repr.plot.height = 10)\n",
    "    manhattan(common_regenie_results,\n",
    "              chr=\"CHROM\",\n",
    "              bp=\"GENPOS\",\n",
    "              snp=\"ID\",\n",
    "              p=\"p_value\",\n",
    "              logp=TRUE,\n",
    "              annotateTop = FALSE,\n",
    "              # Omit the high outliers to make the plot more readable.\n",
    "              # TODO(deflaux) log scale the y axis instead.\n",
    "              ylim = c(0, 200),\n",
    "              cex = 1.25,\n",
    "              cex.axis = 1.25,\n",
    "              cex.lab = 1.25,\n",
    "              main = str_glue('{basename(lipid_result)} results\\nfrom {dirname(lipid_result)}'),\n",
    "              sub = PLOT_SUBTITLE\n",
    "             )\n",
    "\n",
    "    qq(ld_pruned_common_regenie_results$p_value,\n",
    "       cex = 1.25,\n",
    "       cex.axis = 1.25,\n",
    "       cex.lab = 1.25,\n",
    "       main = str_glue('{basename(lipid_result)} results\\nfrom {dirname(lipid_result)}\\n GC: {gc_score_A} {gc_score_B}'),\n",
    "       sub = PLOT_SUBTITLE)\n",
    "\n",
    "})"
   ]
  },
  {
   "cell_type": "markdown",
   "metadata": {},
   "source": [
    "# Provenance "
   ]
  },
  {
   "cell_type": "code",
   "execution_count": null,
   "metadata": {},
   "outputs": [],
   "source": [
    "devtools::session_info()"
   ]
  }
 ],
 "metadata": {
  "kernelspec": {
   "display_name": "R",
   "language": "R",
   "name": "ir"
  },
  "language_info": {
   "codemirror_mode": "r",
   "file_extension": ".r",
   "mimetype": "text/x-r-source",
   "name": "R",
   "pygments_lexer": "r",
   "version": "4.1.0"
  },
  "toc": {
   "base_numbering": 1,
   "nav_menu": {},
   "number_sections": true,
   "sideBar": true,
   "skip_h1_title": false,
   "title_cell": "Table of Contents",
   "title_sidebar": "Contents",
   "toc_cell": false,
   "toc_position": {
    "height": "calc(100% - 180px)",
    "left": "10px",
    "top": "150px",
    "width": "301.989px"
   },
   "toc_section_display": true,
   "toc_window_display": true
  }
 },
 "nbformat": 4,
 "nbformat_minor": 4
}

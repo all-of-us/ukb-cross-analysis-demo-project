{
 "cells": [
  {
   "cell_type": "markdown",
   "metadata": {},
   "source": [
    "# Compare SQL phenotype to R phenotype\n",
    "\n",
    "<div class=\"alert alert-block alert-success\">\n",
    "    <b>There are some logic changes that will affect <i>which of a person's measurements</i> is used.</b> And <i>which measurement</i> is used will affect the <b>age</b>, since its age at time of measurement, and the <b>statin use indicator</b>, since the measurment must occur with in the statin use interval to be true.\n",
    "    <ol>\n",
    "        <li>We now retain only measurements where <kbd>value_as_number IS NOT NULL AND value_as_number > 0</kbd>.</li>\n",
    "        <li>Previously the R code was modifying LDL during the lipids adjustment. Now LDL is the original value from the measurements table. Adjustments only occur within LDL_adjusted.\n",
    "        <li>A single age and statin use indicator was previously chosen per person, even though those values could vary between a person's different lipid measurements. Now each measurement is retaining the age and statin use flag associated with the datetime of the measurment.</li>\n",
    "        <li>When choosing the \"most recent\" measurement, the SQL code goes to greater lengths to make the result reproducible by sorting not only by measurement date, but also by measurement time, and measurement id in the case of ties.</li>\n",
    "        <li>The SQL JOIN logic for measurements and statin use intervals uses the datetime instead of the date.</li>\n",
    "    </ol>\n",
    " </div>"
   ]
  },
  {
   "cell_type": "markdown",
   "metadata": {},
   "source": [
    "# Setup"
   ]
  },
  {
   "cell_type": "code",
   "execution_count": null,
   "metadata": {},
   "outputs": [],
   "source": [
    "lapply(c('hexbin', 'hrbrthemes', 'viridis'),\n",
    "       function(pkg) { if(! pkg %in% installed.packages()) { install.packages(pkg)} } )"
   ]
  },
  {
   "cell_type": "code",
   "execution_count": null,
   "metadata": {},
   "outputs": [],
   "source": [
    "library(hexbin)\n",
    "library(hrbrthemes)\n",
    "library(tidyverse)"
   ]
  },
  {
   "cell_type": "code",
   "execution_count": null,
   "metadata": {},
   "outputs": [],
   "source": [
    "AOU_R_PHENO <- 'gs://fc-secure-fd6786bf-6c28-4f33-ac30-3860fbeee5bb/data/AOU_Full_Data.csv'\n",
    "AOU_SQL_PHENO <- 'gs://fc-secure-440c511e-7fff-417c-9c86-f8ab51bfc618/data/phenotypes/20211005/AOU_Full_Data_iteration3.csv'"
   ]
  },
  {
   "cell_type": "code",
   "execution_count": null,
   "metadata": {},
   "outputs": [],
   "source": [
    "# Set some visualiation defaults.\n",
    "theme_set(theme_ipsum(base_size = 16)) # Default theme for plots.\n",
    "\n",
    "#' Returns a data frame with a y position and a label, for use annotating ggplot boxplots.\n",
    "#'\n",
    "#' @param d A data frame.\n",
    "#' @return A data frame with column y as max and column label as length.\n",
    "get_boxplot_fun_data <- function(df) {\n",
    "  return(data.frame(y = max(df), label = stringr::str_c('N = ', length(df))))\n",
    "}"
   ]
  },
  {
   "cell_type": "markdown",
   "metadata": {},
   "source": [
    "# Load data"
   ]
  },
  {
   "cell_type": "code",
   "execution_count": null,
   "metadata": {},
   "outputs": [],
   "source": [
    "aou_orig_pheno_wide = read_csv(pipe(str_glue('gsutil cat {AOU_R_PHENO}')), na = c(\"-Inf\", \"NA\"))"
   ]
  },
  {
   "cell_type": "code",
   "execution_count": null,
   "metadata": {},
   "outputs": [],
   "source": [
    "colnames(aou_orig_pheno_wide)"
   ]
  },
  {
   "cell_type": "code",
   "execution_count": null,
   "metadata": {},
   "outputs": [],
   "source": [
    "aou_orig_pheno_long <- aou_orig_pheno_wide %>%\n",
    "    filter(!is.na(Cohort)) %>% # Samples without a value for Cohort do not have WGS.\n",
    "    select(person_id, age, statin_use, LDL, HDL, TC, TG,\n",
    "           LDL_adjusted = LDLadjusted, TC_adjusted = TCadjusted, TG_adjusted = TGadjusted) %>%\n",
    "    pivot_longer(col = c(LDL, HDL, TC, TG, LDL_adjusted, TC_adjusted, TG_adjusted),\n",
    "                 names_to = 'lipid_type',\n",
    "                 values_to = 'value_as_number') %>%\n",
    "    # Remove non-useful lipid values here as a post processing step.\n",
    "    filter(!is.na(value_as_number)) %>%\n",
    "    filter(value_as_number > 0)"
   ]
  },
  {
   "cell_type": "code",
   "execution_count": null,
   "metadata": {},
   "outputs": [],
   "source": [
    "aou_new_pheno_long = read_csv(pipe(str_glue('gsutil cat {AOU_SQL_PHENO}')))"
   ]
  },
  {
   "cell_type": "code",
   "execution_count": null,
   "metadata": {},
   "outputs": [],
   "source": [
    "colnames(aou_new_pheno_long)"
   ]
  },
  {
   "cell_type": "markdown",
   "metadata": {},
   "source": [
    "# Compare data"
   ]
  },
  {
   "cell_type": "code",
   "execution_count": null,
   "metadata": {},
   "outputs": [],
   "source": [
    "dim(aou_orig_pheno_long)\n",
    "dim(aou_new_pheno_long)"
   ]
  },
  {
   "cell_type": "markdown",
   "metadata": {},
   "source": [
    "<div class=\"alert alert-block alert-success\">\n",
    "We've retained more non-zero and non-null measurements.\n",
    "</div>"
   ]
  },
  {
   "cell_type": "code",
   "execution_count": null,
   "metadata": {},
   "outputs": [],
   "source": [
    "length(unique(aou_orig_pheno_long$person_id))\n",
    "length(unique(aou_new_pheno_long$person_id))"
   ]
  },
  {
   "cell_type": "markdown",
   "metadata": {},
   "source": [
    "<div class=\"alert alert-block alert-success\">\n",
    "We've also included more genomes.\n",
    "</div>"
   ]
  },
  {
   "cell_type": "code",
   "execution_count": null,
   "metadata": {},
   "outputs": [],
   "source": [
    "pheno_versions <- inner_join(\n",
    "    aou_new_pheno_long,\n",
    "    aou_orig_pheno_long,\n",
    "    suffix = c('_sql_phenotypes', '_r_phenotypes'),\n",
    "    by = c('person_id', 'lipid_type')\n",
    ")\n",
    "\n",
    "dim(pheno_versions)"
   ]
  },
  {
   "cell_type": "code",
   "execution_count": null,
   "metadata": {},
   "outputs": [],
   "source": [
    "stopifnot(nrow(aou_orig_pheno_long) == nrow(pheno_versions))"
   ]
  },
  {
   "cell_type": "code",
   "execution_count": null,
   "metadata": {},
   "outputs": [],
   "source": [
    "colnames(pheno_versions)"
   ]
  },
  {
   "cell_type": "code",
   "execution_count": null,
   "metadata": {},
   "outputs": [],
   "source": [
    "sum(abs(pheno_versions$age_sql_phenotypes - pheno_versions$age_r_phenotypes) > 2)"
   ]
  },
  {
   "cell_type": "code",
   "execution_count": null,
   "metadata": {},
   "outputs": [],
   "source": [
    "sum(pheno_versions$statin_use_sql_phenotypes != pheno_versions$statin_use_r_phenotypes)"
   ]
  },
  {
   "cell_type": "markdown",
   "metadata": {},
   "source": [
    "<div class=\"alert alert-block alert-success\">\n",
    "The results have minor differences, but no major differences.\n",
    "</div>"
   ]
  },
  {
   "cell_type": "code",
   "execution_count": null,
   "metadata": {},
   "outputs": [],
   "source": [
    "options(repr.plot.width = 10, repr.plot.height = 10)\n",
    "\n",
    "ggplot(pheno_versions, aes(x=age_sql_phenotypes, y=age_r_phenotypes)) + geom_hex(bins=100)"
   ]
  },
  {
   "cell_type": "code",
   "execution_count": null,
   "metadata": {},
   "outputs": [],
   "source": [
    "options(repr.plot.width = 14, repr.plot.height = 30)\n",
    "rbind(\n",
    "    aou_new_pheno_long %>%\n",
    "        mutate(version = 'sql_phenotypes') %>%\n",
    "        select(person_id, age, statin_use, lipid_type, value_as_number, version),\n",
    "    aou_orig_pheno_long %>%\n",
    "        mutate(version = 'r_phenotypes') %>%\n",
    "        select(person_id, age, statin_use, lipid_type, value_as_number, version)) %>%\n",
    "ggplot(aes(x = version, y = value_as_number)) +\n",
    "    geom_boxplot() +\n",
    "    facet_grid(rows = vars(lipid_type), scales = 'free') +\n",
    "    scale_y_log10()"
   ]
  },
  {
   "cell_type": "code",
   "execution_count": null,
   "metadata": {},
   "outputs": [],
   "source": [
    "options(repr.plot.width = 14, repr.plot.height = 30)\n",
    "rbind(\n",
    "    aou_new_pheno_long %>%\n",
    "        mutate(version = 'sql_phenotypes') %>%\n",
    "        select(person_id, age, statin_use, lipid_type, value_as_number, version),\n",
    "    aou_orig_pheno_long %>%\n",
    "        mutate(version = 'r_phenotypes') %>%\n",
    "        select(person_id, age, statin_use, lipid_type, value_as_number, version)) %>%\n",
    "ggplot(aes(x = version, y = value_as_number)) +\n",
    "    geom_violin() +\n",
    "    facet_grid(rows = vars(lipid_type), scales = 'free') +\n",
    "    scale_y_log10()"
   ]
  },
  {
   "cell_type": "markdown",
   "metadata": {},
   "source": [
    "# Provenance"
   ]
  },
  {
   "cell_type": "code",
   "execution_count": null,
   "metadata": {},
   "outputs": [],
   "source": [
    "devtools::session_info()"
   ]
  }
 ],
 "metadata": {
  "kernelspec": {
   "display_name": "R",
   "language": "R",
   "name": "ir"
  },
  "language_info": {
   "codemirror_mode": "r",
   "file_extension": ".r",
   "mimetype": "text/x-r-source",
   "name": "R",
   "pygments_lexer": "r",
   "version": "4.1.1"
  },
  "toc": {
   "base_numbering": 1,
   "nav_menu": {},
   "number_sections": true,
   "sideBar": true,
   "skip_h1_title": false,
   "title_cell": "Table of Contents",
   "title_sidebar": "Contents",
   "toc_cell": false,
   "toc_position": {
    "height": "calc(100% - 180px)",
    "left": "10px",
    "top": "150px",
    "width": "183px"
   },
   "toc_section_display": true,
   "toc_window_display": true
  }
 },
 "nbformat": 4,
 "nbformat_minor": 2
}

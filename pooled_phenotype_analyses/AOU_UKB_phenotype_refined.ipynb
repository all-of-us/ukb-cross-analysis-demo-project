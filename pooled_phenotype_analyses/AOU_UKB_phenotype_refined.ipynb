{
 "cells": [
  {
   "cell_type": "markdown",
   "metadata": {},
   "source": [
    "# Initial Setup"
   ]
  },
  {
   "cell_type": "code",
   "execution_count": null,
   "metadata": {},
   "outputs": [],
   "source": [
    "lapply(c('viridis', 'ggthemes', 'skimr', 'fuzzyjoin', 'pryr'),\n",
    "       function(pkg_name) { if(! pkg_name %in% installed.packages()) { install.packages(pkg_name)} } )\n",
    "lapply(c('IRanges'),\n",
    "       function(pkg_name) { if(! pkg_name %in% installed.packages()) { BiocManager::install(pkg_name)} } )\n",
    "library(plyr)\n",
    "library(viridis)    # A nice color scheme for plots.\n",
    "library(ggthemes)   # Common themes to change the look and feel of plots.\n",
    "library(scales)     # Graphical scales map data to aesthetics in plots.\n",
    "library(skimr)      # Better summaries of data.\n",
    "library(lubridate)  # Date library from the tidyverse.\n",
    "library(bigrquery)  # BigQuery R client.\n",
    "library(tidyverse)  # Data wrangling packages.\n",
    "library(fuzzyjoin)\n",
    "library(lubridate)\n",
    "library(pryr)       # For memory profiling."
   ]
  },
  {
   "cell_type": "code",
   "execution_count": null,
   "metadata": {},
   "outputs": [],
   "source": [
    "## BigQuery setup.\n",
    "BILLING_PROJECT_ID <- Sys.getenv('GOOGLE_PROJECT')\n",
    "# Get the BigQuery curated dataset for the current workspace context.\n",
    "CDR <- Sys.getenv('WORKSPACE_CDR')\n",
    "\n",
    "WORKSPACE_BUCKET <- Sys.getenv('WORKSPACE_BUCKET')\n",
    "\n",
    "## Plot setup.\n",
    "theme_set(theme_bw(base_size = 16)) # Default theme for plots.\n",
    "\n",
    "#' Returns a data frame with a y position and a label, for use annotating ggplot boxplots.\n",
    "#'\n",
    "#' @param d A data frame.\n",
    "#' @return A data frame with column y as max and column label as length.\n",
    "get_boxplot_fun_data <- function(df) {\n",
    "  return(data.frame(y = max(df), label = stringr::str_c('N = ', length(df))))\n",
    "}"
   ]
  },
  {
   "cell_type": "markdown",
   "metadata": {},
   "source": [
    "# Functions"
   ]
  },
  {
   "cell_type": "code",
   "execution_count": null,
   "metadata": {},
   "outputs": [],
   "source": [
    "writeFile <- function(FileToSave, FileName) {\n",
    "    # This code saves your dataframe into a csv file in a \"data\" folder in Google Bucket\n",
    "    my_dataframe <- FileToSave\n",
    "    destination_filename <- FileName\n",
    "\n",
    "    # store the dataframe in current workspace\n",
    "    write_excel_csv(my_dataframe, destination_filename)\n",
    "\n",
    "    # Get the bucket name\n",
    "    my_bucket <- Sys.getenv('WORKSPACE_BUCKET')\n",
    "\n",
    "    # Copy the file from current workspace to the bucket\n",
    "    system(paste0(\"gsutil cp ./\", destination_filename, \" \", my_bucket, \"/data/\"), intern=T)\n",
    "\n",
    "    # Check if file is in the bucket\n",
    "    system(paste0(\"gsutil ls \", my_bucket, \"/data/*.csv\"), intern=T)\n",
    "}"
   ]
  },
  {
   "cell_type": "markdown",
   "metadata": {},
   "source": [
    "# AOU Data"
   ]
  },
  {
   "cell_type": "markdown",
   "metadata": {},
   "source": [
    "## Read AOU files"
   ]
  },
  {
   "cell_type": "code",
   "execution_count": null,
   "metadata": {},
   "outputs": [],
   "source": [
    "# Read all the files --- These files were written \"AOU_UKB_phenotypes\" Notebook\n",
    "\n",
    "LDL <- readr::read_csv(pipe(str_glue('gsutil cat {WORKSPACE_BUCKET}/data/LDL_ForAdjNor.20210714.csv')))\n",
    "HDL <- readr::read_csv(pipe(str_glue('gsutil cat {WORKSPACE_BUCKET}/data/HDL_ForAdjNor.20210714.csv')))\n",
    "TC <- readr::read_csv(pipe(str_glue('gsutil cat {WORKSPACE_BUCKET}/data/TC_ForAdjNor.20210714.csv')))\n",
    "TG <- readr::read_csv(pipe(str_glue('gsutil cat {WORKSPACE_BUCKET}/data/TG_ForAdjNor.20210714.csv')))\n"
   ]
  },
  {
   "cell_type": "code",
   "execution_count": null,
   "metadata": {},
   "outputs": [],
   "source": [
    "dim(LDL)\n",
    "colnames(LDL)\n",
    "head(LDL)\n",
    "table(LDL$statin_use)"
   ]
  },
  {
   "cell_type": "markdown",
   "metadata": {},
   "source": [
    "## Lipid Adjustment "
   ]
  },
  {
   "cell_type": "code",
   "execution_count": null,
   "metadata": {},
   "outputs": [],
   "source": [
    "#LDL adjustment based on TG/LDL values\n",
    "#If TG > 400, then LDL = NA\n",
    "#If LDL < 10, then LDL=NA\n",
    "#LDL and TC adjustment based on Statin (Lipid lowering medication)\n",
    "#If STATIN is used, LDL_ADJ = LDL/0.7\n",
    "#If STATIN is used, TOTAL_ADJ = TC/0.8\n",
    "#TG adjustment\n",
    "#TG_LOG = log(TG)"
   ]
  },
  {
   "cell_type": "code",
   "execution_count": null,
   "metadata": {},
   "outputs": [],
   "source": [
    "LDL_data <- LDL %>% select(\"person_id\", \"gender\", \"age\", \"age2\", \"statin_use\", \"title\", \"value_as_number\")\n",
    "HDL_data <- HDL %>% select(\"person_id\", \"gender\", \"age\", \"age2\", \"statin_use\", \"title\", \"value_as_number\")\n",
    "TC_data <- TC %>% select(\"person_id\", \"gender\", \"age\", \"age2\", \"statin_use\", \"title\", \"value_as_number\")\n",
    "TG_data <- TG %>% select(\"person_id\", \"gender\", \"age\", \"age2\", \"statin_use\", \"title\", \"value_as_number\")\n",
    "\n",
    "dim(LDL_data)\n",
    "dim(HDL_data)\n",
    "dim(TC_data)\n",
    "dim(TG_data)"
   ]
  },
  {
   "cell_type": "code",
   "execution_count": null,
   "metadata": {},
   "outputs": [],
   "source": [
    "length(intersect(LDL_data$person_id, HDL_data$person_id))\n",
    "length(intersect(LDL_data$person_id, TC_data$person_id))\n",
    "length(intersect(LDL_data$person_id, TG_data$person_id))\n",
    "length(intersect(HDL_data$person_id, TC_data$person_id))\n",
    "length(intersect(HDL_data$person_id, TG_data$person_id))\n",
    "length(intersect(TC_data$person_id, TG_data$person_id))\n",
    "\n",
    "length(unique(c(LDL_data$person_id, HDL_data$person_id, TC_data$person_id, TG_data$person_id)))"
   ]
  },
  {
   "cell_type": "code",
   "execution_count": null,
   "metadata": {},
   "outputs": [],
   "source": [
    "#library(plyr)\n",
    "# Join all data starting TG since it holds most of the samples\n",
    "FullData <- join_all(list(TG_data, HDL_data, TC_data,  LDL_data), by='person_id', type='left')\n",
    "dim(FullData)\n",
    "head(FullData)\n",
    "tail(FullData)"
   ]
  },
  {
   "cell_type": "code",
   "execution_count": null,
   "metadata": {},
   "outputs": [],
   "source": [
    "set1 <- c('value_as_number')\n",
    "cols <- grep(set1, colnames(FullData))\n",
    "AOUdata <- FullData[,c(1,2,3,4,5,cols)]\n",
    "colnames(AOUdata)[6:9] <- c(\"TG\", \"HDL\", \"TC\", \"LDL\")\n",
    "dim(AOUdata)\n",
    "\n",
    "# Make NA statin_use to FALSE --- so that LDL adjustment doesn’t error out\n",
    "AOUdata$statin_use[which(is.na(AOUdata$statin_use))] <- \"FALSE\"\n",
    "head(AOUdata)"
   ]
  },
  {
   "cell_type": "code",
   "execution_count": null,
   "metadata": {},
   "outputs": [],
   "source": [
    "#LDL adjustment based on TG/LDL values\n",
    "#If TG > 400, then LDL = NA\n",
    "#If LDL < 10, then LDL=NA\n",
    "\n",
    "AOUdata$LDL <- ifelse(AOUdata$TG > 400, NA, AOUdata$LDL)\n",
    "AOUdata$LDL <- ifelse(AOUdata$LDL < 10, NA, AOUdata$LDL)\n",
    "#If STATIN is used, LDL_ADJ = LDL/0.7\n",
    "AOUdata$LDLadjusted <- ifelse(AOUdata$statin_use == \"TRUE\", AOUdata$LDL/0.7, AOUdata$LDL)\n",
    "#If STATIN is used, TOTAL_ADJ = TC/0.8\n",
    "AOUdata$TCadjusted <- ifelse(AOUdata$statin_use == \"TRUE\", AOUdata$TC/0.8, AOUdata$TC)\n",
    "#TG adjustment\n",
    "AOUdata$TGadjusted <- log(AOUdata$TG)"
   ]
  },
  {
   "cell_type": "code",
   "execution_count": null,
   "metadata": {},
   "outputs": [],
   "source": [
    "dim(AOUdata)\n",
    "head(AOUdata)\n",
    "dim(na.omit(AOUdata)) # Just checking to understand how many samples are lost"
   ]
  },
  {
   "cell_type": "code",
   "execution_count": null,
   "metadata": {},
   "outputs": [],
   "source": [
    "# Remove non-ACSII characters from sampleIds\n",
    "# Make geneder to Sex\n",
    "AOUdata$person_id <- stringi::stri_trans_general(AOUdata$person_id, \"latin-ascii\")\n",
    "colnames(AOUdata)[2] <- \"sex\"\n",
    "dim(AOUdata)\n",
    "head(AOUdata)"
   ]
  },
  {
   "cell_type": "markdown",
   "metadata": {},
   "source": [
    "## Write Iteration 2 data - with more samples "
   ]
  },
  {
   "cell_type": "code",
   "execution_count": null,
   "metadata": {},
   "outputs": [],
   "source": [
    "writeFile(AOUdata, \"AOUdata_iteration2.csv\")"
   ]
  },
  {
   "cell_type": "markdown",
   "metadata": {},
   "source": [
    "# UKB data"
   ]
  },
  {
   "cell_type": "markdown",
   "metadata": {},
   "source": [
    "## Read UKB files"
   ]
  },
  {
   "cell_type": "code",
   "execution_count": null,
   "metadata": {},
   "outputs": [],
   "source": [
    "# Read the UKB adjusted file --- These files were written \"AOU_UKB_phenotypes\" Notebook\n",
    "\n",
    "UKBdata <- readr::read_csv(pipe(str_glue('gsutil cat {WORKSPACE_BUCKET}/data/UKB_NAomitted_Data.csv')))\n",
    "dim(UKBdata)"
   ]
  },
  {
   "cell_type": "code",
   "execution_count": null,
   "metadata": {},
   "outputs": [],
   "source": [
    "head(UKBdata)"
   ]
  },
  {
   "cell_type": "markdown",
   "metadata": {},
   "source": [
    "# Read PCs - UKB & AOU"
   ]
  },
  {
   "cell_type": "code",
   "execution_count": null,
   "metadata": {},
   "outputs": [],
   "source": [
    "# Raw PCs\n",
    "raw_pcs <- readr::read_tsv(\n",
    "    pipe(str_glue('gsutil cat gs://fc-secure-fd6786bf-6c28-4f33-ac30-3860fbeee5bb/data/merged/20210714/pcs.tsv'))\n",
    ")\n",
    "raw_pcs$person_id <- raw_pcs$s\n",
    "\n",
    "# Create dataframe\n",
    "pcs <- raw_pcs %>%\n",
    "    extract(col = scores,\n",
    "            into = c('pcs'),\n",
    "            regex = '([^\\\\[\\\\]]+)') %>%\n",
    "    separate(col = pcs,\n",
    "             into = c('pc1', 'pc2', 'pc3', 'pc4', 'pc5', 'pc6', 'pc7', 'pc8', 'pc9', 'pc10'),\n",
    "             sep = ',')\n",
    "dim(pcs)\n",
    "head(pcs)\n",
    "\n"
   ]
  },
  {
   "cell_type": "markdown",
   "metadata": {},
   "source": [
    "## Subset PCs to AOU and UKB"
   ]
  },
  {
   "cell_type": "code",
   "execution_count": null,
   "metadata": {},
   "outputs": [],
   "source": [
    "# No.of AOU samples in the PC matrix\n",
    "aou_pcs <- pcs %>% filter(cohort == 'aou')\n",
    "ukb_pcs <- pcs %>% filter(cohort == 'ukb')\n",
    "\n",
    "dim(aou_pcs)\n",
    "dim(ukb_pcs)"
   ]
  },
  {
   "cell_type": "markdown",
   "metadata": {},
   "source": [
    "## Reorder PC matrix to Data matrix sample Ids"
   ]
  },
  {
   "cell_type": "code",
   "execution_count": null,
   "metadata": {},
   "outputs": [],
   "source": [
    "# AOU PC data\n",
    "AOU_PCmatrix <- aou_pcs[match(AOUdata$person_id, aou_pcs$s), ]\n",
    "dim(AOU_PCmatrix)\n",
    "\n",
    "head(AOU_PCmatrix)\n",
    "dim(na.omit(AOU_PCmatrix))"
   ]
  },
  {
   "cell_type": "code",
   "execution_count": null,
   "metadata": {},
   "outputs": [],
   "source": [
    "# UKB PC data\n",
    "UKB_PCmatrix <- ukb_pcs[match(UKBdata$eid_WES, ukb_pcs$s), ]\n",
    "dim(UKB_PCmatrix)\n",
    "\n",
    "head(UKB_PCmatrix)\n",
    "dim(na.omit(UKB_PCmatrix))"
   ]
  },
  {
   "cell_type": "markdown",
   "metadata": {},
   "source": [
    "# Merge Lipids data from UKB/AOU to respective PC matrix"
   ]
  },
  {
   "cell_type": "code",
   "execution_count": null,
   "metadata": {},
   "outputs": [],
   "source": [
    "# Full Merge\n",
    "\n",
    "UKB_Full_Data <- cbind(UKBdata, UKB_PCmatrix)\n",
    "AOU_Full_Data <- cbind(AOUdata, AOU_PCmatrix)\n",
    "\n",
    "dim(UKB_Full_Data)\n",
    "dim(AOU_Full_Data)"
   ]
  },
  {
   "cell_type": "code",
   "execution_count": null,
   "metadata": {},
   "outputs": [],
   "source": [
    "colnames(UKB_Full_Data)\n",
    "colnames(AOU_Full_Data)"
   ]
  },
  {
   "cell_type": "code",
   "execution_count": null,
   "metadata": {},
   "outputs": [],
   "source": [
    "colnames(UKB_Full_Data)[11] <- \"TG_adjusted_log\""
   ]
  },
  {
   "cell_type": "code",
   "execution_count": null,
   "metadata": {},
   "outputs": [],
   "source": [
    "writeFile(UKB_Full_Data, \"UKB_Full_Data.csv\")\n",
    "writeFile(AOU_Full_Data, \"AOU_Full_Data.csv\")"
   ]
  },
  {
   "cell_type": "markdown",
   "metadata": {},
   "source": [
    "# Normalization"
   ]
  },
  {
   "cell_type": "markdown",
   "metadata": {},
   "source": [
    "## Read the Full_Data file for UKB and AOU"
   ]
  },
  {
   "cell_type": "code",
   "execution_count": null,
   "metadata": {},
   "outputs": [],
   "source": [
    "UKBdata_ForNorm <- readr::read_csv(pipe(str_glue('gsutil cat {WORKSPACE_BUCKET}/data/UKB_Full_Data.csv')))\n",
    "AOUdata_ForNorm <- readr::read_csv(pipe(str_glue('gsutil cat {WORKSPACE_BUCKET}/data/AOU_Full_Data.csv')))\n",
    "\n",
    "dim(UKBdata_ForNorm)\n",
    "dim(AOUdata_ForNorm)"
   ]
  },
  {
   "cell_type": "markdown",
   "metadata": {},
   "source": [
    "## Normalization steps"
   ]
  },
  {
   "cell_type": "markdown",
   "metadata": {},
   "source": [
    "### UKB"
   ]
  },
  {
   "cell_type": "code",
   "execution_count": null,
   "metadata": {},
   "outputs": [],
   "source": [
    "colnames(UKBdata_ForNorm)"
   ]
  },
  {
   "cell_type": "code",
   "execution_count": null,
   "metadata": {},
   "outputs": [],
   "source": [
    "# Normalized Phenotypes --- Each lipids separately to over come the NA issue\n",
    "\n",
    "# LDL\n",
    "UKB_LDLmat <- UKBdata_ForNorm %>% select(eid, eid_WES, Sex_numeric, age, age2, pc1, pc2, pc3, pc4, pc5, pc6, pc7, pc8, pc9, pc10, statin0, ldl, ldladj)\n",
    "UKB_LDLmat <- na.omit(UKB_LDLmat)\n",
    "UKB_LDLmat$ldladj.resid <- resid(lm(ldladj ~ Sex_numeric+age+age2+pc1+pc2+pc3+pc4+pc5+pc6+pc7+pc8+pc9+pc10, data = UKB_LDLmat))\n",
    "UKB_LDLmat$ldladj.norm <- sd(UKB_LDLmat$ldladj)*scale(qnorm((rank(UKB_LDLmat$ldladj.resid,na.last=\"keep\")-0.5)/length(UKB_LDLmat$ldladj.resid)))\n",
    "UKB_LDLmat$CohortName <- rep(\"UKB\", nrow(UKB_LDLmat))\n",
    "colnames(UKB_LDLmat) <- c(\"eid\", \"sampleid\", \"sex\", \"age\", \"age2\", \"pc1\", \"pc2\", \"pc3\", \"pc4\", \"pc5\", \"pc6\", \"pc7\", \"pc8\", \"pc9\", \"pc10\", \"statin\", \"LDLraw\", \"LDLadj\", \"LDLresid\", \"LDLnorm\", \"cohort\")\n",
    "\n",
    "head(UKB_LDLmat)\n",
    "dim(UKB_LDLmat)"
   ]
  },
  {
   "cell_type": "code",
   "execution_count": null,
   "metadata": {},
   "outputs": [],
   "source": [
    "# HDL\n",
    "UKB_HDLmat <- UKBdata_ForNorm %>% select(eid, eid_WES, Sex_numeric, age, age2, pc1, pc2, pc3, pc4, pc5, pc6, pc7, pc8, pc9, pc10, statin0, hdl, hdladj)\n",
    "UKB_HDLmat <- na.omit(UKB_HDLmat)\n",
    "UKB_HDLmat$hdladj.resid <- resid(lm(hdladj ~ Sex_numeric+age+age2+pc1+pc2+pc3+pc4+pc5+pc6+pc7+pc8+pc9+pc10, data = UKB_HDLmat))\n",
    "UKB_HDLmat$hdladj.norm <- sd(UKB_HDLmat$hdladj)*scale(qnorm((rank(UKB_HDLmat$hdladj.resid,na.last=\"keep\")-0.5)/length(UKB_HDLmat$hdladj.resid)))\n",
    "UKB_HDLmat$CohortName <- rep(\"UKB\", nrow(UKB_HDLmat))\n",
    "colnames(UKB_HDLmat) <- c(\"eid\", \"sampleid\", \"sex\", \"age\", \"age2\", \"pc1\", \"pc2\", \"pc3\", \"pc4\", \"pc5\", \"pc6\", \"pc7\", \"pc8\", \"pc9\", \"pc10\", \"statin\", \"HDLraw\", \"HDLadj\", \"HDLresid\", \"HDLnorm\", \"cohort\")\n",
    "\n",
    "head(UKB_HDLmat)\n",
    "dim(UKB_HDLmat)"
   ]
  },
  {
   "cell_type": "code",
   "execution_count": null,
   "metadata": {},
   "outputs": [],
   "source": [
    "# TC\n",
    "UKB_TCmat <- UKBdata_ForNorm %>% select(eid, eid_WES, Sex_numeric, age, age2, pc1, pc2, pc3, pc4, pc5, pc6, pc7, pc8, pc9, pc10, statin0, chol, choladj)\n",
    "UKB_TCmat <- na.omit(UKB_TCmat)\n",
    "UKB_TCmat$choladj.resid <- resid(lm(choladj ~ Sex_numeric+age+age2+pc1+pc2+pc3+pc4+pc5+pc6+pc7+pc8+pc9+pc10, data = UKB_TCmat))\n",
    "UKB_TCmat$choladj.norm <- sd(UKB_TCmat$choladj)*scale(qnorm((rank(UKB_TCmat$choladj.resid,na.last=\"keep\")-0.5)/length(UKB_TCmat$choladj.resid)))\n",
    "UKB_TCmat$CohortName <- rep(\"UKB\", nrow(UKB_TCmat))\n",
    "colnames(UKB_TCmat) <- c(\"eid\", \"sampleid\", \"sex\", \"age\", \"age2\", \"pc1\", \"pc2\", \"pc3\", \"pc4\", \"pc5\", \"pc6\", \"pc7\", \"pc8\", \"pc9\", \"pc10\", \"statin\", \"TCraw\", \"TCadj\", \"TCresid\", \"TCnorm\", \"cohort\")\n",
    "\n",
    "head(UKB_TCmat)\n",
    "dim(UKB_TCmat)"
   ]
  },
  {
   "cell_type": "code",
   "execution_count": null,
   "metadata": {},
   "outputs": [],
   "source": [
    "# TG\n",
    "UKB_TGmat <- UKBdata_ForNorm %>% select(eid, eid_WES, Sex_numeric, age, age2, pc1, pc2, pc3, pc4, pc5, pc6, pc7, pc8, pc9, pc10, statin0, trig, TG_adjusted_log)\n",
    "UKB_TGmat <- na.omit(UKB_TGmat)\n",
    "UKB_TGmat$trigadj.resid <- resid(lm(TG_adjusted_log ~ Sex_numeric+age+age2+pc1+pc2+pc3+pc4+pc5+pc6+pc7+pc8+pc9+pc10, data = UKB_TGmat))\n",
    "UKB_TGmat$trigadj.norm <- sd(UKB_TGmat$TG_adjusted_log)*scale(qnorm((rank(UKB_TGmat$trigadj.resid,na.last=\"keep\")-0.5)/length(UKB_TGmat$trigadj.resid)))\n",
    "UKB_TGmat$CohortName <- rep(\"UKB\", nrow(UKB_TGmat))\n",
    "colnames(UKB_TGmat) <- c(\"eid\", \"sampleid\", \"sex\", \"age\", \"age2\", \"pc1\", \"pc2\", \"pc3\", \"pc4\", \"pc5\", \"pc6\", \"pc7\", \"pc8\", \"pc9\", \"pc10\", \"statin\", \"TGraw\", \"TGadj\", \"TGresid\", \"TGnorm\", \"cohort\")\n",
    "\n",
    "head(UKB_TGmat)\n",
    "dim(UKB_TGmat)"
   ]
  },
  {
   "cell_type": "markdown",
   "metadata": {},
   "source": [
    "### AOU"
   ]
  },
  {
   "cell_type": "code",
   "execution_count": null,
   "metadata": {},
   "outputs": [],
   "source": [
    "colnames(AOUdata_ForNorm)"
   ]
  },
  {
   "cell_type": "code",
   "execution_count": null,
   "metadata": {},
   "outputs": [],
   "source": [
    "# Normalized Phenotypes --- Each lipids separately to over come the NA issue\n",
    "\n",
    "# LDL\n",
    "AOU_LDLmat <- AOUdata_ForNorm %>% select(person_id, person_id_1, sex, age, age2, pc1, pc2, pc3, pc4, pc5, pc6, pc7, pc8, pc9, pc10, statin_use, LDL, LDLadjusted)\n",
    "AOU_LDLmat <- na.omit(AOU_LDLmat)\n",
    "AOU_LDLmat$ldladj.resid <- resid(lm(LDLadjusted ~ sex+age+age2+pc1+pc2+pc3+pc4+pc5+pc6+pc7+pc8+pc9+pc10, data = AOU_LDLmat))\n",
    "AOU_LDLmat$ldladj.norm <- sd(AOU_LDLmat$LDLadjusted)*scale(qnorm((rank(AOU_LDLmat$ldladj.resid,na.last=\"keep\")-0.5)/length(AOU_LDLmat$ldladj.resid)))\n",
    "AOU_LDLmat$CohortName <- rep(\"AOU\", nrow(AOU_LDLmat))\n",
    "colnames(AOU_LDLmat) <- c(\"eid\", \"sampleid\", \"sex\", \"age\", \"age2\", \"pc1\", \"pc2\", \"pc3\", \"pc4\", \"pc5\", \"pc6\", \"pc7\", \"pc8\", \"pc9\", \"pc10\", \"statin\", \"LDLraw\", \"LDLadj\", \"LDLresid\", \"LDLnorm\", \"cohort\")\n",
    "\n",
    "head(AOU_LDLmat)\n",
    "dim(AOU_LDLmat)"
   ]
  },
  {
   "cell_type": "code",
   "execution_count": null,
   "metadata": {},
   "outputs": [],
   "source": [
    "# HDL\n",
    "AOU_HDLmat <- AOUdata_ForNorm %>% select(person_id, person_id_1, sex, age, age2, pc1, pc2, pc3, pc4, pc5, pc6, pc7, pc8, pc9, pc10, statin_use, HDL)\n",
    "AOU_HDLmat <- na.omit(AOU_HDLmat)\n",
    "AOU_HDLmat$HDLadjusted <- AOU_HDLmat$HDL\n",
    "\n",
    "AOU_HDLmat$hdladj.resid <- resid(lm(HDLadjusted ~ sex+age+age2+pc1+pc2+pc3+pc4+pc5+pc6+pc7+pc8+pc9+pc10, data = AOU_HDLmat))\n",
    "AOU_HDLmat$hdladj.norm <- sd(AOU_HDLmat$HDLadjusted)*scale(qnorm((rank(AOU_HDLmat$hdladj.resid,na.last=\"keep\")-0.5)/length(AOU_HDLmat$hdladj.resid)))\n",
    "AOU_HDLmat$CohortName <- rep(\"AOU\", nrow(AOU_HDLmat))\n",
    "colnames(AOU_HDLmat) <- c(\"eid\", \"sampleid\", \"sex\", \"age\", \"age2\", \"pc1\", \"pc2\", \"pc3\", \"pc4\", \"pc5\", \"pc6\", \"pc7\", \"pc8\", \"pc9\", \"pc10\", \"statin\", \"HDLraw\", \"HDLadj\", \"HDLresid\", \"HDLnorm\", \"cohort\")\n",
    "\n",
    "head(AOU_HDLmat)\n",
    "dim(AOU_HDLmat)"
   ]
  },
  {
   "cell_type": "code",
   "execution_count": null,
   "metadata": {},
   "outputs": [],
   "source": [
    "# TC\n",
    "AOU_TCmat <- AOUdata_ForNorm %>% select(person_id, person_id_1, sex, age, age2, pc1, pc2, pc3, pc4, pc5, pc6, pc7, pc8, pc9, pc10, statin_use, TC, TCadjusted)\n",
    "AOU_TCmat <- na.omit(AOU_TCmat)\n",
    "\n",
    "AOU_TCmat$choladj.resid <- resid(lm(TCadjusted ~ sex+age+age2+pc1+pc2+pc3+pc4+pc5+pc6+pc7+pc8+pc9+pc10, data = AOU_TCmat))\n",
    "AOU_TCmat$choladj.norm <- sd(AOU_TCmat$TCadjusted)*scale(qnorm((rank(AOU_TCmat$choladj.resid,na.last=\"keep\")-0.5)/length(AOU_TCmat$choladj.resid)))\n",
    "AOU_TCmat$CohortName <- rep(\"AOU\", nrow(AOU_TCmat))\n",
    "colnames(AOU_TCmat) <- c(\"eid\", \"sampleid\", \"sex\", \"age\", \"age2\", \"pc1\", \"pc2\", \"pc3\", \"pc4\", \"pc5\", \"pc6\", \"pc7\", \"pc8\", \"pc9\", \"pc10\", \"statin\", \"TCraw\", \"TCadj\", \"TCresid\", \"TCnorm\", \"cohort\")\n",
    "\n",
    "head(AOU_TCmat)\n",
    "dim(AOU_TCmat)"
   ]
  },
  {
   "cell_type": "code",
   "execution_count": null,
   "metadata": {},
   "outputs": [],
   "source": [
    "# TG\n",
    "AOU_TGmat <- AOUdata_ForNorm %>% select(person_id, person_id_1, sex, age, age2, pc1, pc2, pc3, pc4, pc5, pc6, pc7, pc8, pc9, pc10, statin_use, TG, TGadjusted)\n",
    "AOU_TGmat <- na.omit(AOU_TGmat)\n",
    "\n",
    "AOU_TGmat$trigadj.resid <- resid(lm(TGadjusted ~ sex+age+age2+pc1+pc2+pc3+pc4+pc5+pc6+pc7+pc8+pc9+pc10, data = AOU_TGmat))\n",
    "AOU_TGmat$trigadj.norm <- sd(AOU_TGmat$TGadjusted)*scale(qnorm((rank(AOU_TGmat$trigadj.resid,na.last=\"keep\")-0.5)/length(AOU_TGmat$trigadj.resid)))\n",
    "AOU_TGmat$CohortName <- rep(\"AOU\", nrow(AOU_TGmat))\n",
    "colnames(AOU_TGmat) <- c(\"eid\", \"sampleid\", \"sex\", \"age\", \"age2\", \"pc1\", \"pc2\", \"pc3\", \"pc4\", \"pc5\", \"pc6\", \"pc7\", \"pc8\", \"pc9\", \"pc10\", \"statin\", \"TGraw\", \"TGadj\", \"TGresid\", \"TGnorm\", \"cohort\")\n",
    "\n",
    "head(AOU_TGmat)\n",
    "dim(AOU_TGmat)"
   ]
  },
  {
   "cell_type": "markdown",
   "metadata": {},
   "source": [
    "## Merge UKB and AOU data for each lipids"
   ]
  },
  {
   "cell_type": "markdown",
   "metadata": {},
   "source": [
    "### LDL"
   ]
  },
  {
   "cell_type": "code",
   "execution_count": null,
   "metadata": {},
   "outputs": [],
   "source": [
    "MergedData_LDL_Iteration2_ForGWAS <- rbind(UKB_LDLmat, AOU_LDLmat)\n",
    "dim(MergedData_LDL_Iteration2_ForGWAS)\n",
    "\n",
    "\n",
    "# Non ASCII removal\n",
    "MergedData_LDL_Iteration2_ForGWAS$eid <- stringi::stri_trans_general(MergedData_LDL_Iteration2_ForGWAS$eid, \"latin-ascii\")\n",
    "MergedData_LDL_Iteration2_ForGWAS$sampleid <- stringi::stri_trans_general(MergedData_LDL_Iteration2_ForGWAS$sampleid, \"latin-ascii\")\n",
    "# Sex column refinement\n",
    "MergedData_LDL_Iteration2_ForGWAS$sex[which(MergedData_LDL_Iteration2_ForGWAS$sex == 0)] <- \"Female\"\n",
    "MergedData_LDL_Iteration2_ForGWAS$sex[which(MergedData_LDL_Iteration2_ForGWAS$sex == 1)] <- \"Male\"\n",
    "MergedData_LDL_Iteration2_ForGWAS$sex[which(MergedData_LDL_Iteration2_ForGWAS$sex == \"Gender Identity: Non Binary\")] <- NA\n",
    "MergedData_LDL_Iteration2_ForGWAS$sex[which(MergedData_LDL_Iteration2_ForGWAS$sex == \"PMI: Skip\")] <- NA\n",
    "MergedData_LDL_Iteration2_ForGWAS$sex[which(MergedData_LDL_Iteration2_ForGWAS$sex == \"Not man only, not woman only, prefer not to answer, or skipped\")] <- NA\n",
    "\n",
    "table(MergedData_LDL_Iteration2_ForGWAS$sex)\n"
   ]
  },
  {
   "cell_type": "markdown",
   "metadata": {},
   "source": [
    "### HDL"
   ]
  },
  {
   "cell_type": "code",
   "execution_count": null,
   "metadata": {},
   "outputs": [],
   "source": [
    "MergedData_HDL_Iteration2_ForGWAS <- rbind(UKB_HDLmat, AOU_HDLmat)\n",
    "dim(MergedData_HDL_Iteration2_ForGWAS)\n",
    "\n",
    "# Non ASCII removal\n",
    "MergedData_HDL_Iteration2_ForGWAS$eid <- stringi::stri_trans_general(MergedData_HDL_Iteration2_ForGWAS$eid, \"latin-ascii\")\n",
    "MergedData_HDL_Iteration2_ForGWAS$sampleid <- stringi::stri_trans_general(MergedData_HDL_Iteration2_ForGWAS$sampleid, \"latin-ascii\")\n",
    "# Sex column refinement\n",
    "MergedData_HDL_Iteration2_ForGWAS$sex[which(MergedData_HDL_Iteration2_ForGWAS$sex == 0)] <- \"Female\"\n",
    "MergedData_HDL_Iteration2_ForGWAS$sex[which(MergedData_HDL_Iteration2_ForGWAS$sex == 1)] <- \"Male\"\n",
    "MergedData_HDL_Iteration2_ForGWAS$sex[which(MergedData_HDL_Iteration2_ForGWAS$sex == \"Gender Identity: Non Binary\")] <- NA\n",
    "MergedData_HDL_Iteration2_ForGWAS$sex[which(MergedData_HDL_Iteration2_ForGWAS$sex == \"PMI: Skip\")] <- NA\n",
    "MergedData_HDL_Iteration2_ForGWAS$sex[which(MergedData_HDL_Iteration2_ForGWAS$sex == \"Not man only, not woman only, prefer not to answer, or skipped\")] <- NA\n",
    "\n",
    "table(MergedData_HDL_Iteration2_ForGWAS$sex)\n"
   ]
  },
  {
   "cell_type": "markdown",
   "metadata": {},
   "source": [
    "### TC"
   ]
  },
  {
   "cell_type": "code",
   "execution_count": null,
   "metadata": {},
   "outputs": [],
   "source": [
    "MergedData_TC_Iteration2_ForGWAS <- rbind(UKB_TCmat, AOU_TCmat)\n",
    "dim(MergedData_TC_Iteration2_ForGWAS)\n",
    "\n",
    "# Non ASCII removal\n",
    "MergedData_TC_Iteration2_ForGWAS$eid <- stringi::stri_trans_general(MergedData_TC_Iteration2_ForGWAS$eid, \"latin-ascii\")\n",
    "MergedData_TC_Iteration2_ForGWAS$sampleid <- stringi::stri_trans_general(MergedData_TC_Iteration2_ForGWAS$sampleid, \"latin-ascii\")\n",
    "# Sex column refinement\n",
    "MergedData_TC_Iteration2_ForGWAS$sex[which(MergedData_TC_Iteration2_ForGWAS$sex == 0)] <- \"Female\"\n",
    "MergedData_TC_Iteration2_ForGWAS$sex[which(MergedData_TC_Iteration2_ForGWAS$sex == 1)] <- \"Male\"\n",
    "MergedData_TC_Iteration2_ForGWAS$sex[which(MergedData_TC_Iteration2_ForGWAS$sex == \"Gender Identity: Non Binary\")] <- NA\n",
    "MergedData_TC_Iteration2_ForGWAS$sex[which(MergedData_TC_Iteration2_ForGWAS$sex == \"PMI: Skip\")] <- NA\n",
    "MergedData_TC_Iteration2_ForGWAS$sex[which(MergedData_TC_Iteration2_ForGWAS$sex == \"Not man only, not woman only, prefer not to answer, or skipped\")] <- NA\n",
    "\n",
    "table(MergedData_TC_Iteration2_ForGWAS$sex)\n"
   ]
  },
  {
   "cell_type": "markdown",
   "metadata": {},
   "source": [
    "### TG"
   ]
  },
  {
   "cell_type": "code",
   "execution_count": null,
   "metadata": {},
   "outputs": [],
   "source": [
    "MergedData_TG_Iteration2_ForGWAS <- rbind(UKB_TGmat, AOU_TGmat)\n",
    "dim(MergedData_TG_Iteration2_ForGWAS)\n",
    "\n",
    "# Non ASCII removal\n",
    "MergedData_TG_Iteration2_ForGWAS$eid <- stringi::stri_trans_general(MergedData_TG_Iteration2_ForGWAS$eid, \"latin-ascii\")\n",
    "MergedData_TG_Iteration2_ForGWAS$sampleid <- stringi::stri_trans_general(MergedData_TG_Iteration2_ForGWAS$sampleid, \"latin-ascii\")\n",
    "# Sex column refinement\n",
    "MergedData_TG_Iteration2_ForGWAS$sex[which(MergedData_TG_Iteration2_ForGWAS$sex == 0)] <- \"Female\"\n",
    "MergedData_TG_Iteration2_ForGWAS$sex[which(MergedData_TG_Iteration2_ForGWAS$sex == 1)] <- \"Male\"\n",
    "MergedData_TG_Iteration2_ForGWAS$sex[which(MergedData_TG_Iteration2_ForGWAS$sex == \"Gender Identity: Non Binary\")] <- NA\n",
    "MergedData_TG_Iteration2_ForGWAS$sex[which(MergedData_TG_Iteration2_ForGWAS$sex == \"PMI: Skip\")] <- NA\n",
    "MergedData_TG_Iteration2_ForGWAS$sex[which(MergedData_TG_Iteration2_ForGWAS$sex == \"Not man only, not woman only, prefer not to answer, or skipped\")] <- NA\n",
    "\n",
    "table(MergedData_TG_Iteration2_ForGWAS$sex)\n"
   ]
  },
  {
   "cell_type": "markdown",
   "metadata": {},
   "source": [
    "## Write Data for GWAS"
   ]
  },
  {
   "cell_type": "code",
   "execution_count": null,
   "metadata": {},
   "outputs": [],
   "source": [
    "writeFile(MergedData_LDL_Iteration2_ForGWAS, \"MergedData_LDL_Iteration2_ForGWAS.csv\")\n",
    "writeFile(MergedData_HDL_Iteration2_ForGWAS, \"MergedData_HDL_Iteration2_ForGWAS.csv\")\n",
    "writeFile(MergedData_TC_Iteration2_ForGWAS, \"MergedData_TC_Iteration2_ForGWAS.csv\")\n",
    "writeFile(MergedData_TG_Iteration2_ForGWAS, \"MergedData_TG_Iteration2_ForGWAS.csv\")"
   ]
  },
  {
   "cell_type": "code",
   "execution_count": null,
   "metadata": {},
   "outputs": [],
   "source": []
  }
 ],
 "metadata": {
  "kernelspec": {
   "display_name": "R",
   "language": "R",
   "name": "ir"
  },
  "language_info": {
   "codemirror_mode": "r",
   "file_extension": ".r",
   "mimetype": "text/x-r-source",
   "name": "R",
   "pygments_lexer": "r",
   "version": "4.1.0"
  },
  "toc": {
   "base_numbering": 1,
   "nav_menu": {},
   "number_sections": true,
   "sideBar": true,
   "skip_h1_title": false,
   "title_cell": "Table of Contents",
   "title_sidebar": "Contents",
   "toc_cell": false,
   "toc_position": {},
   "toc_section_display": true,
   "toc_window_display": false
  }
 },
 "nbformat": 4,
 "nbformat_minor": 2
}

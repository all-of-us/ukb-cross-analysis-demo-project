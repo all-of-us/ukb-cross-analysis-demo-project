{
 "cells": [
  {
   "cell_type": "markdown",
   "metadata": {},
   "source": [
    "# Prepare phenotypes and covariates for GWAS\n",
    "\n",
    "In this notebook we prepare the All of Us lipids phenotypes and covariates for GWAS.\n",
    "\n",
    "Note that the corresponding UKB phentypes are:\n",
    "  * https://biobank.ndph.ox.ac.uk/showcase/field.cgi?id=30690\n",
    "  * https://biobank.ndph.ox.ac.uk/showcase/field.cgi?id=30760\n",
    "  * https://biobank.ndph.ox.ac.uk/showcase/field.cgi?id=30780\n",
    "  * https://biobank.ndph.ox.ac.uk/showcase/field.cgi?id=30870\n",
    "\n",
    "TODOs\n",
    "* use lower and upper bound cutoffs appropriate for each measurement\n",
    "* add in the cohort query for WGS samples\n",
    "* also determine the relevant statin phenotypes so that we can correct for statin use:\n",
    "  * statin drug [concept set](https://preprod-workbench.researchallofus.org/workspaces/aou-rw-preprod-e2a365a8/pooledanalysisofallofusandukbiobankgenomicdata/data/concepts/sets/53)\n",
    "  * participants with statin use [dataset](https://preprod-workbench.researchallofus.org/workspaces/aou-rw-preprod-e2a365a8/pooledanalysisofallofusandukbiobankgenomicdata/data/data-sets/70)\n",
    "  * https://databrowser.researchallofus.org/ehr/drug-exposures?search=statin\n",
    "  * https://databrowser.researchallofus.org/ehr/conditions?search=statin\n",
    "  * https://databrowser.researchallofus.org/ehr/procedures?search=statin\n",
    "* incorporate exclusion criteria\n",
    "* other issues to decide\n",
    "  * timing of AoU measurements - which to use\n",
    "    * right now its is using the most recentl\n",
    "    * another suggestion was to use the maximum value per participant\n",
    "  * whether to incorporate the measurements with a missing unit concept id so that we can work with a larger portion of the cohort\n",
    "  * the NIH has a newer calculation for LDL, we should decide whether to use it\n",
    "\n",
    "\n",
    "Friedewald formula \n",
    "`(LDL-c (mg/dL) = TC (mg/dL) − HDL-c (mg/dL) − TG (mg/dL)/5)`\n",
    "\n",
    "1.\tLDL adjustment based on TG/LDL values \n",
    "  1.\t`If TG > 400, then LDL = NA`\n",
    "  2.\t`If LDL < 10, then LDL=NA`\n",
    "2.\tLDL and TC adjustment based on Statin (Lipid lowering medication)\n",
    "  1.\t`If STATIN is used, LDL_ADJ = LDL/0.7`\n",
    "  2.\t`If STATIN is used, TOTAL_ADJ = TC/0.8`\n",
    "3.\tTG adjustment\n",
    "  1.\t`TG_LOG = log(TG)`\n",
    "4.\tCalculation of residuals – residuals calculated by adjusting for covariates \n",
    "  1.\tresidual calculation Example for LDL: `tmp.ldl$LDL_ADJ.resid <- resid(lm(LDL_ADJ ~ sex+age+age2+PC1+PC2+PC3+PC4+PC5+PC6+PC7+PC8+PC9+PC10+PC11, data = tmp.ldl))`\n",
    "5.\tnormalization Example for LDL: `tmp.ldl$LDL_ADJ.norm <- sd(tmp.ldl$LDL_ADJ)*scale(qnorm((rank(tmp.ldl$LDL_ADJ.resid,na.last=\"keep\")-0.5)/length(tmp.ldl$LDL_ADJ.resid)))`"
   ]
  },
  {
   "cell_type": "markdown",
   "metadata": {},
   "source": [
    "# Setup \n",
    "\n",
    "<div class=\"alert alert-block alert-warning\">\n",
    "    <b>Cloud Environment</b>: This notebook was written for use on the All of Us Workbench. It runs fine on the default Cloud Environment. \n",
    "</div>"
   ]
  },
  {
   "cell_type": "code",
   "execution_count": null,
   "metadata": {},
   "outputs": [],
   "source": [
    "lapply(c('viridis', 'ggthemes', 'skimr', 'fuzzyjoin'),\n",
    "       function(pkg_name) { if(! pkg_name %in% installed.packages()) { install.packages(pkg_name)} } )\n",
    "lapply(c('IRanges'),\n",
    "       function(pkg_name) { if(! pkg_name %in% installed.packages()) { BiocManager::install(pkg_name)} } )\n",
    "\n",
    "library(viridis)    # A nice color scheme for plots.\n",
    "library(ggthemes)   # Common themes to change the look and feel of plots.\n",
    "library(scales)     # Graphical scales map data to aesthetics in plots.\n",
    "library(skimr)      # Better summaries of data.\n",
    "library(lubridate)  # Date library from the tidyverse.\n",
    "library(bigrquery)  # BigQuery R client.\n",
    "library(tidyverse)  # Data wrangling packages.\n",
    "library(fuzzyjoin)\n",
    "library(lubridate)"
   ]
  },
  {
   "cell_type": "code",
   "execution_count": null,
   "metadata": {},
   "outputs": [],
   "source": [
    "## BigQuery setup.\n",
    "BILLING_PROJECT_ID <- Sys.getenv('GOOGLE_PROJECT')\n",
    "# Get the BigQuery curated dataset for the current workspace context.\n",
    "CDR <- Sys.getenv('WORKSPACE_CDR')\n",
    "\n",
    "WORKSPACE_BUCKET <- Sys.getenv('WORKSPACE_BUCKET')\n",
    "\n",
    "## Plot setup.\n",
    "theme_set(theme_bw(base_size = 16)) # Default theme for plots.\n",
    "\n",
    "#' Returns a data frame with a y position and a label, for use annotating ggplot boxplots.\n",
    "#'\n",
    "#' @param d A data frame.\n",
    "#' @return A data frame with column y as max and column label as length.\n",
    "get_boxplot_fun_data <- function(df) {\n",
    "  return(data.frame(y = max(df), label = stringr::str_c('N = ', length(df))))\n",
    "}"
   ]
  },
  {
   "cell_type": "markdown",
   "metadata": {},
   "source": [
    "# Retrieve genomics alpha2 cohort"
   ]
  },
  {
   "cell_type": "code",
   "execution_count": null,
   "metadata": {},
   "outputs": [],
   "source": [
    "participants_with_genomic_data <- read_csv(\n",
    "    pipe(str_glue('gsutil cat {WORKSPACE_BUCKET}/data/researchIDsAlpha2Release_04272021.txt')),\n",
    "    col_names = c('person_id')\n",
    ")\n",
    "\n",
    "dim(participants_with_genomic_data)"
   ]
  },
  {
   "cell_type": "code",
   "execution_count": null,
   "metadata": {},
   "outputs": [],
   "source": [
    "head(participants_with_genomic_data)"
   ]
  },
  {
   "cell_type": "markdown",
   "metadata": {},
   "source": [
    "# Retrieve most recent lipids measurements\n",
    "\n",
    "This CSV was created in notebook `aou_lipids_phenotypes.ipynb`."
   ]
  },
  {
   "cell_type": "code",
   "execution_count": null,
   "metadata": {},
   "outputs": [],
   "source": [
    "most_recent_lipids_measurements_df <- read_csv(\n",
    "    pipe(str_glue('gsutil cat {WORKSPACE_BUCKET}/data/most_recent_lipids_measurements.csv')))"
   ]
  },
  {
   "cell_type": "code",
   "execution_count": null,
   "metadata": {},
   "outputs": [],
   "source": [
    "skim(most_recent_lipids_measurements_df)"
   ]
  },
  {
   "cell_type": "markdown",
   "metadata": {},
   "source": [
    "## Full cohort summary"
   ]
  },
  {
   "cell_type": "code",
   "execution_count": null,
   "metadata": {},
   "outputs": [],
   "source": [
    "most_recent_lipids_measurements_df %>%\n",
    "    group_by(title) %>%\n",
    "    summarize(\n",
    "        count = n(),\n",
    "        missing = sum(is.na(value_as_number)),\n",
    "        median = median(value_as_number, na.rm = TRUE),\n",
    "        mean = mean(value_as_number, na.rm = TRUE),\n",
    "        stddev = sd(value_as_number, na.rm = TRUE)\n",
    "    )"
   ]
  },
  {
   "cell_type": "markdown",
   "metadata": {},
   "source": [
    "## Genomics cohort summary"
   ]
  },
  {
   "cell_type": "code",
   "execution_count": null,
   "metadata": {},
   "outputs": [],
   "source": [
    "most_recent_lipids_measurements_df %>%\n",
    "    filter(person_id %in% participants_with_genomic_data$person_id) %>%\n",
    "    group_by(title) %>%\n",
    "    summarize(\n",
    "        count = n(),\n",
    "        missing = sum(is.na(value_as_number)),\n",
    "        median = median(value_as_number, na.rm = TRUE),\n",
    "        mean = mean(value_as_number, na.rm = TRUE),\n",
    "        stddev = sd(value_as_number, na.rm = TRUE)\n",
    "    )"
   ]
  },
  {
   "cell_type": "markdown",
   "metadata": {},
   "source": [
    "# Retrieve statin drug exposures\n",
    "\n",
    "These CSVs are from notebook `aou_participants_with_statin_use.ipynb`."
   ]
  },
  {
   "cell_type": "markdown",
   "metadata": {},
   "source": [
    "## Individual statin drug exposures"
   ]
  },
  {
   "cell_type": "code",
   "execution_count": null,
   "metadata": {},
   "outputs": [],
   "source": [
    "statin_use_df <- read_csv(\n",
    "    pipe(str_glue('gsutil cat {WORKSPACE_BUCKET}/data/participants_with_statin_use.csv')),\n",
    "    col_types = cols(\n",
    "        DRUG_EXPOSURE_START_DATETIME = col_datetime(format = '%Y/%m/%d %H:%M:%S'),\n",
    "        DRUG_EXPOSURE_END_DATETIME = col_datetime(format = '%Y/%m/%d %H:%M:%S')),\n",
    "    guess_max = 25000\n",
    ")\n",
    "\n",
    "dim(statin_use_df)"
   ]
  },
  {
   "cell_type": "code",
   "execution_count": null,
   "metadata": {},
   "outputs": [],
   "source": [
    "skim(statin_use_df)"
   ]
  },
  {
   "cell_type": "code",
   "execution_count": null,
   "metadata": {},
   "outputs": [],
   "source": [
    "head(statin_use_df)"
   ]
  },
  {
   "cell_type": "markdown",
   "metadata": {},
   "source": [
    "## Statin drug exposures summarized per person"
   ]
  },
  {
   "cell_type": "code",
   "execution_count": null,
   "metadata": {},
   "outputs": [],
   "source": [
    "statin_use_summary_df <- read_csv(\n",
    "    pipe(str_glue('gsutil cat {WORKSPACE_BUCKET}/data/participants_with_statin_use_summary.csv')),\n",
    "    col_types = cols(\n",
    "        statin_first_use = col_datetime(format = '%Y/%m/%d %H:%M:%S'),\n",
    "        statin_last_use = col_datetime(format = '%Y/%m/%d %H:%M:%S')),\n",
    "    guess_max = 25000\n",
    ")\n",
    "\n",
    "dim(statin_use_summary_df)"
   ]
  },
  {
   "cell_type": "code",
   "execution_count": null,
   "metadata": {},
   "outputs": [],
   "source": [
    "skim(statin_use_summary_df)"
   ]
  },
  {
   "cell_type": "code",
   "execution_count": null,
   "metadata": {},
   "outputs": [],
   "source": [
    "head(statin_use_summary_df)"
   ]
  },
  {
   "cell_type": "markdown",
   "metadata": {},
   "source": [
    "# Merge measurements with statin use"
   ]
  },
  {
   "cell_type": "markdown",
   "metadata": {},
   "source": [
    "## Merge with drug exposures summarized per person"
   ]
  },
  {
   "cell_type": "markdown",
   "metadata": {},
   "source": [
    "<div class=\"alert alert-block alert-info\">\n",
    "In the merge below we do the following  to keep the memory requirements for R lower:<ol>\n",
    "    <li>only use the 22k participants in the genomics alpha2 release</li>\n",
    "    <li>merge ldl and total cholesterol separately, as opposed to merging statin use with all the lipids measurments</li>\n",
    "    </ol>\n",
    "        \n",
    "To run the merge at scale on the entire cohort and all the lipids measurements, we'll need to use a machine with more RAM or use BigQuery to do the merge.\n",
    "</div>"
   ]
  },
  {
   "cell_type": "code",
   "execution_count": null,
   "metadata": {},
   "outputs": [],
   "source": [
    "start_time <- Sys.time()\n",
    "\n",
    "ldl_with_exposure_summary <- most_recent_lipids_measurements_df %>%\n",
    "    filter(title == 'Cholesterol in LDL [Mass/volume] in Serum or Plasma by calculation [milligram per deciliter]') %>%\n",
    "    filter(person_id %in% participants_with_genomic_data$person_id) %>%\n",
    "    fuzzy_left_join(\n",
    "        statin_use_summary_df %>%\n",
    "        filter(PERSON_ID %in% participants_with_genomic_data$person_id),\n",
    "        by = c('person_id' = 'PERSON_ID',\n",
    "               'measurement_datetime' = 'statin_first_use',\n",
    "               'measurement_datetime' = 'statin_last_use'),\n",
    "        match_fun = list(`==`, `>=`, `<=`)\n",
    "    )\n",
    "\n",
    "dim(ldl_with_exposure_summary)\n",
    "\n",
    "end_time <- Sys.time()\n",
    "end_time - start_time"
   ]
  },
  {
   "cell_type": "code",
   "execution_count": null,
   "metadata": {},
   "outputs": [],
   "source": [
    "# Note that the merge is faster if we merge on dates instead of datetime objects.\n",
    "\n",
    "start_time <- Sys.time()\n",
    "\n",
    "date_ldl_with_exposure_summary <- most_recent_lipids_measurements_df %>%\n",
    "    filter(title == 'Cholesterol in LDL [Mass/volume] in Serum or Plasma by calculation [milligram per deciliter]') %>%\n",
    "    mutate(\n",
    "        date = as_date(measurement_date)\n",
    "    ) %>%\n",
    "    filter(person_id %in% participants_with_genomic_data$person_id) %>%\n",
    "    fuzzy_left_join(\n",
    "        statin_use_summary_df %>%\n",
    "        mutate(\n",
    "            statin_first_use_date = as_date(statin_first_use),\n",
    "            statin_last_use_date = as_date(statin_last_use)\n",
    "        ) %>%\n",
    "        filter(PERSON_ID %in% participants_with_genomic_data$person_id),\n",
    "        by = c('person_id' = 'PERSON_ID',\n",
    "               'date' = 'statin_first_use_date',\n",
    "               'date' = 'statin_last_use_date'),\n",
    "        match_fun = list(`==`, `>=`, `<=`)\n",
    "    )\n",
    "\n",
    "dim(date_ldl_with_exposure_summary)\n",
    "\n",
    "end_time <- Sys.time()\n",
    "end_time - start_time"
   ]
  },
  {
   "cell_type": "code",
   "execution_count": null,
   "metadata": {},
   "outputs": [],
   "source": [
    "# Confirm that after the merge, we still have one row per participant.\n",
    "stopifnot(\n",
    "    nrow(most_recent_lipids_measurements_df %>%\n",
    "         filter(title == 'Cholesterol in LDL [Mass/volume] in Serum or Plasma by calculation [milligram per deciliter]') %>%\n",
    "         filter(person_id %in% participants_with_genomic_data$person_id))\n",
    "    ==\n",
    "    nrow(ldl_with_exposure_summary))"
   ]
  },
  {
   "cell_type": "code",
   "execution_count": null,
   "metadata": {},
   "outputs": [],
   "source": [
    "# Check the merge.\n",
    "ldl_with_exposure_summary %>%\n",
    "  mutate(\n",
    "      statin_use = !is.na(statin_first_use)\n",
    "  ) %>%\n",
    "  select(person_id, PERSON_ID, statin_use, measurement_date, statin_first_use, statin_last_use, statin_drug_rx_count) %>%\n",
    "  head(n = 20)"
   ]
  },
  {
   "cell_type": "markdown",
   "metadata": {},
   "source": [
    "Take a look at the distribution of statin use for our indicator variable."
   ]
  },
  {
   "cell_type": "code",
   "execution_count": null,
   "metadata": {},
   "outputs": [],
   "source": [
    "ldl_with_exposure_summary %>%\n",
    "  mutate(\n",
    "      statin_use = !is.na(statin_first_use)\n",
    "  ) %>%\n",
    "  group_by(title, statin_use) %>%\n",
    "  summarize(\n",
    "      count = n(),\n",
    "      missing = sum(is.na(value_as_number)),\n",
    "      median = median(value_as_number, na.rm = TRUE),\n",
    "      mean = mean(value_as_number, na.rm = TRUE),\n",
    "      stddev = sd(value_as_number, na.rm = TRUE)\n",
    "  )"
   ]
  },
  {
   "cell_type": "code",
   "execution_count": null,
   "metadata": {},
   "outputs": [],
   "source": [
    "options(repr.plot.height = 16, repr.plot.width = 16)\n",
    "\n",
    "ldl_with_exposure_summary %>%\n",
    "    filter(value_as_number > 0) %>% # Get rid of nonsensical outliers.\n",
    "    mutate(\n",
    "        age_at_measurement = year(as.period(interval(start = birth_datetime, end = measurement_date))),\n",
    "        statin_use = !is.na(statin_first_use)\n",
    "    ) %>%\n",
    "    # Exclude measurements taken during childhood.\n",
    "    filter(age_at_measurement > 20) %>%\n",
    "    ggplot(aes(x = cut_width(age_at_measurement, width = 10, boundary = 0), y = value_as_number, fill = statin_use)) +\n",
    "    geom_boxplot() +\n",
    "    stat_summary(fun.data = get_boxplot_fun_data, geom = 'text', size = 4,\n",
    "                 position = position_dodge(width = 0.9), vjust = -0.8) +\n",
    "    scale_y_continuous(breaks = scales::pretty_breaks(n = 10)) +\n",
    "#    scale_y_log10(breaks = scales::pretty_breaks(n = 10)) +  # Uncomment if the data looks skewed.\n",
    "    coord_flip() +\n",
    "    facet_wrap(~ title, nrow = length(unique(ldl_with_exposure_summary$title)), scales = 'free_x') +\n",
    "    xlab('age') +\n",
    "    labs(title = str_glue('Most recent measurement per person, by age'),\n",
    "         caption = 'Source: All Of Us Data')"
   ]
  },
  {
   "cell_type": "markdown",
   "metadata": {},
   "source": [
    "## Merge with individual drug exposures"
   ]
  },
  {
   "cell_type": "markdown",
   "metadata": {},
   "source": [
    "<div class=\"alert alert-block alert-warning\">\n",
    "In the merge below we do the following  to keep the memory requirements for R lower:<ol>\n",
    "    <li><b>only use 100</b> of the 22k participants in the genomics alpha2 release</li>\n",
    "    <li>merge ldl and total cholesterol separately, as opposed to merging statin use with all the lipids measurments</li>\n",
    "    </ol>\n",
    "        \n",
    "To run the merge at scale on the entire cohort and all the lipids measurements, we'll need to use a machine with more RAM or use BigQuery to do the merge.</div>"
   ]
  },
  {
   "cell_type": "code",
   "execution_count": null,
   "metadata": {},
   "outputs": [],
   "source": [
    "a_few_person_ids = ldl_with_exposure_summary$person_id %>% head(100)\n",
    "\n",
    "head(a_few_person_ids)"
   ]
  },
  {
   "cell_type": "code",
   "execution_count": null,
   "metadata": {},
   "outputs": [],
   "source": [
    "ldl_with_overlapping_exposures <- most_recent_lipids_measurements_df %>%\n",
    "    filter(title == 'Cholesterol in LDL [Mass/volume] in Serum or Plasma by calculation [milligram per deciliter]') %>%\n",
    "# Use a machine with more RAM for this to succeed.\n",
    "#    filter(person_id %in% participants_with_genomic_data$person_id) %>%\n",
    "    filter(person_id %in% a_few_person_ids) %>%\n",
    "    fuzzy_left_join(\n",
    "        statin_use_df %>%\n",
    "        filter(PERSON_ID %in% participants_with_genomic_data$person_id) %>%\n",
    "        mutate(\n",
    "            # Fill NAs.\n",
    "            DRUG_EXPOSURE_END_DATETIME = case_when(\n",
    "                is.na(DRUG_EXPOSURE_END_DATETIME) ~ DRUG_EXPOSURE_START_DATETIME,\n",
    "                TRUE ~ DRUG_EXPOSURE_END_DATETIME\n",
    "            )\n",
    "        ),\n",
    "        by = c('person_id' = 'PERSON_ID',\n",
    "               'measurement_datetime' = 'DRUG_EXPOSURE_START_DATETIME',\n",
    "               'measurement_datetime' = 'DRUG_EXPOSURE_END_DATETIME'),\n",
    "        match_fun = list(`==`, `>=`, `<=`)\n",
    "    )\n",
    "\n",
    "dim(ldl_with_overlapping_exposures)"
   ]
  },
  {
   "cell_type": "code",
   "execution_count": null,
   "metadata": {},
   "outputs": [],
   "source": [
    "# After this merge, we'll have multiple rows per person. Consolidate into one row.\n",
    "ldl_with_overlapping_exposures_summarized <- ldl_with_overlapping_exposures %>%\n",
    "    group_by(person_id, title, measurement_datetime, value_as_number) %>%\n",
    "    summarize(\n",
    "        statin_first_use = min(DRUG_EXPOSURE_START_DATETIME),\n",
    "        statin_last_use = max(DRUG_EXPOSURE_END_DATETIME),\n",
    "        statin_drug_rx_count = sum(!is.na(STANDARD_CONCEPT_CODE)),\n",
    "        statin_drugs = str_c(sort(unique(STANDARD_CONCEPT_NAME)), collapse = ', ')\n",
    "    ) %>%\n",
    "    mutate(\n",
    "        statin_use = !is.na(statin_first_use)\n",
    "    )\n",
    "\n",
    "dim(ldl_with_overlapping_exposures_summarized)"
   ]
  },
  {
   "cell_type": "code",
   "execution_count": null,
   "metadata": {},
   "outputs": [],
   "source": [
    "length(unique(ldl_with_overlapping_exposures_summarized$person_id))"
   ]
  },
  {
   "cell_type": "code",
   "execution_count": null,
   "metadata": {},
   "outputs": [],
   "source": [
    "head(ldl_with_overlapping_exposures_summarized)"
   ]
  },
  {
   "cell_type": "markdown",
   "metadata": {},
   "source": [
    "## Compare indicator variable counts"
   ]
  },
  {
   "cell_type": "code",
   "execution_count": null,
   "metadata": {},
   "outputs": [],
   "source": [
    "# This is the result of the merge using loose outer bound of summarized drug exposures.\n",
    "# We expect this to show more statin use.\n",
    "ldl_with_exposure_summary %>%\n",
    "  filter(person_id %in% ldl_with_overlapping_exposures_summarized$person_id) %>%\n",
    "  mutate(\n",
    "      statin_use = !is.na(statin_first_use)\n",
    "  ) %>%\n",
    "  summarize(\n",
    "      total = n(),\n",
    "      statin_use = sum(statin_use)\n",
    "  )"
   ]
  },
  {
   "cell_type": "code",
   "execution_count": null,
   "metadata": {},
   "outputs": [],
   "source": [
    "# This is the result of the strict merge via overlapping drug exposures.\n",
    "# We expect this to show less statin use.\n",
    "table(ldl_with_overlapping_exposures_summarized$statin_use)"
   ]
  },
  {
   "cell_type": "code",
   "execution_count": null,
   "metadata": {},
   "outputs": [],
   "source": [
    "head(ldl_with_exposure_summary %>% select(person_id, measurement_datetime, statin_first_use, statin_last_use))"
   ]
  },
  {
   "cell_type": "code",
   "execution_count": null,
   "metadata": {},
   "outputs": [],
   "source": [
    "# Strict merge via overlapping drug exposures.\n",
    "head(ldl_with_overlapping_exposures_summarized %>% \n",
    "     select(person_id, measurement_datetime, statin_first_use, statin_last_use))"
   ]
  },
  {
   "cell_type": "markdown",
   "metadata": {},
   "source": [
    "## Take a closer look at a participant in one result but not the other "
   ]
  },
  {
   "cell_type": "code",
   "execution_count": null,
   "metadata": {},
   "outputs": [],
   "source": [
    "statin_use_summary_df %>% filter(PERSON_ID == 1000202)"
   ]
  },
  {
   "cell_type": "code",
   "execution_count": null,
   "metadata": {},
   "outputs": [],
   "source": [
    "statin_use_df %>%\n",
    "    filter(PERSON_ID == 1000202) %>%\n",
    "    filter(2016 == year(DRUG_EXPOSURE_START_DATETIME))"
   ]
  },
  {
   "cell_type": "markdown",
   "metadata": {},
   "source": [
    "# Apply Friedewald formula \n",
    "\n",
    "TODO"
   ]
  },
  {
   "cell_type": "markdown",
   "metadata": {},
   "source": [
    "# Normalize values\n",
    "\n",
    "TODO"
   ]
  },
  {
   "cell_type": "markdown",
   "metadata": {},
   "source": [
    "# Provenance "
   ]
  },
  {
   "cell_type": "code",
   "execution_count": null,
   "metadata": {},
   "outputs": [],
   "source": [
    "devtools::session_info()"
   ]
  }
 ],
 "metadata": {
  "kernelspec": {
   "display_name": "R",
   "language": "R",
   "name": "ir"
  },
  "language_info": {
   "codemirror_mode": "r",
   "file_extension": ".r",
   "mimetype": "text/x-r-source",
   "name": "R",
   "pygments_lexer": "r",
   "version": "4.0.3"
  },
  "toc": {
   "base_numbering": 1,
   "nav_menu": {},
   "number_sections": true,
   "sideBar": true,
   "skip_h1_title": false,
   "title_cell": "Table of Contents",
   "title_sidebar": "Contents",
   "toc_cell": false,
   "toc_position": {
    "height": "calc(100% - 180px)",
    "left": "10px",
    "top": "150px",
    "width": "352px"
   },
   "toc_section_display": true,
   "toc_window_display": true
  }
 },
 "nbformat": 4,
 "nbformat_minor": 2
}

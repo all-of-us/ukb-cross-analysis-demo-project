{
 "cells": [
  {
   "cell_type": "markdown",
   "metadata": {},
   "source": [
    "# All of Us lipids phenotypes\n",
    "\n",
    "In this notebook we review and explore the available All of Us data for lipids phenotypes.\n",
    "\n",
    "Note that the corresponding UKB phentypes are:\n",
    "  * https://biobank.ndph.ox.ac.uk/showcase/field.cgi?id=30690\n",
    "  * https://biobank.ndph.ox.ac.uk/showcase/field.cgi?id=30760\n",
    "  * https://biobank.ndph.ox.ac.uk/showcase/field.cgi?id=30780\n",
    "  * https://biobank.ndph.ox.ac.uk/showcase/field.cgi?id=30870\n",
    "\n",
    "TODOs\n",
    "* use lower and upper bound cutoffs appropriate for each measurement\n",
    "* other issues to decide\n",
    "  * timing of AoU measurements - which to use\n",
    "    * right now its is using the most recent\n",
    "    * another suggestion was to use the maximum value per participant\n",
    "  * whether to incorporate the measurements with a missing unit concept id so that we can work with a larger portion of the cohort"
   ]
  },
  {
   "cell_type": "markdown",
   "metadata": {},
   "source": [
    "# Setup \n",
    "\n",
    "<div class=\"alert alert-block alert-warning\">\n",
    "    <b>Cloud Environment</b>: This notebook was written for use on the All of Us Workbench. It runs fine on the default Cloud Environment. \n",
    "</div>\n",
    "\n",
    "<div class=\"alert alert-block alert-success\">\n",
    "    <b>Most of the code in this notebook</b> came from the menu <kbd>Snippets -> All of Us R and SQL snippets</kbd>.\n",
    "See also <a href=\"https://aousupporthelp.zendesk.com/hc/en-us/articles/360040043132-What-are-code-snippets-\">What are code snippets?</a>\n",
    "</div>\n"
   ]
  },
  {
   "cell_type": "code",
   "execution_count": null,
   "metadata": {},
   "outputs": [],
   "source": [
    "lapply(c('viridis', 'ggthemes', 'skimr', 'fuzzyjoin'),\n",
    "       function(pkg_name) { if(! pkg_name %in% installed.packages()) { install.packages(pkg_name)} } )\n",
    "lapply(c('IRanges'),\n",
    "       function(pkg_name) { if(! pkg_name %in% installed.packages()) { BiocManager::install(pkg_name)} } )\n",
    "\n",
    "library(viridis)    # A nice color scheme for plots.\n",
    "library(ggthemes)   # Common themes to change the look and feel of plots.\n",
    "library(scales)     # Graphical scales map data to aesthetics in plots.\n",
    "library(skimr)      # Better summaries of data.\n",
    "library(lubridate)  # Date library from the tidyverse.\n",
    "library(bigrquery)  # BigQuery R client.\n",
    "library(tidyverse)  # Data wrangling packages."
   ]
  },
  {
   "cell_type": "code",
   "execution_count": null,
   "metadata": {},
   "outputs": [],
   "source": [
    "## BigQuery setup.\n",
    "BILLING_PROJECT_ID <- Sys.getenv('GOOGLE_PROJECT')\n",
    "# Get the BigQuery curated dataset for the current workspace context.\n",
    "CDR <- Sys.getenv('WORKSPACE_CDR')\n",
    "\n",
    "WORKSPACE_BUCKET <- Sys.getenv('WORKSPACE_BUCKET')\n",
    "\n",
    "## Plot setup.\n",
    "theme_set(theme_bw(base_size = 16)) # Default theme for plots.\n",
    "\n",
    "#' Returns a data frame with a y position and a label, for use annotating ggplot boxplots.\n",
    "#'\n",
    "#' @param d A data frame.\n",
    "#' @return A data frame with column y as max and column label as length.\n",
    "get_boxplot_fun_data <- function(df) {\n",
    "  return(data.frame(y = max(df), label = stringr::str_c('N = ', length(df))))\n",
    "}"
   ]
  },
  {
   "cell_type": "code",
   "execution_count": null,
   "metadata": {},
   "outputs": [],
   "source": [
    "## ---------------[ CHANGE THESE AS NEEDED] ---------------------------------------\n",
    "COHORT_QUERY <- str_glue('SELECT person_id FROM `{CDR}.person`')  # Default to all participants.\n",
    "MEASUREMENT_OF_INTEREST <- '(?i)cholesterol|hdl|ldl|triglyceride'"
   ]
  },
  {
   "cell_type": "markdown",
   "metadata": {},
   "source": [
    "# Review measurements of interest "
   ]
  },
  {
   "cell_type": "code",
   "execution_count": null,
   "metadata": {},
   "outputs": [],
   "source": [
    "measurements_of_interest_summary_df <- bq_table_download(bq_project_query(\n",
    "    BILLING_PROJECT_ID, page_size = 25000,\n",
    "    query = str_glue('\n",
    "-- Compute summary information for our measurements of interest for our cohort.\n",
    "--\n",
    "-- PARAMETERS:\n",
    "--   MEASUREMENT_OF_INTEREST: a case-insensitive string, such as \"hemoglobin\", to be compared\n",
    "--                            to all measurement concept names to identify those of interest\n",
    "\n",
    "WITH\n",
    "  --\n",
    "  -- Use a case insensitive string to search the measurement concept names of those\n",
    "  -- measurements we do have in the measurements table.\n",
    "  --\n",
    "  labs_of_interest AS (\n",
    "  SELECT\n",
    "    measurement_concept_id,\n",
    "    measurement_concept.concept_name AS measurement_name,\n",
    "    unit_concept_id,\n",
    "    unit_concept.concept_name AS unit_name\n",
    "  FROM\n",
    "    `{CDR}.measurement`\n",
    "  LEFT JOIN `{CDR}.concept` AS measurement_concept\n",
    "  ON measurement_concept.concept_id = measurement_concept_id\n",
    "  LEFT JOIN `{CDR}.concept` AS unit_concept\n",
    "  ON unit_concept.concept_id = unit_concept_id\n",
    "  WHERE\n",
    "    REGEXP_CONTAINS(measurement_concept.concept_name, r\"(?i){MEASUREMENT_OF_INTEREST}\")\n",
    "  GROUP BY\n",
    "    measurement_concept_id,\n",
    "    unit_concept_id,\n",
    "    measurement_concept.concept_name,\n",
    "    unit_concept.concept_name\n",
    ")\n",
    "  --\n",
    "  -- Summarize the information about each measurement concept of interest that our\n",
    "  -- prior query identified.\n",
    "  --\n",
    "SELECT\n",
    "  measurement_name AS measurement,\n",
    "  IFNULL(unit_name, \"NA\") AS unit,\n",
    "  COUNT(1) AS N,\n",
    "  COUNTIF(value_as_number IS NULL\n",
    "    AND (value_as_concept_id IS NULL\n",
    "      OR value_as_concept_id = 0)) AS missing,\n",
    "  MIN(value_as_number) AS min,\n",
    "  MAX(value_as_number) AS max,\n",
    "  AVG(value_as_number) AS avg,\n",
    "  STDDEV(value_as_number) AS stddev,\n",
    "  APPROX_QUANTILES(value_as_number, 4) AS quantiles,\n",
    "  COUNTIF(value_as_number IS NOT NULL) AS num_numeric_values,\n",
    "  COUNTIF(value_as_concept_id IS NOT NULL\n",
    "      AND value_as_concept_id != 0) AS num_concept_values,\n",
    "  COUNTIF(operator_concept_id IS NOT NULL) AS num_operators,\n",
    "  IF(src_id = \"PPI/PM\", \"PPI\", \"EHR\") AS measurement_source,\n",
    "  measurement_concept_id,\n",
    "  unit_concept_id\n",
    "FROM\n",
    "  `{CDR}.measurement`\n",
    "INNER JOIN\n",
    " labs_of_interest USING(measurement_concept_id, unit_concept_id)\n",
    "LEFT JOIN\n",
    "  `{CDR}.measurement_ext` USING(measurement_id)\n",
    "WHERE\n",
    "  person_id IN ({COHORT_QUERY})\n",
    "GROUP BY\n",
    "  measurement_concept_id,\n",
    "  measurement_name,\n",
    "  measurement_source,\n",
    "  unit_concept_id,\n",
    "  unit_name\n",
    "ORDER BY\n",
    "  N DESC\n",
    "\n",
    "')))\n",
    "\n",
    "print(skim(measurements_of_interest_summary_df))"
   ]
  },
  {
   "cell_type": "code",
   "execution_count": null,
   "metadata": {},
   "outputs": [],
   "source": [
    "head(measurements_of_interest_summary_df, n = 20)"
   ]
  },
  {
   "cell_type": "markdown",
   "metadata": {},
   "source": [
    "# Retrieve and plot a most recent measurement of interest\n",
    "\n",
    "This query only returns the most recent measurement per person."
   ]
  },
  {
   "cell_type": "code",
   "execution_count": null,
   "metadata": {},
   "outputs": [],
   "source": [
    "## ---------------[ CHANGE THIS AS NEEDED] ---------------------------------------\n",
    "row_of_interest <- 1\n",
    "\n",
    "(MEASUREMENT_NAME <- measurements_of_interest_summary_df$measurement[row_of_interest])\n",
    "(MEASUREMENT_CONCEPT_ID <- measurements_of_interest_summary_df$measurement_concept_id[row_of_interest])\n",
    "(UNIT_NAME <- measurements_of_interest_summary_df$unit[row_of_interest])\n",
    "(UNIT_CONCEPT_ID <- measurements_of_interest_summary_df$unit_concept_id[row_of_interest])"
   ]
  },
  {
   "cell_type": "code",
   "execution_count": null,
   "metadata": {},
   "outputs": [],
   "source": [
    "most_recent_measurement_of_interest_df <- bq_table_download(bq_project_query(\n",
    "    BILLING_PROJECT_ID, page_size = 25000,\n",
    "    query = str_glue('\n",
    "-- Return row level data for a measurement, limited to only the most recent result per person in our cohort.\n",
    "--\n",
    "-- PARAMETERS:\n",
    "--   MEASUREMENT_CONCEPT_ID: for example 3000963  # Hemoglobin\n",
    "--   UNIT_CONCEPT_ID: for example 8636            # gram per liter\n",
    "\n",
    "WITH\n",
    "  --\n",
    "  -- Retrieve participants birthdate and gender.\n",
    "  --\n",
    "persons AS (\n",
    "  SELECT\n",
    "    person_id,\n",
    "    birth_datetime,\n",
    "    concept_name AS gender\n",
    "  FROM\n",
    "    `{CDR}.person`\n",
    "  LEFT JOIN `{CDR}.concept` ON concept_id = gender_concept_id),\n",
    "  --\n",
    "  -- Retrieve the row-level data for our measurement of interest. Also compute\n",
    "  -- a new column for the recency rank of the measurement per person, a rank of\n",
    "  -- of 1 being the most recent lab result for that person.\n",
    "  --\n",
    "measurements AS (\n",
    "  SELECT\n",
    "    person_id,\n",
    "    measurement_id,\n",
    "    measurement_concept_id,\n",
    "    unit_concept_id,\n",
    "    measurement_date,\n",
    "    measurement_datetime,\n",
    "    measurement_type_concept_id,\n",
    "    operator_concept_id,\n",
    "    value_as_number,\n",
    "    value_as_concept_id,\n",
    "    range_low,\n",
    "    range_high,\n",
    "    ROW_NUMBER() OVER (PARTITION BY person_id\n",
    "                       ORDER BY measurement_date DESC,\n",
    "                                measurement_datetime DESC,\n",
    "                                measurement_id DESC) AS recency_rank\n",
    "\n",
    "  FROM\n",
    "    `{CDR}.measurement`\n",
    "  WHERE\n",
    "    measurement_concept_id = {MEASUREMENT_CONCEPT_ID}\n",
    "    AND unit_concept_id = {UNIT_CONCEPT_ID}\n",
    "    AND person_id IN ({COHORT_QUERY}))\n",
    "  --\n",
    "  -- Lastly, JOIN all this data together so that we have the birthdate, gender and site for each\n",
    "  -- measurement, retaining only the most recent result per person.\n",
    "  --\n",
    "SELECT\n",
    "  persons.*,\n",
    "  src_id,\n",
    "  measurements.* EXCEPT(person_id, measurement_id, recency_rank)\n",
    "FROM\n",
    "  measurements\n",
    "LEFT JOIN\n",
    "  persons USING (person_id)\n",
    "LEFT JOIN\n",
    "  `{CDR}.measurement_ext` USING (measurement_id)\n",
    "WHERE\n",
    "  recency_rank = 1\n",
    "ORDER BY\n",
    "  person_id,\n",
    "  measurement_id\n",
    "\n",
    "')))\n",
    "\n",
    "print(skim(most_recent_measurement_of_interest_df))"
   ]
  },
  {
   "cell_type": "code",
   "execution_count": null,
   "metadata": {},
   "outputs": [],
   "source": [
    "# Uncomment the line below to see row level data.\n",
    "#head(most_recent_measurement_of_interest_df)"
   ]
  },
  {
   "cell_type": "code",
   "execution_count": null,
   "metadata": {},
   "outputs": [],
   "source": [
    "# This plot assumes that most_recent_measurement_of_interest.sql has been run.\n",
    "options(repr.plot.height = 12, repr.plot.width = 16)\n",
    "\n",
    "most_recent_measurement_of_interest_df %>%\n",
    "    # Get rid of nonsensical outliers.\n",
    "    filter(value_as_number < 1000) %>%\n",
    "    filter(value_as_number > 0) %>% # Get rid of nonsensical outliers.\n",
    "    mutate(age_at_measurement = year(as.period(interval(start = birth_datetime, end = measurement_date)))) %>%\n",
    "    # Exclude measurements taken during childhood.\n",
    "    filter(age_at_measurement > 20) %>%\n",
    "    ggplot(aes(x = cut_width(age_at_measurement, width = 10, boundary = 0), y = value_as_number)) +\n",
    "    geom_boxplot() +\n",
    "    stat_summary(fun.data = get_boxplot_fun_data, geom = 'text', size = 4,\n",
    "                 position = position_dodge(width = 0.9), vjust = -0.8) +\n",
    "#    scale_y_log10() +  # Uncomment if the data looks skewed.\n",
    "    coord_flip() +\n",
    "#    facet_wrap(~ gender, nrow = length(unique(most_recent_measurement_of_interest_df$gender))) +\n",
    "    xlab('age') +\n",
    "    ylab(str_glue('{UNIT_NAME}')) +\n",
    "    labs(title = str_glue('Most recent {MEASUREMENT_NAME} measurement\\nper person, by age'),\n",
    "         caption = 'Source: All Of Us Data')"
   ]
  },
  {
   "cell_type": "markdown",
   "metadata": {},
   "source": [
    "# Retrieve and plot several most recent measurements of interest\n",
    "\n",
    "This query only returns the most recent measurement per person of each of several measurements."
   ]
  },
  {
   "cell_type": "code",
   "execution_count": null,
   "metadata": {},
   "outputs": [],
   "source": [
    "## ---------------[ CHANGE THIS AS NEEDED] ---------------------------------------\n",
    "rows_of_interest <- seq(1, 4)"
   ]
  },
  {
   "cell_type": "code",
   "execution_count": null,
   "metadata": {},
   "outputs": [],
   "source": [
    "CONCEPTS_OF_INTEREST <- measurements_of_interest_summary_df[rows_of_interest, ] %>%\n",
    "    select(measurement_concept_id, unit_concept_id) %>%\n",
    "    pmap(function (measurement_concept_id, unit_concept_id) {\n",
    "        str_glue('(measurement_concept_id = {measurement_concept_id} AND unit_concept_id = {unit_concept_id})')\n",
    "    }) %>%\n",
    "    str_c(collapse = ' OR ')\n",
    "\n",
    "CONCEPTS_OF_INTEREST"
   ]
  },
  {
   "cell_type": "code",
   "execution_count": null,
   "metadata": {},
   "outputs": [],
   "source": [
    "multiple_most_recent_measurements_of_interest_df <- bq_table_download(bq_project_query(\n",
    "    BILLING_PROJECT_ID, page_size = 25000,\n",
    "    query = str_glue('\n",
    "-- Return row level data for a measurement, limited to only the most recent result per person in our cohort.\n",
    "--\n",
    "-- PARAMETERS:\n",
    "--   MEASUREMENT_CONCEPT_ID: for example 3000963  # Hemoglobin\n",
    "--   UNIT_CONCEPT_ID: for example 8636            # gram per liter\n",
    "\n",
    "WITH\n",
    "  --\n",
    "  -- Retrieve participants birthdate and gender.\n",
    "  --\n",
    "persons AS (\n",
    "  SELECT\n",
    "    person_id,\n",
    "    birth_datetime,\n",
    "    concept_name AS gender\n",
    "  FROM\n",
    "    `{CDR}.person`\n",
    "  LEFT JOIN `{CDR}.concept` ON concept_id = gender_concept_id),\n",
    "  --\n",
    "  -- Retrieve the row-level data for our measurement of interest. Also compute\n",
    "  -- a new column for the recency rank of the measurement per person, a rank of\n",
    "  -- of 1 being the most recent lab result for that person.\n",
    "  --\n",
    "measurements AS (\n",
    "  SELECT\n",
    "    person_id,\n",
    "    measurement_id,\n",
    "    measurement_concept_id,\n",
    "    unit_concept_id,\n",
    "    measurement_date,\n",
    "    measurement_datetime,\n",
    "    measurement_type_concept_id,\n",
    "    operator_concept_id,\n",
    "    value_as_number,\n",
    "    value_as_concept_id,\n",
    "    range_low,\n",
    "    range_high,\n",
    "    ROW_NUMBER() OVER (PARTITION BY person_id, measurement_concept_id, unit_concept_id\n",
    "                       ORDER BY measurement_date DESC,\n",
    "                                measurement_datetime DESC,\n",
    "                                measurement_id DESC) AS recency_rank\n",
    "\n",
    "  FROM\n",
    "    `{CDR}.measurement`\n",
    "  WHERE\n",
    "    ({CONCEPTS_OF_INTEREST})\n",
    "    AND person_id IN ({COHORT_QUERY}))\n",
    "  --\n",
    "  -- Lastly, JOIN all this data together so that we have the birthdate, gender and site for each\n",
    "  -- measurement, retaining only the most recent result per person.\n",
    "  --\n",
    "SELECT\n",
    "  persons.*,\n",
    "  CONCAT(measurement_concept.concept_name, \" [\", unit_concept.concept_name, \"]\") AS title,\n",
    "  measurements.* EXCEPT(person_id, measurement_id, recency_rank)\n",
    "FROM\n",
    "  measurements\n",
    "LEFT JOIN\n",
    "  persons USING (person_id)\n",
    "LEFT JOIN `{CDR}.concept` AS measurement_concept\n",
    "  ON measurement_concept.concept_id = measurement_concept_id\n",
    "LEFT JOIN `{CDR}.concept` AS unit_concept\n",
    "  ON unit_concept.concept_id = unit_concept_id\n",
    "WHERE\n",
    "  recency_rank = 1\n",
    "ORDER BY\n",
    "  person_id,\n",
    "  measurement_id\n",
    "\n",
    "')))\n",
    "\n",
    "dim(multiple_most_recent_measurements_of_interest_df)"
   ]
  },
  {
   "cell_type": "markdown",
   "metadata": {},
   "source": [
    "## AoU Tabular summary "
   ]
  },
  {
   "cell_type": "code",
   "execution_count": null,
   "metadata": {},
   "outputs": [],
   "source": [
    "(aou_summary <- multiple_most_recent_measurements_of_interest_df %>%\n",
    "    group_by(title) %>%\n",
    "    summarize(\n",
    "        count = n(),\n",
    "        missing = sum(is.na(value_as_number)),\n",
    "        median = median(value_as_number, na.rm = TRUE),\n",
    "        mean = mean(value_as_number, na.rm = TRUE),\n",
    "        stddev = sd(value_as_number, na.rm = TRUE)\n",
    "    ))"
   ]
  },
  {
   "cell_type": "code",
   "execution_count": null,
   "metadata": {},
   "outputs": [],
   "source": [
    "(ukb_summary <- read_csv(pipe('gsutil cat $WORKSPACE_BUCKET/data/ukb_lipids_summary.csv')) %>%\n",
    "    rename(title='measurement'))"
   ]
  },
  {
   "cell_type": "markdown",
   "metadata": {},
   "source": [
    "## Combined AoU + UKB tabular summary"
   ]
  },
  {
   "cell_type": "code",
   "execution_count": null,
   "metadata": {},
   "outputs": [],
   "source": [
    "(combined_summary <- rbind(ukb_summary,\n",
    "      aou_summary %>% mutate(data = 'AoU most recent measurement per person')\n",
    "     ))"
   ]
  },
  {
   "cell_type": "markdown",
   "metadata": {},
   "source": [
    "## Ploted by age group - full cohort"
   ]
  },
  {
   "cell_type": "code",
   "execution_count": null,
   "metadata": {},
   "outputs": [],
   "source": [
    "options(repr.plot.height = 20, repr.plot.width = 16)\n",
    "\n",
    "multiple_most_recent_measurements_of_interest_df %>%\n",
    "    filter(value_as_number > 0) %>% # Get rid of nonsensical outliers.\n",
    "    mutate(age_at_measurement = year(as.period(interval(start = birth_datetime, end = measurement_date)))) %>%\n",
    "    # Exclude measurements taken during childhood.\n",
    "    filter(age_at_measurement > 20) %>%\n",
    "    ggplot(aes(x = cut_width(age_at_measurement, width = 10, boundary = 0), y = value_as_number)) +\n",
    "    geom_boxplot() +\n",
    "    stat_summary(fun.data = get_boxplot_fun_data, geom = 'text', size = 4,\n",
    "                 position = position_dodge(width = 0.9), vjust = -0.8) +\n",
    "    scale_y_continuous(breaks = scales::pretty_breaks(n = 10)) +\n",
    "#    scale_y_log10(breaks = scales::pretty_breaks(n = 10)) +  # Uncomment if the data looks skewed.\n",
    "    coord_flip() +\n",
    "    facet_wrap(~ title, nrow = length(unique(multiple_most_recent_measurements_of_interest_df$title)), scales = 'free_x') +\n",
    "    xlab('age') +\n",
    "    labs(title = str_glue('Most recent measurement per person, by age'),\n",
    "         caption = 'Source: All Of Us Data')"
   ]
  },
  {
   "cell_type": "markdown",
   "metadata": {},
   "source": [
    "## Retrieve ids for participants in the alpha2 genomics release"
   ]
  },
  {
   "cell_type": "code",
   "execution_count": null,
   "metadata": {},
   "outputs": [],
   "source": [
    "participants_with_genomic_data <- read_csv(\n",
    "    pipe(str_glue('gsutil cat {WORKSPACE_BUCKET}/data/researchIDsAlpha2Release_04272021.txt')),\n",
    "    col_names = c('person_id')\n",
    ")\n",
    "\n",
    "dim(participants_with_genomic_data)"
   ]
  },
  {
   "cell_type": "markdown",
   "metadata": {},
   "source": [
    "## Ploted by age group - alpha2 genomics cohort"
   ]
  },
  {
   "cell_type": "code",
   "execution_count": null,
   "metadata": {},
   "outputs": [],
   "source": [
    "options(repr.plot.height = 20, repr.plot.width = 16)\n",
    "\n",
    "multiple_most_recent_measurements_of_interest_df %>%\n",
    "    filter(value_as_number > 0) %>% # Get rid of nonsensical outliers.\n",
    "    filter(person_id %in% participants_with_genomic_data$person_id) %>%    \n",
    "    mutate(age_at_measurement = year(as.period(interval(start = birth_datetime, end = measurement_date)))) %>%\n",
    "    # Exclude measurements taken during childhood.\n",
    "    filter(age_at_measurement > 20) %>%\n",
    "    ggplot(aes(x = cut_width(age_at_measurement, width = 10, boundary = 0), y = value_as_number)) +\n",
    "    geom_boxplot() +\n",
    "    stat_summary(fun.data = get_boxplot_fun_data, geom = 'text', size = 4,\n",
    "                 position = position_dodge(width = 0.9), vjust = -0.8) +\n",
    "    scale_y_continuous(breaks = scales::pretty_breaks(n = 10)) +\n",
    "#    scale_y_log10(breaks = scales::pretty_breaks(n = 10)) +  # Uncomment if the data looks skewed.\n",
    "    coord_flip() +\n",
    "    facet_wrap(~ title, nrow = length(unique(multiple_most_recent_measurements_of_interest_df$title)), scales = 'free_x') +\n",
    "    xlab('age') +\n",
    "    labs(title = str_glue('Most recent measurement per person, by age'),\n",
    "         caption = 'Source: All Of Us Data')"
   ]
  },
  {
   "cell_type": "markdown",
   "metadata": {},
   "source": [
    "# Export to CSV"
   ]
  },
  {
   "cell_type": "markdown",
   "metadata": {},
   "source": [
    "## Export available lipids measurements summary"
   ]
  },
  {
   "cell_type": "code",
   "execution_count": null,
   "metadata": {},
   "outputs": [],
   "source": [
    "# This snippet assumes that you run setup first\n",
    "\n",
    "# This code saves your dataframe into a csv file in a \"data\" folder in Google Bucket\n",
    "\n",
    "# Replace df with THE NAME OF YOUR DATAFRAME\n",
    "my_dataframe <- measurements_of_interest_summary_df %>%\n",
    "    mutate(quantiles = str_c(quantiles))\n",
    "\n",
    "# Replace 'test.csv' with THE NAME of the file you're going to store in the bucket (don't delete the quotation marks)\n",
    "destination_filename <- 'lipids_measurements_of_interest_summary.csv'\n",
    "\n",
    "########################################################################\n",
    "##\n",
    "################# DON'T CHANGE FROM HERE ###############################\n",
    "##\n",
    "########################################################################\n",
    "\n",
    "# store the dataframe in current workspace\n",
    "write_excel_csv(my_dataframe, destination_filename)\n",
    "\n",
    "# Get the bucket name\n",
    "my_bucket <- Sys.getenv('WORKSPACE_BUCKET')\n",
    "\n",
    "# Copy the file from current workspace to the bucket\n",
    "system(paste0(\"gsutil cp ./\", destination_filename, \" \", my_bucket, \"/data/\"), intern=T)\n",
    "\n",
    "# Check if file is in the bucket\n",
    "system(paste0(\"gsutil ls \", my_bucket, \"/data/*.csv\"), intern=T)\n"
   ]
  },
  {
   "cell_type": "markdown",
   "metadata": {},
   "source": [
    "## Export UKB + AoU comparison"
   ]
  },
  {
   "cell_type": "code",
   "execution_count": null,
   "metadata": {},
   "outputs": [],
   "source": [
    "# This snippet assumes that you run setup first\n",
    "\n",
    "# This code saves your dataframe into a csv file in a \"data\" folder in Google Bucket\n",
    "\n",
    "# Replace df with THE NAME OF YOUR DATAFRAME\n",
    "my_dataframe <- combined_summary\n",
    "\n",
    "# Replace 'test.csv' with THE NAME of the file you're going to store in the bucket (don't delete the quotation marks)\n",
    "destination_filename <- 'combined_lipids_summary.csv'\n",
    "\n",
    "########################################################################\n",
    "##\n",
    "################# DON'T CHANGE FROM HERE ###############################\n",
    "##\n",
    "########################################################################\n",
    "\n",
    "# store the dataframe in current workspace\n",
    "write_excel_csv(my_dataframe, destination_filename)\n",
    "\n",
    "# Get the bucket name\n",
    "my_bucket <- Sys.getenv('WORKSPACE_BUCKET')\n",
    "\n",
    "# Copy the file from current workspace to the bucket\n",
    "system(paste0(\"gsutil cp ./\", destination_filename, \" \", my_bucket, \"/data/\"), intern=T)\n",
    "\n",
    "# Check if file is in the bucket\n",
    "system(paste0(\"gsutil ls \", my_bucket, \"/data/*.csv\"), intern=T)\n"
   ]
  },
  {
   "cell_type": "markdown",
   "metadata": {},
   "source": [
    "## Export row-level measurements data"
   ]
  },
  {
   "cell_type": "code",
   "execution_count": null,
   "metadata": {},
   "outputs": [],
   "source": [
    "# This snippet assumes that you run setup first\n",
    "\n",
    "# This code saves your dataframe into a csv file in a \"data\" folder in Google Bucket\n",
    "\n",
    "# Replace df with THE NAME OF YOUR DATAFRAME\n",
    "my_dataframe <- multiple_most_recent_measurements_of_interest_df\n",
    "\n",
    "# Replace 'test.csv' with THE NAME of the file you're going to store in the bucket (don't delete the quotation marks)\n",
    "destination_filename <- 'most_recent_lipids_measurements.csv'\n",
    "\n",
    "########################################################################\n",
    "##\n",
    "################# DON'T CHANGE FROM HERE ###############################\n",
    "##\n",
    "########################################################################\n",
    "\n",
    "# store the dataframe in current workspace\n",
    "write_excel_csv(my_dataframe, destination_filename)\n",
    "\n",
    "# Get the bucket name\n",
    "my_bucket <- Sys.getenv('WORKSPACE_BUCKET')\n",
    "\n",
    "# Copy the file from current workspace to the bucket\n",
    "system(paste0(\"gsutil cp ./\", destination_filename, \" \", my_bucket, \"/data/\"), intern=T)\n",
    "\n",
    "# Check if file is in the bucket\n",
    "system(paste0(\"gsutil ls \", my_bucket, \"/data/*.csv\"), intern=T)\n"
   ]
  },
  {
   "cell_type": "markdown",
   "metadata": {},
   "source": [
    "# Provenance "
   ]
  },
  {
   "cell_type": "code",
   "execution_count": null,
   "metadata": {},
   "outputs": [],
   "source": [
    "devtools::session_info()"
   ]
  }
 ],
 "metadata": {
  "kernelspec": {
   "display_name": "R",
   "language": "R",
   "name": "ir"
  },
  "language_info": {
   "codemirror_mode": "r",
   "file_extension": ".r",
   "mimetype": "text/x-r-source",
   "name": "R",
   "pygments_lexer": "r",
   "version": "4.0.3"
  },
  "toc": {
   "base_numbering": 1,
   "nav_menu": {},
   "number_sections": true,
   "sideBar": true,
   "skip_h1_title": false,
   "title_cell": "Table of Contents",
   "title_sidebar": "Contents",
   "toc_cell": false,
   "toc_position": {
    "height": "calc(100% - 180px)",
    "left": "10px",
    "top": "150px",
    "width": "368px"
   },
   "toc_section_display": true,
   "toc_window_display": true
  }
 },
 "nbformat": 4,
 "nbformat_minor": 2
}

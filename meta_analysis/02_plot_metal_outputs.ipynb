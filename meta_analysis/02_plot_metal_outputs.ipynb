{
 "cells": [
  {
   "cell_type": "markdown",
   "metadata": {},
   "source": [
    "# Plot results for METAL meta-analysis\n",
    "\n",
    "In this notebook we review and explore the results of the meta-analysis of aggregated *All of Us* and UK Biobank GWAS results.\n",
    "\n",
    "Note that this work is part of a larger project to [Demonstrate the Potential for Pooled Analysis of All of Us and UK Biobank Genomic Data](https://github.com/all-of-us/ukb-cross-analysis-demo-project). Specifically this is for the portion of the project that is the meta-analysis of **siloed** gwas results."
   ]
  },
  {
   "cell_type": "markdown",
   "metadata": {},
   "source": [
    "# Setup\n",
    "\n",
    "<div class=\"alert alert-block alert-warning\">\n",
    "    <b>Cloud Environment</b>: This notebook was written for use on the <i>All of Us</i> Workbench.\n",
    "    <ul>\n",
    "        <li>Use \"Recommended Environment\" <kbd><b>General Analysis</b></kbd> which creates compute type <kbd><b>Standard VM</b></kbd> with reasonable defaults for CPU, RAM, and disk.</li>\n",
    "        <li>This notebook takes several minutes to run interactively. You can also it in the background via <kbd>run_notebook_in_the_background</kbd> for the sake of provenance and reproducibility.</li>\n",
    "    </ul>\n",
    "</div>"
   ]
  },
  {
   "cell_type": "code",
   "execution_count": null,
   "metadata": {},
   "outputs": [],
   "source": [
    "lapply(c('hrbrthemes', 'skimr', 'qqman'),\n",
    "       function(pkg) { if(! pkg %in% installed.packages()) { \n",
    "           install.packages(pkg)\n",
    "       } } )"
   ]
  },
  {
   "cell_type": "code",
   "execution_count": null,
   "metadata": {},
   "outputs": [],
   "source": [
    "library(grid)\n",
    "library(gridExtra)\n",
    "library(hrbrthemes)\n",
    "library(qqman)\n",
    "library(readxl)\n",
    "library(scales)\n",
    "library(skimr)\n",
    "library(tidyverse)"
   ]
  },
  {
   "cell_type": "code",
   "execution_count": null,
   "metadata": {},
   "outputs": [],
   "source": [
    "# Set some visualiation defaults.\n",
    "theme_set(theme_ipsum(base_size = 16)) # Default theme for plots.\n",
    "\n",
    "#' Returns a data frame with a y position and a label, for use annotating ggplot boxplots.\n",
    "#'\n",
    "#' @param d A data frame.\n",
    "#' @return A data frame with column y as max and column label as length.\n",
    "get_boxplot_fun_data <- function(df) {\n",
    "  return(data.frame(y = max(df), label = stringr::str_c('N = ', length(df))))\n",
    "}"
   ]
  },
  {
   "cell_type": "markdown",
   "metadata": {},
   "source": [
    "## Define constants"
   ]
  },
  {
   "cell_type": "code",
   "execution_count": null,
   "metadata": {},
   "outputs": [],
   "source": [
    "#---[ Inputs ]---\n",
    "# Created via notebook aou_workbench_siloed_analyses/09_metal_meta_analysis.ipynb\n",
    "METAL_META_ANALYSIS_RESULTS <- c(\n",
    "    HDL='gs://fc-secure-e5c31994-13bb-4e3e-b7d7-db6effadc54f/data/metaanalysis/20230410/METAANALYSIS_HDL_1.tbl',\n",
    "    LDL='gs://fc-secure-e5c31994-13bb-4e3e-b7d7-db6effadc54f/data/metaanalysis/20230410/METAANALYSIS_LDL_1.tbl',\n",
    "    TC='gs://fc-secure-e5c31994-13bb-4e3e-b7d7-db6effadc54f/data/metaanalysis/20230410/METAANALYSIS_TC_1.tbl',\n",
    "    TG='gs://fc-secure-e5c31994-13bb-4e3e-b7d7-db6effadc54f/data/metaanalysis/20230410/METAANALYSIS_TG_1.tbl'\n",
    ")\n",
    "\n",
    "LIPIDS <- names(METAL_META_ANALYSIS_RESULTS)\n",
    "\n",
    "PLOT_SUBTITLE <- 'Source: All of Us v5 alpha3 and UK Biobank data'"
   ]
  },
  {
   "cell_type": "markdown",
   "metadata": {},
   "source": [
    "# Load the METAL results"
   ]
  },
  {
   "cell_type": "code",
   "execution_count": null,
   "metadata": {},
   "outputs": [],
   "source": [
    "metal_meta_analysis_results <- bind_rows(\n",
    "    lapply(LIPIDS, function(lipid) {\n",
    "        file <- METAL_META_ANALYSIS_RESULTS[lipid]\n",
    "        read_table(pipe(str_glue('gsutil cat {file}'))) %>%\n",
    "        mutate(lipid_type = lipid)\n",
    "    }))\n",
    "\n",
    "dim(metal_meta_analysis_results)"
   ]
  },
  {
   "cell_type": "code",
   "execution_count": null,
   "metadata": {},
   "outputs": [],
   "source": [
    "head(metal_meta_analysis_results)"
   ]
  },
  {
   "cell_type": "code",
   "execution_count": null,
   "metadata": {},
   "outputs": [],
   "source": [
    "print(system(str_glue('gsutil cat {METAL_META_ANALYSIS_RESULTS[\"LDL\"]}.info'), intern=TRUE))"
   ]
  },
  {
   "cell_type": "markdown",
   "metadata": {},
   "source": [
    "## Add derived fields"
   ]
  },
  {
   "cell_type": "code",
   "execution_count": null,
   "metadata": {},
   "outputs": [],
   "source": [
    "metal_meta_analysis_results <- metal_meta_analysis_results %>%\n",
    "    mutate(\n",
    "        LOG10P_metal = -log10(`P-value`),\n",
    "        significant_metal = `P-value` <= 5e-08,\n",
    "        single_cohort_metal_result = str_detect(Direction, '\\\\?'),\n",
    "        cohorts = case_when(\n",
    "            Direction %in% c('++', '--') ~ 'both cohorts', \n",
    "            Direction %in% c('+-', '-+') ~ 'both cohorts with conflicting direction of effect', \n",
    "            Direction %in% c('+?', '-?') ~ 'AoU only', \n",
    "            Direction %in% c('?+', '?-') ~ 'UKB only'\n",
    "        )\n",
    "    )"
   ]
  },
  {
   "cell_type": "code",
   "execution_count": null,
   "metadata": {},
   "outputs": [],
   "source": [
    "head(metal_meta_analysis_results)"
   ]
  },
  {
   "cell_type": "markdown",
   "metadata": {},
   "source": [
    "## Fix values when Allele2 is the reference allele"
   ]
  },
  {
   "cell_type": "code",
   "execution_count": null,
   "metadata": {},
   "outputs": [],
   "source": [
    "metal_meta_analysis_results <- metal_meta_analysis_results %>%\n",
    "    mutate(ID = MarkerName) %>%\n",
    "    separate(ID, sep = '_', into = c('CHROM_ID', 'GENPOS', 'REF', 'ALT'), convert = TRUE) %>%\n",
    "    mutate(\n",
    "        CHROM = parse_number(CHROM_ID),\n",
    "        is_flipped = MarkerName != str_c(CHROM_ID, GENPOS, str_to_upper(Allele1), str_to_upper(Allele2), sep='_'),\n",
    "        fixed_beta = ifelse(is_flipped, -Effect, Effect),\n",
    "        fixed_freq1 =  ifelse(is_flipped, 1 - Freq1, Freq1),\n",
    "    )\n",
    "\n",
    "dim(metal_meta_analysis_results)"
   ]
  },
  {
   "cell_type": "code",
   "execution_count": null,
   "metadata": {},
   "outputs": [],
   "source": [
    "metal_meta_analysis_results %>%\n",
    "    select(MarkerName, CHROM, GENPOS, REF, ALT, Allele1, Allele2, is_flipped) %>%\n",
    "    head()"
   ]
  },
  {
   "cell_type": "markdown",
   "metadata": {},
   "source": [
    "# Counts by significance threshold"
   ]
  },
  {
   "cell_type": "code",
   "execution_count": null,
   "metadata": {},
   "outputs": [],
   "source": [
    "metal_meta_analysis_results %>%\n",
    "    group_by(lipid_type, significant_metal) %>%\n",
    "    summarize(count = n())"
   ]
  },
  {
   "cell_type": "markdown",
   "metadata": {},
   "source": [
    "Show only results from both cohorts."
   ]
  },
  {
   "cell_type": "code",
   "execution_count": null,
   "metadata": {},
   "outputs": [],
   "source": [
    "metal_meta_analysis_results %>%\n",
    "    filter(single_cohort_metal_result == FALSE) %>%\n",
    "    group_by(lipid_type, significant_metal) %>%\n",
    "    summarize(count = n())"
   ]
  },
  {
   "cell_type": "markdown",
   "metadata": {},
   "source": [
    "# Significant LDL results by chromosome"
   ]
  },
  {
   "cell_type": "code",
   "execution_count": null,
   "metadata": {},
   "outputs": [],
   "source": [
    "metal_meta_analysis_results %>%\n",
    "    filter(lipid_type == 'LDL') %>%\n",
    "    filter(significant_metal == TRUE) %>%\n",
    "    group_by(CHROM) %>%\n",
    "    summarize(count = n()) %>%\n",
    "    arrange(desc(count))"
   ]
  },
  {
   "cell_type": "markdown",
   "metadata": {},
   "source": [
    "Show only results from both cohorts."
   ]
  },
  {
   "cell_type": "code",
   "execution_count": null,
   "metadata": {},
   "outputs": [],
   "source": [
    "metal_meta_analysis_results %>%\n",
    "    filter(single_cohort_metal_result == FALSE) %>%\n",
    "    filter(lipid_type == 'LDL') %>%\n",
    "    filter(significant_metal == TRUE) %>%\n",
    "    group_by(CHROM) %>%\n",
    "    summarize(count = n()) %>%\n",
    "    arrange(desc(count))"
   ]
  },
  {
   "cell_type": "markdown",
   "metadata": {},
   "source": [
    "# Top LDL results"
   ]
  },
  {
   "cell_type": "code",
   "execution_count": null,
   "metadata": {},
   "outputs": [],
   "source": [
    "metal_meta_analysis_results %>%\n",
    "    filter(lipid_type == 'LDL') %>%\n",
    "    filter(significant_metal == TRUE) %>%\n",
    "    arrange(desc(LOG10P_metal)) %>%\n",
    "    head()"
   ]
  },
  {
   "cell_type": "markdown",
   "metadata": {},
   "source": [
    "Show only results from both cohorts."
   ]
  },
  {
   "cell_type": "code",
   "execution_count": null,
   "metadata": {},
   "outputs": [],
   "source": [
    "metal_meta_analysis_results %>%\n",
    "    filter(single_cohort_metal_result == FALSE) %>%\n",
    "    filter(lipid_type == 'LDL') %>%\n",
    "    filter(significant_metal == TRUE) %>%\n",
    "    arrange(desc(LOG10P_metal)) %>%\n",
    "    head()"
   ]
  },
  {
   "cell_type": "markdown",
   "metadata": {},
   "source": [
    "# METAL direction field counts"
   ]
  },
  {
   "cell_type": "code",
   "execution_count": null,
   "metadata": {},
   "outputs": [],
   "source": [
    "metal_meta_analysis_results %>%\n",
    "    filter(lipid_type == 'LDL') %>%\n",
    "    group_by(Direction) %>%\n",
    "    summarize(count = n()) %>%\n",
    "    arrange(count)"
   ]
  },
  {
   "cell_type": "code",
   "execution_count": null,
   "metadata": {},
   "outputs": [],
   "source": [
    "metal_meta_analysis_results %>%\n",
    "    filter(lipid_type == 'LDL') %>%\n",
    "    group_by(cohorts) %>%\n",
    "    summarize(count = n()) %>%\n",
    "    arrange(count)"
   ]
  },
  {
   "cell_type": "code",
   "execution_count": null,
   "metadata": {},
   "outputs": [],
   "source": [
    "metal_meta_analysis_results %>%\n",
    "    filter(lipid_type == 'LDL') %>%\n",
    "    filter(significant_metal == TRUE) %>%\n",
    "    group_by(cohorts) %>%\n",
    "    summarize(count = n()) %>%\n",
    "    arrange(count)"
   ]
  },
  {
   "cell_type": "markdown",
   "metadata": {},
   "source": [
    "# METAL standard error"
   ]
  },
  {
   "cell_type": "code",
   "execution_count": null,
   "metadata": {},
   "outputs": [],
   "source": [
    "metal_meta_analysis_results %>%\n",
    "    filter(lipid_type == 'LDL') %>%\n",
    "    group_by(cohorts) %>%\n",
    "    summarize(\n",
    "        count = n(),\n",
    "        min_StdErr = min(StdErr),\n",
    "        max_StdErr = max(StdErr),\n",
    "        mean_StdErr = mean(StdErr),\n",
    "        median_StdErr = median(StdErr),\n",
    "        sd_StdErr = sd(StdErr),\n",
    "    ) %>%\n",
    "    arrange(count)"
   ]
  },
  {
   "cell_type": "markdown",
   "metadata": {},
   "source": [
    "Show only significant results."
   ]
  },
  {
   "cell_type": "code",
   "execution_count": null,
   "metadata": {},
   "outputs": [],
   "source": [
    "metal_meta_analysis_results %>%\n",
    "    filter(lipid_type == 'LDL') %>%\n",
    "    filter(significant_metal == TRUE) %>%\n",
    "    group_by(cohorts) %>%\n",
    "    summarize(\n",
    "        count = n(),\n",
    "        min_StdErr = min(StdErr),\n",
    "        max_StdErr = max(StdErr),\n",
    "        mean_StdErr = mean(StdErr),\n",
    "        median_StdErr = median(StdErr),\n",
    "        sd_StdErr = sd(StdErr),\n",
    "    ) %>%\n",
    "    arrange(count)"
   ]
  },
  {
   "cell_type": "markdown",
   "metadata": {},
   "source": [
    "# METAL allele frequency standard error"
   ]
  },
  {
   "cell_type": "code",
   "execution_count": null,
   "metadata": {},
   "outputs": [],
   "source": [
    "metal_meta_analysis_results %>%\n",
    "    filter(lipid_type == 'LDL') %>%\n",
    "    group_by(cohorts) %>%\n",
    "    summarize(\n",
    "        count = n(),\n",
    "        min_FreqSE = min(FreqSE),\n",
    "        max_FreqSE = max(FreqSE),\n",
    "        mean_FreqSE = mean(FreqSE),\n",
    "        median_FreqSE = median(FreqSE),\n",
    "        sd_FreqSE = sd(FreqSE),\n",
    "    ) %>%\n",
    "    arrange(count)"
   ]
  },
  {
   "cell_type": "markdown",
   "metadata": {},
   "source": [
    "Show only significant results."
   ]
  },
  {
   "cell_type": "code",
   "execution_count": null,
   "metadata": {},
   "outputs": [],
   "source": [
    "metal_meta_analysis_results %>%\n",
    "    filter(lipid_type == 'LDL') %>%\n",
    "    filter(significant_metal == TRUE) %>%\n",
    "    group_by(cohorts) %>%\n",
    "    summarize(\n",
    "        count = n(),\n",
    "        min_FreqSE = min(FreqSE),\n",
    "        max_FreqSE = max(FreqSE),\n",
    "        mean_FreqSE = mean(FreqSE),\n",
    "        median_FreqSE = median(FreqSE),\n",
    "        sd_FreqSE = sd(FreqSE),\n",
    "    ) %>%\n",
    "    arrange(count)"
   ]
  },
  {
   "cell_type": "markdown",
   "metadata": {},
   "source": [
    "# QQ and manhattan plots for METAL results"
   ]
  },
  {
   "cell_type": "code",
   "execution_count": null,
   "metadata": {},
   "outputs": [],
   "source": [
    "plot_manhattan_and_qq <- function(metal_results, manhattan_title, qq_title) {\n",
    "    options(repr.plot.width = 10, repr.plot.height = 10)\n",
    "    manhattan(metal_results,\n",
    "              chr='CHROM',\n",
    "              bp='GENPOS',\n",
    "              snp='MarkerName',\n",
    "              p='P-value',\n",
    "              logp=TRUE,\n",
    "              annotateTop = FALSE,\n",
    "              ylim = c(0, 200),\n",
    "              cex = 1.25,\n",
    "              cex.axis = 1.25,\n",
    "              cex.lab = 1.25,\n",
    "              main = manhattan_title,\n",
    "              sub = PLOT_SUBTITLE\n",
    "             )\n",
    "\n",
    "    qq(metal_results$`P-value`,\n",
    "       cex = 1.25,\n",
    "       cex.axis = 1.25,\n",
    "       cex.lab = 1.25,\n",
    "       main = qq_title,\n",
    "       sub = PLOT_SUBTITLE)\n",
    "}"
   ]
  },
  {
   "cell_type": "markdown",
   "metadata": {},
   "source": [
    "## All METAL results"
   ]
  },
  {
   "cell_type": "code",
   "execution_count": null,
   "metadata": {},
   "outputs": [],
   "source": [
    "map(LIPIDS, function(lipid) {\n",
    "    results <- metal_meta_analysis_results %>% filter(lipid_type == lipid)\n",
    "    file = METAL_META_ANALYSIS_RESULTS[lipid]\n",
    "\n",
    "    gc_score <- median(qchisq(1 - results$`P-value`, 1)) / qchisq(0.5, 1, lower.tail=FALSE)\n",
    "\n",
    "    message(str_glue('nrow: {nrow(results)} ncol: {ncol(results)} in {file}'))\n",
    "    message(str_glue('GC: {round(gc_score, 3)}'))\n",
    "\n",
    "    plot_manhattan_and_qq(\n",
    "        results,\n",
    "        manhattan_title = str_glue('Results from one or more cohorts {basename(file)}\\n{dirname(file)}'),\n",
    "        qq_title = str_glue('Results from one or more cohorts {basename(file)}\\n{dirname(file)}\\n GC: {round(gc_score, 3)}')\n",
    "    )\n",
    "})"
   ]
  },
  {
   "cell_type": "markdown",
   "metadata": {},
   "source": [
    "## Show only results found in both cohorts"
   ]
  },
  {
   "cell_type": "code",
   "execution_count": null,
   "metadata": {},
   "outputs": [],
   "source": [
    "map(LIPIDS, function(lipid) {\n",
    "    results <- metal_meta_analysis_results %>%\n",
    "        filter(lipid_type == lipid) %>%\n",
    "        filter(single_cohort_metal_result == 'FALSE')\n",
    "    file = METAL_META_ANALYSIS_RESULTS[lipid]\n",
    "\n",
    "    gc_score <- median(qchisq(1 - results$`P-value`, 1)) / qchisq(0.5, 1, lower.tail=FALSE)\n",
    "\n",
    "    message(str_glue('nrow: {nrow(results)} ncol: {ncol(results)} in {file}'))\n",
    "    message(str_glue('GC: {round(gc_score, 3)}'))\n",
    "\n",
    "    plot_manhattan_and_qq(\n",
    "        results,\n",
    "        manhattan_title = str_glue('Using only variants present in both cohorts {basename(file)}\\n{dirname(file)}'),\n",
    "        qq_title = str_glue('Using only variants present in both cohorts {basename(file)}\\n{dirname(file)}\\n GC: {round(gc_score, 3)}')\n",
    "    )\n",
    "})"
   ]
  },
  {
   "cell_type": "markdown",
   "metadata": {},
   "source": [
    "# Comparisons against other lipids studies"
   ]
  },
  {
   "cell_type": "markdown",
   "metadata": {},
   "source": [
    "## Comparison with UKB published GWAS summary"
   ]
  },
  {
   "cell_type": "markdown",
   "metadata": {},
   "source": [
    "##### Rare coding variants in 35 genes associate with circulating lipid levels – a multi-ancestry analysis of 170,000 exomes. [Hindy et al 2021](https://www.biorxiv.org/content/10.1101/2020.12.22.423783v1.supplementary-material?versioned=true)"
   ]
  },
  {
   "cell_type": "code",
   "execution_count": null,
   "metadata": {},
   "outputs": [],
   "source": [
    "download.file('https://www.biorxiv.org/content/biorxiv/early/2021/09/01/2020.12.22.423783/DC2/embed/media-2.xlsx?download=true', 'hindy.xlsx')"
   ]
  },
  {
   "cell_type": "markdown",
   "metadata": {},
   "source": [
    "Bring the Hindy results into a single dataframe with a lipid type column."
   ]
  },
  {
   "cell_type": "code",
   "execution_count": null,
   "metadata": {},
   "outputs": [],
   "source": [
    "combined_hindy_results <- read_xlsx('hindy.xlsx', sheet = 'Table_S11', skip = 1, na = 'NA') %>%\n",
    "    filter(Ancestry == 'Overall') %>%\n",
    "    mutate(\n",
    "        ID = str_c('chr', str_replace_all(RSID, ':', '_')),\n",
    "        lipid_type = case_when(\n",
    "            Trait == 'LDL_ADJ' ~ 'LDL',\n",
    "            Trait == 'TOTAL_ADJ' ~ 'TC',\n",
    "            TRUE ~ Trait\n",
    "        )\n",
    "    )\n",
    "\n",
    "dim(combined_hindy_results)"
   ]
  },
  {
   "cell_type": "code",
   "execution_count": null,
   "metadata": {},
   "outputs": [],
   "source": [
    "head(combined_hindy_results)"
   ]
  },
  {
   "cell_type": "code",
   "execution_count": null,
   "metadata": {},
   "outputs": [],
   "source": [
    "map(LIPIDS, function(lipid) {\n",
    "    hindy_results = combined_hindy_results %>%\n",
    "        filter(lipid_type == lipid) %>%\n",
    "        select(ID, beta_Hindy=BETA_FE)\n",
    "\n",
    "    in_common_results = inner_join(\n",
    "        hindy_results,\n",
    "        metal_meta_analysis_results %>%\n",
    "            filter(lipid_type == lipid) %>%\n",
    "            filter(single_cohort_metal_result == FALSE) %>%\n",
    "            select(ID=MarkerName, beta_metal=fixed_beta)\n",
    "    )\n",
    "    \n",
    "    num_hindy_results = nrow(hindy_results)\n",
    "    num_in_common_results = nrow(in_common_results)\n",
    "    result_cor = round(cor(in_common_results$beta_metal, in_common_results$beta_Hindy)^2, digits=2)\n",
    "    result_cor_test = cor.test(in_common_results$beta_metal, in_common_results$beta_Hindy)\n",
    "    result_cor_test_p = scientific(result_cor_test$p.value, digits = 2)\n",
    "    \n",
    "    options(repr.plot.width = 8, repr.plot.height = 8)\n",
    "\n",
    "    in_common_results %>%\n",
    "    ggplot(aes(x = beta_Hindy, y = beta_metal)) +\n",
    "        geom_point(alpha = .5) +\n",
    "        annotate(geom = 'text',\n",
    "                 x = max(in_common_results$beta_Hindy),\n",
    "                 y = min(in_common_results$beta_metal),\n",
    "                 hjust = 'right',\n",
    "                 vjust = -1,\n",
    "                 color = 'dark blue', \n",
    "                 size = 6,\n",
    "                 label = c(str_glue('N = {num_in_common_results}\\nR-square: {round(result_cor, digits = 3)}\\nP-value= {result_cor_test_p}'))) +\n",
    "        geom_abline() +\n",
    "        theme(\n",
    "            axis.title.x=element_text(size=14),\n",
    "            axis.title.y=element_text(size=14),\n",
    "        ) +\n",
    "        labs(title = str_glue('{lipid} meta-analysis GWAS result comparison to\\n{num_hindy_results}significant RSID from Hindy et al. 2021'),\n",
    "             caption = PLOT_SUBTITLE)\n",
    "\n",
    "})"
   ]
  },
  {
   "cell_type": "markdown",
   "metadata": {},
   "source": [
    "## Comparison with TOPMed (Freeze8) Lipid GWAS"
   ]
  },
  {
   "cell_type": "markdown",
   "metadata": {},
   "source": [
    "##### Whole genome sequence analysis of blood lipid levels in >66,000 individuals. [Selvaraj et al 2021](https://www.biorxiv.org/content/10.1101/2021.10.11.463514v1.supplementary-material)"
   ]
  },
  {
   "cell_type": "code",
   "execution_count": null,
   "metadata": {},
   "outputs": [],
   "source": [
    "download.file('https://www.biorxiv.org/content/biorxiv/early/2021/10/12/2021.10.11.463514/DC1/embed/media-1.xlsx?download=true', 'selvaraj.xlsx')"
   ]
  },
  {
   "cell_type": "code",
   "execution_count": null,
   "metadata": {},
   "outputs": [],
   "source": [
    "selvaraj_tables = c(HDL = 'A4:L361', LDL = 'A363:L701', TC = 'A703:L1027', TG = 'A1029:L1318')\n",
    "LIPIDS <- c(\"HDL\", \"LDL\", \"TC\", \"TG\")\n",
    "combined_selvaraj_results <- bind_rows(\n",
    "    lapply(LIPIDS, function(lipid) {\n",
    "        # Print some metadata for an eyeball check that we are associating the data with the correct lipid type.\n",
    "        print(str_glue('{lipid} {selvaraj_tables[lipid]}'))\n",
    "        first_row = as.integer(str_extract(selvaraj_tables[lipid], '\\\\d+'))\n",
    "        print(read_xlsx('selvaraj.xlsx', sheet = 'Supplementary Table 3', range = str_glue('A{first_row - 1}:A{first_row}')))\n",
    "        print(nrow(read_xlsx('selvaraj.xlsx', sheet = 'Supplementary Table 3', range = selvaraj_tables[lipid])))\n",
    "        \n",
    "        # Retrieve the data.\n",
    "        read_xlsx('selvaraj.xlsx', sheet = 'Supplementary Table 3', range = selvaraj_tables[lipid]) %>%\n",
    "        mutate(\n",
    "            # Work around a bad entry in the data causing the p.value column to be of type character.\n",
    "            p.value = as.numeric(p.value),\n",
    "            ID = str_glue('chr{CHR}_{POS}_{Allele1}_{Allele2}'),\n",
    "            lipid_type = lipid\n",
    "        )\n",
    "    }))\n",
    "\n",
    "dim(combined_selvaraj_results)"
   ]
  },
  {
   "cell_type": "code",
   "execution_count": null,
   "metadata": {},
   "outputs": [],
   "source": [
    "head(combined_selvaraj_results)"
   ]
  },
  {
   "cell_type": "code",
   "execution_count": null,
   "metadata": {},
   "outputs": [],
   "source": [
    "map(LIPIDS, function(lipid) {\n",
    "    selvaraj_results = combined_selvaraj_results %>%\n",
    "        filter(lipid_type == lipid) %>%\n",
    "        select(ID, beta_selvaraj=BETA)\n",
    "\n",
    "    in_common_results = inner_join(\n",
    "        selvaraj_results,\n",
    "        metal_meta_analysis_results %>%\n",
    "            filter(lipid_type == lipid) %>%\n",
    "            filter(single_cohort_metal_result == FALSE) %>%\n",
    "            select(ID=MarkerName, beta_metal=fixed_beta)\n",
    "    )\n",
    "    \n",
    "    num_selvaraj_results = nrow(selvaraj_results)\n",
    "    num_in_common_results = nrow(in_common_results)\n",
    "    result_cor = round(cor(in_common_results$beta_metal, in_common_results$beta_selvaraj)^2, digits=2)\n",
    "    result_cor_test = cor.test(in_common_results$beta_metal, in_common_results$beta_selvaraj)\n",
    "    result_cor_test_p = scientific(result_cor_test$p.value, digits = 2)\n",
    " \n",
    "    options(repr.plot.width = 8, repr.plot.height = 8)\n",
    "\n",
    "    in_common_results %>%\n",
    "    ggplot(aes(x = beta_selvaraj, y = beta_metal)) +\n",
    "        geom_point(alpha = .5) +\n",
    "        annotate(geom = 'text',\n",
    "                 x = max(in_common_results$beta_selvaraj),\n",
    "                 y = min(in_common_results$beta_metal),\n",
    "                 hjust = 'right',\n",
    "                 vjust = -1,\n",
    "                 color = 'dark blue', \n",
    "                 size = 6,\n",
    "                 label = c(str_glue('N = {num_in_common_results}\\nR-square: {round(result_cor, digits = 3)}\\nP-value= {result_cor_test_p}'))) +\n",
    "        geom_abline() +\n",
    "        theme(\n",
    "            axis.title.x=element_text(size=14),\n",
    "            axis.title.y=element_text(size=14),\n",
    "        ) +\n",
    "        labs(title = str_glue('{lipid} meta-analysis GWAS comparison to {num_selvaraj_results}\\nsignificant RSID from Selvaraj et al. 2021'),\n",
    "             caption = PLOT_SUBTITLE)\n",
    "\n",
    "})"
   ]
  },
  {
   "cell_type": "markdown",
   "metadata": {},
   "source": [
    "# Provenance"
   ]
  },
  {
   "cell_type": "code",
   "execution_count": null,
   "metadata": {},
   "outputs": [],
   "source": [
    "devtools::session_info()"
   ]
  }
 ],
 "metadata": {
  "kernelspec": {
   "display_name": "R",
   "language": "R",
   "name": "ir"
  },
  "language_info": {
   "codemirror_mode": "r",
   "file_extension": ".r",
   "mimetype": "text/x-r-source",
   "name": "R",
   "pygments_lexer": "r",
   "version": "4.2.2"
  },
  "toc": {
   "base_numbering": 1,
   "nav_menu": {},
   "number_sections": true,
   "sideBar": true,
   "skip_h1_title": false,
   "title_cell": "Table of Contents",
   "title_sidebar": "Contents",
   "toc_cell": false,
   "toc_position": {
    "height": "calc(100% - 180px)",
    "left": "10px",
    "top": "150px",
    "width": "248px"
   },
   "toc_section_display": true,
   "toc_window_display": true
  }
 },
 "nbformat": 4,
 "nbformat_minor": 2
}

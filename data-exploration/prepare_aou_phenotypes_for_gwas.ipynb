{
 "cells": [
  {
   "cell_type": "markdown",
   "metadata": {},
   "source": [
    "# Prepare phenotypes and covariates for GWAS\n",
    "\n",
    "In this notebook we prepare the All of Us lipids phenotypes and covariates for GWAS.\n",
    "\n",
    "Note that the corresponding UKB phentypes are:\n",
    "  * https://biobank.ndph.ox.ac.uk/showcase/field.cgi?id=30690\n",
    "  * https://biobank.ndph.ox.ac.uk/showcase/field.cgi?id=30760\n",
    "  * https://biobank.ndph.ox.ac.uk/showcase/field.cgi?id=30780\n",
    "  * https://biobank.ndph.ox.ac.uk/showcase/field.cgi?id=30870\n",
    "\n",
    "TODOs\n",
    "* use lower and upper bound cutoffs appropriate for each measurement\n",
    "* add in the cohort query for WGS samples\n",
    "* also determine the relevant statin phenotypes so that we can correct for statin use:\n",
    "  * statin drug [concept set](https://preprod-workbench.researchallofus.org/workspaces/aou-rw-preprod-e2a365a8/pooledanalysisofallofusandukbiobankgenomicdata/data/concepts/sets/53)\n",
    "  * participants with statin use [dataset](https://preprod-workbench.researchallofus.org/workspaces/aou-rw-preprod-e2a365a8/pooledanalysisofallofusandukbiobankgenomicdata/data/data-sets/70)\n",
    "  * https://databrowser.researchallofus.org/ehr/drug-exposures?search=statin\n",
    "  * https://databrowser.researchallofus.org/ehr/conditions?search=statin\n",
    "  * https://databrowser.researchallofus.org/ehr/procedures?search=statin\n",
    "* incorporate exclusion criteria\n",
    "* other issues to decide\n",
    "  * timing of AoU measurements - which to use\n",
    "    * right now its is using the most recentl\n",
    "    * another suggestion was to use the maximum value per participant\n",
    "  * whether to incorporate the measurements with a missing unit concept id so that we can work with a larger portion of the cohort\n",
    "  * the NIH has a newer calculation for LDL, we should decide whether to use it\n",
    "\n",
    "\n",
    "Friedewald formula \n",
    "`(LDL-c (mg/dL) = TC (mg/dL) − HDL-c (mg/dL) − TG (mg/dL)/5)`\n",
    "\n",
    "1.\tLDL adjustment based on TG/LDL values \n",
    "  1.\t`If TG > 400, then LDL = NA`\n",
    "  2.\t`If LDL < 10, then LDL=NA`\n",
    "2.\tLDL and TC adjustment based on Statin (Lipid lowering medication)\n",
    "  1.\t`If STATIN is used, LDL_ADJ = LDL/0.7`\n",
    "  2.\t`If STATIN is used, TOTAL_ADJ = TC/0.8`\n",
    "3.\tTG adjustment\n",
    "  1.\t`TG_LOG = log(TG)`\n",
    "4.\tCalculation of residuals – residuals calculated by adjusting for covariates \n",
    "  1.\tresidual calculation Example for LDL: `tmp.ldl$LDL_ADJ.resid <- resid(lm(LDL_ADJ ~ sex+age+age2+PC1+PC2+PC3+PC4+PC5+PC6+PC7+PC8+PC9+PC10+PC11, data = tmp.ldl))`\n",
    "5.\tnormalization Example for LDL: `tmp.ldl$LDL_ADJ.norm <- sd(tmp.ldl$LDL_ADJ)*scale(qnorm((rank(tmp.ldl$LDL_ADJ.resid,na.last=\"keep\")-0.5)/length(tmp.ldl$LDL_ADJ.resid)))`"
   ]
  },
  {
   "cell_type": "markdown",
   "metadata": {},
   "source": [
    "# Setup \n",
    "\n",
    "<div class=\"alert alert-block alert-warning\">\n",
    "    <b>Cloud Environment</b>: This notebook was written for use on the All of Us Workbench. It runs fine on the default Cloud Environment. \n",
    "</div>"
   ]
  },
  {
   "cell_type": "code",
   "execution_count": null,
   "metadata": {},
   "outputs": [],
   "source": [
    "lapply(c('viridis', 'ggthemes', 'skimr', 'fuzzyjoin'),\n",
    "       function(pkg_name) { if(! pkg_name %in% installed.packages()) { install.packages(pkg_name)} } )\n",
    "lapply(c('IRanges'),\n",
    "       function(pkg_name) { if(! pkg_name %in% installed.packages()) { BiocManager::install(pkg_name)} } )\n",
    "\n",
    "library(viridis)    # A nice color scheme for plots.\n",
    "library(ggthemes)   # Common themes to change the look and feel of plots.\n",
    "library(scales)     # Graphical scales map data to aesthetics in plots.\n",
    "library(skimr)      # Better summaries of data.\n",
    "library(lubridate)  # Date library from the tidyverse.\n",
    "library(bigrquery)  # BigQuery R client.\n",
    "library(tidyverse)  # Data wrangling packages.\n",
    "library(fuzzyjoin)\n",
    "library(lubridate)"
   ]
  },
  {
   "cell_type": "code",
   "execution_count": null,
   "metadata": {},
   "outputs": [],
   "source": [
    "## BigQuery setup.\n",
    "BILLING_PROJECT_ID <- Sys.getenv('GOOGLE_PROJECT')\n",
    "# Get the BigQuery curated dataset for the current workspace context.\n",
    "CDR <- Sys.getenv('WORKSPACE_CDR')\n",
    "\n",
    "WORKSPACE_BUCKET <- Sys.getenv('WORKSPACE_BUCKET')\n",
    "\n",
    "## Plot setup.\n",
    "theme_set(theme_bw(base_size = 16)) # Default theme for plots.\n",
    "\n",
    "#' Returns a data frame with a y position and a label, for use annotating ggplot boxplots.\n",
    "#'\n",
    "#' @param d A data frame.\n",
    "#' @return A data frame with column y as max and column label as length.\n",
    "get_boxplot_fun_data <- function(df) {\n",
    "  return(data.frame(y = max(df), label = stringr::str_c('N = ', length(df))))\n",
    "}"
   ]
  },
  {
   "cell_type": "markdown",
   "metadata": {},
   "source": [
    "# Retrieve genomics alpha2 cohort"
   ]
  },
  {
   "cell_type": "code",
   "execution_count": null,
   "metadata": {},
   "outputs": [],
   "source": [
    "participants_with_genomic_data <- read_csv(\n",
    "    pipe(str_glue('gsutil cat {WORKSPACE_BUCKET}/data/researchIDsAlpha2Release_04272021.txt')),\n",
    "    col_names = c('person_id')\n",
    ")\n",
    "\n",
    "dim(participants_with_genomic_data)"
   ]
  },
  {
   "cell_type": "code",
   "execution_count": null,
   "metadata": {},
   "outputs": [],
   "source": [
    "head(participants_with_genomic_data)"
   ]
  },
  {
   "cell_type": "markdown",
   "metadata": {},
   "source": [
    "# Retrieve most recent lipids measurements\n",
    "\n",
    "This CSV was created in notebook `aou_lipids_phenotypes.ipynb`."
   ]
  },
  {
   "cell_type": "code",
   "execution_count": null,
   "metadata": {},
   "outputs": [],
   "source": [
    "most_recent_lipids_measurements_df <- read_csv(\n",
    "    pipe(str_glue('gsutil cat {WORKSPACE_BUCKET}/data/most_recent_lipids_measurements.csv')))"
   ]
  },
  {
   "cell_type": "markdown",
   "metadata": {},
   "source": [
    "## Full cohort summary"
   ]
  },
  {
   "cell_type": "code",
   "execution_count": null,
   "metadata": {},
   "outputs": [],
   "source": [
    "most_recent_lipids_measurements_df %>%\n",
    "    group_by(title) %>%\n",
    "    summarize(\n",
    "        count = n(),\n",
    "        missing = sum(is.na(value_as_number)),\n",
    "        median = median(value_as_number, na.rm = TRUE),\n",
    "        mean = mean(value_as_number, na.rm = TRUE),\n",
    "        stddev = sd(value_as_number, na.rm = TRUE)\n",
    "    )"
   ]
  },
  {
   "cell_type": "markdown",
   "metadata": {},
   "source": [
    "## Genomics cohort summary"
   ]
  },
  {
   "cell_type": "code",
   "execution_count": null,
   "metadata": {},
   "outputs": [],
   "source": [
    "most_recent_lipids_measurements_df %>%\n",
    "    filter(person_id %in% participants_with_genomic_data$person_id) %>%\n",
    "    group_by(title) %>%\n",
    "    summarize(\n",
    "        count = n(),\n",
    "        missing = sum(is.na(value_as_number)),\n",
    "        median = median(value_as_number, na.rm = TRUE),\n",
    "        mean = mean(value_as_number, na.rm = TRUE),\n",
    "        stddev = sd(value_as_number, na.rm = TRUE)\n",
    "    )"
   ]
  },
  {
   "cell_type": "markdown",
   "metadata": {},
   "source": [
    "# Retrieve statin drug exposures\n",
    "\n",
    "These CSVs are from notebook `aou_participants_with_statin_use.ipynb`."
   ]
  },
  {
   "cell_type": "markdown",
   "metadata": {},
   "source": [
    "## Individual statin drug exposures"
   ]
  },
  {
   "cell_type": "code",
   "execution_count": null,
   "metadata": {},
   "outputs": [],
   "source": [
    "statin_use_df <- read_csv(\n",
    "    pipe(str_glue('gsutil cat {WORKSPACE_BUCKET}/data/participants_with_statin_use.csv')),\n",
    "    col_types = cols(\n",
    "        DRUG_EXPOSURE_START_DATETIME = col_datetime(format = '%Y/%m/%d %H:%M:%S'),\n",
    "        DRUG_EXPOSURE_END_DATETIME = col_datetime(format = '%Y/%m/%d %H:%M:%S')),\n",
    "    guess_max = 25000\n",
    ")\n",
    "\n",
    "dim(statin_use_df)"
   ]
  },
  {
   "cell_type": "code",
   "execution_count": null,
   "metadata": {},
   "outputs": [],
   "source": [
    "head(statin_use_df)"
   ]
  },
  {
   "cell_type": "markdown",
   "metadata": {},
   "source": [
    "## Statin drug exposures summarized per person"
   ]
  },
  {
   "cell_type": "code",
   "execution_count": null,
   "metadata": {},
   "outputs": [],
   "source": [
    "statin_use_summary_df <- read_csv(\n",
    "    pipe(str_glue('gsutil cat {WORKSPACE_BUCKET}/data/participants_with_statin_use_summary.csv')),\n",
    "    col_types = cols(\n",
    "        first_use = col_datetime(format = '%Y/%m/%d %H:%M:%S'),\n",
    "        last_use_start = col_datetime(format = '%Y/%m/%d %H:%M:%S'),\n",
    "        last_use_end = col_datetime(format = '%Y/%m/%d %H:%M:%S')),\n",
    "    guess_max = 25000\n",
    ")\n",
    "\n",
    "dim(statin_use_summary_df)"
   ]
  },
  {
   "cell_type": "code",
   "execution_count": null,
   "metadata": {},
   "outputs": [],
   "source": [
    "head(statin_use_summary_df)"
   ]
  },
  {
   "cell_type": "markdown",
   "metadata": {},
   "source": [
    "# Merge measurements with statin use"
   ]
  },
  {
   "cell_type": "markdown",
   "metadata": {},
   "source": [
    "<div class=\"alert alert-block alert-info\">\n",
    "In the merge below we do the following  to keep the memory requirements for R lower:<ol>\n",
    "    <li>only use the 22k participants in the genomics alpha2 release</li>\n",
    "    <li>merge ldl and total cholesterol separately, as opposed to merging statin use with all the lipids measurments</li>\n",
    "    </ol>\n",
    "        \n",
    "To run the merge at scale on the entire cohort and all the lipids measurements, we'll need to use a machine with more RAM or use BigQuery to do the merge.\n",
    "</div>"
   ]
  },
  {
   "cell_type": "markdown",
   "metadata": {},
   "source": [
    "## Merge with drug exposures summarized per person"
   ]
  },
  {
   "cell_type": "code",
   "execution_count": null,
   "metadata": {},
   "outputs": [],
   "source": [
    "        statin_use_summary_df %>%\n",
    "        mutate(\n",
    "            statin_use_start_date = as_date(first_use),\n",
    "            # Fill NAs.\n",
    "            statin_use_end_date = case_when(\n",
    "                is.na(last_use_end) ~ as_date(last_use_start),\n",
    "                TRUE ~ as_date(last_use_end)\n",
    "                ),\n",
    "            statin_use_end_date1 = as_date(ifelse(is.na(last_use_end), last_use_start, last_use_end))\n",
    "        ) %>%\n",
    "        select(first_use, last_use_start, last_use_end, statin_use_start_date, statin_use_end_date)"
   ]
  },
  {
   "cell_type": "code",
   "execution_count": null,
   "metadata": {},
   "outputs": [],
   "source": [
    "ldl_with_exposure_summary <- most_recent_lipids_measurements_df %>%\n",
    "    filter(title == 'Cholesterol in LDL [Mass/volume] in Serum or Plasma by calculation [milligram per deciliter]') %>%\n",
    "    mutate(\n",
    "        date = as_date(measurement_date)\n",
    "    ) %>%\n",
    "    filter(person_id %in% participants_with_genomic_data$person_id) %>%\n",
    "    fuzzy_left_join(\n",
    "        statin_use_summary_df %>%\n",
    "        mutate(\n",
    "            statin_use_start_date = as_date(first_use),\n",
    "            # Fill NAs.\n",
    "            statin_use_end_date = case_when(\n",
    "                is.na(last_use_end) ~ as_date(last_use_start),\n",
    "                TRUE ~ as_date(last_use_end)\n",
    "                ),\n",
    "        ) %>%\n",
    "        filter(PERSON_ID %in% participants_with_genomic_data$person_id),\n",
    "        by = c('person_id' = 'PERSON_ID',\n",
    "               'date' = 'statin_use_start_date',\n",
    "               'date' = 'statin_use_end_date'),\n",
    "        match_fun = list(`==`, `>=`, `<=`)\n",
    "    )\n",
    "\n",
    "dim(ldl_with_exposure_summary)"
   ]
  },
  {
   "cell_type": "code",
   "execution_count": null,
   "metadata": {},
   "outputs": [],
   "source": [
    "# Confirm that after the merge, we still have one row per participant.\n",
    "stopifnot(\n",
    "    nrow(most_recent_lipids_measurements_df %>%\n",
    "         filter(title == 'Cholesterol in LDL [Mass/volume] in Serum or Plasma by calculation [milligram per deciliter]') %>%\n",
    "         filter(person_id %in% participants_with_genomic_data$person_id))\n",
    "    ==\n",
    "    nrow(ldl_with_exposure_summary))"
   ]
  },
  {
   "cell_type": "code",
   "execution_count": null,
   "metadata": {},
   "outputs": [],
   "source": [
    "# Check the merge.\n",
    "ldl_with_exposure_summary %>%\n",
    "  mutate(\n",
    "      statin_use = !is.na(statin_use_start_date)\n",
    "  ) %>%\n",
    "  select(person_id, PERSON_ID, statin_use, measurement_date, statin_use_start_date, statin_use_end_date) %>%\n",
    "  head(n = 20)"
   ]
  },
  {
   "cell_type": "markdown",
   "metadata": {},
   "source": [
    "Take a look at the distribution of statin use for our indicator variable."
   ]
  },
  {
   "cell_type": "code",
   "execution_count": null,
   "metadata": {},
   "outputs": [],
   "source": [
    "ldl_with_exposure_summary %>%\n",
    "  mutate(\n",
    "      statin_use = !is.na(statin_use_start_date)\n",
    "  ) %>%\n",
    "  group_by(title, statin_use) %>%\n",
    "  summarize(\n",
    "      count = n(),\n",
    "      missing = sum(is.na(value_as_number)),\n",
    "      median = median(value_as_number, na.rm = TRUE),\n",
    "      mean = mean(value_as_number, na.rm = TRUE),\n",
    "      stddev = sd(value_as_number, na.rm = TRUE)\n",
    "  )"
   ]
  },
  {
   "cell_type": "code",
   "execution_count": null,
   "metadata": {},
   "outputs": [],
   "source": [
    "options(repr.plot.height = 16, repr.plot.width = 16)\n",
    "\n",
    "ldl_with_exposure_summary %>%\n",
    "    filter(value_as_number > 0) %>% # Get rid of nonsensical outliers.\n",
    "    mutate(\n",
    "        age_at_measurement = year(as.period(interval(start = birth_datetime, end = measurement_date))),\n",
    "        statin_use = !is.na(statin_use_start_date)\n",
    "    ) %>%\n",
    "    # Exclude measurements taken during childhood.\n",
    "    filter(age_at_measurement > 20) %>%\n",
    "    ggplot(aes(x = cut_width(age_at_measurement, width = 10, boundary = 0), y = value_as_number, fill = statin_use)) +\n",
    "    geom_boxplot() +\n",
    "    stat_summary(fun.data = get_boxplot_fun_data, geom = 'text', size = 4,\n",
    "                 position = position_dodge(width = 0.9), vjust = -0.8) +\n",
    "    scale_y_continuous(breaks = scales::pretty_breaks(n = 10)) +\n",
    "#    scale_y_log10(breaks = scales::pretty_breaks(n = 10)) +  # Uncomment if the data looks skewed.\n",
    "    coord_flip() +\n",
    "    facet_wrap(~ title, nrow = length(unique(ldl_with_exposure_summary$title)), scales = 'free_x') +\n",
    "    xlab('age') +\n",
    "    labs(title = str_glue('Most recent measurement per person, by age'),\n",
    "         caption = 'Source: All Of Us Data')"
   ]
  },
  {
   "cell_type": "markdown",
   "metadata": {},
   "source": [
    "## Merge with individual drug exposures"
   ]
  },
  {
   "cell_type": "code",
   "execution_count": null,
   "metadata": {},
   "outputs": [],
   "source": [
    "ldl_with_overlapping_exposures <- most_recent_lipids_measurements_df %>%\n",
    "    filter(title == 'Cholesterol in LDL [Mass/volume] in Serum or Plasma by calculation [milligram per deciliter]') %>%\n",
    "    mutate(\n",
    "        date = as_date(measurement_date)\n",
    "    ) %>%\n",
    "    filter(person_id %in% participants_with_genomic_data$person_id) %>%\n",
    "    fuzzy_left_join(\n",
    "        statin_use_df %>%\n",
    "        filter(PERSON_ID %in% participants_with_genomic_data$person_id) %>%\n",
    "        mutate(\n",
    "            statin_use_start_date = as_date(DRUG_EXPOSURE_START_DATETIME),\n",
    "            statin_use_end_date = as_date(DRUG_EXPOSURE_END_DATETIME)\n",
    "    ),\n",
    "        by = c('person_id' = 'PERSON_ID',\n",
    "               'date' = 'statin_use_start_date',\n",
    "               'date' = 'statin_use_end_date'),\n",
    "        match_fun = list(`==`, `>=`, `<=`)\n",
    "    )\n",
    "\n",
    "dim(ldl_with_overlapping_exposures)"
   ]
  },
  {
   "cell_type": "code",
   "execution_count": null,
   "metadata": {},
   "outputs": [],
   "source": [
    "# After this merge, we'll have multiple rows per person. Consolidate into one row.\n",
    "ldl_with_overlapping_exposures %>%\n",
    "    group_by(person_id, title, measurement_date, value_as_number) %>%\n",
    "    summarize(\n",
    "        first_use = min(DRUG_EXPOSURE_START_DATETIME),\n",
    "        last_use_start = max(DRUG_EXPOSURE_START_DATETIME),\n",
    "        last_use_end = max(DRUG_EXPOSURE_END_DATETIME),\n",
    "        statin_rx_count = sum(!is.na(STANDARD_CONCEPT_CODE)),\n",
    "        statin_drugs = str_c(sort(unique(STANDARD_CONCEPT_NAME)), collapse = ', ')\n",
    "    )"
   ]
  },
  {
   "cell_type": "markdown",
   "metadata": {},
   "source": [
    "### TODO(deflaux) finish refactoring this section "
   ]
  },
  {
   "cell_type": "markdown",
   "metadata": {},
   "source": [
    "Just test the logic on a small set of participants. To do this at scale, we'll need to use a machine with more RAM or use BigQuery to do the JOIN."
   ]
  },
  {
   "cell_type": "raw",
   "metadata": {},
   "source": [
    "# Use this for test with everyone on both sides of the join.\n",
    "#(a_few_eids = intersect(most_recent_lipids_measurements_df$person_id,\n",
    "#                        statin_use_df$PERSON_ID) %>% head(50))"
   ]
  },
  {
   "cell_type": "code",
   "execution_count": null,
   "metadata": {},
   "outputs": [],
   "source": [
    "# Use this for a test to include some participants with no statin drug exposures.\n",
    "(a_few_eids = most_recent_lipids_measurements_df$person_id %>% head(100))"
   ]
  },
  {
   "cell_type": "code",
   "execution_count": null,
   "metadata": {},
   "outputs": [],
   "source": [
    "ldl <- most_recent_lipids_measurements_df %>%\n",
    "    filter(title == 'Cholesterol in LDL [Mass/volume] in Serum or Plasma by calculation [milligram per deciliter]') %>%\n",
    "#    filter(person_id %in% a_few_eids) %>%\n",
    "    filter(person_id %in% participants_with_genomic_data$person_id) %>%\n",
    "    mutate(\n",
    "        date = as_date(measurement_date)\n",
    "    )\n",
    "\n",
    "dim(ldl)"
   ]
  },
  {
   "cell_type": "code",
   "execution_count": null,
   "metadata": {},
   "outputs": [],
   "source": [
    "length(unique(ldl$person_id))"
   ]
  },
  {
   "cell_type": "code",
   "execution_count": null,
   "metadata": {},
   "outputs": [],
   "source": [
    "statin <- statin_use_df %>%\n",
    "    filter(PERSON_ID %in% a_few_eids) %>%\n",
    "    mutate(\n",
    "        start_date = as_date(DRUG_EXPOSURE_START_DATETIME),\n",
    "        end_date = as_date(DRUG_EXPOSURE_END_DATETIME)\n",
    "    )\n",
    "\n",
    "dim(statin)"
   ]
  },
  {
   "cell_type": "code",
   "execution_count": null,
   "metadata": {},
   "outputs": [],
   "source": [
    "length(unique(statin$PERSON_ID))"
   ]
  },
  {
   "cell_type": "code",
   "execution_count": null,
   "metadata": {},
   "outputs": [],
   "source": [
    "overlap <- ldl %>%\n",
    "    fuzzy_left_join(\n",
    "        statin,\n",
    "        by = c('person_id' = 'PERSON_ID',\n",
    "               'date' = 'start_date',\n",
    "               'date' = 'end_date'),\n",
    "        match_fun = list(`==`, `>=`, `<=`)\n",
    "    )\n",
    "\n",
    "dim(overlap)"
   ]
  },
  {
   "cell_type": "code",
   "execution_count": null,
   "metadata": {},
   "outputs": [],
   "source": [
    "length(unique(overlap$person_id))"
   ]
  },
  {
   "cell_type": "code",
   "execution_count": null,
   "metadata": {},
   "outputs": [],
   "source": [
    "overlap %>%\n",
    "    group_by(person_id, title, measurement_date, value_as_number) %>%\n",
    "    summarize(\n",
    "        first_use = min(DRUG_EXPOSURE_START_DATETIME),\n",
    "        last_use_start = max(DRUG_EXPOSURE_START_DATETIME),\n",
    "        last_use_end = max(DRUG_EXPOSURE_END_DATETIME),\n",
    "        statin_rx_count = sum(!is.na(STANDARD_CONCEPT_CODE)),\n",
    "        statin_drugs = str_c(sort(unique(STANDARD_CONCEPT_NAME)), collapse = ', ')\n",
    "    )"
   ]
  },
  {
   "cell_type": "code",
   "execution_count": null,
   "metadata": {},
   "outputs": [],
   "source": [
    "head(overlap)"
   ]
  },
  {
   "cell_type": "markdown",
   "metadata": {},
   "source": [
    "# Apply Friedewald formula \n",
    "\n",
    "TODO"
   ]
  },
  {
   "cell_type": "markdown",
   "metadata": {},
   "source": [
    "# Normalize values\n",
    "\n",
    "TODO"
   ]
  },
  {
   "cell_type": "markdown",
   "metadata": {},
   "source": [
    "# Provenance "
   ]
  },
  {
   "cell_type": "code",
   "execution_count": null,
   "metadata": {},
   "outputs": [],
   "source": [
    "devtools::session_info()"
   ]
  }
 ],
 "metadata": {
  "kernelspec": {
   "display_name": "R",
   "language": "R",
   "name": "ir"
  },
  "language_info": {
   "codemirror_mode": "r",
   "file_extension": ".r",
   "mimetype": "text/x-r-source",
   "name": "R",
   "pygments_lexer": "r",
   "version": "4.0.3"
  },
  "toc": {
   "base_numbering": 1,
   "nav_menu": {},
   "number_sections": true,
   "sideBar": true,
   "skip_h1_title": false,
   "title_cell": "Table of Contents",
   "title_sidebar": "Contents",
   "toc_cell": false,
   "toc_position": {
    "height": "calc(100% - 180px)",
    "left": "10px",
    "top": "150px",
    "width": "352px"
   },
   "toc_section_display": true,
   "toc_window_display": true
  }
 },
 "nbformat": 4,
 "nbformat_minor": 2
}

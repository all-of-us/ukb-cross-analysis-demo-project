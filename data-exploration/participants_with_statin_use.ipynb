{
 "cells": [
  {
   "cell_type": "markdown",
   "metadata": {},
   "source": [
    "# Participants with statin use\n",
    "\n",
    "In this notebook we review and explore the data for participants with statin use.\n",
    "\n",
    "<div class=\"alert alert-block alert-success\">\n",
    "This notebook was exported from dataset \"Participants with statin use\" and further modified.\n",
    "</div>\n",
    "\n",
    "See also:\n",
    "* statin drug [concept set](https://preprod-workbench.researchallofus.org/workspaces/aou-rw-preprod-e2a365a8/pooledanalysisofallofusandukbiobankgenomicdata/data/concepts/sets/53)\n",
    "* participants with statin use [dataset](https://preprod-workbench.researchallofus.org/workspaces/aou-rw-preprod-e2a365a8/pooledanalysisofallofusandukbiobankgenomicdata/data/data-sets/70)\n",
    "\n",
    "TODOs\n",
    "  * the current set of concept codes are pulling in some non-statin medications such as B-vitamins which include niacin\n",
    "  * determine whether any particular drug exposures should be discarded (e.g., those too short in duration)\n",
    "  * many drug exposures have an NA for DRUG_EXPOSURE_END_DATETIME, consider filling that in for certain categories such as "
   ]
  },
  {
   "cell_type": "markdown",
   "metadata": {},
   "source": [
    "# Retrieve the dataset created by dataset builder "
   ]
  },
  {
   "cell_type": "code",
   "execution_count": null,
   "metadata": {},
   "outputs": [],
   "source": [
    "library(bigrquery)\n",
    "\n",
    "# This query represents dataset \"Participants with statin use\" for domain \"drug\" and was \n",
    "# generated for All of Us Dataset v5.\n",
    "dataset_01268909_drug_sql <- paste(\"\n",
    "    SELECT\n",
    "        d_exposure.SIG,\n",
    "        d_exposure.VERBATIM_END_DATE,\n",
    "        d_exposure.ROUTE_SOURCE_VALUE,\n",
    "        d_exposure.ROUTE_CONCEPT_ID,\n",
    "        d_exposure.DRUG_CONCEPT_ID,\n",
    "        d_exposure.DRUG_EXPOSURE_START_DATETIME,\n",
    "        d_exposure.DRUG_TYPE_CONCEPT_ID,\n",
    "        d_exposure.VISIT_OCCURRENCE_ID,\n",
    "        d_exposure.DRUG_SOURCE_VALUE,\n",
    "        d_exposure.DAYS_SUPPLY,\n",
    "        d_exposure.QUANTITY,\n",
    "        d_exposure.REFILLS,\n",
    "        d_exposure.DOSE_UNIT_SOURCE_VALUE,\n",
    "        d_exposure.LOT_NUMBER,\n",
    "        d_exposure.DRUG_EXPOSURE_END_DATETIME,\n",
    "        d_exposure.PERSON_ID,\n",
    "        d_exposure.DRUG_SOURCE_CONCEPT_ID,\n",
    "        d_exposure.STOP_REASON,\n",
    "        d_route.concept_name as ROUTE_CONCEPT_NAME,\n",
    "        d_type.concept_name as DRUG_TYPE_CONCEPT_NAME,\n",
    "        d_standard_concept.concept_code as STANDARD_CONCEPT_CODE,\n",
    "        d_standard_concept.vocabulary_id as STANDARD_VOCABULARY,\n",
    "        d_standard_concept.concept_name as STANDARD_CONCEPT_NAME,\n",
    "        d_source_concept.concept_code as SOURCE_CONCEPT_CODE,\n",
    "        d_source_concept.concept_name as SOURCE_CONCEPT_NAME,\n",
    "        d_source_concept.vocabulary_id as SOURCE_VOCABULARY,\n",
    "        d_visit.concept_name as VISIT_OCCURRENCE_CONCEPT_NAME \n",
    "    from\n",
    "        ( SELECT\n",
    "            * \n",
    "        from\n",
    "            `drug_exposure` d_exposure \n",
    "        WHERE\n",
    "            (\n",
    "                drug_concept_id in  (\n",
    "                    select\n",
    "                        distinct ca.descendant_id \n",
    "                    from\n",
    "                        `cb_criteria_ancestor` ca \n",
    "                    join\n",
    "                        (\n",
    "                            select\n",
    "                                distinct c.concept_id \n",
    "                            from\n",
    "                                `cb_criteria` c \n",
    "                            join\n",
    "                                (\n",
    "                                    select\n",
    "                                        cast(cr.id as string) as id \n",
    "                                    from\n",
    "                                        `cb_criteria` cr \n",
    "                                    where\n",
    "                                        domain_id = 'DRUG' \n",
    "                                        and is_standard = 1 \n",
    "                                        and concept_id in (\n",
    "                                            46287466, 1551860, 1549686, 1592085, 1592180, 1545958, 1526475, 1332418, 46275447, 1510813, 40165636, 1517824, 1539403\n",
    "                                        ) \n",
    "                                        and is_selectable = 1 \n",
    "                                        and full_text like '%[drug_rank1]%'\n",
    "                                ) a \n",
    "                                    on (\n",
    "                                        c.path like concat('%.',\n",
    "                                    a.id,\n",
    "                                    '.%') \n",
    "                                    or c.path like concat('%.',\n",
    "                                    a.id)) \n",
    "                                where\n",
    "                                    domain_id = 'DRUG' \n",
    "                                    and is_standard = 1 \n",
    "                                    and is_selectable = 1\n",
    "                                ) b \n",
    "                                    on (\n",
    "                                        ca.ancestor_id = b.concept_id\n",
    "                                    )\n",
    "                            )\n",
    "                        )\n",
    "                ) d_exposure \n",
    "        LEFT JOIN\n",
    "            `concept` d_route \n",
    "                on d_exposure.ROUTE_CONCEPT_ID = d_route.CONCEPT_ID \n",
    "        LEFT JOIN\n",
    "            `concept` d_type \n",
    "                on d_exposure.drug_type_concept_id = d_type.CONCEPT_ID \n",
    "        left join\n",
    "            `concept` d_standard_concept \n",
    "                on d_exposure.DRUG_CONCEPT_ID = d_standard_concept.CONCEPT_ID \n",
    "        LEFT JOIN\n",
    "            `concept` d_source_concept \n",
    "                on d_exposure.DRUG_SOURCE_CONCEPT_ID = d_source_concept.CONCEPT_ID \n",
    "        left join\n",
    "            `visit_occurrence` v \n",
    "                on d_exposure.VISIT_OCCURRENCE_ID = v.VISIT_OCCURRENCE_ID \n",
    "        LEFT JOIN\n",
    "            `concept` d_visit \n",
    "                on v.VISIT_CONCEPT_ID = d_visit.CONCEPT_ID\", sep=\"\")\n",
    "\n",
    "dataset_01268909_drug_df <- bq_table_download(bq_dataset_query(Sys.getenv(\"WORKSPACE_CDR\"), dataset_01268909_drug_sql, billing=Sys.getenv(\"GOOGLE_PROJECT\")), bigint=\"integer64\")"
   ]
  },
  {
   "cell_type": "code",
   "execution_count": null,
   "metadata": {},
   "outputs": [],
   "source": [
    "dim(dataset_01268909_drug_df)"
   ]
  },
  {
   "cell_type": "code",
   "execution_count": null,
   "metadata": {},
   "outputs": [],
   "source": [
    "head(dataset_01268909_drug_df, 5)"
   ]
  },
  {
   "cell_type": "markdown",
   "metadata": {},
   "source": [
    "# Setup \n",
    "\n",
    "<div class=\"alert alert-block alert-warning\">\n",
    "    <b>Cloud Environment</b>: This notebook was written for use on the All of Us Workbench. It runs fine on the default Cloud Environment. \n",
    "</div>"
   ]
  },
  {
   "cell_type": "code",
   "execution_count": null,
   "metadata": {},
   "outputs": [],
   "source": [
    "library(skimr)\n",
    "library(tidyverse)\n",
    "library(lubridate)"
   ]
  },
  {
   "cell_type": "code",
   "execution_count": null,
   "metadata": {},
   "outputs": [],
   "source": [
    "## BigQuery setup.\n",
    "BILLING_PROJECT_ID <- Sys.getenv('GOOGLE_PROJECT')\n",
    "# Get the BigQuery curated dataset for the current workspace context.\n",
    "CDR <- Sys.getenv('WORKSPACE_CDR')"
   ]
  },
  {
   "cell_type": "code",
   "execution_count": null,
   "metadata": {},
   "outputs": [],
   "source": [
    "# Shorten the name.\n",
    "drug_df <- dataset_01268909_drug_df"
   ]
  },
  {
   "cell_type": "markdown",
   "metadata": {},
   "source": [
    "# Explore the data "
   ]
  },
  {
   "cell_type": "code",
   "execution_count": null,
   "metadata": {},
   "outputs": [],
   "source": [
    "print(skim(drug_df))"
   ]
  },
  {
   "cell_type": "markdown",
   "metadata": {},
   "source": [
    "## Examine the drugs"
   ]
  },
  {
   "cell_type": "code",
   "execution_count": null,
   "metadata": {},
   "outputs": [],
   "source": [
    "exposure_counts_by_drug <- drug_df %>%\n",
    "    group_by(STANDARD_CONCEPT_NAME) %>%\n",
    "    summarize(\n",
    "        count = n()\n",
    "    ) %>%\n",
    "    arrange(desc(count))\n",
    "\n",
    "dim(exposure_counts_by_drug)"
   ]
  },
  {
   "cell_type": "code",
   "execution_count": null,
   "metadata": {},
   "outputs": [],
   "source": [
    "exposure_counts_by_drug"
   ]
  },
  {
   "cell_type": "code",
   "execution_count": null,
   "metadata": {},
   "outputs": [],
   "source": [
    "exposure_counts_by_drug %>% filter(str_detect(STANDARD_CONCEPT_NAME, '(?i)niacin'))"
   ]
  },
  {
   "cell_type": "markdown",
   "metadata": {},
   "source": [
    "<div class=\"alert alert-block alert-warning\">\n",
    "<p>In the above table, we see some drug concepts for B vitamin use, unrelated to statin use. This list of concept ids needs to be trimmed to just the relevant concepts.</p>\n",
    "\n",
    "<p>Alternatively, when we have the list of the 1,000 participant ids and determine which of those use any of these medications, we can then \"review\" that subset of the cohort to check whether their medications really do indicate statin use.</p>\n",
    "</div>"
   ]
  },
  {
   "cell_type": "markdown",
   "metadata": {},
   "source": [
    "## Examine the drug type concepts"
   ]
  },
  {
   "cell_type": "code",
   "execution_count": null,
   "metadata": {},
   "outputs": [],
   "source": [
    "drug_df %>%\n",
    "    group_by(DRUG_TYPE_CONCEPT_NAME) %>%\n",
    "    summarize(\n",
    "        count = n()\n",
    "    ) %>%\n",
    "    arrange(desc(count))"
   ]
  },
  {
   "cell_type": "markdown",
   "metadata": {},
   "source": [
    "<div class=\"alert alert-block alert-info\">\n",
    "<b>Note:</b> 'Medication list entry' and 'Patient Self-Reported Medication' appear to be strong indications of regular statin use.\n",
    "</div>"
   ]
  },
  {
   "cell_type": "markdown",
   "metadata": {},
   "source": [
    "## Examine the drug exposure durations "
   ]
  },
  {
   "cell_type": "markdown",
   "metadata": {},
   "source": [
    "For the individual drug exposures, what is the distribution of durations? Are these mostly one month long prescriptions and/or also reports of long term use?"
   ]
  },
  {
   "cell_type": "markdown",
   "metadata": {},
   "source": [
    "### All "
   ]
  },
  {
   "cell_type": "code",
   "execution_count": null,
   "metadata": {},
   "outputs": [],
   "source": [
    "drug_df %>%\n",
    "    mutate(\n",
    "        duration = as.duration(DRUG_EXPOSURE_END_DATETIME - DRUG_EXPOSURE_START_DATETIME)\n",
    "    ) %>%\n",
    "    group_by(duration) %>%\n",
    "    summarize(\n",
    "        count = n()\n",
    "    ) %>%\n",
    "    arrange(desc(count))"
   ]
  },
  {
   "cell_type": "markdown",
   "metadata": {},
   "source": [
    "<div class=\"alert alert-block alert-warning\">\n",
    "<b>Question:</b> discard all drug exposures with a short duration? (e.g. must be at least one week long)"
   ]
  },
  {
   "cell_type": "markdown",
   "metadata": {},
   "source": [
    "### Type 'Medication list entry'"
   ]
  },
  {
   "cell_type": "code",
   "execution_count": null,
   "metadata": {},
   "outputs": [],
   "source": [
    "drug_df %>%\n",
    "    filter(DRUG_TYPE_CONCEPT_NAME %in% c('Medication list entry')) %>%\n",
    "    mutate(\n",
    "        duration = as.duration(DRUG_EXPOSURE_END_DATETIME - DRUG_EXPOSURE_START_DATETIME)\n",
    "    ) %>%\n",
    "    group_by(duration) %>%\n",
    "    summarize(\n",
    "        count = n()\n",
    "    ) %>%\n",
    "    arrange(desc(count))"
   ]
  },
  {
   "cell_type": "markdown",
   "metadata": {},
   "source": [
    "<div class=\"alert alert-block alert-warning\">\n",
    "<b>Question:</b> fill NA DRUG_EXPOSURE_END_DATETIME with now()?\n",
    "</div>"
   ]
  },
  {
   "cell_type": "markdown",
   "metadata": {},
   "source": [
    "### Type 'Patient Self-Reported Medication'"
   ]
  },
  {
   "cell_type": "code",
   "execution_count": null,
   "metadata": {},
   "outputs": [],
   "source": [
    "drug_df %>%\n",
    "    filter(DRUG_TYPE_CONCEPT_NAME %in% c('Patient Self-Reported Medication')) %>%\n",
    "    mutate(\n",
    "        duration = as.duration(DRUG_EXPOSURE_END_DATETIME - DRUG_EXPOSURE_START_DATETIME)\n",
    "    ) %>%\n",
    "    group_by(duration) %>%\n",
    "    summarize(\n",
    "        count = n()\n",
    "    ) %>%\n",
    "    arrange(desc(count))"
   ]
  },
  {
   "cell_type": "markdown",
   "metadata": {},
   "source": [
    "<div class=\"alert alert-block alert-warning\">\n",
    "<b>Question:</b> fill NA DRUG_EXPOSURE_END_DATETIME with now()?\n",
    "</div>"
   ]
  },
  {
   "cell_type": "markdown",
   "metadata": {},
   "source": [
    "# Summarize the data by patient"
   ]
  },
  {
   "cell_type": "code",
   "execution_count": null,
   "metadata": {},
   "outputs": [],
   "source": [
    "drug_df %>%\n",
    "    group_by(PERSON_ID) %>%\n",
    "    summarize(\n",
    "        # Note, this is simplistically assuming continuous use.\n",
    "        first_use = min(DRUG_EXPOSURE_START_DATETIME),\n",
    "        last_use_start = max(DRUG_EXPOSURE_START_DATETIME),\n",
    "        last_use_end = max(DRUG_EXPOSURE_END_DATETIME),  # This is often NA.\n",
    "        statin_drug_rx_count = n(),\n",
    "        statin_drug_count = length(unique(STANDARD_CONCEPT_CODE)),\n",
    "        statin_drugs = str_c(sort(unique(STANDARD_CONCEPT_NAME)), collapse = ', ')\n",
    "    ) %>%\n",
    "    arrange(desc(statin_drug_count))"
   ]
  },
  {
   "cell_type": "markdown",
   "metadata": {},
   "source": [
    "# Export to CSV\n",
    "\n",
    "Export the individual drug exposures for now. Later, if the summarized information becomes more accurate, that could be exported instead."
   ]
  },
  {
   "cell_type": "code",
   "execution_count": null,
   "metadata": {},
   "outputs": [],
   "source": [
    "# This snippet assumes that you run setup first\n",
    "\n",
    "# This code saves your dataframe into a csv file in a \"data\" folder in Google Bucket\n",
    "\n",
    "# Replace df with THE NAME OF YOUR DATAFRAME\n",
    "my_dataframe <- drug_df\n",
    "\n",
    "# Replace 'test.csv' with THE NAME of the file you're going to store in the bucket (don't delete the quotation marks)\n",
    "destination_filename <- 'participants_with_statin_use.csv'\n",
    "\n",
    "########################################################################\n",
    "##\n",
    "################# DON'T CHANGE FROM HERE ###############################\n",
    "##\n",
    "########################################################################\n",
    "\n",
    "# store the dataframe in current workspace\n",
    "write_excel_csv(my_dataframe, destination_filename)\n",
    "\n",
    "# Get the bucket name\n",
    "my_bucket <- Sys.getenv('WORKSPACE_BUCKET')\n",
    "\n",
    "# Copy the file from current workspace to the bucket\n",
    "system(paste0(\"gsutil cp ./\", destination_filename, \" \", my_bucket, \"/data/\"), intern=T)\n",
    "\n",
    "# Check if file is in the bucket\n",
    "system(paste0(\"gsutil ls \", my_bucket, \"/data/*.csv\"), intern=T)\n"
   ]
  },
  {
   "cell_type": "markdown",
   "metadata": {},
   "source": [
    "# Appendix - alternate identification of statin concept codes\n",
    "\n",
    "This section of the notebook attempts to identify relevant statin use drug concept ids. It is modelled after the code found in featured workspace [Type 2 Diabetes Analysis](https://workbench.researchallofus.org/workspaces/aou-rw-c697f47e/phenotypetype2diabetes/notebooks/preview/Type%202%20Diabetes%20Analysis.ipynb)."
   ]
  },
  {
   "cell_type": "code",
   "execution_count": null,
   "metadata": {},
   "outputs": [],
   "source": [
    "## ---------------[ CHANGE THESE AS NEEDED] ---------------------------------------\n",
    "STATIN_GENERICS <- c(\n",
    "  'Atorvastatin',\n",
    "  'Fluvastatin',\n",
    "  'Lovastatin',\n",
    "  'Pravastatin',\n",
    "  'Rosuvastatin',\n",
    "  'Simvastatin',\n",
    "  'Pitavastatin',\n",
    "  'Cerivastatin',\n",
    "  'amlodipine',\n",
    "  'Niacin',\n",
    "  'Ezetimibe')  # All of these were available in cohort builder.\n",
    "\n",
    "STATIN_RX_ADJUVANT_THERAPIES <- c(\n",
    "  'ezetemibe',  # No results in cohort builder, misspelling?\n",
    "  'Zetia',  # In cohort builder, included under Ezetimibe.\n",
    "  'alirocumab',\n",
    "  'Praluent',  # In cohort builder, included under Alirocumab.\n",
    "  'evolucumab',  # No results in cohort builder, misspelling?\n",
    "  'Repatha') # In cohort builder, included under Evolocumab."
   ]
  },
  {
   "cell_type": "code",
   "execution_count": null,
   "metadata": {},
   "outputs": [],
   "source": [
    "(STATIN_DRUGS <- str_c('LOWER(c.concept_name) LIKE \"%',\n",
    "      str_to_lower(c(STATIN_GENERICS, STATIN_RX_ADJUVANT_THERAPIES)),\n",
    "     '%\"',\n",
    "     collapse = ' OR '))"
   ]
  },
  {
   "cell_type": "code",
   "execution_count": null,
   "metadata": {},
   "outputs": [],
   "source": [
    "(statin_drugs_summary_df <- bq_table_download(bq_project_query(\n",
    "    BILLING_PROJECT_ID, page_size = 25000,\n",
    "    query = str_glue('                                     \n",
    "SELECT\n",
    "    DISTINCT c2.concept_name,\n",
    "    c2.concept_code,\n",
    "    c2.concept_id\n",
    "FROM\n",
    "    `{CDR}.concept` c\n",
    "    JOIN `{CDR}.concept_ancestor` ca\n",
    "        ON c.concept_id = ca.ancestor_concept_id\n",
    "    JOIN `{CDR}.concept` c2\n",
    "        ON c2.concept_id = ca.descendant_concept_id\n",
    "WHERE\n",
    "    c.concept_class_id = \"Ingredient\"\n",
    "    AND ({STATIN_DRUGS})'))))"
   ]
  },
  {
   "cell_type": "markdown",
   "metadata": {},
   "source": [
    "<div class=\"alert alert-block alert-warning\">\n",
    "<p>In the above table, we see some drug concepts for B vitamin use, unrelated to statin use. This list of concept ids needs to be trimmed to just the relevant concepts.</p>\n",
    "\n",
    "<p>Alternatively, when we have the list of the 1,000 participant ids and determine which of those use any of these medications, we can then \"review\" that subset of the cohort to check whether their medications really do indicate statin use.</p>\n",
    "</div>"
   ]
  },
  {
   "cell_type": "code",
   "execution_count": null,
   "metadata": {},
   "outputs": [],
   "source": [
    "# This snippet assumes that you run setup first\n",
    "\n",
    "# This code saves your dataframe into a csv file in a \"data\" folder in Google Bucket\n",
    "\n",
    "# Replace df with THE NAME OF YOUR DATAFRAME\n",
    "my_dataframe <- statin_drugs_summary_df\n",
    "\n",
    "# Replace 'test.csv' with THE NAME of the file you're going to store in the bucket (don't delete the quotation marks)\n",
    "destination_filename <- 'statin_drugs_summary.csv'\n",
    "\n",
    "########################################################################\n",
    "##\n",
    "################# DON'T CHANGE FROM HERE ###############################\n",
    "##\n",
    "########################################################################\n",
    "\n",
    "# store the dataframe in current workspace\n",
    "write_excel_csv(my_dataframe, destination_filename)\n",
    "\n",
    "# Get the bucket name\n",
    "my_bucket <- Sys.getenv('WORKSPACE_BUCKET')\n",
    "\n",
    "# Copy the file from current workspace to the bucket\n",
    "system(paste0(\"gsutil cp ./\", destination_filename, \" \", my_bucket, \"/data/\"), intern=T)\n",
    "\n",
    "# Check if file is in the bucket\n",
    "system(paste0(\"gsutil ls \", my_bucket, \"/data/*.csv\"), intern=T)"
   ]
  },
  {
   "cell_type": "markdown",
   "metadata": {},
   "source": [
    "# Provenance "
   ]
  },
  {
   "cell_type": "code",
   "execution_count": null,
   "metadata": {},
   "outputs": [],
   "source": [
    "devtools::session_info()"
   ]
  }
 ],
 "metadata": {
  "kernelspec": {
   "display_name": "R",
   "language": "R",
   "name": "ir"
  },
  "language_info": {
   "codemirror_mode": "r",
   "file_extension": ".r",
   "mimetype": "text/x-r-source",
   "name": "R",
   "pygments_lexer": "r",
   "version": "4.0.3"
  },
  "toc": {
   "base_numbering": 1,
   "nav_menu": {},
   "number_sections": true,
   "sideBar": true,
   "skip_h1_title": false,
   "title_cell": "Table of Contents",
   "title_sidebar": "Contents",
   "toc_cell": false,
   "toc_position": {
    "height": "calc(100% - 180px)",
    "left": "10px",
    "top": "150px",
    "width": "211px"
   },
   "toc_section_display": true,
   "toc_window_display": true
  }
 },
 "nbformat": 4,
 "nbformat_minor": 2
}

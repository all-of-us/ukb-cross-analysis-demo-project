{
 "cells": [
  {
   "cell_type": "markdown",
   "metadata": {},
   "source": [
    "# Participants with statin use\n",
    "\n",
    "In this notebook we review and explore the data for participants with statin use.\n",
    "\n",
    "<div class=\"alert alert-block alert-success\">\n",
    "This notebook was exported from datasets \"Participants with statin use\" and \"Participants with strict statin use\", then further modified.\n",
    "</div>\n",
    "\n",
    "See also:\n",
    "* statin drug [concept set](https://preprod-workbench.researchallofus.org/workspaces/aou-rw-preprod-e2a365a8/pooledanalysisofallofusandukbiobankgenomicdata/data/concepts/sets/53)\n",
    "* participants with statin use [dataset](https://preprod-workbench.researchallofus.org/workspaces/aou-rw-preprod-e2a365a8/pooledanalysisofallofusandukbiobankgenomicdata/data/data-sets/70)\n",
    "* 'Strictly statin-only drug concepts' (drugs only with 'statin' suffix) [concept set](https://preprod-workbench.researchallofus.org/workspaces/aou-rw-preprod-e2a365a8/pooledanalysisofallofusandukbiobankgenomicdata/data/concepts/sets/59)\n",
    "* 'Participants with strict statin use' [dataset](https://preprod-workbench.researchallofus.org/workspaces/aou-rw-preprod-e2a365a8/pooledanalysisofallofusandukbiobankgenomicdata/data/data-sets/80)\n",
    "\n",
    "TODOs\n",
    "  * the current set of concept codes are pulling in some non-statin medications such as B-vitamins which include niacin\n",
    "    * section 4.1.3 shows how the data changes when we only include drugs whose name ends in suffix \"statin\"\n",
    "    * determine if we like this better or if we want to include a few additional drugs such as 'amlodipine' and 'ezetimibe'.\n",
    "  * determine whether any particular drug exposures should be discarded (e.g., those too short in duration)\n",
    "  * many drug exposures have an NA for DRUG_EXPOSURE_END_DATETIME, consider filling in those NAs\n",
    "  \n",
    "Question\n",
    "  * Should this instead be more similar to [Workspaces > Demo - Medication Sequencing > Notebooks > Medication Sequences Code](https://workbench.researchallofus.org/workspaces/aou-rw-e8aeecf1/demomedicationsequencing/notebooks/preview/Medication%20Sequences%20Code.ipynb)?\n",
    ">  * Use a simple phenotype algorithm where inclusion conditions are: with diagnosis and having been treated.\n",
    ">  * Inclusion:\n",
    ">      * Treated after the diagnosis: the medications has been prescribed within a year before the fisrt diagnosis code or within three years after the diagnosis.\n",
    ">      * Treated for at least three year and one year for participants who have thier first diagnosis code in 2016 and later: medication to treat the disease have been prescribed within three years after the first diagnosis code.\n",
    ">      * Extracted medications prescribed for one year before the diagnosis and three year after the diagnosis\n",
    ">  * Exclusion: Any participant who does not fit in the inclusion criteria.\n",
    "  * In our case, its not the diagnosis that matters necessarily. --> Its whether the intervention, taking a statin medication, was in effect at the time of the lipids measurement."
   ]
  },
  {
   "cell_type": "markdown",
   "metadata": {},
   "source": [
    "# Retrieve the drug exposures"
   ]
  },
  {
   "cell_type": "code",
   "execution_count": null,
   "metadata": {},
   "outputs": [],
   "source": [
    "library(bigrquery)"
   ]
  },
  {
   "cell_type": "markdown",
   "metadata": {},
   "source": [
    "## Retrieve \"Participants with strict statin use\" dataset created by dataset builder "
   ]
  },
  {
   "cell_type": "code",
   "execution_count": null,
   "metadata": {},
   "outputs": [],
   "source": [
    "# This query represents dataset \"Participants with strict statin use\" for domain \"drug\" and \n",
    "# was generated for All of Us Registered Tier Dataset v4\n",
    "dataset_92184354_drug_sql <- paste(\"\n",
    "    SELECT\n",
    "        d_exposure.PERSON_ID,\n",
    "        d_exposure.ROUTE_SOURCE_VALUE,\n",
    "        d_exposure.DRUG_CONCEPT_ID,\n",
    "        d_exposure.DRUG_EXPOSURE_START_DATETIME,\n",
    "        d_exposure.SIG,\n",
    "        d_exposure.ROUTE_CONCEPT_ID,\n",
    "        d_exposure.DRUG_SOURCE_CONCEPT_ID,\n",
    "        d_exposure.DRUG_SOURCE_VALUE,\n",
    "        d_exposure.LOT_NUMBER,\n",
    "        d_exposure.VERBATIM_END_DATE,\n",
    "        d_exposure.REFILLS,\n",
    "        d_exposure.DAYS_SUPPLY,\n",
    "        d_exposure.DOSE_UNIT_SOURCE_VALUE,\n",
    "        d_exposure.QUANTITY,\n",
    "        d_exposure.DRUG_TYPE_CONCEPT_ID,\n",
    "        d_exposure.VISIT_OCCURRENCE_ID,\n",
    "        d_exposure.STOP_REASON,\n",
    "        d_exposure.DRUG_EXPOSURE_END_DATETIME,\n",
    "        d_route.concept_name as ROUTE_CONCEPT_NAME,\n",
    "        d_type.concept_name as DRUG_TYPE_CONCEPT_NAME,\n",
    "        d_standard_concept.concept_code as STANDARD_CONCEPT_CODE,\n",
    "        d_standard_concept.concept_name as STANDARD_CONCEPT_NAME,\n",
    "        d_standard_concept.vocabulary_id as STANDARD_VOCABULARY,\n",
    "        d_source_concept.vocabulary_id as SOURCE_VOCABULARY,\n",
    "        d_source_concept.concept_name as SOURCE_CONCEPT_NAME,\n",
    "        d_source_concept.concept_code as SOURCE_CONCEPT_CODE,\n",
    "        d_visit.concept_name as VISIT_OCCURRENCE_CONCEPT_NAME \n",
    "    from\n",
    "        ( SELECT\n",
    "            * \n",
    "        from\n",
    "            `drug_exposure` d_exposure \n",
    "        WHERE\n",
    "            (\n",
    "                drug_concept_id in  (\n",
    "                    select\n",
    "                        distinct ca.descendant_id \n",
    "                    from\n",
    "                        `cb_criteria_ancestor` ca \n",
    "                    join\n",
    "                        (\n",
    "                            select\n",
    "                                distinct c.concept_id \n",
    "                            from\n",
    "                                `cb_criteria` c \n",
    "                            join\n",
    "                                (\n",
    "                                    select\n",
    "                                        cast(cr.id as string) as id \n",
    "                                    from\n",
    "                                        `cb_criteria` cr \n",
    "                                    where\n",
    "                                        domain_id = 'DRUG' \n",
    "                                        and is_standard = 1 \n",
    "                                        and concept_id in (\n",
    "                                            1545958, 1551860, 1549686, 1510813, 1592085, 40165636, 1539403, 1592180\n",
    "                                        ) \n",
    "                                        and is_selectable = 1 \n",
    "                                        and full_text like '%[drug_rank1]%'\n",
    "                                ) a \n",
    "                                    on (\n",
    "                                        c.path like concat('%.',\n",
    "                                    a.id,\n",
    "                                    '.%') \n",
    "                                    or c.path like concat('%.',\n",
    "                                    a.id)) \n",
    "                                where\n",
    "                                    domain_id = 'DRUG' \n",
    "                                    and is_standard = 1 \n",
    "                                    and is_selectable = 1\n",
    "                                ) b \n",
    "                                    on (\n",
    "                                        ca.ancestor_id = b.concept_id\n",
    "                                    )\n",
    "                            )\n",
    "                        )\n",
    "                ) d_exposure \n",
    "        LEFT JOIN\n",
    "            `concept` d_route \n",
    "                on d_exposure.ROUTE_CONCEPT_ID = d_route.CONCEPT_ID \n",
    "        LEFT JOIN\n",
    "            `concept` d_type \n",
    "                on d_exposure.drug_type_concept_id = d_type.CONCEPT_ID \n",
    "        left join\n",
    "            `concept` d_standard_concept \n",
    "                on d_exposure.DRUG_CONCEPT_ID = d_standard_concept.CONCEPT_ID \n",
    "        LEFT JOIN\n",
    "            `concept` d_source_concept \n",
    "                on d_exposure.DRUG_SOURCE_CONCEPT_ID = d_source_concept.CONCEPT_ID \n",
    "        left join\n",
    "            `visit_occurrence` v \n",
    "                on d_exposure.VISIT_OCCURRENCE_ID = v.VISIT_OCCURRENCE_ID \n",
    "        LEFT JOIN\n",
    "            `concept` d_visit \n",
    "                on v.VISIT_CONCEPT_ID = d_visit.CONCEPT_ID\", sep=\"\")\n",
    "\n",
    "dataset_92184354_drug_df <- bq_table_download(bq_dataset_query(Sys.getenv(\"WORKSPACE_CDR\"), dataset_92184354_drug_sql, billing=Sys.getenv(\"GOOGLE_PROJECT\")), bigint=\"integer64\")"
   ]
  },
  {
   "cell_type": "code",
   "execution_count": null,
   "metadata": {},
   "outputs": [],
   "source": [
    "dim(dataset_92184354_drug_df)"
   ]
  },
  {
   "cell_type": "markdown",
   "metadata": {},
   "source": [
    "## Retrieve \"Participants with statin use\" dataset created by dataset builder "
   ]
  },
  {
   "cell_type": "code",
   "execution_count": null,
   "metadata": {},
   "outputs": [],
   "source": [
    "# This query represents dataset \"Participants with statin use\" for domain \"drug\" and was \n",
    "# generated for All of Us Dataset v5.\n",
    "dataset_01268909_drug_sql <- paste(\"\n",
    "    SELECT\n",
    "        d_exposure.SIG,\n",
    "        d_exposure.VERBATIM_END_DATE,\n",
    "        d_exposure.ROUTE_SOURCE_VALUE,\n",
    "        d_exposure.ROUTE_CONCEPT_ID,\n",
    "        d_exposure.DRUG_CONCEPT_ID,\n",
    "        d_exposure.DRUG_EXPOSURE_START_DATETIME,\n",
    "        d_exposure.DRUG_TYPE_CONCEPT_ID,\n",
    "        d_exposure.VISIT_OCCURRENCE_ID,\n",
    "        d_exposure.DRUG_SOURCE_VALUE,\n",
    "        d_exposure.DAYS_SUPPLY,\n",
    "        d_exposure.QUANTITY,\n",
    "        d_exposure.REFILLS,\n",
    "        d_exposure.DOSE_UNIT_SOURCE_VALUE,\n",
    "        d_exposure.LOT_NUMBER,\n",
    "        d_exposure.DRUG_EXPOSURE_END_DATETIME,\n",
    "        d_exposure.PERSON_ID,\n",
    "        d_exposure.DRUG_SOURCE_CONCEPT_ID,\n",
    "        d_exposure.STOP_REASON,\n",
    "        d_route.concept_name as ROUTE_CONCEPT_NAME,\n",
    "        d_type.concept_name as DRUG_TYPE_CONCEPT_NAME,\n",
    "        d_standard_concept.concept_code as STANDARD_CONCEPT_CODE,\n",
    "        d_standard_concept.vocabulary_id as STANDARD_VOCABULARY,\n",
    "        d_standard_concept.concept_name as STANDARD_CONCEPT_NAME,\n",
    "        d_source_concept.concept_code as SOURCE_CONCEPT_CODE,\n",
    "        d_source_concept.concept_name as SOURCE_CONCEPT_NAME,\n",
    "        d_source_concept.vocabulary_id as SOURCE_VOCABULARY,\n",
    "        d_visit.concept_name as VISIT_OCCURRENCE_CONCEPT_NAME \n",
    "    from\n",
    "        ( SELECT\n",
    "            * \n",
    "        from\n",
    "            `drug_exposure` d_exposure \n",
    "        WHERE\n",
    "            (\n",
    "                drug_concept_id in  (\n",
    "                    select\n",
    "                        distinct ca.descendant_id \n",
    "                    from\n",
    "                        `cb_criteria_ancestor` ca \n",
    "                    join\n",
    "                        (\n",
    "                            select\n",
    "                                distinct c.concept_id \n",
    "                            from\n",
    "                                `cb_criteria` c \n",
    "                            join\n",
    "                                (\n",
    "                                    select\n",
    "                                        cast(cr.id as string) as id \n",
    "                                    from\n",
    "                                        `cb_criteria` cr \n",
    "                                    where\n",
    "                                        domain_id = 'DRUG' \n",
    "                                        and is_standard = 1 \n",
    "                                        and concept_id in (\n",
    "                                            46287466, 1551860, 1549686, 1592085, 1592180, 1545958, 1526475, 1332418, 46275447, 1510813, 40165636, 1517824, 1539403\n",
    "                                        ) \n",
    "                                        and is_selectable = 1 \n",
    "                                        and full_text like '%[drug_rank1]%'\n",
    "                                ) a \n",
    "                                    on (\n",
    "                                        c.path like concat('%.',\n",
    "                                    a.id,\n",
    "                                    '.%') \n",
    "                                    or c.path like concat('%.',\n",
    "                                    a.id)) \n",
    "                                where\n",
    "                                    domain_id = 'DRUG' \n",
    "                                    and is_standard = 1 \n",
    "                                    and is_selectable = 1\n",
    "                                ) b \n",
    "                                    on (\n",
    "                                        ca.ancestor_id = b.concept_id\n",
    "                                    )\n",
    "                            )\n",
    "                        )\n",
    "                ) d_exposure \n",
    "        LEFT JOIN\n",
    "            `concept` d_route \n",
    "                on d_exposure.ROUTE_CONCEPT_ID = d_route.CONCEPT_ID \n",
    "        LEFT JOIN\n",
    "            `concept` d_type \n",
    "                on d_exposure.drug_type_concept_id = d_type.CONCEPT_ID \n",
    "        left join\n",
    "            `concept` d_standard_concept \n",
    "                on d_exposure.DRUG_CONCEPT_ID = d_standard_concept.CONCEPT_ID \n",
    "        LEFT JOIN\n",
    "            `concept` d_source_concept \n",
    "                on d_exposure.DRUG_SOURCE_CONCEPT_ID = d_source_concept.CONCEPT_ID \n",
    "        left join\n",
    "            `visit_occurrence` v \n",
    "                on d_exposure.VISIT_OCCURRENCE_ID = v.VISIT_OCCURRENCE_ID \n",
    "        LEFT JOIN\n",
    "            `concept` d_visit \n",
    "                on v.VISIT_CONCEPT_ID = d_visit.CONCEPT_ID\", sep=\"\")\n",
    "\n",
    "dataset_01268909_drug_df <- bq_table_download(bq_dataset_query(Sys.getenv(\"WORKSPACE_CDR\"), dataset_01268909_drug_sql, billing=Sys.getenv(\"GOOGLE_PROJECT\")), bigint=\"integer64\")"
   ]
  },
  {
   "cell_type": "code",
   "execution_count": null,
   "metadata": {},
   "outputs": [],
   "source": [
    "dim(dataset_01268909_drug_df)"
   ]
  },
  {
   "cell_type": "markdown",
   "metadata": {},
   "source": [
    "## Retrieve using drug concepts from UKB analysis"
   ]
  },
  {
   "cell_type": "code",
   "execution_count": null,
   "metadata": {},
   "outputs": [],
   "source": [
    "ukb_concepts_drug_sql <- paste(\"\n",
    "    SELECT\n",
    "        d_exposure.SIG,\n",
    "        d_exposure.VERBATIM_END_DATE,\n",
    "        d_exposure.ROUTE_SOURCE_VALUE,\n",
    "        d_exposure.ROUTE_CONCEPT_ID,\n",
    "        d_exposure.DRUG_CONCEPT_ID,\n",
    "        d_exposure.DRUG_EXPOSURE_START_DATETIME,\n",
    "        d_exposure.DRUG_TYPE_CONCEPT_ID,\n",
    "        d_exposure.VISIT_OCCURRENCE_ID,\n",
    "        d_exposure.DRUG_SOURCE_VALUE,\n",
    "        d_exposure.DAYS_SUPPLY,\n",
    "        d_exposure.QUANTITY,\n",
    "        d_exposure.REFILLS,\n",
    "        d_exposure.DOSE_UNIT_SOURCE_VALUE,\n",
    "        d_exposure.LOT_NUMBER,\n",
    "        d_exposure.DRUG_EXPOSURE_END_DATETIME,\n",
    "        d_exposure.PERSON_ID,\n",
    "        d_exposure.DRUG_SOURCE_CONCEPT_ID,\n",
    "        d_exposure.STOP_REASON,\n",
    "        d_route.concept_name as ROUTE_CONCEPT_NAME,\n",
    "        d_type.concept_name as DRUG_TYPE_CONCEPT_NAME,\n",
    "        d_standard_concept.concept_code as STANDARD_CONCEPT_CODE,\n",
    "        d_standard_concept.vocabulary_id as STANDARD_VOCABULARY,\n",
    "        d_standard_concept.concept_name as STANDARD_CONCEPT_NAME,\n",
    "        d_source_concept.concept_code as SOURCE_CONCEPT_CODE,\n",
    "        d_source_concept.concept_name as SOURCE_CONCEPT_NAME,\n",
    "        d_source_concept.vocabulary_id as SOURCE_VOCABULARY,\n",
    "        d_visit.concept_name as VISIT_OCCURRENCE_CONCEPT_NAME \n",
    "    from\n",
    "        ( SELECT\n",
    "            * \n",
    "        from\n",
    "            `drug_exposure` d_exposure \n",
    "        WHERE\n",
    "             drug_concept_id in  (1140861958, 1140861970, 1140864592, 1140881748, 1140888594, 1140888648, 1140910632, 1140910654, 1141146138, 1141146234, 1141192410, 1141192414, 1141200040)\n",
    "        ) d_exposure \n",
    "        LEFT JOIN\n",
    "            `concept` d_route \n",
    "                on d_exposure.ROUTE_CONCEPT_ID = d_route.CONCEPT_ID \n",
    "        LEFT JOIN\n",
    "            `concept` d_type \n",
    "                on d_exposure.drug_type_concept_id = d_type.CONCEPT_ID \n",
    "        left join\n",
    "            `concept` d_standard_concept \n",
    "                on d_exposure.DRUG_CONCEPT_ID = d_standard_concept.CONCEPT_ID \n",
    "        LEFT JOIN\n",
    "            `concept` d_source_concept \n",
    "                on d_exposure.DRUG_SOURCE_CONCEPT_ID = d_source_concept.CONCEPT_ID \n",
    "        left join\n",
    "            `visit_occurrence` v \n",
    "                on d_exposure.VISIT_OCCURRENCE_ID = v.VISIT_OCCURRENCE_ID \n",
    "        LEFT JOIN\n",
    "            `concept` d_visit \n",
    "                on v.VISIT_CONCEPT_ID = d_visit.CONCEPT_ID\", sep=\"\")\n",
    "\n",
    "ukb_concepts_drug_df <- bq_table_download(bq_dataset_query(Sys.getenv(\"WORKSPACE_CDR\"), ukb_concepts_drug_sql, billing=Sys.getenv(\"GOOGLE_PROJECT\")), bigint=\"integer64\")"
   ]
  },
  {
   "cell_type": "code",
   "execution_count": null,
   "metadata": {},
   "outputs": [],
   "source": [
    "dim(ukb_concepts_drug_df)"
   ]
  },
  {
   "cell_type": "code",
   "execution_count": null,
   "metadata": {},
   "outputs": [],
   "source": [
    "ukb_concepts_drug_sql2 <- paste(\"\n",
    "SELECT\n",
    "  * \n",
    "FROM\n",
    "  `drug_exposure` d_exposure \n",
    "WHERE\n",
    "   drug_concept_id in  (1140861958, 1140861970, 1140864592, 1140881748, 1140888594, 1140888648, 1140910632, 1140910654, 1141146138, 1141146234, 1141192410, 1141192414, 1141200040)\n",
    "\", sep=\"\")\n",
    "\n",
    "ukb_concepts_drug_df2 <- bq_table_download(bq_dataset_query(Sys.getenv(\"WORKSPACE_CDR\"), ukb_concepts_drug_sql2, billing=Sys.getenv(\"GOOGLE_PROJECT\")), bigint=\"integer64\")"
   ]
  },
  {
   "cell_type": "code",
   "execution_count": null,
   "metadata": {},
   "outputs": [],
   "source": [
    "dim(ukb_concepts_drug_df2)"
   ]
  },
  {
   "cell_type": "markdown",
   "metadata": {},
   "source": [
    "<div class=\"alert alert-block alert-danger\">\n",
    "These UKB drug concept numbers seem to not be those used in the main drug exposures table. Perhaps they are ancestors of the concepts in the table OR from a different controlled vocabulary.\n",
    "</div>"
   ]
  },
  {
   "cell_type": "markdown",
   "metadata": {},
   "source": [
    "# Setup \n",
    "\n",
    "<div class=\"alert alert-block alert-warning\">\n",
    "    <b>Cloud Environment</b>: This notebook was written for use on the All of Us Workbench. It runs fine on the default Cloud Environment. \n",
    "</div>"
   ]
  },
  {
   "cell_type": "code",
   "execution_count": null,
   "metadata": {},
   "outputs": [],
   "source": [
    "lapply(c('skimr'),\n",
    "       function(pkg_name) { if(! pkg_name %in% installed.packages()) { install.packages(pkg_name)} } )"
   ]
  },
  {
   "cell_type": "code",
   "execution_count": null,
   "metadata": {},
   "outputs": [],
   "source": [
    "library(skimr)\n",
    "library(tidyverse)\n",
    "library(lubridate)"
   ]
  },
  {
   "cell_type": "code",
   "execution_count": null,
   "metadata": {},
   "outputs": [],
   "source": [
    "## BigQuery setup.\n",
    "BILLING_PROJECT_ID <- Sys.getenv('GOOGLE_PROJECT')\n",
    "# Get the BigQuery curated dataset for the current workspace context.\n",
    "CDR <- Sys.getenv('WORKSPACE_CDR')"
   ]
  },
  {
   "cell_type": "code",
   "execution_count": null,
   "metadata": {},
   "outputs": [],
   "source": [
    "# Shorten the names.\n",
    "drug_df <- dataset_01268909_drug_df\n",
    "strict_drug_df <- dataset_92184354_drug_df"
   ]
  },
  {
   "cell_type": "markdown",
   "metadata": {},
   "source": [
    "# Explore the data "
   ]
  },
  {
   "cell_type": "code",
   "execution_count": null,
   "metadata": {},
   "outputs": [],
   "source": [
    "print(skim(drug_df))"
   ]
  },
  {
   "cell_type": "markdown",
   "metadata": {},
   "source": [
    "## Examine the drugs"
   ]
  },
  {
   "cell_type": "markdown",
   "metadata": {},
   "source": [
    "### Statins and adjuvants"
   ]
  },
  {
   "cell_type": "code",
   "execution_count": null,
   "metadata": {},
   "outputs": [],
   "source": [
    "exposure_counts_by_drug <- drug_df %>%\n",
    "    group_by(STANDARD_CONCEPT_NAME) %>%\n",
    "    summarize(\n",
    "        count = n()\n",
    "    ) %>%\n",
    "    arrange(desc(count))\n",
    "\n",
    "dim(exposure_counts_by_drug)"
   ]
  },
  {
   "cell_type": "code",
   "execution_count": null,
   "metadata": {},
   "outputs": [],
   "source": [
    "exposure_counts_by_drug"
   ]
  },
  {
   "cell_type": "code",
   "execution_count": null,
   "metadata": {},
   "outputs": [],
   "source": [
    "exposure_counts_by_drug %>% filter(str_detect(STANDARD_CONCEPT_NAME, '(?i)niacin'))"
   ]
  },
  {
   "cell_type": "markdown",
   "metadata": {},
   "source": [
    "<div class=\"alert alert-block alert-warning\">\n",
    "<p>In the above table, we see some drug concepts for B vitamin use, unrelated to statin use. This list of concept ids needs to be trimmed to just the relevant concepts.</p>\n",
    "\n",
    "<p>Alternatively, when we have the list of the 1,000 participant ids and determine which of those use any of these medications, we can then \"review\" that subset of the cohort to check whether their medications really do indicate statin use.</p>\n",
    "</div>"
   ]
  },
  {
   "cell_type": "markdown",
   "metadata": {},
   "source": [
    "### Only drugs ending with 'statin' suffix"
   ]
  },
  {
   "cell_type": "code",
   "execution_count": null,
   "metadata": {},
   "outputs": [],
   "source": [
    "exposure_counts_by_strict_drug <- strict_drug_df %>%\n",
    "    group_by(STANDARD_CONCEPT_NAME) %>%\n",
    "    summarize(\n",
    "        count = n()\n",
    "    ) %>%\n",
    "    arrange(desc(count))\n",
    "\n",
    "dim(exposure_counts_by_strict_drug)"
   ]
  },
  {
   "cell_type": "code",
   "execution_count": null,
   "metadata": {},
   "outputs": [],
   "source": [
    "exposure_counts_by_strict_drug %>% filter(str_detect(STANDARD_CONCEPT_NAME, '(?i)niacin'))"
   ]
  },
  {
   "cell_type": "markdown",
   "metadata": {},
   "source": [
    "### Examine the difference"
   ]
  },
  {
   "cell_type": "markdown",
   "metadata": {},
   "source": [
    "#### How many fewer drug exposures?"
   ]
  },
  {
   "cell_type": "code",
   "execution_count": null,
   "metadata": {},
   "outputs": [],
   "source": [
    "nrow(drug_df) - nrow(strict_drug_df)"
   ]
  },
  {
   "cell_type": "markdown",
   "metadata": {},
   "source": [
    "#### How many fewer drugs?"
   ]
  },
  {
   "cell_type": "code",
   "execution_count": null,
   "metadata": {},
   "outputs": [],
   "source": [
    "drugs_omitted_from_strict_concept <- setdiff(exposure_counts_by_drug$STANDARD_CONCEPT_NAME,\n",
    "                                             exposure_counts_by_strict_drug$STANDARD_CONCEPT_NAME)\n",
    "\n",
    "length(drugs_omitted_from_strict_concept)"
   ]
  },
  {
   "cell_type": "code",
   "execution_count": null,
   "metadata": {},
   "outputs": [],
   "source": [
    "head(drugs_omitted_from_strict_concept, n=10)"
   ]
  },
  {
   "cell_type": "code",
   "execution_count": null,
   "metadata": {},
   "outputs": [],
   "source": [
    "# This snippet assumes that you run setup first\n",
    "\n",
    "# This code saves your dataframe into a csv file in a \"data\" folder in Google Bucket\n",
    "\n",
    "# Replace df with THE NAME OF YOUR DATAFRAME\n",
    "my_dataframe <- exposure_counts_by_drug %>% filter(STANDARD_CONCEPT_NAME %in% drugs_omitted_from_strict_concept)\n",
    "\n",
    "# Replace 'test.csv' with THE NAME of the file you're going to store in the bucket (don't delete the quotation marks)\n",
    "destination_filename <- 'statin_drugs_omitted_from_strict_concept.csv'\n",
    "\n",
    "########################################################################\n",
    "##\n",
    "################# DON'T CHANGE FROM HERE ###############################\n",
    "##\n",
    "########################################################################\n",
    "\n",
    "# store the dataframe in current workspace\n",
    "write_excel_csv(my_dataframe, destination_filename)\n",
    "\n",
    "# Get the bucket name\n",
    "my_bucket <- Sys.getenv('WORKSPACE_BUCKET')\n",
    "\n",
    "# Copy the file from current workspace to the bucket\n",
    "system(paste0(\"gsutil cp ./\", destination_filename, \" \", my_bucket, \"/data/\"), intern=T)\n",
    "\n",
    "# Check if file is in the bucket\n",
    "system(paste0(\"gsutil ls \", my_bucket, \"/data/*.csv\"), intern=T)\n"
   ]
  },
  {
   "cell_type": "markdown",
   "metadata": {},
   "source": [
    "<div class=\"alert alert-block alert-warning\">\n",
    "<b>Question:</b> take a look at the list of drugs in statin_drugs_omitted_from_strict_concept.csv. Are we okay with dropping all of those? Or are there any we would like to retain such as 'amlodipine' and 'ezetimibe'?\n",
    "\n",
    "<b>Answer:</b> instead use the drug concept ids used to create statin0 for UKB. Those will include 'ezetimibe'. They will not include 'amlodipine' which is prescribed to control high blood pressure.\n",
    "</div>"
   ]
  },
  {
   "cell_type": "markdown",
   "metadata": {},
   "source": [
    "<div class=\"alert alert-block alert-warning\">\n",
    "<b>Question:</b> for UKB, exactly how was indicator variable 'statin0' created? Was the information dervied from field  https://biobank.ndph.ox.ac.uk/showcase/field.cgi?id=20003 ? Which drugs were considered statins in that analysis?\n",
    "\n",
    "<b>Answer:</b> Yes, the information dervied from field  https://biobank.ndph.ox.ac.uk/showcase/field.cgi?id=20003. See the list of drug concept ids used to create statin0 for UKB.\n",
    "</div>"
   ]
  },
  {
   "cell_type": "markdown",
   "metadata": {},
   "source": [
    "#### How many fewer participants?"
   ]
  },
  {
   "cell_type": "code",
   "execution_count": null,
   "metadata": {},
   "outputs": [],
   "source": [
    "head(drug_df$PERSON_ID)"
   ]
  },
  {
   "cell_type": "code",
   "execution_count": null,
   "metadata": {},
   "outputs": [],
   "source": [
    "length(unique(drug_df$PERSON_ID))\n",
    "length(unique(strict_drug_df$PERSON_ID))"
   ]
  },
  {
   "cell_type": "code",
   "execution_count": null,
   "metadata": {},
   "outputs": [],
   "source": [
    "# Convert these bigints to character, seems like setdiff didn't understand bigints.\n",
    "participants_not_present_in_strict <- setdiff(as.character(drug_df$PERSON_ID),\n",
    "                                              as.character(strict_drug_df$PERSON_ID))\n",
    "\n",
    "head(participants_not_present_in_strict)"
   ]
  },
  {
   "cell_type": "code",
   "execution_count": null,
   "metadata": {},
   "outputs": [],
   "source": [
    "length(participants_not_present_in_strict)"
   ]
  },
  {
   "cell_type": "markdown",
   "metadata": {},
   "source": [
    "### What percentage of participants did we retain?"
   ]
  },
  {
   "cell_type": "code",
   "execution_count": null,
   "metadata": {},
   "outputs": [],
   "source": [
    "length(unique(strict_drug_df$PERSON_ID)) / length(unique(drug_df$PERSON_ID))"
   ]
  },
  {
   "cell_type": "markdown",
   "metadata": {},
   "source": [
    "## Examine the drug type concepts"
   ]
  },
  {
   "cell_type": "code",
   "execution_count": null,
   "metadata": {},
   "outputs": [],
   "source": [
    "drug_df %>%\n",
    "    group_by(DRUG_TYPE_CONCEPT_NAME) %>%\n",
    "    summarize(\n",
    "        count = n()\n",
    "    ) %>%\n",
    "    arrange(desc(count))"
   ]
  },
  {
   "cell_type": "markdown",
   "metadata": {},
   "source": [
    "<div class=\"alert alert-block alert-info\">\n",
    "<b>Note:</b> 'Medication list entry' and 'Patient Self-Reported Medication' appear to be strong indications of regular statin use.\n",
    "</div>"
   ]
  },
  {
   "cell_type": "markdown",
   "metadata": {},
   "source": [
    "## Examine the drug exposure durations "
   ]
  },
  {
   "cell_type": "markdown",
   "metadata": {},
   "source": [
    "For the individual drug exposures, what is the distribution of durations? Are these mostly one month long prescriptions and/or also reports of long term use?"
   ]
  },
  {
   "cell_type": "markdown",
   "metadata": {},
   "source": [
    "### All "
   ]
  },
  {
   "cell_type": "code",
   "execution_count": null,
   "metadata": {},
   "outputs": [],
   "source": [
    "drug_df %>%\n",
    "    mutate(\n",
    "        duration = as.duration(DRUG_EXPOSURE_END_DATETIME - DRUG_EXPOSURE_START_DATETIME)\n",
    "    ) %>%\n",
    "    group_by(duration) %>%\n",
    "    summarize(\n",
    "        count = n()\n",
    "    ) %>%\n",
    "    arrange(desc(count))"
   ]
  },
  {
   "cell_type": "markdown",
   "metadata": {},
   "source": [
    "<div class=\"alert alert-block alert-warning\">\n",
    "<b>Question:</b> discard all drug exposures with a short duration? (e.g. must be at least one week long)\n",
    "</div>"
   ]
  },
  {
   "cell_type": "markdown",
   "metadata": {},
   "source": [
    "<div class=\"alert alert-block alert-warning\">\n",
    "<b>Question:</b> fill NA DRUG_EXPOSURE_END_DATETIME with now()?\n",
    "</div>"
   ]
  },
  {
   "cell_type": "markdown",
   "metadata": {},
   "source": [
    "### Code from Margaret - Trial 1"
   ]
  },
  {
   "cell_type": "code",
   "execution_count": null,
   "metadata": {},
   "outputs": [],
   "source": [
    "colnames(drug_df)"
   ]
  },
  {
   "cell_type": "code",
   "execution_count": null,
   "metadata": {},
   "outputs": [],
   "source": [
    "dim(drug_df)"
   ]
  },
  {
   "cell_type": "code",
   "execution_count": null,
   "metadata": {},
   "outputs": [],
   "source": [
    "head(drug_df)\n",
    "a <- drug_df\n",
    "print(dim(a))"
   ]
  },
  {
   "cell_type": "code",
   "execution_count": null,
   "metadata": {},
   "outputs": [],
   "source": [
    "print(head(as.duration(a$DRUG_EXPOSURE_END_DATETIME - a$DRUG_EXPOSURE_START_DATETIME)))"
   ]
  },
  {
   "cell_type": "code",
   "execution_count": null,
   "metadata": {},
   "outputs": [],
   "source": [
    "b <- a$DRUG_EXPOSURE_END_DATETIME - a$DRUG_EXPOSURE_START_DATETIME\n",
    "c <- which(b < 70)\n",
    "print(head(b[c]))\n",
    "print(head(as.data.frame(a[c, ])))"
   ]
  },
  {
   "cell_type": "markdown",
   "metadata": {},
   "source": [
    "### Code from Nicole - duration calculation seems correct"
   ]
  },
  {
   "cell_type": "code",
   "execution_count": null,
   "metadata": {},
   "outputs": [],
   "source": [
    "drug_df %>%\n",
    "    mutate(\n",
    "        duration = as.duration(DRUG_EXPOSURE_END_DATETIME - DRUG_EXPOSURE_START_DATETIME),\n",
    "        delta = DRUG_EXPOSURE_END_DATETIME - DRUG_EXPOSURE_START_DATETIME\n",
    "    ) %>%\n",
    "    filter(duration < 28800 & duration > 0) %>%\n",
    "    select(PERSON_ID, VISIT_OCCURRENCE_ID, duration, delta,\n",
    "           DRUG_EXPOSURE_END_DATETIME, DRUG_EXPOSURE_START_DATETIME) %>%\n",
    "    head(n = 20)"
   ]
  },
  {
   "cell_type": "markdown",
   "metadata": {},
   "source": [
    "### Type 'Medication list entry'"
   ]
  },
  {
   "cell_type": "code",
   "execution_count": null,
   "metadata": {},
   "outputs": [],
   "source": [
    "drug_df %>%\n",
    "    filter(DRUG_TYPE_CONCEPT_NAME %in% c('Medication list entry')) %>%\n",
    "    mutate(\n",
    "        duration = as.duration(DRUG_EXPOSURE_END_DATETIME - DRUG_EXPOSURE_START_DATETIME)\n",
    "    ) %>%\n",
    "    group_by(duration) %>%\n",
    "    summarize(\n",
    "        count = n()\n",
    "    ) %>%\n",
    "    arrange(desc(count))"
   ]
  },
  {
   "cell_type": "markdown",
   "metadata": {},
   "source": [
    "<div class=\"alert alert-block alert-warning\">\n",
    "<b>Question:</b> fill NA DRUG_EXPOSURE_END_DATETIME with now()?\n",
    "</div>"
   ]
  },
  {
   "cell_type": "markdown",
   "metadata": {},
   "source": [
    "### Type 'Patient Self-Reported Medication'"
   ]
  },
  {
   "cell_type": "code",
   "execution_count": null,
   "metadata": {},
   "outputs": [],
   "source": [
    "drug_df %>%\n",
    "    filter(DRUG_TYPE_CONCEPT_NAME %in% c('Patient Self-Reported Medication')) %>%\n",
    "    mutate(\n",
    "        duration = as.duration(DRUG_EXPOSURE_END_DATETIME - DRUG_EXPOSURE_START_DATETIME)\n",
    "    ) %>%\n",
    "    group_by(duration) %>%\n",
    "    summarize(\n",
    "        count = n()\n",
    "    ) %>%\n",
    "    arrange(desc(count))"
   ]
  },
  {
   "cell_type": "markdown",
   "metadata": {},
   "source": [
    "<div class=\"alert alert-block alert-warning\">\n",
    "<b>Question:</b> fill NA DRUG_EXPOSURE_END_DATETIME with now()?\n",
    "</div>"
   ]
  },
  {
   "cell_type": "markdown",
   "metadata": {},
   "source": [
    "# Summarize the data by patient"
   ]
  },
  {
   "cell_type": "markdown",
   "metadata": {},
   "source": [
    "<div class=\"alert alert-block alert-warning\">\n",
    "<b>Question:</b> the summarization below simplistically assumes continuous statin use from their first statin drug exposure to their last. We would check that the large bound overlaps their lipids measurement to indicate that statin use was in effect. Is this reasonable?\n",
    "    \n",
    "If not, we can be more strict and only consider individual drug expsosures whose duration overlaps their lipid measurement.\n",
    "    \n",
    "Lastly, I'm assuming we can compare our statin use calculation to what we might expect over a general population (e.g., if we know that roughly 25% (I made up that number) of 65-75 year olds take statins, we should see that refected in our derived phenotype.\n",
    "</div>"
   ]
  },
  {
   "cell_type": "code",
   "execution_count": null,
   "metadata": {},
   "outputs": [],
   "source": [
    "statin_exposure_summary_per_person <- strict_drug_df %>%\n",
    "    group_by(PERSON_ID) %>%\n",
    "    summarize(\n",
    "        # Note, this is simplistically assuming continuous use.\n",
    "        first_use = min(DRUG_EXPOSURE_START_DATETIME),\n",
    "        last_use_start = max(DRUG_EXPOSURE_START_DATETIME),\n",
    "        last_use_end = max(DRUG_EXPOSURE_END_DATETIME),  # This is often NA.\n",
    "        statin_drug_rx_count = n(),\n",
    "        statin_drug_count = length(unique(STANDARD_CONCEPT_CODE)),\n",
    "        statin_drugs = str_c(sort(unique(STANDARD_CONCEPT_NAME)), collapse = ', ')\n",
    "    ) %>%\n",
    "    arrange(desc(statin_drug_count))\n",
    "\n",
    "statin_exposure_summary_per_person"
   ]
  },
  {
   "cell_type": "markdown",
   "metadata": {},
   "source": [
    "# Export to CSV"
   ]
  },
  {
   "cell_type": "markdown",
   "metadata": {},
   "source": [
    "## Export the individual drug exposures."
   ]
  },
  {
   "cell_type": "code",
   "execution_count": null,
   "metadata": {},
   "outputs": [],
   "source": [
    "# This snippet assumes that you run setup first\n",
    "\n",
    "# This code saves your dataframe into a csv file in a \"data\" folder in Google Bucket\n",
    "\n",
    "# Replace df with THE NAME OF YOUR DATAFRAME\n",
    "my_dataframe <- strict_drug_df %>%\n",
    "    select(PERSON_ID, DRUG_EXPOSURE_START_DATETIME, DRUG_EXPOSURE_END_DATETIME,\n",
    "           STANDARD_CONCEPT_CODE, STANDARD_CONCEPT_NAME)\n",
    "\n",
    "# Replace 'test.csv' with THE NAME of the file you're going to store in the bucket (don't delete the quotation marks)\n",
    "destination_filename <- 'participants_with_statin_use.csv'\n",
    "\n",
    "########################################################################\n",
    "##\n",
    "################# DON'T CHANGE FROM HERE ###############################\n",
    "##\n",
    "########################################################################\n",
    "\n",
    "# store the dataframe in current workspace\n",
    "write_excel_csv(my_dataframe, destination_filename)\n",
    "\n",
    "# Get the bucket name\n",
    "my_bucket <- Sys.getenv('WORKSPACE_BUCKET')\n",
    "\n",
    "# Copy the file from current workspace to the bucket\n",
    "system(paste0(\"gsutil cp ./\", destination_filename, \" \", my_bucket, \"/data/\"), intern=T)\n",
    "\n",
    "# Check if file is in the bucket\n",
    "system(paste0(\"gsutil ls \", my_bucket, \"/data/*.csv\"), intern=T)\n"
   ]
  },
  {
   "cell_type": "markdown",
   "metadata": {},
   "source": [
    "## Export the per-person statin exposure summary"
   ]
  },
  {
   "cell_type": "code",
   "execution_count": null,
   "metadata": {},
   "outputs": [],
   "source": [
    "# This snippet assumes that you run setup first\n",
    "\n",
    "# This code saves your dataframe into a csv file in a \"data\" folder in Google Bucket\n",
    "\n",
    "# Replace df with THE NAME OF YOUR DATAFRAME\n",
    "my_dataframe <- statin_exposure_summary_per_person\n",
    "\n",
    "# Replace 'test.csv' with THE NAME of the file you're going to store in the bucket (don't delete the quotation marks)\n",
    "destination_filename <- 'participants_with_statin_use_summary.csv'\n",
    "\n",
    "########################################################################\n",
    "##\n",
    "################# DON'T CHANGE FROM HERE ###############################\n",
    "##\n",
    "########################################################################\n",
    "\n",
    "# store the dataframe in current workspace\n",
    "write_excel_csv(my_dataframe, destination_filename)\n",
    "\n",
    "# Get the bucket name\n",
    "my_bucket <- Sys.getenv('WORKSPACE_BUCKET')\n",
    "\n",
    "# Copy the file from current workspace to the bucket\n",
    "system(paste0(\"gsutil cp ./\", destination_filename, \" \", my_bucket, \"/data/\"), intern=T)\n",
    "\n",
    "# Check if file is in the bucket\n",
    "system(paste0(\"gsutil ls \", my_bucket, \"/data/*.csv\"), intern=T)\n"
   ]
  },
  {
   "cell_type": "code",
   "execution_count": null,
   "metadata": {},
   "outputs": [],
   "source": [
    "system(paste0(\"gsutil ls -lh \", my_bucket, \"/data/*.csv\"), intern=T)"
   ]
  },
  {
   "cell_type": "markdown",
   "metadata": {},
   "source": [
    "# Appendix - alternate identification of statin concept codes\n",
    "\n",
    "This section of the notebook attempts to identify relevant statin use drug concept ids. It is modelled after the code found in featured workspace [Type 2 Diabetes Analysis](https://workbench.researchallofus.org/workspaces/aou-rw-c697f47e/phenotypetype2diabetes/notebooks/preview/Type%202%20Diabetes%20Analysis.ipynb)."
   ]
  },
  {
   "cell_type": "code",
   "execution_count": null,
   "metadata": {},
   "outputs": [],
   "source": [
    "## ---------------[ CHANGE THESE AS NEEDED] ---------------------------------------\n",
    "STATIN_GENERICS <- c(\n",
    "  'Atorvastatin',\n",
    "  'Fluvastatin',\n",
    "  'Lovastatin',\n",
    "  'Pravastatin',\n",
    "  'Rosuvastatin',\n",
    "  'Simvastatin',\n",
    "  'Pitavastatin',\n",
    "  'Cerivastatin',\n",
    "  'amlodipine',\n",
    "  'Niacin',\n",
    "  'Ezetimibe')  # All of these were available in cohort builder.\n",
    "\n",
    "STATIN_RX_ADJUVANT_THERAPIES <- c(\n",
    "  'ezetemibe',  # No results in cohort builder, misspelling?\n",
    "  'Zetia',  # In cohort builder, included under Ezetimibe.\n",
    "  'alirocumab',\n",
    "  'Praluent',  # In cohort builder, included under Alirocumab.\n",
    "  'evolucumab',  # No results in cohort builder, misspelling?\n",
    "  'Repatha') # In cohort builder, included under Evolocumab."
   ]
  },
  {
   "cell_type": "code",
   "execution_count": null,
   "metadata": {},
   "outputs": [],
   "source": [
    "(STATIN_DRUGS <- str_c('LOWER(c.concept_name) LIKE \"%',\n",
    "      str_to_lower(c(STATIN_GENERICS, STATIN_RX_ADJUVANT_THERAPIES)),\n",
    "     '%\"',\n",
    "     collapse = ' OR '))"
   ]
  },
  {
   "cell_type": "code",
   "execution_count": null,
   "metadata": {},
   "outputs": [],
   "source": [
    "(statin_drugs_summary_df <- bq_table_download(bq_project_query(\n",
    "    BILLING_PROJECT_ID, page_size = 25000,\n",
    "    query = str_glue('                                     \n",
    "SELECT\n",
    "    DISTINCT c2.concept_name,\n",
    "    c2.concept_code,\n",
    "    c2.concept_id\n",
    "FROM\n",
    "    `{CDR}.concept` c\n",
    "    JOIN `{CDR}.concept_ancestor` ca\n",
    "        ON c.concept_id = ca.ancestor_concept_id\n",
    "    JOIN `{CDR}.concept` c2\n",
    "        ON c2.concept_id = ca.descendant_concept_id\n",
    "WHERE\n",
    "    c.concept_class_id = \"Ingredient\"\n",
    "    AND ({STATIN_DRUGS})'))))"
   ]
  },
  {
   "cell_type": "markdown",
   "metadata": {},
   "source": [
    "<div class=\"alert alert-block alert-warning\">\n",
    "<p>In the above table, we see some drug concepts for B vitamin use, unrelated to statin use. This list of concept ids needs to be trimmed to just the relevant concepts.</p>\n",
    "\n",
    "<p>Alternatively, when we have the list of the 1,000 participant ids and determine which of those use any of these medications, we can then \"review\" that subset of the cohort to check whether their medications really do indicate statin use.</p>\n",
    "</div>"
   ]
  },
  {
   "cell_type": "code",
   "execution_count": null,
   "metadata": {},
   "outputs": [],
   "source": [
    "# This snippet assumes that you run setup first\n",
    "\n",
    "# This code saves your dataframe into a csv file in a \"data\" folder in Google Bucket\n",
    "\n",
    "# Replace df with THE NAME OF YOUR DATAFRAME\n",
    "my_dataframe <- statin_drugs_summary_df\n",
    "\n",
    "# Replace 'test.csv' with THE NAME of the file you're going to store in the bucket (don't delete the quotation marks)\n",
    "destination_filename <- 'statin_drugs_summary.csv'\n",
    "\n",
    "########################################################################\n",
    "##\n",
    "################# DON'T CHANGE FROM HERE ###############################\n",
    "##\n",
    "########################################################################\n",
    "\n",
    "# store the dataframe in current workspace\n",
    "write_excel_csv(my_dataframe, destination_filename)\n",
    "\n",
    "# Get the bucket name\n",
    "my_bucket <- Sys.getenv('WORKSPACE_BUCKET')\n",
    "\n",
    "# Copy the file from current workspace to the bucket\n",
    "system(paste0(\"gsutil cp ./\", destination_filename, \" \", my_bucket, \"/data/\"), intern=T)\n",
    "\n",
    "# Check if file is in the bucket\n",
    "system(paste0(\"gsutil ls \", my_bucket, \"/data/*.csv\"), intern=T)"
   ]
  },
  {
   "cell_type": "markdown",
   "metadata": {},
   "source": [
    "# Provenance "
   ]
  },
  {
   "cell_type": "code",
   "execution_count": null,
   "metadata": {},
   "outputs": [],
   "source": [
    "devtools::session_info()"
   ]
  }
 ],
 "metadata": {
  "kernelspec": {
   "display_name": "R",
   "language": "R",
   "name": "ir"
  },
  "language_info": {
   "codemirror_mode": "r",
   "file_extension": ".r",
   "mimetype": "text/x-r-source",
   "name": "R",
   "pygments_lexer": "r",
   "version": "4.0.3"
  },
  "toc": {
   "base_numbering": 1,
   "nav_menu": {},
   "number_sections": true,
   "sideBar": true,
   "skip_h1_title": false,
   "title_cell": "Table of Contents",
   "title_sidebar": "Contents",
   "toc_cell": false,
   "toc_position": {
    "height": "calc(100% - 180px)",
    "left": "10px",
    "top": "150px",
    "width": "375.984px"
   },
   "toc_section_display": true,
   "toc_window_display": true
  }
 },
 "nbformat": 4,
 "nbformat_minor": 2
}

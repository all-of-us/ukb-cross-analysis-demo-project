{
 "cells": [
  {
   "cell_type": "markdown",
   "metadata": {},
   "source": [
    "# UK Biobank lipids phenotypes and covariates\n",
    "\n",
    "In this notebook we review and explore the available UK Biobank data for lipids phenotypes and covariates.\n",
    "\n",
    "TODOs\n",
    "* check that the assays used here are comparable to the data from the AoU measurements\n",
    "  * https://biobank.ndph.ox.ac.uk/showcase/field.cgi?id=30690\n",
    "  * https://biobank.ndph.ox.ac.uk/showcase/field.cgi?id=30760\n",
    "  * https://biobank.ndph.ox.ac.uk/showcase/field.cgi?id=30780\n",
    "  * https://biobank.ndph.ox.ac.uk/showcase/field.cgi?id=30870\n",
    "  * The AoU and UKB measures used different units, converted `mg_dl = 18 * mmol_L` but the median values for the corresponding measurements in each cohort differ by a noticeable amount.\n",
    "  * This needs a correction and/or explanation.\n",
    "  * Margaret is going to take a closer look\n",
    "* use lower and upper bound cutoffs appropriate for each measurement\n",
    "* add in the cohort query for WGS samples\n",
    "* also determine the relevant statin phenotypes so that we can correct for statin use:\n",
    "  * https://biobank.ndph.ox.ac.uk/showcase/field.cgi?id=20003\n",
    "  * per Margaret, statin use for UKB was documented at two time points\n",
    "* incorporate exclusion criteria\n",
    "* other issues to decide\n",
    "  * the NIH has a newer calculation for LDL, we should decide whether to use it\n",
    "\n",
    "\n",
    "Friedewald formula \n",
    "`(LDL-c (mg/dL) = TC (mg/dL) − HDL-c (mg/dL) − TG (mg/dL)/5)`\n",
    "\n",
    "1.\tLDL adjustment based on TG/LDL values \n",
    "  1.\t`If TG > 400, then LDL = NA`\n",
    "  2.\t`If LDL < 10, then LDL=NA`\n",
    "2.\tLDL and TC adjustment based on Statin (Lipid lowering medication)\n",
    "  1.\t`If STATIN is used, LDL_ADJ = LDL/0.7`\n",
    "  2.\t`If STATIN is used, TOTAL_ADJ = TC/0.8`\n",
    "3.\tTG adjustment\n",
    "  1.\t`TG_LOG = log(TG)`\n",
    "4.\tCalculation of residuals – residuals calculated by adjusting for covariates \n",
    "  1.\tresidual calculation Example for LDL: `tmp.ldl$LDL_ADJ.resid <- resid(lm(LDL_ADJ ~ sex+age+age2+PC1+PC2+PC3+PC4+PC5+PC6+PC7+PC8+PC9+PC10+PC11, data = tmp.ldl))`\n",
    "5.\tnormalization Example for LDL: `tmp.ldl$LDL_ADJ.norm <- sd(tmp.ldl$LDL_ADJ)*scale(qnorm((rank(tmp.ldl$LDL_ADJ.resid,na.last=\"keep\")-0.5)/length(tmp.ldl$LDL_ADJ.resid)))`"
   ]
  },
  {
   "cell_type": "markdown",
   "metadata": {},
   "source": [
    "# Setup\n",
    "\n",
    "<div class=\"alert alert-block alert-warning\">\n",
    "This notebook will run correctly on the UK Biobank Research Analysis Platform.\n",
    "</div>"
   ]
  },
  {
   "cell_type": "code",
   "execution_count": null,
   "metadata": {},
   "outputs": [],
   "source": [
    "lapply(c('skimr', 'tidyverse'),\n",
    "       function(pkg) { if(! pkg %in% installed.packages()) { install.packages(pkg)} } )"
   ]
  },
  {
   "cell_type": "code",
   "execution_count": null,
   "metadata": {},
   "outputs": [],
   "source": [
    "library(skimr)\n",
    "library(tidyverse)"
   ]
  },
  {
   "cell_type": "code",
   "execution_count": null,
   "metadata": {},
   "outputs": [],
   "source": [
    "## Plot setup.\n",
    "theme_set(theme_bw(base_size = 16)) # Default theme for plots.\n",
    "\n",
    "#' Returns a data frame with a y position and a label, for use annotating ggplot boxplots.\n",
    "#'\n",
    "#' @param d A data frame.\n",
    "#' @return A data frame with column y as max and column label as length.\n",
    "get_boxplot_fun_data <- function(df) {\n",
    "  return(data.frame(y = max(df), label = stringr::str_c('N = ', length(df))))\n",
    "}"
   ]
  },
  {
   "cell_type": "markdown",
   "metadata": {},
   "source": [
    "## Retrieve and load the data extract\n",
    "\n",
    "<div class=\"alert alert-block alert-warning\">\n",
    "Section assumes the availability of a CSV was created via notebook <kbd>ukb_lipids_phenotypes_retrieval.ipynb</kbd>.\n",
    "</div>"
   ]
  },
  {
   "cell_type": "code",
   "execution_count": null,
   "metadata": {},
   "outputs": [],
   "source": [
    "system('dx download lipids.csv', intern = TRUE)"
   ]
  },
  {
   "cell_type": "code",
   "execution_count": null,
   "metadata": {},
   "outputs": [],
   "source": [
    "pheno <- read_csv('lipids.csv')"
   ]
  },
  {
   "cell_type": "code",
   "execution_count": null,
   "metadata": {},
   "outputs": [],
   "source": [
    "skim(pheno)"
   ]
  },
  {
   "cell_type": "code",
   "execution_count": null,
   "metadata": {},
   "outputs": [],
   "source": [
    "# At this time, we are only interested in the first instance.\n",
    "pheno <- pheno %>% select(eid, contains('_i0_'))"
   ]
  },
  {
   "cell_type": "code",
   "execution_count": null,
   "metadata": {},
   "outputs": [],
   "source": [
    "skim(pheno)"
   ]
  },
  {
   "cell_type": "code",
   "execution_count": null,
   "metadata": {},
   "outputs": [],
   "source": [
    "options(repr.plot.height = 12, repr.plot.width = 16)\n",
    "\n",
    "pheno %>%\n",
    "    ggplot(aes(x = cut_width(p21003_i0_Age_when_attended_assessment_centre_years, width = 10, boundary = 0), y = `p30690_i0_Cholesterol_mmol/L`)) +\n",
    "    geom_boxplot() +\n",
    "    stat_summary(fun.data = get_boxplot_fun_data, geom = 'text', size = 4,\n",
    "                 position = position_dodge(width = 0.9), vjust = -0.8) +\n",
    "    coord_flip() +\n",
    "    xlab('age') +\n",
    "    labs(title = str_glue('Instance 0 measurement per person, by age'),\n",
    "         caption = 'Source: UK Biobank data')"
   ]
  },
  {
   "cell_type": "code",
   "execution_count": null,
   "metadata": {},
   "outputs": [],
   "source": [
    "table(pheno$p30693_i0_Cholesterol_correction_level, useNA = 'always')"
   ]
  },
  {
   "cell_type": "code",
   "execution_count": null,
   "metadata": {},
   "outputs": [],
   "source": [
    "table(pheno$p30694_i0_Cholesterol_correction_reason, useNA = 'always')"
   ]
  },
  {
   "cell_type": "code",
   "execution_count": null,
   "metadata": {},
   "outputs": [],
   "source": [
    "table(pheno$p30695_i0_Cholesterol_missing_reason, useNA = 'always')"
   ]
  },
  {
   "cell_type": "code",
   "execution_count": null,
   "metadata": {},
   "outputs": [],
   "source": [
    "table(pheno$p30692_i0_Cholesterol_aliquot, useNA = 'always')"
   ]
  },
  {
   "cell_type": "code",
   "execution_count": null,
   "metadata": {},
   "outputs": [],
   "source": [
    "pheno %>%\n",
    "    filter(!is.na(`p30690_i0_Cholesterol_mmol/L`)) %>%\n",
    "    group_by(p30695_i0_Cholesterol_missing_reason) %>%\n",
    "    summarize(count = n())"
   ]
  },
  {
   "cell_type": "markdown",
   "metadata": {},
   "source": [
    "# Pivot and plot the data "
   ]
  },
  {
   "cell_type": "code",
   "execution_count": null,
   "metadata": {},
   "outputs": [],
   "source": [
    "assay <- pheno %>%\n",
    "    select(eid, p21003_i0_Age_when_attended_assessment_centre_years, ends_with('mmol/L')) %>%\n",
    "    pivot_longer(\n",
    "        cols = ends_with('mmol/L'),\n",
    "        names_to = c('instance', 'measurement'),\n",
    "        names_pattern = 'p\\\\d+_(i\\\\d+)_(.*)_mmol/L',\n",
    "        values_to = 'mmol_L') %>%\n",
    "    # Convert to units used by AoU measurements.\n",
    "    mutate(mg_dl = 18 * mmol_L) %>%\n",
    "    inner_join(\n",
    "      pheno %>%\n",
    "      select(eid, p21003_i0_Age_when_attended_assessment_centre_years, ends_with('correction_reason')) %>%\n",
    "      pivot_longer(\n",
    "          cols = ends_with('correction_reason'),\n",
    "          names_to = c('instance', 'measurement'),\n",
    "          names_pattern = 'p\\\\d+_(i\\\\d+)_(.*)_correction_reason',\n",
    "          values_to = 'correction_reason')) %>% \n",
    "    inner_join(\n",
    "      pheno %>%\n",
    "      select(eid, p21003_i0_Age_when_attended_assessment_centre_years, ends_with('missing_reason')) %>%\n",
    "      pivot_longer(\n",
    "          cols = ends_with('missing_reason'),\n",
    "          names_to = c('instance', 'measurement'),\n",
    "          names_pattern = 'p\\\\d+_(i\\\\d+)_(.*)_missing_reason',\n",
    "          values_to = 'missing_reason')) %>%\n",
    "    inner_join(\n",
    "      pheno %>%\n",
    "      select(eid, p21003_i0_Age_when_attended_assessment_centre_years, ends_with('correction_level')) %>%\n",
    "      pivot_longer(\n",
    "          cols = ends_with('correction_level'),\n",
    "          names_to = c('instance', 'measurement'),\n",
    "          names_pattern = 'p\\\\d+_(i\\\\d+)_(.*)_correction_level',\n",
    "          values_to = 'correction_level')) %>%\n",
    "    inner_join(\n",
    "      pheno %>%\n",
    "      select(eid, p21003_i0_Age_when_attended_assessment_centre_years, ends_with('aliquot')) %>%\n",
    "      pivot_longer(\n",
    "          cols = ends_with('aliquot'),\n",
    "          names_to = c('instance', 'measurement'),\n",
    "          names_pattern = 'p\\\\d+_(i\\\\d+)_(.*)_aliquot',\n",
    "          values_to = 'aliquot')) %>%\n",
    "    inner_join(\n",
    "      pheno %>%\n",
    "      select(eid, p21003_i0_Age_when_attended_assessment_centre_years, ends_with('reportability')) %>%\n",
    "      pivot_longer(\n",
    "          cols = ends_with('reportability'),\n",
    "          names_to = c('instance', 'measurement'),\n",
    "          names_pattern = 'p\\\\d+_(i\\\\d+)_(.*)_reportability',\n",
    "          values_to = 'reportability'))"
   ]
  },
  {
   "cell_type": "code",
   "execution_count": null,
   "metadata": {},
   "outputs": [],
   "source": [
    "# Check the result of the join.\n",
    "(dim(assay))\n",
    "(nrow(pheno) * 4)\n",
    "stopifnot(nrow(assay) == nrow(pheno) * 4)"
   ]
  },
  {
   "cell_type": "code",
   "execution_count": null,
   "metadata": {},
   "outputs": [],
   "source": [
    "# Uncomment the line below to see row level data.\n",
    "#head(assay)"
   ]
  },
  {
   "cell_type": "code",
   "execution_count": null,
   "metadata": {},
   "outputs": [],
   "source": [
    "assay %>%\n",
    "    filter(!is.na(mg_dl)) %>%\n",
    "    group_by(missing_reason) %>%\n",
    "    summarize(count = n())"
   ]
  },
  {
   "cell_type": "code",
   "execution_count": null,
   "metadata": {},
   "outputs": [],
   "source": [
    "assay %>%\n",
    "    group_by(measurement) %>%\n",
    "    summarize(\n",
    "        count = n(),\n",
    "        missing = sum(is.na(mg_dl)),\n",
    "        median = median(mg_dl, na.rm = TRUE),\n",
    "        mean = mean(mg_dl, na.rm = TRUE),\n",
    "        stddev = sd(mg_dl, na.rm = TRUE)\n",
    "    )"
   ]
  },
  {
   "cell_type": "code",
   "execution_count": null,
   "metadata": {},
   "outputs": [],
   "source": [
    "options(repr.plot.height = 18, repr.plot.width = 16)\n",
    "\n",
    "assay %>%\n",
    "    filter(!is.na(p21003_i0_Age_when_attended_assessment_centre_years)) %>%\n",
    "    ggplot(aes(x = cut_width(p21003_i0_Age_when_attended_assessment_centre_years, width = 10, boundary = 0), y = mg_dl)) +\n",
    "    geom_boxplot() +\n",
    "    stat_summary(fun.data = get_boxplot_fun_data, geom = 'text', size = 4,\n",
    "                 position = position_dodge(width = 0.9), vjust = -0.8) +\n",
    "    scale_y_continuous(breaks = scales::pretty_breaks(n = 10)) +\n",
    "#    scale_y_log10(breaks = scales::pretty_breaks(n = 10)) +  # Uncomment if the data looks skewed.\n",
    "    coord_flip() +\n",
    "    facet_wrap(~ measurement, nrow = length(unique(assay$measurement)), scales = 'free_x') +\n",
    "    xlab('age') +\n",
    "    labs(title = str_glue('Instance 0 measurement per person, by age'),\n",
    "         caption = 'Source: UK Biobank data')"
   ]
  },
  {
   "cell_type": "markdown",
   "metadata": {},
   "source": [
    "# Provenance "
   ]
  },
  {
   "cell_type": "code",
   "execution_count": null,
   "metadata": {},
   "outputs": [],
   "source": [
    "devtools::session_info()"
   ]
  }
 ],
 "metadata": {
  "kernelspec": {
   "display_name": "R",
   "language": "R",
   "name": "ir"
  },
  "language_info": {
   "codemirror_mode": "r",
   "file_extension": ".r",
   "mimetype": "text/x-r-source",
   "name": "R",
   "pygments_lexer": "r",
   "version": "3.6.3"
  }
 },
 "nbformat": 4,
 "nbformat_minor": 4
}

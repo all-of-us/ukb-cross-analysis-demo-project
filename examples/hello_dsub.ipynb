{
 "cells": [
  {
   "cell_type": "markdown",
   "metadata": {},
   "source": [
    "# batch-style computing on the All of Us Workbench\n",
    "\n",
    "Full workflow support is coming soon, but in the interim we will use [dsub](https://github.com/databiosphere/dsub).\n",
    "\n",
    "<div class=\"alert alert-block alert-danger\">\n",
    "<b>Note:</b> This will work after some pending IAM role changes for our preprod accounts.\n",
    "</div>"
   ]
  },
  {
   "cell_type": "markdown",
   "metadata": {},
   "source": [
    "# Setup "
   ]
  },
  {
   "cell_type": "code",
   "execution_count": null,
   "metadata": {},
   "outputs": [],
   "source": [
    "!pip3 install --upgrade dsub"
   ]
  },
  {
   "cell_type": "markdown",
   "metadata": {},
   "source": [
    "## Hello world"
   ]
  },
  {
   "cell_type": "code",
   "execution_count": null,
   "metadata": {},
   "outputs": [],
   "source": [
    "%%bash\n",
    "\n",
    "# TODO(deflaux) remove the 'echo' after we know dsub should work in this workspace.\n",
    "\n",
    "echo dsub \\\n",
    "  --provider google-v2 \\\n",
    "  --project \"${GOOGLE_PROJECT}\" \\\n",
    "  --zones \"us-central1-*\" \\\n",
    "  --logging \"${WORKSPACE_BUCKET}/dsub/logging/$(date +'%Y%m%d/%H%M%S')\" \\\n",
    "  --output OUT=\"${WORKSPACE_BUCKET}/dsub/hello/$(date +'%Y%m%d/%H%M%S')/out.txt\" \\\n",
    "  --command 'echo Hello world from the AoU workbench!! > \"${OUT}\"' \\\n",
    "  --wait"
   ]
  },
  {
   "cell_type": "code",
   "execution_count": null,
   "metadata": {},
   "outputs": [],
   "source": [
    "%%bash\n",
    "\n",
    "# TODO(deflaux) remove the 'echo' after we know dsub should work in this workspace.\n",
    "\n",
    "echo gsutil cat \"${WORKSPACE_BUCKET}/dsub/hello/$(date +'%Y%m%d')/*/out.txt\""
   ]
  },
  {
   "cell_type": "markdown",
   "metadata": {},
   "source": [
    "## regenie 'hello world'\n",
    "\n",
    "TODO(deflaux) port the three tasks in https://github.com/briansha/Regenie_WDL/blob/master/regenie.wdl to three dsub pipelines."
   ]
  },
  {
   "cell_type": "code",
   "execution_count": null,
   "metadata": {},
   "outputs": [],
   "source": [
    "%%bash\n",
    "\n",
    "# TODO(deflaux) remove the 'echo' after we know dsub should work in this workspace.\n",
    "\n",
    "echo dsub \\\n",
    "  --provider google-v2 \\\n",
    "  --project \"${GOOGLE_PROJECT}\" \\\n",
    "  --zones \"us-central1-*\" \\\n",
    "  --image \"briansha/regenie:v2.0.1_boost\" \\\n",
    "  --logging \"${WORKSPACE_BUCKET}/dsub/logging/$(date +'%Y%m%d/%H%M%S')\" \\\n",
    "  --output OUT=\"${WORKSPACE_BUCKET}/dsub/hello-regenie/$(date +'%Y%m%d/%H%M%S')/out.txt\" \\\n",
    "  --command 'echo Hello world from regenie on the AoU workbench!! > \"${OUT}\"' \\\n",
    "  --wait"
   ]
  },
  {
   "cell_type": "code",
   "execution_count": null,
   "metadata": {},
   "outputs": [],
   "source": [
    "%%bash\n",
    "\n",
    "# TODO(deflaux) remove the 'echo' after we know dsub should work in this workspace.\n",
    "\n",
    "echo gsutil cat \"${WORKSPACE_BUCKET}/dsub/hello-regenie/$(date +'%Y%m%d')/*/out.txt\""
   ]
  },
  {
   "cell_type": "markdown",
   "metadata": {},
   "source": [
    "# Provenance "
   ]
  },
  {
   "cell_type": "code",
   "execution_count": null,
   "metadata": {},
   "outputs": [],
   "source": [
    "%%bash\n",
    "\n",
    "date"
   ]
  },
  {
   "cell_type": "code",
   "execution_count": null,
   "metadata": {},
   "outputs": [],
   "source": [
    "%%bash\n",
    "\n",
    "pip3 freeze"
   ]
  }
 ],
 "metadata": {
  "kernelspec": {
   "display_name": "Python 3",
   "language": "python",
   "name": "python3"
  },
  "language_info": {
   "codemirror_mode": {
    "name": "ipython",
    "version": 3
   },
   "file_extension": ".py",
   "mimetype": "text/x-python",
   "name": "python",
   "nbconvert_exporter": "python",
   "pygments_lexer": "ipython3",
   "version": "3.7.10"
  },
  "toc": {
   "base_numbering": 1,
   "nav_menu": {},
   "number_sections": true,
   "sideBar": true,
   "skip_h1_title": false,
   "title_cell": "Table of Contents",
   "title_sidebar": "Contents",
   "toc_cell": false,
   "toc_position": {},
   "toc_section_display": true,
   "toc_window_display": true
  }
 },
 "nbformat": 4,
 "nbformat_minor": 2
}

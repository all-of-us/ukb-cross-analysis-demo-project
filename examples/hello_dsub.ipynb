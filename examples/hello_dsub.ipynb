{
 "cells": [
  {
   "cell_type": "markdown",
   "metadata": {},
   "source": [
    "# batch-style computing on the All of Us Workbench\n",
    "\n",
    "Full workflow support is coming soon, but in the interim we will use [dsub](https://github.com/databiosphere/dsub)."
   ]
  },
  {
   "cell_type": "markdown",
   "metadata": {},
   "source": [
    "# Test data access "
   ]
  },
  {
   "cell_type": "markdown",
   "metadata": {},
   "source": [
    "## UKB phenotypes"
   ]
  },
  {
   "cell_type": "markdown",
   "metadata": {},
   "source": [
    "This is our UK Biobank data project for which we have:\n",
    "* WRITE access when using Terra\n",
    "* READ-ONLY access when using the AoU workbench\n",
    "\n",
    "See Terra workspace [ukb-application-7089](https://app.terra.bio/#workspaces/uk-biobank-sek/ukb-application-7089)."
   ]
  },
  {
   "cell_type": "code",
   "execution_count": null,
   "metadata": {},
   "outputs": [],
   "source": [
    "!gsutil ls gs://uk-biobank-sek-data-us-east1/phenotypes/raw/"
   ]
  },
  {
   "cell_type": "markdown",
   "metadata": {},
   "source": [
    "## UKB exomes"
   ]
  },
  {
   "cell_type": "markdown",
   "metadata": {},
   "source": [
    "This is the Terra workspace where the UKB Exomes are stored."
   ]
  },
  {
   "cell_type": "code",
   "execution_count": null,
   "metadata": {},
   "outputs": [],
   "source": [
    "!gsutil ls gs://fc-7130e767-a885-4678-95ed-7c966c79e2d0/200K/pvcf/ukb23156_c10_b0_v1.vcf.gz"
   ]
  },
  {
   "cell_type": "markdown",
   "metadata": {},
   "source": [
    "## Public annotation data"
   ]
  },
  {
   "cell_type": "code",
   "execution_count": null,
   "metadata": {},
   "outputs": [],
   "source": [
    "!bq ls bigquery-public-data:human_variant_annotation"
   ]
  },
  {
   "cell_type": "code",
   "execution_count": null,
   "metadata": {},
   "outputs": [],
   "source": [
    "%load_ext google.cloud.bigquery"
   ]
  },
  {
   "cell_type": "code",
   "execution_count": null,
   "metadata": {},
   "outputs": [],
   "source": [
    "%%bigquery --use_rest_api\n",
    "\n",
    "SELECT COUNT(*) AS cnt FROM `bigquery-public-data.gnomAD.v3_genomes__chr21`"
   ]
  },
  {
   "cell_type": "code",
   "execution_count": null,
   "metadata": {},
   "outputs": [],
   "source": [
    "GNOMAD_V3 = 'gs://gnomad-public/release/3.0/ht/genomes/gnomad.genomes.r3.0.sites.ht'\n",
    "\n",
    "!gsutil ls {GNOMAD_V3}"
   ]
  },
  {
   "cell_type": "code",
   "execution_count": null,
   "metadata": {},
   "outputs": [],
   "source": [
    "!gsutil ls gs://genomics-public-data/"
   ]
  },
  {
   "cell_type": "markdown",
   "metadata": {},
   "source": [
    "## DeepVariant 1,000 Genomes"
   ]
  },
  {
   "cell_type": "code",
   "execution_count": null,
   "metadata": {},
   "outputs": [],
   "source": [
    "%%bash\n",
    "\n",
    "gsutil ls gs://brain-genomics-public/research/cohort/1KGP"
   ]
  },
  {
   "cell_type": "markdown",
   "metadata": {},
   "source": [
    "# Setup dsub\n",
    "\n",
    "<div class=\"alert alert-block alert-warning\">\n",
    "    <b>Cloud Environment</b>: This notebook was written for use on the All of Us Workbench. It runs fine on the default Cloud Environment. \n",
    "</div>"
   ]
  },
  {
   "cell_type": "code",
   "execution_count": null,
   "metadata": {},
   "outputs": [],
   "source": [
    "!pip3 install --upgrade dsub"
   ]
  },
  {
   "cell_type": "markdown",
   "metadata": {},
   "source": [
    "# Run some test dsub jobs"
   ]
  },
  {
   "cell_type": "markdown",
   "metadata": {},
   "source": [
    "## Hello world"
   ]
  },
  {
   "cell_type": "code",
   "execution_count": null,
   "metadata": {},
   "outputs": [],
   "source": [
    "%%bash\n",
    "\n",
    "gcloud auth list"
   ]
  },
  {
   "cell_type": "markdown",
   "metadata": {},
   "source": [
    "<div class=\"alert alert-block alert-warning\">\n",
    "    <b>Note:</b> (1) You must use your own PET account. (2) Your PET account has to be granted access to run itself as a service account.\n",
    "</div>"
   ]
  },
  {
   "cell_type": "code",
   "execution_count": null,
   "metadata": {},
   "outputs": [],
   "source": [
    "%%bash\n",
    "\n",
    "dsub \\\n",
    "  --provider google-cls-v2 \\\n",
    "  --service-account \"pet-101767132834091462320@aou-rw-preprod-acef10ae.iam.gserviceaccount.com\" \\\n",
    "  --project \"${GOOGLE_PROJECT}\" \\\n",
    "  --zones \"us-central1-*\" \\\n",
    "  --network \"network\" \\\n",
    "  --subnetwork \"subnetwork\" \\\n",
    "  --logging \"${WORKSPACE_BUCKET}/dsub/logging/$(date +'%Y%m%d/%H%M%S')\" \\\n",
    "  --output OUT=\"${WORKSPACE_BUCKET}/dsub/hello/$(date +'%Y%m%d/%H%M%S')/out.txt\" \\\n",
    "  --command 'echo Hello world from the AoU workbench!! > \"${OUT}\"' \\\n",
    "  --wait"
   ]
  },
  {
   "cell_type": "code",
   "execution_count": null,
   "metadata": {},
   "outputs": [],
   "source": [
    "%%bash\n",
    "\n",
    "gsutil ls \"${WORKSPACE_BUCKET}/dsub/**\""
   ]
  },
  {
   "cell_type": "code",
   "execution_count": null,
   "metadata": {},
   "outputs": [],
   "source": [
    "%%bash\n",
    "\n",
    "gsutil cat \"${WORKSPACE_BUCKET}/dsub/hello/$(date +'%Y%m%d')/*/out.txt\""
   ]
  },
  {
   "cell_type": "markdown",
   "metadata": {},
   "source": [
    "## regenie 'hello world'\n",
    "\n",
    "TODO(deflaux) port the three tasks in https://github.com/briansha/Regenie_WDL/blob/master/regenie.wdl to three dsub pipelines."
   ]
  },
  {
   "cell_type": "code",
   "execution_count": null,
   "metadata": {},
   "outputs": [],
   "source": [
    "%%bash\n",
    "\n",
    "dsub \\\n",
    "  --provider google-cls-v2 \\\n",
    "  --service-account \"pet-101767132834091462320@aou-rw-preprod-acef10ae.iam.gserviceaccount.com\" \\\n",
    "  --project \"${GOOGLE_PROJECT}\" \\\n",
    "  --zones \"us-central1-*\" \\\n",
    "  --network \"network\" \\\n",
    "  --subnetwork \"subnetwork\" \\\n",
    "  --image \"briansha/regenie:v2.0.1_boost\" \\\n",
    "  --logging \"${WORKSPACE_BUCKET}/dsub/logging/$(date +'%Y%m%d/%H%M%S')\" \\\n",
    "  --output OUT=\"${WORKSPACE_BUCKET}/dsub/hello-regenie/$(date +'%Y%m%d/%H%M%S')/out.txt\" \\\n",
    "  --command 'echo Hello world from regenie on the AoU workbench!! > \"${OUT}\"' \\\n",
    "  --wait"
   ]
  },
  {
   "cell_type": "code",
   "execution_count": null,
   "metadata": {},
   "outputs": [],
   "source": [
    "%%bash\n",
    "\n",
    "gsutil cat \"${WORKSPACE_BUCKET}/dsub/hello-regenie/$(date +'%Y%m%d')/*/out.txt\""
   ]
  },
  {
   "cell_type": "markdown",
   "metadata": {},
   "source": [
    "# Provenance "
   ]
  },
  {
   "cell_type": "code",
   "execution_count": null,
   "metadata": {},
   "outputs": [],
   "source": [
    "%%bash\n",
    "\n",
    "date"
   ]
  },
  {
   "cell_type": "code",
   "execution_count": null,
   "metadata": {},
   "outputs": [],
   "source": [
    "%%bash\n",
    "\n",
    "pip3 freeze"
   ]
  }
 ],
 "metadata": {
  "kernelspec": {
   "display_name": "Python 3",
   "language": "python",
   "name": "python3"
  },
  "language_info": {
   "codemirror_mode": {
    "name": "ipython",
    "version": 3
   },
   "file_extension": ".py",
   "mimetype": "text/x-python",
   "name": "python",
   "nbconvert_exporter": "python",
   "pygments_lexer": "ipython3",
   "version": "3.7.10"
  },
  "toc": {
   "base_numbering": 1,
   "nav_menu": {},
   "number_sections": true,
   "sideBar": true,
   "skip_h1_title": false,
   "title_cell": "Table of Contents",
   "title_sidebar": "Contents",
   "toc_cell": false,
   "toc_position": {},
   "toc_section_display": true,
   "toc_window_display": true
  }
 },
 "nbformat": 4,
 "nbformat_minor": 2
}

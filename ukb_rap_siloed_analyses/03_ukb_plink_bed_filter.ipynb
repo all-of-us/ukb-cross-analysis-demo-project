{
 "cells": [
  {
   "cell_type": "markdown",
   "metadata": {},
   "source": [
    "# Filter BED file\n",
    "\n",
    "In this notebook, we filter the UK Biobank 200k exome release BED files to include only the relevant variants using [PLINK2](https://www.cog-genomics.org/plink/2.0/).\n",
    "\n",
    "Note that this work is part of a larger project to [Demonstrate the Potential for Pooled Analysis of All of Us and UK Biobank Genomic Data](https://github.com/all-of-us/ukb-cross-analysis-demo-project). Specifically this is for the portion of the project that is the **siloed** analysis."
   ]
  },
  {
   "cell_type": "markdown",
   "metadata": {},
   "source": [
    "# Setup \n",
    "\n",
    "<div class=\"alert alert-block alert-warning\">\n",
    "    <b>Cloud Environment</b>: This notebook was written for use on the UK Biobank Research Analysis Platform.\n",
    "    <ul>\n",
    "        <li>Use compute type 'Standard VM' with sufficient CPU and RAM (e.g. start with 8 CPUs and 30 GB RAM, increase if needed).</li>\n",
    "        <li>This notebook can take a while to run (e.g., 30 minutes for the larger chromosomes). Recommend that it is run in the background via <kbd>dx run dxjupyterlab</kbd> which will also capture provenance.</li>\n",
    "    </ul>\n",
    "</div>\n",
    "\n",
    "To run on a single chromosome at a time:\n",
    "```\n",
    "CHROM=21\n",
    "dx run dxjupyterlab \\\n",
    "    --instance-type=mem2_ssd1_v2_x8 \\\n",
    "    -icmd=\"papermill 03_ukb_plink_bed_filter.ipynb 03_ukb_plink_bed_filter_chr${CHROM}_$(date +%Y%m%d).ipynb -p CHROM ${CHROM}\" \\\n",
    "    -iin=03_ukb_plink_bed_filter.ipynb \\\n",
    "    --folder=outputs/plink-make-bed/$(date +%Y%m%d)/\n",
    "```\n",
    "\n",
    "To run on all chromosomes in parallel:\n",
    "```\n",
    "for CHROM in {1..22}; do\n",
    "    dx run dxjupyterlab \\\n",
    "        --instance-type=mem2_ssd1_v2_x8 \\\n",
    "        -icmd=\"papermill 03_ukb_plink_bed_filter.ipynb 03_ukb_plink_bed_filter_chr${CHROM}_$(date +%Y%m%d).ipynb -p CHROM ${CHROM}\" \\\n",
    "        -iin=03_ukb_plink_bed_filter.ipynb \\\n",
    "        --folder=outputs/plink-make-bed/$(date +%Y%m%d)/ \\\n",
    "        --yes\n",
    "\n",
    "done\n",
    "```\n",
    "\n",
    "See also https://platform.dnanexus.com/app/dxjupyterlab"
   ]
  },
  {
   "cell_type": "code",
   "execution_count": null,
   "metadata": {},
   "outputs": [],
   "source": [
    "import os\n",
    "import pandas as pd"
   ]
  },
  {
   "cell_type": "markdown",
   "metadata": {},
   "source": [
    "## Setup plink2\n",
    "\n",
    "https://www.cog-genomics.org/plink/2.0/"
   ]
  },
  {
   "cell_type": "code",
   "execution_count": null,
   "metadata": {},
   "outputs": [],
   "source": [
    "%%bash\n",
    "\n",
    "##### plink 2 install\n",
    "PLINK_VERSION=2.3.Alpha\n",
    "PLINK_ZIP_PATH=/tmp/plink-$PLINK_VERSION.zip\n",
    "curl -L -o $PLINK_ZIP_PATH https://s3.amazonaws.com/plink2-assets/alpha2/plink2_linux_x86_64.zip\n",
    "mkdir -p /tmp/plink2/\n",
    "unzip -o $PLINK_ZIP_PATH -d /tmp/plink2/"
   ]
  },
  {
   "cell_type": "code",
   "execution_count": null,
   "metadata": {},
   "outputs": [],
   "source": [
    "!/tmp/plink2/plink2 --version # --help"
   ]
  },
  {
   "cell_type": "markdown",
   "metadata": {},
   "source": [
    "## Define constants\n",
    "\n",
    "This takes as input the WES data from UK Biobank."
   ]
  },
  {
   "cell_type": "code",
   "execution_count": null,
   "metadata": {
    "tags": [
     "parameters"
    ]
   },
   "outputs": [],
   "source": [
    "# Papermill parameters. See https://papermill.readthedocs.io/en/latest/usage-parameterize.html\n",
    "\n",
    "#---[ Inputs ]---\n",
    "CHROM = '22'\n",
    "# This was created via ukb_rap_siloed_analyses/02_ukb_lipids_phenotype.ipynb\n",
    "PHENOTYPES = '/mnt/project/outputs/r-prepare-phenotype/20220217/ukb_200kwes_lipids_phenotype.tsv'\n",
    "\n",
    "#---[ Outputs ]---\n",
    "FIXED_FAM = 'ukb23155_FIXED_b0_v1.fam'"
   ]
  },
  {
   "cell_type": "code",
   "execution_count": null,
   "metadata": {
    "tags": [
     "parameters"
    ]
   },
   "outputs": [],
   "source": [
    "# Constants that depend on parameters injected by papermill.\n",
    "\n",
    "#---[ Inputs ]---\n",
    "# Provided by UKB RAP.\n",
    "LOCAL_BED = f'/mnt/project/Bulk/Exome\\ sequences/Population\\ level\\ exome\\ OQFE\\ variants\\,\\ PLINK\\ format/ukb23155_c{CHROM}_b0_v1'\n",
    "LOCAL_FAM = f'/mnt/project/Bulk/Exome\\ sequences/Population\\ level\\ exome\\ OQFE\\ variants\\,\\ PLINK\\ format/ukb23155_c{CHROM}_b0_v1.fam'\n",
    "\n",
    "#---[ Outputs ]---\n",
    "PLINK_OUTPUT_FILENAME_PREFIX = f'ukb_200kwes_chr{CHROM}'"
   ]
  },
  {
   "cell_type": "markdown",
   "metadata": {},
   "source": [
    "## Get capture region intervals\n",
    "\n",
    "For details, see https://biobank.ndph.ox.ac.uk/ukb/refer.cgi?id=3803."
   ]
  },
  {
   "cell_type": "code",
   "execution_count": null,
   "metadata": {},
   "outputs": [],
   "source": [
    "!wget -nd biobank.ndph.ox.ac.uk/ukb/ukb/auxdata/xgen_plus_spikein.GRCh38.bed"
   ]
  },
  {
   "cell_type": "markdown",
   "metadata": {},
   "source": [
    "## Copy fam locally for editing"
   ]
  },
  {
   "cell_type": "code",
   "execution_count": null,
   "metadata": {},
   "outputs": [],
   "source": [
    "!sed -r -e 's|redacted|-9|' {LOCAL_FAM} > {FIXED_FAM}"
   ]
  },
  {
   "cell_type": "markdown",
   "metadata": {},
   "source": [
    "# Write out the filtered BED file."
   ]
  },
  {
   "cell_type": "code",
   "execution_count": null,
   "metadata": {},
   "outputs": [],
   "source": [
    "!/tmp/plink2/plink2 \\\n",
    "  --bfile {LOCAL_BED} \\\n",
    "  --psam {FIXED_FAM} \\\n",
    "  --chr 1-22 \\\n",
    "  --keep {PHENOTYPES} \\\n",
    "  --extract bed0 xgen_plus_spikein.GRCh38.bed \\\n",
    "  --mac 6 \\\n",
    "  --make-bed \\\n",
    "  --out {PLINK_OUTPUT_FILENAME_PREFIX}_plink_makebed"
   ]
  },
  {
   "cell_type": "code",
   "execution_count": null,
   "metadata": {},
   "outputs": [],
   "source": [
    "%%bash\n",
    "\n",
    "ls -lat | head"
   ]
  },
  {
   "cell_type": "markdown",
   "metadata": {},
   "source": [
    "# Provenance "
   ]
  },
  {
   "cell_type": "code",
   "execution_count": null,
   "metadata": {},
   "outputs": [],
   "source": [
    "%%bash\n",
    "\n",
    "date"
   ]
  },
  {
   "cell_type": "code",
   "execution_count": null,
   "metadata": {},
   "outputs": [],
   "source": [
    "%%bash\n",
    "\n",
    "pip3 freeze"
   ]
  }
 ],
 "metadata": {
  "kernelspec": {
   "display_name": "Python 3",
   "language": "python",
   "name": "python3"
  },
  "language_info": {
   "codemirror_mode": {
    "name": "ipython",
    "version": 3
   },
   "file_extension": ".py",
   "mimetype": "text/x-python",
   "name": "python",
   "nbconvert_exporter": "python",
   "pygments_lexer": "ipython3",
   "version": "3.6.5"
  },
  "toc": {
   "base_numbering": 1,
   "nav_menu": {},
   "number_sections": true,
   "sideBar": true,
   "skip_h1_title": false,
   "title_cell": "Table of Contents",
   "title_sidebar": "Contents",
   "toc_cell": false,
   "toc_position": {
    "height": "calc(100% - 180px)",
    "left": "10px",
    "top": "150px",
    "width": "214px"
   },
   "toc_section_display": true,
   "toc_window_display": true
  }
 },
 "nbformat": 4,
 "nbformat_minor": 4
}

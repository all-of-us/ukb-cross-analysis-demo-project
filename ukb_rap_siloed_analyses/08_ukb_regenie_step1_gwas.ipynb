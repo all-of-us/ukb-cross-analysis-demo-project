{
 "cells": [
  {
   "cell_type": "markdown",
   "metadata": {},
   "source": [
    "# Run a GWAS via regenie step 1\n",
    "\n",
    "In this notebook, we perform a genome-wide association study using [regenie](https://rgcgithub.github.io/regenie/). This is step one of two.\n",
    "\n",
    "Note that this work is part of a larger project to [Demonstrate the Potential for Pooled Analysis of All of Us and UK Biobank Genomic Data](https://docs.google.com/document/d/19ZS0z_-7FEM37pNDAXaWaqBSLnqyd9MZEkiOmtF3n_0/edit#). Specifically this is for the portion of the project that is the **siloed** analysis."
   ]
  },
  {
   "cell_type": "markdown",
   "metadata": {},
   "source": [
    "# Setup \n",
    "\n",
    "\n",
    "<div class=\"alert alert-block alert-warning\">\n",
    "    <b>Cloud Environment</b>: This notebook was written for use on the UK Biobank Research Analysis Platform.\n",
    "    <ul>\n",
    "        <li>Use compute type 'Single Node' with sufficient CPU and RAM (e.g. start with 8 CPUs and 30 GB RAM, increase if needed).</li>\n",
    "        <li>This notebook can take a while to run. Recommend that it is run in the background via <kbd>dx run dxjupyterlab</kbd> which will also capture provenance.</li>\n",
    "    </ul>\n",
    "</div>\n",
    "\n",
    "```\n",
    "dx run dxjupyterlab \\\n",
    "    --instance-type=mem2_ssd1_v2_x8 \\\n",
    "    -icmd=\"papermill 08_ukb_regenie_step1_gwas.ipynb 08_ukb_regenie_step1_gwas_$(date +%Y%m%d).ipynb\" \\\n",
    "    -iin=08_ukb_regenie_step1_gwas.ipynb \\\n",
    "    -iduration=1440 \\\n",
    "    --folder=outputs/regenie-step-1/$(date +%Y%m%d)/\n",
    "```\n",
    "See also https://platform.dnanexus.com/app/dxjupyterlab"
   ]
  },
  {
   "cell_type": "code",
   "execution_count": null,
   "metadata": {},
   "outputs": [],
   "source": [
    "from datetime import datetime\n",
    "import os\n",
    "import pandas as pd\n",
    "import time"
   ]
  },
  {
   "cell_type": "markdown",
   "metadata": {},
   "source": [
    "## Setup regenie"
   ]
  },
  {
   "cell_type": "code",
   "execution_count": null,
   "metadata": {},
   "outputs": [],
   "source": [
    "%%bash\n",
    "\n",
    "REGENIE_VERSION=v2.2.4\n",
    "rm regenie.zip\n",
    "curl -L -o regenie.zip \"https://github.com/rgcgithub/regenie/releases/download/${REGENIE_VERSION}/regenie_${REGENIE_VERSION}.gz_x86_64_Linux.zip\"\n",
    "unzip -o regenie.zip"
   ]
  },
  {
   "cell_type": "code",
   "execution_count": null,
   "metadata": {},
   "outputs": [],
   "source": [
    "!./regenie_v2.2.4.gz_x86_64_Linux --version # --help"
   ]
  },
  {
   "cell_type": "markdown",
   "metadata": {},
   "source": [
    "## Define constants"
   ]
  },
  {
   "cell_type": "code",
   "execution_count": null,
   "metadata": {
    "tags": [
     "parameters"
    ]
   },
   "outputs": [],
   "source": [
    "# Papermill parameters. See https://papermill.readthedocs.io/en/latest/usage-parameterize.html\n",
    "\n",
    "#---[ Inputs ]---\n",
    "# This was created via ukb_rap_siloed_analyses/04_ukb_plink_merge_bed_files.ipynb\n",
    "BED_FILE = '/mnt/project/outputs/plink-merge-bed/20211109/ukb_200kwes_filtered_plink_mergebed'\n",
    "# This was created via ukb_rap_siloed_analyses/07_ukb_lipids_phenotype_for_gwas.ipynb\n",
    "GWAS_PHENOTYPES = '/mnt/project/outputs/r-prepare-phenotype/20211110/ukb_200kwes_lipids_phenotypes.tsv'\n",
    "# These two files were created via notebook ukb_rap_siloed_analyses/05_ukb_plink_variant_qc.ipynb\n",
    "QCED_VARIANTS = '/mnt/project/outputs/plink-variant-qc/20220201/ukb_200kwes_lipids_regenie_step1_plink_variant_qc.snplist'\n",
    "QCED_SAMPLES = '/mnt/project/outputs/plink-variant-qc/20220201/ukb_200kwes_lipids_regenie_step1_plink_variant_qc.id'\n",
    "\n",
    "#---[ Outputs ]---\n",
    "REGENIE_OUTPUT_FILENAME_PREFIX = 'ukb_200kwes_lipids'"
   ]
  },
  {
   "cell_type": "markdown",
   "metadata": {},
   "source": [
    "# regenie step 1\n",
    "\n",
    "From https://rgcgithub.github.io/regenie/overview/:\n",
    "> In the first step a subset of genetic markers are used to fit a whole genome regression model that captures a good fraction of the phenotype variance attributable to genetic effects."
   ]
  },
  {
   "cell_type": "code",
   "execution_count": null,
   "metadata": {},
   "outputs": [],
   "source": [
    "!./regenie_v2.2.4.gz_x86_64_Linux \\\n",
    "    --step 1 \\\n",
    "    --bed={BED_FILE} \\\n",
    "    --phenoFile={GWAS_PHENOTYPES} \\\n",
    "    --phenoColList=TC_adj_mg_dl_norm,LDL_adj_mg_dl_norm,HDL_mg_dl_norm,TG_log_mg_dl_norm \\\n",
    "    --covarFile={GWAS_PHENOTYPES} \\\n",
    "    --catCovarList=sex \\\n",
    "    --covarColList=age,age2,PC1,PC2,PC3,PC4,PC5,PC6,PC7,PC8,PC9,PC10 \\\n",
    "    --extract {QCED_VARIANTS} \\\n",
    "    --keep {QCED_SAMPLES} \\\n",
    "    --bsize 1000 \\\n",
    "    --verbose \\\n",
    "    --out {REGENIE_OUTPUT_FILENAME_PREFIX}_regenie_step1"
   ]
  },
  {
   "cell_type": "code",
   "execution_count": null,
   "metadata": {},
   "outputs": [],
   "source": [
    "!ls -lth . | head"
   ]
  },
  {
   "cell_type": "markdown",
   "metadata": {},
   "source": [
    "# Provenance "
   ]
  },
  {
   "cell_type": "code",
   "execution_count": null,
   "metadata": {},
   "outputs": [],
   "source": [
    "%%bash\n",
    "\n",
    "date"
   ]
  },
  {
   "cell_type": "code",
   "execution_count": null,
   "metadata": {},
   "outputs": [],
   "source": [
    "%%bash\n",
    "\n",
    "pip3 freeze"
   ]
  }
 ],
 "metadata": {
  "kernelspec": {
   "display_name": "Python 3",
   "language": "python",
   "name": "python3"
  },
  "language_info": {
   "codemirror_mode": {
    "name": "ipython",
    "version": 3
   },
   "file_extension": ".py",
   "mimetype": "text/x-python",
   "name": "python",
   "nbconvert_exporter": "python",
   "pygments_lexer": "ipython3",
   "version": "3.6.5"
  },
  "toc": {
   "base_numbering": 1,
   "nav_menu": {},
   "number_sections": true,
   "sideBar": true,
   "skip_h1_title": false,
   "title_cell": "Table of Contents",
   "title_sidebar": "Contents",
   "toc_cell": false,
   "toc_position": {
    "height": "calc(100% - 180px)",
    "left": "10px",
    "top": "150px",
    "width": "355px"
   },
   "toc_section_display": true,
   "toc_window_display": true
  }
 },
 "nbformat": 4,
 "nbformat_minor": 4
}

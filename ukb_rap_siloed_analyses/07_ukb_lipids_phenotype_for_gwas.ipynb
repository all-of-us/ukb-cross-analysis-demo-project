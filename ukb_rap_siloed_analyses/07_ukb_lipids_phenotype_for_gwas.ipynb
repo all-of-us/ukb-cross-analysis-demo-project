{
 "cells": [
  {
   "cell_type": "markdown",
   "metadata": {},
   "source": [
    "# Normalize a lipids phenotype for a GWAS study\n",
    "\n",
    "In this notebook we use the UK Biobank data to normalize a prepared lipids phenotype for use in a GWAS study.\n",
    "\n",
    "  \n",
    "Note that this work is part of a larger project to [Demonstrate the Potential for Pooled Analysis of All of Us and UK Biobank Genomic Data](https://docs.google.com/document/d/19ZS0z_-7FEM37pNDAXaWaqBSLnqyd9MZEkiOmtF3n_0/edit#). Specifically this is for the portion of the project that is the **siloed** analysis."
   ]
  },
  {
   "cell_type": "markdown",
   "metadata": {},
   "source": [
    "# Setup\n",
    "\n",
    "<div class=\"alert alert-block alert-warning\">\n",
    "    <b>Cloud Environment</b>: This notebook was written for use on the UK Biobank Research Analysis Platform.\n",
    "    <ul>\n",
    "        <li>Use compute type 'Single Node' with sufficient CPU and RAM (e.g. start with 4 CPUs and 15 GB RAM, increase if needed).</li>\n",
    "        <li>This notebook is pretty fast, but in general it is recommended to be run in the background via <kbd>dx run dxjupyterlab</kbd> to capture provenance.</li>\n",
    "    </ul>\n",
    "</div>\n",
    "\n",
    "```\n",
    "dx run dxjupyterlab \\\n",
    "    --instance-type=mem2_ssd1_v2_x4 \\\n",
    "    -icmd=\"papermill 07_ukb_lipids_phenotype_for_gwas.ipynb 07_ukb_lipids_phenotype_for_gwas_$(date +%Y%m%d).ipynb\" \\\n",
    "    -iin=07_ukb_lipids_phenotype_for_gwas.ipynb \\\n",
    "    --folder=outputs/r-prepare-phenotype-for-gwas/$(date +%Y%m%d)/\n",
    "```\n",
    "See also https://platform.dnanexus.com/app/dxjupyterlab"
   ]
  },
  {
   "cell_type": "code",
   "execution_count": null,
   "metadata": {},
   "outputs": [],
   "source": [
    "lapply(c('lubridate', 'skimr', 'tidyverse'),\n",
    "       function(pkg) { if(! pkg %in% installed.packages()) { install.packages(pkg)} } )"
   ]
  },
  {
   "cell_type": "code",
   "execution_count": null,
   "metadata": {},
   "outputs": [],
   "source": [
    "library(lubridate)\n",
    "library(skimr)\n",
    "library(tidyverse)"
   ]
  },
  {
   "cell_type": "code",
   "execution_count": null,
   "metadata": {},
   "outputs": [],
   "source": [
    "## Plot setup.\n",
    "theme_set(theme_bw(base_size = 16)) # Default theme for plots.\n",
    "\n",
    "#' Returns a data frame with a y position and a label, for use annotating ggplot boxplots.\n",
    "#'\n",
    "#' @param d A data frame.\n",
    "#' @return A data frame with column y as max and column label as length.\n",
    "get_boxplot_fun_data <- function(df) {\n",
    "  return(data.frame(y = max(df), label = stringr::str_c('N = ', length(df))))\n",
    "}"
   ]
  },
  {
   "cell_type": "markdown",
   "metadata": {},
   "source": [
    "## Define constants"
   ]
  },
  {
   "cell_type": "code",
   "execution_count": null,
   "metadata": {
    "tags": [
     "parameters"
    ]
   },
   "outputs": [],
   "source": [
    "# Papermill parameters. See https://papermill.readthedocs.io/en/latest/usage-parameterize.html\n",
    "\n",
    "#---[ Inputs ]---\n",
    "# This was created via ukb_rap_siloed_analyses/02_ukb_lipids_phenotype.ipynb\n",
    "PHENOTYPES = '/mnt/project/outputs/r-prepare-phenotype/20220217/ukb_200kwes_lipids_phenotype.tsv'\n",
    "# This was created via ukb_rap_siloed_analyses/06_ukb_plink_ld_and_pca.ipynb\n",
    "PCS = '/mnt/project/outputs/plink-ld-pca/20220219/ukb_200kwes_lipids_plink_pca.eigenvec'\n",
    "\n",
    "#---[ Outputs ]---\n",
    "GWAS_PHENOTYPE_FILENAME = 'ukb_200kwes_lipids_gwas_phenotype.tsv'"
   ]
  },
  {
   "cell_type": "markdown",
   "metadata": {},
   "source": [
    "# Load data "
   ]
  },
  {
   "cell_type": "code",
   "execution_count": null,
   "metadata": {},
   "outputs": [],
   "source": [
    "system(str_glue('cp {PHENOTYPES} .'), intern=TRUE)\n",
    "pheno <- read_tsv(basename(PHENOTYPES))"
   ]
  },
  {
   "cell_type": "code",
   "execution_count": null,
   "metadata": {},
   "outputs": [],
   "source": [
    "skim(pheno)"
   ]
  },
  {
   "cell_type": "code",
   "execution_count": null,
   "metadata": {},
   "outputs": [],
   "source": [
    "system(str_glue('cp {PCS} .'), intern=TRUE)\n",
    "pcs <- read_tsv(basename(PCS))"
   ]
  },
  {
   "cell_type": "code",
   "execution_count": null,
   "metadata": {},
   "outputs": [],
   "source": [
    "head(pcs)"
   ]
  },
  {
   "cell_type": "markdown",
   "metadata": {},
   "source": [
    "# Add the ancestry covariates"
   ]
  },
  {
   "cell_type": "code",
   "execution_count": null,
   "metadata": {},
   "outputs": [],
   "source": [
    "# Confirm that the id sets are identical.\n",
    "stopifnot(sort(pcs$IID) == sort(pheno$IID))"
   ]
  },
  {
   "cell_type": "code",
   "execution_count": null,
   "metadata": {},
   "outputs": [],
   "source": [
    "pheno <- left_join(pheno, pcs, by = c('FID' = '#FID', 'IID'))"
   ]
  },
  {
   "cell_type": "markdown",
   "metadata": {},
   "source": [
    "# Normalize lipids values"
   ]
  },
  {
   "cell_type": "code",
   "execution_count": null,
   "metadata": {},
   "outputs": [],
   "source": [
    "pheno$TC_adj_mg_dl_resid = resid(lm(TC_adj_mg_dl ~ sex+age+age2+PC1+PC2+PC3+PC4+PC5+PC6+PC7+PC8+PC9+PC10, data=pheno, na.action=na.exclude))\n",
    "pheno$LDL_adj_mg_dl_resid = resid(lm(LDL_adj_mg_dl ~ sex+age+age2+PC1+PC2+PC3+PC4+PC5+PC6+PC7+PC8+PC9+PC10, data=pheno, na.action=na.exclude))\n",
    "pheno$HDL_mg_dl_resid = resid(lm(HDL_mg_dl ~ sex+age+age2+PC1+PC2+PC3+PC4+PC5+PC6+PC7+PC8+PC9+PC10, data=pheno, na.action=na.exclude))\n",
    "pheno$TG_log_mg_dl_resid = resid(lm(TG_log_mg_dl ~ sex+age+age2+PC1+PC2+PC3+PC4+PC5+PC6+PC7+PC8+PC9+PC10, data=pheno, na.action=na.exclude))"
   ]
  },
  {
   "cell_type": "code",
   "execution_count": null,
   "metadata": {},
   "outputs": [],
   "source": [
    "pheno$TC_adj_mg_dl_norm <- sd(pheno$TC_adj_mg_dl_resid, na.rm = TRUE) * scale(qnorm(\n",
    "    (rank(pheno$TC_adj_mg_dl_resid, na.last = 'keep') - 0.5) / sum(!is.na(pheno$TC_adj_mg_dl_resid)) ))\n",
    "pheno$LDL_adj_mg_dl_norm <- sd(pheno$LDL_adj_mg_dl_resid, na.rm = TRUE) * scale(qnorm(\n",
    "    (rank(pheno$LDL_adj_mg_dl_resid, na.last = 'keep') - 0.5) / sum(!is.na(pheno$LDL_adj_mg_dl_resid)) ))\n",
    "pheno$HDL_mg_dl_norm <- sd(pheno$HDL_mg_dl_resid, na.rm = TRUE) * scale(qnorm(\n",
    "    (rank(pheno$HDL_mg_dl_resid, na.last = 'keep') - 0.5) / sum(!is.na(pheno$HDL_mg_dl_resid)) ))\n",
    "pheno$TG_log_mg_dl_norm <- sd(pheno$TG_log_mg_dl_resid, na.rm = TRUE) * scale(qnorm(\n",
    "    (rank(pheno$TG_log_mg_dl_resid, na.last = 'keep') - 0.5) / sum(!is.na(pheno$TG_log_mg_dl_resid)) ))"
   ]
  },
  {
   "cell_type": "markdown",
   "metadata": {},
   "source": [
    "## Check that NAs were handled correctly"
   ]
  },
  {
   "cell_type": "code",
   "execution_count": null,
   "metadata": {},
   "outputs": [],
   "source": [
    "head(pheno %>% filter(!is.na(LDL_adj_mg_dl)) %>% select(starts_with('LDL'), starts_with('TG')))"
   ]
  },
  {
   "cell_type": "code",
   "execution_count": null,
   "metadata": {},
   "outputs": [],
   "source": [
    "head(pheno %>% filter(is.na(LDL_adj_mg_dl)) %>% select(starts_with('LDL'), starts_with('TG')))"
   ]
  },
  {
   "cell_type": "markdown",
   "metadata": {},
   "source": [
    "## Convert matrix columns to vectors"
   ]
  },
  {
   "cell_type": "code",
   "execution_count": null,
   "metadata": {},
   "outputs": [],
   "source": [
    "class(pheno$TC_adj_mg_dl_resid)\n",
    "dim(pheno$TC_adj_mg_dl_resid)\n",
    "class(pheno$TC_adj_mg_dl_norm)\n",
    "dim(pheno$TC_adj_mg_dl_norm)\n",
    "dim(pheno$LDL_adj_mg_dl_norm)\n",
    "dim(pheno$HDL_mg_dl_norm)\n",
    "dim(pheno$TG_log_mg_dl_norm)"
   ]
  },
  {
   "cell_type": "code",
   "execution_count": null,
   "metadata": {},
   "outputs": [],
   "source": [
    "class(pheno$TC_adj_mg_dl_norm[,1])\n",
    "dim(pheno$TC_adj_mg_dl_norm[,1])\n",
    "length((pheno$TC_adj_mg_dl_norm[,1]))"
   ]
  },
  {
   "cell_type": "code",
   "execution_count": null,
   "metadata": {},
   "outputs": [],
   "source": [
    "pheno <- pheno %>%\n",
    "    mutate(\n",
    "        TC_adj_mg_dl_norm = TC_adj_mg_dl_norm[,1],\n",
    "        LDL_adj_mg_dl_norm = LDL_adj_mg_dl_norm[,1],\n",
    "        HDL_mg_dl_norm = HDL_mg_dl_norm[,1],\n",
    "        TG_log_mg_dl_norm = TG_log_mg_dl_norm[,1]\n",
    "    )\n",
    "\n",
    "head(pheno)"
   ]
  },
  {
   "cell_type": "markdown",
   "metadata": {},
   "source": [
    "# Write the prepared phenotype to TSV for regenie"
   ]
  },
  {
   "cell_type": "code",
   "execution_count": null,
   "metadata": {},
   "outputs": [],
   "source": [
    "skim(pheno)"
   ]
  },
  {
   "cell_type": "code",
   "execution_count": null,
   "metadata": {},
   "outputs": [],
   "source": [
    "write_tsv(pheno, GWAS_PHENOTYPE_FILENAME)"
   ]
  },
  {
   "cell_type": "markdown",
   "metadata": {},
   "source": [
    "# Provenance "
   ]
  },
  {
   "cell_type": "code",
   "execution_count": null,
   "metadata": {},
   "outputs": [],
   "source": [
    "devtools::session_info()"
   ]
  }
 ],
 "metadata": {
  "kernelspec": {
   "display_name": "R",
   "language": "R",
   "name": "ir"
  },
  "language_info": {
   "codemirror_mode": "r",
   "file_extension": ".r",
   "mimetype": "text/x-r-source",
   "name": "R",
   "pygments_lexer": "r",
   "version": "3.6.3"
  }
 },
 "nbformat": 4,
 "nbformat_minor": 4
}

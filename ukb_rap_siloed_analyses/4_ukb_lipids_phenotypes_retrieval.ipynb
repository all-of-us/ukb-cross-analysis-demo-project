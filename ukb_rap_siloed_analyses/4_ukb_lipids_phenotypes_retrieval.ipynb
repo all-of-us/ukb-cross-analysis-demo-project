{
 "cells": [
  {
   "cell_type": "markdown",
   "metadata": {},
   "source": [
    "# Retrieve UK Biobank lipids phenotypes and covariates\n",
    "\n",
    "In this notebook we retrieve lipid phenotypes and covariates from the database using Spark SQL and store that extract as a CSV for further downstream use.\n",
    "  * https://biobank.ndph.ox.ac.uk/showcase/field.cgi?id=30690\n",
    "  * https://biobank.ndph.ox.ac.uk/showcase/field.cgi?id=30760\n",
    "  * https://biobank.ndph.ox.ac.uk/showcase/field.cgi?id=30780\n",
    "  * https://biobank.ndph.ox.ac.uk/showcase/field.cgi?id=30870"
   ]
  },
  {
   "cell_type": "markdown",
   "metadata": {},
   "source": [
    "# Setup\n",
    "\n",
    "<div class=\"alert alert-block alert-warning\">\n",
    "    <b>Cloud Environment</b>: This notebook was written for use on the UK Biobank Research Analysis Platform..\n",
    "    <ul>\n",
    "        <li>Use compute type 'Spark Cluster' with default CPU, RAM, and worker instances.</li>\n",
    "        <li>This notebook is pretty fast, but in general it is recommended to be run in the background via <kbd>dx run dxjupyterlab_spark_cluster</kbd> to capture provenance.</li>\n",
    "    </ul>\n",
    "</div>\n",
    "\n",
    "```\n",
    "dx run dxjupyterlab_spark_cluster \\\n",
    "    -icmd=\"papermill 4_ukb_lipids_phenotypes_retrieval.ipynb 4_ukb_lipids_phenotypes_retrieval_$(date +%Y%m%d).ipynb\" \\\n",
    "    -iin=4_ukb_lipids_phenotypes_retrieval.ipynb \\\n",
    "    --folder=outputs/spark-pheno-retrieval/$(date +%Y%m%d)/\n",
    "```\n",
    "See also https://platform.dnanexus.com/app/dxjupyterlab_spark_cluster"
   ]
  },
  {
   "cell_type": "code",
   "execution_count": null,
   "metadata": {},
   "outputs": [],
   "source": [
    "import dxdata\n",
    "import pandas as pd\n",
    "import re"
   ]
  },
  {
   "cell_type": "markdown",
   "metadata": {},
   "source": [
    "## Define constants"
   ]
  },
  {
   "cell_type": "code",
   "execution_count": null,
   "metadata": {
    "tags": [
     "parameters"
    ]
   },
   "outputs": [],
   "source": [
    "# Papermill parameters. See https://papermill.readthedocs.io/en/latest/usage-parameterize.html\n",
    "\n",
    "# Inputs\n",
    "UKB_TABULAR_DATASET = 'app7089_202103231620.dataset'\n",
    "\n",
    "# Outputs\n",
    "DRUG_MAPPING_FILENAME = 'drug_mapping.csv'\n",
    "PHENO_DATA_FILENAME = 'lipids.csv'"
   ]
  },
  {
   "cell_type": "markdown",
   "metadata": {},
   "source": [
    "## Initialize dxdata engine."
   ]
  },
  {
   "cell_type": "code",
   "execution_count": null,
   "metadata": {},
   "outputs": [],
   "source": [
    "engine = dxdata.connect(dialect='hive+pyspark')\n",
    "pt = engine.execute('SET spark.sql.shuffle.partitions=50').to_pandas()"
   ]
  },
  {
   "cell_type": "code",
   "execution_count": null,
   "metadata": {},
   "outputs": [],
   "source": [
    "dataset = dxdata.load_dataset(UKB_TABULAR_DATASET)"
   ]
  },
  {
   "cell_type": "code",
   "execution_count": null,
   "metadata": {},
   "outputs": [],
   "source": [
    "participant = dataset['participant']"
   ]
  },
  {
   "cell_type": "markdown",
   "metadata": {},
   "source": [
    "## Discover the lipid and covariate fields of interest "
   ]
  },
  {
   "cell_type": "code",
   "execution_count": null,
   "metadata": {},
   "outputs": [],
   "source": [
    "def print_field_list(fields):\n",
    "    for field in sorted(fields, key=lambda fld: fld.title):\n",
    "        print(f'\\n{field.column_name}: {field.title}')\n",
    "        print(f'\\t{field.units}')\n",
    "        print(f'\\t{field.type}')\n",
    "        print(f'\\t{field.coding}')\n",
    "        if field.coding is not None and field.coding.name != 'data_coding_4':\n",
    "            print(f'\\t{field.coding.codes}')"
   ]
  },
  {
   "cell_type": "code",
   "execution_count": null,
   "metadata": {},
   "outputs": [],
   "source": [
    "fields_by_title = list(participant.find_fields(titles=['Sex', 'Date of birth']))\n",
    "print_field_list(fields_by_title)"
   ]
  },
  {
   "cell_type": "markdown",
   "metadata": {},
   "source": [
    "### Where is field 'Date of Birth'?\n",
    "\n",
    "<div class=\"alert alert-block alert-danger\">\n",
    "The Date of Birth field does not appear to reside in the default UKB_TABULAR_DATASET.\n",
    "</div>\n"
   ]
  },
  {
   "cell_type": "code",
   "execution_count": null,
   "metadata": {},
   "outputs": [],
   "source": [
    "print_field_list(list(participant.find_fields(names=['p33', 'p31'])))"
   ]
  },
  {
   "cell_type": "code",
   "execution_count": null,
   "metadata": {},
   "outputs": [],
   "source": [
    "print_field_list(list(participant.find_fields(name_regex='(?i)p33')))"
   ]
  },
  {
   "cell_type": "code",
   "execution_count": null,
   "metadata": {},
   "outputs": [],
   "source": [
    "print_field_list(list(participant.find_fields(title_regex='(?i)birth')))"
   ]
  },
  {
   "cell_type": "code",
   "execution_count": null,
   "metadata": {},
   "outputs": [],
   "source": [
    "fields_by_title_regex = list(participant.find_fields(title_regex='(?i)cholesterol|hdl|ldl|triglycerides|Age when attended assessment centre|treatment/medication code'))\n",
    "len(fields_by_title_regex)"
   ]
  },
  {
   "cell_type": "code",
   "execution_count": null,
   "metadata": {},
   "outputs": [],
   "source": [
    "all_fields = fields_by_title + fields_by_title_regex\n",
    "print_field_list(all_fields)"
   ]
  },
  {
   "cell_type": "markdown",
   "metadata": {},
   "source": [
    "## Discover the coding for the statin drugs of interest"
   ]
  },
  {
   "cell_type": "code",
   "execution_count": null,
   "metadata": {},
   "outputs": [],
   "source": [
    "drug_mapping = {k : field.coding.codes[str(k)] for field in all_fields\n",
    "    if field.coding is not None and field.coding.name == 'data_coding_4'\n",
    "        for k in [1140861958, 1140861970, 1140864592, 1140881748, 1140888594, 1140888648, 1140910632, 1140910654, 1141146138, 1141146234, 1141192410, 1141192414, 1141200040]}\n",
    "\n",
    "drug_mapping"
   ]
  },
  {
   "cell_type": "code",
   "execution_count": null,
   "metadata": {},
   "outputs": [],
   "source": [
    "drug_mapping_df = pd.DataFrame.from_dict(drug_mapping, orient='index', columns=['drug_name']).rename_axis('drug_number').reset_index()\n",
    "\n",
    "drug_mapping_df"
   ]
  },
  {
   "cell_type": "markdown",
   "metadata": {},
   "source": [
    "## Retrieve the data"
   ]
  },
  {
   "cell_type": "code",
   "execution_count": null,
   "metadata": {},
   "outputs": [],
   "source": [
    "import time\n",
    "\n",
    "start = time.time()\n",
    "pheno_data = participant.retrieve_fields(engine=engine, fields=all_fields, coding_values='replace').toPandas()\n",
    "end = time.time()\n",
    "print(end - start)"
   ]
  },
  {
   "cell_type": "code",
   "execution_count": null,
   "metadata": {},
   "outputs": [],
   "source": [
    "pheno_data.shape"
   ]
  },
  {
   "cell_type": "code",
   "execution_count": null,
   "metadata": {},
   "outputs": [],
   "source": [
    "# Uncomment to see row level data.\n",
    "#pheno_data.head()"
   ]
  },
  {
   "cell_type": "code",
   "execution_count": null,
   "metadata": {},
   "outputs": [],
   "source": [
    "pheno_data.columns"
   ]
  },
  {
   "cell_type": "markdown",
   "metadata": {},
   "source": [
    "### Construct improved column names "
   ]
  },
  {
   "cell_type": "code",
   "execution_count": null,
   "metadata": {},
   "outputs": [],
   "source": [
    "col_names = {'eid': 'eid'}\n",
    "for field in sorted(all_fields, key=lambda fld: fld.name):\n",
    "    name = '_'.join([field.column_name, re.sub(' \\| Instance \\d', '', field.title).replace(' ', '_').replace('/', '_')])\n",
    "    if field.units is not None:\n",
    "        name += f'_{field.units.replace(\" \", \"_\").replace(\"/\", \"_\")}'\n",
    "    print(name)\n",
    "    col_names[field.column_name] = name"
   ]
  },
  {
   "cell_type": "code",
   "execution_count": null,
   "metadata": {},
   "outputs": [],
   "source": [
    "pheno_data = pheno_data.rename(columns=col_names)"
   ]
  },
  {
   "cell_type": "code",
   "execution_count": null,
   "metadata": {},
   "outputs": [],
   "source": [
    "pheno_data.columns"
   ]
  },
  {
   "cell_type": "markdown",
   "metadata": {},
   "source": [
    "## Write out the data extract to a CSV "
   ]
  },
  {
   "cell_type": "code",
   "execution_count": null,
   "metadata": {},
   "outputs": [],
   "source": [
    "drug_mapping_df.to_csv(DRUG_MAPPING_FILENAME, index=False)"
   ]
  },
  {
   "cell_type": "code",
   "execution_count": null,
   "metadata": {},
   "outputs": [],
   "source": [
    "pheno_data.to_csv(PHENO_DATA_FILENAME, index=False)"
   ]
  },
  {
   "cell_type": "markdown",
   "metadata": {},
   "source": [
    "# Provanance"
   ]
  },
  {
   "cell_type": "code",
   "execution_count": null,
   "metadata": {},
   "outputs": [],
   "source": [
    "import datetime\n",
    "print(datetime.datetime.now())"
   ]
  },
  {
   "cell_type": "code",
   "execution_count": null,
   "metadata": {},
   "outputs": [],
   "source": [
    "!pip3 freeze"
   ]
  },
  {
   "cell_type": "code",
   "execution_count": null,
   "metadata": {},
   "outputs": [],
   "source": []
  }
 ],
 "metadata": {
  "kernelspec": {
   "display_name": "Python 3",
   "language": "python",
   "name": "python3"
  },
  "language_info": {
   "codemirror_mode": {
    "name": "ipython",
    "version": 3
   },
   "file_extension": ".py",
   "mimetype": "text/x-python",
   "name": "python",
   "nbconvert_exporter": "python",
   "pygments_lexer": "ipython3",
   "version": "3.6.5"
  }
 },
 "nbformat": 4,
 "nbformat_minor": 4
}

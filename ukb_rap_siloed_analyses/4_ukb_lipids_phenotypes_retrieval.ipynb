{
 "cells": [
  {
   "cell_type": "markdown",
   "id": "1689bab6",
   "metadata": {},
   "source": [
    "# Retrieve UK Biobank lipids phenotypes and covariates\n",
    "\n",
    "This notebook retrieves lipid phenotypes and covariates from the database using Spark SQL and stores that extract as a CSV for further downstream use."
   ]
  },
  {
   "cell_type": "markdown",
   "id": "657526dc",
   "metadata": {},
   "source": [
    "# Setup\n",
    "\n",
    "<div class='alert alert-block alert-warning'>\n",
    "This notebook will run correctly on the UK Biobank Research Analysis Platform.\n",
    "</div>"
   ]
  },
  {
   "cell_type": "code",
   "execution_count": null,
   "id": "13d8205d",
   "metadata": {},
   "outputs": [],
   "source": [
    "import dxdata\n",
    "import pandas as pd\n",
    "import re"
   ]
  },
  {
   "cell_type": "code",
   "execution_count": null,
   "id": "8559667f",
   "metadata": {},
   "outputs": [],
   "source": [
    "# Initialize dxdata engine\n",
    "engine = dxdata.connect(dialect='hive+pyspark')\n",
    "pt = engine.execute('SET spark.sql.shuffle.partitions=50').to_pandas()"
   ]
  },
  {
   "cell_type": "code",
   "execution_count": null,
   "id": "765f4f80",
   "metadata": {},
   "outputs": [],
   "source": [
    "dataset = dxdata.load_dataset('app7089_202103231620.dataset')"
   ]
  },
  {
   "cell_type": "code",
   "execution_count": null,
   "id": "24cf4ae1",
   "metadata": {},
   "outputs": [],
   "source": [
    "participant = dataset['participant']"
   ]
  },
  {
   "cell_type": "markdown",
   "id": "2a0558e9",
   "metadata": {},
   "source": [
    "## Discover the fields of interest "
   ]
  },
  {
   "cell_type": "code",
   "execution_count": null,
   "id": "785cd6de",
   "metadata": {},
   "outputs": [],
   "source": [
    "def print_field_list(fields):\n",
    "    for field in sorted(fields, key=lambda fld: fld.title):\n",
    "        print(f'\\n{field.column_name}: {field.title}')\n",
    "        print(f'\\t{field.units}')\n",
    "        print(f'\\t{field.type}')\n",
    "        print(f'\\t{field.coding}')\n",
    "        if field.coding is not None and field.coding.name != 'data_coding_4':\n",
    "            print(f'\\t{field.coding.codes}')"
   ]
  },
  {
   "cell_type": "code",
   "execution_count": null,
   "id": "83f8f7ac",
   "metadata": {},
   "outputs": [],
   "source": [
    "fields_by_title = list(participant.find_fields(titles=['Sex', 'Date of birth']))\n",
    "print_field_list(fields_by_title)"
   ]
  },
  {
   "cell_type": "markdown",
   "id": "23aaf52c",
   "metadata": {},
   "source": [
    "### Where is field 'Date of Birth'? "
   ]
  },
  {
   "cell_type": "code",
   "execution_count": null,
   "id": "edded609",
   "metadata": {},
   "outputs": [],
   "source": [
    "print_field_list(list(participant.find_fields(names=['p33', 'p31'])))"
   ]
  },
  {
   "cell_type": "code",
   "execution_count": null,
   "id": "8bfda50d",
   "metadata": {},
   "outputs": [],
   "source": [
    "print_field_list(list(participant.find_fields(name_regex='(?i)p33')))"
   ]
  },
  {
   "cell_type": "code",
   "execution_count": null,
   "id": "57cc8a66",
   "metadata": {},
   "outputs": [],
   "source": [
    "print_field_list(list(participant.find_fields(title_regex='(?i)birth')))"
   ]
  },
  {
   "cell_type": "code",
   "execution_count": null,
   "id": "bae0a5fb",
   "metadata": {},
   "outputs": [],
   "source": [
    "fields_by_title_regex = list(participant.find_fields(title_regex='(?i)cholesterol|hdl|ldl|triglycerides|Age when attended assessment centre|treatment/medication code'))\n",
    "len(fields_by_title_regex)"
   ]
  },
  {
   "cell_type": "code",
   "execution_count": null,
   "id": "6210d178",
   "metadata": {},
   "outputs": [],
   "source": [
    "all_fields = fields_by_title + fields_by_title_regex\n",
    "print_field_list(all_fields)"
   ]
  },
  {
   "cell_type": "code",
   "execution_count": null,
   "id": "b05829cd",
   "metadata": {},
   "outputs": [],
   "source": [
    "drug_mapping = {k : field.coding.codes[str(k)] for field in all_fields\n",
    "    if field.coding is not None and field.coding.name == 'data_coding_4'\n",
    "        for k in [1140861958, 1140861970, 1140864592, 1140881748, 1140888594, 1140888648, 1140910632, 1140910654, 1141146138, 1141146234, 1141192410, 1141192414, 1141200040]}\n",
    "\n",
    "drug_mapping"
   ]
  },
  {
   "cell_type": "code",
   "execution_count": null,
   "id": "9c659331",
   "metadata": {},
   "outputs": [],
   "source": [
    "drug_mapping_df = pd.DataFrame.from_dict(drug_mapping, orient='index', columns=['drug_name']).rename_axis('drug_number').reset_index()\n",
    "\n",
    "drug_mapping_df"
   ]
  },
  {
   "cell_type": "markdown",
   "id": "25c9b9bc",
   "metadata": {},
   "source": [
    "## Retrieve the data "
   ]
  },
  {
   "cell_type": "code",
   "execution_count": null,
   "id": "765b0b67",
   "metadata": {},
   "outputs": [],
   "source": [
    "import time\n",
    "\n",
    "start = time.time()\n",
    "pheno_data = participant.retrieve_fields(engine=engine, fields=all_fields, coding_values='replace').toPandas()\n",
    "end = time.time()\n",
    "print(end - start)"
   ]
  },
  {
   "cell_type": "code",
   "execution_count": null,
   "id": "990e87b3",
   "metadata": {},
   "outputs": [],
   "source": [
    "pheno_data.shape"
   ]
  },
  {
   "cell_type": "code",
   "execution_count": null,
   "id": "b21eef5e",
   "metadata": {},
   "outputs": [],
   "source": [
    "# Uncomment to see row level data.\n",
    "#pheno_data.head()"
   ]
  },
  {
   "cell_type": "code",
   "execution_count": null,
   "id": "607feb6b",
   "metadata": {},
   "outputs": [],
   "source": [
    "pheno_data.columns"
   ]
  },
  {
   "cell_type": "markdown",
   "id": "00545256",
   "metadata": {},
   "source": [
    "### Construct improved column names "
   ]
  },
  {
   "cell_type": "code",
   "execution_count": null,
   "id": "0345b3e1",
   "metadata": {},
   "outputs": [],
   "source": [
    "col_names = {'eid': 'eid'}\n",
    "for field in sorted(all_fields, key=lambda fld: fld.name):\n",
    "    name = '_'.join([field.column_name, re.sub(' \\| Instance \\d', '', field.title).replace(' ', '_').replace('/', '_')])\n",
    "    if field.units is not None:\n",
    "        name += f'_{field.units.replace(' ', '_').replace(\"/\", \"_\")}'\n",
    "    print(name)\n",
    "    col_names[field.column_name] = name"
   ]
  },
  {
   "cell_type": "code",
   "execution_count": null,
   "id": "d42b451f",
   "metadata": {},
   "outputs": [],
   "source": [
    "pheno_data = pheno_data.rename(columns=col_names)"
   ]
  },
  {
   "cell_type": "code",
   "execution_count": null,
   "id": "58e8b345",
   "metadata": {},
   "outputs": [],
   "source": [
    "pheno_data.columns"
   ]
  },
  {
   "cell_type": "markdown",
   "id": "2715cc47",
   "metadata": {},
   "source": [
    "## Write out the data extract to a CSV "
   ]
  },
  {
   "cell_type": "code",
   "execution_count": null,
   "id": "ef4eaa50",
   "metadata": {},
   "outputs": [],
   "source": [
    "drug_mapping_df.to_csv('drug_mapping.csv', index=False)"
   ]
  },
  {
   "cell_type": "code",
   "execution_count": null,
   "id": "8dfedfab",
   "metadata": {},
   "outputs": [],
   "source": [
    "%%bash\n",
    "\n",
    "dx upload drug_mapping.csv"
   ]
  },
  {
   "cell_type": "code",
   "execution_count": null,
   "id": "3bbeb4c9",
   "metadata": {},
   "outputs": [],
   "source": [
    "pheno_data.to_csv('lipids.csv', index=False)"
   ]
  },
  {
   "cell_type": "code",
   "execution_count": null,
   "id": "f9252bac",
   "metadata": {},
   "outputs": [],
   "source": [
    "%%bash\n",
    "\n",
    "dx upload lipids.csv"
   ]
  },
  {
   "cell_type": "markdown",
   "id": "e9c3f956",
   "metadata": {},
   "source": [
    "# Provanance"
   ]
  },
  {
   "cell_type": "code",
   "execution_count": null,
   "id": "77f17d6e",
   "metadata": {},
   "outputs": [],
   "source": [
    "import datetime\n",
    "print(datetime.datetime.now())"
   ]
  },
  {
   "cell_type": "code",
   "execution_count": null,
   "id": "7c258577",
   "metadata": {},
   "outputs": [],
   "source": [
    "!pip3 freeze"
   ]
  },
  {
   "cell_type": "code",
   "execution_count": null,
   "id": "0ec396d7",
   "metadata": {},
   "outputs": [],
   "source": []
  }
 ],
 "metadata": {
  "kernelspec": {
   "display_name": "Python 3",
   "language": "python",
   "name": "python3"
  },
  "language_info": {
   "codemirror_mode": {
    "name": "ipython",
    "version": 3
   },
   "file_extension": ".py",
   "mimetype": "text/x-python",
   "name": "python",
   "nbconvert_exporter": "python",
   "pygments_lexer": "ipython3",
   "version": "3.6.5"
  }
 },
 "nbformat": 4,
 "nbformat_minor": 5
}

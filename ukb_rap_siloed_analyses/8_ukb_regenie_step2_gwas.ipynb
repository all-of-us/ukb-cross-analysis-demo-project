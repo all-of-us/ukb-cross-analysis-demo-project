{
 "cells": [
  {
   "cell_type": "markdown",
   "metadata": {},
   "source": [
    "# Run a GWAS via regenie step 1\n",
    "\n",
    "In this notebook, we perform a genome-wide association study using [regenie](https://rgcgithub.github.io/regenie/). This is step two of two."
   ]
  },
  {
   "cell_type": "markdown",
   "metadata": {},
   "source": [
    "# Setup \n",
    "\n",
    "\n",
    "<div class=\"alert alert-block alert-warning\">\n",
    "    <b>Cloud Environment</b>: This notebook was written for use on the UK Biobank Research Analysis Platform..\n",
    "    <ul>\n",
    "        <li>Use compute type 'Single Node' with sufficient CPU and RAM (e.g. start with 8 CPUs and 30 GB RAM, increase if needed).</li>\n",
    "        <li>This notebook can take a while to run. Recommend that it is run in the background via <kbd>dx run dxjupyterlab</kbd> which will also capture provenance.</li>\n",
    "    </ul>\n",
    "</div>\n",
    "\n",
    "```\n",
    "dx run dxjupyterlab \\\n",
    "    --instance-type=mem2_ssd1_v2_x8 \\\n",
    "    -icmd=\"papermill 8_ukb_regenie_step2_gwas.ipynb 8_ukb_regenie_step2_gwas_$(date +%Y%m%d).ipynb\" \\\n",
    "    -iin=8_ukb_regenie_step2_gwas.ipynb \\\n",
    "    -iduration=1440 \\\n",
    "    --folder=outputs/regenie-step-2/$(date +%Y%m%d)/\n",
    "```\n",
    "See also https://platform.dnanexus.com/app/dxjupyterlab"
   ]
  },
  {
   "cell_type": "code",
   "execution_count": null,
   "metadata": {},
   "outputs": [],
   "source": [
    "from datetime import datetime\n",
    "import os\n",
    "import pandas as pd\n",
    "import time"
   ]
  },
  {
   "cell_type": "markdown",
   "metadata": {},
   "source": [
    "## Setup regenie"
   ]
  },
  {
   "cell_type": "code",
   "execution_count": null,
   "metadata": {},
   "outputs": [],
   "source": [
    "%%bash\n",
    "\n",
    "REGENIE_VERSION=v2.2.4\n",
    "rm regenie.zip\n",
    "curl -L -o regenie.zip \"https://github.com/rgcgithub/regenie/releases/download/${REGENIE_VERSION}/regenie_${REGENIE_VERSION}.gz_x86_64_Linux.zip\"\n",
    "unzip -o regenie.zip"
   ]
  },
  {
   "cell_type": "code",
   "execution_count": null,
   "metadata": {},
   "outputs": [],
   "source": [
    "!./regenie_v2.2.4.gz_x86_64_Linux --version # --help"
   ]
  },
  {
   "cell_type": "markdown",
   "metadata": {},
   "source": [
    "## Define constants"
   ]
  },
  {
   "cell_type": "code",
   "execution_count": null,
   "metadata": {
    "tags": [
     "parameters"
    ]
   },
   "outputs": [],
   "source": [
    "# Papermill parameters. See https://papermill.readthedocs.io/en/latest/usage-parameterize.html\n",
    "\n",
    "# Inputs\n",
    "BED_FILE = '/mnt/project/outputs/plink-merge-bed/20211109/ukb_200kwes_filtered_plink_mergebed'\n",
    "REGENIE_STEP_1 = '/mnt/project/outputs/regenie-step-1/20211110/ukb_200kwes_lipids_regenie_step1_pred.list'\n",
    "REGENIE_PHENOTYPES = '/mnt/project/outputs/r-prepare-phenotype/20211110/ukb_200kwes_lipids_phenotypes.tsv'\n",
    "\n",
    "# Outputs\n",
    "REGENIE_OUTPUT_FILENAME_PREFIX = 'ukb_200kwes_lipids'"
   ]
  },
  {
   "cell_type": "markdown",
   "metadata": {},
   "source": [
    "# regenie step 2\n",
    "\n",
    "From https://rgcgithub.github.io/regenie/overview/:\n",
    "> In the second step, a larger set of genetic markers (e.g. imputed markers) are tested for association with the phenotype conditional upon the prediction from the regression model in Step 1, using a leave one chromosome out (LOCO) scheme, that avoids proximal contamination."
   ]
  },
  {
   "cell_type": "code",
   "execution_count": null,
   "metadata": {},
   "outputs": [],
   "source": [
    "!./regenie_v2.2.4.gz_x86_64_Linux \\\n",
    "    --step 2 \\\n",
    "    --bed={BED_FILE} \\\n",
    "    --phenoFile={REGENIE_PHENOTYPES} \\\n",
    "    --phenoColList=TC_adj_mg_dl_norm,LDL_adj_mg_dl_norm,HDL_mg_dl_norm,TG_log_mg_dl_norm \\\n",
    "    --covarFile={REGENIE_PHENOTYPES} \\\n",
    "    --catCovarList=sex \\\n",
    "    --covarColList=age,age2,PC1,PC2,PC3,PC4,PC5,PC6,PC7,PC8,PC9,PC10 \\\n",
    "    --firth 0.01 \\\n",
    "    --approx \\\n",
    "    --pred {REGENIE_STEP_1} \\\n",
    "    --bsize 400 \\\n",
    "    --out {REGENIE_OUTPUT_FILENAME_PREFIX}_regenie_step2"
   ]
  },
  {
   "cell_type": "code",
   "execution_count": null,
   "metadata": {},
   "outputs": [],
   "source": [
    "!ls -lth . | head"
   ]
  },
  {
   "cell_type": "markdown",
   "metadata": {},
   "source": [
    "# Provenance "
   ]
  },
  {
   "cell_type": "code",
   "execution_count": null,
   "metadata": {},
   "outputs": [],
   "source": [
    "%%bash\n",
    "\n",
    "date"
   ]
  },
  {
   "cell_type": "code",
   "execution_count": null,
   "metadata": {},
   "outputs": [],
   "source": [
    "%%bash\n",
    "\n",
    "pip3 freeze"
   ]
  }
 ],
 "metadata": {
  "kernelspec": {
   "display_name": "Python 3",
   "language": "python",
   "name": "python3"
  },
  "language_info": {
   "codemirror_mode": {
    "name": "ipython",
    "version": 3
   },
   "file_extension": ".py",
   "mimetype": "text/x-python",
   "name": "python",
   "nbconvert_exporter": "python",
   "pygments_lexer": "ipython3",
   "version": "3.6.5"
  },
  "toc": {
   "base_numbering": 1,
   "nav_menu": {},
   "number_sections": true,
   "sideBar": true,
   "skip_h1_title": false,
   "title_cell": "Table of Contents",
   "title_sidebar": "Contents",
   "toc_cell": false,
   "toc_position": {
    "height": "calc(100% - 180px)",
    "left": "10px",
    "top": "150px",
    "width": "355px"
   },
   "toc_section_display": true,
   "toc_window_display": true
  }
 },
 "nbformat": 4,
 "nbformat_minor": 4
}

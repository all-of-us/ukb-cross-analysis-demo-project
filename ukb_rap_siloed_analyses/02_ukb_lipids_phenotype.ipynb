{
 "cells": [
  {
   "cell_type": "markdown",
   "metadata": {},
   "source": [
    "# Prepare a lipids phenotype\n",
    "In this notebook, we use the UK Biobank phenotype data to prepare a lipids phenotype adjusted for statin use.\n",
    "  * https://biobank.ndph.ox.ac.uk/showcase/field.cgi?id=30690\n",
    "  * https://biobank.ndph.ox.ac.uk/showcase/field.cgi?id=30760\n",
    "  * https://biobank.ndph.ox.ac.uk/showcase/field.cgi?id=30780\n",
    "  * https://biobank.ndph.ox.ac.uk/showcase/field.cgi?id=30870\n",
    "\n",
    "Note that this work is part of a larger project to [Demonstrate the Potential for Pooled Analysis of All of Us and UK Biobank Genomic Data](https://github.com/all-of-us/ukb-cross-analysis-demo-project). Specifically this is for the portion of the project that is the **siloed** analysis."
   ]
  },
  {
   "cell_type": "markdown",
   "metadata": {},
   "source": [
    "# Setup\n",
    "\n",
    "<div class=\"alert alert-block alert-warning\">\n",
    "    <b>Cloud Environment</b>: This notebook was written for use on the UK Biobank Research Analysis Platform..\n",
    "    <ul>\n",
    "        <li>Use compute type 'Single Node' with sufficient CPU and RAM (e.g. start with 4 CPUs and 15 GB RAM, increase if needed).</li>\n",
    "        <li>This notebook is pretty fast, but in general it is recommended to be run in the background via <kbd>dx run dxjupyterlab</kbd> to capture provenance.</li>\n",
    "    </ul>\n",
    "</div>\n",
    "\n",
    "```\n",
    "dx run dxjupyterlab \\\n",
    "    --instance-type=mem2_ssd1_v2_x4 \\\n",
    "    -icmd=\"papermill 02_ukb_lipids_phenotype.ipynb 02_ukb_lipids_phenotype_$(date +%Y%m%d).ipynb\" \\\n",
    "    -iin=02_ukb_lipids_phenotype.ipynb \\\n",
    "    --folder=outputs/r-prepare-phenotype/$(date +%Y%m%d)/\n",
    "```\n",
    "See also https://platform.dnanexus.com/app/dxjupyterlab"
   ]
  },
  {
   "cell_type": "code",
   "execution_count": null,
   "metadata": {},
   "outputs": [],
   "source": [
    "lapply(c('lubridate', 'skimr', 'tidyverse'),\n",
    "       function(pkg) { if(! pkg %in% installed.packages()) { install.packages(pkg)} } )"
   ]
  },
  {
   "cell_type": "code",
   "execution_count": null,
   "metadata": {},
   "outputs": [],
   "source": [
    "library(lubridate)\n",
    "library(skimr)\n",
    "library(tidyverse)"
   ]
  },
  {
   "cell_type": "code",
   "execution_count": null,
   "metadata": {},
   "outputs": [],
   "source": [
    "## Plot setup.\n",
    "theme_set(theme_bw(base_size = 16)) # Default theme for plots.\n",
    "\n",
    "#' Returns a data frame with a y position and a label, for use annotating ggplot boxplots.\n",
    "#'\n",
    "#' @param d A data frame.\n",
    "#' @return A data frame with column y as max and column label as length.\n",
    "get_boxplot_fun_data <- function(df) {\n",
    "  return(data.frame(y = max(df), label = stringr::str_c('N = ', length(df))))\n",
    "}"
   ]
  },
  {
   "cell_type": "markdown",
   "metadata": {},
   "source": [
    "## Define constants"
   ]
  },
  {
   "cell_type": "code",
   "execution_count": null,
   "metadata": {
    "tags": [
     "parameters"
    ]
   },
   "outputs": [],
   "source": [
    "# Papermill parameters. See https://papermill.readthedocs.io/en/latest/usage-parameterize.html\n",
    "\n",
    "#---[ Inputs ]---\n",
    "# This was created via ukb_rap_siloed_analyses/01_ukb_lipids_phenotype_retrieval.ipynb\n",
    "DRUG_MAPPING = '/mnt/project/outputs/spark-pheno-retrieval/20220217/drug_mapping.csv'\n",
    "# This was created via ukb_rap_siloed_analyses/01_ukb_lipids_phenotype_retrieval.ipynb\n",
    "PHENO_DATA = '/mnt/project/outputs/spark-pheno-retrieval/20220217/lipids.csv'\n",
    "# This file was emailed by UK Biobank and manually uploaded to the RAP.\n",
    "WITHDRAWN_EIDS = '/mnt/project/w7089_20220222.csv'\n",
    "# Provided by UKB RAP.\n",
    "EXOME_EIDS = '/mnt/project/Bulk/Exome\\\\ sequences/Population\\\\ level\\\\ exome\\\\ OQFE\\\\ variants\\\\,\\\\ PLINK\\\\ format/ukb23155_c21_b0_v1.fam'\n",
    "\n",
    "#---[ Outputs ]---\n",
    "PHENOTYPE_FILENAME = 'ukb_200kwes_lipids_phenotype.tsv'"
   ]
  },
  {
   "cell_type": "markdown",
   "metadata": {},
   "source": [
    "## Retrieve and load the data"
   ]
  },
  {
   "cell_type": "code",
   "execution_count": null,
   "metadata": {},
   "outputs": [],
   "source": [
    "system(str_glue('cp {DRUG_MAPPING} .'), intern=TRUE)\n",
    "statin_drugs <- read_csv(basename(DRUG_MAPPING))"
   ]
  },
  {
   "cell_type": "code",
   "execution_count": null,
   "metadata": {},
   "outputs": [],
   "source": [
    "system(str_glue('cp {WITHDRAWN_EIDS} .'), intern=TRUE)\n",
    "withdrawn_eids <- read_tsv(basename(WITHDRAWN_EIDS), col_names = c('eid'))"
   ]
  },
  {
   "cell_type": "code",
   "execution_count": null,
   "metadata": {},
   "outputs": [],
   "source": [
    "system(str_glue('cp {EXOME_EIDS} .'), intern=TRUE)\n",
    "exome_eids <- read_delim(basename(EXOME_EIDS), delim = ' ', col_names = c('eid'))"
   ]
  },
  {
   "cell_type": "code",
   "execution_count": null,
   "metadata": {},
   "outputs": [],
   "source": [
    "head(exome_eids)"
   ]
  },
  {
   "cell_type": "code",
   "execution_count": null,
   "metadata": {},
   "outputs": [],
   "source": [
    "system(str_glue('cp {PHENO_DATA} .'), intern=TRUE)\n",
    "raw_pheno <- read_csv(basename(PHENO_DATA))"
   ]
  },
  {
   "cell_type": "code",
   "execution_count": null,
   "metadata": {},
   "outputs": [],
   "source": [
    "spec(raw_pheno)"
   ]
  },
  {
   "cell_type": "code",
   "execution_count": null,
   "metadata": {},
   "outputs": [],
   "source": [
    "#skim(raw_pheno)"
   ]
  },
  {
   "cell_type": "markdown",
   "metadata": {},
   "source": [
    "# Retain only participants with data in the 200k WES release"
   ]
  },
  {
   "cell_type": "code",
   "execution_count": null,
   "metadata": {},
   "outputs": [],
   "source": [
    "nrow(raw_pheno)"
   ]
  },
  {
   "cell_type": "code",
   "execution_count": null,
   "metadata": {},
   "outputs": [],
   "source": [
    "raw_pheno <- raw_pheno %>%\n",
    "    filter(eid %in% exome_eids$eid)"
   ]
  },
  {
   "cell_type": "code",
   "execution_count": null,
   "metadata": {},
   "outputs": [],
   "source": [
    "nrow(raw_pheno)"
   ]
  },
  {
   "cell_type": "markdown",
   "metadata": {},
   "source": [
    "# Subset to our fields of interest "
   ]
  },
  {
   "cell_type": "markdown",
   "metadata": {},
   "source": [
    "At this time, we are only interested in the first instance."
   ]
  },
  {
   "cell_type": "code",
   "execution_count": null,
   "metadata": {},
   "outputs": [],
   "source": [
    "pheno <- raw_pheno %>% select(eid, p31_Sex, contains('_i0_'))"
   ]
  },
  {
   "cell_type": "code",
   "execution_count": null,
   "metadata": {},
   "outputs": [],
   "source": [
    "skim(pheno)"
   ]
  },
  {
   "cell_type": "markdown",
   "metadata": {},
   "source": [
    "# Omit participants who have withdrawn from the study"
   ]
  },
  {
   "cell_type": "code",
   "execution_count": null,
   "metadata": {},
   "outputs": [],
   "source": [
    "nrow(pheno)"
   ]
  },
  {
   "cell_type": "code",
   "execution_count": null,
   "metadata": {},
   "outputs": [],
   "source": [
    "excluded <- raw_pheno %>%\n",
    "    filter(eid %in% withdrawn_eids$eid) %>%\n",
    "    select(eid) %>%\n",
    "    mutate(exclusion_reason = 'withdrawn from study')\n",
    "\n",
    "pheno <- pheno %>%\n",
    "    filter(!eid %in% excluded$eid)"
   ]
  },
  {
   "cell_type": "code",
   "execution_count": null,
   "metadata": {},
   "outputs": [],
   "source": [
    "nrow(pheno)"
   ]
  },
  {
   "cell_type": "markdown",
   "metadata": {},
   "source": [
    "# Examine the lipids data "
   ]
  },
  {
   "cell_type": "code",
   "execution_count": null,
   "metadata": {},
   "outputs": [],
   "source": [
    "table(pheno$p30692_i0_Cholesterol_aliquot, useNA = 'always')"
   ]
  },
  {
   "cell_type": "code",
   "execution_count": null,
   "metadata": {},
   "outputs": [],
   "source": [
    "pheno %>%\n",
    "    mutate(\n",
    "        missing = is.na(p30690_i0_Cholesterol_mmol_L)\n",
    "    ) %>%\n",
    "    group_by(pheno$p30693_i0_Cholesterol_correction_level, missing) %>%\n",
    "    summarize(count = n())"
   ]
  },
  {
   "cell_type": "code",
   "execution_count": null,
   "metadata": {},
   "outputs": [],
   "source": [
    "pheno %>%\n",
    "    mutate(\n",
    "        missing = is.na(p30690_i0_Cholesterol_mmol_L)\n",
    "    ) %>%\n",
    "    group_by(p30694_i0_Cholesterol_correction_reason, missing) %>%\n",
    "    summarize(count = n())"
   ]
  },
  {
   "cell_type": "code",
   "execution_count": null,
   "metadata": {},
   "outputs": [],
   "source": [
    "pheno %>%\n",
    "    mutate(\n",
    "        missing = is.na(p30690_i0_Cholesterol_mmol_L)\n",
    "    ) %>%\n",
    "    group_by(p30695_i0_Cholesterol_missing_reason, missing) %>%\n",
    "    summarize(count = n())"
   ]
  },
  {
   "cell_type": "markdown",
   "metadata": {},
   "source": [
    "## Plot the lipids data "
   ]
  },
  {
   "cell_type": "code",
   "execution_count": null,
   "metadata": {},
   "outputs": [],
   "source": [
    "options(repr.plot.height = 12, repr.plot.width = 16)\n",
    "\n",
    "pheno %>%\n",
    "    filter(!is.na(p21003_i0_Age_when_attended_assessment_centre_years)) %>%\n",
    "    ggplot(aes(x = cut_width(p21003_i0_Age_when_attended_assessment_centre_years, width = 10, boundary = 0), y = p30690_i0_Cholesterol_mmol_L)) +\n",
    "    geom_boxplot() +\n",
    "    stat_summary(fun.data = get_boxplot_fun_data, geom = 'text', size = 4,\n",
    "                 position = position_dodge(width = 0.9), vjust = -0.8) +\n",
    "    coord_flip() +\n",
    "    xlab('age') +\n",
    "    labs(title = str_glue('Instance 0 measurement per person, by age'),\n",
    "         caption = 'Source: UK Biobank data')"
   ]
  },
  {
   "cell_type": "markdown",
   "metadata": {},
   "source": [
    "Pivot the data for easier plotting."
   ]
  },
  {
   "cell_type": "code",
   "execution_count": null,
   "metadata": {},
   "outputs": [],
   "source": [
    "pheno_check_long <- pheno %>%\n",
    "    select(eid, p21003_i0_Age_when_attended_assessment_centre_years, ends_with('mmol_L')) %>%\n",
    "    pivot_longer(\n",
    "        cols = ends_with('mmol_L'),\n",
    "        names_to = c('instance', 'measurement'),\n",
    "        names_pattern = 'p\\\\d+_(i\\\\d+)_(.*)_mmol_L',\n",
    "        values_to = 'mmol_L') %>%\n",
    "    # Convert to units used by AoU measurements.\n",
    "    # Formula is from https://www.ncbi.nlm.nih.gov/books/NBK83505/\n",
    "    mutate(\n",
    "        mg_dl = case_when(\n",
    "            measurement == 'HDL_cholesterol' ~ mmol_L * 38.67,\n",
    "            measurement == 'Cholesterol' ~ mmol_L * 38.67,\n",
    "            measurement == 'LDL_direct' ~ mmol_L * 38.67,\n",
    "            measurement == 'Triglycerides' ~ mmol_L * 88.57,\n",
    "            TRUE ~ NA_real_\n",
    "        )\n",
    "    ) %>%\n",
    "    inner_join(\n",
    "      pheno %>%\n",
    "      select(eid, p21003_i0_Age_when_attended_assessment_centre_years, ends_with('correction_reason')) %>%\n",
    "      pivot_longer(\n",
    "          cols = ends_with('correction_reason'),\n",
    "          names_to = c('instance', 'measurement'),\n",
    "          names_pattern = 'p\\\\d+_(i\\\\d+)_(.*)_correction_reason',\n",
    "          values_to = 'correction_reason')) %>% \n",
    "    inner_join(\n",
    "      pheno %>%\n",
    "      select(eid, p21003_i0_Age_when_attended_assessment_centre_years, ends_with('missing_reason')) %>%\n",
    "      pivot_longer(\n",
    "          cols = ends_with('missing_reason'),\n",
    "          names_to = c('instance', 'measurement'),\n",
    "          names_pattern = 'p\\\\d+_(i\\\\d+)_(.*)_missing_reason',\n",
    "          values_to = 'missing_reason')) %>%\n",
    "    inner_join(\n",
    "      pheno %>%\n",
    "      select(eid, p21003_i0_Age_when_attended_assessment_centre_years, ends_with('correction_level')) %>%\n",
    "      pivot_longer(\n",
    "          cols = ends_with('correction_level'),\n",
    "          names_to = c('instance', 'measurement'),\n",
    "          names_pattern = 'p\\\\d+_(i\\\\d+)_(.*)_correction_level',\n",
    "          values_to = 'correction_level')) %>%\n",
    "    inner_join(\n",
    "      pheno %>%\n",
    "      select(eid, p21003_i0_Age_when_attended_assessment_centre_years, ends_with('aliquot')) %>%\n",
    "      pivot_longer(\n",
    "          cols = ends_with('aliquot'),\n",
    "          names_to = c('instance', 'measurement'),\n",
    "          names_pattern = 'p\\\\d+_(i\\\\d+)_(.*)_aliquot',\n",
    "          values_to = 'aliquot')) %>%\n",
    "    inner_join(\n",
    "      pheno %>%\n",
    "      select(eid, p21003_i0_Age_when_attended_assessment_centre_years, ends_with('reportability')) %>%\n",
    "      pivot_longer(\n",
    "          cols = ends_with('reportability'),\n",
    "          names_to = c('instance', 'measurement'),\n",
    "          names_pattern = 'p\\\\d+_(i\\\\d+)_(.*)_reportability',\n",
    "          values_to = 'reportability'))"
   ]
  },
  {
   "cell_type": "code",
   "execution_count": null,
   "metadata": {},
   "outputs": [],
   "source": [
    "# Check the result of the join.\n",
    "(dim(pheno_check_long))\n",
    "(nrow(pheno) * 4)\n",
    "stopifnot(nrow(pheno_check_long) == nrow(pheno) * 4)"
   ]
  },
  {
   "cell_type": "code",
   "execution_count": null,
   "metadata": {},
   "outputs": [],
   "source": [
    "# Uncomment the line below to see row level data.\n",
    "#head(pheno_check_long)"
   ]
  },
  {
   "cell_type": "code",
   "execution_count": null,
   "metadata": {},
   "outputs": [],
   "source": [
    "pheno_check_long %>%\n",
    "    filter(!is.na(mg_dl)) %>%\n",
    "    group_by(missing_reason) %>%\n",
    "    summarize(count = n())"
   ]
  },
  {
   "cell_type": "code",
   "execution_count": null,
   "metadata": {},
   "outputs": [],
   "source": [
    "pheno_check_long %>%\n",
    "    group_by(measurement) %>%\n",
    "    summarize(\n",
    "        count = n(),\n",
    "        missing = sum(is.na(mg_dl)),\n",
    "        median = median(mg_dl, na.rm = TRUE),\n",
    "        mean = mean(mg_dl, na.rm = TRUE),\n",
    "        stddev = sd(mg_dl, na.rm = TRUE)\n",
    "    )"
   ]
  },
  {
   "cell_type": "code",
   "execution_count": null,
   "metadata": {},
   "outputs": [],
   "source": [
    "options(repr.plot.height = 18, repr.plot.width = 16)\n",
    "\n",
    "pheno_check_long %>%\n",
    "    filter(!is.na(p21003_i0_Age_when_attended_assessment_centre_years)) %>%\n",
    "    ggplot(aes(x = cut_width(p21003_i0_Age_when_attended_assessment_centre_years, width = 15, boundary = 0), y = mg_dl)) +\n",
    "    geom_boxplot() +\n",
    "    stat_summary(fun.data = get_boxplot_fun_data, geom = 'text', size = 4,\n",
    "                 position = position_dodge(width = 0.9), vjust = -0.8) +\n",
    "    scale_y_continuous(breaks = scales::pretty_breaks(n = 10)) +\n",
    "#    scale_y_log10(breaks = scales::pretty_breaks(n = 10)) +  # Uncomment if the data looks skewed.\n",
    "    coord_flip() +\n",
    "    facet_wrap(~ measurement, nrow = length(unique(pheno_check_long$measurement)), scales = 'free_x') +\n",
    "    xlab('age') +\n",
    "    labs(title = str_glue('Instance 0 measurement per person, by age'),\n",
    "         caption = 'Source: UK Biobank data')"
   ]
  },
  {
   "cell_type": "markdown",
   "metadata": {},
   "source": [
    "# Determine statin use "
   ]
  },
  {
   "cell_type": "code",
   "execution_count": null,
   "metadata": {},
   "outputs": [],
   "source": [
    "pheno %>%\n",
    "    select(p20003_i0_Treatment_medication_code) %>%\n",
    "    filter(str_detect(p20003_i0_Treatment_medication_code, 'statin')) %>%\n",
    "    head()\n"
   ]
  },
  {
   "cell_type": "code",
   "execution_count": null,
   "metadata": {},
   "outputs": [],
   "source": [
    "statin_drugs"
   ]
  },
  {
   "cell_type": "code",
   "execution_count": null,
   "metadata": {},
   "outputs": [],
   "source": [
    "(statin_regex = str_c(statin_drugs$drug_name, collapse = '|'))"
   ]
  },
  {
   "cell_type": "code",
   "execution_count": null,
   "metadata": {},
   "outputs": [],
   "source": [
    "str_detect(pheno$p20003_i0_Treatment_medication_code[100], statin_regex)"
   ]
  },
  {
   "cell_type": "code",
   "execution_count": null,
   "metadata": {},
   "outputs": [],
   "source": [
    "pheno <- pheno %>%\n",
    "    mutate(\n",
    "        statin_use = case_when(\n",
    "            str_detect(p20003_i0_Treatment_medication_code, statin_regex) ~ 1,\n",
    "            TRUE ~ 0\n",
    "        )\n",
    "    )\n",
    "\n",
    "table(pheno$statin_use, useNA = 'always')"
   ]
  },
  {
   "cell_type": "markdown",
   "metadata": {},
   "source": [
    "# Add the age covariate"
   ]
  },
  {
   "cell_type": "code",
   "execution_count": null,
   "metadata": {},
   "outputs": [],
   "source": [
    "table(pheno$p21003_i0_Age_when_attended_assessment_centre_years, useNA='always')"
   ]
  },
  {
   "cell_type": "code",
   "execution_count": null,
   "metadata": {},
   "outputs": [],
   "source": [
    "nrow(pheno)"
   ]
  },
  {
   "cell_type": "code",
   "execution_count": null,
   "metadata": {},
   "outputs": [],
   "source": [
    "excluded <- bind_rows(\n",
    "    excluded,\n",
    "    raw_pheno %>%\n",
    "        filter(is.na(p21003_i0_Age_when_attended_assessment_centre_years)) %>%\n",
    "        select(eid) %>%\n",
    "        mutate(exclusion_reason = 'null age')\n",
    "    )\n",
    "\n",
    "pheno <- pheno %>%\n",
    "    filter(!eid %in% excluded$eid) %>%\n",
    "    mutate(\n",
    "        age = p21003_i0_Age_when_attended_assessment_centre_years,\n",
    "        age2 = age ^2\n",
    "    )"
   ]
  },
  {
   "cell_type": "code",
   "execution_count": null,
   "metadata": {},
   "outputs": [],
   "source": [
    "nrow(pheno)"
   ]
  },
  {
   "cell_type": "code",
   "execution_count": null,
   "metadata": {},
   "outputs": [],
   "source": [
    "table(pheno$age, useNA='always')"
   ]
  },
  {
   "cell_type": "code",
   "execution_count": null,
   "metadata": {},
   "outputs": [],
   "source": [
    "table(pheno$age2, useNA='always')"
   ]
  },
  {
   "cell_type": "markdown",
   "metadata": {},
   "source": [
    "# Add the sex covariate"
   ]
  },
  {
   "cell_type": "code",
   "execution_count": null,
   "metadata": {},
   "outputs": [],
   "source": [
    "table(pheno$p31_Sex, useNA='always')"
   ]
  },
  {
   "cell_type": "code",
   "execution_count": null,
   "metadata": {},
   "outputs": [],
   "source": [
    "nrow(pheno)"
   ]
  },
  {
   "cell_type": "code",
   "execution_count": null,
   "metadata": {},
   "outputs": [],
   "source": [
    "excluded <- bind_rows(\n",
    "    excluded,\n",
    "    raw_pheno %>%\n",
    "        filter(is.na(p31_Sex)) %>%\n",
    "        select(eid) %>%\n",
    "        mutate(exclusion_reason = 'null sex')\n",
    "    )\n",
    "\n",
    "pheno <- pheno %>%\n",
    "    filter(!eid %in% excluded$eid)"
   ]
  },
  {
   "cell_type": "code",
   "execution_count": null,
   "metadata": {},
   "outputs": [],
   "source": [
    "nrow(pheno)"
   ]
  },
  {
   "cell_type": "code",
   "execution_count": null,
   "metadata": {},
   "outputs": [],
   "source": [
    "table(pheno$p31_Sex, useNA='always')"
   ]
  },
  {
   "cell_type": "markdown",
   "metadata": {},
   "source": [
    "# Prepare the lipid phenotypes"
   ]
  },
  {
   "cell_type": "code",
   "execution_count": null,
   "metadata": {},
   "outputs": [],
   "source": [
    "nrow(pheno)"
   ]
  },
  {
   "cell_type": "markdown",
   "metadata": {},
   "source": [
    "Retain only participants with at least one lipid value."
   ]
  },
  {
   "cell_type": "code",
   "execution_count": null,
   "metadata": {},
   "outputs": [],
   "source": [
    "excluded <- bind_rows(\n",
    "    excluded,\n",
    "    raw_pheno %>%\n",
    "        filter(is.na(p30690_i0_Cholesterol_mmol_L)\n",
    "               & is.na(p30780_i0_LDL_direct_mmol_L)\n",
    "               & is.na(p30760_i0_HDL_cholesterol_mmol_L)\n",
    "               & is.na(p30870_i0_Triglycerides_mmol_L)) %>%\n",
    "        select(eid) %>%\n",
    "        mutate(exclusion_reason = 'all null lipids')\n",
    "    )\n",
    "    \n",
    "pheno <- pheno %>%\n",
    "    filter(!eid %in% excluded$eid)"
   ]
  },
  {
   "cell_type": "code",
   "execution_count": null,
   "metadata": {},
   "outputs": [],
   "source": [
    "nrow(pheno)"
   ]
  },
  {
   "cell_type": "markdown",
   "metadata": {},
   "source": [
    "## Convert to md/dL\n",
    "\n",
    "Convert from mmol/L to mg/dL. Formula is from https://www.ncbi.nlm.nih.gov/books/NBK83505/"
   ]
  },
  {
   "cell_type": "code",
   "execution_count": null,
   "metadata": {},
   "outputs": [],
   "source": [
    "pheno <- pheno %>%\n",
    "    mutate(\n",
    "        TC_mg_dl = p30690_i0_Cholesterol_mmol_L * 38.67,\n",
    "        LDL_mg_dl = p30780_i0_LDL_direct_mmol_L * 38.67,\n",
    "        HDL_mg_dl = p30760_i0_HDL_cholesterol_mmol_L * 38.67,\n",
    "        TG_mg_dl = p30870_i0_Triglycerides_mmol_L * 88.57\n",
    "    )"
   ]
  },
  {
   "cell_type": "markdown",
   "metadata": {},
   "source": [
    "## Adjust for statin use"
   ]
  },
  {
   "cell_type": "markdown",
   "metadata": {},
   "source": [
    "1.\tLDL adjustment based on TG/LDL values \n",
    "  1.\t`If TG > 400, then LDL = NA`\n",
    "  2.\t`If LDL < 10, then LDL = NA`\n",
    "2.\tLDL and TC adjustment based on Statin (Lipid lowering medication)\n",
    "  1.\t`If STATIN is used, LDL_ADJ = LDL/0.7`\n",
    "  2.\t`If STATIN is used, TOTAL_ADJ = TC/0.8`\n",
    "3.\tTG adjustment\n",
    "  1.\t`TG_LOG = log(TG)`"
   ]
  },
  {
   "cell_type": "code",
   "execution_count": null,
   "metadata": {},
   "outputs": [],
   "source": [
    "pheno <- pheno %>%\n",
    "    mutate(\n",
    "        LDL_adj_mg_dl = case_when(\n",
    "            TG_mg_dl > 400 ~ NA_real_,\n",
    "            LDL_mg_dl < 10 ~ NA_real_,\n",
    "            statin_use == 1 ~ LDL_mg_dl / 0.7,\n",
    "            TRUE ~ LDL_mg_dl\n",
    "        ),\n",
    "        TC_adj_mg_dl = ifelse(statin_use == 1, TC_mg_dl / 0.8, TC_mg_dl),\n",
    "        TG_log_mg_dl = log(TG_mg_dl)\n",
    "    )"
   ]
  },
  {
   "cell_type": "code",
   "execution_count": null,
   "metadata": {},
   "outputs": [],
   "source": [
    "skim(pheno)"
   ]
  },
  {
   "cell_type": "markdown",
   "metadata": {},
   "source": [
    "## Plot the adjusted lipids"
   ]
  },
  {
   "cell_type": "markdown",
   "metadata": {},
   "source": [
    "Pivot the data for easier plotting."
   ]
  },
  {
   "cell_type": "code",
   "execution_count": null,
   "metadata": {},
   "outputs": [],
   "source": [
    "pheno_long <- pheno %>%\n",
    "    select(eid, age, age2, p31_Sex, ends_with('mg_dl')) %>%\n",
    "    pivot_longer(\n",
    "        cols = ends_with('mg_dl'),\n",
    "        names_to = c('measurement'),\n",
    "        names_pattern = '(.*)_mg_dl',\n",
    "        values_to = 'mg_dl')"
   ]
  },
  {
   "cell_type": "code",
   "execution_count": null,
   "metadata": {},
   "outputs": [],
   "source": [
    "pheno_long %>%\n",
    "    group_by(measurement) %>%\n",
    "    summarize(\n",
    "        count = n(),\n",
    "        missing = sum(is.na(mg_dl)),\n",
    "        median = median(mg_dl, na.rm = TRUE),\n",
    "        mean = mean(mg_dl, na.rm = TRUE),\n",
    "        stddev = sd(mg_dl, na.rm = TRUE)\n",
    "    )"
   ]
  },
  {
   "cell_type": "code",
   "execution_count": null,
   "metadata": {},
   "outputs": [],
   "source": [
    "options(repr.plot.height = 24, repr.plot.width = 16)\n",
    "\n",
    "pheno_long %>%\n",
    "    ggplot(aes(x = cut_width(age, width = 15, boundary = 0), y = mg_dl)) +\n",
    "    geom_boxplot() +\n",
    "    stat_summary(fun.data = get_boxplot_fun_data, geom = 'text', size = 4,\n",
    "                 position = position_dodge(width = 0.9), vjust = -0.8) +\n",
    "    scale_y_continuous(breaks = scales::pretty_breaks(n = 10)) +\n",
    "#    scale_y_log10(breaks = scales::pretty_breaks(n = 10)) +  # Uncomment if the data looks skewed.\n",
    "    coord_flip() +\n",
    "    facet_wrap(~ measurement, nrow = length(unique(pheno_long$measurement)), scales = 'free_x') +\n",
    "    xlab('age') +\n",
    "    labs(title = str_glue('Instance 0 measurement per person, by age'),\n",
    "         caption = 'Source: UK Biobank data')"
   ]
  },
  {
   "cell_type": "markdown",
   "metadata": {},
   "source": [
    "# Check our exclusions"
   ]
  },
  {
   "cell_type": "code",
   "execution_count": null,
   "metadata": {},
   "outputs": [],
   "source": [
    "excluded %>%\n",
    "    group_by(eid) %>%\n",
    "    mutate(\n",
    "        exclusion_reasons = str_c(exclusion_reason, collapse = ', ')\n",
    "    ) %>%\n",
    "    group_by(exclusion_reasons) %>%\n",
    "    summarize(\n",
    "        count = n()\n",
    "    )"
   ]
  },
  {
   "cell_type": "code",
   "execution_count": null,
   "metadata": {},
   "outputs": [],
   "source": [
    "stopifnot(nrow(pheno) == nrow(raw_pheno) - length(unique(excluded$eid)))"
   ]
  },
  {
   "cell_type": "markdown",
   "metadata": {},
   "source": [
    "# Retain only needed columns\n",
    "\n",
    "Also rename and reorder them per regenie's requirements."
   ]
  },
  {
   "cell_type": "code",
   "execution_count": null,
   "metadata": {},
   "outputs": [],
   "source": [
    "pheno <- pheno %>%\n",
    "    select(FID=eid, IID=eid, sex=p31_Sex, age, age2, statin_use, TC_mg_dl, LDL_mg_dl, HDL_mg_dl,\n",
    "           TG_mg_dl, LDL_adj_mg_dl, TC_adj_mg_dl, TG_log_mg_dl)"
   ]
  },
  {
   "cell_type": "code",
   "execution_count": null,
   "metadata": {},
   "outputs": [],
   "source": [
    "skim(pheno)"
   ]
  },
  {
   "cell_type": "markdown",
   "metadata": {},
   "source": [
    "# Write the prepared phenotype to a file"
   ]
  },
  {
   "cell_type": "code",
   "execution_count": null,
   "metadata": {},
   "outputs": [],
   "source": [
    "write_tsv(pheno, PHENOTYPE_FILENAME)"
   ]
  },
  {
   "cell_type": "markdown",
   "metadata": {},
   "source": [
    "# Provenance "
   ]
  },
  {
   "cell_type": "code",
   "execution_count": null,
   "metadata": {},
   "outputs": [],
   "source": [
    "devtools::session_info()"
   ]
  }
 ],
 "metadata": {
  "kernelspec": {
   "display_name": "R",
   "language": "R",
   "name": "ir"
  },
  "language_info": {
   "codemirror_mode": "r",
   "file_extension": ".r",
   "mimetype": "text/x-r-source",
   "name": "R",
   "pygments_lexer": "r",
   "version": "3.6.3"
  }
 },
 "nbformat": 4,
 "nbformat_minor": 4
}

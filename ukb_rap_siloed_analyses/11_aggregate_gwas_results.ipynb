{
 "cells": [
  {
   "cell_type": "markdown",
   "metadata": {},
   "source": [
    "# Aggregate GWAS results\n",
    "\n",
    "In this notebook we modify our GWAS results per the *All of Us* Researcher workbench data dissemination rules:\n",
    "\n",
    "> Researchers must comply with the All of Us Data and Statistics Policy (detailed in full on https://www.researchallofus.org/data-tools/data-access/), which prevents download or dissemination of any data or statistics that allow a participant count of 1 to 20 to be derived. For this reason, researchers are prohibited from downloading or distributing results with allele counts <40 without an exemption. Researchers may apply for an exemption by contacting support@researchallofus.org.\n",
    "\n",
    "Note that this work is part of a larger project to [Demonstrate the Potential for Pooled Analysis of All of Us and UK Biobank Genomic Data](https://github.com/all-of-us/ukb-cross-analysis-demo-project). Specifically this is for the portion of the project that is the **siloed** analysis."
   ]
  },
  {
   "cell_type": "markdown",
   "metadata": {},
   "source": [
    "# Setup\n",
    "\n",
    "<div class=\"alert alert-block alert-warning\">\n",
    "    <b>Cloud Environment</b>: This notebook was written for use on the UK Biobank Research Analysis Platform.\n",
    "    <ul>\n",
    "        <li>Use compute type 'Single Node' with sufficient CPU and RAM (e.g. start with 4 CPUs and 15 GB RAM, increase if needed).</li>\n",
    "        <li>This notebook is pretty fast, but in general it is recommended to be run in the background via <kbd>dx run dxjupyterlab</kbd> to capture provenance.</li>\n",
    "    </ul>\n",
    "</div>\n",
    "\n",
    "```\n",
    "dx run dxjupyterlab \\\n",
    "    --instance-type=mem2_ssd1_v2_x4 \\\n",
    "    -icmd=\"papermill 11_aggregate_gwas_results.ipynb 11_aggregate_gwas_results_$(date +%Y%m%d).ipynb\" \\\n",
    "    -iin=11_aggregate_gwas_results.ipynb \\\n",
    "    --folder=outputs/aggregate-gwas-results/$(date +%Y%m%d)/\n",
    "```\n",
    "See also https://platform.dnanexus.com/app/dxjupyterlab"
   ]
  },
  {
   "cell_type": "code",
   "execution_count": null,
   "metadata": {},
   "outputs": [],
   "source": [
    "lapply(c('tidyverse'), function(pkg) { if(! pkg %in% installed.packages()) { install.packages(pkg) } } )"
   ]
  },
  {
   "cell_type": "code",
   "execution_count": null,
   "metadata": {},
   "outputs": [],
   "source": [
    "library(tidyverse)"
   ]
  },
  {
   "cell_type": "markdown",
   "metadata": {},
   "source": [
    "# Constants"
   ]
  },
  {
   "cell_type": "code",
   "execution_count": null,
   "metadata": {
    "tags": [
     "parameters"
    ]
   },
   "outputs": [],
   "source": [
    "# Papermill parameters. See https://papermill.readthedocs.io/en/latest/usage-parameterize.html\n",
    "\n",
    "# Created via notebook aou_workbench_siloed_analyses/06_aou_regenie_gwas.ipynb\n",
    "REGENIE_RESULTS <- c(\n",
    "    HDL='/mnt/project/outputs/regenie-step-2/20220426/ukb_200kwes_lipids_regenie_step2_HDL_mg_dl_norm.regenie',\n",
    "    LDL='/mnt/project/outputs/regenie-step-2/20220426/ukb_200kwes_lipids_regenie_step2_LDL_adj_mg_dl_norm.regenie',\n",
    "    TC='/mnt/project/outputs/regenie-step-2/20220426/ukb_200kwes_lipids_regenie_step2_TC_adj_mg_dl_norm.regenie',\n",
    "    TG='/mnt/project/outputs/regenie-step-2/20220426/ukb_200kwes_lipids_regenie_step2_TG_log_mg_dl_norm.regenie'\n",
    ")\n",
    "\n",
    "LIPIDS <- names(REGENIE_RESULTS)\n",
    "\n",
    "RAW_FILE_SUFFIX <- '.regenie'\n",
    "AGGREGATE_FILE_SUFFIX <- '_aggregated.tsv'"
   ]
  },
  {
   "cell_type": "markdown",
   "metadata": {},
   "source": [
    "# Copy the inputs locally\n",
    "\n",
    "For some reason `read_csv`, `read_delim`, and `read_tsv` return errors when reading from the project mounted location."
   ]
  },
  {
   "cell_type": "code",
   "execution_count": null,
   "metadata": {},
   "outputs": [],
   "source": [
    "for (result in REGENIE_RESULTS) {\n",
    "    system(str_glue('cp -v {result} .'), intern=TRUE)\n",
    "}"
   ]
  },
  {
   "cell_type": "markdown",
   "metadata": {},
   "source": [
    "# Load the regenie GWAS results"
   ]
  },
  {
   "cell_type": "markdown",
   "metadata": {},
   "source": [
    "Bring our results into a single dataframe with a lipid type column."
   ]
  },
  {
   "cell_type": "code",
   "execution_count": null,
   "metadata": {},
   "outputs": [],
   "source": [
    "combined_regenie_results <- bind_rows(\n",
    "    lapply(LIPIDS, function(lipid) {\n",
    "        file = REGENIE_RESULTS[lipid]\n",
    "        read_delim(basename(file), delim = ' ') %>%\n",
    "        mutate(lipid_type = lipid)\n",
    "    })) %>%\n",
    "    mutate(\n",
    "        AN = 2 * N,\n",
    "        AC_alt = A1FREQ * AN,\n",
    "        AC_ref = (1 - A1FREQ) * AN\n",
    "    )\n",
    "\n",
    "dim(combined_regenie_results)"
   ]
  },
  {
   "cell_type": "code",
   "execution_count": null,
   "metadata": {},
   "outputs": [],
   "source": [
    "head(combined_regenie_results)"
   ]
  },
  {
   "cell_type": "code",
   "execution_count": null,
   "metadata": {},
   "outputs": [],
   "source": [
    "combined_regenie_results %>%\n",
    "    group_by(lipid_type) %>%\n",
    "    summarize(\n",
    "        count = n(),\n",
    "        min_LOG10P = min(LOG10P),\n",
    "        max_LOG10P = max(LOG10P),\n",
    "        min_A1FREQ = min(A1FREQ),\n",
    "        max_A1FREQ = max(A1FREQ),\n",
    "        min_N = min(N),\n",
    "        max_N = max(N),\n",
    "        min_AC_alt = min(AC_alt),\n",
    "        max_AC_alt = max(AC_alt),\n",
    "        min_AC_ref = min(AC_ref),\n",
    "        max_AC_ref = max(AC_ref),\n",
    "    )"
   ]
  },
  {
   "cell_type": "markdown",
   "metadata": {},
   "source": [
    "## How many significant results will be removed from the aggregate?"
   ]
  },
  {
   "cell_type": "code",
   "execution_count": null,
   "metadata": {},
   "outputs": [],
   "source": [
    "combined_regenie_results %>%\n",
    "    mutate(\n",
    "        significant = LOG10P > -log10(5e-08),\n",
    "        group_size_threshold = ifelse(AC_alt < 40 | AC_ref < 40,\n",
    "                                      'below minimum group size threshold',\n",
    "                                      'meets group size threshold'),\n",
    "    ) %>%\n",
    "    group_by(lipid_type, significant, group_size_threshold) %>%\n",
    "    summarize(count = n())"
   ]
  },
  {
   "cell_type": "markdown",
   "metadata": {},
   "source": [
    "# Filter to ensure at least 20 individuals have the variant"
   ]
  },
  {
   "cell_type": "code",
   "execution_count": null,
   "metadata": {},
   "outputs": [],
   "source": [
    "aggregate_regenie_results <- combined_regenie_results %>%\n",
    "    filter(AC_alt >= 40 & AC_ref >= 40)"
   ]
  },
  {
   "cell_type": "code",
   "execution_count": null,
   "metadata": {},
   "outputs": [],
   "source": [
    "aggregate_regenie_results %>%\n",
    "    group_by(lipid_type) %>%\n",
    "    summarize(\n",
    "        count = n(),\n",
    "        min_LOG10P = min(LOG10P),\n",
    "        max_LOG10P = max(LOG10P),\n",
    "        min_A1FREQ = min(A1FREQ),\n",
    "        max_A1FREQ = max(A1FREQ),\n",
    "        min_N = min(N),\n",
    "        max_N = max(N),\n",
    "        min_AC_alt = min(AC_alt),\n",
    "        max_AC_alt = max(AC_alt),\n",
    "        min_AC_ref = min(AC_ref),\n",
    "        max_AC_ref = max(AC_ref),\n",
    "    )"
   ]
  },
  {
   "cell_type": "markdown",
   "metadata": {},
   "source": [
    "# Write out the aggregate data to local disk"
   ]
  },
  {
   "cell_type": "code",
   "execution_count": null,
   "metadata": {},
   "outputs": [],
   "source": [
    "for (lipid in LIPIDS) {\n",
    "    input_file <- REGENIE_RESULTS[lipid]\n",
    "    output_file <- input_file %>%\n",
    "        str_replace('/mnt/project/outputs/', '') %>%\n",
    "        str_replace_all('/', '_') %>%\n",
    "        str_replace(str_glue('{RAW_FILE_SUFFIX}$'), AGGREGATE_FILE_SUFFIX)\n",
    "    message(str_glue('Aggregating results from {input_file} to {output_file}'))\n",
    "    stopifnot('output filename must be different from input filename' =\n",
    "              output_file != input_file)\n",
    "    write_tsv(aggregate_regenie_results %>% filter(lipid_type == lipid), output_file)\n",
    "}"
   ]
  },
  {
   "cell_type": "markdown",
   "metadata": {},
   "source": [
    "# Now you can download these files!\n",
    "\n",
    "**Be sure to download the aggregated TSV files**, not the .regenie files with the raw results."
   ]
  },
  {
   "cell_type": "markdown",
   "metadata": {},
   "source": [
    "# Provenance "
   ]
  },
  {
   "cell_type": "code",
   "execution_count": null,
   "metadata": {},
   "outputs": [],
   "source": [
    "devtools::session_info()"
   ]
  }
 ],
 "metadata": {
  "kernelspec": {
   "display_name": "R",
   "language": "R",
   "name": "ir"
  },
  "language_info": {
   "codemirror_mode": "r",
   "file_extension": ".r",
   "mimetype": "text/x-r-source",
   "name": "R",
   "pygments_lexer": "r",
   "version": "3.6.3"
  },
  "toc": {
   "base_numbering": 1,
   "nav_menu": {},
   "number_sections": true,
   "sideBar": true,
   "skip_h1_title": false,
   "title_cell": "Table of Contents",
   "title_sidebar": "Contents",
   "toc_cell": false,
   "toc_position": {
    "height": "calc(100% - 180px)",
    "left": "10px",
    "top": "150px",
    "width": "301.989px"
   },
   "toc_section_display": true,
   "toc_window_display": true
  }
 },
 "nbformat": 4,
 "nbformat_minor": 4
}
